{
  "nbformat": 4,
  "nbformat_minor": 0,
  "metadata": {
    "colab": {
      "name": "machine_learning_ch5.ipynb",
      "provenance": [],
      "authorship_tag": "ABX9TyMzaVUPF0bukHtf9Dz5FndI",
      "include_colab_link": true
    },
    "kernelspec": {
      "name": "python3",
      "display_name": "Python 3"
    }
  },
  "cells": [
    {
      "cell_type": "markdown",
      "metadata": {
        "id": "view-in-github",
        "colab_type": "text"
      },
      "source": [
        "<a href=\"https://colab.research.google.com/github/silverstar0727/1day-1commit-challenge/blob/master/machine_learning_ch5.ipynb\" target=\"_parent\"><img src=\"https://colab.research.google.com/assets/colab-badge.svg\" alt=\"Open In Colab\"/></a>"
      ]
    },
    {
      "cell_type": "markdown",
      "metadata": {
        "id": "NhlPNjY9Bakw",
        "colab_type": "text"
      },
      "source": [
        "http://bitly.kr/TtC4WWlw 참고"
      ]
    },
    {
      "cell_type": "code",
      "metadata": {
        "id": "qz57_s1QdH2b",
        "colab_type": "code",
        "colab": {}
      },
      "source": [
        "# 데이터 불러오기\n",
        "import pandas as pd \n",
        "df_wine = pd.read_csv('https://archive.ics.uci.edu/ml/'\n",
        "'machine-learning-databases/wine/wine.data', header = None)"
      ],
      "execution_count": 0,
      "outputs": []
    },
    {
      "cell_type": "code",
      "metadata": {
        "id": "cq8zO4uWifiq",
        "colab_type": "code",
        "colab": {}
      },
      "source": [
        "# wine 데이터셋 나누기 7:3\n",
        "from sklearn.model_selection import train_test_split\n",
        "\n",
        "X,y = df_wine.iloc[:, 1:].values, df_wine.iloc[:,0].values\n",
        "X_train, X_test, y_train, y_test = \\\n",
        "train_test_split(X, y, test_size = 0.3, stratify = y, random_state = 0) # stratify는 dataset안의 클래스 비율설정을 함\n",
        "\n",
        "# 표준화\n",
        "from sklearn.preprocessing import StandardScaler\n",
        "\n",
        "sc = StandardScaler()\n",
        "X_train_std = sc.fit_transform(X_train)\n",
        "X_test_std = sc.fit_transform(X_test)"
      ],
      "execution_count": 0,
      "outputs": []
    },
    {
      "cell_type": "markdown",
      "metadata": {
        "id": "bidgAJYhlJwR",
        "colab_type": "text"
      },
      "source": [
        "![image.png](data:image/png;base64,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)"
      ]
    },
    {
      "cell_type": "markdown",
      "metadata": {
        "id": "hLmMJBBJnhnq",
        "colab_type": "text"
      },
      "source": [
        "### 고윳값과 고유벡터\n",
        "정방행렬 A에 대해 벡터 v와 실수r을 찾을 수 있다고 가정,\n",
        ">Av = rv \n",
        "\n",
        "를 만족하는 r을 고윳값(eigenvalue) v를 고유벡터(eigenvector) 라고한다.\n",
        "\n",
        "### 고윳값 고유벡터 구하는법\n",
        "특성방정식(characteristic equation)의 해를 구하면됨\n",
        "> det(A-rI) = 0 (I는 단위행렬)\n"
      ]
    },
    {
      "cell_type": "code",
      "metadata": {
        "id": "E_Kt95CXi3l9",
        "colab_type": "code",
        "outputId": "f6a39df6-dc9c-46fd-cd1b-d3a2b5c01c27",
        "colab": {
          "base_uri": "https://localhost:8080/",
          "height": 107
        }
      },
      "source": [
        "# 넘파이의 cov를 사용하여 13개 요소에 대한 공분산행렬 생성\n",
        "# linalg.eig를 사용하여 고윳값 분해\n",
        "# http://bitly.kr/31n4UFSU 참조\n",
        "import numpy as np\n",
        "\n",
        "cov_mat = np.cov(X_train_std.T)\n",
        "eigen_vals, eigen_vecs = np.linalg.eig(cov_mat)\n",
        "print('\\n고윳값 \\n%s' %eigen_vals)"
      ],
      "execution_count": 0,
      "outputs": [
        {
          "output_type": "stream",
          "text": [
            "\n",
            "고윳값 \n",
            "[4.84274532 2.41602459 1.54845825 0.96120438 0.84166161 0.6620634\n",
            " 0.51828472 0.34650377 0.3131368  0.10754642 0.21357215 0.15362835\n",
            " 0.1808613 ]\n"
          ],
          "name": "stdout"
        }
      ]
    },
    {
      "cell_type": "code",
      "metadata": {
        "id": "ouBLa3eFk1F3",
        "colab_type": "code",
        "outputId": "14767c93-7baf-4ba8-d0a0-86c6cb0c6f33",
        "colab": {
          "base_uri": "https://localhost:8080/",
          "height": 719
        }
      },
      "source": [
        "np.cov(X_train_std.T)"
      ],
      "execution_count": 0,
      "outputs": [
        {
          "output_type": "execute_result",
          "data": {
            "text/plain": [
              "array([[ 1.00813008,  0.06709556,  0.17405351, -0.35439069,  0.26374703,\n",
              "         0.29079481,  0.21835807, -0.08111974,  0.10436705,  0.54282846,\n",
              "         0.05893536, -0.01797029,  0.6415292 ],\n",
              "       [ 0.06709556,  1.00813008,  0.08326463,  0.26356776, -0.11349172,\n",
              "        -0.33735555, -0.41035281,  0.33653916, -0.21602672,  0.17504154,\n",
              "        -0.551593  , -0.40561695, -0.24089991],\n",
              "       [ 0.17405351,  0.08326463,  1.00813008,  0.46420355,  0.29092834,\n",
              "         0.18020384,  0.15537535,  0.15918823, -0.00703776,  0.20549146,\n",
              "         0.00665422,  0.02039019,  0.223495  ],\n",
              "       [-0.35439069,  0.26356776,  0.46420355,  1.00813008, -0.07406447,\n",
              "        -0.28060672, -0.31391899,  0.31581353, -0.24621059, -0.08872685,\n",
              "        -0.22595587, -0.16799906, -0.46393412],\n",
              "       [ 0.26374703, -0.11349172,  0.29092834, -0.07406447,  1.00813008,\n",
              "         0.25667578,  0.21025773, -0.26003426,  0.19601657,  0.20606456,\n",
              "         0.13359768,  0.06633258,  0.41810999],\n",
              "       [ 0.29079481, -0.33735555,  0.18020384, -0.28060672,  0.25667578,\n",
              "         1.00813008,  0.87123661, -0.44979792,  0.62334099, -0.05689854,\n",
              "         0.50664086,  0.71978745,  0.52986924],\n",
              "       [ 0.21835807, -0.41035281,  0.15537535, -0.31391899,  0.21025773,\n",
              "         0.87123661,  1.00813008, -0.54824079,  0.64800868, -0.15864896,\n",
              "         0.60417124,  0.79319622,  0.52836141],\n",
              "       [-0.08111974,  0.33653916,  0.15918823,  0.31581353, -0.26003426,\n",
              "        -0.44979792, -0.54824079,  1.00813008, -0.39989328,  0.19810581,\n",
              "        -0.36629252, -0.57622953, -0.34099709],\n",
              "       [ 0.10436705, -0.21602672, -0.00703776, -0.24621059,  0.19601657,\n",
              "         0.62334099,  0.64800868, -0.39989328,  1.00813008, -0.00330144,\n",
              "         0.32019524,  0.50615495,  0.32976133],\n",
              "       [ 0.54282846,  0.17504154,  0.20549146, -0.08872685,  0.20606456,\n",
              "        -0.05689854, -0.15864896,  0.19810581, -0.00330144,  1.00813008,\n",
              "        -0.45834115, -0.4666752 ,  0.32156154],\n",
              "       [ 0.05893536, -0.551593  ,  0.00665422, -0.22595587,  0.13359768,\n",
              "         0.50664086,  0.60417124, -0.36629252,  0.32019524, -0.45834115,\n",
              "         1.00813008,  0.6435365 ,  0.35356248],\n",
              "       [-0.01797029, -0.40561695,  0.02039019, -0.16799906,  0.06633258,\n",
              "         0.71978745,  0.79319622, -0.57622953,  0.50615495, -0.4666752 ,\n",
              "         0.6435365 ,  1.00813008,  0.26670793],\n",
              "       [ 0.6415292 , -0.24089991,  0.223495  , -0.46393412,  0.41810999,\n",
              "         0.52986924,  0.52836141, -0.34099709,  0.32976133,  0.32156154,\n",
              "         0.35356248,  0.26670793,  1.00813008]])"
            ]
          },
          "metadata": {
            "tags": []
          },
          "execution_count": 5
        }
      ]
    },
    {
      "cell_type": "markdown",
      "metadata": {
        "id": "plxjv6BitMZ0",
        "colab_type": "text"
      },
      "source": [
        "## explained variance\n",
        "설명된 분산은 전체 교윳값의 합에서 특정 고윳값의 비율로 나타냄"
      ]
    },
    {
      "cell_type": "code",
      "metadata": {
        "id": "TavZzMp1k2L0",
        "colab_type": "code",
        "outputId": "8d1bb5f7-77fa-49be-827e-f1c98cfcf277",
        "colab": {
          "base_uri": "https://localhost:8080/",
          "height": 297
        }
      },
      "source": [
        "# 설명된 분산 시각화\n",
        "tot = sum(eigen_vals)\n",
        "var_exp = [(i / tot) for i in sorted(eigen_vals, reverse = True)] # eigen value를 역순으로 받아들이기\n",
        "cum_var_exp = np.cumsum(var_exp) # var_exp누적합\n",
        "\n",
        "import matplotlib.pyplot as plt\n",
        "plt.bar(range(1,14), var_exp, alpha = 0.5, align = 'center', label = 'individual explained variance')\n",
        "plt.step(range(1,14), cum_var_exp, where = 'mid', label = 'cumulative explained variance')\n",
        "plt.legend(loc = 'best')\n",
        "plt.tight_layout()\n",
        "plt.show()"
      ],
      "execution_count": 0,
      "outputs": [
        {
          "output_type": "display_data",
          "data": {
            "image/png": "[encoded data removed]",
            "text/plain": [
              "<Figure size 432x288 with 1 Axes>"
            ]
          },
          "metadata": {
            "tags": []
          }
        }
      ]
    },
    {
      "cell_type": "markdown",
      "metadata": {
        "id": "usq6OALZtdyF",
        "colab_type": "text"
      },
      "source": [
        "## 특성변환"
      ]
    },
    {
      "cell_type": "code",
      "metadata": {
        "id": "-wOo2LrgrXFJ",
        "colab_type": "code",
        "colab": {}
      },
      "source": [
        "# 고윳값 고유벡터 튜플 리스트를 생성\n",
        "eigen_pairs = [(np.abs(eigen_vals[i]),eigen_vecs[:,i]) for i in range(len(eigen_vals))]\n",
        "\n",
        "# sort by eigen value\n",
        "eigen_pairs.sort(key = lambda k: k[0], reverse = True)"
      ],
      "execution_count": 0,
      "outputs": []
    },
    {
      "cell_type": "code",
      "metadata": {
        "id": "dHKqG9FstxPN",
        "colab_type": "code",
        "outputId": "6302f893-10fe-4ad7-c6c0-239015153089",
        "colab": {
          "base_uri": "https://localhost:8080/",
          "height": 251
        }
      },
      "source": [
        "# 투영행렬\n",
        "w = np.hstack((eigen_pairs[0][1][:, np.newaxis], eigen_pairs[1][1][:,np.newaxis]))\n",
        "w"
      ],
      "execution_count": 0,
      "outputs": [
        {
          "output_type": "execute_result",
          "data": {
            "text/plain": [
              "array([[-0.13724218,  0.50303478],\n",
              "       [ 0.24724326,  0.16487119],\n",
              "       [-0.02545159,  0.24456476],\n",
              "       [ 0.20694508, -0.11352904],\n",
              "       [-0.15436582,  0.28974518],\n",
              "       [-0.39376952,  0.05080104],\n",
              "       [-0.41735106, -0.02287338],\n",
              "       [ 0.30572896,  0.09048885],\n",
              "       [-0.30668347,  0.00835233],\n",
              "       [ 0.07554066,  0.54977581],\n",
              "       [-0.32613263, -0.20716433],\n",
              "       [-0.36861022, -0.24902536],\n",
              "       [-0.29669651,  0.38022942]])"
            ]
          },
          "metadata": {
            "tags": []
          },
          "execution_count": 8
        }
      ]
    },
    {
      "cell_type": "code",
      "metadata": {
        "id": "8JKWhKovwKwS",
        "colab_type": "code",
        "colab": {}
      },
      "source": [
        "X_train_std[0].dot(w) # x' = xW\n",
        "X_train_pca = X_train_std.dot(w) # X' = XW "
      ],
      "execution_count": 0,
      "outputs": []
    },
    {
      "cell_type": "code",
      "metadata": {
        "id": "hsyAXOZqyDPH",
        "colab_type": "code",
        "outputId": "be4d3785-1297-45ca-c993-c5035d29daac",
        "colab": {
          "base_uri": "https://localhost:8080/",
          "height": 297
        }
      },
      "source": [
        "colors = ['r','b','g']\n",
        "markers = ['s','x','o']\n",
        "for l, c, m in zip(np.unique(y_train), colors, markers):\n",
        "  plt.scatter(X_train_pca[y_train == l, 0], X_train_pca[y_train == l, 1], c = c, label = 1, marker =m)\n",
        "\n",
        "plt.legend(loc = 'lower left')\n",
        "plt.tight_layout()\n",
        "plt.show()"
      ],
      "execution_count": 0,
      "outputs": [
        {
          "output_type": "display_data",
          "data": {
            "image/png": "[encoded data removed]",
            "text/plain": [
              "<Figure size 432x288 with 1 Axes>"
            ]
          },
          "metadata": {
            "tags": []
          }
        }
      ]
    },
    {
      "cell_type": "markdown",
      "metadata": {
        "id": "SKRR8M50LBXw",
        "colab_type": "text"
      },
      "source": [
        "## 사이킷런의 주성분 분석\n",
        "로지스틱 회귀를 이용한 분류 \n",
        "(plot_decision_region 함수 사용)"
      ]
    },
    {
      "cell_type": "code",
      "metadata": {
        "id": "rrzhKiu_K7gR",
        "colab_type": "code",
        "outputId": "6490811e-10bb-46f7-e7c8-b7bdb599756e",
        "colab": {
          "base_uri": "https://localhost:8080/",
          "height": 297
        }
      },
      "source": [
        "import matplotlib.pyplot as plt\n",
        "from matplotlib.colors import ListedColormap\n",
        "\n",
        "def plot_decision_regions(X, y, classifier, resolution = 0.02):\n",
        "  markers = ('s','x','o','^','v')\n",
        "  colors = ('red', 'blue', 'lightgreen', 'gray', 'cyan')\n",
        "  cmap = ListedColormap(colors[:len(np.unique(y))])\n",
        "\n",
        "  # 결정경계 그리기\n",
        "  x1_min, x1_max = X[:,0].min() - 1, X[:,0].max() + 1\n",
        "  x2_min, x2_max = X[:,1].min() - 1, X[:,1].max() + 1\n",
        "  xx1,xx2 = np.meshgrid(np.arange(x1_min, x1_max, resolution),\n",
        "                        np.arange(x2_min, x2_max, resolution))\n",
        "  Z = classifier.predict(np.array([xx1.ravel(), xx2.ravel()]).T)\n",
        "  Z = Z.reshape(xx1.shape)\n",
        "  plt.contourf(xx1, xx2, Z, alpha = 0.4, cmap = cmap)\n",
        "  plt.xlim(xx1.min(), xx1.max())\n",
        "  plt.ylim(xx1.min(), xx2.max())\n",
        "  \n",
        "  for idx, cl in enumerate(np.unique(y)):\n",
        "    plt.scatter(x = X[y == cl, 0], y = X[y == cl, 1], alpha = 0.6, c = cmap.colors[idx], edgecolor = 'black',\n",
        "                marker = markers[idx], label = cl)\n",
        "\n",
        "from sklearn.linear_model import LogisticRegression\n",
        "from sklearn.decomposition import PCA\n",
        "\n",
        "pca = PCA(n_components = 2)\n",
        "X_train_pca = pca.fit_transform(X_train_std)\n",
        "X_test_pca = pca.fit_transform(X_test_std)\n",
        "lr = LogisticRegression(solver = 'liblinear', multi_class = 'auto')\n",
        "lr.fit(X_train_pca, y_train)\n",
        "plot_decision_regions(X_train_pca, y_train, classifier = lr)\n",
        "plt.legend(loc = 'lower left')\n",
        "plt.tight_layout()\n",
        "plt.show()"
      ],
      "execution_count": 0,
      "outputs": [
        {
          "output_type": "display_data",
          "data": {
            "image/png": "[encoded data removed]",
            "text/plain": [
              "<Figure size 432x288 with 1 Axes>"
            ]
          },
          "metadata": {
            "tags": []
          }
        }
      ]
    },
    {
      "cell_type": "code",
      "metadata": {
        "id": "XCNal_xBNlje",
        "colab_type": "code",
        "outputId": "eba8b377-e631-4489-f1d2-cf029a04786c",
        "colab": {
          "base_uri": "https://localhost:8080/",
          "height": 297
        }
      },
      "source": [
        "plot_decision_regions(X_test_pca, y_test, classifier = lr)\n",
        "plt.legend(loc = 'lower left')\n",
        "plt.tight_layout()\n",
        "plt.show()"
      ],
      "execution_count": 0,
      "outputs": [
        {
          "output_type": "display_data",
          "data": {
            "image/png": "[encoded data removed]",
            "text/plain": [
              "<Figure size 432x288 with 1 Axes>"
            ]
          },
          "metadata": {
            "tags": []
          }
        }
      ]
    },
    {
      "cell_type": "markdown",
      "metadata": {
        "id": "oD74G4ByOd5D",
        "colab_type": "text"
      },
      "source": [
        "주성분 분산비율\n"
      ]
    },
    {
      "cell_type": "code",
      "metadata": {
        "id": "DZ102yqtOM0Y",
        "colab_type": "code",
        "outputId": "87a6435e-ad33-428c-9578-44de531cea29",
        "colab": {
          "base_uri": "https://localhost:8080/",
          "height": 71
        }
      },
      "source": [
        "pca = PCA(n_components = None)\n",
        "X_train_pca = pca.fit_transform(X_train_std)\n",
        "pca.explained_variance_ratio_"
      ],
      "execution_count": 0,
      "outputs": [
        {
          "output_type": "execute_result",
          "data": {
            "text/plain": [
              "array([0.36951469, 0.18434927, 0.11815159, 0.07334252, 0.06422108,\n",
              "       0.05051724, 0.03954654, 0.02643918, 0.02389319, 0.01629614,\n",
              "       0.01380021, 0.01172226, 0.00820609])"
            ]
          },
          "metadata": {
            "tags": []
          },
          "execution_count": 13
        }
      ]
    },
    {
      "cell_type": "markdown",
      "metadata": {
        "id": "9JMe9iLrPpxm",
        "colab_type": "text"
      },
      "source": [
        "# 선형판별분석을 통한 지도학습 데이터 압축"
      ]
    },
    {
      "cell_type": "markdown",
      "metadata": {
        "id": "OSbRWTcYQaJu",
        "colab_type": "text"
      },
      "source": [
        "### 선형판별분석\n",
        "1. 표준화전처리\n",
        "2. 평균벡터 계산\n",
        "3. 산포행렬 구성\n",
        "4. 고유벡터 고윳값 계산\n",
        "5. 정렬, 순서\n",
        "6. 변환행렬구성과 투영\n",
        "\n",
        "http://bitly.kr/MUF5UmLC5 \n",
        "\n",
        "https://yamalab.tistory.com/32?category=711359참조\n",
        "\n",
        "집단간 분산은 크게해야하고 집단내 분산은 작게해야 분류가 잘됨.\n"
      ]
    },
    {
      "cell_type": "markdown",
      "metadata": {
        "id": "ayl9TXHBmdrb",
        "colab_type": "text"
      },
      "source": [
        "![image.png](data:image/png;base64,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)"
      ]
    },
    {
      "cell_type": "code",
      "metadata": {
        "id": "pe_m1TXWPcm9",
        "colab_type": "code",
        "outputId": "12516406-9206-4506-f4e5-450b81dfcfee",
        "colab": {
          "base_uri": "https://localhost:8080/",
          "height": 179
        }
      },
      "source": [
        "# 산포행렬 계산\n",
        "np.set_printoptions(precision = 4)\n",
        "mean_vecs = []\n",
        "for label in range(1,4):\n",
        "  mean_vecs.append(np.mean(X_train_std[y_train == label], axis = 0))\n",
        "  print('MV %s: %s \\n' %(label, mean_vecs[label - 1]))"
      ],
      "execution_count": 0,
      "outputs": [
        {
          "output_type": "stream",
          "text": [
            "MV 1: [ 0.9066 -0.3497  0.3201 -0.7189  0.5056  0.8807  0.9589 -0.5516  0.5416\n",
            "  0.2338  0.5897  0.6563  1.2075] \n",
            "\n",
            "MV 2: [-0.8749 -0.2848 -0.3735  0.3157 -0.3848 -0.0433  0.0635 -0.0946  0.0703\n",
            " -0.8286  0.3144  0.3608 -0.7253] \n",
            "\n",
            "MV 3: [ 0.1992  0.866   0.1682  0.4148 -0.0451 -1.0286 -1.2876  0.8287 -0.7795\n",
            "  0.9649 -1.209  -1.3622 -0.4013] \n",
            "\n"
          ],
          "name": "stdout"
        }
      ]
    },
    {
      "cell_type": "code",
      "metadata": {
        "id": "VzgR-h3ZgARa",
        "colab_type": "code",
        "outputId": "e0e65ce5-764f-49bd-8c16-93ecfabe91dd",
        "colab": {
          "base_uri": "https://localhost:8080/",
          "height": 35
        }
      },
      "source": [
        "# 클래스 내의 산포행렬\n",
        "d = 13\n",
        "S_W = np.zeros((d,d))\n",
        "for label, mv in zip(range(1,4), mean_vecs):\n",
        "  class_scatter = np.zeros((d,d))\n",
        "  for row in X_train_std[y_train == label]:\n",
        "    row, mv = row.reshape(d, 1), mv.reshape(d, 1)\n",
        "    class_scatter += (row - mv).dot((row - mv).T)\n",
        "  S_W += class_scatter\n",
        "\n",
        "print('클래스 내의 산포행렬: %s x %s' %(S_W.shape[0], S_W.shape[1]))"
      ],
      "execution_count": 0,
      "outputs": [
        {
          "output_type": "stream",
          "text": [
            "클래스 내의 산포행렬: 13 x 13\n"
          ],
          "name": "stdout"
        }
      ]
    },
    {
      "cell_type": "code",
      "metadata": {
        "id": "HOJlD3NydNEs",
        "colab_type": "code",
        "colab": {}
      },
      "source": [
        "# 스케일이 조정된 클래스내의 산포행렬\n",
        "S_W = np.zeros((13,13))\n",
        "for label, mv in zip(range(1,4), mean_vecs):\n",
        "  class_scatter = np.cov(X_train_std[y_train == label].T, bias = True)\n",
        "  S_W += class_scatter"
      ],
      "execution_count": 0,
      "outputs": []
    },
    {
      "cell_type": "code",
      "metadata": {
        "id": "b8oZk7sseGW3",
        "colab_type": "code",
        "colab": {}
      },
      "source": [
        "# 클래스간 산포행렬\n",
        "mean_overall = np.mean(X_train_std, axis = 0)\n",
        "mean_overall = mean_overall.reshape(d,1) # 열벡터로 만드는 과정\n",
        "\n",
        "d = 13 #특성개수\n",
        "S_B = np.zeros((d,d))\n",
        "for i, mean_vec in enumerate(mean_vecs):\n",
        "  n = X_train[y_train == i + 1, :].shape[0]\n",
        "  mean_vec = mean_vec.reshape(d,1)\n",
        "  S_B += n * (mean_vec - mean_overall).dot((mean_vec - mean_overall).T)"
      ],
      "execution_count": 0,
      "outputs": []
    },
    {
      "cell_type": "code",
      "metadata": {
        "id": "tvUNK8gqiIF9",
        "colab_type": "code",
        "outputId": "39bcf0bc-2940-4ed0-f9ed-5eeb8679040a",
        "colab": {
          "base_uri": "https://localhost:8080/",
          "height": 287
        }
      },
      "source": [
        "# inverse(S_W) * S_B의 고윳값 계산\n",
        "eigen_vals, eigen_vecs = np.linalg.eig(np.linalg.inv(S_W.dot(S_B)))\n",
        "eigen_pairs = [(np.abs(eigen_vals[i]), eigen_vecs[i]) for i in range(len(eigen_vals))]\n",
        "eigen_pairs = sorted(eigen_pairs, key = lambda k : k[0], reverse = True)\n",
        "print('내림차순의 고윳값:\\n')\n",
        "for eigen_val in eigen_pairs:\n",
        "  print(eigen_val[0])\n"
      ],
      "execution_count": 0,
      "outputs": [
        {
          "output_type": "stream",
          "text": [
            "내림차순의 고윳값:\n",
            "\n",
            "66451724027185.984\n",
            "66451724027185.984\n",
            "62262934408803.68\n",
            "62262934408803.68\n",
            "54437536924944.52\n",
            "54437536924944.52\n",
            "31991844751842.156\n",
            "31991844751842.156\n",
            "26547367739772.688\n",
            "24929063280042.656\n",
            "24929063280042.656\n",
            "0.012966165906206528\n",
            "0.012966165906206528\n"
          ],
          "name": "stdout"
        }
      ]
    },
    {
      "cell_type": "code",
      "metadata": {
        "id": "u0g3-JZe7awE",
        "colab_type": "code",
        "outputId": "80bddedd-d3b6-4f8b-c576-92510ed92335",
        "colab": {
          "base_uri": "https://localhost:8080/",
          "height": 369
        }
      },
      "source": [
        "### data 불러오기\n",
        "import pandas as pd\n",
        "\n",
        "df_wine = pd.read_csv('https://archive.ics.uci.edu/ml/machine-learning-databases/wine/wine.data', header=None)\n",
        "\n",
        "df_wine.columns = ['Class label', 'Alcohol', 'Malic acid', 'Ash', \n",
        "'Alcalinity of ash', 'Magnesium', 'Total phenols', \n",
        "'Flavanoids', 'Nonflavanoid phenols', 'Proanthocyanins', \n",
        "'Color intensity', 'Hue', 'OD280/OD315 of diluted wines', 'Proline']\n",
        "\n",
        "df_wine.head()\n",
        "\n",
        "\n",
        "### 데이터 전처리 - 데이터셋 분리\n",
        "from sklearn.model_selection import train_test_split\n",
        "\n",
        "X, y = df_wine.iloc[:, 1:].values, df_wine.iloc[:, 0].values\n",
        "\n",
        "X_train, X_test, y_train, y_test = \\\n",
        "        train_test_split(X, y, test_size=0.3, random_state=0)\n",
        "        \n",
        "        \n",
        "### 데이터 전처리 - 데이터 표준화 작업\n",
        "from sklearn.preprocessing import StandardScaler\n",
        "\n",
        "sc = StandardScaler()\n",
        "X_train_std = sc.fit_transform(X_train)\n",
        "X_test_std = sc.transform(X_test)\n",
        "\n",
        "\n",
        "### 공분산 행렬을 이용한 Eigendecomposition\n",
        "import numpy as np\n",
        "\n",
        "cov_mat = np.cov(X_train_std.T) # 공분산 행렬을 생성해주는 함수\n",
        "# T는 Matrix의 T를 의미. 함수에 맞는 파라미터로 쓰기 위해 행렬을 돌려줌\n",
        "\n",
        "eigen_vals, eigen_vecs = np.linalg.eig(cov_mat)\n",
        "\n",
        "print('\\nEigenvalues \\n%s' % eigen_vals)\n",
        "\n",
        "\n",
        "### 에이겐벨류의 설명 분산 비율\n",
        "tot = sum(eigen_vals)\n",
        "var_exp = [(i / tot) for i in sorted(eigen_vals, reverse=True)]\n",
        "# 에이겐벨류 / 에이겐벨류의 합 을 각각 구한다. 나온 각각의 값은 아이겐벨류의 설명 분산 비율이다.\n",
        "# 즉, 어떤 에이겐벨류가 가장 설명력이 높은지를 비율로 나타내기 위한 것이다.\n",
        "\n",
        "cum_var_exp = np.cumsum(var_exp) # 누적 합을 계산해주는 함수. -> 누적 백분위로 표현\n",
        "\n",
        "\n",
        "### 에이겐벨류의 영향력을 그래프로 시각화\n",
        "import matplotlib.pyplot as plt\n",
        "%matplotlib inline\n",
        "\n",
        "plt.bar(range(1, 14), var_exp, alpha=0.5, align='center',\n",
        "        label='individual explained variance')\n",
        "plt.step(range(1, 14), cum_var_exp, where='mid',\n",
        "         label='cumulative explained variance')\n",
        "plt.ylabel('Explained variance ratio')\n",
        "plt.xlabel('Principal components')\n",
        "plt.legend(loc='best')\n",
        "plt.tight_layout()\n",
        "# plt.savefig('./figures/pca1.png', dpi=300)\n",
        "plt.show()"
      ],
      "execution_count": 0,
      "outputs": [
        {
          "output_type": "stream",
          "text": [
            "\n",
            "Eigenvalues \n",
            "[4.8923 2.4664 1.4281 1.0123 0.8491 0.6018 0.5225 0.0841 0.3305 0.296\n",
            " 0.1683 0.2143 0.24  ]\n"
          ],
          "name": "stdout"
        },
        {
          "output_type": "display_data",
          "data": {
            "image/png": "[encoded data removed]",
            "text/plain": [
              "<Figure size 432x288 with 1 Axes>"
            ]
          },
          "metadata": {
            "tags": []
          }
        }
      ]
    },
    {
      "cell_type": "code",
      "metadata": {
        "id": "qSZh0SjG7atu",
        "colab_type": "code",
        "outputId": "07e9a4c8-72b4-4168-c81a-8ac559d213a6",
        "colab": {
          "base_uri": "https://localhost:8080/",
          "height": 549
        }
      },
      "source": [
        "### 에이겐 쌍을 이용하여 투영행렬 생성\n",
        "eigen_pairs = [(np.abs(eigen_vals[i]), eigen_vecs[:,i]) for i in range(len(eigen_vals))]\n",
        "# 에이겐 쌍 생성 -> 투플 자료형\n",
        "\n",
        "eigen_pairs.sort(reverse=True) # 내림차순으로 정렬\n",
        "\n",
        "w = np.hstack((eigen_pairs[0][1][:, np.newaxis],\n",
        "               eigen_pairs[1][1][:, np.newaxis]))\n",
        "# 투영행렬 W : 변수를 2차원으로 축소시키는 투영행렬.\n",
        "# eigen_pairs의 0,1 번째만 -> 2개의 에이겐 쌍으로만 차원축소를 하겠다는 것.\n",
        "# hstack -> 행의 수가 같은 두 개 이상의 배열을 옆으로 연결하여, 열의 수가 늘어난 np배열을 만든다.\n",
        "# 1차원 배열끼리는 hstack 되지 않으므로 [:, np.newaxis]을 추가함.\n",
        "\n",
        "print('Matrix W:\\n', w)\n",
        "\n",
        "\n",
        "### 투영행렬로 피처 압축\n",
        "X_train_std[0].dot(w) # X_train_std[0] 행렬과 W 행렬의 곱(내적연산)\n",
        "\n",
        "X_train_pca = X_train_std.dot(w) # 피처를 투영행렬에 곱한 값 -> 피처 축소된 결과\n",
        "\n",
        "\n",
        "### 변환된 데이터를 그래프로 시각화\n",
        "colors = ['r', 'b', 'g']\n",
        "markers = ['s', 'x', 'o']\n",
        "\n",
        "for l, c, m in zip(np.unique(y_train), colors, markers):\n",
        "    plt.scatter(X_train_pca[y_train==l, 0], \n",
        "                X_train_pca[y_train==l, 1], \n",
        "                c=c, label=l, marker=m)\n",
        "\n",
        "plt.xlabel('PC 1')\n",
        "plt.ylabel('PC 2')\n",
        "plt.legend(loc='lower left')\n",
        "plt.tight_layout()\n",
        "# plt.savefig('./figures/pca2.png', dpi=300)\n",
        "plt.show()"
      ],
      "execution_count": 0,
      "outputs": [
        {
          "output_type": "stream",
          "text": [
            "Matrix W:\n",
            " [[ 0.1467  0.5042]\n",
            " [-0.2422  0.2422]\n",
            " [-0.0299  0.287 ]\n",
            " [-0.2552 -0.0647]\n",
            " [ 0.1208  0.23  ]\n",
            " [ 0.3893  0.0936]\n",
            " [ 0.4233  0.0109]\n",
            " [-0.3063  0.0187]\n",
            " [ 0.3057  0.0304]\n",
            " [-0.0987  0.5453]\n",
            " [ 0.3003 -0.2792]\n",
            " [ 0.3682 -0.1744]\n",
            " [ 0.2926  0.3632]]\n"
          ],
          "name": "stdout"
        },
        {
          "output_type": "display_data",
          "data": {
            "image/png": "[encoded data removed]",
            "text/plain": [
              "<Figure size 432x288 with 1 Axes>"
            ]
          },
          "metadata": {
            "tags": []
          }
        }
      ]
    }
  ]
}