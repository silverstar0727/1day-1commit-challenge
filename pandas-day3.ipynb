{
  "nbformat": 4,
  "nbformat_minor": 0,
  "metadata": {
    "colab": {
      "name": "Pandas day3.ipynb",
      "provenance": [],
      "authorship_tag": "ABX9TyPTiJM/O6lRs7mYnPhXstf6",
      "include_colab_link": true
    },
    "kernelspec": {
      "name": "python3",
      "display_name": "Python 3"
    }
  },
  "cells": [
    {
      "cell_type": "markdown",
      "metadata": {
        "id": "view-in-github",
        "colab_type": "text"
      },
      "source": [
        "<a href=\"https://colab.research.google.com/github/silverstar0727/1day-1commit-challenge/blob/master/Pandas_day3.ipynb\" target=\"_parent\"><img src=\"https://colab.research.google.com/assets/colab-badge.svg\" alt=\"Open In Colab\"/></a>"
      ]
    },
    {
      "cell_type": "markdown",
      "metadata": {
        "id": "Fa35soQpFGHC",
        "colab_type": "text"
      },
      "source": [
        "# Selection\n",
        "## pandas day3"
      ]
    },
    {
      "cell_type": "markdown",
      "metadata": {
        "id": "QEWU-iJGFe7D",
        "colab_type": "text"
      },
      "source": [
        "기존 day1의 data를 가지고 진행합니다"
      ]
    },
    {
      "cell_type": "code",
      "metadata": {
        "id": "B39Ee5K-FAS0",
        "colab_type": "code",
        "colab": {}
      },
      "source": [
        "# day1의 데이터를 불러오기\n",
        "import pandas as pd\n",
        "import numpy as np\n",
        "import matplotlib.pyplot as plt\n",
        "\n",
        "dates = pd.date_range('20100101', periods = 5)\n",
        "df = pd.DataFrame(np.random.randn(5,4), index = dates, columns = list('ABCD'))"
      ],
      "execution_count": 0,
      "outputs": []
    },
    {
      "cell_type": "code",
      "metadata": {
        "id": "-mEVgdwhF6L0",
        "colab_type": "code",
        "colab": {
          "base_uri": "https://localhost:8080/",
          "height": 204
        },
        "outputId": "8e6c7c7d-ab68-4a5e-8863-9ba24e0797f5"
      },
      "source": [
        "# 데이터 프레임 전체보기\n",
        "df"
      ],
      "execution_count": 2,
      "outputs": [
        {
          "output_type": "execute_result",
          "data": {
            "text/html": [
              "<div>\n",
              "<style scoped>\n",
              "    .dataframe tbody tr th:only-of-type {\n",
              "        vertical-align: middle;\n",
              "    }\n",
              "\n",
              "    .dataframe tbody tr th {\n",
              "        vertical-align: top;\n",
              "    }\n",
              "\n",
              "    .dataframe thead th {\n",
              "        text-align: right;\n",
              "    }\n",
              "</style>\n",
              "<table border=\"1\" class=\"dataframe\">\n",
              "  <thead>\n",
              "    <tr style=\"text-align: right;\">\n",
              "      <th></th>\n",
              "      <th>A</th>\n",
              "      <th>B</th>\n",
              "      <th>C</th>\n",
              "      <th>D</th>\n",
              "    </tr>\n",
              "  </thead>\n",
              "  <tbody>\n",
              "    <tr>\n",
              "      <th>2010-01-01</th>\n",
              "      <td>0.437667</td>\n",
              "      <td>0.182542</td>\n",
              "      <td>0.915078</td>\n",
              "      <td>2.112417</td>\n",
              "    </tr>\n",
              "    <tr>\n",
              "      <th>2010-01-02</th>\n",
              "      <td>0.410243</td>\n",
              "      <td>0.068650</td>\n",
              "      <td>0.420226</td>\n",
              "      <td>0.370443</td>\n",
              "    </tr>\n",
              "    <tr>\n",
              "      <th>2010-01-03</th>\n",
              "      <td>-1.566423</td>\n",
              "      <td>1.440015</td>\n",
              "      <td>-0.168616</td>\n",
              "      <td>0.468975</td>\n",
              "    </tr>\n",
              "    <tr>\n",
              "      <th>2010-01-04</th>\n",
              "      <td>1.451270</td>\n",
              "      <td>0.053382</td>\n",
              "      <td>-0.703565</td>\n",
              "      <td>-1.365881</td>\n",
              "    </tr>\n",
              "    <tr>\n",
              "      <th>2010-01-05</th>\n",
              "      <td>0.129719</td>\n",
              "      <td>0.056578</td>\n",
              "      <td>1.227356</td>\n",
              "      <td>-1.234776</td>\n",
              "    </tr>\n",
              "  </tbody>\n",
              "</table>\n",
              "</div>"
            ],
            "text/plain": [
              "                   A         B         C         D\n",
              "2010-01-01  0.437667  0.182542  0.915078  2.112417\n",
              "2010-01-02  0.410243  0.068650  0.420226  0.370443\n",
              "2010-01-03 -1.566423  1.440015 -0.168616  0.468975\n",
              "2010-01-04  1.451270  0.053382 -0.703565 -1.365881\n",
              "2010-01-05  0.129719  0.056578  1.227356 -1.234776"
            ]
          },
          "metadata": {
            "tags": []
          },
          "execution_count": 2
        }
      ]
    },
    {
      "cell_type": "code",
      "metadata": {
        "id": "8tB8eMumF6mm",
        "colab_type": "code",
        "colab": {
          "base_uri": "https://localhost:8080/",
          "height": 125
        },
        "outputId": "32ff520f-8ae8-4901-c8fd-b9ee437e23f1"
      },
      "source": [
        "# a열에 해당하는 데이터 선택\n",
        "df['A']"
      ],
      "execution_count": 3,
      "outputs": [
        {
          "output_type": "execute_result",
          "data": {
            "text/plain": [
              "2010-01-01    0.437667\n",
              "2010-01-02    0.410243\n",
              "2010-01-03   -1.566423\n",
              "2010-01-04    1.451270\n",
              "2010-01-05    0.129719\n",
              "Freq: D, Name: A, dtype: float64"
            ]
          },
          "metadata": {
            "tags": []
          },
          "execution_count": 3
        }
      ]
    },
    {
      "cell_type": "code",
      "metadata": {
        "id": "sgykIGfLGH30",
        "colab_type": "code",
        "colab": {
          "base_uri": "https://localhost:8080/",
          "height": 142
        },
        "outputId": "6a02edbe-972b-44b4-ad5b-c59f10595bb0"
      },
      "source": [
        "#행을 선택. 0~3\n",
        "df[0:3]"
      ],
      "execution_count": 6,
      "outputs": [
        {
          "output_type": "execute_result",
          "data": {
            "text/html": [
              "<div>\n",
              "<style scoped>\n",
              "    .dataframe tbody tr th:only-of-type {\n",
              "        vertical-align: middle;\n",
              "    }\n",
              "\n",
              "    .dataframe tbody tr th {\n",
              "        vertical-align: top;\n",
              "    }\n",
              "\n",
              "    .dataframe thead th {\n",
              "        text-align: right;\n",
              "    }\n",
              "</style>\n",
              "<table border=\"1\" class=\"dataframe\">\n",
              "  <thead>\n",
              "    <tr style=\"text-align: right;\">\n",
              "      <th></th>\n",
              "      <th>A</th>\n",
              "      <th>B</th>\n",
              "      <th>C</th>\n",
              "      <th>D</th>\n",
              "    </tr>\n",
              "  </thead>\n",
              "  <tbody>\n",
              "    <tr>\n",
              "      <th>2010-01-01</th>\n",
              "      <td>0.437667</td>\n",
              "      <td>0.182542</td>\n",
              "      <td>0.915078</td>\n",
              "      <td>2.112417</td>\n",
              "    </tr>\n",
              "    <tr>\n",
              "      <th>2010-01-02</th>\n",
              "      <td>0.410243</td>\n",
              "      <td>0.068650</td>\n",
              "      <td>0.420226</td>\n",
              "      <td>0.370443</td>\n",
              "    </tr>\n",
              "    <tr>\n",
              "      <th>2010-01-03</th>\n",
              "      <td>-1.566423</td>\n",
              "      <td>1.440015</td>\n",
              "      <td>-0.168616</td>\n",
              "      <td>0.468975</td>\n",
              "    </tr>\n",
              "  </tbody>\n",
              "</table>\n",
              "</div>"
            ],
            "text/plain": [
              "                   A         B         C         D\n",
              "2010-01-01  0.437667  0.182542  0.915078  2.112417\n",
              "2010-01-02  0.410243  0.068650  0.420226  0.370443\n",
              "2010-01-03 -1.566423  1.440015 -0.168616  0.468975"
            ]
          },
          "metadata": {
            "tags": []
          },
          "execution_count": 6
        }
      ]
    },
    {
      "cell_type": "code",
      "metadata": {
        "id": "CAqMagGjGPkB",
        "colab_type": "code",
        "colab": {
          "base_uri": "https://localhost:8080/",
          "height": 142
        },
        "outputId": "af0818b6-cc82-4712-f3ad-450478896783"
      },
      "source": [
        "# 위와 동일한 행을 다른방법으로 선택\n",
        "df['20100101':'20100103']"
      ],
      "execution_count": 7,
      "outputs": [
        {
          "output_type": "execute_result",
          "data": {
            "text/html": [
              "<div>\n",
              "<style scoped>\n",
              "    .dataframe tbody tr th:only-of-type {\n",
              "        vertical-align: middle;\n",
              "    }\n",
              "\n",
              "    .dataframe tbody tr th {\n",
              "        vertical-align: top;\n",
              "    }\n",
              "\n",
              "    .dataframe thead th {\n",
              "        text-align: right;\n",
              "    }\n",
              "</style>\n",
              "<table border=\"1\" class=\"dataframe\">\n",
              "  <thead>\n",
              "    <tr style=\"text-align: right;\">\n",
              "      <th></th>\n",
              "      <th>A</th>\n",
              "      <th>B</th>\n",
              "      <th>C</th>\n",
              "      <th>D</th>\n",
              "    </tr>\n",
              "  </thead>\n",
              "  <tbody>\n",
              "    <tr>\n",
              "      <th>2010-01-01</th>\n",
              "      <td>0.437667</td>\n",
              "      <td>0.182542</td>\n",
              "      <td>0.915078</td>\n",
              "      <td>2.112417</td>\n",
              "    </tr>\n",
              "    <tr>\n",
              "      <th>2010-01-02</th>\n",
              "      <td>0.410243</td>\n",
              "      <td>0.068650</td>\n",
              "      <td>0.420226</td>\n",
              "      <td>0.370443</td>\n",
              "    </tr>\n",
              "    <tr>\n",
              "      <th>2010-01-03</th>\n",
              "      <td>-1.566423</td>\n",
              "      <td>1.440015</td>\n",
              "      <td>-0.168616</td>\n",
              "      <td>0.468975</td>\n",
              "    </tr>\n",
              "  </tbody>\n",
              "</table>\n",
              "</div>"
            ],
            "text/plain": [
              "                   A         B         C         D\n",
              "2010-01-01  0.437667  0.182542  0.915078  2.112417\n",
              "2010-01-02  0.410243  0.068650  0.420226  0.370443\n",
              "2010-01-03 -1.566423  1.440015 -0.168616  0.468975"
            ]
          },
          "metadata": {
            "tags": []
          },
          "execution_count": 7
        }
      ]
    },
    {
      "cell_type": "code",
      "metadata": {
        "id": "fZvmM2TAGfBp",
        "colab_type": "code",
        "colab": {
          "base_uri": "https://localhost:8080/",
          "height": 107
        },
        "outputId": "3e5d696d-ab6e-4ca0-f220-b64f683e25c9"
      },
      "source": [
        "#label을 통한 선택\n",
        "df.loc[dates[0]]"
      ],
      "execution_count": 10,
      "outputs": [
        {
          "output_type": "execute_result",
          "data": {
            "text/plain": [
              "A    0.437667\n",
              "B    0.182542\n",
              "C    0.915078\n",
              "D    2.112417\n",
              "Name: 2010-01-01 00:00:00, dtype: float64"
            ]
          },
          "metadata": {
            "tags": []
          },
          "execution_count": 10
        }
      ]
    },
    {
      "cell_type": "code",
      "metadata": {
        "id": "Gbq9VtZGGiRf",
        "colab_type": "code",
        "colab": {
          "base_uri": "https://localhost:8080/",
          "height": 35
        },
        "outputId": "e4898ea8-df25-4d69-bf82-36da4dd9c072"
      },
      "source": [
        "dates[0]"
      ],
      "execution_count": 11,
      "outputs": [
        {
          "output_type": "execute_result",
          "data": {
            "text/plain": [
              "Timestamp('2010-01-01 00:00:00', freq='D')"
            ]
          },
          "metadata": {
            "tags": []
          },
          "execution_count": 11
        }
      ]
    },
    {
      "cell_type": "code",
      "metadata": {
        "id": "3gKnT9wYGkxo",
        "colab_type": "code",
        "colab": {
          "base_uri": "https://localhost:8080/",
          "height": 204
        },
        "outputId": "bbac1412-8630-4f7d-a348-f970ed6fbd06"
      },
      "source": [
        "df.loc[:,['A','B']]"
      ],
      "execution_count": 12,
      "outputs": [
        {
          "output_type": "execute_result",
          "data": {
            "text/html": [
              "<div>\n",
              "<style scoped>\n",
              "    .dataframe tbody tr th:only-of-type {\n",
              "        vertical-align: middle;\n",
              "    }\n",
              "\n",
              "    .dataframe tbody tr th {\n",
              "        vertical-align: top;\n",
              "    }\n",
              "\n",
              "    .dataframe thead th {\n",
              "        text-align: right;\n",
              "    }\n",
              "</style>\n",
              "<table border=\"1\" class=\"dataframe\">\n",
              "  <thead>\n",
              "    <tr style=\"text-align: right;\">\n",
              "      <th></th>\n",
              "      <th>A</th>\n",
              "      <th>B</th>\n",
              "    </tr>\n",
              "  </thead>\n",
              "  <tbody>\n",
              "    <tr>\n",
              "      <th>2010-01-01</th>\n",
              "      <td>0.437667</td>\n",
              "      <td>0.182542</td>\n",
              "    </tr>\n",
              "    <tr>\n",
              "      <th>2010-01-02</th>\n",
              "      <td>0.410243</td>\n",
              "      <td>0.068650</td>\n",
              "    </tr>\n",
              "    <tr>\n",
              "      <th>2010-01-03</th>\n",
              "      <td>-1.566423</td>\n",
              "      <td>1.440015</td>\n",
              "    </tr>\n",
              "    <tr>\n",
              "      <th>2010-01-04</th>\n",
              "      <td>1.451270</td>\n",
              "      <td>0.053382</td>\n",
              "    </tr>\n",
              "    <tr>\n",
              "      <th>2010-01-05</th>\n",
              "      <td>0.129719</td>\n",
              "      <td>0.056578</td>\n",
              "    </tr>\n",
              "  </tbody>\n",
              "</table>\n",
              "</div>"
            ],
            "text/plain": [
              "                   A         B\n",
              "2010-01-01  0.437667  0.182542\n",
              "2010-01-02  0.410243  0.068650\n",
              "2010-01-03 -1.566423  1.440015\n",
              "2010-01-04  1.451270  0.053382\n",
              "2010-01-05  0.129719  0.056578"
            ]
          },
          "metadata": {
            "tags": []
          },
          "execution_count": 12
        }
      ]
    },
    {
      "cell_type": "code",
      "metadata": {
        "id": "rctwHFDvGx3q",
        "colab_type": "code",
        "colab": {
          "base_uri": "https://localhost:8080/",
          "height": 35
        },
        "outputId": "f86bdc06-956a-4390-adcb-4aff47a02caf"
      },
      "source": [
        "df.at[dates[0],'A']"
      ],
      "execution_count": 16,
      "outputs": [
        {
          "output_type": "execute_result",
          "data": {
            "text/plain": [
              "0.43766657811434667"
            ]
          },
          "metadata": {
            "tags": []
          },
          "execution_count": 16
        }
      ]
    },
    {
      "cell_type": "markdown",
      "metadata": {
        "id": "1CB9QJL_He8z",
        "colab_type": "text"
      },
      "source": [
        "## Selection by Position"
      ]
    },
    {
      "cell_type": "code",
      "metadata": {
        "id": "4CxkHcXUHWhj",
        "colab_type": "code",
        "colab": {
          "base_uri": "https://localhost:8080/",
          "height": 107
        },
        "outputId": "90a221db-f6bf-4f3c-f613-36e3ca617ac5"
      },
      "source": [
        "df.iloc[3]"
      ],
      "execution_count": 17,
      "outputs": [
        {
          "output_type": "execute_result",
          "data": {
            "text/plain": [
              "A    1.451270\n",
              "B    0.053382\n",
              "C   -0.703565\n",
              "D   -1.365881\n",
              "Name: 2010-01-04 00:00:00, dtype: float64"
            ]
          },
          "metadata": {
            "tags": []
          },
          "execution_count": 17
        }
      ]
    },
    {
      "cell_type": "code",
      "metadata": {
        "id": "VGqD_W85Hk3d",
        "colab_type": "code",
        "colab": {
          "base_uri": "https://localhost:8080/",
          "height": 111
        },
        "outputId": "a194d4b9-04e3-4e5f-a057-8fbf10b4c3b2"
      },
      "source": [
        "df.iloc[3:5, 0:2]"
      ],
      "execution_count": 18,
      "outputs": [
        {
          "output_type": "execute_result",
          "data": {
            "text/html": [
              "<div>\n",
              "<style scoped>\n",
              "    .dataframe tbody tr th:only-of-type {\n",
              "        vertical-align: middle;\n",
              "    }\n",
              "\n",
              "    .dataframe tbody tr th {\n",
              "        vertical-align: top;\n",
              "    }\n",
              "\n",
              "    .dataframe thead th {\n",
              "        text-align: right;\n",
              "    }\n",
              "</style>\n",
              "<table border=\"1\" class=\"dataframe\">\n",
              "  <thead>\n",
              "    <tr style=\"text-align: right;\">\n",
              "      <th></th>\n",
              "      <th>A</th>\n",
              "      <th>B</th>\n",
              "    </tr>\n",
              "  </thead>\n",
              "  <tbody>\n",
              "    <tr>\n",
              "      <th>2010-01-04</th>\n",
              "      <td>1.451270</td>\n",
              "      <td>0.053382</td>\n",
              "    </tr>\n",
              "    <tr>\n",
              "      <th>2010-01-05</th>\n",
              "      <td>0.129719</td>\n",
              "      <td>0.056578</td>\n",
              "    </tr>\n",
              "  </tbody>\n",
              "</table>\n",
              "</div>"
            ],
            "text/plain": [
              "                   A         B\n",
              "2010-01-04  1.451270  0.053382\n",
              "2010-01-05  0.129719  0.056578"
            ]
          },
          "metadata": {
            "tags": []
          },
          "execution_count": 18
        }
      ]
    },
    {
      "cell_type": "code",
      "metadata": {
        "id": "E6FvyU78HofN",
        "colab_type": "code",
        "colab": {
          "base_uri": "https://localhost:8080/",
          "height": 142
        },
        "outputId": "1265859d-03cd-4fc5-ad0a-3e6f140e9394"
      },
      "source": [
        "df.iloc[[1,2,4],[0,2]]"
      ],
      "execution_count": 19,
      "outputs": [
        {
          "output_type": "execute_result",
          "data": {
            "text/html": [
              "<div>\n",
              "<style scoped>\n",
              "    .dataframe tbody tr th:only-of-type {\n",
              "        vertical-align: middle;\n",
              "    }\n",
              "\n",
              "    .dataframe tbody tr th {\n",
              "        vertical-align: top;\n",
              "    }\n",
              "\n",
              "    .dataframe thead th {\n",
              "        text-align: right;\n",
              "    }\n",
              "</style>\n",
              "<table border=\"1\" class=\"dataframe\">\n",
              "  <thead>\n",
              "    <tr style=\"text-align: right;\">\n",
              "      <th></th>\n",
              "      <th>A</th>\n",
              "      <th>C</th>\n",
              "    </tr>\n",
              "  </thead>\n",
              "  <tbody>\n",
              "    <tr>\n",
              "      <th>2010-01-02</th>\n",
              "      <td>0.410243</td>\n",
              "      <td>0.420226</td>\n",
              "    </tr>\n",
              "    <tr>\n",
              "      <th>2010-01-03</th>\n",
              "      <td>-1.566423</td>\n",
              "      <td>-0.168616</td>\n",
              "    </tr>\n",
              "    <tr>\n",
              "      <th>2010-01-05</th>\n",
              "      <td>0.129719</td>\n",
              "      <td>1.227356</td>\n",
              "    </tr>\n",
              "  </tbody>\n",
              "</table>\n",
              "</div>"
            ],
            "text/plain": [
              "                   A         C\n",
              "2010-01-02  0.410243  0.420226\n",
              "2010-01-03 -1.566423 -0.168616\n",
              "2010-01-05  0.129719  1.227356"
            ]
          },
          "metadata": {
            "tags": []
          },
          "execution_count": 19
        }
      ]
    },
    {
      "cell_type": "code",
      "metadata": {
        "id": "GuR7ME7LHsrg",
        "colab_type": "code",
        "colab": {
          "base_uri": "https://localhost:8080/",
          "height": 35
        },
        "outputId": "208e5f85-60c9-4e9c-9848-d62c28d2d674"
      },
      "source": [
        "df.iloc[1,1]"
      ],
      "execution_count": 20,
      "outputs": [
        {
          "output_type": "execute_result",
          "data": {
            "text/plain": [
              "0.06865041058621023"
            ]
          },
          "metadata": {
            "tags": []
          },
          "execution_count": 20
        }
      ]
    },
    {
      "cell_type": "code",
      "metadata": {
        "id": "I0jO7vucH-FQ",
        "colab_type": "code",
        "colab": {
          "base_uri": "https://localhost:8080/",
          "height": 35
        },
        "outputId": "713d64b1-d406-42b1-ecd1-2e7050e90f8b"
      },
      "source": [
        "df.iat[1,1]"
      ],
      "execution_count": 21,
      "outputs": [
        {
          "output_type": "execute_result",
          "data": {
            "text/plain": [
              "0.06865041058621023"
            ]
          },
          "metadata": {
            "tags": []
          },
          "execution_count": 21
        }
      ]
    },
    {
      "cell_type": "markdown",
      "metadata": {
        "id": "i84nUHVnKRUV",
        "colab_type": "text"
      },
      "source": [
        "## pandas를 열심히 해야하는 이유는\n",
        "데이터전처리의 중요성이 더 커지고 있기 때문이 아닐까...\n",
        "자유자재로 다룰 수 있어야 더 어려운 문제들을 해결하는데 도움이 될 것 같다.\n",
        "\n",
        "다른 라이브러리는 크게 모든 함수와 메소드들을 외울 필요는 없다고 생각하지만, 판다스는 유일하게 그걸 외울 가치가 있는 라이브러리라고 생각한다.. 그래서 더 열심히 해야지..."
      ]
    }
  ]
}
