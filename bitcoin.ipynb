{
  "nbformat": 4,
  "nbformat_minor": 0,
  "metadata": {
    "colab": {
      "name": "bitcoin.ipynb",
      "provenance": [],
      "collapsed_sections": [],
      "authorship_tag": "ABX9TyOumLV8ZUxiaoZWF/ZOn7GM",
      "include_colab_link": true
    },
    "kernelspec": {
      "name": "python3",
      "display_name": "Python 3"
    }
  },
  "cells": [
    {
      "cell_type": "markdown",
      "metadata": {
        "id": "view-in-github",
        "colab_type": "text"
      },
      "source": [
        "<a href=\"https://colab.research.google.com/github/silverstar0727/1day-1commit-challenge/blob/master/bitcoin.ipynb\" target=\"_parent\"><img src=\"https://colab.research.google.com/assets/colab-badge.svg\" alt=\"Open In Colab\"/></a>"
      ]
    },
    {
      "cell_type": "code",
      "metadata": {
        "id": "VsTLWpM343Nk",
        "colab_type": "code",
        "outputId": "73bbb4a8-6798-4a5b-8339-8b00a2a55476",
        "colab": {
          "base_uri": "https://localhost:8080/",
          "height": 127
        }
      },
      "source": [
        "# google drive와 연동\n",
        "from google.colab import drive\n",
        "\n",
        "drive.mount('/content/gdrive')"
      ],
      "execution_count": 2,
      "outputs": [
        {
          "output_type": "stream",
          "text": [
            "Go to this URL in a browser: https://accounts.google.com/o/oauth2/auth?client_id=947318989803-6bn6qk8qdgf4n4g3pfee6491hc0brc4i.apps.googleusercontent.com&redirect_uri=urn%3aietf%3awg%3aoauth%3a2.0%3aoob&response_type=code&scope=email%20https%3a%2f%2fwww.googleapis.com%2fauth%2fdocs.test%20https%3a%2f%2fwww.googleapis.com%2fauth%2fdrive%20https%3a%2f%2fwww.googleapis.com%2fauth%2fdrive.photos.readonly%20https%3a%2f%2fwww.googleapis.com%2fauth%2fpeopleapi.readonly\n",
            "\n",
            "Enter your authorization code:\n",
            "··········\n",
            "Mounted at /content/gdrive\n"
          ],
          "name": "stdout"
        }
      ]
    },
    {
      "cell_type": "code",
      "metadata": {
        "id": "D_YwCdoK44-k",
        "colab_type": "code",
        "outputId": "41ab8641-e8a3-438a-d7a7-cc47b321acdb",
        "colab": {
          "base_uri": "https://localhost:8080/",
          "height": 35
        }
      },
      "source": [
        "# 연동 테스트 코드\n",
        "with open('/content/gdrive/My Drive/foo.txt', 'w') as f:\n",
        "  f.write('Hello Google Drive!')\n",
        "\n",
        "!cat /content/gdrive/My\\ Drive/foo.txt"
      ],
      "execution_count": 3,
      "outputs": [
        {
          "output_type": "stream",
          "text": [
            "Hello Google Drive!"
          ],
          "name": "stdout"
        }
      ]
    },
    {
      "cell_type": "code",
      "metadata": {
        "id": "nn-rHHoAgSml",
        "colab_type": "code",
        "colab": {}
      },
      "source": [
        "import numpy as np\n",
        "import pandas as pd\n",
        "\n",
        "import seaborn as sns"
      ],
      "execution_count": 0,
      "outputs": []
    },
    {
      "cell_type": "code",
      "metadata": {
        "id": "1hT-iqSH45Xz",
        "colab_type": "code",
        "outputId": "e57c183e-1db3-426a-8e7a-115f19e8a880",
        "colab": {
          "base_uri": "https://localhost:8080/",
          "height": 419
        }
      },
      "source": [
        "df = pd.read_csv(\"/content/gdrive/My Drive/crypto_data/LTC-USD.csv\", names = ['time', 'low', 'high', 'open', 'close', 'volume'])\n",
        "df"
      ],
      "execution_count": 14,
      "outputs": [
        {
          "output_type": "execute_result",
          "data": {
            "text/html": [
              "<div>\n",
              "<style scoped>\n",
              "    .dataframe tbody tr th:only-of-type {\n",
              "        vertical-align: middle;\n",
              "    }\n",
              "\n",
              "    .dataframe tbody tr th {\n",
              "        vertical-align: top;\n",
              "    }\n",
              "\n",
              "    .dataframe thead th {\n",
              "        text-align: right;\n",
              "    }\n",
              "</style>\n",
              "<table border=\"1\" class=\"dataframe\">\n",
              "  <thead>\n",
              "    <tr style=\"text-align: right;\">\n",
              "      <th></th>\n",
              "      <th>time</th>\n",
              "      <th>low</th>\n",
              "      <th>high</th>\n",
              "      <th>open</th>\n",
              "      <th>close</th>\n",
              "      <th>volume</th>\n",
              "    </tr>\n",
              "  </thead>\n",
              "  <tbody>\n",
              "    <tr>\n",
              "      <th>0</th>\n",
              "      <td>1528968660</td>\n",
              "      <td>96.580002</td>\n",
              "      <td>96.589996</td>\n",
              "      <td>96.589996</td>\n",
              "      <td>96.580002</td>\n",
              "      <td>9.647200</td>\n",
              "    </tr>\n",
              "    <tr>\n",
              "      <th>1</th>\n",
              "      <td>1528968720</td>\n",
              "      <td>96.449997</td>\n",
              "      <td>96.669998</td>\n",
              "      <td>96.589996</td>\n",
              "      <td>96.660004</td>\n",
              "      <td>314.387024</td>\n",
              "    </tr>\n",
              "    <tr>\n",
              "      <th>2</th>\n",
              "      <td>1528968780</td>\n",
              "      <td>96.470001</td>\n",
              "      <td>96.570000</td>\n",
              "      <td>96.570000</td>\n",
              "      <td>96.570000</td>\n",
              "      <td>77.129799</td>\n",
              "    </tr>\n",
              "    <tr>\n",
              "      <th>3</th>\n",
              "      <td>1528968840</td>\n",
              "      <td>96.449997</td>\n",
              "      <td>96.570000</td>\n",
              "      <td>96.570000</td>\n",
              "      <td>96.500000</td>\n",
              "      <td>7.216067</td>\n",
              "    </tr>\n",
              "    <tr>\n",
              "      <th>4</th>\n",
              "      <td>1528968900</td>\n",
              "      <td>96.279999</td>\n",
              "      <td>96.540001</td>\n",
              "      <td>96.500000</td>\n",
              "      <td>96.389999</td>\n",
              "      <td>524.539978</td>\n",
              "    </tr>\n",
              "    <tr>\n",
              "      <th>...</th>\n",
              "      <td>...</td>\n",
              "      <td>...</td>\n",
              "      <td>...</td>\n",
              "      <td>...</td>\n",
              "      <td>...</td>\n",
              "      <td>...</td>\n",
              "    </tr>\n",
              "    <tr>\n",
              "      <th>101878</th>\n",
              "      <td>1535215020</td>\n",
              "      <td>58.009998</td>\n",
              "      <td>58.020000</td>\n",
              "      <td>58.020000</td>\n",
              "      <td>58.009998</td>\n",
              "      <td>7.301921</td>\n",
              "    </tr>\n",
              "    <tr>\n",
              "      <th>101879</th>\n",
              "      <td>1535215080</td>\n",
              "      <td>58.009998</td>\n",
              "      <td>58.020000</td>\n",
              "      <td>58.009998</td>\n",
              "      <td>58.020000</td>\n",
              "      <td>23.802017</td>\n",
              "    </tr>\n",
              "    <tr>\n",
              "      <th>101880</th>\n",
              "      <td>1535215140</td>\n",
              "      <td>58.020000</td>\n",
              "      <td>58.020000</td>\n",
              "      <td>58.020000</td>\n",
              "      <td>58.020000</td>\n",
              "      <td>6.953497</td>\n",
              "    </tr>\n",
              "    <tr>\n",
              "      <th>101881</th>\n",
              "      <td>1535215200</td>\n",
              "      <td>58.020000</td>\n",
              "      <td>58.080002</td>\n",
              "      <td>58.020000</td>\n",
              "      <td>58.080002</td>\n",
              "      <td>202.403183</td>\n",
              "    </tr>\n",
              "    <tr>\n",
              "      <th>101882</th>\n",
              "      <td>1535215260</td>\n",
              "      <td>58.070000</td>\n",
              "      <td>58.099998</td>\n",
              "      <td>58.070000</td>\n",
              "      <td>58.090000</td>\n",
              "      <td>160.602554</td>\n",
              "    </tr>\n",
              "  </tbody>\n",
              "</table>\n",
              "<p>101883 rows × 6 columns</p>\n",
              "</div>"
            ],
            "text/plain": [
              "              time        low       high       open      close      volume\n",
              "0       1528968660  96.580002  96.589996  96.589996  96.580002    9.647200\n",
              "1       1528968720  96.449997  96.669998  96.589996  96.660004  314.387024\n",
              "2       1528968780  96.470001  96.570000  96.570000  96.570000   77.129799\n",
              "3       1528968840  96.449997  96.570000  96.570000  96.500000    7.216067\n",
              "4       1528968900  96.279999  96.540001  96.500000  96.389999  524.539978\n",
              "...            ...        ...        ...        ...        ...         ...\n",
              "101878  1535215020  58.009998  58.020000  58.020000  58.009998    7.301921\n",
              "101879  1535215080  58.009998  58.020000  58.009998  58.020000   23.802017\n",
              "101880  1535215140  58.020000  58.020000  58.020000  58.020000    6.953497\n",
              "101881  1535215200  58.020000  58.080002  58.020000  58.080002  202.403183\n",
              "101882  1535215260  58.070000  58.099998  58.070000  58.090000  160.602554\n",
              "\n",
              "[101883 rows x 6 columns]"
            ]
          },
          "metadata": {
            "tags": []
          },
          "execution_count": 14
        }
      ]
    },
    {
      "cell_type": "code",
      "metadata": {
        "id": "qgfoOahR5gkk",
        "colab_type": "code",
        "colab": {
          "base_uri": "https://localhost:8080/",
          "height": 297
        },
        "outputId": "d08b76d4-3ee9-481d-ae93-06924ea8b01e"
      },
      "source": [
        "sns.lineplot(x = 'time', y = 'close', data = df)"
      ],
      "execution_count": 15,
      "outputs": [
        {
          "output_type": "execute_result",
          "data": {
            "text/plain": [
              "<matplotlib.axes._subplots.AxesSubplot at 0x7f261171fda0>"
            ]
          },
          "metadata": {
            "tags": []
          },
          "execution_count": 15
        },
        {
          "output_type": "display_data",
          "data": {
            "image/png": "[encoded data removed]",
            "text/plain": [
              "<Figure size 432x288 with 1 Axes>"
            ]
          },
          "metadata": {
            "tags": [],
            "needs_background": "light"
          }
        }
      ]
    },
    {
      "cell_type": "code",
      "metadata": {
        "id": "kQFUJXjJlTim",
        "colab_type": "code",
        "colab": {}
      },
      "source": [
        "# 데이터를 넣을 빈 데이터프레임을 만듦\n",
        "main_df = pd.DataFrame()"
      ],
      "execution_count": 0,
      "outputs": []
    },
    {
      "cell_type": "code",
      "metadata": {
        "id": "CH6Q7nn2grBv",
        "colab_type": "code",
        "colab": {}
      },
      "source": [
        "#파라미터를 변수로 설정\n",
        "SEQ_LEN = 60 # 몇분짜리를 한 덩어리로 학습시킬건지 (ex 60분)\n",
        "FUTURE_PERIOD_PREDICT = 3 #몇 분 후 가격을 기준으로 등락을 결정할 건지 (3분 후)\n",
        "RATIO_TO_PREDICT = \"LTC-USD\" # 어느 코인 가격을 예측?"
      ],
      "execution_count": 0,
      "outputs": []
    },
    {
      "cell_type": "code",
      "metadata": {
        "id": "RVtxiWxFhwqr",
        "colab_type": "code",
        "colab": {
          "base_uri": "https://localhost:8080/",
          "height": 179
        },
        "outputId": "463acecf-5ede-4ee3-9e1e-1a77c5053d5f"
      },
      "source": [
        "ratios = [\"BTC-USD\", \"LTC-USD\", \"ETH-USD\"]\n",
        "for ratio in ratios:\n",
        "    dataset = f'/content/gdrive/My Drive/crypto_data/{ratio}.csv'\n",
        "    df = pd.read_csv(dataset, names=['time','low','high','open','close','volume'])\n",
        "\n",
        "    df.rename(columns={\"close\": f\"{ratio}_close\", \"volume\" : f\"{ratio}_volume\"}, inplace=True)\n",
        "\n",
        "\n",
        "    # 일단 time을 index로 두고, 컬럼은 종가와 거래량만 남김\n",
        "    df.set_index(\"time\", inplace=True)\n",
        "    df = df[[f\"{ratio}_close\", f\"{ratio}_volume\"]]\n",
        "    # 그리고 이것들을 join한다 -> 여러 코인 데이터를 하나의 df에 join\n",
        "    if len(main_df)==0:\n",
        "        main_df = df\n",
        "    else:\n",
        "        main_df = main_df.join(df)\n",
        "\n",
        "main_df.fillna(method=\"ffill\",inplace=True)\n",
        "main_df.dropna(inplace=True)\n",
        "print(main_df.head())\n",
        "\n",
        "\n",
        "## target값,즉 등락을 표시하기 위한 함수\n",
        "def classify(current, future): #현재와 미래 가격을 인자로 받아서\n",
        "    if float(future) > float(current):\n",
        "        return 1 # 오르면 1\n",
        "    else:\n",
        "        return 0 # 떨어지면 0\n",
        "\n",
        "#여기서 미래의 가격이란 3분 후의 가격\n",
        "main_df['future'] = main_df[f'{RATIO_TO_PREDICT}_close'].shift(-FUTURE_PERIOD_PREDICT)\n",
        "#그래서 위의 classfy 함수를 돌려 target value를 구한다\n",
        "main_df['target'] = list(map(classify, main_df[f'{RATIO_TO_PREDICT}_close'], main_df['future']))\n",
        "\n",
        "\n",
        "# test train split\n",
        "#시간순으로 마지막 5%에 해당하는 데이터를 테스트 데이터로 쓴다\n",
        "times = sorted(main_df.index.values) # get the times\n",
        "last_5pct = sorted(main_df.index.values)[-int(0.05*len(times))]\n",
        "\n",
        "# validation_main_df는 마지막 5% 이내 시간\n",
        "validation_main_df = main_df[(main_df.index >= last_5pct)]\n",
        "# main_df는 앞의 95% 시간에 해당하는 데이터가 들어감\n",
        "main_df = main_df[(main_df.index < last_5pct)]"
      ],
      "execution_count": 20,
      "outputs": [
        {
          "output_type": "stream",
          "text": [
            "            BTC-USD_close  BTC-USD_volume  ...  ETH-USD_close  ETH-USD_volume\n",
            "time                                       ...                               \n",
            "1528968720    6487.379883        7.706374  ...      486.01001       26.019083\n",
            "1528968780    6479.410156        3.088252  ...      486.00000        8.449400\n",
            "1528968840    6479.410156        1.404100  ...      485.75000       26.994646\n",
            "1528968900    6479.979980        0.753000  ...      486.00000       77.355759\n",
            "1528968960    6480.000000        1.490900  ...      486.00000        7.503300\n",
            "\n",
            "[5 rows x 6 columns]\n"
          ],
          "name": "stdout"
        }
      ]
    },
    {
      "cell_type": "code",
      "metadata": {
        "id": "2evCQ_C4hwlf",
        "colab_type": "code",
        "colab": {}
      },
      "source": [
        "from sklearn import preprocessing\n",
        "from collections import deque\n",
        "import random"
      ],
      "execution_count": 0,
      "outputs": []
    },
    {
      "cell_type": "code",
      "metadata": {
        "id": "yd1MmBO7lYu6",
        "colab_type": "code",
        "colab": {}
      },
      "source": [
        "def preprocess_df(df):\n",
        "    df = df.drop(\"future\", axis=1) #필요없는 컬럼은 제거 (왜 위에서 안 지웠지?)\n",
        "\n",
        "    #코인마다 가격이 닫르므로 스케일링을 해주어야 합니다.\n",
        "    #여기서는 percent chnage를 하고 다시 sklearn.preprocessing.scale를 썼는디\n",
        "    #구체적으로 어떤식으로 스케일링을 하는지는 찾아보지 않았습니다.\n",
        "    for col in df.columns:\n",
        "        if col != \"target\":\n",
        "            df[col] = df[col].pct_change() #퍼센트 체인지\n",
        "            df.dropna(inplace=True)\n",
        "            df[col] = preprocessing.scale(df[col].values)\n",
        "\n",
        "    # sentdex가 na는 잘 생긴다고 안전빵으로 dropna 한다고 했습니다.\n",
        "    df.dropna(inplace=True)\n",
        "\n",
        "    #자 이제 한 묶음으로 때려넣을 데이터를 묶습니다.\n",
        "    sequential_data = []\n",
        "    #deque는 배열에 새로운 데이터가 들어와도 length를 유지해주는 친구입니다.\n",
        "    #배열이 꽉 찼는데 새로 뭐가 들어오면 맨 뒤에는 팅겨나가는 방식으로\n",
        "    #크기를 유지합니다. 여기서는 SEQ_LEN, 즉 60개가 배열 크기가 됩니다.\n",
        "    prev_days = deque(maxlen=SEQ_LEN)\n",
        "\n",
        "\n",
        "    for i in  df.values:\n",
        "        prev_days.append([n for n in i[:-1]]) #타겟 빼놓고 나머지를 pre_days에 어펜드\n",
        "        if len(prev_days) == SEQ_LEN: #pre_days에 60개가 꽉차면\n",
        "            sequential_data.append([np.array(prev_days),i[-1]]) #sequential_data에 target과 함께 어펜드\n",
        "    random.shuffle(sequential_data)\n",
        "\n",
        "\n",
        "    ## blancing\n",
        "    # target이 1이면 사라, 0이면 팔아라,의 신호인데\n",
        "    # 데이터 불균형이 있을 수 있으므로 그것을 맞추는 작업\n",
        "    buys = []\n",
        "    sells = []\n",
        "\n",
        "    for seq, target in sequential_data:\n",
        "        #타겟이 0이면 팔아라에 넣고\n",
        "        if target == 0:\n",
        "            sells.append([seq, target])\n",
        "        #타겟이 1이면 사라에 넣는다\n",
        "        elif target == 1:\n",
        "            buys.append([seq, target])\n",
        "\n",
        "    random.shuffle(buys)\n",
        "    random.shuffle(sells)\n",
        "\n",
        "    # 두 데이터의 숫자를 맞춰주려고 함(둘 중 숫자가 작은 것으로)\n",
        "    lower = min(len(buys), len(sells))\n",
        "\n",
        "    #위에서 미리 셔플해놨으므로 그냥 슬라이싱 하면 됨.\n",
        "    buys = buys[:lower]\n",
        "    sells = sells[:lower]\n",
        "\n",
        "    # 둘을 합쳐서 학습 데이터에 넣고\n",
        "    sequential_data = buys+sells\n",
        "    random.shuffle(sequential_data)\n",
        "\n",
        "    # test train split\n",
        "    X = []\n",
        "    y = []\n",
        "\n",
        "    for seq, target in sequential_data:\n",
        "        X.append(seq)\n",
        "        y.append(target)\n",
        "\n",
        "    return np.array(X), y\n"
      ],
      "execution_count": 0,
      "outputs": []
    },
    {
      "cell_type": "code",
      "metadata": {
        "id": "erJK_t0-lYs0",
        "colab_type": "code",
        "colab": {}
      },
      "source": [
        "train_x, train_y = preprocess_df(main_df)\n",
        "validation_x, validation_y = preprocess_df(validation_main_df)"
      ],
      "execution_count": 0,
      "outputs": []
    },
    {
      "cell_type": "code",
      "metadata": {
        "id": "dvsc8A7MlYmX",
        "colab_type": "code",
        "colab": {}
      },
      "source": [
        "import time\n",
        "EPOCHS = 10\n",
        "BATCH_SIZE=64\n",
        "\n",
        "#요거는 로그를 저장할 때 쓸 이름입니다.\n",
        "#하이퍼 파라미터를 이름에 들어가게 하는 건 좋은 방법인 것 같아요.\n",
        "#시간도 집어넣어서 겹치는 일이 없도록 합니다.\n",
        "NAME = f\"{SEQ_LEN}-SEQ-{FUTURE_PERIOD_PREDICT}-PRED-{int(time.time())}\""
      ],
      "execution_count": 0,
      "outputs": []
    },
    {
      "cell_type": "code",
      "metadata": {
        "id": "xnTYgsHLlYT7",
        "colab_type": "code",
        "colab": {
          "base_uri": "https://localhost:8080/",
          "height": 35
        },
        "outputId": "70ad755d-cbb7-4b25-b53c-40dd63166139"
      },
      "source": [
        "import tensorflow as tf\n",
        "from keras.models import Sequential\n",
        "from keras.layers import Dense, Dropout, LSTM, CuDNNLSTM, BatchNormalization\n",
        "from keras.callbacks import TensorBoard\n",
        "from keras.callbacks import ModelCheckpoint, ModelCheckpoint\n",
        "from keras.optimizers import Adam"
      ],
      "execution_count": 25,
      "outputs": [
        {
          "output_type": "stream",
          "text": [
            "Using TensorFlow backend.\n"
          ],
          "name": "stderr"
        }
      ]
    },
    {
      "cell_type": "code",
      "metadata": {
        "id": "lrvG4U_HlyND",
        "colab_type": "code",
        "colab": {}
      },
      "source": [
        "!pip install "
      ],
      "execution_count": 0,
      "outputs": []
    },
    {
      "cell_type": "code",
      "metadata": {
        "id": "d3KMP6z5lYQ7",
        "colab_type": "code",
        "colab": {
          "base_uri": "https://localhost:8080/",
          "height": 538
        },
        "outputId": "eeafb35b-bdce-4ca3-de7c-a5c4a740ea47"
      },
      "source": [
        "model = Sequential()\n",
        "\n",
        "model.add(CuDNNLSTM(128, input_shape=(train_x.shape[1:]), return_sequences=True))\n",
        "model.add(Dropout(0.2)) #오버피팅을 막고자 일부를 버림\n",
        "model.add(BatchNormalization())\n",
        "\n",
        "model.add(CuDNNLSTM(128, return_sequences=True))\n",
        "model.add(Dropout(0.1))\n",
        "model.add(BatchNormalization())\n",
        "\n",
        "model.add(CuDNNLSTM(128))\n",
        "model.add(Dropout(0.2))\n",
        "model.add(BatchNormalization())\n",
        "\n",
        "model.add(Dense(32, activation = 'relu'))\n",
        "model.add(Dropout(0.2))\n",
        "\n",
        "model.add(Dense(2, activation='softmax'))\n",
        "\n",
        "opt = Adam(lr=0.001, decay=1e-6)\n",
        "\n",
        "# Compile model\n",
        "model.compile(\n",
        "    loss='sparse_categorical_crossentropy',\n",
        "    optimizer=opt,\n",
        "    metrics=['accuracy']\n",
        ")"
      ],
      "execution_count": 26,
      "outputs": [
        {
          "output_type": "error",
          "ename": "ModuleNotFoundError",
          "evalue": "ignored",
          "traceback": [
            "\u001b[0;31m---------------------------------------------------------------------------\u001b[0m",
            "\u001b[0;31mModuleNotFoundError\u001b[0m                       Traceback (most recent call last)",
            "\u001b[0;32m<ipython-input-26-56203a2c7010>\u001b[0m in \u001b[0;36m<module>\u001b[0;34m()\u001b[0m\n\u001b[1;32m      1\u001b[0m \u001b[0mmodel\u001b[0m \u001b[0;34m=\u001b[0m \u001b[0mSequential\u001b[0m\u001b[0;34m(\u001b[0m\u001b[0;34m)\u001b[0m\u001b[0;34m\u001b[0m\u001b[0;34m\u001b[0m\u001b[0m\n\u001b[1;32m      2\u001b[0m \u001b[0;34m\u001b[0m\u001b[0m\n\u001b[0;32m----> 3\u001b[0;31m \u001b[0mmodel\u001b[0m\u001b[0;34m.\u001b[0m\u001b[0madd\u001b[0m\u001b[0;34m(\u001b[0m\u001b[0mCuDNNLSTM\u001b[0m\u001b[0;34m(\u001b[0m\u001b[0;36m128\u001b[0m\u001b[0;34m,\u001b[0m \u001b[0minput_shape\u001b[0m\u001b[0;34m=\u001b[0m\u001b[0;34m(\u001b[0m\u001b[0mtrain_x\u001b[0m\u001b[0;34m.\u001b[0m\u001b[0mshape\u001b[0m\u001b[0;34m[\u001b[0m\u001b[0;36m1\u001b[0m\u001b[0;34m:\u001b[0m\u001b[0;34m]\u001b[0m\u001b[0;34m)\u001b[0m\u001b[0;34m,\u001b[0m \u001b[0mreturn_sequences\u001b[0m\u001b[0;34m=\u001b[0m\u001b[0;32mTrue\u001b[0m\u001b[0;34m)\u001b[0m\u001b[0;34m)\u001b[0m\u001b[0;34m\u001b[0m\u001b[0;34m\u001b[0m\u001b[0m\n\u001b[0m\u001b[1;32m      4\u001b[0m \u001b[0mmodel\u001b[0m\u001b[0;34m.\u001b[0m\u001b[0madd\u001b[0m\u001b[0;34m(\u001b[0m\u001b[0mDropout\u001b[0m\u001b[0;34m(\u001b[0m\u001b[0;36m0.2\u001b[0m\u001b[0;34m)\u001b[0m\u001b[0;34m)\u001b[0m \u001b[0;31m#오버피팅을 막고자 일부를 버림\u001b[0m\u001b[0;34m\u001b[0m\u001b[0;34m\u001b[0m\u001b[0m\n\u001b[1;32m      5\u001b[0m \u001b[0mmodel\u001b[0m\u001b[0;34m.\u001b[0m\u001b[0madd\u001b[0m\u001b[0;34m(\u001b[0m\u001b[0mBatchNormalization\u001b[0m\u001b[0;34m(\u001b[0m\u001b[0;34m)\u001b[0m\u001b[0;34m)\u001b[0m\u001b[0;34m\u001b[0m\u001b[0;34m\u001b[0m\u001b[0m\n",
            "\u001b[0;32m/usr/local/lib/python3.6/dist-packages/keras/engine/sequential.py\u001b[0m in \u001b[0;36madd\u001b[0;34m(self, layer)\u001b[0m\n\u001b[1;32m    164\u001b[0m                     \u001b[0;31m# and create the node connecting the current layer\u001b[0m\u001b[0;34m\u001b[0m\u001b[0;34m\u001b[0m\u001b[0;34m\u001b[0m\u001b[0m\n\u001b[1;32m    165\u001b[0m                     \u001b[0;31m# to the input layer we just created.\u001b[0m\u001b[0;34m\u001b[0m\u001b[0;34m\u001b[0m\u001b[0;34m\u001b[0m\u001b[0m\n\u001b[0;32m--> 166\u001b[0;31m                     \u001b[0mlayer\u001b[0m\u001b[0;34m(\u001b[0m\u001b[0mx\u001b[0m\u001b[0;34m)\u001b[0m\u001b[0;34m\u001b[0m\u001b[0;34m\u001b[0m\u001b[0m\n\u001b[0m\u001b[1;32m    167\u001b[0m                     \u001b[0mset_inputs\u001b[0m \u001b[0;34m=\u001b[0m \u001b[0;32mTrue\u001b[0m\u001b[0;34m\u001b[0m\u001b[0;34m\u001b[0m\u001b[0m\n\u001b[1;32m    168\u001b[0m             \u001b[0;32melse\u001b[0m\u001b[0;34m:\u001b[0m\u001b[0;34m\u001b[0m\u001b[0;34m\u001b[0m\u001b[0m\n",
            "\u001b[0;32m/usr/local/lib/python3.6/dist-packages/keras/layers/recurrent.py\u001b[0m in \u001b[0;36m__call__\u001b[0;34m(self, inputs, initial_state, constants, **kwargs)\u001b[0m\n\u001b[1;32m    539\u001b[0m \u001b[0;34m\u001b[0m\u001b[0m\n\u001b[1;32m    540\u001b[0m         \u001b[0;32mif\u001b[0m \u001b[0minitial_state\u001b[0m \u001b[0;32mis\u001b[0m \u001b[0;32mNone\u001b[0m \u001b[0;32mand\u001b[0m \u001b[0mconstants\u001b[0m \u001b[0;32mis\u001b[0m \u001b[0;32mNone\u001b[0m\u001b[0;34m:\u001b[0m\u001b[0;34m\u001b[0m\u001b[0;34m\u001b[0m\u001b[0m\n\u001b[0;32m--> 541\u001b[0;31m             \u001b[0;32mreturn\u001b[0m \u001b[0msuper\u001b[0m\u001b[0;34m(\u001b[0m\u001b[0mRNN\u001b[0m\u001b[0;34m,\u001b[0m \u001b[0mself\u001b[0m\u001b[0;34m)\u001b[0m\u001b[0;34m.\u001b[0m\u001b[0m__call__\u001b[0m\u001b[0;34m(\u001b[0m\u001b[0minputs\u001b[0m\u001b[0;34m,\u001b[0m \u001b[0;34m**\u001b[0m\u001b[0mkwargs\u001b[0m\u001b[0;34m)\u001b[0m\u001b[0;34m\u001b[0m\u001b[0;34m\u001b[0m\u001b[0m\n\u001b[0m\u001b[1;32m    542\u001b[0m \u001b[0;34m\u001b[0m\u001b[0m\n\u001b[1;32m    543\u001b[0m         \u001b[0;31m# If any of `initial_state` or `constants` are specified and are Keras\u001b[0m\u001b[0;34m\u001b[0m\u001b[0;34m\u001b[0m\u001b[0;34m\u001b[0m\u001b[0m\n",
            "\u001b[0;32m/usr/local/lib/python3.6/dist-packages/keras/backend/tensorflow_backend.py\u001b[0m in \u001b[0;36msymbolic_fn_wrapper\u001b[0;34m(*args, **kwargs)\u001b[0m\n\u001b[1;32m     73\u001b[0m         \u001b[0;32mif\u001b[0m \u001b[0m_SYMBOLIC_SCOPE\u001b[0m\u001b[0;34m.\u001b[0m\u001b[0mvalue\u001b[0m\u001b[0;34m:\u001b[0m\u001b[0;34m\u001b[0m\u001b[0;34m\u001b[0m\u001b[0m\n\u001b[1;32m     74\u001b[0m             \u001b[0;32mwith\u001b[0m \u001b[0mget_graph\u001b[0m\u001b[0;34m(\u001b[0m\u001b[0;34m)\u001b[0m\u001b[0;34m.\u001b[0m\u001b[0mas_default\u001b[0m\u001b[0;34m(\u001b[0m\u001b[0;34m)\u001b[0m\u001b[0;34m:\u001b[0m\u001b[0;34m\u001b[0m\u001b[0;34m\u001b[0m\u001b[0m\n\u001b[0;32m---> 75\u001b[0;31m                 \u001b[0;32mreturn\u001b[0m \u001b[0mfunc\u001b[0m\u001b[0;34m(\u001b[0m\u001b[0;34m*\u001b[0m\u001b[0margs\u001b[0m\u001b[0;34m,\u001b[0m \u001b[0;34m**\u001b[0m\u001b[0mkwargs\u001b[0m\u001b[0;34m)\u001b[0m\u001b[0;34m\u001b[0m\u001b[0;34m\u001b[0m\u001b[0m\n\u001b[0m\u001b[1;32m     76\u001b[0m         \u001b[0;32melse\u001b[0m\u001b[0;34m:\u001b[0m\u001b[0;34m\u001b[0m\u001b[0;34m\u001b[0m\u001b[0m\n\u001b[1;32m     77\u001b[0m             \u001b[0;32mreturn\u001b[0m \u001b[0mfunc\u001b[0m\u001b[0;34m(\u001b[0m\u001b[0;34m*\u001b[0m\u001b[0margs\u001b[0m\u001b[0;34m,\u001b[0m \u001b[0;34m**\u001b[0m\u001b[0mkwargs\u001b[0m\u001b[0;34m)\u001b[0m\u001b[0;34m\u001b[0m\u001b[0;34m\u001b[0m\u001b[0m\n",
            "\u001b[0;32m/usr/local/lib/python3.6/dist-packages/keras/engine/base_layer.py\u001b[0m in \u001b[0;36m__call__\u001b[0;34m(self, inputs, **kwargs)\u001b[0m\n\u001b[1;32m    461\u001b[0m                                          \u001b[0;34m'You can build it manually via: '\u001b[0m\u001b[0;34m\u001b[0m\u001b[0;34m\u001b[0m\u001b[0m\n\u001b[1;32m    462\u001b[0m                                          '`layer.build(batch_input_shape)`')\n\u001b[0;32m--> 463\u001b[0;31m                 \u001b[0mself\u001b[0m\u001b[0;34m.\u001b[0m\u001b[0mbuild\u001b[0m\u001b[0;34m(\u001b[0m\u001b[0munpack_singleton\u001b[0m\u001b[0;34m(\u001b[0m\u001b[0minput_shapes\u001b[0m\u001b[0;34m)\u001b[0m\u001b[0;34m)\u001b[0m\u001b[0;34m\u001b[0m\u001b[0;34m\u001b[0m\u001b[0m\n\u001b[0m\u001b[1;32m    464\u001b[0m                 \u001b[0mself\u001b[0m\u001b[0;34m.\u001b[0m\u001b[0mbuilt\u001b[0m \u001b[0;34m=\u001b[0m \u001b[0;32mTrue\u001b[0m\u001b[0;34m\u001b[0m\u001b[0;34m\u001b[0m\u001b[0m\n\u001b[1;32m    465\u001b[0m \u001b[0;34m\u001b[0m\u001b[0m\n",
            "\u001b[0;32m/usr/local/lib/python3.6/dist-packages/keras/layers/cudnn_recurrent.py\u001b[0m in \u001b[0;36mbuild\u001b[0;34m(self, input_shape)\u001b[0m\n\u001b[1;32m    423\u001b[0m         \u001b[0minput_dim\u001b[0m \u001b[0;34m=\u001b[0m \u001b[0minput_shape\u001b[0m\u001b[0;34m[\u001b[0m\u001b[0;34m-\u001b[0m\u001b[0;36m1\u001b[0m\u001b[0;34m]\u001b[0m\u001b[0;34m\u001b[0m\u001b[0;34m\u001b[0m\u001b[0m\n\u001b[1;32m    424\u001b[0m \u001b[0;34m\u001b[0m\u001b[0m\n\u001b[0;32m--> 425\u001b[0;31m         \u001b[0;32mfrom\u001b[0m \u001b[0mtensorflow\u001b[0m\u001b[0;34m.\u001b[0m\u001b[0mcontrib\u001b[0m\u001b[0;34m.\u001b[0m\u001b[0mcudnn_rnn\u001b[0m\u001b[0;34m.\u001b[0m\u001b[0mpython\u001b[0m\u001b[0;34m.\u001b[0m\u001b[0mops\u001b[0m \u001b[0;32mimport\u001b[0m \u001b[0mcudnn_rnn_ops\u001b[0m\u001b[0;34m\u001b[0m\u001b[0;34m\u001b[0m\u001b[0m\n\u001b[0m\u001b[1;32m    426\u001b[0m         self._cudnn_lstm = cudnn_rnn_ops.CudnnLSTM(\n\u001b[1;32m    427\u001b[0m             \u001b[0mnum_layers\u001b[0m\u001b[0;34m=\u001b[0m\u001b[0;36m1\u001b[0m\u001b[0;34m,\u001b[0m\u001b[0;34m\u001b[0m\u001b[0;34m\u001b[0m\u001b[0m\n",
            "\u001b[0;31mModuleNotFoundError\u001b[0m: No module named 'tensorflow.contrib'",
            "",
            "\u001b[0;31m---------------------------------------------------------------------------\u001b[0;32m\nNOTE: If your import is failing due to a missing package, you can\nmanually install dependencies using either !pip or !apt.\n\nTo view examples of installing some common dependencies, click the\n\"Open Examples\" button below.\n\u001b[0;31m---------------------------------------------------------------------------\u001b[0m\n"
          ]
        }
      ]
    },
    {
      "cell_type": "code",
      "metadata": {
        "id": "HvzWQfFolYJn",
        "colab_type": "code",
        "colab": {}
      },
      "source": [
        ""
      ],
      "execution_count": 0,
      "outputs": []
    }
  ]
}