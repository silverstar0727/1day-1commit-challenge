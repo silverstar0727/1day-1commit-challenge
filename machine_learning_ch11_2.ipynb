{
  "nbformat": 4,
  "nbformat_minor": 0,
  "metadata": {
    "colab": {
      "name": "machine_learning_ch11.2.ipynb",
      "provenance": [],
      "collapsed_sections": [],
      "authorship_tag": "ABX9TyORAa4fZ0SvYgZwJv6IoVSc",
      "include_colab_link": true
    },
    "kernelspec": {
      "name": "python3",
      "display_name": "Python 3"
    }
  },
  "cells": [
    {
      "cell_type": "markdown",
      "metadata": {
        "id": "view-in-github",
        "colab_type": "text"
      },
      "source": [
        "<a href=\"https://colab.research.google.com/github/silverstar0727/1day-1commit-challenge/blob/master/machine_learning_ch11_2.ipynb\" target=\"_parent\"><img src=\"https://colab.research.google.com/assets/colab-badge.svg\" alt=\"Open In Colab\"/></a>"
      ]
    },
    {
      "cell_type": "markdown",
      "metadata": {
        "colab_type": "text",
        "id": "BWZG2hir1b9I"
      },
      "source": [
        "# 계층적 클러스터"
      ]
    },
    {
      "cell_type": "markdown",
      "metadata": {
        "colab_type": "text",
        "id": "mar2fQZ31b9v"
      },
      "source": [
        "모든 데이터를 단일 클러스터로 가정하고, 거리행렬을 계산하여 가장 가까운 두 클러스트를 합친후 유사도 행렬을 업데이트하는 방식을 차용"
      ]
    },
    {
      "cell_type": "code",
      "metadata": {
        "colab_type": "code",
        "outputId": "bfcc2136-909c-49e8-e1ff-e3f94c5115ce",
        "id": "6FrPmuA51b92",
        "colab": {
          "base_uri": "https://localhost:8080/",
          "height": 204
        }
      },
      "source": [
        "# dataset\n",
        "import matplotlib.pyplot as plt\n",
        "import pandas as pd\n",
        "import numpy as np\n",
        "\n",
        "np.random.seed(123)\n",
        "variables = ['X', 'Y', 'Z']\n",
        "labels = ['ID_0', 'ID_1', 'ID_2', 'ID_3', 'ID_4']\n",
        "X = np.random.random_sample([5, 3]) * 10\n",
        "df = pd.DataFrame(X, columns = variables, index = labels)\n",
        "df"
      ],
      "execution_count": 0,
      "outputs": [
        {
          "output_type": "execute_result",
          "data": {
            "text/html": [
              "<div>\n",
              "<style scoped>\n",
              "    .dataframe tbody tr th:only-of-type {\n",
              "        vertical-align: middle;\n",
              "    }\n",
              "\n",
              "    .dataframe tbody tr th {\n",
              "        vertical-align: top;\n",
              "    }\n",
              "\n",
              "    .dataframe thead th {\n",
              "        text-align: right;\n",
              "    }\n",
              "</style>\n",
              "<table border=\"1\" class=\"dataframe\">\n",
              "  <thead>\n",
              "    <tr style=\"text-align: right;\">\n",
              "      <th></th>\n",
              "      <th>X</th>\n",
              "      <th>Y</th>\n",
              "      <th>Z</th>\n",
              "    </tr>\n",
              "  </thead>\n",
              "  <tbody>\n",
              "    <tr>\n",
              "      <th>ID_0</th>\n",
              "      <td>6.964692</td>\n",
              "      <td>2.861393</td>\n",
              "      <td>2.268515</td>\n",
              "    </tr>\n",
              "    <tr>\n",
              "      <th>ID_1</th>\n",
              "      <td>5.513148</td>\n",
              "      <td>7.194690</td>\n",
              "      <td>4.231065</td>\n",
              "    </tr>\n",
              "    <tr>\n",
              "      <th>ID_2</th>\n",
              "      <td>9.807642</td>\n",
              "      <td>6.848297</td>\n",
              "      <td>4.809319</td>\n",
              "    </tr>\n",
              "    <tr>\n",
              "      <th>ID_3</th>\n",
              "      <td>3.921175</td>\n",
              "      <td>3.431780</td>\n",
              "      <td>7.290497</td>\n",
              "    </tr>\n",
              "    <tr>\n",
              "      <th>ID_4</th>\n",
              "      <td>4.385722</td>\n",
              "      <td>0.596779</td>\n",
              "      <td>3.980443</td>\n",
              "    </tr>\n",
              "  </tbody>\n",
              "</table>\n",
              "</div>"
            ],
            "text/plain": [
              "             X         Y         Z\n",
              "ID_0  6.964692  2.861393  2.268515\n",
              "ID_1  5.513148  7.194690  4.231065\n",
              "ID_2  9.807642  6.848297  4.809319\n",
              "ID_3  3.921175  3.431780  7.290497\n",
              "ID_4  4.385722  0.596779  3.980443"
            ]
          },
          "metadata": {
            "tags": []
          },
          "execution_count": 19
        }
      ]
    },
    {
      "cell_type": "code",
      "metadata": {
        "colab_type": "code",
        "outputId": "f1da8a40-20ff-4f1c-ba4f-140faad2ceff",
        "id": "5EqdHw1g1b-T",
        "colab": {
          "base_uri": "https://localhost:8080/",
          "height": 204
        }
      },
      "source": [
        "#거리행렬 계산\n",
        "from scipy.spatial.distance import pdist, squareform\n",
        "\n",
        "row_dist = pd.DataFrame(squareform(pdist(df, metric = 'euclidean')), columns = labels, index = labels)\n",
        "row_dist"
      ],
      "execution_count": 0,
      "outputs": [
        {
          "output_type": "execute_result",
          "data": {
            "text/html": [
              "<div>\n",
              "<style scoped>\n",
              "    .dataframe tbody tr th:only-of-type {\n",
              "        vertical-align: middle;\n",
              "    }\n",
              "\n",
              "    .dataframe tbody tr th {\n",
              "        vertical-align: top;\n",
              "    }\n",
              "\n",
              "    .dataframe thead th {\n",
              "        text-align: right;\n",
              "    }\n",
              "</style>\n",
              "<table border=\"1\" class=\"dataframe\">\n",
              "  <thead>\n",
              "    <tr style=\"text-align: right;\">\n",
              "      <th></th>\n",
              "      <th>ID_0</th>\n",
              "      <th>ID_1</th>\n",
              "      <th>ID_2</th>\n",
              "      <th>ID_3</th>\n",
              "      <th>ID_4</th>\n",
              "    </tr>\n",
              "  </thead>\n",
              "  <tbody>\n",
              "    <tr>\n",
              "      <th>ID_0</th>\n",
              "      <td>0.000000</td>\n",
              "      <td>4.973534</td>\n",
              "      <td>5.516653</td>\n",
              "      <td>5.899885</td>\n",
              "      <td>3.835396</td>\n",
              "    </tr>\n",
              "    <tr>\n",
              "      <th>ID_1</th>\n",
              "      <td>4.973534</td>\n",
              "      <td>0.000000</td>\n",
              "      <td>4.347073</td>\n",
              "      <td>5.104311</td>\n",
              "      <td>6.698233</td>\n",
              "    </tr>\n",
              "    <tr>\n",
              "      <th>ID_2</th>\n",
              "      <td>5.516653</td>\n",
              "      <td>4.347073</td>\n",
              "      <td>0.000000</td>\n",
              "      <td>7.244262</td>\n",
              "      <td>8.316594</td>\n",
              "    </tr>\n",
              "    <tr>\n",
              "      <th>ID_3</th>\n",
              "      <td>5.899885</td>\n",
              "      <td>5.104311</td>\n",
              "      <td>7.244262</td>\n",
              "      <td>0.000000</td>\n",
              "      <td>4.382864</td>\n",
              "    </tr>\n",
              "    <tr>\n",
              "      <th>ID_4</th>\n",
              "      <td>3.835396</td>\n",
              "      <td>6.698233</td>\n",
              "      <td>8.316594</td>\n",
              "      <td>4.382864</td>\n",
              "      <td>0.000000</td>\n",
              "    </tr>\n",
              "  </tbody>\n",
              "</table>\n",
              "</div>"
            ],
            "text/plain": [
              "          ID_0      ID_1      ID_2      ID_3      ID_4\n",
              "ID_0  0.000000  4.973534  5.516653  5.899885  3.835396\n",
              "ID_1  4.973534  0.000000  4.347073  5.104311  6.698233\n",
              "ID_2  5.516653  4.347073  0.000000  7.244262  8.316594\n",
              "ID_3  5.899885  5.104311  7.244262  0.000000  4.382864\n",
              "ID_4  3.835396  6.698233  8.316594  4.382864  0.000000"
            ]
          },
          "metadata": {
            "tags": []
          },
          "execution_count": 20
        }
      ]
    },
    {
      "cell_type": "code",
      "metadata": {
        "colab_type": "code",
        "outputId": "d99c544f-5d17-4181-9faf-75e4e462f066",
        "id": "GfrRAP391b-i",
        "colab": {
          "base_uri": "https://localhost:8080/",
          "height": 1000
        }
      },
      "source": [
        "from scipy.cluster.hierarchy import linkage\n",
        "help(linkage)"
      ],
      "execution_count": 0,
      "outputs": [
        {
          "output_type": "stream",
          "text": [
            "Help on function linkage in module scipy.cluster.hierarchy:\n",
            "\n",
            "linkage(y, method='single', metric='euclidean', optimal_ordering=False)\n",
            "    Perform hierarchical/agglomerative clustering.\n",
            "    \n",
            "    The input y may be either a 1d condensed distance matrix\n",
            "    or a 2d array of observation vectors.\n",
            "    \n",
            "    If y is a 1d condensed distance matrix,\n",
            "    then y must be a :math:`\\binom{n}{2}` sized\n",
            "    vector where n is the number of original observations paired\n",
            "    in the distance matrix. The behavior of this function is very\n",
            "    similar to the MATLAB linkage function.\n",
            "    \n",
            "    A :math:`(n-1)` by 4 matrix ``Z`` is returned. At the\n",
            "    :math:`i`-th iteration, clusters with indices ``Z[i, 0]`` and\n",
            "    ``Z[i, 1]`` are combined to form cluster :math:`n + i`. A\n",
            "    cluster with an index less than :math:`n` corresponds to one of\n",
            "    the :math:`n` original observations. The distance between\n",
            "    clusters ``Z[i, 0]`` and ``Z[i, 1]`` is given by ``Z[i, 2]``. The\n",
            "    fourth value ``Z[i, 3]`` represents the number of original\n",
            "    observations in the newly formed cluster.\n",
            "    \n",
            "    The following linkage methods are used to compute the distance\n",
            "    :math:`d(s, t)` between two clusters :math:`s` and\n",
            "    :math:`t`. The algorithm begins with a forest of clusters that\n",
            "    have yet to be used in the hierarchy being formed. When two\n",
            "    clusters :math:`s` and :math:`t` from this forest are combined\n",
            "    into a single cluster :math:`u`, :math:`s` and :math:`t` are\n",
            "    removed from the forest, and :math:`u` is added to the\n",
            "    forest. When only one cluster remains in the forest, the algorithm\n",
            "    stops, and this cluster becomes the root.\n",
            "    \n",
            "    A distance matrix is maintained at each iteration. The ``d[i,j]``\n",
            "    entry corresponds to the distance between cluster :math:`i` and\n",
            "    :math:`j` in the original forest.\n",
            "    \n",
            "    At each iteration, the algorithm must update the distance matrix\n",
            "    to reflect the distance of the newly formed cluster u with the\n",
            "    remaining clusters in the forest.\n",
            "    \n",
            "    Suppose there are :math:`|u|` original observations\n",
            "    :math:`u[0], \\ldots, u[|u|-1]` in cluster :math:`u` and\n",
            "    :math:`|v|` original objects :math:`v[0], \\ldots, v[|v|-1]` in\n",
            "    cluster :math:`v`. Recall :math:`s` and :math:`t` are\n",
            "    combined to form cluster :math:`u`. Let :math:`v` be any\n",
            "    remaining cluster in the forest that is not :math:`u`.\n",
            "    \n",
            "    The following are methods for calculating the distance between the\n",
            "    newly formed cluster :math:`u` and each :math:`v`.\n",
            "    \n",
            "      * method='single' assigns\n",
            "    \n",
            "        .. math::\n",
            "           d(u,v) = \\min(dist(u[i],v[j]))\n",
            "    \n",
            "        for all points :math:`i` in cluster :math:`u` and\n",
            "        :math:`j` in cluster :math:`v`. This is also known as the\n",
            "        Nearest Point Algorithm.\n",
            "    \n",
            "      * method='complete' assigns\n",
            "    \n",
            "        .. math::\n",
            "           d(u, v) = \\max(dist(u[i],v[j]))\n",
            "    \n",
            "        for all points :math:`i` in cluster u and :math:`j` in\n",
            "        cluster :math:`v`. This is also known by the Farthest Point\n",
            "        Algorithm or Voor Hees Algorithm.\n",
            "    \n",
            "      * method='average' assigns\n",
            "    \n",
            "        .. math::\n",
            "           d(u,v) = \\sum_{ij} \\frac{d(u[i], v[j])}\n",
            "                                   {(|u|*|v|)}\n",
            "    \n",
            "        for all points :math:`i` and :math:`j` where :math:`|u|`\n",
            "        and :math:`|v|` are the cardinalities of clusters :math:`u`\n",
            "        and :math:`v`, respectively. This is also called the UPGMA\n",
            "        algorithm.\n",
            "    \n",
            "      * method='weighted' assigns\n",
            "    \n",
            "        .. math::\n",
            "           d(u,v) = (dist(s,v) + dist(t,v))/2\n",
            "    \n",
            "        where cluster u was formed with cluster s and t and v\n",
            "        is a remaining cluster in the forest. (also called WPGMA)\n",
            "    \n",
            "      * method='centroid' assigns\n",
            "    \n",
            "        .. math::\n",
            "           dist(s,t) = ||c_s-c_t||_2\n",
            "    \n",
            "        where :math:`c_s` and :math:`c_t` are the centroids of\n",
            "        clusters :math:`s` and :math:`t`, respectively. When two\n",
            "        clusters :math:`s` and :math:`t` are combined into a new\n",
            "        cluster :math:`u`, the new centroid is computed over all the\n",
            "        original objects in clusters :math:`s` and :math:`t`. The\n",
            "        distance then becomes the Euclidean distance between the\n",
            "        centroid of :math:`u` and the centroid of a remaining cluster\n",
            "        :math:`v` in the forest. This is also known as the UPGMC\n",
            "        algorithm.\n",
            "    \n",
            "      * method='median' assigns :math:`d(s,t)` like the ``centroid``\n",
            "        method. When two clusters :math:`s` and :math:`t` are combined\n",
            "        into a new cluster :math:`u`, the average of centroids s and t\n",
            "        give the new centroid :math:`u`. This is also known as the\n",
            "        WPGMC algorithm.\n",
            "    \n",
            "      * method='ward' uses the Ward variance minimization algorithm.\n",
            "        The new entry :math:`d(u,v)` is computed as follows,\n",
            "    \n",
            "        .. math::\n",
            "    \n",
            "           d(u,v) = \\sqrt{\\frac{|v|+|s|}\n",
            "                               {T}d(v,s)^2\n",
            "                        + \\frac{|v|+|t|}\n",
            "                               {T}d(v,t)^2\n",
            "                        - \\frac{|v|}\n",
            "                               {T}d(s,t)^2}\n",
            "    \n",
            "        where :math:`u` is the newly joined cluster consisting of\n",
            "        clusters :math:`s` and :math:`t`, :math:`v` is an unused\n",
            "        cluster in the forest, :math:`T=|v|+|s|+|t|`, and\n",
            "        :math:`|*|` is the cardinality of its argument. This is also\n",
            "        known as the incremental algorithm.\n",
            "    \n",
            "    Warning: When the minimum distance pair in the forest is chosen, there\n",
            "    may be two or more pairs with the same minimum distance. This\n",
            "    implementation may choose a different minimum than the MATLAB\n",
            "    version.\n",
            "    \n",
            "    Parameters\n",
            "    ----------\n",
            "    y : ndarray\n",
            "        A condensed distance matrix. A condensed distance matrix\n",
            "        is a flat array containing the upper triangular of the distance matrix.\n",
            "        This is the form that ``pdist`` returns. Alternatively, a collection of\n",
            "        :math:`m` observation vectors in :math:`n` dimensions may be passed as\n",
            "        an :math:`m` by :math:`n` array. All elements of the condensed distance\n",
            "        matrix must be finite, i.e. no NaNs or infs.\n",
            "    method : str, optional\n",
            "        The linkage algorithm to use. See the ``Linkage Methods`` section below\n",
            "        for full descriptions.\n",
            "    metric : str or function, optional\n",
            "        The distance metric to use in the case that y is a collection of\n",
            "        observation vectors; ignored otherwise. See the ``pdist``\n",
            "        function for a list of valid distance metrics. A custom distance\n",
            "        function can also be used.\n",
            "    optimal_ordering : bool, optional\n",
            "        If True, the linkage matrix will be reordered so that the distance\n",
            "        between successive leaves is minimal. This results in a more intuitive\n",
            "        tree structure when the data are visualized. defaults to False, because\n",
            "        this algorithm can be slow, particularly on large datasets [2]_. See\n",
            "        also the `optimal_leaf_ordering` function.\n",
            "    \n",
            "        .. versionadded:: 1.0.0\n",
            "    \n",
            "    Returns\n",
            "    -------\n",
            "    Z : ndarray\n",
            "        The hierarchical clustering encoded as a linkage matrix.\n",
            "    \n",
            "    Notes\n",
            "    -----\n",
            "    1. For method 'single' an optimized algorithm based on minimum spanning\n",
            "       tree is implemented. It has time complexity :math:`O(n^2)`.\n",
            "       For methods 'complete', 'average', 'weighted' and 'ward' an algorithm\n",
            "       called nearest-neighbors chain is implemented. It also has time\n",
            "       complexity :math:`O(n^2)`.\n",
            "       For other methods a naive algorithm is implemented with :math:`O(n^3)`\n",
            "       time complexity.\n",
            "       All algorithms use :math:`O(n^2)` memory.\n",
            "       Refer to [1]_ for details about the algorithms.\n",
            "    2. Methods 'centroid', 'median' and 'ward' are correctly defined only if\n",
            "       Euclidean pairwise metric is used. If `y` is passed as precomputed\n",
            "       pairwise distances, then it is a user responsibility to assure that\n",
            "       these distances are in fact Euclidean, otherwise the produced result\n",
            "       will be incorrect.\n",
            "    \n",
            "    See Also\n",
            "    --------\n",
            "    scipy.spatial.distance.pdist : pairwise distance metrics\n",
            "    \n",
            "    References\n",
            "    ----------\n",
            "    .. [1] Daniel Mullner, \"Modern hierarchical, agglomerative clustering\n",
            "           algorithms\", :arXiv:`1109.2378v1`.\n",
            "    .. [2] Ziv Bar-Joseph, David K. Gifford, Tommi S. Jaakkola, \"Fast optimal\n",
            "           leaf ordering for hierarchical clustering\", 2001. Bioinformatics\n",
            "           :doi:`10.1093/bioinformatics/17.suppl_1.S22`\n",
            "    \n",
            "    Examples\n",
            "    --------\n",
            "    >>> from scipy.cluster.hierarchy import dendrogram, linkage\n",
            "    >>> from matplotlib import pyplot as plt\n",
            "    >>> X = [[i] for i in [2, 8, 0, 4, 1, 9, 9, 0]]\n",
            "    \n",
            "    >>> Z = linkage(X, 'ward')\n",
            "    >>> fig = plt.figure(figsize=(25, 10))\n",
            "    >>> dn = dendrogram(Z)\n",
            "    \n",
            "    >>> Z = linkage(X, 'single')\n",
            "    >>> fig = plt.figure(figsize=(25, 10))\n",
            "    >>> dn = dendrogram(Z)\n",
            "    >>> plt.show()\n",
            "\n"
          ],
          "name": "stdout"
        }
      ]
    },
    {
      "cell_type": "code",
      "metadata": {
        "colab_type": "code",
        "id": "pDfgt1Y21b-w",
        "colab": {}
      },
      "source": [
        "row_clusters = linkage(pdist(df, metric = 'euclidean'), method = 'complete')"
      ],
      "execution_count": 0,
      "outputs": []
    },
    {
      "cell_type": "code",
      "metadata": {
        "colab_type": "code",
        "outputId": "c54aab7d-b5ad-46c9-b252-d5df87711190",
        "id": "PMBQDp6E1b_B",
        "colab": {
          "base_uri": "https://localhost:8080/",
          "height": 173
        }
      },
      "source": [
        "pd.DataFrame(row_clusters, columns = ['row label 1', 'row label 2', 'distance', 'no. of items in clust'],\n",
        "                                       index = ['cluster %d' % (i+1) for i in range(row_clusters.shape[0])])"
      ],
      "execution_count": 0,
      "outputs": [
        {
          "output_type": "execute_result",
          "data": {
            "text/html": [
              "<div>\n",
              "<style scoped>\n",
              "    .dataframe tbody tr th:only-of-type {\n",
              "        vertical-align: middle;\n",
              "    }\n",
              "\n",
              "    .dataframe tbody tr th {\n",
              "        vertical-align: top;\n",
              "    }\n",
              "\n",
              "    .dataframe thead th {\n",
              "        text-align: right;\n",
              "    }\n",
              "</style>\n",
              "<table border=\"1\" class=\"dataframe\">\n",
              "  <thead>\n",
              "    <tr style=\"text-align: right;\">\n",
              "      <th></th>\n",
              "      <th>row label 1</th>\n",
              "      <th>row label 2</th>\n",
              "      <th>distance</th>\n",
              "      <th>no. of items in clust</th>\n",
              "    </tr>\n",
              "  </thead>\n",
              "  <tbody>\n",
              "    <tr>\n",
              "      <th>cluster 1</th>\n",
              "      <td>0.0</td>\n",
              "      <td>4.0</td>\n",
              "      <td>3.835396</td>\n",
              "      <td>2.0</td>\n",
              "    </tr>\n",
              "    <tr>\n",
              "      <th>cluster 2</th>\n",
              "      <td>1.0</td>\n",
              "      <td>2.0</td>\n",
              "      <td>4.347073</td>\n",
              "      <td>2.0</td>\n",
              "    </tr>\n",
              "    <tr>\n",
              "      <th>cluster 3</th>\n",
              "      <td>3.0</td>\n",
              "      <td>5.0</td>\n",
              "      <td>5.899885</td>\n",
              "      <td>3.0</td>\n",
              "    </tr>\n",
              "    <tr>\n",
              "      <th>cluster 4</th>\n",
              "      <td>6.0</td>\n",
              "      <td>7.0</td>\n",
              "      <td>8.316594</td>\n",
              "      <td>5.0</td>\n",
              "    </tr>\n",
              "  </tbody>\n",
              "</table>\n",
              "</div>"
            ],
            "text/plain": [
              "           row label 1  row label 2  distance  no. of items in clust\n",
              "cluster 1          0.0          4.0  3.835396                    2.0\n",
              "cluster 2          1.0          2.0  4.347073                    2.0\n",
              "cluster 3          3.0          5.0  5.899885                    3.0\n",
              "cluster 4          6.0          7.0  8.316594                    5.0"
            ]
          },
          "metadata": {
            "tags": []
          },
          "execution_count": 23
        }
      ]
    },
    {
      "cell_type": "code",
      "metadata": {
        "colab_type": "code",
        "outputId": "5750f63d-3c77-45e5-e8cb-1279496315b0",
        "id": "x26M7gOV1b_N",
        "colab": {
          "base_uri": "https://localhost:8080/",
          "height": 297
        }
      },
      "source": [
        "# 검은색 덴드로그램 만들기\n",
        "from scipy.cluster.hierarchy import dendrogram\n",
        "\n",
        "row_dendr = dendrogram(row_clusters, labels = labels)\n",
        "plt.tight_layout()\n",
        "plt.show()"
      ],
      "execution_count": 0,
      "outputs": [
        {
          "output_type": "display_data",
          "data": {
            "image/png": "[encoded data removed]",
            "text/plain": [
              "<Figure size 432x288 with 1 Axes>"
            ]
          },
          "metadata": {
            "tags": []
          }
        }
      ]
    },
    {
      "cell_type": "code",
      "metadata": {
        "colab_type": "code",
        "outputId": "cbd74e10-33d0-4f2f-c2eb-5abdc89b2253",
        "id": "XLVA6R_O1b_W",
        "colab": {
          "base_uri": "https://localhost:8080/",
          "height": 397
        }
      },
      "source": [
        "# 히트맵과 덴드로그램을 동시에 플로팅\n",
        "fig = plt.figure(figsize = (8,8), facecolor = 'white')\n",
        "axd = fig.add_axes([0.09, 0.1, 0.2, 0.6])\n",
        "row_dendr = dendrogram(row_clusters, orientation = 'left')\n",
        "\n",
        "df_rowclust = df.iloc[row_dendr['leaves'][::-1]]\n",
        "\n",
        "axm = fig.add_axes([0.23, 0.1, 0.6, 0.6])\n",
        "cax = axm.matshow(df_rowclust, interpolation = 'nearest', cmap = 'hot_r')\n",
        "\n",
        "axd.set_xticks([])\n",
        "axd.set_yticks([])\n",
        "\n",
        "for i in axd.spines.values():\n",
        "  i.set_visible(False)\n",
        "\n",
        "fig.colorbar(cax)\n",
        "axm.set_xticklabels([''] + list(df_rowclust.columns))\n",
        "axm.set_yticklabels([''] + list(df_rowclust.index))\n",
        "\n",
        "plt.show()"
      ],
      "execution_count": 0,
      "outputs": [
        {
          "output_type": "display_data",
          "data": {
            "image/png": "[encoded data removed]",
            "text/plain": [
              "<Figure size 576x576 with 3 Axes>"
            ]
          },
          "metadata": {
            "tags": []
          }
        }
      ]
    },
    {
      "cell_type": "markdown",
      "metadata": {
        "colab_type": "text",
        "id": "NBlYzG-O1b_c"
      },
      "source": [
        "## 사이킷런 활용"
      ]
    },
    {
      "cell_type": "code",
      "metadata": {
        "colab_type": "code",
        "outputId": "a1b01eea-504c-4c8e-c435-2be3861e885a",
        "id": "OoH8m1y61b_e",
        "colab": {
          "base_uri": "https://localhost:8080/",
          "height": 35
        }
      },
      "source": [
        "from sklearn.cluster import AgglomerativeClustering\n",
        "\n",
        "ac = AgglomerativeClustering(n_clusters = 3, affinity = 'euclidean', linkage = 'complete')\n",
        "labels = ac.fit_predict(X)\n",
        "\n",
        "print(labels)"
      ],
      "execution_count": 0,
      "outputs": [
        {
          "output_type": "stream",
          "text": [
            "[1 0 0 2 1]\n"
          ],
          "name": "stdout"
        }
      ]
    },
    {
      "cell_type": "markdown",
      "metadata": {
        "colab_type": "text",
        "id": "YONq3s871b_i"
      },
      "source": [
        "# DBSCAN을 이용한 밀집도 분석"
      ]
    },
    {
      "cell_type": "markdown",
      "metadata": {
        "colab_type": "text",
        "id": "iZNzXNp-1b_k"
      },
      "source": [
        "핵심샘플, 경계샘플, 잡음샘플\n",
        "\n",
        "핵심샘플 - 특정반경 내 & 지정된 개수 이상\n",
        "\n",
        "경계샘플 - 특정반경 내 & 지정된 개수 이하\n",
        "\n",
        "잡음샘플 - 나머지"
      ]
    },
    {
      "cell_type": "code",
      "metadata": {
        "colab_type": "code",
        "outputId": "b40ba2ca-1dff-47ed-c91c-8009b8733d53",
        "id": "_iMQfMhB1b_n",
        "colab": {
          "base_uri": "https://localhost:8080/",
          "height": 297
        }
      },
      "source": [
        "from sklearn.datasets import make_moons\n",
        "X, y = make_moons(n_samples = 200, noise = 0.05, random_state = 0)\n",
        "plt.scatter(X[:, 0], X[:, 1])\n",
        "plt.tight_layout()\n",
        "plt.show()"
      ],
      "execution_count": 0,
      "outputs": [
        {
          "output_type": "display_data",
          "data": {
            "image/png": "[encoded data removed]",
            "text/plain": [
              "<Figure size 432x288 with 1 Axes>"
            ]
          },
          "metadata": {
            "tags": []
          }
        }
      ]
    },
    {
      "cell_type": "code",
      "metadata": {
        "colab_type": "code",
        "id": "t52DOdvb1b_t",
        "outputId": "b20d3b63-b7a0-4b54-81f1-f63156a5e03a",
        "colab": {
          "base_uri": "https://localhost:8080/",
          "height": 225
        }
      },
      "source": [
        "# k-means method는 반달모양의 데이터셋은 처리하지 못한다...\n",
        "\n",
        "from sklearn.cluster import KMeans\n",
        "f, (ax1, ax2) = plt.subplots(1, 2, figsize = (8,3))\n",
        "\n",
        "km = KMeans(n_clusters = 2, random_state = 0)\n",
        "y_km = km.fit_predict(X)\n",
        "\n",
        "ax1.scatter(X[y_km == 0, 0], X[y_km == 0, 1], c = 'lightblue', edgecolor = 'black', marker = 'o', s = 40)\n",
        "ax1.scatter(X[y_km == 1, 0], X[y_km == 1, 1], c = 'red', edgecolor = 'black', marker = 's', s = 40)\n",
        "\n",
        "ac = AgglomerativeClustering(n_clusters = 2, affinity = 'euclidean', linkage = 'complete')\n",
        "y_ac = ac.fit_predict(X)\n",
        "\n",
        "ax2.scatter(X[y_ac == 0, 0], X[y_ac == 0, 1], c = 'lightblue', edgecolor = 'black', marker = 'o', s = 40, label = 'cluster 1')\n",
        "ax2.scatter(X[y_ac == 1, 0], X[y_ac == 1, 1], c = 'red', edgecolor = 'black', marker = 's', s = 40, label = 'cluster 2')\n",
        "\n",
        "plt.legend()\n",
        "plt.tight_layout()\n",
        "plt.show()"
      ],
      "execution_count": 0,
      "outputs": [
        {
          "output_type": "display_data",
          "data": {
            "image/png": "[encoded data removed]",
            "text/plain": [
              "<Figure size 576x216 with 2 Axes>"
            ]
          },
          "metadata": {
            "tags": []
          }
        }
      ]
    },
    {
      "cell_type": "code",
      "metadata": {
        "id": "sCp7aH3SIaEl",
        "colab_type": "code",
        "outputId": "5d3c1c6a-4f77-42c0-fe2e-bf513442ecb0",
        "colab": {
          "base_uri": "https://localhost:8080/",
          "height": 297
        }
      },
      "source": [
        "from sklearn.cluster import DBSCAN\n",
        "\n",
        "db = DBSCAN(eps = 0.2, min_samples = 5, metric = 'euclidean')\n",
        "y_db = db.fit_predict(X)\n",
        "\n",
        "plt.scatter(X[y_db == 0, 0], X[y_db == 0, 1], c = 'lightblue', edgecolor = 'black', marker = 'o', s = 40, label = 'cluster 1')\n",
        "plt.scatter(X[y_db == 1, 0], X[y_db == 1, 1], c = 'red', edgecolor = 'black', marker = 's', s = 40, label = 'cluster 2')\n",
        "\n",
        "plt.legend()\n",
        "plt.tight_layout()\n",
        "plt.show()"
      ],
      "execution_count": 0,
      "outputs": [
        {
          "output_type": "display_data",
          "data": {
            "image/png": "[encoded data removed]",
            "text/plain": [
              "<Figure size 432x288 with 1 Axes>"
            ]
          },
          "metadata": {
            "tags": []
          }
        }
      ]
    },
    {
      "cell_type": "code",
      "metadata": {
        "id": "Bsn7qG0bKWg9",
        "colab_type": "code",
        "colab": {}
      },
      "source": [
        ""
      ],
      "execution_count": 0,
      "outputs": []
    }
  ]
}