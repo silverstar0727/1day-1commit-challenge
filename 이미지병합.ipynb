{
  "nbformat": 4,
  "nbformat_minor": 0,
  "metadata": {
    "colab": {
      "name": "이미지병합.ipynb",
      "provenance": [],
      "authorship_tag": "ABX9TyPrsPh/+3eVhMDkXQbWaiUL",
      "include_colab_link": true
    },
    "kernelspec": {
      "name": "python3",
      "display_name": "Python 3"
    }
  },
  "cells": [
    {
      "cell_type": "markdown",
      "metadata": {
        "id": "view-in-github",
        "colab_type": "text"
      },
      "source": [
        "<a href=\"https://colab.research.google.com/github/silverstar0727/study-/blob/master/%EC%9D%B4%EB%AF%B8%EC%A7%80%EB%B3%91%ED%95%A9.ipynb\" target=\"_parent\"><img src=\"https://colab.research.google.com/assets/colab-badge.svg\" alt=\"Open In Colab\"/></a>"
      ]
    },
    {
      "cell_type": "code",
      "metadata": {
        "id": "acpEWqOtacNM",
        "colab_type": "code",
        "outputId": "68bc5641-b83f-4cf6-9a0c-d1cc38b6d15c",
        "colab": {
          "base_uri": "https://localhost:8080/",
          "height": 55
        }
      },
      "source": [
        "# 구글 드라이브 연동\n",
        "from google.colab import drive\n",
        "\n",
        "drive.mount('/content/gdrive')"
      ],
      "execution_count": 0,
      "outputs": [
        {
          "output_type": "stream",
          "text": [
            "Drive already mounted at /content/gdrive; to attempt to forcibly remount, call drive.mount(\"/content/gdrive\", force_remount=True).\n"
          ],
          "name": "stdout"
        }
      ]
    },
    {
      "cell_type": "code",
      "metadata": {
        "id": "DvaD-fkAacKn",
        "colab_type": "code",
        "outputId": "63f26a30-a773-43c1-9af9-26e1c7354cae",
        "colab": {
          "base_uri": "https://localhost:8080/",
          "height": 35
        }
      },
      "source": [
        "# 연동 테스트 코드\n",
        "with open('/content/gdrive/My Drive/foo.txt', 'w') as f:\n",
        "  f.write('Hello Google Drive!')\n",
        "\n",
        "!cat /content/gdrive/My\\ Drive/foo.txt"
      ],
      "execution_count": 0,
      "outputs": [
        {
          "output_type": "stream",
          "text": [
            "Hello Google Drive!"
          ],
          "name": "stdout"
        }
      ]
    },
    {
      "cell_type": "code",
      "metadata": {
        "id": "nPs2aMQiAnQ3",
        "colab_type": "code",
        "colab": {}
      },
      "source": [
        "import glob\n",
        "from PIL import Image"
      ],
      "execution_count": 0,
      "outputs": []
    },
    {
      "cell_type": "code",
      "metadata": {
        "id": "Yr6AyXikAnOv",
        "colab_type": "code",
        "outputId": "f6e43065-3551-4fdf-89cf-9c8f1dfeab1d",
        "colab": {
          "base_uri": "https://localhost:8080/",
          "height": 71
        }
      },
      "source": [
        "target_dir = '/content/gdrive/My Drive/merge_image/'\n",
        "files = glob.glob(target_dir + '*.*')\n",
        "files"
      ],
      "execution_count": 0,
      "outputs": [
        {
          "output_type": "execute_result",
          "data": {
            "text/plain": [
              "['/content/gdrive/My Drive/merge_image/다운로드.jpg',\n",
              " '/content/gdrive/My Drive/merge_image/maxresdefault (1).jpg',\n",
              " '/content/gdrive/My Drive/merge_image/maxresdefault (2).jpg']"
            ]
          },
          "metadata": {
            "tags": []
          },
          "execution_count": 39
        }
      ]
    },
    {
      "cell_type": "code",
      "metadata": {
        "id": "rCfoDmArAnMr",
        "colab_type": "code",
        "colab": {}
      },
      "source": [
        "def calculateSize(files):\n",
        "  size_x = []\n",
        "  size_y = []\n",
        "\n",
        "  for file in files:\n",
        "    image = Image.open(file)\n",
        "    size_x.append(image.size[0])\n",
        "    size_y.append(image.size[1])\n",
        "\n",
        "  #print(size_x)\n",
        "  #print(size_y)\n",
        "\n",
        "  x_min = min(size_x)\n",
        "  y_min = min(size_y)\n",
        "  total_x_size = x_min * len(files)\n",
        "\n",
        "  #print(x_min, y_min, total_x_size)\n",
        "\n",
        "  return x_min, y_min, total_x_size"
      ],
      "execution_count": 0,
      "outputs": []
    },
    {
      "cell_type": "code",
      "metadata": {
        "id": "JKhudF_0Am57",
        "colab_type": "code",
        "colab": {}
      },
      "source": [
        "def resizeToMin(files, x_min, y_min, x_size):\n",
        "  file_list = []\n",
        "\n",
        "  for file in files:\n",
        "    image = Image.open(file)\n",
        "    resized_file = image.resize((x_min, y_min))\n",
        "    file_list.append(resized_file)\n",
        "\n",
        "    print(resized_file.size)\n",
        "    resized_file.show()\n",
        "\n",
        "  return file_list, x_size, x_min, y_min"
      ],
      "execution_count": 0,
      "outputs": []
    },
    {
      "cell_type": "code",
      "metadata": {
        "id": "Mv-Z7NGaHcRl",
        "colab_type": "code",
        "colab": {}
      },
      "source": [
        "x_min, y_min, x_size = calculateSize(files)"
      ],
      "execution_count": 0,
      "outputs": []
    },
    {
      "cell_type": "code",
      "metadata": {
        "id": "q9RIgSDXCXSJ",
        "colab_type": "code",
        "outputId": "99aab9cd-afcb-4f70-c89d-1aa157416168",
        "colab": {
          "base_uri": "https://localhost:8080/",
          "height": 71
        }
      },
      "source": [
        "file_list, x_size, x_min, y_min = resizeToMin(files, x_min, y_min, x_size)"
      ],
      "execution_count": 0,
      "outputs": [
        {
          "output_type": "stream",
          "text": [
            "(300, 168)\n",
            "(300, 168)\n",
            "(300, 168)\n"
          ],
          "name": "stdout"
        }
      ]
    },
    {
      "cell_type": "code",
      "metadata": {
        "id": "0-Th9VZ1CfrD",
        "colab_type": "code",
        "colab": {}
      },
      "source": [
        "def imageMerge(file_list, x_size, x_min, y_min):\n",
        "  new_image = Image.new('RGB', (x_size, y_min), (256,256,256))\n",
        "\n",
        "  #print(x_size, len(file_list))\n",
        "\n",
        "  for index in range(len(file_list)):\n",
        "    area = ((index * x_min), 0, (x_min * (index + 1)), y_min)\n",
        "    new_image.paste(file_list[index], area)\n",
        "\n",
        "  new_image.show()\n",
        "\n",
        "  new_image.save('/content/gdrive/My Drive/merge_image/image_0.png')"
      ],
      "execution_count": 0,
      "outputs": []
    },
    {
      "cell_type": "code",
      "metadata": {
        "id": "bQ4K4Q1bHgKD",
        "colab_type": "code",
        "colab": {}
      },
      "source": [
        "imageMerge(file_list, x_size, x_min, y_min)"
      ],
      "execution_count": 0,
      "outputs": []
    },
    {
      "cell_type": "code",
      "metadata": {
        "id": "FYslH9Kl7GAH",
        "colab_type": "code",
        "colab": {}
      },
      "source": [
        ""
      ],
      "execution_count": 0,
      "outputs": []
    }
  ]
}