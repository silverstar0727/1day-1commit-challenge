{
  "nbformat": 4,
  "nbformat_minor": 0,
  "metadata": {
    "colab": {
      "name": "week_1_01.ipynb",
      "provenance": [],
      "authorship_tag": "ABX9TyMCHGG+1CIpY58X9/Pr9tra",
      "include_colab_link": true
    },
    "kernelspec": {
      "name": "python3",
      "display_name": "Python 3"
    }
  },
  "cells": [
    {
      "cell_type": "markdown",
      "metadata": {
        "id": "view-in-github",
        "colab_type": "text"
      },
      "source": [
        "<a href=\"https://colab.research.google.com/github/silverstar0727/study-/blob/master/week_1_01.ipynb\" target=\"_parent\"><img src=\"https://colab.research.google.com/assets/colab-badge.svg\" alt=\"Open In Colab\"/></a>"
      ]
    },
    {
      "cell_type": "markdown",
      "metadata": {
        "id": "tHUGOKtCA045",
        "colab_type": "text"
      },
      "source": [
        "# Colab 개발환경 이용하기\n",
        "\n",
        "colab의 기본적인 개발 베이스: jupyter notebook - python(version 3.x)\n",
        "\n",
        "구글 colaboratory 서비스, 줄여서 코랩(colab)이라고 부르는 웹 서비스는 주피터 노트북을 구글 서버에서 가동시키고 사용자가 마음대로 사용할 수 있도록 무료로 제공한다. 이 서비스를 이용하려면 구글 지메일(gmail) 계정을 가지고 있어야 한다. 지메일 계정이 있다면 다음과 같이 코랩을 사용할 수 있다.\n",
        "\n",
        "코랩 노트북은 다음과 같은 장점이 있다.\n",
        "\n",
        "1. 별도의 파이썬 설치 없이 웹 브라우저 만을 이용해 주피터 노트북과 같은 작업을 할 수 있다.\n",
        "2. 다른 사용자들과 공유가 쉬워 연구 및 교육용으로 많이 사용된다.\n",
        "3. Tensorflow, keras, matplotlib, scikit-learn, pandas 등 데이터 분석에 많이 사용되는 패키지들이 미리 설치되어 있다.\n",
        "4. 무료로 GPU를 사용할 수 있다.\n",
        "5. 구글 독스나 구글 스프레드시트 등과 같은 식으로 공유와 편집이 가능하다. 만약 두 명 이상의 사람이 동시에 같은 파일을 수정 하더라도 변경사항이 모든 사람에게 즉시 표시된다.\n",
        "\n",
        "## 구글 코랩 시작하기\n",
        "\n",
        "구글 코랩을 사용하려면 지메일 계정이 필요하다. 지메일 계정이 있으면 로그인을 하고 지메일 계정이 없다면 다음 웹사이트에서 지메일을 만든 다음에 로그인한다.\n",
        "\n",
        "https://www.google.com/gmail/\n",
        "로그인을 한 후에는 웹 브라우저를 열고 다음 웹 페이지 주소로 접속한다.\n",
        "\n",
        "http://colab.research.google.com\n",
        "그러면 다음 그림과 같은 시작 페이지가 나온다. (데이터 사이언스 스쿨 참조)\n",
        "\n",
        "## 파일 찾기\n",
        "보통 자신이 작성한 colab의 파일은 구글 드라이브인\n",
        "https://drive.google.com/ 에 저장되며 해당 폴더의 Colab Notebooks에서 확인 할 수 있다.\n",
        "\n",
        "저장 형식은 .ipynb로 저장된다."
      ]
    },
    {
      "cell_type": "code",
      "metadata": {
        "id": "JnIfKTLFDid7",
        "colab_type": "code",
        "colab": {
          "base_uri": "https://localhost:8080/",
          "height": 107
        },
        "outputId": "6f9080ce-52cc-4e7c-f9e2-99804fc8c02b"
      },
      "source": [
        "# print - 파이썬은 print함수를 \"출력\" 함수로 하고 있다.\n",
        "print('배고프당....')\n",
        "print(\"배고프당..\") # 큰 따옴표와 작은 따옴표 모두 되지만, 큰 따옴표로 하는 것을 추천~\n",
        "\n",
        "print('배고프당', '사실 배부름') # 콤마를 두고 합칠 수 이씀\n",
        "\n",
        "print('배고\\n프당') # 줄 들여쓰는 법... \\n이용 (역 슬래쉬)"
      ],
      "execution_count": 19,
      "outputs": [
        {
          "output_type": "stream",
          "text": [
            "배고프당....\n",
            "배고프당..\n",
            "배고프당 사실 배부름\n",
            "배고\n",
            "프당\n"
          ],
          "name": "stdout"
        }
      ]
    },
    {
      "cell_type": "code",
      "metadata": {
        "id": "avShUCxIDia9",
        "colab_type": "code",
        "colab": {
          "base_uri": "https://localhost:8080/",
          "height": 53
        },
        "outputId": "fb105f00-def1-410d-f212-b6dc36cf75c0"
      },
      "source": [
        "# 변수 저장\n",
        "\n",
        "# 특정한 단어에 변수를 저장하고 싶을 때 왼쪽을 해당 변수로, 오른쪽을 내용으로 입력한다.\n",
        "x = 123\n",
        "print(x) # 변수를 출력할 때는 따옴표 안에 넣지 않는다.\n",
        "\n",
        "# 한글이나 기타 기호들도 변수에 저장이 가능하다.\n",
        "y = '배가 너무 고프다....'\n",
        "print(y) # 따옴표가 제거되어 출력됨\n",
        "# print('배가 너무 고프다...')"
      ],
      "execution_count": 4,
      "outputs": [
        {
          "output_type": "stream",
          "text": [
            "123\n",
            "배가 너무 고프다....\n"
          ],
          "name": "stdout"
        }
      ]
    },
    {
      "cell_type": "code",
      "metadata": {
        "id": "MnWkvo53DiYJ",
        "colab_type": "code",
        "colab": {
          "base_uri": "https://localhost:8080/",
          "height": 197
        },
        "outputId": "09ef0703-6050-4542-f2b9-6994d66ad554"
      },
      "source": [
        "# python의 기본적인 연산자\n",
        "\n",
        "# 사칙연산은 그냥 우리가 아는대로 하면 된다.\n",
        "## 덧셈\n",
        "print(1 + 1) # 그냥 계산만 하면 출력이 안된다. 별도로 출력함수를 통해 출력해주어야 우리가 결과값을 확인 가능\n",
        "x = 2 + 2\n",
        "print(x) # 저장하여 출력하는 방법\n",
        "3 + 3 # 보통 가독성을 위해 띄어쓰기를 많이한다.\n",
        "\n",
        "## 뺄셈\n",
        "print(3 - 1)\n",
        "print(2 - 1)\n",
        "\n",
        "## 곱셈\n",
        "print(3 * 6)\n",
        "print(4 * 5)\n",
        "\n",
        "## 나눗셈\n",
        "print(6 / 3)\n",
        "print(6 / 4) # 소숫점까지 출력이 기본\n",
        "# print(6 / 0) # zero division error\n",
        "\n",
        "## 나머지 구하기\n",
        "print(6 % 5)\n",
        "print(10 % 3)"
      ],
      "execution_count": 12,
      "outputs": [
        {
          "output_type": "stream",
          "text": [
            "2\n",
            "4\n",
            "2\n",
            "1\n",
            "18\n",
            "20\n",
            "2.0\n",
            "1.5\n",
            "1\n",
            "1\n"
          ],
          "name": "stdout"
        }
      ]
    },
    {
      "cell_type": "code",
      "metadata": {
        "id": "ZHnUwl4-GOKF",
        "colab_type": "code",
        "colab": {
          "base_uri": "https://localhost:8080/",
          "height": 35
        },
        "outputId": "e5253315-fae5-4a5f-eca1-fc5c9258f43f"
      },
      "source": [
        "print('3 - 1') # 따옴표 안에 넣으면 그대로 출력하니 조심할 것."
      ],
      "execution_count": 5,
      "outputs": [
        {
          "output_type": "stream",
          "text": [
            "3 - 1\n"
          ],
          "name": "stdout"
        }
      ]
    },
    {
      "cell_type": "code",
      "metadata": {
        "id": "qbbE5j42AjhO",
        "colab_type": "code",
        "colab": {
          "base_uri": "https://localhost:8080/",
          "height": 161
        },
        "outputId": "df0c3907-d965-4c0f-b5f9-9dd278c5238c"
      },
      "source": [
        "# 자료형\n",
        "\n",
        "## 문자열(string)\n",
        "a = '아아아ㅏ아ㅏㅏ 르헨티나'\n",
        "print(a)\n",
        "\n",
        "## 수치값\n",
        "### 정수형data - 정수형 데이터는 'int'로 나타낸다.(python의 내장함수 int()를 통해 변환 가능)\n",
        "print(int(1.5)) # 그냥 소수점 뒤를 '버림!!!!!' 반올림 아님!!!\n",
        "\n",
        "### 실수형data - 실수형 데이터는 'float'으로 나타낸다.(python의 내장함수 float()을 통해 변환 가능, 근데 쓸일이 없음)\n",
        "print(float(1.5)) # 왜냐 그냥 실수니까\n",
        "\n",
        "# 타입확인 - python 내장함수 type()을 통해 확인 가능\n",
        "print(type(1))\n",
        "\n",
        "# 타입변환\n",
        "s ='9.14' # string type\n",
        "print(type(s), s)\n",
        "\n",
        "f = float(s) # float type\n",
        "print(type(f), f) \n",
        "\n",
        "# 불리안 데이터(boolean data) - True, False\n",
        "print(1 < 2)\n",
        "print(1 > 2)"
      ],
      "execution_count": 26,
      "outputs": [
        {
          "output_type": "stream",
          "text": [
            "아아아ㅏ아ㅏㅏ 르헨티나\n",
            "1\n",
            "1.5\n",
            "<class 'float'>\n",
            "<class 'str'> 9.14\n",
            "<class 'float'> 9.14\n",
            "True\n",
            "False\n"
          ],
          "name": "stdout"
        }
      ]
    },
    {
      "cell_type": "code",
      "metadata": {
        "id": "gphFg3TJHWIL",
        "colab_type": "code",
        "colab": {
          "base_uri": "https://localhost:8080/",
          "height": 125
        },
        "outputId": "03e38f07-bbc9-4ec4-bbd5-99a258078523"
      },
      "source": [
        "# 비교 연산자\n",
        "## 부등호\n",
        "print(1 < 2)\n",
        "print(2 > 2)\n",
        "\n",
        "## 등호 '=='사용 '='는 변수 저장용\n",
        "print(1 == 2)\n",
        "print(3 == 3)\n",
        "\n",
        "## string type도 가능\n",
        "print('심심해' == '심심해')\n",
        "print('고양이' == '강아지')"
      ],
      "execution_count": 28,
      "outputs": [
        {
          "output_type": "stream",
          "text": [
            "True\n",
            "False\n",
            "False\n",
            "True\n",
            "True\n",
            "False\n"
          ],
          "name": "stdout"
        }
      ]
    },
    {
      "cell_type": "code",
      "metadata": {
        "id": "n7rwCbGmMlsj",
        "colab_type": "code",
        "colab": {
          "base_uri": "https://localhost:8080/",
          "height": 179
        },
        "outputId": "98866b20-377d-47b4-9e90-73f4a3a4ffef"
      },
      "source": [
        "# 자료구조 - 리스트, 튜플, 딕셔너리(주로 리스트와 딕셔너리를 사용)\n",
        "## list => 대괄호 \"[]\"로 나타냄(자료들 사이를 콤마 \",\"로 구분함)\n",
        "[1,2,2,4,6]\n",
        "\n",
        "a = [1,2,3,4] # 변수에 저장가능\n",
        "print(a)\n",
        "\n",
        "# 요소추가\n",
        "a.append(int(6))\n",
        "print(a)\n",
        "\n",
        "a.append('룩룩 룩셈부르크')\n",
        "print(a)\n",
        "\n",
        "### 리스트로 바꾸기 (stirng -> list 각각저장)\n",
        "print(list('가나다라'))\n",
        "\n",
        "### 인덱싱, 슬라이싱 -------------진짜 너ㅓ어어어ㅓ어어어어무 너어어ㅓ어어어어어어무 중요\n",
        "print(a[0]) # 리스트를 호출하여 특정 부분을 호출가능\n",
        "print(a[1])\n",
        "\n",
        "print(a[:1]) # 클론을 통한 범위 호출\n",
        "print(a[1:])\n",
        "\n",
        "print(a[-1]) # 거꾸로 호출(맨 뒤)\n",
        "\n",
        "### 요소 삭제 .remove(원하는 자료)\n",
        "print(a)\n",
        "a.remove(3)\n",
        "print(a)\n",
        "\n",
        "### 요소변경\n",
        "a[1] = 3\n",
        "print(a)"
      ],
      "execution_count": 46,
      "outputs": [
        {
          "output_type": "stream",
          "text": [
            "[1, 2, 3, 4]\n",
            "[1, 2, 3, 4, 6]\n",
            "[1, 2, 3, 4, 6, '룩룩 룩셈부르크']\n",
            "['가', '나', '다', '라']\n",
            "1\n",
            "2\n",
            "[1]\n",
            "[2, 3, 4, 6, '룩룩 룩셈부르크']\n",
            "룩룩 룩셈부르크\n"
          ],
          "name": "stdout"
        }
      ]
    },
    {
      "cell_type": "code",
      "metadata": {
        "id": "DvChZAHpMlqK",
        "colab_type": "code",
        "colab": {}
      },
      "source": [
        "## tuple(가볍게 넘어가면 됨)\n"
      ],
      "execution_count": 0,
      "outputs": []
    },
    {
      "cell_type": "code",
      "metadata": {
        "id": "tQWG20wLMlnm",
        "colab_type": "code",
        "colab": {}
      },
      "source": [
        ""
      ],
      "execution_count": 0,
      "outputs": []
    },
    {
      "cell_type": "code",
      "metadata": {
        "id": "B8bAm-wLMlkx",
        "colab_type": "code",
        "colab": {}
      },
      "source": [
        ""
      ],
      "execution_count": 0,
      "outputs": []
    },
    {
      "cell_type": "code",
      "metadata": {
        "id": "1DzobJb2Kazb",
        "colab_type": "code",
        "colab": {
          "base_uri": "https://localhost:8080/",
          "height": 53
        },
        "outputId": "9e2208be-74b5-4ad9-f82c-377b6484e381"
      },
      "source": [
        "# 입력 - python내장함수 input()을 이용함\n",
        "a = input() # 입력을 받아서 a라는 변수에 저장\n",
        "\n",
        "print(a, type(a)) # 기본적으로 string type으로 저장됨"
      ],
      "execution_count": 29,
      "outputs": [
        {
          "output_type": "stream",
          "text": [
            "3\n",
            "3 <class 'str'>\n"
          ],
          "name": "stdout"
        }
      ]
    },
    {
      "cell_type": "code",
      "metadata": {
        "id": "ZlruRh6QLOB4",
        "colab_type": "code",
        "colab": {}
      },
      "source": [
        "# 출력의 고급 - format, 소숫점 자리, "
      ],
      "execution_count": 0,
      "outputs": []
    },
    {
      "cell_type": "code",
      "metadata": {
        "id": "xfC6FYMRMgW4",
        "colab_type": "code",
        "colab": {}
      },
      "source": [
        ""
      ],
      "execution_count": 0,
      "outputs": []
    }
  ]
}