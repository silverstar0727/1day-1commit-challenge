{
  "nbformat": 4,
  "nbformat_minor": 0,
  "metadata": {
    "colab": {
      "name": "machine_learning_ch13.ipynb",
      "provenance": [],
      "collapsed_sections": [],
      "authorship_tag": "ABX9TyMblQ8UNYYoPObASNuQZW5d",
      "include_colab_link": true
    },
    "kernelspec": {
      "name": "python3",
      "display_name": "Python 3"
    }
  },
  "cells": [
    {
      "cell_type": "markdown",
      "metadata": {
        "id": "view-in-github",
        "colab_type": "text"
      },
      "source": [
        "<a href=\"https://colab.research.google.com/github/silverstar0727/1day-1commit-challenge/blob/master/machine_learning_ch13.ipynb\" target=\"_parent\"><img src=\"https://colab.research.google.com/assets/colab-badge.svg\" alt=\"Open In Colab\"/></a>"
      ]
    },
    {
      "cell_type": "markdown",
      "metadata": {
        "id": "NEI1h-B8QPgT",
        "colab_type": "text"
      },
      "source": [
        "# Tensorflow를 활용한 신경망 훈련"
      ]
    },
    {
      "cell_type": "code",
      "metadata": {
        "id": "7vKmpLvGPSxN",
        "colab_type": "code",
        "outputId": "28321bee-0050-430a-b18d-128b9997f768",
        "colab": {
          "base_uri": "https://localhost:8080/",
          "height": 53
        }
      },
      "source": [
        "%tensorflow_version 2.x\n",
        "import tensorflow as tf\n",
        "tf.__version__"
      ],
      "execution_count": 0,
      "outputs": [
        {
          "output_type": "stream",
          "text": [
            "TensorFlow 2.x selected.\n"
          ],
          "name": "stdout"
        },
        {
          "output_type": "execute_result",
          "data": {
            "text/plain": [
              "'2.1.0'"
            ]
          },
          "metadata": {
            "tags": []
          },
          "execution_count": 1
        }
      ]
    },
    {
      "cell_type": "code",
      "metadata": {
        "id": "r50HByVVRSrL",
        "colab_type": "code",
        "outputId": "2b34d266-8d53-4147-f22c-678b48d48d50",
        "colab": {
          "base_uri": "https://localhost:8080/",
          "height": 810
        }
      },
      "source": [
        "!pip install tensorflow-gpu"
      ],
      "execution_count": 0,
      "outputs": [
        {
          "output_type": "stream",
          "text": [
            "Collecting tensorflow-gpu\n",
            "\u001b[?25l  Downloading https://files.pythonhosted.org/packages/0a/93/c7bca39b23aae45cd2e85ad3871c81eccc63b9c5276e926511e2e5b0879d/tensorflow_gpu-2.1.0-cp36-cp36m-manylinux2010_x86_64.whl (421.8MB)\n",
            "\u001b[K     |████████████████████████████████| 421.8MB 34kB/s \n",
            "\u001b[?25hRequirement already satisfied: wheel>=0.26; python_version >= \"3\" in /tensorflow-2.1.0/python3.6 (from tensorflow-gpu) (0.34.2)\n",
            "Requirement already satisfied: numpy<2.0,>=1.16.0 in /tensorflow-2.1.0/python3.6 (from tensorflow-gpu) (1.18.1)\n",
            "Requirement already satisfied: six>=1.12.0 in /tensorflow-2.1.0/python3.6 (from tensorflow-gpu) (1.14.0)\n",
            "Requirement already satisfied: keras-preprocessing>=1.1.0 in /tensorflow-2.1.0/python3.6 (from tensorflow-gpu) (1.1.0)\n",
            "Requirement already satisfied: tensorboard<2.2.0,>=2.1.0 in /tensorflow-2.1.0/python3.6 (from tensorflow-gpu) (2.1.0)\n",
            "Requirement already satisfied: opt-einsum>=2.3.2 in /tensorflow-2.1.0/python3.6 (from tensorflow-gpu) (3.1.0)\n",
            "Requirement already satisfied: wrapt>=1.11.1 in /tensorflow-2.1.0/python3.6 (from tensorflow-gpu) (1.12.0)\n",
            "Requirement already satisfied: tensorflow-estimator<2.2.0,>=2.1.0rc0 in /tensorflow-2.1.0/python3.6 (from tensorflow-gpu) (2.1.0)\n",
            "Requirement already satisfied: protobuf>=3.8.0 in /tensorflow-2.1.0/python3.6 (from tensorflow-gpu) (3.11.3)\n",
            "Requirement already satisfied: gast==0.2.2 in /tensorflow-2.1.0/python3.6 (from tensorflow-gpu) (0.2.2)\n",
            "Requirement already satisfied: keras-applications>=1.0.8 in /tensorflow-2.1.0/python3.6 (from tensorflow-gpu) (1.0.8)\n",
            "Requirement already satisfied: termcolor>=1.1.0 in /tensorflow-2.1.0/python3.6 (from tensorflow-gpu) (1.1.0)\n",
            "Requirement already satisfied: grpcio>=1.8.6 in /tensorflow-2.1.0/python3.6 (from tensorflow-gpu) (1.27.2)\n",
            "Requirement already satisfied: scipy==1.4.1; python_version >= \"3\" in /tensorflow-2.1.0/python3.6 (from tensorflow-gpu) (1.4.1)\n",
            "Requirement already satisfied: google-pasta>=0.1.6 in /tensorflow-2.1.0/python3.6 (from tensorflow-gpu) (0.1.8)\n",
            "Requirement already satisfied: astor>=0.6.0 in /tensorflow-2.1.0/python3.6 (from tensorflow-gpu) (0.8.1)\n",
            "Requirement already satisfied: absl-py>=0.7.0 in /tensorflow-2.1.0/python3.6 (from tensorflow-gpu) (0.9.0)\n",
            "Requirement already satisfied: requests<3,>=2.21.0 in /tensorflow-2.1.0/python3.6 (from tensorboard<2.2.0,>=2.1.0->tensorflow-gpu) (2.22.0)\n",
            "Requirement already satisfied: setuptools>=41.0.0 in /tensorflow-2.1.0/python3.6 (from tensorboard<2.2.0,>=2.1.0->tensorflow-gpu) (45.2.0)\n",
            "Requirement already satisfied: google-auth-oauthlib<0.5,>=0.4.1 in /tensorflow-2.1.0/python3.6 (from tensorboard<2.2.0,>=2.1.0->tensorflow-gpu) (0.4.1)\n",
            "Requirement already satisfied: markdown>=2.6.8 in /tensorflow-2.1.0/python3.6 (from tensorboard<2.2.0,>=2.1.0->tensorflow-gpu) (3.2.1)\n",
            "Requirement already satisfied: werkzeug>=0.11.15 in /tensorflow-2.1.0/python3.6 (from tensorboard<2.2.0,>=2.1.0->tensorflow-gpu) (1.0.0)\n",
            "Requirement already satisfied: google-auth<2,>=1.6.3 in /tensorflow-2.1.0/python3.6 (from tensorboard<2.2.0,>=2.1.0->tensorflow-gpu) (1.11.2)\n",
            "Requirement already satisfied: h5py in /tensorflow-2.1.0/python3.6 (from keras-applications>=1.0.8->tensorflow-gpu) (2.10.0)\n",
            "Requirement already satisfied: certifi>=2017.4.17 in /tensorflow-2.1.0/python3.6 (from requests<3,>=2.21.0->tensorboard<2.2.0,>=2.1.0->tensorflow-gpu) (2019.11.28)\n",
            "Requirement already satisfied: chardet<3.1.0,>=3.0.2 in /tensorflow-2.1.0/python3.6 (from requests<3,>=2.21.0->tensorboard<2.2.0,>=2.1.0->tensorflow-gpu) (3.0.4)\n",
            "Requirement already satisfied: urllib3!=1.25.0,!=1.25.1,<1.26,>=1.21.1 in /tensorflow-2.1.0/python3.6 (from requests<3,>=2.21.0->tensorboard<2.2.0,>=2.1.0->tensorflow-gpu) (1.25.8)\n",
            "Requirement already satisfied: idna<2.9,>=2.5 in /tensorflow-2.1.0/python3.6 (from requests<3,>=2.21.0->tensorboard<2.2.0,>=2.1.0->tensorflow-gpu) (2.8)\n",
            "Requirement already satisfied: requests-oauthlib>=0.7.0 in /tensorflow-2.1.0/python3.6 (from google-auth-oauthlib<0.5,>=0.4.1->tensorboard<2.2.0,>=2.1.0->tensorflow-gpu) (1.3.0)\n",
            "Requirement already satisfied: rsa<4.1,>=3.1.4 in /tensorflow-2.1.0/python3.6 (from google-auth<2,>=1.6.3->tensorboard<2.2.0,>=2.1.0->tensorflow-gpu) (4.0)\n",
            "Requirement already satisfied: pyasn1-modules>=0.2.1 in /tensorflow-2.1.0/python3.6 (from google-auth<2,>=1.6.3->tensorboard<2.2.0,>=2.1.0->tensorflow-gpu) (0.2.8)\n",
            "Requirement already satisfied: cachetools<5.0,>=2.0.0 in /tensorflow-2.1.0/python3.6 (from google-auth<2,>=1.6.3->tensorboard<2.2.0,>=2.1.0->tensorflow-gpu) (4.0.0)\n",
            "Requirement already satisfied: oauthlib>=3.0.0 in /tensorflow-2.1.0/python3.6 (from requests-oauthlib>=0.7.0->google-auth-oauthlib<0.5,>=0.4.1->tensorboard<2.2.0,>=2.1.0->tensorflow-gpu) (3.1.0)\n",
            "Requirement already satisfied: pyasn1>=0.1.3 in /tensorflow-2.1.0/python3.6 (from rsa<4.1,>=3.1.4->google-auth<2,>=1.6.3->tensorboard<2.2.0,>=2.1.0->tensorflow-gpu) (0.4.8)\n",
            "Installing collected packages: tensorflow-gpu\n",
            "Successfully installed tensorflow-gpu-2.1.0\n"
          ],
          "name": "stdout"
        },
        {
          "output_type": "display_data",
          "data": {
            "application/vnd.colab-display-data+json": {
              "pip_warning": {
                "packages": [
                  "tensorflow",
                  "tensorflow_core"
                ]
              }
            }
          },
          "metadata": {
            "tags": []
          }
        }
      ]
    },
    {
      "cell_type": "markdown",
      "metadata": {
        "id": "krP6THkgd9x4",
        "colab_type": "text"
      },
      "source": [
        "### tensorflow version 1.x"
      ]
    },
    {
      "cell_type": "code",
      "metadata": {
        "id": "UiCUiTKARcfT",
        "colab_type": "code",
        "outputId": "2ad33e42-92ca-43a0-8240-462824ed5aa9",
        "colab": {
          "base_uri": "https://localhost:8080/",
          "height": 71
        }
      },
      "source": [
        "# 그래프 생성\n",
        "g = tf.Graph()\n",
        "with g.as_default():\n",
        "  x = tf.compat.v1.placeholder(dtype = tf.float32, shape = (None), name = 'x')\n",
        "  w = tf.Variable(2.0, name = 'weight')\n",
        "  b = tf.Variable(0.7, name = 'bias')\n",
        "\n",
        "  z = w * x + b\n",
        "  init = tf.compat.v1.global_variables_initializer()\n",
        "\n",
        "#세션 생성, g전달\n",
        "with tf.compat.v1.Session(graph = g) as sess:\n",
        "  # w와 b를 초기화\n",
        "  sess.run(init)\n",
        "  # z를 평가\n",
        "  for t in [1.0, 0.6,-1.8]:\n",
        "    print('x = %4.1f --> z = %4.1f' % (t, sess.run(z, feed_dict = {x:t})))\n"
      ],
      "execution_count": 0,
      "outputs": [
        {
          "output_type": "stream",
          "text": [
            "x =  1.0 --> z =  2.7\n",
            "x =  0.6 --> z =  1.9\n",
            "x = -1.8 --> z = -2.9\n"
          ],
          "name": "stdout"
        }
      ]
    },
    {
      "cell_type": "code",
      "metadata": {
        "id": "9Fg8V1jrbXFB",
        "colab_type": "code",
        "outputId": "e096cce0-05aa-4088-d62f-fbdc95a9ed80",
        "colab": {
          "base_uri": "https://localhost:8080/",
          "height": 35
        }
      },
      "source": [
        "with tf.compat.v1.Session(graph = g) as sess:\n",
        "  sess.run(init)\n",
        "  print(sess.run(z, feed_dict = {x:[1.,2.,3.]}))\n"
      ],
      "execution_count": 0,
      "outputs": [
        {
          "output_type": "stream",
          "text": [
            "[2.7 4.7 6.7]\n"
          ],
          "name": "stdout"
        }
      ]
    },
    {
      "cell_type": "code",
      "metadata": {
        "id": "HTyXq1Sld3-e",
        "colab_type": "code",
        "outputId": "32f158b6-3dca-4b41-ebd0-36de99a25958",
        "colab": {
          "base_uri": "https://localhost:8080/",
          "height": 35
        }
      },
      "source": [
        "print(z)"
      ],
      "execution_count": 0,
      "outputs": [
        {
          "output_type": "stream",
          "text": [
            "Tensor(\"add:0\", dtype=float32)\n"
          ],
          "name": "stdout"
        }
      ]
    },
    {
      "cell_type": "markdown",
      "metadata": {
        "id": "rh4yO1-1eA2L",
        "colab_type": "text"
      },
      "source": [
        "### tensorflow vesion 2.x\n",
        "\n",
        "변수초기화나 Session등이 불필요함"
      ]
    },
    {
      "cell_type": "code",
      "metadata": {
        "id": "IST7xrf_d4hY",
        "colab_type": "code",
        "outputId": "aa4a795b-9c1f-4964-f694-afa5f849d099",
        "colab": {
          "base_uri": "https://localhost:8080/",
          "height": 71
        }
      },
      "source": [
        "w = tf.Variable(2.0, name = 'weight')\n",
        "b = tf.Variable(0.7, name = 'bias')\n",
        "\n",
        "# z를 평가\n",
        "for x in [1.0, 0.6, -1.8]:\n",
        "  z = w * x + b\n",
        "  print('x = %4.1f --> z = %4.1f' % (x, z))"
      ],
      "execution_count": 0,
      "outputs": [
        {
          "output_type": "stream",
          "text": [
            "x =  1.0 --> z =  2.7\n",
            "x =  0.6 --> z =  1.9\n",
            "x = -1.8 --> z = -2.9\n"
          ],
          "name": "stdout"
        }
      ]
    },
    {
      "cell_type": "code",
      "metadata": {
        "id": "YPu22yzaeSFA",
        "colab_type": "code",
        "outputId": "889f910e-d414-48c8-87d5-4a63a35b16c0",
        "colab": {
          "base_uri": "https://localhost:8080/",
          "height": 35
        }
      },
      "source": [
        "print(z)"
      ],
      "execution_count": 0,
      "outputs": [
        {
          "output_type": "stream",
          "text": [
            "tf.Tensor(-2.8999999, shape=(), dtype=float32)\n"
          ],
          "name": "stdout"
        }
      ]
    },
    {
      "cell_type": "code",
      "metadata": {
        "id": "GMb0aJNYerJf",
        "colab_type": "code",
        "outputId": "381b1a19-d828-4601-eddd-43d1bc54b0ba",
        "colab": {
          "base_uri": "https://localhost:8080/",
          "height": 35
        }
      },
      "source": [
        "z = w *[1., 2., 3.] + b\n",
        "print(z.numpy())"
      ],
      "execution_count": 0,
      "outputs": [
        {
          "output_type": "stream",
          "text": [
            "[2.7 4.7 6.7]\n"
          ],
          "name": "stdout"
        }
      ]
    },
    {
      "cell_type": "markdown",
      "metadata": {
        "id": "6gmbfBy0ipkD",
        "colab_type": "text"
      },
      "source": [
        "## tensorflow로 배열다루기"
      ]
    },
    {
      "cell_type": "code",
      "metadata": {
        "id": "woXtLHWDe-Aq",
        "colab_type": "code",
        "outputId": "104d6dc0-9fbf-45a6-a66d-cf03cd194c83",
        "colab": {
          "base_uri": "https://localhost:8080/",
          "height": 179
        }
      },
      "source": [
        "import tensorflow as tf\n",
        "import numpy as np\n",
        "\n",
        "# 3*2*3 배열 생성\n",
        "x_array = np.arange(18).reshape(3,2,3)\n",
        "# 텐서를 일렬로 펼침\n",
        "x2 = tf.reshape(x_array, shape = (-1, 6))\n",
        "\n",
        "xsum = tf.reduce_sum(x2, axis = 0)\n",
        "xmean = tf.reduce_mean(x2, axis = 0)\n",
        "\n",
        "print('입력 크기:', x_array.shape)\n",
        "print('크기가 변경된 입력: \\n', x2.numpy())\n",
        "print('열의 합:\\n', xsum.numpy())\n",
        "print('열의 평균:\\n', xmean.numpy())"
      ],
      "execution_count": 0,
      "outputs": [
        {
          "output_type": "stream",
          "text": [
            "입력 크기: (3, 2, 3)\n",
            "크기가 변경된 입력: \n",
            " [[ 0  1  2  3  4  5]\n",
            " [ 6  7  8  9 10 11]\n",
            " [12 13 14 15 16 17]]\n",
            "열의 합:\n",
            " [18 21 24 27 30 33]\n",
            "열의 평균:\n",
            " [ 6  7  8  9 10 11]\n"
          ],
          "name": "stdout"
        }
      ]
    },
    {
      "cell_type": "markdown",
      "metadata": {
        "id": "Fgqaon9Skdox",
        "colab_type": "text"
      },
      "source": [
        "## tensorflow로 저수준 API모델 개발"
      ]
    },
    {
      "cell_type": "code",
      "metadata": {
        "id": "HerKTuZvhlA-",
        "colab_type": "code",
        "colab": {}
      },
      "source": [
        "# dataset 생성\n",
        "import tensorflow as tf\n",
        "import numpy as np\n",
        "\n",
        "X_train = np.arange(10).reshape((10, 1))\n",
        "y_train = np.array([1.0, 1.3, 3.1, 2.0, 5.0, 6.3, 6.6, 7.4, 8.0, 9.0])"
      ],
      "execution_count": 0,
      "outputs": []
    },
    {
      "cell_type": "code",
      "metadata": {
        "id": "T4K5BmFSk336",
        "colab_type": "code",
        "colab": {}
      },
      "source": [
        "# 선형회귀 클래스 생성(경사하강법)\n",
        "class TfLinreg(object):\n",
        "  def __init__(self, learning_rate = 0.01):\n",
        "    self.w = tf.Variable(tf.zeros(shape = (1)))\n",
        "    self.b = tf.Variable(tf.zeros(shape = (1)))\n",
        "    #경사하강법 옵티마이저 설정\n",
        "    self.optimizer = tf.keras.optimizers.SGD(lr = learning_rate)\n",
        "\n",
        "  def fit(self, X, y, num_epochs = 10):\n",
        "    training_costs = []\n",
        "    for step in range(num_epochs):\n",
        "      #자동 미분을 위해 연산과정 기록\n",
        "      with tf.GradientTape() as tape:\n",
        "        z_net = self.w * X + self.b\n",
        "        z_net = tf.reshape(z_net, [-1])\n",
        "        sqr_errors = tf.square(z_net - y)\n",
        "        mean_cost = tf.reduce_mean(sqr_errors)\n",
        "\n",
        "      # 비용함수에 대한 가중치 그래디언트 계산\n",
        "      grads = tape.gradient(mean_cost, [self.w, self.b])\n",
        "      # 옵티마이저에 그래디언트 반영\n",
        "      self.optimizer.apply_gradients(zip(grads, [self.w, self.b]))\n",
        "      # 비용함수의 값을 저장\n",
        "      training_costs.append(mean_cost.numpy())\n",
        "\n",
        "    return training_costs\n",
        "    \n",
        "  def predict(self, X):\n",
        "    return self.w * X + self.b"
      ],
      "execution_count": 0,
      "outputs": []
    },
    {
      "cell_type": "code",
      "metadata": {
        "id": "DRNctXhJm1a9",
        "colab_type": "code",
        "colab": {}
      },
      "source": [
        "lrmodel = TfLinreg()\n",
        "training_costs = lrmodel.fit(X_train, y_train)"
      ],
      "execution_count": 0,
      "outputs": []
    },
    {
      "cell_type": "code",
      "metadata": {
        "id": "tqA1Alw_qLza",
        "colab_type": "code",
        "outputId": "7c58e0a0-8b18-4222-8bbb-7ae66b421760",
        "colab": {
          "base_uri": "https://localhost:8080/",
          "height": 311
        }
      },
      "source": [
        "import matplotlib.pyplot as plt\n",
        "plt.plot(range(1,len(training_costs) + 1), training_costs)\n",
        "plt.tight_layout()\n",
        "plt.xlabel('epochs')\n",
        "plt.ylabel('training cost')\n",
        "plt.show()"
      ],
      "execution_count": 0,
      "outputs": [
        {
          "output_type": "display_data",
          "data": {
            "image/png": "[encoded data removed]",
            "text/plain": [
              "<Figure size 432x288 with 1 Axes>"
            ]
          },
          "metadata": {
            "tags": []
          }
        }
      ]
    },
    {
      "cell_type": "code",
      "metadata": {
        "id": "n4C50KjDrFZv",
        "colab_type": "code",
        "outputId": "e8ef1d0c-4783-4245-da39-50c5d5f01d19",
        "colab": {
          "base_uri": "https://localhost:8080/",
          "height": 297
        }
      },
      "source": [
        "plt.scatter(X_train, y_train, marker = 's',  s = 50, label = 'training data')\n",
        "plt.plot(range(X_train.shape[0]), lrmodel.predict(X_train), color = 'gray', marker = 'o', markersize = 6, linewidth = 3, label = 'LinReg Model')\n",
        "plt.xlabel('x')\n",
        "plt.ylabel('y')\n",
        "plt.tight_layout()\n",
        "plt.legend()\n",
        "plt.show()"
      ],
      "execution_count": 0,
      "outputs": [
        {
          "output_type": "display_data",
          "data": {
            "image/png": "[encoded data removed]",
            "text/plain": [
              "<Figure size 432x288 with 1 Axes>"
            ]
          },
          "metadata": {
            "tags": []
          }
        }
      ]
    }
  ]
}