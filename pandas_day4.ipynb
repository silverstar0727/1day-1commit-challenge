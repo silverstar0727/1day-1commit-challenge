{
  "nbformat": 4,
  "nbformat_minor": 0,
  "metadata": {
    "colab": {
      "name": "pandas_day4.ipynb",
      "provenance": [],
      "authorship_tag": "ABX9TyNMomVVFMGVfFafp9J2YzdA",
      "include_colab_link": true
    },
    "kernelspec": {
      "name": "python3",
      "display_name": "Python 3"
    }
  },
  "cells": [
    {
      "cell_type": "markdown",
      "metadata": {
        "id": "view-in-github",
        "colab_type": "text"
      },
      "source": [
        "<a href=\"https://colab.research.google.com/github/silverstar0727/1day-1commit-challenge/blob/master/pandas_day4.ipynb\" target=\"_parent\"><img src=\"https://colab.research.google.com/assets/colab-badge.svg\" alt=\"Open In Colab\"/></a>"
      ]
    },
    {
      "cell_type": "markdown",
      "metadata": {
        "id": "wJzKHk6aOhIQ",
        "colab_type": "text"
      },
      "source": [
        "# Missing Data\n",
        "\n",
        "## pandas day4\n",
        "day1의 데이터를 가지고 진행합니다."
      ]
    },
    {
      "cell_type": "code",
      "metadata": {
        "id": "586eZLCXOXMD",
        "colab_type": "code",
        "colab": {}
      },
      "source": [
        "# day1의 데이터를 불러오기\n",
        "import pandas as pd\n",
        "import numpy as np\n",
        "import matplotlib.pyplot as plt\n",
        "\n",
        "dates = pd.date_range('20100101', periods = 5)\n",
        "df = pd.DataFrame(np.random.randn(5,4), index = dates, columns = list('ABCD'))"
      ],
      "execution_count": 0,
      "outputs": []
    },
    {
      "cell_type": "code",
      "metadata": {
        "id": "kIY1UZUJOtZX",
        "colab_type": "code",
        "colab": {
          "base_uri": "https://localhost:8080/",
          "height": 204
        },
        "outputId": "da6ad57c-f7f4-4166-9b69-899c0ea40d20"
      },
      "source": [
        "df\n"
      ],
      "execution_count": 3,
      "outputs": [
        {
          "output_type": "execute_result",
          "data": {
            "text/html": [
              "<div>\n",
              "<style scoped>\n",
              "    .dataframe tbody tr th:only-of-type {\n",
              "        vertical-align: middle;\n",
              "    }\n",
              "\n",
              "    .dataframe tbody tr th {\n",
              "        vertical-align: top;\n",
              "    }\n",
              "\n",
              "    .dataframe thead th {\n",
              "        text-align: right;\n",
              "    }\n",
              "</style>\n",
              "<table border=\"1\" class=\"dataframe\">\n",
              "  <thead>\n",
              "    <tr style=\"text-align: right;\">\n",
              "      <th></th>\n",
              "      <th>A</th>\n",
              "      <th>B</th>\n",
              "      <th>C</th>\n",
              "      <th>D</th>\n",
              "    </tr>\n",
              "  </thead>\n",
              "  <tbody>\n",
              "    <tr>\n",
              "      <th>2010-01-01</th>\n",
              "      <td>-0.677234</td>\n",
              "      <td>-0.425903</td>\n",
              "      <td>-1.223405</td>\n",
              "      <td>-0.819993</td>\n",
              "    </tr>\n",
              "    <tr>\n",
              "      <th>2010-01-02</th>\n",
              "      <td>0.617005</td>\n",
              "      <td>0.767844</td>\n",
              "      <td>-2.477006</td>\n",
              "      <td>-1.483478</td>\n",
              "    </tr>\n",
              "    <tr>\n",
              "      <th>2010-01-03</th>\n",
              "      <td>0.525898</td>\n",
              "      <td>1.480172</td>\n",
              "      <td>-0.190536</td>\n",
              "      <td>-1.311518</td>\n",
              "    </tr>\n",
              "    <tr>\n",
              "      <th>2010-01-04</th>\n",
              "      <td>0.770338</td>\n",
              "      <td>0.552496</td>\n",
              "      <td>1.848935</td>\n",
              "      <td>-0.651645</td>\n",
              "    </tr>\n",
              "    <tr>\n",
              "      <th>2010-01-05</th>\n",
              "      <td>-1.276955</td>\n",
              "      <td>-0.419954</td>\n",
              "      <td>0.782022</td>\n",
              "      <td>0.374825</td>\n",
              "    </tr>\n",
              "  </tbody>\n",
              "</table>\n",
              "</div>"
            ],
            "text/plain": [
              "                   A         B         C         D\n",
              "2010-01-01 -0.677234 -0.425903 -1.223405 -0.819993\n",
              "2010-01-02  0.617005  0.767844 -2.477006 -1.483478\n",
              "2010-01-03  0.525898  1.480172 -0.190536 -1.311518\n",
              "2010-01-04  0.770338  0.552496  1.848935 -0.651645\n",
              "2010-01-05 -1.276955 -0.419954  0.782022  0.374825"
            ]
          },
          "metadata": {
            "tags": []
          },
          "execution_count": 3
        }
      ]
    },
    {
      "cell_type": "code",
      "metadata": {
        "id": "Q0EfN7lYOt7W",
        "colab_type": "code",
        "colab": {}
      },
      "source": [
        "# reindex는 인덱스를 변경,추가,삭제할 수 있다\n",
        "df1 = df.reindex(index=dates[0:4], columns = list(df.columns) + ['E'])"
      ],
      "execution_count": 0,
      "outputs": []
    },
    {
      "cell_type": "code",
      "metadata": {
        "id": "6jI_YGC2O4sG",
        "colab_type": "code",
        "colab": {
          "base_uri": "https://localhost:8080/",
          "height": 173
        },
        "outputId": "8161dbfc-8fd4-4283-f4e3-7990c6215c13"
      },
      "source": [
        "df1"
      ],
      "execution_count": 5,
      "outputs": [
        {
          "output_type": "execute_result",
          "data": {
            "text/html": [
              "<div>\n",
              "<style scoped>\n",
              "    .dataframe tbody tr th:only-of-type {\n",
              "        vertical-align: middle;\n",
              "    }\n",
              "\n",
              "    .dataframe tbody tr th {\n",
              "        vertical-align: top;\n",
              "    }\n",
              "\n",
              "    .dataframe thead th {\n",
              "        text-align: right;\n",
              "    }\n",
              "</style>\n",
              "<table border=\"1\" class=\"dataframe\">\n",
              "  <thead>\n",
              "    <tr style=\"text-align: right;\">\n",
              "      <th></th>\n",
              "      <th>A</th>\n",
              "      <th>B</th>\n",
              "      <th>C</th>\n",
              "      <th>D</th>\n",
              "      <th>E</th>\n",
              "    </tr>\n",
              "  </thead>\n",
              "  <tbody>\n",
              "    <tr>\n",
              "      <th>2010-01-01</th>\n",
              "      <td>-0.677234</td>\n",
              "      <td>-0.425903</td>\n",
              "      <td>-1.223405</td>\n",
              "      <td>-0.819993</td>\n",
              "      <td>NaN</td>\n",
              "    </tr>\n",
              "    <tr>\n",
              "      <th>2010-01-02</th>\n",
              "      <td>0.617005</td>\n",
              "      <td>0.767844</td>\n",
              "      <td>-2.477006</td>\n",
              "      <td>-1.483478</td>\n",
              "      <td>NaN</td>\n",
              "    </tr>\n",
              "    <tr>\n",
              "      <th>2010-01-03</th>\n",
              "      <td>0.525898</td>\n",
              "      <td>1.480172</td>\n",
              "      <td>-0.190536</td>\n",
              "      <td>-1.311518</td>\n",
              "      <td>NaN</td>\n",
              "    </tr>\n",
              "    <tr>\n",
              "      <th>2010-01-04</th>\n",
              "      <td>0.770338</td>\n",
              "      <td>0.552496</td>\n",
              "      <td>1.848935</td>\n",
              "      <td>-0.651645</td>\n",
              "      <td>NaN</td>\n",
              "    </tr>\n",
              "  </tbody>\n",
              "</table>\n",
              "</div>"
            ],
            "text/plain": [
              "                   A         B         C         D   E\n",
              "2010-01-01 -0.677234 -0.425903 -1.223405 -0.819993 NaN\n",
              "2010-01-02  0.617005  0.767844 -2.477006 -1.483478 NaN\n",
              "2010-01-03  0.525898  1.480172 -0.190536 -1.311518 NaN\n",
              "2010-01-04  0.770338  0.552496  1.848935 -0.651645 NaN"
            ]
          },
          "metadata": {
            "tags": []
          },
          "execution_count": 5
        }
      ]
    },
    {
      "cell_type": "code",
      "metadata": {
        "id": "jSR_DJqtO5HQ",
        "colab_type": "code",
        "colab": {}
      },
      "source": [
        "df1.loc[dates[0]:dates[1], 'E'] = 1"
      ],
      "execution_count": 0,
      "outputs": []
    },
    {
      "cell_type": "code",
      "metadata": {
        "id": "rYmwzQAcPDiY",
        "colab_type": "code",
        "colab": {
          "base_uri": "https://localhost:8080/",
          "height": 173
        },
        "outputId": "1c28afdf-00cb-44b1-9a46-2d22fadff70e"
      },
      "source": [
        "df1"
      ],
      "execution_count": 8,
      "outputs": [
        {
          "output_type": "execute_result",
          "data": {
            "text/html": [
              "<div>\n",
              "<style scoped>\n",
              "    .dataframe tbody tr th:only-of-type {\n",
              "        vertical-align: middle;\n",
              "    }\n",
              "\n",
              "    .dataframe tbody tr th {\n",
              "        vertical-align: top;\n",
              "    }\n",
              "\n",
              "    .dataframe thead th {\n",
              "        text-align: right;\n",
              "    }\n",
              "</style>\n",
              "<table border=\"1\" class=\"dataframe\">\n",
              "  <thead>\n",
              "    <tr style=\"text-align: right;\">\n",
              "      <th></th>\n",
              "      <th>A</th>\n",
              "      <th>B</th>\n",
              "      <th>C</th>\n",
              "      <th>D</th>\n",
              "      <th>E</th>\n",
              "    </tr>\n",
              "  </thead>\n",
              "  <tbody>\n",
              "    <tr>\n",
              "      <th>2010-01-01</th>\n",
              "      <td>-0.677234</td>\n",
              "      <td>-0.425903</td>\n",
              "      <td>-1.223405</td>\n",
              "      <td>-0.819993</td>\n",
              "      <td>1.0</td>\n",
              "    </tr>\n",
              "    <tr>\n",
              "      <th>2010-01-02</th>\n",
              "      <td>0.617005</td>\n",
              "      <td>0.767844</td>\n",
              "      <td>-2.477006</td>\n",
              "      <td>-1.483478</td>\n",
              "      <td>1.0</td>\n",
              "    </tr>\n",
              "    <tr>\n",
              "      <th>2010-01-03</th>\n",
              "      <td>0.525898</td>\n",
              "      <td>1.480172</td>\n",
              "      <td>-0.190536</td>\n",
              "      <td>-1.311518</td>\n",
              "      <td>NaN</td>\n",
              "    </tr>\n",
              "    <tr>\n",
              "      <th>2010-01-04</th>\n",
              "      <td>0.770338</td>\n",
              "      <td>0.552496</td>\n",
              "      <td>1.848935</td>\n",
              "      <td>-0.651645</td>\n",
              "      <td>NaN</td>\n",
              "    </tr>\n",
              "  </tbody>\n",
              "</table>\n",
              "</div>"
            ],
            "text/plain": [
              "                   A         B         C         D    E\n",
              "2010-01-01 -0.677234 -0.425903 -1.223405 -0.819993  1.0\n",
              "2010-01-02  0.617005  0.767844 -2.477006 -1.483478  1.0\n",
              "2010-01-03  0.525898  1.480172 -0.190536 -1.311518  NaN\n",
              "2010-01-04  0.770338  0.552496  1.848935 -0.651645  NaN"
            ]
          },
          "metadata": {
            "tags": []
          },
          "execution_count": 8
        }
      ]
    },
    {
      "cell_type": "code",
      "metadata": {
        "id": "tk95CcGPPEpv",
        "colab_type": "code",
        "colab": {
          "base_uri": "https://localhost:8080/",
          "height": 111
        },
        "outputId": "8f3d7ff8-73e6-4ff5-cdcf-a4d8d305c1b9"
      },
      "source": [
        "# np.nan에 해당하는 데이터를 지운다\n",
        "df1.dropna(how = 'any')"
      ],
      "execution_count": 9,
      "outputs": [
        {
          "output_type": "execute_result",
          "data": {
            "text/html": [
              "<div>\n",
              "<style scoped>\n",
              "    .dataframe tbody tr th:only-of-type {\n",
              "        vertical-align: middle;\n",
              "    }\n",
              "\n",
              "    .dataframe tbody tr th {\n",
              "        vertical-align: top;\n",
              "    }\n",
              "\n",
              "    .dataframe thead th {\n",
              "        text-align: right;\n",
              "    }\n",
              "</style>\n",
              "<table border=\"1\" class=\"dataframe\">\n",
              "  <thead>\n",
              "    <tr style=\"text-align: right;\">\n",
              "      <th></th>\n",
              "      <th>A</th>\n",
              "      <th>B</th>\n",
              "      <th>C</th>\n",
              "      <th>D</th>\n",
              "      <th>E</th>\n",
              "    </tr>\n",
              "  </thead>\n",
              "  <tbody>\n",
              "    <tr>\n",
              "      <th>2010-01-01</th>\n",
              "      <td>-0.677234</td>\n",
              "      <td>-0.425903</td>\n",
              "      <td>-1.223405</td>\n",
              "      <td>-0.819993</td>\n",
              "      <td>1.0</td>\n",
              "    </tr>\n",
              "    <tr>\n",
              "      <th>2010-01-02</th>\n",
              "      <td>0.617005</td>\n",
              "      <td>0.767844</td>\n",
              "      <td>-2.477006</td>\n",
              "      <td>-1.483478</td>\n",
              "      <td>1.0</td>\n",
              "    </tr>\n",
              "  </tbody>\n",
              "</table>\n",
              "</div>"
            ],
            "text/plain": [
              "                   A         B         C         D    E\n",
              "2010-01-01 -0.677234 -0.425903 -1.223405 -0.819993  1.0\n",
              "2010-01-02  0.617005  0.767844 -2.477006 -1.483478  1.0"
            ]
          },
          "metadata": {
            "tags": []
          },
          "execution_count": 9
        }
      ]
    },
    {
      "cell_type": "code",
      "metadata": {
        "id": "uGElCrZyPQk5",
        "colab_type": "code",
        "colab": {
          "base_uri": "https://localhost:8080/",
          "height": 173
        },
        "outputId": "0bcd1b95-5243-44eb-d866-bb5c269338d7"
      },
      "source": [
        "# 지운값을 반환하는거라서 df1은 그대로 나오는 것을 볼 수 있다.\n",
        "df1"
      ],
      "execution_count": 11,
      "outputs": [
        {
          "output_type": "execute_result",
          "data": {
            "text/html": [
              "<div>\n",
              "<style scoped>\n",
              "    .dataframe tbody tr th:only-of-type {\n",
              "        vertical-align: middle;\n",
              "    }\n",
              "\n",
              "    .dataframe tbody tr th {\n",
              "        vertical-align: top;\n",
              "    }\n",
              "\n",
              "    .dataframe thead th {\n",
              "        text-align: right;\n",
              "    }\n",
              "</style>\n",
              "<table border=\"1\" class=\"dataframe\">\n",
              "  <thead>\n",
              "    <tr style=\"text-align: right;\">\n",
              "      <th></th>\n",
              "      <th>A</th>\n",
              "      <th>B</th>\n",
              "      <th>C</th>\n",
              "      <th>D</th>\n",
              "      <th>E</th>\n",
              "    </tr>\n",
              "  </thead>\n",
              "  <tbody>\n",
              "    <tr>\n",
              "      <th>2010-01-01</th>\n",
              "      <td>-0.677234</td>\n",
              "      <td>-0.425903</td>\n",
              "      <td>-1.223405</td>\n",
              "      <td>-0.819993</td>\n",
              "      <td>1.0</td>\n",
              "    </tr>\n",
              "    <tr>\n",
              "      <th>2010-01-02</th>\n",
              "      <td>0.617005</td>\n",
              "      <td>0.767844</td>\n",
              "      <td>-2.477006</td>\n",
              "      <td>-1.483478</td>\n",
              "      <td>1.0</td>\n",
              "    </tr>\n",
              "    <tr>\n",
              "      <th>2010-01-03</th>\n",
              "      <td>0.525898</td>\n",
              "      <td>1.480172</td>\n",
              "      <td>-0.190536</td>\n",
              "      <td>-1.311518</td>\n",
              "      <td>NaN</td>\n",
              "    </tr>\n",
              "    <tr>\n",
              "      <th>2010-01-04</th>\n",
              "      <td>0.770338</td>\n",
              "      <td>0.552496</td>\n",
              "      <td>1.848935</td>\n",
              "      <td>-0.651645</td>\n",
              "      <td>NaN</td>\n",
              "    </tr>\n",
              "  </tbody>\n",
              "</table>\n",
              "</div>"
            ],
            "text/plain": [
              "                   A         B         C         D    E\n",
              "2010-01-01 -0.677234 -0.425903 -1.223405 -0.819993  1.0\n",
              "2010-01-02  0.617005  0.767844 -2.477006 -1.483478  1.0\n",
              "2010-01-03  0.525898  1.480172 -0.190536 -1.311518  NaN\n",
              "2010-01-04  0.770338  0.552496  1.848935 -0.651645  NaN"
            ]
          },
          "metadata": {
            "tags": []
          },
          "execution_count": 11
        }
      ]
    },
    {
      "cell_type": "code",
      "metadata": {
        "id": "4uzrlbpZPRIw",
        "colab_type": "code",
        "colab": {
          "base_uri": "https://localhost:8080/",
          "height": 173
        },
        "outputId": "4e6e8936-6664-4ce9-c96e-04b8c4d25453"
      },
      "source": [
        "# nan에 주어진값(5)를 채워넣는다\n",
        "df1.fillna(value = 5)"
      ],
      "execution_count": 12,
      "outputs": [
        {
          "output_type": "execute_result",
          "data": {
            "text/html": [
              "<div>\n",
              "<style scoped>\n",
              "    .dataframe tbody tr th:only-of-type {\n",
              "        vertical-align: middle;\n",
              "    }\n",
              "\n",
              "    .dataframe tbody tr th {\n",
              "        vertical-align: top;\n",
              "    }\n",
              "\n",
              "    .dataframe thead th {\n",
              "        text-align: right;\n",
              "    }\n",
              "</style>\n",
              "<table border=\"1\" class=\"dataframe\">\n",
              "  <thead>\n",
              "    <tr style=\"text-align: right;\">\n",
              "      <th></th>\n",
              "      <th>A</th>\n",
              "      <th>B</th>\n",
              "      <th>C</th>\n",
              "      <th>D</th>\n",
              "      <th>E</th>\n",
              "    </tr>\n",
              "  </thead>\n",
              "  <tbody>\n",
              "    <tr>\n",
              "      <th>2010-01-01</th>\n",
              "      <td>-0.677234</td>\n",
              "      <td>-0.425903</td>\n",
              "      <td>-1.223405</td>\n",
              "      <td>-0.819993</td>\n",
              "      <td>1.0</td>\n",
              "    </tr>\n",
              "    <tr>\n",
              "      <th>2010-01-02</th>\n",
              "      <td>0.617005</td>\n",
              "      <td>0.767844</td>\n",
              "      <td>-2.477006</td>\n",
              "      <td>-1.483478</td>\n",
              "      <td>1.0</td>\n",
              "    </tr>\n",
              "    <tr>\n",
              "      <th>2010-01-03</th>\n",
              "      <td>0.525898</td>\n",
              "      <td>1.480172</td>\n",
              "      <td>-0.190536</td>\n",
              "      <td>-1.311518</td>\n",
              "      <td>5.0</td>\n",
              "    </tr>\n",
              "    <tr>\n",
              "      <th>2010-01-04</th>\n",
              "      <td>0.770338</td>\n",
              "      <td>0.552496</td>\n",
              "      <td>1.848935</td>\n",
              "      <td>-0.651645</td>\n",
              "      <td>5.0</td>\n",
              "    </tr>\n",
              "  </tbody>\n",
              "</table>\n",
              "</div>"
            ],
            "text/plain": [
              "                   A         B         C         D    E\n",
              "2010-01-01 -0.677234 -0.425903 -1.223405 -0.819993  1.0\n",
              "2010-01-02  0.617005  0.767844 -2.477006 -1.483478  1.0\n",
              "2010-01-03  0.525898  1.480172 -0.190536 -1.311518  5.0\n",
              "2010-01-04  0.770338  0.552496  1.848935 -0.651645  5.0"
            ]
          },
          "metadata": {
            "tags": []
          },
          "execution_count": 12
        }
      ]
    },
    {
      "cell_type": "code",
      "metadata": {
        "id": "djN61nf_Pf_l",
        "colab_type": "code",
        "colab": {
          "base_uri": "https://localhost:8080/",
          "height": 173
        },
        "outputId": "83c94abd-d55f-4399-9de3-b4a7399ce1a3"
      },
      "source": [
        "# dropna의 결과와 동일\n",
        "df1"
      ],
      "execution_count": 13,
      "outputs": [
        {
          "output_type": "execute_result",
          "data": {
            "text/html": [
              "<div>\n",
              "<style scoped>\n",
              "    .dataframe tbody tr th:only-of-type {\n",
              "        vertical-align: middle;\n",
              "    }\n",
              "\n",
              "    .dataframe tbody tr th {\n",
              "        vertical-align: top;\n",
              "    }\n",
              "\n",
              "    .dataframe thead th {\n",
              "        text-align: right;\n",
              "    }\n",
              "</style>\n",
              "<table border=\"1\" class=\"dataframe\">\n",
              "  <thead>\n",
              "    <tr style=\"text-align: right;\">\n",
              "      <th></th>\n",
              "      <th>A</th>\n",
              "      <th>B</th>\n",
              "      <th>C</th>\n",
              "      <th>D</th>\n",
              "      <th>E</th>\n",
              "    </tr>\n",
              "  </thead>\n",
              "  <tbody>\n",
              "    <tr>\n",
              "      <th>2010-01-01</th>\n",
              "      <td>-0.677234</td>\n",
              "      <td>-0.425903</td>\n",
              "      <td>-1.223405</td>\n",
              "      <td>-0.819993</td>\n",
              "      <td>1.0</td>\n",
              "    </tr>\n",
              "    <tr>\n",
              "      <th>2010-01-02</th>\n",
              "      <td>0.617005</td>\n",
              "      <td>0.767844</td>\n",
              "      <td>-2.477006</td>\n",
              "      <td>-1.483478</td>\n",
              "      <td>1.0</td>\n",
              "    </tr>\n",
              "    <tr>\n",
              "      <th>2010-01-03</th>\n",
              "      <td>0.525898</td>\n",
              "      <td>1.480172</td>\n",
              "      <td>-0.190536</td>\n",
              "      <td>-1.311518</td>\n",
              "      <td>NaN</td>\n",
              "    </tr>\n",
              "    <tr>\n",
              "      <th>2010-01-04</th>\n",
              "      <td>0.770338</td>\n",
              "      <td>0.552496</td>\n",
              "      <td>1.848935</td>\n",
              "      <td>-0.651645</td>\n",
              "      <td>NaN</td>\n",
              "    </tr>\n",
              "  </tbody>\n",
              "</table>\n",
              "</div>"
            ],
            "text/plain": [
              "                   A         B         C         D    E\n",
              "2010-01-01 -0.677234 -0.425903 -1.223405 -0.819993  1.0\n",
              "2010-01-02  0.617005  0.767844 -2.477006 -1.483478  1.0\n",
              "2010-01-03  0.525898  1.480172 -0.190536 -1.311518  NaN\n",
              "2010-01-04  0.770338  0.552496  1.848935 -0.651645  NaN"
            ]
          },
          "metadata": {
            "tags": []
          },
          "execution_count": 13
        }
      ]
    },
    {
      "cell_type": "code",
      "metadata": {
        "id": "TX3sg1qaPgl3",
        "colab_type": "code",
        "colab": {
          "base_uri": "https://localhost:8080/",
          "height": 173
        },
        "outputId": "b58215b5-38e8-448b-b9d0-3b30d5037e23"
      },
      "source": [
        "# boolean데이터로 변환하고 True는 na값에 해당한다.\n",
        "pd.isna(df1)"
      ],
      "execution_count": 14,
      "outputs": [
        {
          "output_type": "execute_result",
          "data": {
            "text/html": [
              "<div>\n",
              "<style scoped>\n",
              "    .dataframe tbody tr th:only-of-type {\n",
              "        vertical-align: middle;\n",
              "    }\n",
              "\n",
              "    .dataframe tbody tr th {\n",
              "        vertical-align: top;\n",
              "    }\n",
              "\n",
              "    .dataframe thead th {\n",
              "        text-align: right;\n",
              "    }\n",
              "</style>\n",
              "<table border=\"1\" class=\"dataframe\">\n",
              "  <thead>\n",
              "    <tr style=\"text-align: right;\">\n",
              "      <th></th>\n",
              "      <th>A</th>\n",
              "      <th>B</th>\n",
              "      <th>C</th>\n",
              "      <th>D</th>\n",
              "      <th>E</th>\n",
              "    </tr>\n",
              "  </thead>\n",
              "  <tbody>\n",
              "    <tr>\n",
              "      <th>2010-01-01</th>\n",
              "      <td>False</td>\n",
              "      <td>False</td>\n",
              "      <td>False</td>\n",
              "      <td>False</td>\n",
              "      <td>False</td>\n",
              "    </tr>\n",
              "    <tr>\n",
              "      <th>2010-01-02</th>\n",
              "      <td>False</td>\n",
              "      <td>False</td>\n",
              "      <td>False</td>\n",
              "      <td>False</td>\n",
              "      <td>False</td>\n",
              "    </tr>\n",
              "    <tr>\n",
              "      <th>2010-01-03</th>\n",
              "      <td>False</td>\n",
              "      <td>False</td>\n",
              "      <td>False</td>\n",
              "      <td>False</td>\n",
              "      <td>True</td>\n",
              "    </tr>\n",
              "    <tr>\n",
              "      <th>2010-01-04</th>\n",
              "      <td>False</td>\n",
              "      <td>False</td>\n",
              "      <td>False</td>\n",
              "      <td>False</td>\n",
              "      <td>True</td>\n",
              "    </tr>\n",
              "  </tbody>\n",
              "</table>\n",
              "</div>"
            ],
            "text/plain": [
              "                A      B      C      D      E\n",
              "2010-01-01  False  False  False  False  False\n",
              "2010-01-02  False  False  False  False  False\n",
              "2010-01-03  False  False  False  False   True\n",
              "2010-01-04  False  False  False  False   True"
            ]
          },
          "metadata": {
            "tags": []
          },
          "execution_count": 14
        }
      ]
    },
    {
      "cell_type": "markdown",
      "metadata": {
        "id": "53BbsMugQARm",
        "colab_type": "text"
      },
      "source": [
        "# 쉬울수록 중요하다..\n",
        "오늘건 생각보다 쉬웠다고 생각하는데, 쉬울수록 그 중요도는 높아지는 것 같다..\n",
        "\n",
        "데이터가 누락되는 경우가 지난번에 프로젝트를 진행했을때 꽤나 많아서 그것을 지우기 위해서 이번에 배운 dropna를 유용하게 활용했기 때문\n"
      ]
    }
  ]
}