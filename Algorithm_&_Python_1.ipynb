{
  "nbformat": 4,
  "nbformat_minor": 0,
  "metadata": {
    "colab": {
      "name": "Algorithm & Python_1.ipynb",
      "provenance": [],
      "collapsed_sections": [],
      "authorship_tag": "ABX9TyO+b6DeiFasyzUj4eW4tEcz",
      "include_colab_link": true
    },
    "kernelspec": {
      "name": "python3",
      "display_name": "Python 3"
    }
  },
  "cells": [
    {
      "cell_type": "markdown",
      "metadata": {
        "id": "view-in-github",
        "colab_type": "text"
      },
      "source": [
        "<a href=\"https://colab.research.google.com/github/silverstar0727/1day-1commit-challenge/blob/master/Algorithm_%26_Python_1.ipynb\" target=\"_parent\"><img src=\"https://colab.research.google.com/assets/colab-badge.svg\" alt=\"Open In Colab\"/></a>"
      ]
    },
    {
      "cell_type": "markdown",
      "metadata": {
        "id": "Zzl0Tke54nj6",
        "colab_type": "text"
      },
      "source": [
        "### 알고리즘 성능 분석\n",
        "알고리즘의 성능을 결정하는 요소\n",
        "1. 성능 분석 (performance analysis) - 시간과 공간의 추정\n",
        "2. 성능 측정 (performance measurement) - 실제 시간 측정\n",
        "\n",
        "앞으로 성능 분석만 다룰 예정..\n",
        "\n",
        "## 성능 분석 = 시간복잡도 + 공간 복잡도를 추정하여 평가함!!\n",
        "\n",
        "공간 복잡도(space complexity) = 알고리즘을 실행시켜서 완료하는데 필요한 총 저장공간. \n",
        ">S_a(총 저장공간) = S_c(고정 공간) + S_e(가변공간)\n",
        ">> 고정공간 = 고정적으로 필요한 공간(알고리즘 명령어 저장공간, 단순변수, 상수 등)\n",
        ">> 가변공간 = 실행 과정에서 필요로하는 공간(데이터 구조, 순환 호출의 런타임 스택(runtime stack)등\n",
        "> 보통의 경우 가변 공간에 대해 더 중점을 두고 있다.\n",
        "\n",
        "시간 복잡도(time complexity) = 알고리즘을 실행시켜서 완료하는데 걸리는 시간\n",
        "> T_a = T_c(컴파일 시간) + T_e(실행시간)\n",
        "T_c인 컴파일 시간은 고정적이므로 T_e만 신경쓰면 된다.\n",
        ">> T_e는 실행시켜야 정확히 구할 수 있어서 실행 이전에 구하기 위해서는 점근적 표기법(asymptotic notation)을 통해 추정한다.\n",
        "\n"
      ]
    },
    {
      "cell_type": "markdown",
      "metadata": {
        "id": "1Fz4M6lv_Gsq",
        "colab_type": "text"
      },
      "source": [
        "## 정렬 알고리즘\n",
        "다루게 될 정렬 알고리즘은 list를 사용하는데 n개의 배열을 다룰 때, n+1개의 배열을 선언하여 a[0]은 비워두고 데이터 비교 시 배열의 한계를 벗어나지 않도록 배열의 모든 원소보다 작은 값을 a[0]에 저장한다. 이러한 값을 감시 키 또는 더미 키라고 부른다."
      ]
    },
    {
      "cell_type": "code",
      "metadata": {
        "id": "b2xJ1_y4Aklj",
        "colab_type": "code",
        "colab": {}
      },
      "source": [
        "# 정렬 알고리즘의 시간측정\n",
        "## n 개의 난수를 발생시킨다 n =2\n",
        "import random\n",
        "a = []\n",
        "a.append(-1)\n",
        "for i in range(2):\n",
        "  a.append(random.randint(1, 2))\n",
        "\n",
        "## time()함수를 이용하여 실행시간을 측정한다.\n",
        "start_time = time.time()\n",
        "sorting_function()\n",
        "end_time = time.time() - start_time\n",
        "print('정렬의 실행시간 (n = %d) : %0.3f' %(n, end_time))"
      ],
      "execution_count": 0,
      "outputs": []
    },
    {
      "cell_type": "code",
      "metadata": {
        "id": "RCtBiVgYCHNk",
        "colab_type": "code",
        "colab": {}
      },
      "source": [
        "# 선택 정렬(selection sort)\n",
        "## 잘못된 위치에 들어가 있는 원소를 찾아 올바른 위치로 옮겨주는 정렬\n"
      ],
      "execution_count": 0,
      "outputs": []
    }
  ]
}