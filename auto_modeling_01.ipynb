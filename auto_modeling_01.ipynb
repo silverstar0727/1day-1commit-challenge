{
  "nbformat": 4,
  "nbformat_minor": 0,
  "metadata": {
    "colab": {
      "name": "auto_modeling_01.ipynb",
      "provenance": [],
      "collapsed_sections": [],
      "mount_file_id": "1NJZxBHuGwLJAc_uSgR5hDoIXKnp5jwJM",
      "authorship_tag": "ABX9TyNbmNq7FB3VNc38XOrADmPN",
      "include_colab_link": true
    },
    "kernelspec": {
      "name": "python3",
      "display_name": "Python 3"
    }
  },
  "cells": [
    {
      "cell_type": "markdown",
      "metadata": {
        "id": "view-in-github",
        "colab_type": "text"
      },
      "source": [
        "<a href=\"https://colab.research.google.com/github/silverstar0727/study-/blob/master/auto_modeling_01.ipynb\" target=\"_parent\"><img src=\"https://colab.research.google.com/assets/colab-badge.svg\" alt=\"Open In Colab\"/></a>"
      ]
    },
    {
      "cell_type": "code",
      "metadata": {
        "id": "lvSsnm85BCYQ",
        "colab_type": "code",
        "colab": {}
      },
      "source": [
        "import numpy as np\n",
        "import pandas as pd"
      ],
      "execution_count": 45,
      "outputs": []
    },
    {
      "cell_type": "code",
      "metadata": {
        "id": "88sTO4JSBN6q",
        "colab_type": "code",
        "colab": {
          "base_uri": "https://localhost:8080/",
          "height": 35
        },
        "outputId": "f5d07215-e873-45db-88a3-fc11f098777e"
      },
      "source": [
        "cd /content/drive/My Drive/wion_crawling"
      ],
      "execution_count": 46,
      "outputs": [
        {
          "output_type": "stream",
          "text": [
            "/content/drive/My Drive/wion_crawling\n"
          ],
          "name": "stdout"
        }
      ]
    },
    {
      "cell_type": "code",
      "metadata": {
        "id": "CjNkUkLmBCWf",
        "colab_type": "code",
        "colab": {}
      },
      "source": [
        "BS = pd.read_csv('BS.csv')\n",
        "CF = pd.read_csv('CF.csv')\n",
        "IS = pd.read_csv('IS.csv')"
      ],
      "execution_count": 47,
      "outputs": []
    },
    {
      "cell_type": "code",
      "metadata": {
        "id": "wBSQcW93BCPy",
        "colab_type": "code",
        "colab": {}
      },
      "source": [
        "def find_index(index, date, df):\n",
        "  k = np.array(df.iloc[0, :])\n",
        "  i = np.where(k == index)[0][0]\n",
        "\n",
        "  return (float(df.iloc[date, i]) * 100)"
      ],
      "execution_count": 48,
      "outputs": []
    },
    {
      "cell_type": "code",
      "metadata": {
        "id": "8wyWOfbgBCNO",
        "colab_type": "code",
        "colab": {
          "base_uri": "https://localhost:8080/",
          "height": 419
        },
        "outputId": "a528e60c-c2f3-4148-885d-cc1bff3d2b43"
      },
      "source": [
        "IS"
      ],
      "execution_count": 50,
      "outputs": [
        {
          "output_type": "execute_result",
          "data": {
            "text/html": [
              "<div>\n",
              "<style scoped>\n",
              "    .dataframe tbody tr th:only-of-type {\n",
              "        vertical-align: middle;\n",
              "    }\n",
              "\n",
              "    .dataframe tbody tr th {\n",
              "        vertical-align: top;\n",
              "    }\n",
              "\n",
              "    .dataframe thead th {\n",
              "        text-align: right;\n",
              "    }\n",
              "</style>\n",
              "<table border=\"1\" class=\"dataframe\">\n",
              "  <thead>\n",
              "    <tr style=\"text-align: right;\">\n",
              "      <th></th>\n",
              "      <th>ACCODE</th>\n",
              "      <th>ACC_NM</th>\n",
              "      <th>2015-12-01</th>\n",
              "      <th>2016-12-01</th>\n",
              "      <th>2017-12-01</th>\n",
              "      <th>2018-12-01</th>\n",
              "      <th>2019-12-01</th>\n",
              "    </tr>\n",
              "  </thead>\n",
              "  <tbody>\n",
              "    <tr>\n",
              "      <th>0</th>\n",
              "      <td>200000</td>\n",
              "      <td>매출액(수익)</td>\n",
              "      <td>2006534.82</td>\n",
              "      <td>2018667.45</td>\n",
              "      <td>2395753.76</td>\n",
              "      <td>2437714.15</td>\n",
              "      <td>2304008.81</td>\n",
              "    </tr>\n",
              "    <tr>\n",
              "      <th>1</th>\n",
              "      <td>200010</td>\n",
              "      <td>내수</td>\n",
              "      <td>208278.22</td>\n",
              "      <td>NaN</td>\n",
              "      <td>NaN</td>\n",
              "      <td>NaN</td>\n",
              "      <td>2304009.00</td>\n",
              "    </tr>\n",
              "    <tr>\n",
              "      <th>2</th>\n",
              "      <td>200020</td>\n",
              "      <td>수출</td>\n",
              "      <td>1798256.60</td>\n",
              "      <td>NaN</td>\n",
              "      <td>NaN</td>\n",
              "      <td>NaN</td>\n",
              "      <td>NaN</td>\n",
              "    </tr>\n",
              "    <tr>\n",
              "      <th>3</th>\n",
              "      <td>200040</td>\n",
              "      <td>제품매출액</td>\n",
              "      <td>NaN</td>\n",
              "      <td>NaN</td>\n",
              "      <td>NaN</td>\n",
              "      <td>NaN</td>\n",
              "      <td>NaN</td>\n",
              "    </tr>\n",
              "    <tr>\n",
              "      <th>4</th>\n",
              "      <td>200070</td>\n",
              "      <td>상품매출액</td>\n",
              "      <td>NaN</td>\n",
              "      <td>NaN</td>\n",
              "      <td>NaN</td>\n",
              "      <td>NaN</td>\n",
              "      <td>NaN</td>\n",
              "    </tr>\n",
              "    <tr>\n",
              "      <th>...</th>\n",
              "      <td>...</td>\n",
              "      <td>...</td>\n",
              "      <td>...</td>\n",
              "      <td>...</td>\n",
              "      <td>...</td>\n",
              "      <td>...</td>\n",
              "      <td>...</td>\n",
              "    </tr>\n",
              "    <tr>\n",
              "      <th>239</th>\n",
              "      <td>203360</td>\n",
              "      <td>희석주당순이익</td>\n",
              "      <td>126303.00</td>\n",
              "      <td>NaN</td>\n",
              "      <td>NaN</td>\n",
              "      <td>NaN</td>\n",
              "      <td>NaN</td>\n",
              "    </tr>\n",
              "    <tr>\n",
              "      <th>240</th>\n",
              "      <td>203370</td>\n",
              "      <td>(지배주주지분)주당계속사업이익</td>\n",
              "      <td>126305.00</td>\n",
              "      <td>157967.00</td>\n",
              "      <td>5997.00</td>\n",
              "      <td>6461.00</td>\n",
              "      <td>3166.00</td>\n",
              "    </tr>\n",
              "    <tr>\n",
              "      <th>241</th>\n",
              "      <td>203380</td>\n",
              "      <td>(지배주주지분)주당순이익</td>\n",
              "      <td>126305.00</td>\n",
              "      <td>157967.00</td>\n",
              "      <td>5997.00</td>\n",
              "      <td>6461.00</td>\n",
              "      <td>3166.00</td>\n",
              "    </tr>\n",
              "    <tr>\n",
              "      <th>242</th>\n",
              "      <td>203390</td>\n",
              "      <td>(지배주주지분)희석주당계속사업이익</td>\n",
              "      <td>126303.00</td>\n",
              "      <td>NaN</td>\n",
              "      <td>NaN</td>\n",
              "      <td>NaN</td>\n",
              "      <td>NaN</td>\n",
              "    </tr>\n",
              "    <tr>\n",
              "      <th>243</th>\n",
              "      <td>203400</td>\n",
              "      <td>(지배주주지분)희석주당순이익</td>\n",
              "      <td>126303.00</td>\n",
              "      <td>NaN</td>\n",
              "      <td>NaN</td>\n",
              "      <td>NaN</td>\n",
              "      <td>NaN</td>\n",
              "    </tr>\n",
              "  </tbody>\n",
              "</table>\n",
              "<p>244 rows × 7 columns</p>\n",
              "</div>"
            ],
            "text/plain": [
              "     ACCODE              ACC_NM  2015-12-01  ...  2017-12-01  2018-12-01  2019-12-01\n",
              "0    200000             매출액(수익)  2006534.82  ...  2395753.76  2437714.15  2304008.81\n",
              "1    200010                  내수   208278.22  ...         NaN         NaN  2304009.00\n",
              "2    200020                  수출  1798256.60  ...         NaN         NaN         NaN\n",
              "3    200040               제품매출액         NaN  ...         NaN         NaN         NaN\n",
              "4    200070               상품매출액         NaN  ...         NaN         NaN         NaN\n",
              "..      ...                 ...         ...  ...         ...         ...         ...\n",
              "239  203360             희석주당순이익   126303.00  ...         NaN         NaN         NaN\n",
              "240  203370    (지배주주지분)주당계속사업이익   126305.00  ...     5997.00     6461.00     3166.00\n",
              "241  203380       (지배주주지분)주당순이익   126305.00  ...     5997.00     6461.00     3166.00\n",
              "242  203390  (지배주주지분)희석주당계속사업이익   126303.00  ...         NaN         NaN         NaN\n",
              "243  203400     (지배주주지분)희석주당순이익   126303.00  ...         NaN         NaN         NaN\n",
              "\n",
              "[244 rows x 7 columns]"
            ]
          },
          "metadata": {
            "tags": []
          },
          "execution_count": 50
        }
      ]
    },
    {
      "cell_type": "code",
      "metadata": {
        "id": "85Zfdzp5lzUH",
        "colab_type": "code",
        "colab": {}
      },
      "source": [
        "for i in range(2, 7):\n",
        "  print(find_index('매출액(수익)', i, IS))"
      ],
      "execution_count": null,
      "outputs": []
    },
    {
      "cell_type": "markdown",
      "metadata": {
        "id": "HkSPLRS2IuT-",
        "colab_type": "text"
      },
      "source": [
        "* 직접 받아와야 하는 항목: 매출액, 매출원가, 판관비, 감가상각비(+기타무형자산상각비), 이자수익(금융수익), 현금및현금성자산, 단기금융자산, 이자비용(금융원가), 기타영업외수익, 기타영업외 비용, 관계사, tax\n",
        "* 계산이 가능한 항목: 매출총이익, 영업이익, EBITDA, 영업외손익, 합계, 이자부채, pretax income, 당기순이익\n",
        "\n"
      ]
    },
    {
      "cell_type": "code",
      "metadata": {
        "id": "qbSpF1aiIJ6m",
        "colab_type": "code",
        "colab": {}
      },
      "source": [
        "financial_index = ['매출액(수익)', 'yoy', '매출원가', 'COGS', '매출총이익', 'GPM',\n",
        "                   '판매비와관리비', 'SG&A', 'yoy', '영업이익', 'OPM',\n",
        "                   '감가상각비', 'Dep', 'EBITDA', '영업외손익', '매출액대비',\n",
        "                   '이자수익', 'yoy', '현금 및 현금성자산',\n",
        "                   '단기금융자산', '합계', '매출액대비', '이자비용', \n",
        "                   '이자부채', '기타영업외수익', '매출액대비', '기타영업외비용', \n",
        "                   '매출액대비', '관계사', 'pretax income', '매출액대비',\n",
        "                   'tax', '세전이익대비', '당기순이익', 'NPM']"
      ],
      "execution_count": 18,
      "outputs": []
    },
    {
      "cell_type": "code",
      "metadata": {
        "id": "OBCH6cSSRxUM",
        "colab_type": "code",
        "colab": {}
      },
      "source": [
        "essential_index = ['매출액(수익)', 'yoy', '매출원가', 'COGS', '매출총이익', 'GPM',\n",
        "                   '판매비와관리비', 'SG&A', 'yoy', '영업이익', 'OPM',\n",
        "                   '감가상각비', 'Dep', 'EBITDA', '영업외손익', '매출액대비',\n",
        "                   '이자수익', 'yoy', '현금 및 현금성자산',\n",
        "                   '단기금융자산', '합계', '매출액대비', '이자비용', \n",
        "                   '이자부채', '기타영업외수익', '매출액대비', '기타영업외비용', \n",
        "                   '매출액대비', '종속기업,공동지배기업및관리', '법인세비용']"
      ],
      "execution_count": null,
      "outputs": []
    },
    {
      "cell_type": "code",
      "metadata": {
        "id": "buGFOI6TMIoz",
        "colab_type": "code",
        "colab": {}
      },
      "source": [
        "df = {'단위 (억 원)': list(), '2015': list(), '2016': list(), '2017': list(), '2018': list(), '2019': list()}\n",
        "for i in financial_index:\n",
        "  df['단위 (억 원)'].append(i)\n",
        "  df['2015'] = "
      ],
      "execution_count": null,
      "outputs": []
    },
    {
      "cell_type": "code",
      "metadata": {
        "id": "lBzU_fKRA5Nf",
        "colab_type": "code",
        "colab": {}
      },
      "source": [
        "cols = ['단위 (억 원)', 2015, 2016, 2017, 2018, 2019]"
      ],
      "execution_count": 19,
      "outputs": []
    },
    {
      "cell_type": "code",
      "metadata": {
        "id": "zVCatsqzOdSb",
        "colab_type": "code",
        "colab": {
          "base_uri": "https://localhost:8080/",
          "height": 647
        },
        "outputId": "721aa320-75f6-4674-92c4-beeaf9f0a850"
      },
      "source": [
        "data = [['NaN'] * (len(cols) - 1)] * len(financial_index)\n",
        "data = np.array(data)\n",
        "data"
      ],
      "execution_count": 37,
      "outputs": [
        {
          "output_type": "execute_result",
          "data": {
            "text/plain": [
              "array([['NaN', 'NaN', 'NaN', 'NaN', 'NaN'],\n",
              "       ['NaN', 'NaN', 'NaN', 'NaN', 'NaN'],\n",
              "       ['NaN', 'NaN', 'NaN', 'NaN', 'NaN'],\n",
              "       ['NaN', 'NaN', 'NaN', 'NaN', 'NaN'],\n",
              "       ['NaN', 'NaN', 'NaN', 'NaN', 'NaN'],\n",
              "       ['NaN', 'NaN', 'NaN', 'NaN', 'NaN'],\n",
              "       ['NaN', 'NaN', 'NaN', 'NaN', 'NaN'],\n",
              "       ['NaN', 'NaN', 'NaN', 'NaN', 'NaN'],\n",
              "       ['NaN', 'NaN', 'NaN', 'NaN', 'NaN'],\n",
              "       ['NaN', 'NaN', 'NaN', 'NaN', 'NaN'],\n",
              "       ['NaN', 'NaN', 'NaN', 'NaN', 'NaN'],\n",
              "       ['NaN', 'NaN', 'NaN', 'NaN', 'NaN'],\n",
              "       ['NaN', 'NaN', 'NaN', 'NaN', 'NaN'],\n",
              "       ['NaN', 'NaN', 'NaN', 'NaN', 'NaN'],\n",
              "       ['NaN', 'NaN', 'NaN', 'NaN', 'NaN'],\n",
              "       ['NaN', 'NaN', 'NaN', 'NaN', 'NaN'],\n",
              "       ['NaN', 'NaN', 'NaN', 'NaN', 'NaN'],\n",
              "       ['NaN', 'NaN', 'NaN', 'NaN', 'NaN'],\n",
              "       ['NaN', 'NaN', 'NaN', 'NaN', 'NaN'],\n",
              "       ['NaN', 'NaN', 'NaN', 'NaN', 'NaN'],\n",
              "       ['NaN', 'NaN', 'NaN', 'NaN', 'NaN'],\n",
              "       ['NaN', 'NaN', 'NaN', 'NaN', 'NaN'],\n",
              "       ['NaN', 'NaN', 'NaN', 'NaN', 'NaN'],\n",
              "       ['NaN', 'NaN', 'NaN', 'NaN', 'NaN'],\n",
              "       ['NaN', 'NaN', 'NaN', 'NaN', 'NaN'],\n",
              "       ['NaN', 'NaN', 'NaN', 'NaN', 'NaN'],\n",
              "       ['NaN', 'NaN', 'NaN', 'NaN', 'NaN'],\n",
              "       ['NaN', 'NaN', 'NaN', 'NaN', 'NaN'],\n",
              "       ['NaN', 'NaN', 'NaN', 'NaN', 'NaN'],\n",
              "       ['NaN', 'NaN', 'NaN', 'NaN', 'NaN'],\n",
              "       ['NaN', 'NaN', 'NaN', 'NaN', 'NaN'],\n",
              "       ['NaN', 'NaN', 'NaN', 'NaN', 'NaN'],\n",
              "       ['NaN', 'NaN', 'NaN', 'NaN', 'NaN'],\n",
              "       ['NaN', 'NaN', 'NaN', 'NaN', 'NaN'],\n",
              "       ['NaN', 'NaN', 'NaN', 'NaN', 'NaN']], dtype='<U3')"
            ]
          },
          "metadata": {
            "tags": []
          },
          "execution_count": 37
        }
      ]
    },
    {
      "cell_type": "code",
      "metadata": {
        "id": "sOJbyf6YQHPc",
        "colab_type": "code",
        "colab": {}
      },
      "source": [
        ""
      ],
      "execution_count": null,
      "outputs": []
    },
    {
      "cell_type": "code",
      "metadata": {
        "id": "PaAD3mE7QGxO",
        "colab_type": "code",
        "colab": {}
      },
      "source": [
        ""
      ],
      "execution_count": null,
      "outputs": []
    }
  ]
}