{
  "nbformat": 4,
  "nbformat_minor": 0,
  "metadata": {
    "colab": {
      "name": "Untitled3.ipynb",
      "provenance": [],
      "authorship_tag": "ABX9TyN0+BCokjlJw2aHjgJt3mdO",
      "include_colab_link": true
    },
    "kernelspec": {
      "name": "python3",
      "display_name": "Python 3"
    }
  },
  "cells": [
    {
      "cell_type": "markdown",
      "metadata": {
        "id": "view-in-github",
        "colab_type": "text"
      },
      "source": [
        "<a href=\"https://colab.research.google.com/github/silverstar0727/study-/blob/master/Untitled3.ipynb\" target=\"_parent\"><img src=\"https://colab.research.google.com/assets/colab-badge.svg\" alt=\"Open In Colab\"/></a>"
      ]
    },
    {
      "cell_type": "code",
      "metadata": {
        "id": "0lPcReGTBrvm",
        "colab_type": "code",
        "colab": {
          "base_uri": "https://localhost:8080/",
          "height": 161
        },
        "outputId": "c870a06e-48d8-4ce3-ff05-e5d164e9e28c"
      },
      "source": [
        "from calendar import month\n",
        "\n",
        "print(month(2020, 1)) "
      ],
      "execution_count": 1,
      "outputs": [
        {
          "output_type": "stream",
          "text": [
            "    January 2020\n",
            "Mo Tu We Th Fr Sa Su\n",
            "       1  2  3  4  5\n",
            " 6  7  8  9 10 11 12\n",
            "13 14 15 16 17 18 19\n",
            "20 21 22 23 24 25 26\n",
            "27 28 29 30 31\n",
            "\n"
          ],
          "name": "stdout"
        }
      ]
    },
    {
      "cell_type": "code",
      "metadata": {
        "id": "We_TfjNqBtsp",
        "colab_type": "code",
        "colab": {
          "base_uri": "https://localhost:8080/",
          "height": 35
        },
        "outputId": "410fddb6-4769-4ef7-fb23-a68e4553c7f3"
      },
      "source": [
        "from datetime import datetime\n",
        "\n",
        "dt = datetime.today() # datetime.now()와 동일\n",
        "\n",
        "dt"
      ],
      "execution_count": 2,
      "outputs": [
        {
          "output_type": "execute_result",
          "data": {
            "text/plain": [
              "datetime.datetime(2020, 4, 27, 14, 25, 5, 673781)"
            ]
          },
          "metadata": {
            "tags": []
          },
          "execution_count": 2
        }
      ]
    },
    {
      "cell_type": "code",
      "metadata": {
        "id": "x_fr91CmBvdP",
        "colab_type": "code",
        "colab": {
          "base_uri": "https://localhost:8080/",
          "height": 35
        },
        "outputId": "43781648-fdc6-43cc-a006-79975807b4ea"
      },
      "source": [
        "dt.year, dt.month, dt.day"
      ],
      "execution_count": 3,
      "outputs": [
        {
          "output_type": "execute_result",
          "data": {
            "text/plain": [
              "(2020, 4, 27)"
            ]
          },
          "metadata": {
            "tags": []
          },
          "execution_count": 3
        }
      ]
    },
    {
      "cell_type": "code",
      "metadata": {
        "id": "5cAQhM7jBwSe",
        "colab_type": "code",
        "colab": {
          "base_uri": "https://localhost:8080/",
          "height": 35
        },
        "outputId": "790481ee-e623-4af2-ccb1-581483e3ab10"
      },
      "source": [
        "dt.hour, dt.minute, dt.second, dt.microsecond"
      ],
      "execution_count": 4,
      "outputs": [
        {
          "output_type": "execute_result",
          "data": {
            "text/plain": [
              "(14, 25, 5, 673781)"
            ]
          },
          "metadata": {
            "tags": []
          },
          "execution_count": 4
        }
      ]
    },
    {
      "cell_type": "code",
      "metadata": {
        "id": "3YEIoqZbBxAn",
        "colab_type": "code",
        "colab": {}
      },
      "source": [
        "from datetime import datetime\n",
        "\n",
        "dt = datetime(2019, 2, 5)\n",
        "dt = datetime(2019, 2, 5, 14, 50, 10)\n",
        "dt = datetime(year=2019, month=2, day=5)"
      ],
      "execution_count": 0,
      "outputs": []
    },
    {
      "cell_type": "code",
      "metadata": {
        "id": "I2AjyPf0Bx5H",
        "colab_type": "code",
        "colab": {
          "base_uri": "https://localhost:8080/",
          "height": 35
        },
        "outputId": "dcd5fff2-d0ee-4b18-ce7a-def1ba9a798a"
      },
      "source": [
        "from datetime import datetime\n",
        "\n",
        "now = datetime.today()\n",
        "now.isoformat()"
      ],
      "execution_count": 6,
      "outputs": [
        {
          "output_type": "execute_result",
          "data": {
            "text/plain": [
              "'2020-04-27T14:25:20.209031'"
            ]
          },
          "metadata": {
            "tags": []
          },
          "execution_count": 6
        }
      ]
    },
    {
      "cell_type": "code",
      "metadata": {
        "id": "Phc2jRtBBzAg",
        "colab_type": "code",
        "colab": {
          "base_uri": "https://localhost:8080/",
          "height": 35
        },
        "outputId": "e5aba18d-05d2-4b05-ea6f-f4e3338dec8f"
      },
      "source": [
        "from datetime import datetime\n",
        "\n",
        "dt = datetime(2019, 3, 10, 11, 30)\n",
        "dt.isoformat()"
      ],
      "execution_count": 7,
      "outputs": [
        {
          "output_type": "execute_result",
          "data": {
            "text/plain": [
              "'2019-03-10T11:30:00'"
            ]
          },
          "metadata": {
            "tags": []
          },
          "execution_count": 7
        }
      ]
    },
    {
      "cell_type": "code",
      "metadata": {
        "id": "JH2hezWeB1Fj",
        "colab_type": "code",
        "colab": {}
      },
      "source": [
        "from datetime import datetime\n",
        "dt = datetime(2019, 3, 10, 11, 30)"
      ],
      "execution_count": 0,
      "outputs": []
    },
    {
      "cell_type": "code",
      "metadata": {
        "id": "2Gmz_SwuB232",
        "colab_type": "code",
        "colab": {
          "base_uri": "https://localhost:8080/",
          "height": 89
        },
        "outputId": "c03ad23c-ecd9-4f28-eb63-8f13310f6223"
      },
      "source": [
        "# 시간을 문자열로  strftime()\n",
        "\n",
        "print( dt.strftime(\"%Y-%m-%d\") )\n",
        "print( dt.strftime(\"%H:%M:%S\") )\n",
        "print( dt.strftime(\"%Y-%m-%d %H:%M:%S\") )\n",
        "print( dt.strftime(\"%Y년 %m월 %d일 %H시 %M분\") )"
      ],
      "execution_count": 9,
      "outputs": [
        {
          "output_type": "stream",
          "text": [
            "2019-03-10\n",
            "11:30:00\n",
            "2019-03-10 11:30:00\n",
            "2019년 03월 10일 11시 30분\n"
          ],
          "name": "stdout"
        }
      ]
    },
    {
      "cell_type": "code",
      "metadata": {
        "id": "5aDdL9ZiB30c",
        "colab_type": "code",
        "colab": {
          "base_uri": "https://localhost:8080/",
          "height": 53
        },
        "outputId": "9bd0bdea-7b39-480b-ed4d-39de175c07f9"
      },
      "source": [
        "# 문자열을 시간으로 strptime()\n",
        "\n",
        "s = \"2019-03-10 11:30:00\"\n",
        "dt = datetime.strptime(s, \"%Y-%m-%d %H:%M:%S\")\n",
        "print(dt)\n",
        "\n",
        "s = \"2019년 03월 10일 11시 30분\"\n",
        "dt = datetime.strptime(s, \"%Y년 %m월 %d일 %H시 %M분\")\n",
        "print(dt)"
      ],
      "execution_count": 10,
      "outputs": [
        {
          "output_type": "stream",
          "text": [
            "2019-03-10 11:30:00\n",
            "2019-03-10 11:30:00\n"
          ],
          "name": "stdout"
        }
      ]
    },
    {
      "cell_type": "code",
      "metadata": {
        "id": "07E2wL9rB4-4",
        "colab_type": "code",
        "colab": {}
      },
      "source": [
        ""
      ],
      "execution_count": 0,
      "outputs": []
    }
  ]
}