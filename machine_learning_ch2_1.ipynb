{
  "nbformat": 4,
  "nbformat_minor": 0,
  "metadata": {
    "colab": {
      "name": "machine_learning_ch2.1.ipynb",
      "provenance": [],
      "collapsed_sections": [],
      "authorship_tag": "ABX9TyNihMyxQATe8hK25lfeOrKF",
      "include_colab_link": true
    },
    "kernelspec": {
      "name": "python3",
      "display_name": "Python 3"
    }
  },
  "cells": [
    {
      "cell_type": "markdown",
      "metadata": {
        "id": "view-in-github",
        "colab_type": "text"
      },
      "source": [
        "<a href=\"https://colab.research.google.com/github/silverstar0727/1day-1commit-challenge/blob/master/machine_learning_ch2_1.ipynb\" target=\"_parent\"><img src=\"https://colab.research.google.com/assets/colab-badge.svg\" alt=\"Open In Colab\"/></a>"
      ]
    },
    {
      "cell_type": "markdown",
      "metadata": {
        "id": "n-rm6LQEnxBd",
        "colab_type": "text"
      },
      "source": [
        "# 아달린 구현 코드\n",
        "## By 경사하강법\n"
      ]
    },
    {
      "cell_type": "code",
      "metadata": {
        "id": "vmsPqS44ysx5",
        "colab_type": "code",
        "colab": {
          "base_uri": "https://localhost:8080/",
          "height": 233
        },
        "outputId": "840559fa-df67-466c-f57d-c3c2a657a3e5"
      },
      "source": [
        "# 데이터 불러오기 붓꽃 데이터\n",
        "import pandas as pd\n",
        "\n",
        "df = pd.read_csv('https://archive.ics.uci.edu/ml/'\n",
        "                'machine-learning-databases/iris/iris.data',\n",
        "                header = None)\n",
        "print(df.tail()) # 마지막 데이터 3개\n",
        "print(df.head()) #처음 데이터 3개"
      ],
      "execution_count": 8,
      "outputs": [
        {
          "output_type": "stream",
          "text": [
            "       0    1    2    3               4\n",
            "145  6.7  3.0  5.2  2.3  Iris-virginica\n",
            "146  6.3  2.5  5.0  1.9  Iris-virginica\n",
            "147  6.5  3.0  5.2  2.0  Iris-virginica\n",
            "148  6.2  3.4  5.4  2.3  Iris-virginica\n",
            "149  5.9  3.0  5.1  1.8  Iris-virginica\n",
            "     0    1    2    3            4\n",
            "0  5.1  3.5  1.4  0.2  Iris-setosa\n",
            "1  4.9  3.0  1.4  0.2  Iris-setosa\n",
            "2  4.7  3.2  1.3  0.2  Iris-setosa\n",
            "3  4.6  3.1  1.5  0.2  Iris-setosa\n",
            "4  5.0  3.6  1.4  0.2  Iris-setosa\n"
          ],
          "name": "stdout"
        }
      ]
    },
    {
      "cell_type": "code",
      "metadata": {
        "id": "YpeLJmFty3cE",
        "colab_type": "code",
        "colab": {
          "base_uri": "https://localhost:8080/",
          "height": 265
        },
        "outputId": "d1d6e524-3dbc-423a-ece9-b5e53d89d347"
      },
      "source": [
        "# 붓꽃 데이터의 시각화\n",
        "import matplotlib.pyplot as plt\n",
        "%matplotlib inline\n",
        "import numpy as np\n",
        "\n",
        "# y 데이터\n",
        "y = df.iloc[0:100, 4].values\n",
        "y = np.where(y == 'Iris-setosa', -1,1)\n",
        "\n",
        "# x 데이터\n",
        "X = df.iloc[0:100, [0, 2]].values\n",
        "\n",
        "# matplotlib pyplot 활용\n",
        "plt.scatter(X[:50,0], X[:50, 1],\n",
        "            color = 'red', marker = 'o', label = 'Setosa')\n",
        "plt.scatter(X[50:100, 0], X[50:100,1],\n",
        "            color = 'blue', marker = 'x', label = 'versicolor')\n",
        "plt.legend(loc = 'upper left')\n",
        "plt.show()"
      ],
      "execution_count": 9,
      "outputs": [
        {
          "output_type": "display_data",
          "data": {
            "image/png": "[encoded data removed]",
            "text/plain": [
              "<Figure size 432x288 with 1 Axes>"
            ]
          },
          "metadata": {
            "tags": []
          }
        }
      ]
    },
    {
      "cell_type": "code",
      "metadata": {
        "id": "lAxVtMi_k-hi",
        "colab_type": "code",
        "colab": {}
      },
      "source": [
        "\n",
        "# Adaine class 생성\n",
        "class AdalineGD(object):\n",
        "  def __init__ (self, eta = 0.01, n_iter = 50, random_state = 1):\n",
        "    self.eta = eta\n",
        "    self.n_iter = n_iter\n",
        "    self.random_state = random_state\n",
        "\n",
        "  def fit(self, X, y):\n",
        "    rgen =np.random.RandomState(self.random_state)\n",
        "    self.w_ = rgen.normal(loc = 0.0, scale = 0.01, size = 1 + X.shape[1])\n",
        "\n",
        "    self.cost_ = []\n",
        "\n",
        "    for i in range(self.n_iter):\n",
        "      net_input = self.net_input(X)\n",
        "      output = self.activation(net_input)\n",
        "      errors = (y - output)\n",
        "      self.w_[1:] += self.eta * X.T.dot(errors)\n",
        "      self.w_[0] += self.eta * errors.sum()\n",
        "      cost = (errors ** 2).sum() / 2.0\n",
        "      self.cost_.append(cost)\n",
        "    return self\n",
        "\n",
        "  def net_input(self,X):\n",
        "    return np.dot(X, self.w_[1:]) + self.w_[0]\n",
        "\n",
        "  def activation(self, X):\n",
        "    return X\n",
        "\n",
        "  def predict(self, X):\n",
        "    return np.where(self.activation(self.net_input(X)) >= 0.0, 1, -1)"
      ],
      "execution_count": 0,
      "outputs": []
    },
    {
      "cell_type": "code",
      "metadata": {
        "id": "gUfnncqTpVcV",
        "colab_type": "code",
        "outputId": "57acee14-095f-4145-8ca5-23913e8e46d0",
        "colab": {
          "base_uri": "https://localhost:8080/",
          "height": 266
        }
      },
      "source": [
        "fig, ax = plt.subplots(nrows = 1, ncols = 2, figsize = (10,4))\n",
        "\n",
        "ada1 = AdalineGD(n_iter = 10, eta = 0.01).fit(X,y)\n",
        "ax[0].plot(range(1, len(ada1.cost_) + 1), np.log10(ada1.cost_), marker = 'o')\n",
        "\n",
        "ada2 = AdalineGD(n_iter = 10, eta = 0.0001).fit(X,y)\n",
        "ax[1].plot(range(1,len(ada2.cost_) + 1), ada2.cost_, marker = 'o')\n",
        "\n",
        "plt.show()"
      ],
      "execution_count": 11,
      "outputs": [
        {
          "output_type": "display_data",
          "data": {
            "image/png": "[encoded data removed]",
            "text/plain": [
              "<Figure size 720x288 with 2 Axes>"
            ]
          },
          "metadata": {
            "tags": []
          }
        }
      ]
    },
    {
      "cell_type": "markdown",
      "metadata": {
        "id": "DdWA7byh9ULf",
        "colab_type": "text"
      },
      "source": [
        "## By 확률적 경사하강법"
      ]
    },
    {
      "cell_type": "code",
      "metadata": {
        "id": "umADf-0BtXK1",
        "colab_type": "code",
        "colab": {}
      },
      "source": [
        "class AdalineSGD(object):\n",
        "  def __init__(self, eta = 0.01, n_iter = 10, shuffle = True, random_state = None):\n",
        "    self.eta = eta\n",
        "    self.n_iter = n_iter\n",
        "    self.shuffle = shuffle\n",
        "    self.w_initialized = False\n",
        "    self.random_state = random_state\n",
        "  \n",
        "  def fit(self, X, y):\n",
        "    self.initialize_weights_(X.shape[1])\n",
        "    self.cost_ = []\n",
        "\n",
        "    for i in range(self.n_iter):\n",
        "      if self.shuffle:\n",
        "        X, y =self._shuffle(X, y)\n",
        "\n",
        "      cost = []\n",
        "\n",
        "      for xi, target in zip(X, y):\n",
        "        cost.append(self._update_weights(xi,target))\n",
        "\n",
        "      avg_cost = sum(cost) / len(y)\n",
        "      self.cost_.append(avg_cost)\n",
        "\n",
        "    return self\n",
        "\n",
        "  def partial_fit(self, X, y):\n",
        "    if not self.w_initialized:\n",
        "      self.w_initialized_weights(X.shape[1])\n",
        "    \n",
        "    if y.ravel().shape[0] > 1:\n",
        "      for xi, target in zip(X,y):\n",
        "        self._update_weights(xi,target)\n",
        "    \n",
        "    else: self._update_weights(X, y)\n",
        "\n",
        "    return self\n",
        "\n",
        "  def _shuffle(self,X, y):\n",
        "    r = self.rgen.permutation(len(y))\n",
        "\n",
        "    return X[r], y[r]\n",
        "\n",
        "  def initialize_weights_(self,m):\n",
        "    self.rgen = np.random.RandomState(self.random_state)\n",
        "    self.w_ = self.rgen.normal(loc = 0.0, scale = 0.01, size = 1+m)\n",
        "    self.w_initialized = True\n",
        "\n",
        "  def _update_weights(self, xi, target):\n",
        "    output = self.activation(self.net_input(xi))\n",
        "    error = target - output\n",
        "    self.w_[1:] += self.eta * xi.dot(error)\n",
        "    self.w_[0] += self.eta * error\n",
        "    cost = 0.5 * error**2\n",
        "    return cost\n",
        "\n",
        "  def net_input(self, X):\n",
        "    return np.dot(X, self.w_[1:] + self.w_[0])\n",
        "\n",
        "  def activation(self, X):\n",
        "    return X\n",
        "\n",
        "  def predict(self,X):\n",
        "    return np.where(self.activation(self.net_input(X)) >= 0.0, 1, -1)"
      ],
      "execution_count": 0,
      "outputs": []
    },
    {
      "cell_type": "code",
      "metadata": {
        "id": "miVgf2O0y_7C",
        "colab_type": "code",
        "colab": {}
      },
      "source": [
        "from matplotlib.colors import ListedColormap\n",
        "\n",
        "# 최종 적용과 graph plot\n",
        "def plot_decision_regions(X, y, classifier, resolution = 0.02):\n",
        "\n",
        "  markers = ('s', 'x') #안쓰이는 마크들은 없애서 책과 다름.. v나 ^\n",
        "  colors = ('red', 'blue') # 안쓰이는 색들은 없애서 책과 다름.. cyan이나 gray\n",
        "  cmap = ListedColormap(colors[:len(np.unique(y))])\n",
        "\n",
        "  x1_min, x1_max = X[:,0].min() -1, X[:,0].max() + 1\n",
        "  x2_min, x2_max = X[:,1].min() -1, X[:,1].max() + 1\n",
        "  \n",
        "  #meshgrid를 이용한 2차원 영역에 대한 좌표값을 생성한다.\n",
        "  xx1, xx2 = np.meshgrid(np.arange(x1_min, x1_max, resolution),\n",
        "                         np.arange(x2_min, x2_max, resolution)) \n",
        "  \n",
        "  Z = classifier.predict(np.array([xx1.ravel(), xx2.ravel()]).T)\n",
        "  Z = Z.reshape(xx1.shape)\n",
        "\n",
        "  plt.contourf(xx1, xx2, Z, alpha = 0.3, cmap = cmap)\n",
        "  plt.xlim(xx1.min(), xx1.max())\n",
        "  plt.ylim(xx2.min(), xx2.max())\n",
        "\n",
        "  for idx,cl in enumerate(np.unique(y)):\n",
        "    plt.scatter(x = X[ y == cl, 0], y = X[ y == cl, 1], alpha = 0.8, c = colors[idx], marker = markers[idx],\n",
        "                  label = cl, edgecolor = 'black')"
      ],
      "execution_count": 0,
      "outputs": []
    },
    {
      "cell_type": "code",
      "metadata": {
        "id": "kFOfl9dO7z33",
        "colab_type": "code",
        "outputId": "68023371-ac59-4fcf-f663-72f779ec4b7d",
        "colab": {
          "base_uri": "https://localhost:8080/",
          "height": 513
        }
      },
      "source": [
        "X_std = np.copy(X)\n",
        "X_std[:, 0] = (X[:,0] - X[:,0].mean()) / X[:,0].std()\n",
        "X_std[:,1] = (X[:,1] - X[:,1].mean()) / X[:,1].std()\n",
        "\n",
        "ada = AdalineSGD(n_iter = 15, eta = 0.01, random_state =1)\n",
        "ada.fit(X_std, y)\n",
        "\n",
        "plot_decision_regions(X_std, y, classifier=ada)\n",
        "plt.legend(loc = 'upper left')\n",
        "plt.show()\n",
        "\n",
        "plt.plot(range(1,len(ada.cost_) + 1), ada.cost_, marker = 'o')\n",
        "plt.show()"
      ],
      "execution_count": 15,
      "outputs": [
        {
          "output_type": "display_data",
          "data": {
            "image/png": "[encoded data removed]",
            "text/plain": [
              "<Figure size 432x288 with 1 Axes>"
            ]
          },
          "metadata": {
            "tags": []
          }
        },
        {
          "output_type": "display_data",
          "data": {
            "image/png": "[encoded data removed]",
            "text/plain": [
              "<Figure size 432x288 with 1 Axes>"
            ]
          },
          "metadata": {
            "tags": []
          }
        }
      ]
    },
    {
      "cell_type": "code",
      "metadata": {
        "id": "8GblhVd3yPB3",
        "colab_type": "code",
        "colab": {}
      },
      "source": [
        ""
      ],
      "execution_count": 0,
      "outputs": []
    }
  ]
}