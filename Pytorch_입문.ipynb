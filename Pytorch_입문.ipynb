{
  "nbformat": 4,
  "nbformat_minor": 0,
  "metadata": {
    "colab": {
      "name": "Pytorch_입문.ipynb",
      "provenance": [],
      "authorship_tag": "ABX9TyP+QMypbJbZjJvI1B/63AL1",
      "include_colab_link": true
    },
    "kernelspec": {
      "name": "python3",
      "display_name": "Python 3"
    },
    "accelerator": "GPU"
  },
  "cells": [
    {
      "cell_type": "markdown",
      "metadata": {
        "id": "view-in-github",
        "colab_type": "text"
      },
      "source": [
        "<a href=\"https://colab.research.google.com/github/silverstar0727/study-/blob/master/Pytorch_%EC%9E%85%EB%AC%B8.ipynb\" target=\"_parent\"><img src=\"https://colab.research.google.com/assets/colab-badge.svg\" alt=\"Open In Colab\"/></a>"
      ]
    },
    {
      "cell_type": "code",
      "metadata": {
        "id": "3c7AHIvDl3yS",
        "colab_type": "code",
        "colab": {
          "base_uri": "https://localhost:8080/",
          "height": 181
        },
        "outputId": "9fbdb09a-fbad-4ee3-aa7d-fdfcce1011c2"
      },
      "source": [
        "!pip install torch\n",
        "!pip install torchvision"
      ],
      "execution_count": null,
      "outputs": [
        {
          "output_type": "stream",
          "text": [
            "Requirement already satisfied: torch in /usr/local/lib/python3.6/dist-packages (1.6.0+cu101)\n",
            "Requirement already satisfied: numpy in /usr/local/lib/python3.6/dist-packages (from torch) (1.18.5)\n",
            "Requirement already satisfied: future in /usr/local/lib/python3.6/dist-packages (from torch) (0.16.0)\n",
            "Requirement already satisfied: torchvision in /usr/local/lib/python3.6/dist-packages (0.7.0+cu101)\n",
            "Requirement already satisfied: numpy in /usr/local/lib/python3.6/dist-packages (from torchvision) (1.18.5)\n",
            "Requirement already satisfied: torch==1.6.0 in /usr/local/lib/python3.6/dist-packages (from torchvision) (1.6.0+cu101)\n",
            "Requirement already satisfied: pillow>=4.1.1 in /usr/local/lib/python3.6/dist-packages (from torchvision) (7.0.0)\n",
            "Requirement already satisfied: future in /usr/local/lib/python3.6/dist-packages (from torch==1.6.0->torchvision) (0.16.0)\n"
          ],
          "name": "stdout"
        }
      ]
    },
    {
      "cell_type": "markdown",
      "metadata": {
        "id": "5SCiALE7mwVD",
        "colab_type": "text"
      },
      "source": [
        "## Tensors\n",
        "Tensor는 numpy의 ndarray와 비슷하다고 생각하면 됨, GPU를 사용한 연산의 가속도 가능하다는 장점이 존재함\n"
      ]
    },
    {
      "cell_type": "code",
      "metadata": {
        "id": "ag-kQj6Ol8dB",
        "colab_type": "code",
        "colab": {}
      },
      "source": [
        "from __future__ import print_function\n",
        "import torch"
      ],
      "execution_count": 1,
      "outputs": []
    },
    {
      "cell_type": "code",
      "metadata": {
        "id": "xAV4SNLbnX_z",
        "colab_type": "code",
        "colab": {
          "base_uri": "https://localhost:8080/",
          "height": 107
        },
        "outputId": "44a269e3-c941-4aee-dc83-d73eba01829b"
      },
      "source": [
        "# 초기화되지 않은 5x3행렬을 생성\n",
        "x = torch.empty(5, 3)\n",
        "print(x)\n",
        "\n",
        "## 초기화 되지 않은 행렬이 선언 되었으나, 사용 전엔 명확한 값이 아닌, 지금 할당된 메모리에 존재하던 값들이\n",
        "## 초기값으로 주어짐"
      ],
      "execution_count": 2,
      "outputs": [
        {
          "output_type": "stream",
          "text": [
            "tensor([[1.4551e-35, 0.0000e+00, 3.3631e-44],\n",
            "        [0.0000e+00,        nan, 0.0000e+00],\n",
            "        [1.1578e+27, 1.1362e+30, 7.1547e+22],\n",
            "        [4.5828e+30, 1.2121e+04, 7.1846e+22],\n",
            "        [9.2198e-39, 7.0374e+22, 5.3412e-36]])\n"
          ],
          "name": "stdout"
        }
      ]
    },
    {
      "cell_type": "code",
      "metadata": {
        "id": "5l7EGBlcne5h",
        "colab_type": "code",
        "colab": {
          "base_uri": "https://localhost:8080/",
          "height": 107
        },
        "outputId": "901e2c20-ea63-4cec-b0f7-4cbaddb28f71"
      },
      "source": [
        "# 무작위로 5x3행렬을 생성\n",
        "x = torch.rand(5, 3)\n",
        "print(x)"
      ],
      "execution_count": 3,
      "outputs": [
        {
          "output_type": "stream",
          "text": [
            "tensor([[0.6929, 0.7344, 0.6247],\n",
            "        [0.7171, 0.0145, 0.9824],\n",
            "        [0.0627, 0.8814, 0.6032],\n",
            "        [0.4333, 0.0586, 0.6725],\n",
            "        [0.1310, 0.0363, 0.6798]])\n"
          ],
          "name": "stdout"
        }
      ]
    },
    {
      "cell_type": "code",
      "metadata": {
        "id": "5bke5eiEn1YX",
        "colab_type": "code",
        "colab": {
          "base_uri": "https://localhost:8080/",
          "height": 107
        },
        "outputId": "8257abf1-e765-4197-96aa-85ddf131b615"
      },
      "source": [
        "# 데이터 타입이 long인 0으로 채워진 5x3 행렬을 생성\n",
        "x = torch.zeros(5, 3, dtype = torch.long)\n",
        "print(x)"
      ],
      "execution_count": 4,
      "outputs": [
        {
          "output_type": "stream",
          "text": [
            "tensor([[0, 0, 0],\n",
            "        [0, 0, 0],\n",
            "        [0, 0, 0],\n",
            "        [0, 0, 0],\n",
            "        [0, 0, 0]])\n"
          ],
          "name": "stdout"
        }
      ]
    },
    {
      "cell_type": "code",
      "metadata": {
        "id": "3luvdi--oBZT",
        "colab_type": "code",
        "colab": {
          "base_uri": "https://localhost:8080/",
          "height": 35
        },
        "outputId": "41ffb27f-42a4-4247-c233-09428e01c650"
      },
      "source": [
        "# 데이터를 통해 tensor를 직접생성(list to tensor)\n",
        "x = torch.tensor([5.5, 3])\n",
        "print(x)"
      ],
      "execution_count": 5,
      "outputs": [
        {
          "output_type": "stream",
          "text": [
            "tensor([5.5000, 3.0000])\n"
          ],
          "name": "stdout"
        }
      ]
    },
    {
      "cell_type": "code",
      "metadata": {
        "id": "LNsGs8VtoKzn",
        "colab_type": "code",
        "colab": {
          "base_uri": "https://localhost:8080/",
          "height": 197
        },
        "outputId": "dcff1444-6945-443d-dd78-ed1016fdf0ed"
      },
      "source": [
        "# 기존 tensor를 바탕으로 새로운 tensor를 생성 \n",
        "x = x.new_ones(5, 3, dtype = torch.double)\n",
        "print(x)\n",
        "x = torch.randn_like(x, dtype = torch.float) # 앞서 설정한 x와 동일한 크기의 random한 값을 설정(Override)\n",
        "print(x)"
      ],
      "execution_count": 6,
      "outputs": [
        {
          "output_type": "stream",
          "text": [
            "tensor([[1., 1., 1.],\n",
            "        [1., 1., 1.],\n",
            "        [1., 1., 1.],\n",
            "        [1., 1., 1.],\n",
            "        [1., 1., 1.]], dtype=torch.float64)\n",
            "tensor([[ 1.0498,  0.5448, -0.0371],\n",
            "        [ 0.7555, -1.4575,  0.3132],\n",
            "        [ 1.1262, -0.4757, -0.7263],\n",
            "        [ 0.5528,  0.8034, -0.7497],\n",
            "        [ 1.1329,  1.0108,  0.2765]])\n"
          ],
          "name": "stdout"
        }
      ]
    },
    {
      "cell_type": "code",
      "metadata": {
        "id": "GgIHEQgjsRqc",
        "colab_type": "code",
        "colab": {
          "base_uri": "https://localhost:8080/",
          "height": 35
        },
        "outputId": "9e872527-7598-4256-ebbd-c41b4eba857b"
      },
      "source": [
        "# 행렬의 크기를 구함\n",
        "print(x.size()) # 튜플타입을 아웃풋으로"
      ],
      "execution_count": 7,
      "outputs": [
        {
          "output_type": "stream",
          "text": [
            "torch.Size([5, 3])\n"
          ],
          "name": "stdout"
        }
      ]
    },
    {
      "cell_type": "markdown",
      "metadata": {
        "id": "evKUwAhmsXUG",
        "colab_type": "text"
      },
      "source": [
        "## 연산(Operations)"
      ]
    },
    {
      "cell_type": "code",
      "metadata": {
        "id": "7qxxiV8MsV89",
        "colab_type": "code",
        "colab": {
          "base_uri": "https://localhost:8080/",
          "height": 107
        },
        "outputId": "cbcaff9a-495b-4a2e-8376-571c6a9c718b"
      },
      "source": [
        "# 덧셈1\n",
        "y = torch.rand(5, 3)\n",
        "print(x + y)"
      ],
      "execution_count": 8,
      "outputs": [
        {
          "output_type": "stream",
          "text": [
            "tensor([[ 1.1713,  0.7952,  0.4916],\n",
            "        [ 1.4039, -1.4186,  0.9019],\n",
            "        [ 1.3935,  0.4519, -0.2124],\n",
            "        [ 1.1164,  1.7243, -0.1933],\n",
            "        [ 1.7018,  1.1943,  0.6182]])\n"
          ],
          "name": "stdout"
        }
      ]
    },
    {
      "cell_type": "code",
      "metadata": {
        "id": "Lnf2_7zB-qd6",
        "colab_type": "code",
        "colab": {
          "base_uri": "https://localhost:8080/",
          "height": 107
        },
        "outputId": "18a12653-b889-4b28-e09e-bce290935ea0"
      },
      "source": [
        "# 덧셈2\n",
        "print(torch.add(x, y))"
      ],
      "execution_count": 9,
      "outputs": [
        {
          "output_type": "stream",
          "text": [
            "tensor([[ 1.1713,  0.7952,  0.4916],\n",
            "        [ 1.4039, -1.4186,  0.9019],\n",
            "        [ 1.3935,  0.4519, -0.2124],\n",
            "        [ 1.1164,  1.7243, -0.1933],\n",
            "        [ 1.7018,  1.1943,  0.6182]])\n"
          ],
          "name": "stdout"
        }
      ]
    },
    {
      "cell_type": "code",
      "metadata": {
        "id": "e7oViiWP-1UM",
        "colab_type": "code",
        "colab": {
          "base_uri": "https://localhost:8080/",
          "height": 107
        },
        "outputId": "d99757f9-8e1f-4daa-d093-5ab47539925d"
      },
      "source": [
        "# 덧셈을 빈 행렬을 이용하여 아웃풋으로 저장\n",
        "result = torch.empty(5, 3)\n",
        "torch.add(x, y, out = result)\n",
        "print(result)"
      ],
      "execution_count": 10,
      "outputs": [
        {
          "output_type": "stream",
          "text": [
            "tensor([[ 1.1713,  0.7952,  0.4916],\n",
            "        [ 1.4039, -1.4186,  0.9019],\n",
            "        [ 1.3935,  0.4519, -0.2124],\n",
            "        [ 1.1164,  1.7243, -0.1933],\n",
            "        [ 1.7018,  1.1943,  0.6182]])\n"
          ],
          "name": "stdout"
        }
      ]
    },
    {
      "cell_type": "code",
      "metadata": {
        "id": "nG1Rmaq0_Hwa",
        "colab_type": "code",
        "colab": {
          "base_uri": "https://localhost:8080/",
          "height": 107
        },
        "outputId": "a972e115-4da4-4828-ea1d-09299c99bdf7"
      },
      "source": [
        "# 덧셈3 in-place방식 (기존의 것을 없애고 더한 값으로 재저장)\n",
        "# in-place 방식으로 tensor를 변경하면 _가 붙음\n",
        "y.add_(x)\n",
        "print(y)"
      ],
      "execution_count": 11,
      "outputs": [
        {
          "output_type": "stream",
          "text": [
            "tensor([[ 1.1713,  0.7952,  0.4916],\n",
            "        [ 1.4039, -1.4186,  0.9019],\n",
            "        [ 1.3935,  0.4519, -0.2124],\n",
            "        [ 1.1164,  1.7243, -0.1933],\n",
            "        [ 1.7018,  1.1943,  0.6182]])\n"
          ],
          "name": "stdout"
        }
      ]
    },
    {
      "cell_type": "code",
      "metadata": {
        "id": "KsJwJ5Ed_QlA",
        "colab_type": "code",
        "colab": {
          "base_uri": "https://localhost:8080/",
          "height": 35
        },
        "outputId": "3fa7b563-1180-4d9a-da51-d3d88e25f233"
      },
      "source": [
        "# tensor의 size나 shape를 변경하고 싶을 땐 tensor.view를 사용\n",
        "x = torch.randn(4, 4)\n",
        "y = x.view(16)\n",
        "z = x.view(-1, 8) # -1은 다른 차원에서 유추(2차원에서 8개이니 1차원에서는 2여야만 함)\n",
        "print(x.size(), y.size(), z.size())"
      ],
      "execution_count": 12,
      "outputs": [
        {
          "output_type": "stream",
          "text": [
            "torch.Size([4, 4]) torch.Size([16]) torch.Size([2, 8])\n"
          ],
          "name": "stdout"
        }
      ]
    },
    {
      "cell_type": "code",
      "metadata": {
        "id": "Jv5Qymp7_lIn",
        "colab_type": "code",
        "colab": {
          "base_uri": "https://localhost:8080/",
          "height": 53
        },
        "outputId": "a7c93b2e-8d1a-4f4f-eb2a-64f54fa6f9fd"
      },
      "source": [
        "#tensor의 값이 단일하다면 .item()을 통해 값을 얻을 수 있음\n",
        "x = torch.randn(1)\n",
        "print(x)\n",
        "print(x.item())"
      ],
      "execution_count": 13,
      "outputs": [
        {
          "output_type": "stream",
          "text": [
            "tensor([0.8113])\n",
            "0.8113411068916321\n"
          ],
          "name": "stdout"
        }
      ]
    },
    {
      "cell_type": "markdown",
      "metadata": {
        "id": "HnGfaJ6cmgg6",
        "colab_type": "text"
      },
      "source": [
        "## Torch의 tensor를 numpy 배열로 변환\n",
        "tensor와 numpy의 배열은 같은 메모리 공간을 공유하기 때문에 하나가 바뀌면 이를 참조한 다른하나도 바뀐다."
      ]
    },
    {
      "cell_type": "code",
      "metadata": {
        "id": "mvrQr4fe_mJc",
        "colab_type": "code",
        "colab": {
          "base_uri": "https://localhost:8080/",
          "height": 35
        },
        "outputId": "45a90f86-3326-4c11-c433-4fb43d05a452"
      },
      "source": [
        "# a는 텐서\n",
        "a = torch.ones(5)\n",
        "print(a)"
      ],
      "execution_count": 14,
      "outputs": [
        {
          "output_type": "stream",
          "text": [
            "tensor([1., 1., 1., 1., 1.])\n"
          ],
          "name": "stdout"
        }
      ]
    },
    {
      "cell_type": "code",
      "metadata": {
        "id": "UnHHvT7-lTrz",
        "colab_type": "code",
        "colab": {
          "base_uri": "https://localhost:8080/",
          "height": 35
        },
        "outputId": "c8ee4110-e137-40af-93b4-af0d365fd364"
      },
      "source": [
        "# b는 넘파이\n",
        "b = a.numpy()\n",
        "print(b)"
      ],
      "execution_count": 15,
      "outputs": [
        {
          "output_type": "stream",
          "text": [
            "[1. 1. 1. 1. 1.]\n"
          ],
          "name": "stdout"
        }
      ]
    },
    {
      "cell_type": "code",
      "metadata": {
        "id": "twsfZVyblH_T",
        "colab_type": "code",
        "colab": {
          "base_uri": "https://localhost:8080/",
          "height": 35
        },
        "outputId": "7c33963d-dc31-45da-a893-790583dfaa2f"
      },
      "source": [
        "# b도 a에 따라 1씩 증가하는 형태가 되나, numpy의 형태는 유지\n",
        "a.add_(1)\n",
        "print(a, b)"
      ],
      "execution_count": 16,
      "outputs": [
        {
          "output_type": "stream",
          "text": [
            "tensor([2., 2., 2., 2., 2.]) [2. 2. 2. 2. 2.]\n"
          ],
          "name": "stdout"
        }
      ]
    },
    {
      "cell_type": "markdown",
      "metadata": {
        "id": "dh_WpQiNpEBA",
        "colab_type": "text"
      },
      "source": [
        "## numpy배열을 Torch의 tensor로 변환하기"
      ]
    },
    {
      "cell_type": "code",
      "metadata": {
        "id": "T097t22Eo-yp",
        "colab_type": "code",
        "colab": {
          "base_uri": "https://localhost:8080/",
          "height": 53
        },
        "outputId": "cdff3bff-6199-400b-85be-ede1e7791c0a"
      },
      "source": [
        "import numpy as np\n",
        "a = np.ones(5)\n",
        "b = torch.from_numpy(a)\n",
        "np.add(a, 1, out = a)\n",
        "print(a)\n",
        "print(b)"
      ],
      "execution_count": 17,
      "outputs": [
        {
          "output_type": "stream",
          "text": [
            "[2. 2. 2. 2. 2.]\n",
            "tensor([2., 2., 2., 2., 2.], dtype=torch.float64)\n"
          ],
          "name": "stdout"
        }
      ]
    },
    {
      "cell_type": "markdown",
      "metadata": {
        "id": "YYlAYB21pUqS",
        "colab_type": "text"
      },
      "source": [
        "## CUDA tensors\n",
        ".to의 메소드를 이용하여 tensor를 다른 장치로 옮길 수 있다"
      ]
    },
    {
      "cell_type": "code",
      "metadata": {
        "id": "6kR3KKbXpRLL",
        "colab_type": "code",
        "colab": {
          "base_uri": "https://localhost:8080/",
          "height": 53
        },
        "outputId": "25d1a379-655d-46af-8f0f-e07c73dd6fda"
      },
      "source": [
        "## CUDA의 사용이 가능한 환경에서만 실행됨\n",
        "if torch.cuda.is_available():\n",
        "  device = torch.device('cuda')\n",
        "  y = torch.ones_like(x, device = device)\n",
        "  x = x.to(device)\n",
        "  z = x + y\n",
        "  print(z)\n",
        "  print(z.to('cpu', torch.double))"
      ],
      "execution_count": 18,
      "outputs": [
        {
          "output_type": "stream",
          "text": [
            "tensor([1.8113], device='cuda:0')\n",
            "tensor([1.8113], dtype=torch.float64)\n"
          ],
          "name": "stdout"
        }
      ]
    },
    {
      "cell_type": "code",
      "metadata": {
        "id": "LCSeY4qipuUq",
        "colab_type": "code",
        "colab": {}
      },
      "source": [
        ""
      ],
      "execution_count": 18,
      "outputs": []
    }
  ]
}