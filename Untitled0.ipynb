{
  "nbformat": 4,
  "nbformat_minor": 0,
  "metadata": {
    "colab": {
      "name": "Untitled0.ipynb",
      "provenance": [],
      "authorship_tag": "ABX9TyO4nosdbGwOz24Sakuj2dm/",
      "include_colab_link": true
    },
    "kernelspec": {
      "name": "python3",
      "display_name": "Python 3"
    }
  },
  "cells": [
    {
      "cell_type": "markdown",
      "metadata": {
        "id": "view-in-github",
        "colab_type": "text"
      },
      "source": [
        "<a href=\"https://colab.research.google.com/github/silverstar0727/1day-1commit-challenge/blob/master/Untitled0.ipynb\" target=\"_parent\"><img src=\"https://colab.research.google.com/assets/colab-badge.svg\" alt=\"Open In Colab\"/></a>"
      ]
    },
    {
      "cell_type": "code",
      "metadata": {
        "id": "F-5fBXBqtxnB",
        "colab_type": "code",
        "colab": {}
      },
      "source": [
        ""
      ],
      "execution_count": 0,
      "outputs": []
    },
    {
      "cell_type": "code",
      "metadata": {
        "id": "lLWfxqaywNLs",
        "colab_type": "code",
        "colab": {}
      },
      "source": [
        "# 2231 다른풀이\n",
        "# 브루트포스 문제는 단순 무식하게 접근한다.\n",
        "N = int(input())\n",
        "print_num = 0\n",
        "for i in range(1, N+1):\n",
        "    div_num = list(map(int, str(i)))\n",
        "    sum_num = i + sum(div_num)\n",
        "    if(sum_num == N):\n",
        "        print_num = i\n",
        "        break\n",
        "print(print_num)"
      ],
      "execution_count": 0,
      "outputs": []
    },
    {
      "cell_type": "code",
      "metadata": {
        "id": "VFA7qU6lwRTc",
        "colab_type": "code",
        "outputId": "78737a9c-a002-4f3c-bfab-b7d7c8e82c9a",
        "colab": {
          "base_uri": "https://localhost:8080/",
          "height": 143
        }
      },
      "source": [
        "# 7568\n",
        "n = int(input())\n",
        "data = []\n",
        "for i in range(n):\n",
        "  feature = list(map(int, input().split()))\n",
        "  data.append(feature)\n",
        "\n",
        "\n",
        "rank = [0 for i in range(n)]\n",
        "def ranking(d, n):\n",
        "  for i in range(n):\n",
        "    cnt = 1\n",
        "    for j in range(n):\n",
        "      if (d[i][0] < d[j][0]) & (d[i][1] < d[j][1]):\n",
        "        cnt += 1\n",
        "      rank[i] = cnt\n",
        "\n",
        "ranking(data, n)\n",
        "for i in range(n):\n",
        "  print(rank[i], end = ' ')"
      ],
      "execution_count": 0,
      "outputs": [
        {
          "output_type": "stream",
          "text": [
            "5\n",
            "55 185\n",
            "58 183\n",
            "88 186\n",
            "60 175\n",
            "46 155\n",
            "2 2 1 2 5 "
          ],
          "name": "stdout"
        }
      ]
    },
    {
      "cell_type": "code",
      "metadata": {
        "id": "orUZjCt8zNe_",
        "colab_type": "code",
        "outputId": "0d1791e9-ff85-41ba-fd9f-28fbef212bf2",
        "colab": {
          "base_uri": "https://localhost:8080/",
          "height": 323
        }
      },
      "source": [
        "# 1018\n",
        "N, M = map(int, input().split())\n",
        "map_list = [list(input()) for _ in range(N)]\n",
        "\n",
        "min_num = None\n",
        "\n",
        "for i in range(N - 7):\n",
        "    for j in range(M - 7):\n",
        "        num1, num2 = 0, 0\n",
        "        # W\n",
        "        for k in range(i, i + 8):\n",
        "            for l in range(j, j + 8):\n",
        "                if((k + l - i - j) % 2 == 0):\n",
        "                    if(map_list[k][l] == 'B'):\n",
        "                        num1 += 1\n",
        "                else:\n",
        "                    if(map_list[k][l] == 'W'):\n",
        "                        num1 += 1\n",
        "                        \n",
        "        #B         \n",
        "        for k in range(i, i + 8):\n",
        "            for l in range(j, j + 8):\n",
        "                if((k + l - i - j) % 2 == 0):\n",
        "                    if(map_list[k][l] == 'W'):\n",
        "                        num2 += 1\n",
        "                else:\n",
        "                    if(map_list[k][l] == 'B'):\n",
        "                        num2 += 1\n",
        "                        \n",
        "        change_box = num1 if num1 < num2 else num2\n",
        "        if(min_num is None):\n",
        "            min_num = change_box\n",
        "        else:\n",
        "            min_num = change_box if min_num > change_box else min_num\n",
        "            \n",
        "print(min_num)"
      ],
      "execution_count": 0,
      "outputs": [
        {
          "output_type": "stream",
          "text": [
            "8 8\n",
            "WBWBWBWB\n",
            "BWBWBWBW\n",
            "WBWBWBWB\n",
            "BWBBBWBW\n",
            "WBWBWBWB\n",
            "BWBWBWBW\n",
            "WBWBWBWB\n",
            "BWBWBWBW\n"
          ],
          "name": "stdout"
        },
        {
          "output_type": "execute_result",
          "data": {
            "text/plain": [
              "[['W', 'B', 'W', 'B', 'W', 'B', 'W', 'B'],\n",
              " ['B', 'W', 'B', 'W', 'B', 'W', 'B', 'W'],\n",
              " ['W', 'B', 'W', 'B', 'W', 'B', 'W', 'B'],\n",
              " ['B', 'W', 'B', 'B', 'B', 'W', 'B', 'W'],\n",
              " ['W', 'B', 'W', 'B', 'W', 'B', 'W', 'B'],\n",
              " ['B', 'W', 'B', 'W', 'B', 'W', 'B', 'W'],\n",
              " ['W', 'B', 'W', 'B', 'W', 'B', 'W', 'B'],\n",
              " ['B', 'W', 'B', 'W', 'B', 'W', 'B', 'W']]"
            ]
          },
          "metadata": {
            "tags": []
          },
          "execution_count": 16
        }
      ]
    },
    {
      "cell_type": "code",
      "metadata": {
        "id": "zajRK0Qszswd",
        "colab_type": "code",
        "outputId": "60e500d8-7d4e-4aab-c9fd-d1173a1ae846",
        "colab": {
          "base_uri": "https://localhost:8080/",
          "height": 262
        }
      },
      "source": [
        "# 1436\n",
        "# 시간이 너무 오래걸려... ㅠㅠㅠ\n",
        "title_list = []\n",
        "n = int(input())\n",
        "\n",
        "while True:\n",
        "  str_i = str(i)\n",
        "  if '666' in str_i:\n",
        "    title_list.append(i)\n",
        "  if len(title_list) == 10000:\n",
        "    break\n",
        "\n",
        "print(title_list[n-1])"
      ],
      "execution_count": 0,
      "outputs": [
        {
          "output_type": "stream",
          "text": [
            "2\n"
          ],
          "name": "stdout"
        },
        {
          "output_type": "error",
          "ename": "KeyboardInterrupt",
          "evalue": "ignored",
          "traceback": [
            "\u001b[0;31m---------------------------------------------------------------------------\u001b[0m",
            "\u001b[0;31mKeyboardInterrupt\u001b[0m                         Traceback (most recent call last)",
            "\u001b[0;32m<ipython-input-19-5da367f17e57>\u001b[0m in \u001b[0;36m<module>\u001b[0;34m()\u001b[0m\n\u001b[1;32m      3\u001b[0m \u001b[0;34m\u001b[0m\u001b[0m\n\u001b[1;32m      4\u001b[0m \u001b[0;32mwhile\u001b[0m \u001b[0;32mTrue\u001b[0m\u001b[0;34m:\u001b[0m\u001b[0;34m\u001b[0m\u001b[0;34m\u001b[0m\u001b[0m\n\u001b[0;32m----> 5\u001b[0;31m   \u001b[0mstr_i\u001b[0m \u001b[0;34m=\u001b[0m \u001b[0mstr\u001b[0m\u001b[0;34m(\u001b[0m\u001b[0mi\u001b[0m\u001b[0;34m)\u001b[0m\u001b[0;34m\u001b[0m\u001b[0;34m\u001b[0m\u001b[0m\n\u001b[0m\u001b[1;32m      6\u001b[0m   \u001b[0;32mif\u001b[0m \u001b[0;34m'666'\u001b[0m \u001b[0;32min\u001b[0m \u001b[0mstr_i\u001b[0m\u001b[0;34m:\u001b[0m\u001b[0;34m\u001b[0m\u001b[0;34m\u001b[0m\u001b[0m\n\u001b[1;32m      7\u001b[0m     \u001b[0mtitle_list\u001b[0m\u001b[0;34m.\u001b[0m\u001b[0mappend\u001b[0m\u001b[0;34m(\u001b[0m\u001b[0mi\u001b[0m\u001b[0;34m)\u001b[0m\u001b[0;34m\u001b[0m\u001b[0;34m\u001b[0m\u001b[0m\n",
            "\u001b[0;31mKeyboardInterrupt\u001b[0m: "
          ]
        }
      ]
    },
    {
      "cell_type": "code",
      "metadata": {
        "id": "JstmYwoE_7Jj",
        "colab_type": "code",
        "outputId": "dcb09da2-628e-4d2f-e1b9-097564ae5fef",
        "colab": {
          "base_uri": "https://localhost:8080/",
          "height": 53
        }
      },
      "source": [
        "# 1436 다른풀이\n",
        "N = int(input())\n",
        "init = 666\n",
        "\n",
        "while(N):\n",
        "    if '666' in str(init):\n",
        "        N -= 1\n",
        "    \n",
        "    init += 1\n",
        "print(init - 1)"
      ],
      "execution_count": 0,
      "outputs": [
        {
          "output_type": "stream",
          "text": [
            "2\n",
            "1666\n"
          ],
          "name": "stdout"
        }
      ]
    }
  ]
}