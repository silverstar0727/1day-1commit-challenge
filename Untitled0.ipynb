{
  "nbformat": 4,
  "nbformat_minor": 0,
  "metadata": {
    "colab": {
      "name": "Untitled0.ipynb",
      "provenance": [],
      "authorship_tag": "ABX9TyNC6bee5CTRJJQhMr0pom6S",
      "include_colab_link": true
    },
    "kernelspec": {
      "name": "python3",
      "display_name": "Python 3"
    }
  },
  "cells": [
    {
      "cell_type": "markdown",
      "metadata": {
        "id": "view-in-github",
        "colab_type": "text"
      },
      "source": [
        "<a href=\"https://colab.research.google.com/github/silverstar0727/1day-1commit-challenge/blob/master/Untitled0.ipynb\" target=\"_parent\"><img src=\"https://colab.research.google.com/assets/colab-badge.svg\" alt=\"Open In Colab\"/></a>"
      ]
    },
    {
      "cell_type": "code",
      "metadata": {
        "id": "qnQt7FvSReIx",
        "colab_type": "code",
        "colab": {}
      },
      "source": [
        ""
      ],
      "execution_count": 0,
      "outputs": []
    },
    {
      "cell_type": "code",
      "metadata": {
        "id": "wpUUje-DDwBK",
        "colab_type": "code",
        "outputId": "7e84f687-9622-41fd-ec87-168310e7fc06",
        "colab": {
          "base_uri": "https://localhost:8080/",
          "height": 89
        }
      },
      "source": [
        "# 3009\n",
        "a = list(map(int, input().split()))\n",
        "b = list(map(int, input().split()))\n",
        "c = list(map(int, input().split()))\n",
        "\n",
        "d = []\n",
        "\n",
        "if a[0] != b[0]:\n",
        "  if a[0] == c[0]:\n",
        "    d.append(b[0])\n",
        "  else:\n",
        "    d.append(a[0])\n",
        "else:\n",
        "  d.append(c[0])\n",
        "\n",
        "if a[1] != b[1]:\n",
        "  if a[1] == c[1]:\n",
        "    d.append(b[1])\n",
        "  else:\n",
        "    d.append(a[1])\n",
        "else:\n",
        "  d.append(c[1])\n",
        "\n",
        "print(d[0], d[1])"
      ],
      "execution_count": 0,
      "outputs": [
        {
          "output_type": "stream",
          "text": [
            "30 20\n",
            "10 10\n",
            "10 20\n",
            "30 10\n"
          ],
          "name": "stdout"
        }
      ]
    },
    {
      "cell_type": "code",
      "metadata": {
        "id": "dslqTe6HEgUz",
        "colab_type": "code",
        "outputId": "161a9398-b2d1-4f58-a131-afe133f0fedd",
        "colab": {
          "base_uri": "https://localhost:8080/",
          "height": 143
        }
      },
      "source": [
        "# 4153\n",
        "while True:\n",
        "  data = list(map(int, input().split()))\n",
        "  data.sort()\n",
        "\n",
        "  if data[0] == 0:\n",
        "    break\n",
        "\n",
        "  if data[0] ** 2 + data[1] ** 2 == data[2] ** 2:\n",
        "    print('right')\n",
        "  else:\n",
        "    print('wrong')"
      ],
      "execution_count": 0,
      "outputs": [
        {
          "output_type": "stream",
          "text": [
            "6 8 10\n",
            "right\n",
            "25 52 60\n",
            "wrong\n",
            "5 12 13\n",
            "right\n",
            "0 0 0\n"
          ],
          "name": "stdout"
        }
      ]
    },
    {
      "cell_type": "code",
      "metadata": {
        "id": "mOKc4lgiHTS9",
        "colab_type": "code",
        "colab": {}
      },
      "source": [
        "# 3053\n",
        "# 문제에선 소수점 6자리까지 출력이 되어있지만 그럴경우 메모리 초과가 뜬다\n",
        "# 4로 줄이니까 맞았습니다.\n",
        "r = int(input())\n",
        "import math\n",
        "print('%.4f' % (math.pi * r * r))\n",
        "print('%.4f' % (r * r * 2))"
      ],
      "execution_count": 0,
      "outputs": []
    },
    {
      "cell_type": "code",
      "metadata": {
        "id": "e1p3bsdZc9FC",
        "colab_type": "code",
        "outputId": "1b8344c5-757a-42d5-cabd-11c6586e532e",
        "colab": {
          "base_uri": "https://localhost:8080/",
          "height": 143
        }
      },
      "source": [
        "# 1002\n",
        "# 두 원사이의 길이와 반지름을 이용하여 풂\n",
        "Case = int(input())\n",
        "for _ in range(Case):\n",
        "    x_1, y_1, r_1, x_2, y_2, r_2 = list(map(int, input().split()))\n",
        "    d = ((x_1 - x_2) ** 2) + ((y_1 - y_2) ** 2)\n",
        "    # d에 제곱근을 씌우지 않았기 때문에 단위를 맞추기 위해 \n",
        "    # 비교에 주로 사용될 sum, diff를 선언하여 제곱시켜줍니다.\n",
        "    r_sum = (r_1 + r_2) ** 2\n",
        "    r_diff = (r_1 - r_2) ** 2\n",
        "\n",
        "    # 좌표가 같은 경우\n",
        "    if(d == 0):\n",
        "        # 원이 겹칠때\n",
        "        if(r_1 == r_2):\n",
        "            print(-1)\n",
        "        # 한 원이 다른 원을 포함하고 있는 경우\n",
        "        else:\n",
        "            print(0)\n",
        "    # 좌표가 달라 원이 서로 떨어져 있는 경우\n",
        "    else:\n",
        "        # 한점만 겹치는 경우\n",
        "        if((d == r_sum) or (d == r_diff)):\n",
        "            print(1)\n",
        "        # 겹치는 점이 2개인 경우\n",
        "        elif((d < r_sum) and (d > r_diff)):\n",
        "            print(2)\n",
        "        # 아예 떨어져 있는 경우\n",
        "        else:\n",
        "            print(0)"
      ],
      "execution_count": 0,
      "outputs": [
        {
          "output_type": "stream",
          "text": [
            "3\n",
            "0 0 13 40 0 37\n",
            "2\n",
            "0 0 3 0 7 4\n",
            "1\n",
            "1 1 1 1 1 5\n",
            "0\n"
          ],
          "name": "stdout"
        }
      ]
    },
    {
      "cell_type": "code",
      "metadata": {
        "id": "NzEsyLT7c9Cu",
        "colab_type": "code",
        "outputId": "38f9583c-a02d-4f6e-c39f-d5008c250a69",
        "colab": {
          "base_uri": "https://localhost:8080/",
          "height": 53
        }
      },
      "source": [
        "# 10872\n",
        "n = int(input())\n",
        "total = 1\n",
        "for i in range(1, n + 1):\n",
        "  total = total * i\n",
        "\n",
        "print(total)"
      ],
      "execution_count": 0,
      "outputs": [
        {
          "output_type": "stream",
          "text": [
            "10\n",
            "3628800\n"
          ],
          "name": "stdout"
        }
      ]
    }
  ]
}