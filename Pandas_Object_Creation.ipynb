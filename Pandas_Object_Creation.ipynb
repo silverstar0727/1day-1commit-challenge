{
  "nbformat": 4,
  "nbformat_minor": 0,
  "metadata": {
    "colab": {
      "name": "Object_Creation.ipynb",
      "provenance": [],
      "authorship_tag": "ABX9TyPW9ctFYIyGOo0f+hLA0P5J",
      "include_colab_link": true
    },
    "kernelspec": {
      "name": "python3",
      "display_name": "Python 3"
    }
  },
  "cells": [
    {
      "cell_type": "markdown",
      "metadata": {
        "id": "view-in-github",
        "colab_type": "text"
      },
      "source": [
        "<a href=\"https://colab.research.google.com/github/silverstar0727/1day-1commit-challenge/blob/master/Pandas_Object_Creation.ipynb\" target=\"_parent\"><img src=\"https://colab.research.google.com/assets/colab-badge.svg\" alt=\"Open In Colab\"/></a>"
      ]
    },
    {
      "cell_type": "markdown",
      "metadata": {
        "id": "NFxK7rjzsWHh",
        "colab_type": "text"
      },
      "source": [
        "Pandas 10분완성 문서 참조\n",
        "https://dataitgirls2.github.io/10minutes2pandas/"
      ]
    },
    {
      "cell_type": "markdown",
      "metadata": {
        "id": "cVg0okqxohPQ",
        "colab_type": "text"
      },
      "source": [
        "# Object Creation(객체 생성)"
      ]
    },
    {
      "cell_type": "code",
      "metadata": {
        "id": "N3X1scaHsbr7",
        "colab_type": "code",
        "colab": {}
      },
      "source": [
        ""
      ],
      "execution_count": 0,
      "outputs": []
    },
    {
      "cell_type": "code",
      "metadata": {
        "id": "0I7jZ06uoFT5",
        "colab_type": "code",
        "colab": {}
      },
      "source": [
        "import pandas as pd\n",
        "import numpy as np\n",
        "import matplotlib.pyplot as plt"
      ],
      "execution_count": 0,
      "outputs": []
    },
    {
      "cell_type": "markdown",
      "metadata": {
        "id": "8A_XW7ZKqtyj",
        "colab_type": "text"
      },
      "source": [
        "### pd.Series\n",
        "pd.Series는 python의 list를 통해 series를 만든다.\n",
        "여기서 인덱스는 0부터 정수를 순서대로 정해준다."
      ]
    },
    {
      "cell_type": "code",
      "metadata": {
        "id": "bqAY2O_gqlZD",
        "colab_type": "code",
        "colab": {
          "base_uri": "https://localhost:8080/",
          "height": 143
        },
        "outputId": "f5301569-5b43-4c01-a777-c3aaccc1dabb"
      },
      "source": [
        "s = pd.Series([1,3,5,np.nan,6,8])\n",
        "s"
      ],
      "execution_count": 2,
      "outputs": [
        {
          "output_type": "execute_result",
          "data": {
            "text/plain": [
              "0    1.0\n",
              "1    3.0\n",
              "2    5.0\n",
              "3    NaN\n",
              "4    6.0\n",
              "5    8.0\n",
              "dtype: float64"
            ]
          },
          "metadata": {
            "tags": []
          },
          "execution_count": 2
        }
      ]
    },
    {
      "cell_type": "markdown",
      "metadata": {
        "id": "0I24xVlQrSh2",
        "colab_type": "text"
      },
      "source": [
        "### pd.date_range\n",
        "pd.date_range는 시작점과 기간을 메소드로 받아서 배열을 만든다."
      ]
    },
    {
      "cell_type": "code",
      "metadata": {
        "id": "sZucNBhsqqgn",
        "colab_type": "code",
        "colab": {
          "base_uri": "https://localhost:8080/",
          "height": 71
        },
        "outputId": "8543dbc4-2ef2-4072-d922-1e789988c4d1"
      },
      "source": [
        "dates = pd.date_range('20100101', periods = 5)\n",
        "dates"
      ],
      "execution_count": 6,
      "outputs": [
        {
          "output_type": "execute_result",
          "data": {
            "text/plain": [
              "DatetimeIndex(['2010-01-01', '2010-01-02', '2010-01-03', '2010-01-04',\n",
              "               '2010-01-05'],\n",
              "              dtype='datetime64[ns]', freq='D')"
            ]
          },
          "metadata": {
            "tags": []
          },
          "execution_count": 6
        }
      ]
    },
    {
      "cell_type": "markdown",
      "metadata": {
        "id": "aCkEEB9fr7B6",
        "colab_type": "text"
      },
      "source": [
        "앞서 만든 dates는 numpy 배열인데, 이를 index로 하고 random값을 지정하여 행렬을 만든다."
      ]
    },
    {
      "cell_type": "code",
      "metadata": {
        "id": "517ah0hnrKgl",
        "colab_type": "code",
        "colab": {
          "base_uri": "https://localhost:8080/",
          "height": 204
        },
        "outputId": "108c0afc-edc0-4704-fcff-563cdb3f8913"
      },
      "source": [
        "df = pd.DataFrame(np.random.randn(5,4), index = dates, columns = list('ABCD'))\n",
        "df"
      ],
      "execution_count": 10,
      "outputs": [
        {
          "output_type": "execute_result",
          "data": {
            "text/html": [
              "<div>\n",
              "<style scoped>\n",
              "    .dataframe tbody tr th:only-of-type {\n",
              "        vertical-align: middle;\n",
              "    }\n",
              "\n",
              "    .dataframe tbody tr th {\n",
              "        vertical-align: top;\n",
              "    }\n",
              "\n",
              "    .dataframe thead th {\n",
              "        text-align: right;\n",
              "    }\n",
              "</style>\n",
              "<table border=\"1\" class=\"dataframe\">\n",
              "  <thead>\n",
              "    <tr style=\"text-align: right;\">\n",
              "      <th></th>\n",
              "      <th>A</th>\n",
              "      <th>B</th>\n",
              "      <th>C</th>\n",
              "      <th>D</th>\n",
              "    </tr>\n",
              "  </thead>\n",
              "  <tbody>\n",
              "    <tr>\n",
              "      <th>2010-01-01</th>\n",
              "      <td>-1.223132</td>\n",
              "      <td>-0.924938</td>\n",
              "      <td>-1.544830</td>\n",
              "      <td>-0.185117</td>\n",
              "    </tr>\n",
              "    <tr>\n",
              "      <th>2010-01-02</th>\n",
              "      <td>-0.595775</td>\n",
              "      <td>-0.854923</td>\n",
              "      <td>2.659692</td>\n",
              "      <td>0.911466</td>\n",
              "    </tr>\n",
              "    <tr>\n",
              "      <th>2010-01-03</th>\n",
              "      <td>-0.355421</td>\n",
              "      <td>1.126491</td>\n",
              "      <td>0.149368</td>\n",
              "      <td>-1.789468</td>\n",
              "    </tr>\n",
              "    <tr>\n",
              "      <th>2010-01-04</th>\n",
              "      <td>1.563811</td>\n",
              "      <td>0.142888</td>\n",
              "      <td>-0.426852</td>\n",
              "      <td>1.161064</td>\n",
              "    </tr>\n",
              "    <tr>\n",
              "      <th>2010-01-05</th>\n",
              "      <td>1.512330</td>\n",
              "      <td>0.656692</td>\n",
              "      <td>-0.730948</td>\n",
              "      <td>1.456362</td>\n",
              "    </tr>\n",
              "  </tbody>\n",
              "</table>\n",
              "</div>"
            ],
            "text/plain": [
              "                   A         B         C         D\n",
              "2010-01-01 -1.223132 -0.924938 -1.544830 -0.185117\n",
              "2010-01-02 -0.595775 -0.854923  2.659692  0.911466\n",
              "2010-01-03 -0.355421  1.126491  0.149368 -1.789468\n",
              "2010-01-04  1.563811  0.142888 -0.426852  1.161064\n",
              "2010-01-05  1.512330  0.656692 -0.730948  1.456362"
            ]
          },
          "metadata": {
            "tags": []
          },
          "execution_count": 10
        }
      ]
    },
    {
      "cell_type": "markdown",
      "metadata": {
        "id": "c3QUTWHQtPQk",
        "colab_type": "text"
      },
      "source": [
        "python의 dictionary는 각각의 항목에 대해 key값이 정해져 있다는 점에서 list와 다르다.\n",
        "\n",
        "df2는 pd.DataFrame에서 ABCDEF의 key값을 가지는 dict로 dataframe을 구성된다."
      ]
    },
    {
      "cell_type": "code",
      "metadata": {
        "id": "sumS873arwAC",
        "colab_type": "code",
        "colab": {
          "base_uri": "https://localhost:8080/",
          "height": 173
        },
        "outputId": "3ceb857c-ff70-494a-8725-7eb1c9637004"
      },
      "source": [
        "df2 = pd.DataFrame({'A': 1.,\n",
        "                    'B': pd.Timestamp('20100101'),\n",
        "                    'C': pd.Series(1, index = list(range(4)), dtype = 'float32'),\n",
        "                    'D': np.array([3] * 4, dtype = 'int32'),\n",
        "                    'E': pd.Categorical(['test', 'train', 'test', 'train']),\n",
        "                    'F': 'foo'})\n",
        "df2"
      ],
      "execution_count": 15,
      "outputs": [
        {
          "output_type": "execute_result",
          "data": {
            "text/html": [
              "<div>\n",
              "<style scoped>\n",
              "    .dataframe tbody tr th:only-of-type {\n",
              "        vertical-align: middle;\n",
              "    }\n",
              "\n",
              "    .dataframe tbody tr th {\n",
              "        vertical-align: top;\n",
              "    }\n",
              "\n",
              "    .dataframe thead th {\n",
              "        text-align: right;\n",
              "    }\n",
              "</style>\n",
              "<table border=\"1\" class=\"dataframe\">\n",
              "  <thead>\n",
              "    <tr style=\"text-align: right;\">\n",
              "      <th></th>\n",
              "      <th>A</th>\n",
              "      <th>B</th>\n",
              "      <th>C</th>\n",
              "      <th>D</th>\n",
              "      <th>E</th>\n",
              "      <th>F</th>\n",
              "    </tr>\n",
              "  </thead>\n",
              "  <tbody>\n",
              "    <tr>\n",
              "      <th>0</th>\n",
              "      <td>1.0</td>\n",
              "      <td>2010-01-01</td>\n",
              "      <td>1.0</td>\n",
              "      <td>3</td>\n",
              "      <td>test</td>\n",
              "      <td>foo</td>\n",
              "    </tr>\n",
              "    <tr>\n",
              "      <th>1</th>\n",
              "      <td>1.0</td>\n",
              "      <td>2010-01-01</td>\n",
              "      <td>1.0</td>\n",
              "      <td>3</td>\n",
              "      <td>train</td>\n",
              "      <td>foo</td>\n",
              "    </tr>\n",
              "    <tr>\n",
              "      <th>2</th>\n",
              "      <td>1.0</td>\n",
              "      <td>2010-01-01</td>\n",
              "      <td>1.0</td>\n",
              "      <td>3</td>\n",
              "      <td>test</td>\n",
              "      <td>foo</td>\n",
              "    </tr>\n",
              "    <tr>\n",
              "      <th>3</th>\n",
              "      <td>1.0</td>\n",
              "      <td>2010-01-01</td>\n",
              "      <td>1.0</td>\n",
              "      <td>3</td>\n",
              "      <td>train</td>\n",
              "      <td>foo</td>\n",
              "    </tr>\n",
              "  </tbody>\n",
              "</table>\n",
              "</div>"
            ],
            "text/plain": [
              "     A          B    C  D      E    F\n",
              "0  1.0 2010-01-01  1.0  3   test  foo\n",
              "1  1.0 2010-01-01  1.0  3  train  foo\n",
              "2  1.0 2010-01-01  1.0  3   test  foo\n",
              "3  1.0 2010-01-01  1.0  3  train  foo"
            ]
          },
          "metadata": {
            "tags": []
          },
          "execution_count": 15
        }
      ]
    },
    {
      "cell_type": "code",
      "metadata": {
        "id": "-xoTa6VqtGL2",
        "colab_type": "code",
        "colab": {
          "base_uri": "https://localhost:8080/",
          "height": 143
        },
        "outputId": "898a5c52-378d-4173-83c7-2101ea95d18f"
      },
      "source": [
        "# df2의 data type을 확인할 수 있다.\n",
        "df2.dtypes"
      ],
      "execution_count": 17,
      "outputs": [
        {
          "output_type": "execute_result",
          "data": {
            "text/plain": [
              "A           float64\n",
              "B    datetime64[ns]\n",
              "C           float32\n",
              "D             int32\n",
              "E          category\n",
              "F            object\n",
              "dtype: object"
            ]
          },
          "metadata": {
            "tags": []
          },
          "execution_count": 17
        }
      ]
    },
    {
      "cell_type": "code",
      "metadata": {
        "id": "od3KC77Pwksh",
        "colab_type": "code",
        "colab": {}
      },
      "source": [
        ""
      ],
      "execution_count": 0,
      "outputs": []
    }
  ]
}