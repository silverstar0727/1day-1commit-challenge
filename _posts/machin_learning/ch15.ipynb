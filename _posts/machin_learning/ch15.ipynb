{
  "nbformat": 4,
  "nbformat_minor": 0,
  "metadata": {
    "colab": {
      "name": "machin_learning_ch15.ipynb",
      "provenance": [],
      "collapsed_sections": [],
      "authorship_tag": "ABX9TyOgUDC82D4tx7UiEAbwAih7",
      "include_colab_link": true
    },
    "kernelspec": {
      "name": "python3",
      "display_name": "Python 3"
    }
  },
  "cells": [
    {
      "cell_type": "markdown",
      "metadata": {
        "id": "view-in-github",
        "colab_type": "text"
      },
      "source": [
        "<a href=\"https://colab.research.google.com/github/silverstar0727/1day-1commit-challenge/blob/master/machin_learning_ch15.ipynb\" target=\"_parent\"><img src=\"https://colab.research.google.com/assets/colab-badge.svg\" alt=\"Open In Colab\"/></a>"
      ]
    },
    {
      "cell_type": "markdown",
      "metadata": {
        "id": "lyJyLfYQ4o9w",
        "colab_type": "text"
      },
      "source": [
        "# 심층 합성곱 신경망"
      ]
    },
    {
      "cell_type": "markdown",
      "metadata": {
        "id": "L4d2inPiOjVk",
        "colab_type": "text"
      },
      "source": [
        "### 심층 합성곱 CNN은 일반 NN과 비교하여보면\n",
        "\n",
        "NN의 경우 입력층 1개와 은닉층 여러개 출력층 여러개로 구성되어있으며, 출력층에서 도출된 손실함수를 바탕으로 업데이트하는 방식이다.\n",
        "\n",
        "CNN은 은닉층 대신 여러개의 컨볼루션층 이후 완전연결층으로 구성되어있다. 출력층으로부터 도출된 손실함수를 옵티마이저를 이용하여 최소화하는 것은 NN과 동일하다.\n",
        "\n",
        "#### 컨볼루션층은 conv, relu, pooling으로 구성되어 있다.\n",
        "\n",
        "conv는 컨볼루션 연산을 수행하는 부분이다. 입력데이터의 특징을 추출하는 역할을 함.\n",
        "\n",
        "pooling은 입력정보는 특징적인 값으로 압축하여 연산량을 줄여줌 (최소 최대 평균 등등)\n",
        "\n"
      ]
    },
    {
      "cell_type": "markdown",
      "metadata": {
        "id": "CHJc6giaTbkX",
        "colab_type": "text"
      },
      "source": [
        "## 컨볼루션 연산\n",
        "컨볼루션 연산은 입력데이터를 필터로 이용하여 연산하는 것인데 여기서 필터는 가중치의 집합체이다.\n",
        "\n",
        "계산과정은 필터를 일정간격(스트라이드)으로 이동해가며 입력데이터와의 곱을 더해주어 새로운 데이터를 만드는 것이다.\n",
        "\n",
        "그 후 conv내의 바이어스를 더해주어 특징맵이라는 데이터를 생성한다.\n",
        "\n",
        "###layers.Conv2D(input, filter, strides, padding...)\n",
        "\n",
        "input = [batch, in_height, in_width, in_channels]\n",
        "\n",
        "filter = [filter_height, filter_width, in_channels, out_channels]\n",
        "\n",
        "strides = [1,1,1,1] (ex)\n",
        "\n",
        "padding = 'same' or 'valid'"
      ]
    },
    {
      "cell_type": "markdown",
      "metadata": {
        "id": "LtN8GKW7ULxr",
        "colab_type": "text"
      },
      "source": [
        "## relu 연산\n",
        "음수는 모두 0 양수는 모두 그대로 배출하는 함수"
      ]
    },
    {
      "cell_type": "markdown",
      "metadata": {
        "id": "SxgiYQGtgnbl",
        "colab_type": "text"
      },
      "source": [
        "## pooling 연산\n",
        "pooling에선 max pooling이 가장 많이 쓰임\n",
        "\n",
        "최종 pooling연산에서 크기를 정하는 것은 공식을 통해 정하게 됨.\n",
        "\n",
        "### layers.MaxPool2D(value, ksize, strides, padding...)\n",
        "value = [batch, height, width, channels]\n",
        "\n",
        "ksize = [1, height, width, 1]\n",
        "\n",
        "strides = [1, 2, 2, 1] (ex)\n",
        "\n",
        "padding = 'same' (conv와는 다른의미의 padding)"
      ]
    },
    {
      "cell_type": "markdown",
      "metadata": {
        "id": "R3IN48v2g22f",
        "colab_type": "text"
      },
      "source": [
        "# 패딩\n",
        "컨볼루션 연산을 수행하기 전에 입력데이터 주변을 0으로 채움\n",
        "\n",
        ">데이터가 축소되는 것을 방지하기 위함\n",
        "\n",
        "( ex)4 x 4 데이터를 6 x 6으로 0으로 감싸줌 )"
      ]
    },
    {
      "cell_type": "markdown",
      "metadata": {
        "id": "00UJ0BVrtRdV",
        "colab_type": "text"
      },
      "source": [
        ""
      ]
    },
    {
      "cell_type": "markdown",
      "metadata": {
        "id": "ewDE1ul35Cjv",
        "colab_type": "text"
      },
      "source": [
        "## 결과\n",
        "컨볼루션 연산은 결국 데이터의 특징을 추출하는 것인데, 풀링해서 나온 최종 결과로 부터, 값이 클수록 해당 필터의 성분이 많이 들어있다는 것을 파악할 수 있다."
      ]
    },
    {
      "cell_type": "markdown",
      "metadata": {
        "id": "EoM70s1c7TDq",
        "colab_type": "text"
      },
      "source": [
        "# 완전연결층 \n",
        "완전연결층은 마지막 컨볼루션 층으로부터 도출된 결과를 flatten(평탄화)을 해주는 것인데 1차원벡터로 바꾸는 작업을 시행한다."
      ]
    },
    {
      "cell_type": "markdown",
      "metadata": {
        "id": "uUilpVpw7t1A",
        "colab_type": "text"
      },
      "source": [
        "# 출력층\n",
        "출력층은 입력받은 값을\n",
        "선형회귀 한 뒤 0~1 사이로 정규화 하여 출력하고 이들의 총합은 항상 1이 되도록한다."
      ]
    },
    {
      "cell_type": "code",
      "metadata": {
        "id": "-w8ziFt3x2AB",
        "colab_type": "code",
        "outputId": "cb47e37f-2d52-44d8-8a96-f0af77298b66",
        "colab": {
          "base_uri": "https://localhost:8080/",
          "height": 53
        }
      },
      "source": [
        "%tensorflow_version 2.x\n",
        "import tensorflow as tf\n",
        "tf.__version__"
      ],
      "execution_count": 0,
      "outputs": [
        {
          "output_type": "stream",
          "text": [
            "TensorFlow is already loaded. Please restart the runtime to change versions.\n"
          ],
          "name": "stdout"
        },
        {
          "output_type": "execute_result",
          "data": {
            "text/plain": [
              "'1.15.0'"
            ]
          },
          "metadata": {
            "tags": []
          },
          "execution_count": 77
        }
      ]
    },
    {
      "cell_type": "code",
      "metadata": {
        "id": "PJprOXizO69H",
        "colab_type": "code",
        "outputId": "cb11eb35-411d-4cef-dfce-841d73594922",
        "colab": {
          "base_uri": "https://localhost:8080/",
          "height": 55
        }
      },
      "source": [
        "# google drive와 연동\n",
        "from google.colab import drive\n",
        "\n",
        "drive.mount('/content/gdrive')"
      ],
      "execution_count": 0,
      "outputs": [
        {
          "output_type": "stream",
          "text": [
            "Drive already mounted at /content/gdrive; to attempt to forcibly remount, call drive.mount(\"/content/gdrive\", force_remount=True).\n"
          ],
          "name": "stdout"
        }
      ]
    },
    {
      "cell_type": "code",
      "metadata": {
        "id": "IIhI30o7O66z",
        "colab_type": "code",
        "outputId": "14adeaf7-442e-4dc6-d87a-5cb148cf4ee6",
        "colab": {
          "base_uri": "https://localhost:8080/",
          "height": 35
        }
      },
      "source": [
        "# 연동 테스트 코드\n",
        "with open('/content/gdrive/My Drive/foo.txt', 'w') as f:\n",
        "  f.write('Hello Google Drive!')\n",
        "\n",
        "!cat /content/gdrive/My\\ Drive/foo.txt"
      ],
      "execution_count": 0,
      "outputs": [
        {
          "output_type": "stream",
          "text": [
            "Hello Google Drive!"
          ],
          "name": "stdout"
        }
      ]
    },
    {
      "cell_type": "code",
      "metadata": {
        "id": "w_8Sc_kLEwWi",
        "colab_type": "code",
        "colab": {}
      },
      "source": [
        "# ch13의 load_mnist함수를 사용하여 데이터 로드\n",
        "# MNIST dataset을 불러오는 함수 생성\n",
        "import struct\n",
        "import numpy as np\n",
        "\n",
        "def load_mnist(path, kind = 'train'):\n",
        "  labels_path = path + '/%s-labels.idx1-ubyte' % kind\n",
        "  images_path = path + '/%s-images.idx3-ubyte' % kind\n",
        "  print(labels_path, images_path)\n",
        "\n",
        "  with open(labels_path, 'rb') as lbpath:\n",
        "    magic, n = struct.unpack('>II', lbpath.read(8))\n",
        "    labels = np.fromfile(lbpath, dtype = np.uint8)\n",
        "        \n",
        "  with open(images_path, 'rb') as imgpath:\n",
        "    magic, num, rows, cols = struct.unpack('>IIII', imgpath.read(16))\n",
        "    images = np.fromfile(imgpath,\n",
        "                             dtype = np.uint8).reshape(len(labels), 784)\n",
        "    # 정규화\n",
        "    images = ((images / 255.) - .5) * 2\n",
        "        \n",
        "  return images, labels"
      ],
      "execution_count": 0,
      "outputs": []
    },
    {
      "cell_type": "code",
      "metadata": {
        "id": "KTa7Y1uy70EA",
        "colab_type": "code",
        "outputId": "66b4de13-d2aa-4180-bf23-365b43e14910",
        "colab": {
          "base_uri": "https://localhost:8080/",
          "height": 109
        }
      },
      "source": [
        "X_data, y_data = load_mnist('/content/gdrive/My Drive/machine_learning/ch12', kind = 'train')\n",
        "print('행: %d, 열: %d' % (X_train.shape[0], X_train.shape[1]))\n",
        "X_test, y_test = load_mnist('/content/gdrive/My Drive/machine_learning/ch12', kind = 't10k')\n",
        "print('행: %d, 열: %d' % (X_test.shape[0], X_test.shape[1]))"
      ],
      "execution_count": 0,
      "outputs": [
        {
          "output_type": "stream",
          "text": [
            "/content/gdrive/My Drive/machine_learning/ch12/train-labels.idx1-ubyte /content/gdrive/My Drive/machine_learning/ch12/train-images.idx3-ubyte\n",
            "행: 50000, 열: 784\n",
            "/content/gdrive/My Drive/machine_learning/ch12/t10k-labels.idx1-ubyte /content/gdrive/My Drive/machine_learning/ch12/t10k-images.idx3-ubyte\n",
            "행: 10000, 열: 784\n"
          ],
          "name": "stdout"
        }
      ]
    },
    {
      "cell_type": "code",
      "metadata": {
        "id": "_2TCZr9ZPDQC",
        "colab_type": "code",
        "colab": {}
      },
      "source": [
        "# 데이터 분할\n",
        "X_train, y_train = X_data[:50000, :], y_data[:50000]\n",
        "X_valid, y_valid = X_data[50000:, :], y_data[50000:]"
      ],
      "execution_count": 0,
      "outputs": []
    },
    {
      "cell_type": "code",
      "metadata": {
        "id": "M9wn4-7GPgPc",
        "colab_type": "code",
        "outputId": "868184cb-89c7-4b94-a94a-06f84e4d82c3",
        "colab": {
          "base_uri": "https://localhost:8080/",
          "height": 71
        }
      },
      "source": [
        "print('훈련 세트:', X_train.shape, y_train.shape)\n",
        "print('검증 세트:', X_valid.shape, y_valid.shape)\n",
        "print('테스트 세스:', X_test.shape, y_test.shape)"
      ],
      "execution_count": 0,
      "outputs": [
        {
          "output_type": "stream",
          "text": [
            "훈련 세트: (50000, 784) (50000,)\n",
            "검증 세트: (10000, 784) (10000,)\n",
            "테스트 세스: (10000, 784) (10000,)\n"
          ],
          "name": "stdout"
        }
      ]
    },
    {
      "cell_type": "code",
      "metadata": {
        "id": "cuuO4ZjmP3_0",
        "colab_type": "code",
        "colab": {}
      },
      "source": [
        "# 정규화\n",
        "mean_vals = np.mean(X_train, axis = 0)\n",
        "std_val = np.std(X_train)\n",
        "\n",
        "X_train_centered = (X_train - mean_vals) / std_val\n",
        "X_valid_centered = (X_valid - mean_vals) / std_val\n",
        "X_test_centered = (X_test - mean_vals) / std_val"
      ],
      "execution_count": 0,
      "outputs": []
    },
    {
      "cell_type": "code",
      "metadata": {
        "id": "EDyYGHVYRK1Y",
        "colab_type": "code",
        "colab": {}
      },
      "source": [
        "# 적용하기 위해서 차원을 변경\n",
        "X_train_centered = X_train_centered.reshape((-1, 28, 28, 1))\n",
        "X_valid_centered = X_valid_centered.reshape((-1, 28, 28, 1))\n",
        "X_test_centered = X_test_centered.reshape((-1, 28, 28, 1))"
      ],
      "execution_count": 0,
      "outputs": []
    },
    {
      "cell_type": "code",
      "metadata": {
        "id": "2xLFH7XcSvba",
        "colab_type": "code",
        "colab": {}
      },
      "source": [
        "# 원 핫 인코딩 (to_categorical함수 이용)\n",
        "from tensorflow.keras.utils import to_categorical\n",
        "\n",
        "y_train_onehot = to_categorical(y_train)\n",
        "y_valid_onehot = to_categorical(y_valid)\n",
        "y_test_onehot = to_categorical(y_test)"
      ],
      "execution_count": 0,
      "outputs": []
    },
    {
      "cell_type": "code",
      "metadata": {
        "id": "pnvWOULQZ4HN",
        "colab_type": "code",
        "outputId": "33863b66-d1a5-413a-d910-f9de751047c5",
        "colab": {
          "base_uri": "https://localhost:8080/",
          "height": 53
        }
      },
      "source": [
        "# 확인\n",
        "print(y_train[0])\n",
        "print(y_train_onehot[0])"
      ],
      "execution_count": 0,
      "outputs": [
        {
          "output_type": "stream",
          "text": [
            "5\n",
            "[0. 0. 0. 0. 0. 1. 0. 0. 0. 0.]\n"
          ],
          "name": "stdout"
        }
      ]
    },
    {
      "cell_type": "code",
      "metadata": {
        "id": "3UNweHe0wLu-",
        "colab_type": "code",
        "colab": {}
      },
      "source": [
        "# 모델 구성\n",
        "from tensorflow.keras import layers, models\n",
        "\n",
        "model = models.Sequential()\n",
        "\n",
        "# conv \n",
        "# layers.Conv2D(filters, kernel_size, padding, activation, input_shape)\n",
        "## relu function은 이미지 분야에서 activation으로 핫한 함수임\n",
        "model.add(layers.Conv2D(32, (5,5), padding = 'valid', activation = 'relu', input_shape = (28, 28, 1)))"
      ],
      "execution_count": 0,
      "outputs": []
    },
    {
      "cell_type": "markdown",
      "metadata": {
        "id": "W_97BMA7xw6l",
        "colab_type": "text"
      },
      "source": [
        "# 출력크기 계산 공식\n",
        "\n",
        "o = ((n + 2p -m) / s) + 1"
      ]
    },
    {
      "cell_type": "code",
      "metadata": {
        "id": "On3qDEhIyYbt",
        "colab_type": "code",
        "colab": {}
      },
      "source": [
        "# pooling\n",
        "# MaxPool2D(size)\n",
        "model.add(layers.MaxPool2D((2,2)))"
      ],
      "execution_count": 0,
      "outputs": []
    },
    {
      "cell_type": "code",
      "metadata": {
        "id": "KABzZGKdyr8p",
        "colab_type": "code",
        "outputId": "27e7f272-b724-4960-b83e-867d1eeff199",
        "colab": {
          "base_uri": "https://localhost:8080/",
          "height": 233
        }
      },
      "source": [
        "model.summary()"
      ],
      "execution_count": 0,
      "outputs": [
        {
          "output_type": "stream",
          "text": [
            "Model: \"sequential_3\"\n",
            "_________________________________________________________________\n",
            "Layer (type)                 Output Shape              Param #   \n",
            "=================================================================\n",
            "conv2d_7 (Conv2D)            (None, 24, 24, 32)        832       \n",
            "_________________________________________________________________\n",
            "max_pooling2d_5 (MaxPooling2 (None, 12, 12, 32)        0         \n",
            "=================================================================\n",
            "Total params: 832\n",
            "Trainable params: 832\n",
            "Non-trainable params: 0\n",
            "_________________________________________________________________\n"
          ],
          "name": "stdout"
        }
      ]
    },
    {
      "cell_type": "code",
      "metadata": {
        "id": "7wdYIpMMyx9z",
        "colab_type": "code",
        "colab": {}
      },
      "source": [
        "# 두번째 합성곱 층\n",
        "model.add(layers.Conv2D(64, (5, 5), padding = 'valid', activation = 'relu'))\n",
        "\n",
        "# 두번째 풀링층\n",
        "model.add(layers.MaxPooling2D((2,2)))"
      ],
      "execution_count": 0,
      "outputs": []
    },
    {
      "cell_type": "code",
      "metadata": {
        "id": "d3ev2p5wy7UO",
        "colab_type": "code",
        "outputId": "38e50fd3-c379-4bb8-b0c1-ef21e68ef630",
        "colab": {
          "base_uri": "https://localhost:8080/",
          "height": 305
        }
      },
      "source": [
        "model.summary()"
      ],
      "execution_count": 0,
      "outputs": [
        {
          "output_type": "stream",
          "text": [
            "Model: \"sequential_3\"\n",
            "_________________________________________________________________\n",
            "Layer (type)                 Output Shape              Param #   \n",
            "=================================================================\n",
            "conv2d_7 (Conv2D)            (None, 24, 24, 32)        832       \n",
            "_________________________________________________________________\n",
            "max_pooling2d_5 (MaxPooling2 (None, 12, 12, 32)        0         \n",
            "_________________________________________________________________\n",
            "conv2d_8 (Conv2D)            (None, 8, 8, 64)          51264     \n",
            "_________________________________________________________________\n",
            "max_pooling2d_6 (MaxPooling2 (None, 4, 4, 64)          0         \n",
            "=================================================================\n",
            "Total params: 52,096\n",
            "Trainable params: 52,096\n",
            "Non-trainable params: 0\n",
            "_________________________________________________________________\n"
          ],
          "name": "stdout"
        }
      ]
    },
    {
      "cell_type": "code",
      "metadata": {
        "id": "LMDZbRm9zGd1",
        "colab_type": "code",
        "colab": {}
      },
      "source": [
        "# 완전연결층 (전처리)\n",
        "model.add(layers.Flatten())\n",
        "\n",
        "# 완전연결층(Dense)\n",
        "model.add(layers.Dense(1024, activation = 'relu'))"
      ],
      "execution_count": 0,
      "outputs": []
    },
    {
      "cell_type": "code",
      "metadata": {
        "id": "Rml-UvQc0DwK",
        "colab_type": "code",
        "outputId": "b853335f-de2e-4d45-9fb7-332861eb1abc",
        "colab": {
          "base_uri": "https://localhost:8080/",
          "height": 377
        }
      },
      "source": [
        "model.summary()"
      ],
      "execution_count": 0,
      "outputs": [
        {
          "output_type": "stream",
          "text": [
            "Model: \"sequential_3\"\n",
            "_________________________________________________________________\n",
            "Layer (type)                 Output Shape              Param #   \n",
            "=================================================================\n",
            "conv2d_7 (Conv2D)            (None, 24, 24, 32)        832       \n",
            "_________________________________________________________________\n",
            "max_pooling2d_5 (MaxPooling2 (None, 12, 12, 32)        0         \n",
            "_________________________________________________________________\n",
            "conv2d_8 (Conv2D)            (None, 8, 8, 64)          51264     \n",
            "_________________________________________________________________\n",
            "max_pooling2d_6 (MaxPooling2 (None, 4, 4, 64)          0         \n",
            "_________________________________________________________________\n",
            "flatten_1 (Flatten)          (None, 1024)              0         \n",
            "_________________________________________________________________\n",
            "dense_2 (Dense)              (None, 1024)              1049600   \n",
            "=================================================================\n",
            "Total params: 1,101,696\n",
            "Trainable params: 1,101,696\n",
            "Non-trainable params: 0\n",
            "_________________________________________________________________\n"
          ],
          "name": "stdout"
        }
      ]
    },
    {
      "cell_type": "code",
      "metadata": {
        "id": "i36-yT2L0FmA",
        "colab_type": "code",
        "colab": {}
      },
      "source": [
        "# dropout\n",
        "# layers.Dropout(rate)\n",
        "model.add(layers.Dropout(0.5))"
      ],
      "execution_count": 0,
      "outputs": []
    },
    {
      "cell_type": "code",
      "metadata": {
        "id": "Td0DgVOg4WvH",
        "colab_type": "code",
        "colab": {}
      },
      "source": [
        "# 완전연결층\n",
        "# layers.Dense(units, activation)\n",
        "model.add(layers.Dense(10, activation = 'softmax'))"
      ],
      "execution_count": 0,
      "outputs": []
    },
    {
      "cell_type": "code",
      "metadata": {
        "id": "5HqXCPCJ4go5",
        "colab_type": "code",
        "outputId": "3535640d-08ae-45b0-ead2-cc11d3976bb6",
        "colab": {
          "base_uri": "https://localhost:8080/",
          "height": 449
        }
      },
      "source": [
        "model.summary()"
      ],
      "execution_count": 0,
      "outputs": [
        {
          "output_type": "stream",
          "text": [
            "Model: \"sequential_3\"\n",
            "_________________________________________________________________\n",
            "Layer (type)                 Output Shape              Param #   \n",
            "=================================================================\n",
            "conv2d_7 (Conv2D)            (None, 24, 24, 32)        832       \n",
            "_________________________________________________________________\n",
            "max_pooling2d_5 (MaxPooling2 (None, 12, 12, 32)        0         \n",
            "_________________________________________________________________\n",
            "conv2d_8 (Conv2D)            (None, 8, 8, 64)          51264     \n",
            "_________________________________________________________________\n",
            "max_pooling2d_6 (MaxPooling2 (None, 4, 4, 64)          0         \n",
            "_________________________________________________________________\n",
            "flatten_1 (Flatten)          (None, 1024)              0         \n",
            "_________________________________________________________________\n",
            "dense_2 (Dense)              (None, 1024)              1049600   \n",
            "_________________________________________________________________\n",
            "dropout_1 (Dropout)          (None, 1024)              0         \n",
            "_________________________________________________________________\n",
            "dense_3 (Dense)              (None, 10)                10250     \n",
            "=================================================================\n",
            "Total params: 1,111,946\n",
            "Trainable params: 1,111,946\n",
            "Non-trainable params: 0\n",
            "_________________________________________________________________\n"
          ],
          "name": "stdout"
        }
      ]
    },
    {
      "cell_type": "code",
      "metadata": {
        "id": "oxIkfBOc4jWC",
        "colab_type": "code",
        "colab": {}
      },
      "source": [
        "# 합성곱 신경망 모델 훈련\n",
        "model.compile(loss = 'categorical_crossentropy', optimizer = 'adam', metrics = ['acc'])"
      ],
      "execution_count": 0,
      "outputs": []
    },
    {
      "cell_type": "code",
      "metadata": {
        "id": "lBpNLAzC57s6",
        "colab_type": "code",
        "colab": {}
      },
      "source": [
        "import time\n",
        "from tensorflow.keras.callbacks import ModelCheckpoint, TensorBoard\n",
        "\n",
        "callback_list = [ModelCheckpoint(filepath = 'cnn_checkpoint.h5', monitor = 'val_loss', save_best_only = True),\n",
        "                 TensorBoard(log_dir = 'logs / {}'.format(time.asctime()))]\n"
      ],
      "execution_count": 0,
      "outputs": []
    },
    {
      "cell_type": "code",
      "metadata": {
        "id": "26mfFwQA6Beg",
        "colab_type": "code",
        "outputId": "cc72e152-e512-491e-f5c1-22f925ae735d",
        "colab": {
          "base_uri": "https://localhost:8080/",
          "height": 775
        }
      },
      "source": [
        "history = model.fit(X_train_centered, y_train_onehot, batch_size = 64, epochs = 20,\n",
        "                    validation_data = (X_valid_centered, y_valid_onehot), callbacks = callback_list)"
      ],
      "execution_count": 0,
      "outputs": [
        {
          "output_type": "stream",
          "text": [
            "Train on 50000 samples, validate on 10000 samples\n",
            "Epoch 1/20\n",
            "50000/50000 [==============================] - 67s 1ms/sample - loss: 0.1342 - acc: 0.9579 - val_loss: 0.0478 - val_acc: 0.9858\n",
            "Epoch 2/20\n",
            "50000/50000 [==============================] - 66s 1ms/sample - loss: 0.0506 - acc: 0.9847 - val_loss: 0.0438 - val_acc: 0.9862\n",
            "Epoch 3/20\n",
            "50000/50000 [==============================] - 66s 1ms/sample - loss: 0.0359 - acc: 0.9886 - val_loss: 0.0383 - val_acc: 0.9892\n",
            "Epoch 4/20\n",
            "50000/50000 [==============================] - 65s 1ms/sample - loss: 0.0278 - acc: 0.9915 - val_loss: 0.0409 - val_acc: 0.9891\n",
            "Epoch 5/20\n",
            "50000/50000 [==============================] - 65s 1ms/sample - loss: 0.0226 - acc: 0.9926 - val_loss: 0.0398 - val_acc: 0.9900\n",
            "Epoch 6/20\n",
            "50000/50000 [==============================] - 65s 1ms/sample - loss: 0.0174 - acc: 0.9944 - val_loss: 0.0464 - val_acc: 0.9896\n",
            "Epoch 7/20\n",
            "50000/50000 [==============================] - 65s 1ms/sample - loss: 0.0177 - acc: 0.9942 - val_loss: 0.0442 - val_acc: 0.9907\n",
            "Epoch 8/20\n",
            "50000/50000 [==============================] - 66s 1ms/sample - loss: 0.0166 - acc: 0.9950 - val_loss: 0.0445 - val_acc: 0.9904\n",
            "Epoch 9/20\n",
            "50000/50000 [==============================] - 65s 1ms/sample - loss: 0.0128 - acc: 0.9961 - val_loss: 0.0529 - val_acc: 0.9898\n",
            "Epoch 10/20\n",
            "50000/50000 [==============================] - 65s 1ms/sample - loss: 0.0128 - acc: 0.9962 - val_loss: 0.0726 - val_acc: 0.9858\n",
            "Epoch 11/20\n",
            "50000/50000 [==============================] - 64s 1ms/sample - loss: 0.0163 - acc: 0.9950 - val_loss: 0.0428 - val_acc: 0.9903\n",
            "Epoch 12/20\n",
            "50000/50000 [==============================] - 64s 1ms/sample - loss: 0.0108 - acc: 0.9964 - val_loss: 0.0519 - val_acc: 0.9916\n",
            "Epoch 13/20\n",
            "50000/50000 [==============================] - 64s 1ms/sample - loss: 0.0124 - acc: 0.9963 - val_loss: 0.0471 - val_acc: 0.9914\n",
            "Epoch 14/20\n",
            "50000/50000 [==============================] - 64s 1ms/sample - loss: 0.0090 - acc: 0.9975 - val_loss: 0.0548 - val_acc: 0.9903\n",
            "Epoch 15/20\n",
            "50000/50000 [==============================] - 64s 1ms/sample - loss: 0.0098 - acc: 0.9971 - val_loss: 0.0762 - val_acc: 0.9885\n",
            "Epoch 16/20\n",
            "50000/50000 [==============================] - 64s 1ms/sample - loss: 0.0109 - acc: 0.9967 - val_loss: 0.0616 - val_acc: 0.9911\n",
            "Epoch 17/20\n",
            "50000/50000 [==============================] - 65s 1ms/sample - loss: 0.0114 - acc: 0.9971 - val_loss: 0.0545 - val_acc: 0.9914\n",
            "Epoch 18/20\n",
            "50000/50000 [==============================] - 64s 1ms/sample - loss: 0.0102 - acc: 0.9973 - val_loss: 0.0599 - val_acc: 0.9911\n",
            "Epoch 19/20\n",
            "50000/50000 [==============================] - 64s 1ms/sample - loss: 0.0068 - acc: 0.9980 - val_loss: 0.0731 - val_acc: 0.9907\n",
            "Epoch 20/20\n",
            "50000/50000 [==============================] - 64s 1ms/sample - loss: 0.0105 - acc: 0.9974 - val_loss: 0.0674 - val_acc: 0.9911\n"
          ],
          "name": "stdout"
        }
      ]
    },
    {
      "cell_type": "code",
      "metadata": {
        "id": "gV5SlqNN6bAn",
        "colab_type": "code",
        "outputId": "1965b991-d214-479e-bc7c-d9a1500cd9f8",
        "colab": {
          "base_uri": "https://localhost:8080/",
          "height": 268
        }
      },
      "source": [
        "# 손실 시각화\n",
        "import matplotlib.pyplot as plt\n",
        "\n",
        "epochs = np.arange(1, 21)\n",
        "plt.plot(epochs, history.history['loss'])\n",
        "plt.plot(epochs, history.history['val_loss'])\n",
        "plt.show()"
      ],
      "execution_count": 0,
      "outputs": [
        {
          "output_type": "display_data",
          "data": {
            "image/png": "[encoded data removed]",
            "text/plain": [
              "<Figure size 432x288 with 1 Axes>"
            ]
          },
          "metadata": {
            "tags": []
          }
        }
      ]
    },
    {
      "cell_type": "code",
      "metadata": {
        "id": "sA63rM6S6sI3",
        "colab_type": "code",
        "outputId": "b2c15187-ad36-4233-c917-e785cff223d7",
        "colab": {
          "base_uri": "https://localhost:8080/",
          "height": 269
        }
      },
      "source": [
        "# 정확도 시각화\n",
        "plt.plot(epochs, history.history['acc'])\n",
        "plt.plot(epochs, history.history['val_acc'])\n",
        "plt.show()"
      ],
      "execution_count": 0,
      "outputs": [
        {
          "output_type": "display_data",
          "data": {
            "image/png": "[encoded data removed]",
            "text/plain": [
              "<Figure size 432x288 with 1 Axes>"
            ]
          },
          "metadata": {
            "tags": []
          }
        }
      ]
    },
    {
      "cell_type": "code",
      "metadata": {
        "id": "w0PttSt27BJc",
        "colab_type": "code",
        "outputId": "d4754216-a0aa-4fc9-9247-81251bf43157",
        "colab": {
          "base_uri": "https://localhost:8080/",
          "height": 136
        }
      },
      "source": [
        "# 텐서보드 실행\n",
        "$ tensorboard --logdir logs/"
      ],
      "execution_count": 0,
      "outputs": [
        {
          "output_type": "error",
          "ename": "SyntaxError",
          "evalue": "ignored",
          "traceback": [
            "\u001b[0;36m  File \u001b[0;32m\"<ipython-input-103-67cc1b5c209c>\"\u001b[0;36m, line \u001b[0;32m1\u001b[0m\n\u001b[0;31m    $ tensorboard --logdir logs/\u001b[0m\n\u001b[0m    ^\u001b[0m\n\u001b[0;31mSyntaxError\u001b[0m\u001b[0;31m:\u001b[0m invalid syntax\n"
          ]
        }
      ]
    },
    {
      "cell_type": "code",
      "metadata": {
        "id": "tIaRvEPC7Fak",
        "colab_type": "code",
        "colab": {}
      },
      "source": [
        "# 모델 저장\n",
        "model.save('cnn_model.h5')"
      ],
      "execution_count": 0,
      "outputs": []
    },
    {
      "cell_type": "code",
      "metadata": {
        "id": "XQvwJpFY7JRN",
        "colab_type": "code",
        "outputId": "bdb79669-00b5-4fe8-c8a2-e8acce4f2c15",
        "colab": {
          "base_uri": "https://localhost:8080/",
          "height": 208
        }
      },
      "source": [
        "# 복원\n",
        "from tensorflow.keras.models import load_model\n",
        "\n",
        "restored_model = load_model('cnn_model.h5')\n",
        "resotred_model.load_weights('cnn_checkpoint.h5')"
      ],
      "execution_count": 0,
      "outputs": [
        {
          "output_type": "error",
          "ename": "NameError",
          "evalue": "ignored",
          "traceback": [
            "\u001b[0;31m---------------------------------------------------------------------------\u001b[0m",
            "\u001b[0;31mNameError\u001b[0m                                 Traceback (most recent call last)",
            "\u001b[0;32m<ipython-input-109-25b9435a3597>\u001b[0m in \u001b[0;36m<module>\u001b[0;34m()\u001b[0m\n\u001b[1;32m      2\u001b[0m \u001b[0;34m\u001b[0m\u001b[0m\n\u001b[1;32m      3\u001b[0m \u001b[0mrestored_model\u001b[0m \u001b[0;34m=\u001b[0m \u001b[0mload_model\u001b[0m\u001b[0;34m(\u001b[0m\u001b[0;34m'cnn_model.h5'\u001b[0m\u001b[0;34m)\u001b[0m\u001b[0;34m\u001b[0m\u001b[0;34m\u001b[0m\u001b[0m\n\u001b[0;32m----> 4\u001b[0;31m \u001b[0mresotred_model\u001b[0m\u001b[0;34m.\u001b[0m\u001b[0mload_weights\u001b[0m\u001b[0;34m(\u001b[0m\u001b[0;34m'cnn_checkpoint.h5'\u001b[0m\u001b[0;34m)\u001b[0m\u001b[0;34m\u001b[0m\u001b[0;34m\u001b[0m\u001b[0m\n\u001b[0m",
            "\u001b[0;31mNameError\u001b[0m: name 'resotred_model' is not defined"
          ]
        }
      ]
    },
    {
      "cell_type": "code",
      "metadata": {
        "id": "4DzUFvE37VYF",
        "colab_type": "code",
        "colab": {}
      },
      "source": [
        "# 테스트 세트에서의 평가\n",
        "resotred_model.evaluate(X_test_centered, y_test_onehot)"
      ],
      "execution_count": 0,
      "outputs": []
    },
    {
      "cell_type": "code",
      "metadata": {
        "id": "nT_qNho07bic",
        "colab_type": "code",
        "colab": {}
      },
      "source": [
        "# 테스트 정확도 확인\n",
        "print(np.argmax(resotred_model.predict(X_test_centered[:10], axis = 1)))\n",
        "print(y_test[:10])"
      ],
      "execution_count": 0,
      "outputs": []
    },
    {
      "cell_type": "code",
      "metadata": {
        "id": "FVHTyp557pWy",
        "colab_type": "code",
        "outputId": "2001c3ad-162b-4bc6-f739-fc173d310ce4",
        "colab": {
          "base_uri": "https://localhost:8080/",
          "height": 295
        }
      },
      "source": [
        "# 이미지 플로팅\n",
        "fig = plt.figure(figsize = (10, 5))\n",
        "\n",
        "for i in range(10):\n",
        "  fig.add_subplot(2, 5, i+1)\n",
        "  plt.imshow(X_test_centered[i].reshape(28, 28))"
      ],
      "execution_count": 0,
      "outputs": [
        {
          "output_type": "display_data",
          "data": {
            "image/png": "[encoded data removed]",
            "text/plain": [
              "<Figure size 720x360 with 10 Axes>"
            ]
          },
          "metadata": {
            "tags": []
          }
        }
      ]
    },
    {
      "cell_type": "markdown",
      "metadata": {
        "id": "NQKaqP7l8As_",
        "colab_type": "text"
      },
      "source": [
        "# 활성화 출력과 필터 시각화"
      ]
    },
    {
      "cell_type": "code",
      "metadata": {
        "id": "NHX6xO4L74YG",
        "colab_type": "code",
        "colab": {}
      },
      "source": [
        "first_layer = model.layers[0]\n",
        "\n",
        "first_activation = models.Model(inputs = model.input, outputs = first_layer.output)\n",
        "\n",
        "activation = first_activation.predict(X_test_centered[:10])"
      ],
      "execution_count": 0,
      "outputs": []
    },
    {
      "cell_type": "code",
      "metadata": {
        "id": "XQktEt_Y8X1O",
        "colab_type": "code",
        "outputId": "38a23311-561c-4983-ef65-5c87f50e6594",
        "colab": {
          "base_uri": "https://localhost:8080/",
          "height": 862
        }
      },
      "source": [
        "fig = plt.figure(figsize = (10, 15))\n",
        "\n",
        "for i in range(32):\n",
        "  fig.add_subplot(7, 5, i+1)\n",
        "  plt.imshow(activation[0, :, :, i])"
      ],
      "execution_count": 0,
      "outputs": [
        {
          "output_type": "display_data",
          "data": {
            "image/png": "[encoded data removed]",
            "text/plain": [
              "<Figure size 720x1080 with 32 Axes>"
            ]
          },
          "metadata": {
            "tags": []
          }
        }
      ]
    },
    {
      "cell_type": "code",
      "metadata": {
        "id": "s3oikidg8iwq",
        "colab_type": "code",
        "outputId": "71368c8a-bd90-480a-bcdf-805b13aaa81d",
        "colab": {
          "base_uri": "https://localhost:8080/",
          "height": 862
        }
      },
      "source": [
        "fig = plt.figure(figsize = (10, 15))\n",
        "\n",
        "for i in range(32):\n",
        "  fig.add_subplot(7, 5, i+1)\n",
        "  plt.imshow(activation[3, :, :, i])\n",
        "  "
      ],
      "execution_count": 0,
      "outputs": [
        {
          "output_type": "display_data",
          "data": {
            "image/png": "[encoded data removed]",
            "text/plain": [
              "<Figure size 720x1080 with 32 Axes>"
            ]
          },
          "metadata": {
            "tags": []
          }
        }
      ]
    },
    {
      "cell_type": "code",
      "metadata": {
        "id": "9IaO420j80lR",
        "colab_type": "code",
        "colab": {}
      },
      "source": [
        ""
      ],
      "execution_count": 0,
      "outputs": []
    }
  ]
}
