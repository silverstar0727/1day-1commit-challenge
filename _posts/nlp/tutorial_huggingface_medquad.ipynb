{
  "nbformat": 4,
  "nbformat_minor": 0,
  "metadata": {
    "colab": {
      "name": "tutorial_huggingface_medquad.ipynb",
      "provenance": [],
      "authorship_tag": "ABX9TyMNg/RDVnoh8SsXMcYquheG",
      "include_colab_link": true
    },
    "kernelspec": {
      "name": "python3",
      "display_name": "Python 3"
    }
  },
  "cells": [
    {
      "cell_type": "markdown",
      "metadata": {
        "id": "view-in-github",
        "colab_type": "text"
      },
      "source": [
        "<a href=\"https://colab.research.google.com/github/silverstar0727/Today_I_Learned/blob/master/tutorial_huggingface_medquad.ipynb\" target=\"_parent\"><img src=\"https://colab.research.google.com/assets/colab-badge.svg\" alt=\"Open In Colab\"/></a>"
      ]
    },
    {
      "cell_type": "code",
      "metadata": {
        "colab": {
          "base_uri": "https://localhost:8080/"
        },
        "id": "enmXNDwHwkMI",
        "outputId": "a73c216b-e5b4-492d-e912-3ebd966bc31c"
      },
      "source": [
        "from google.colab import drive\n",
        "drive.mount('/content/drive')"
      ],
      "execution_count": 1,
      "outputs": [
        {
          "output_type": "stream",
          "text": [
            "Mounted at /content/drive\n"
          ],
          "name": "stdout"
        }
      ]
    },
    {
      "cell_type": "code",
      "metadata": {
        "colab": {
          "base_uri": "https://localhost:8080/"
        },
        "id": "2AU9NjqWwsv0",
        "outputId": "a444097b-7cb0-4330-a49f-3a197a96f700"
      },
      "source": [
        "!pip install -q datasets\n",
        "!pip install -q transformers"
      ],
      "execution_count": 10,
      "outputs": [
        {
          "output_type": "stream",
          "text": [
            "\u001b[K     |████████████████████████████████| 1.8MB 4.2MB/s \n",
            "\u001b[K     |████████████████████████████████| 890kB 17.7MB/s \n",
            "\u001b[K     |████████████████████████████████| 2.9MB 24.5MB/s \n",
            "\u001b[?25h  Building wheel for sacremoses (setup.py) ... \u001b[?25l\u001b[?25hdone\n"
          ],
          "name": "stdout"
        }
      ]
    },
    {
      "cell_type": "code",
      "metadata": {
        "id": "RUsDI61vu1dy"
      },
      "source": [
        "from datasets import load_metric\n",
        "import json\n",
        "from transformers import AutoTokenizer\n",
        "import transformers\n",
        "\n",
        "model_checkpoint = \"distilbert-base-uncased\"\n",
        "train_path = '/content/drive/MyDrive/ml/MedQuAD/hackathon_2-2/data/train/MedQuAD_v1.0_train.json'"
      ],
      "execution_count": 19,
      "outputs": []
    },
    {
      "cell_type": "code",
      "metadata": {
        "id": "P-h4x1qNwiBD"
      },
      "source": [
        "with open(train_path) as f:\n",
        "  raw_data = json.load(f)"
      ],
      "execution_count": 20,
      "outputs": []
    },
    {
      "cell_type": "code",
      "metadata": {
        "id": "B8ZUT08vxKp0"
      },
      "source": [
        "tokenizer = AutoTokenizer.from_pretrained(model_checkpoint)\n",
        "\n",
        "assert isinstance(tokenizer, transformers.PreTrainedTokenizerFast)\n",
        "\n",
        "max_length = 384\n",
        "doc_stride = 128 "
      ],
      "execution_count": 21,
      "outputs": []
    },
    {
      "cell_type": "code",
      "metadata": {
        "id": "IwUP1Ddy2LyL"
      },
      "source": [
        ""
      ],
      "execution_count": null,
      "outputs": []
    }
  ]
}