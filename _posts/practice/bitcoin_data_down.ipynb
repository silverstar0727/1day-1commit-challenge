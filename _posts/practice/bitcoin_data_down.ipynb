{
  "nbformat": 4,
  "nbformat_minor": 0,
  "metadata": {
    "colab": {
      "name": "bitcoin_data_down.ipynb",
      "provenance": [],
      "authorship_tag": "ABX9TyO8Sg0UxehzmSxvlpt5tE6L",
      "include_colab_link": true
    },
    "kernelspec": {
      "name": "python3",
      "display_name": "Python 3"
    }
  },
  "cells": [
    {
      "cell_type": "markdown",
      "metadata": {
        "id": "view-in-github",
        "colab_type": "text"
      },
      "source": [
        "<a href=\"https://colab.research.google.com/github/silverstar0727/1day-1commit-challenge/blob/master/bitcoin_data_down.ipynb\" target=\"_parent\"><img src=\"https://colab.research.google.com/assets/colab-badge.svg\" alt=\"Open In Colab\"/></a>"
      ]
    },
    {
      "cell_type": "code",
      "metadata": {
        "id": "M0lgVWInDuFC",
        "colab_type": "code",
        "colab": {
          "base_uri": "https://localhost:8080/",
          "height": 127
        },
        "outputId": "f29a2d91-523b-4a8a-81bc-e1ddc07f6cad"
      },
      "source": [
        "# google drive와 연동\n",
        "from google.colab import drive\n",
        "\n",
        "drive.mount('/content/gdrive')"
      ],
      "execution_count": 2,
      "outputs": [
        {
          "output_type": "stream",
          "text": [
            "Go to this URL in a browser: https://accounts.google.com/o/oauth2/auth?client_id=947318989803-6bn6qk8qdgf4n4g3pfee6491hc0brc4i.apps.googleusercontent.com&redirect_uri=urn%3aietf%3awg%3aoauth%3a2.0%3aoob&response_type=code&scope=email%20https%3a%2f%2fwww.googleapis.com%2fauth%2fdocs.test%20https%3a%2f%2fwww.googleapis.com%2fauth%2fdrive%20https%3a%2f%2fwww.googleapis.com%2fauth%2fdrive.photos.readonly%20https%3a%2f%2fwww.googleapis.com%2fauth%2fpeopleapi.readonly\n",
            "\n",
            "Enter your authorization code:\n",
            "··········\n",
            "Mounted at /content/gdrive\n"
          ],
          "name": "stdout"
        }
      ]
    },
    {
      "cell_type": "code",
      "metadata": {
        "id": "VfAY0psMEUVn",
        "colab_type": "code",
        "colab": {
          "base_uri": "https://localhost:8080/",
          "height": 35
        },
        "outputId": "a2537f4b-6522-48e7-d4ba-aea499f8ceb7"
      },
      "source": [
        "# 연동 테스트 코드\n",
        "with open('/content/gdrive/My Drive/foo.txt', 'w') as f:\n",
        "  f.write('Hello Google Drive!')\n",
        "\n",
        "!cat /content/gdrive/My\\ Drive/foo.txt"
      ],
      "execution_count": 3,
      "outputs": [
        {
          "output_type": "stream",
          "text": [
            "Hello Google Drive!"
          ],
          "name": "stdout"
        }
      ]
    },
    {
      "cell_type": "code",
      "metadata": {
        "id": "wRrX9HORC6mJ",
        "colab_type": "code",
        "colab": {
          "base_uri": "https://localhost:8080/",
          "height": 244
        },
        "outputId": "ba1b59a6-bd46-46dd-83ea-ab7398a85ec8"
      },
      "source": [
        "# 출처: https://gry1994.tistory.com/225\n",
        "\n",
        "import requests\n",
        "from datetime import datetime\n",
        "import pandas as pd\n",
        "import time\n",
        " \n",
        "starting = time.time()\n",
        " \n",
        "ep='https://api.binance.com'\n",
        "candle = '/api/v3/klines'\n",
        " \n",
        "start_date = []\n",
        "start_time = []\n",
        "openn = []\n",
        "high = []\n",
        "low = []\n",
        "close = []\n",
        "volume = []\n",
        " \n",
        "start = 1504224000000 # 17년 9월 1일 09:00:00 최초날짜\n",
        "#start = 1582748490000 # 테스트를 위해 최근만 받아옴 (20년 2월 27일~)\n",
        "first_params_candle = {'symbol': 'BTCUSD', 'interval' : '1m','startTime' : start , 'limit' : 1 } # 초기세팅\n",
        "r1 = requests.get(ep+candle, params=first_params_candle )\n",
        " \n",
        "while len(r1.json()) > 0 :\n",
        "    first_params_candle = {'symbol': 'BTCUSD', 'interval' : '1m','startTime' : start , 'limit' : 1000 }\n",
        "    r1 = requests.get(ep+candle, params=first_params_candle ) #use parameter\n",
        "    req = r1.json()\n",
        "    for i in range(0,len(req)) :\n",
        "        start_date.append(datetime.fromtimestamp(req[i][0]/1000).strftime('%Y%m%d'))\n",
        "        start_time.append(datetime.fromtimestamp(req[i][0]/1000).strftime('%H%M'))\n",
        "        openn.append(req[i][1])\n",
        "        high.append(req[i][2])\n",
        "        low.append(req[i][3])\n",
        "        close.append(req[i][4])\n",
        "        volume.append(req[i][5])\n",
        "    if len(req) > 0 : # 받아온 데이터가 있을 경우 => 다음 루프 시작\n",
        "        start = req[-1][6]+1\n",
        "        print(datetime.fromtimestamp(req[-1][6]/1000).strftime('%Y%m%d'), \"데이터 다운로드 완료...\")\n",
        "    else : print(\"다운로드 완료\")\n",
        "    #time.sleep(0.25) # 횟수제한을 위해 추가\n",
        " \n",
        "ticker = ['BTCUSD'] * len(start_date)\n",
        " \n",
        "chartData = {'date': start_date, 'time': start_time, 'ticker': ticker, 'open': openn, 'high': high,\n",
        "             'low': low, 'close': close, 'volume': volume}\n",
        "df = pd.DataFrame(chartData,\n",
        "                  columns=['date', 'time', 'ticker', 'open', 'high', 'low', 'close', 'volume'])\n",
        " \n",
        " \n",
        "df.to_csv(\"/content/gdrive/My Drive/BTCUSD_1minute.csv\", header = True, index = False) # csv파일로 저장\n",
        " \n",
        "print(\"소요 시간 : \", time.time() - starting)"
      ],
      "execution_count": 14,
      "outputs": [
        {
          "output_type": "error",
          "ename": "KeyError",
          "evalue": "ignored",
          "traceback": [
            "\u001b[0;31m---------------------------------------------------------------------------\u001b[0m",
            "\u001b[0;31mKeyError\u001b[0m                                  Traceback (most recent call last)",
            "\u001b[0;32m<ipython-input-14-638bbb74e934>\u001b[0m in \u001b[0;36m<module>\u001b[0;34m()\u001b[0m\n\u001b[1;32m     28\u001b[0m     \u001b[0mreq\u001b[0m \u001b[0;34m=\u001b[0m \u001b[0mr1\u001b[0m\u001b[0;34m.\u001b[0m\u001b[0mjson\u001b[0m\u001b[0;34m(\u001b[0m\u001b[0;34m)\u001b[0m\u001b[0;34m\u001b[0m\u001b[0;34m\u001b[0m\u001b[0m\n\u001b[1;32m     29\u001b[0m     \u001b[0;32mfor\u001b[0m \u001b[0mi\u001b[0m \u001b[0;32min\u001b[0m \u001b[0mrange\u001b[0m\u001b[0;34m(\u001b[0m\u001b[0;36m0\u001b[0m\u001b[0;34m,\u001b[0m\u001b[0mlen\u001b[0m\u001b[0;34m(\u001b[0m\u001b[0mreq\u001b[0m\u001b[0;34m)\u001b[0m\u001b[0;34m)\u001b[0m \u001b[0;34m:\u001b[0m\u001b[0;34m\u001b[0m\u001b[0;34m\u001b[0m\u001b[0m\n\u001b[0;32m---> 30\u001b[0;31m         \u001b[0mstart_date\u001b[0m\u001b[0;34m.\u001b[0m\u001b[0mappend\u001b[0m\u001b[0;34m(\u001b[0m\u001b[0mdatetime\u001b[0m\u001b[0;34m.\u001b[0m\u001b[0mfromtimestamp\u001b[0m\u001b[0;34m(\u001b[0m\u001b[0mreq\u001b[0m\u001b[0;34m[\u001b[0m\u001b[0mi\u001b[0m\u001b[0;34m]\u001b[0m\u001b[0;34m[\u001b[0m\u001b[0;36m0\u001b[0m\u001b[0;34m]\u001b[0m\u001b[0;34m/\u001b[0m\u001b[0;36m1000\u001b[0m\u001b[0;34m)\u001b[0m\u001b[0;34m.\u001b[0m\u001b[0mstrftime\u001b[0m\u001b[0;34m(\u001b[0m\u001b[0;34m'%Y%m%d'\u001b[0m\u001b[0;34m)\u001b[0m\u001b[0;34m)\u001b[0m\u001b[0;34m\u001b[0m\u001b[0;34m\u001b[0m\u001b[0m\n\u001b[0m\u001b[1;32m     31\u001b[0m         \u001b[0mstart_time\u001b[0m\u001b[0;34m.\u001b[0m\u001b[0mappend\u001b[0m\u001b[0;34m(\u001b[0m\u001b[0mdatetime\u001b[0m\u001b[0;34m.\u001b[0m\u001b[0mfromtimestamp\u001b[0m\u001b[0;34m(\u001b[0m\u001b[0mreq\u001b[0m\u001b[0;34m[\u001b[0m\u001b[0mi\u001b[0m\u001b[0;34m]\u001b[0m\u001b[0;34m[\u001b[0m\u001b[0;36m0\u001b[0m\u001b[0;34m]\u001b[0m\u001b[0;34m/\u001b[0m\u001b[0;36m1000\u001b[0m\u001b[0;34m)\u001b[0m\u001b[0;34m.\u001b[0m\u001b[0mstrftime\u001b[0m\u001b[0;34m(\u001b[0m\u001b[0;34m'%H%M'\u001b[0m\u001b[0;34m)\u001b[0m\u001b[0;34m)\u001b[0m\u001b[0;34m\u001b[0m\u001b[0;34m\u001b[0m\u001b[0m\n\u001b[1;32m     32\u001b[0m         \u001b[0mopenn\u001b[0m\u001b[0;34m.\u001b[0m\u001b[0mappend\u001b[0m\u001b[0;34m(\u001b[0m\u001b[0mreq\u001b[0m\u001b[0;34m[\u001b[0m\u001b[0mi\u001b[0m\u001b[0;34m]\u001b[0m\u001b[0;34m[\u001b[0m\u001b[0;36m1\u001b[0m\u001b[0;34m]\u001b[0m\u001b[0;34m)\u001b[0m\u001b[0;34m\u001b[0m\u001b[0;34m\u001b[0m\u001b[0m\n",
            "\u001b[0;31mKeyError\u001b[0m: 0"
          ]
        }
      ]
    },
    {
      "cell_type": "code",
      "metadata": {
        "id": "OP9WudTVDruv",
        "colab_type": "code",
        "colab": {}
      },
      "source": [
        "train = pd.read_csv('/content/gdrive/My Drive/BTCUSDT_3minute.csv')"
      ],
      "execution_count": 0,
      "outputs": []
    },
    {
      "cell_type": "code",
      "metadata": {
        "id": "C5t2YmhkFLhy",
        "colab_type": "code",
        "colab": {
          "base_uri": "https://localhost:8080/",
          "height": 419
        },
        "outputId": "1752c060-b2f5-4324-8298-9f31cc638942"
      },
      "source": [
        "train"
      ],
      "execution_count": 13,
      "outputs": [
        {
          "output_type": "execute_result",
          "data": {
            "text/html": [
              "<div>\n",
              "<style scoped>\n",
              "    .dataframe tbody tr th:only-of-type {\n",
              "        vertical-align: middle;\n",
              "    }\n",
              "\n",
              "    .dataframe tbody tr th {\n",
              "        vertical-align: top;\n",
              "    }\n",
              "\n",
              "    .dataframe thead th {\n",
              "        text-align: right;\n",
              "    }\n",
              "</style>\n",
              "<table border=\"1\" class=\"dataframe\">\n",
              "  <thead>\n",
              "    <tr style=\"text-align: right;\">\n",
              "      <th></th>\n",
              "      <th>date</th>\n",
              "      <th>time</th>\n",
              "      <th>ticker</th>\n",
              "      <th>open</th>\n",
              "      <th>high</th>\n",
              "      <th>low</th>\n",
              "      <th>close</th>\n",
              "      <th>volume</th>\n",
              "    </tr>\n",
              "  </thead>\n",
              "  <tbody>\n",
              "    <tr>\n",
              "      <th>0</th>\n",
              "      <td>20200226</td>\n",
              "      <td>2024</td>\n",
              "      <td>BTCUSDT</td>\n",
              "      <td>8858.64</td>\n",
              "      <td>8860.52</td>\n",
              "      <td>8843.64</td>\n",
              "      <td>8846.19</td>\n",
              "      <td>96.790884</td>\n",
              "    </tr>\n",
              "    <tr>\n",
              "      <th>1</th>\n",
              "      <td>20200226</td>\n",
              "      <td>2027</td>\n",
              "      <td>BTCUSDT</td>\n",
              "      <td>8846.19</td>\n",
              "      <td>8864.00</td>\n",
              "      <td>8843.65</td>\n",
              "      <td>8861.67</td>\n",
              "      <td>95.119714</td>\n",
              "    </tr>\n",
              "    <tr>\n",
              "      <th>2</th>\n",
              "      <td>20200226</td>\n",
              "      <td>2030</td>\n",
              "      <td>BTCUSDT</td>\n",
              "      <td>8861.68</td>\n",
              "      <td>8861.68</td>\n",
              "      <td>8830.00</td>\n",
              "      <td>8834.79</td>\n",
              "      <td>107.558519</td>\n",
              "    </tr>\n",
              "    <tr>\n",
              "      <th>3</th>\n",
              "      <td>20200226</td>\n",
              "      <td>2033</td>\n",
              "      <td>BTCUSDT</td>\n",
              "      <td>8833.26</td>\n",
              "      <td>8844.91</td>\n",
              "      <td>8824.02</td>\n",
              "      <td>8838.83</td>\n",
              "      <td>104.986623</td>\n",
              "    </tr>\n",
              "    <tr>\n",
              "      <th>4</th>\n",
              "      <td>20200226</td>\n",
              "      <td>2036</td>\n",
              "      <td>BTCUSDT</td>\n",
              "      <td>8838.71</td>\n",
              "      <td>8841.80</td>\n",
              "      <td>8809.09</td>\n",
              "      <td>8812.09</td>\n",
              "      <td>132.453956</td>\n",
              "    </tr>\n",
              "    <tr>\n",
              "      <th>...</th>\n",
              "      <td>...</td>\n",
              "      <td>...</td>\n",
              "      <td>...</td>\n",
              "      <td>...</td>\n",
              "      <td>...</td>\n",
              "      <td>...</td>\n",
              "      <td>...</td>\n",
              "      <td>...</td>\n",
              "    </tr>\n",
              "    <tr>\n",
              "      <th>17940</th>\n",
              "      <td>20200404</td>\n",
              "      <td>730</td>\n",
              "      <td>BTCUSDT</td>\n",
              "      <td>6716.51</td>\n",
              "      <td>6724.70</td>\n",
              "      <td>6715.94</td>\n",
              "      <td>6721.08</td>\n",
              "      <td>30.712223</td>\n",
              "    </tr>\n",
              "    <tr>\n",
              "      <th>17941</th>\n",
              "      <td>20200404</td>\n",
              "      <td>733</td>\n",
              "      <td>BTCUSDT</td>\n",
              "      <td>6721.08</td>\n",
              "      <td>6727.50</td>\n",
              "      <td>6719.73</td>\n",
              "      <td>6724.06</td>\n",
              "      <td>44.774862</td>\n",
              "    </tr>\n",
              "    <tr>\n",
              "      <th>17942</th>\n",
              "      <td>20200404</td>\n",
              "      <td>736</td>\n",
              "      <td>BTCUSDT</td>\n",
              "      <td>6724.06</td>\n",
              "      <td>6727.70</td>\n",
              "      <td>6717.72</td>\n",
              "      <td>6723.80</td>\n",
              "      <td>73.958007</td>\n",
              "    </tr>\n",
              "    <tr>\n",
              "      <th>17943</th>\n",
              "      <td>20200404</td>\n",
              "      <td>739</td>\n",
              "      <td>BTCUSDT</td>\n",
              "      <td>6723.80</td>\n",
              "      <td>6725.57</td>\n",
              "      <td>6718.11</td>\n",
              "      <td>6723.03</td>\n",
              "      <td>33.266379</td>\n",
              "    </tr>\n",
              "    <tr>\n",
              "      <th>17944</th>\n",
              "      <td>20200404</td>\n",
              "      <td>742</td>\n",
              "      <td>BTCUSDT</td>\n",
              "      <td>6722.98</td>\n",
              "      <td>6723.99</td>\n",
              "      <td>6720.00</td>\n",
              "      <td>6723.03</td>\n",
              "      <td>5.108476</td>\n",
              "    </tr>\n",
              "  </tbody>\n",
              "</table>\n",
              "<p>17945 rows × 8 columns</p>\n",
              "</div>"
            ],
            "text/plain": [
              "           date  time   ticker     open     high      low    close      volume\n",
              "0      20200226  2024  BTCUSDT  8858.64  8860.52  8843.64  8846.19   96.790884\n",
              "1      20200226  2027  BTCUSDT  8846.19  8864.00  8843.65  8861.67   95.119714\n",
              "2      20200226  2030  BTCUSDT  8861.68  8861.68  8830.00  8834.79  107.558519\n",
              "3      20200226  2033  BTCUSDT  8833.26  8844.91  8824.02  8838.83  104.986623\n",
              "4      20200226  2036  BTCUSDT  8838.71  8841.80  8809.09  8812.09  132.453956\n",
              "...         ...   ...      ...      ...      ...      ...      ...         ...\n",
              "17940  20200404   730  BTCUSDT  6716.51  6724.70  6715.94  6721.08   30.712223\n",
              "17941  20200404   733  BTCUSDT  6721.08  6727.50  6719.73  6724.06   44.774862\n",
              "17942  20200404   736  BTCUSDT  6724.06  6727.70  6717.72  6723.80   73.958007\n",
              "17943  20200404   739  BTCUSDT  6723.80  6725.57  6718.11  6723.03   33.266379\n",
              "17944  20200404   742  BTCUSDT  6722.98  6723.99  6720.00  6723.03    5.108476\n",
              "\n",
              "[17945 rows x 8 columns]"
            ]
          },
          "metadata": {
            "tags": []
          },
          "execution_count": 13
        }
      ]
    },
    {
      "cell_type": "code",
      "metadata": {
        "id": "AWgP8hHRNWS4",
        "colab_type": "code",
        "colab": {
          "base_uri": "https://localhost:8080/",
          "height": 236
        },
        "outputId": "8b0f7dff-a688-403a-f5b9-236ec2ddb5f5"
      },
      "source": [
        "!pip install websocket-client"
      ],
      "execution_count": 18,
      "outputs": [
        {
          "output_type": "stream",
          "text": [
            "Collecting websocket-client\n",
            "\u001b[?25l  Downloading https://files.pythonhosted.org/packages/4c/5f/f61b420143ed1c8dc69f9eaec5ff1ac36109d52c80de49d66e0c36c3dfdf/websocket_client-0.57.0-py2.py3-none-any.whl (200kB)\n",
            "\r\u001b[K     |█▋                              | 10kB 18.0MB/s eta 0:00:01\r\u001b[K     |███▎                            | 20kB 1.7MB/s eta 0:00:01\r\u001b[K     |█████                           | 30kB 2.2MB/s eta 0:00:01\r\u001b[K     |██████▌                         | 40kB 1.7MB/s eta 0:00:01\r\u001b[K     |████████▏                       | 51kB 1.9MB/s eta 0:00:01\r\u001b[K     |█████████▉                      | 61kB 2.2MB/s eta 0:00:01\r\u001b[K     |███████████▍                    | 71kB 2.4MB/s eta 0:00:01\r\u001b[K     |█████████████                   | 81kB 2.6MB/s eta 0:00:01\r\u001b[K     |██████████████▊                 | 92kB 2.9MB/s eta 0:00:01\r\u001b[K     |████████████████▎               | 102kB 2.8MB/s eta 0:00:01\r\u001b[K     |██████████████████              | 112kB 2.8MB/s eta 0:00:01\r\u001b[K     |███████████████████▋            | 122kB 2.8MB/s eta 0:00:01\r\u001b[K     |█████████████████████▏          | 133kB 2.8MB/s eta 0:00:01\r\u001b[K     |██████████████████████▉         | 143kB 2.8MB/s eta 0:00:01\r\u001b[K     |████████████████████████▌       | 153kB 2.8MB/s eta 0:00:01\r\u001b[K     |██████████████████████████      | 163kB 2.8MB/s eta 0:00:01\r\u001b[K     |███████████████████████████▊    | 174kB 2.8MB/s eta 0:00:01\r\u001b[K     |█████████████████████████████▍  | 184kB 2.8MB/s eta 0:00:01\r\u001b[K     |███████████████████████████████ | 194kB 2.8MB/s eta 0:00:01\r\u001b[K     |████████████████████████████████| 204kB 2.8MB/s \n",
            "\u001b[?25hRequirement already satisfied: six in /usr/local/lib/python3.6/dist-packages (from websocket-client) (1.12.0)\n",
            "Installing collected packages: websocket-client\n",
            "Successfully installed websocket-client-0.57.0\n"
          ],
          "name": "stdout"
        },
        {
          "output_type": "display_data",
          "data": {
            "application/vnd.colab-display-data+json": {
              "pip_warning": {
                "packages": [
                  "websocket"
                ]
              }
            }
          },
          "metadata": {
            "tags": []
          }
        }
      ]
    },
    {
      "cell_type": "code",
      "metadata": {
        "id": "UdgNZdSnQK2_",
        "colab_type": "code",
        "colab": {}
      },
      "source": [
        "!pip install websocket"
      ],
      "execution_count": 0,
      "outputs": []
    },
    {
      "cell_type": "code",
      "metadata": {
        "id": "wy96q4xAFMCm",
        "colab_type": "code",
        "colab": {
          "base_uri": "https://localhost:8080/",
          "height": 1000
        },
        "outputId": "2c099c99-334b-4ff8-dbc3-a3204a3d3558"
      },
      "source": [
        "\n",
        "import websocket\n",
        "import requests\n",
        "import json\n",
        "\n",
        "# 중요한 값은 상수사용합니다.\n",
        "SYMBOL_LIST_ENDPOINT = \"https://www.bitmex.com/api/v1/instrument/active\"\n",
        "ENDPOINT = 'wss://www.bitmex.com/realtime'\n",
        "\n",
        "def sendRequest(url):\n",
        "    res = requests.get(url)\n",
        "    contents = res.content.decode('utf-8')\n",
        "    # python2에서는 contents = res.content만 적어도 됩니다.\n",
        "    # python2에서는 res.content가 string으로 오지만\n",
        "    # python3에서는 byte로 오기 때문에 디코딩이 필요합니다.\n",
        "\n",
        "    # 대부분의 api는 json으로 반환되기 때문에 곧바로 json 라이브러리를 이용해 로드합니다\n",
        "    json_contents = json.loads(contents)\n",
        "    return json_contents\n",
        "\n",
        "def getBitmexSymbolList(contents):\n",
        "    symbol_list = [\n",
        "          pair['symbol']\n",
        "          for pair in contents\n",
        "         ]\n",
        "    # contents안에 들어있는 각각의 아이템들 중에서\n",
        "    # 키가 symbol인 것들만 리스트에 넣겠다는 뜻\n",
        "\n",
        "    formatted_list = [ 'tradeBin1m:{}'.format(symbol) for symbol in symbol_list]\n",
        "    #  {\"op\":\"subscribe\", \"args\" : []}의 형식이었죠? args에 formatted_list를\n",
        "    #  웹서버로 보내주면 bitmex에서 제공하는 모든 symbol에 대한 OHLCV를 얻을 수 있습니다.\n",
        "\n",
        "    return {\"op\":\"subscribe\", \"args\" : formatted_list}\n",
        "\n",
        "def on_message(ws, message):\n",
        "    print(message)\n",
        "\n",
        "def on_error(ws, error):\n",
        "    print(error)\n",
        "    ws.on_close(ws)\n",
        "\n",
        "def on_close(ws):\n",
        "    print(\"### closed ###\")\n",
        "    ws.close()\n",
        "\n",
        "def on_open(ws):\n",
        "    print(\"### open ###\")\n",
        "    contents = sendRequest(SYMBOL_LIST_ENDPOINT)\n",
        "    symbols = getBitmexSymbolList(contents)\n",
        "    ws.send(json.dumps(symbols))\n",
        "\n",
        "\n",
        "\n",
        "def run(endpoint):\n",
        "    websocket.enableTrace(True)\n",
        "    ws = websocket.WebSocketApp(endpoint,\n",
        "                                on_open = on_open,\n",
        "                                on_message = on_message,\n",
        "                                on_error = on_error,\n",
        "                                on_close = on_close)\n",
        "\n",
        "    ws.run_forever()\n",
        "\n",
        "if __name__ == \"__main__\":\n",
        "    run(ENDPOINT)"
      ],
      "execution_count": 2,
      "outputs": [
        {
          "output_type": "stream",
          "text": [
            "--- request header ---\n",
            "GET /realtime HTTP/1.1\n",
            "Upgrade: websocket\n",
            "Host: www.bitmex.com\n",
            "Origin: http://www.bitmex.com\n",
            "Sec-WebSocket-Key: g0kaNCmN+2/6nxXAkYG7YQ==\n",
            "Sec-WebSocket-Version: 13\n",
            "Connection: upgrade\n",
            "\n",
            "\n",
            "-----------------------\n",
            "--- response header ---\n",
            "HTTP/1.1 101 Switching Protocols\n",
            "Date: Sat, 04 Apr 2020 08:18:45 GMT\n",
            "Connection: upgrade\n",
            "Set-Cookie: AWSALBTG=/gpaMdoM4MgLun0vjgkByvS0ev+tCxgylErI3ESJ/8oqQqmSvEj+zAJ7z0/u6Gsts46ywtjjajatZdRiC1yS1o5sBFao/PYUhdI6xaueun/grMOlkOLkmHDFJovsDzYlIjpvo/yEIzCQAaCj/CL2AXWTVJH1W+m6BwMWWgJB+0YBMApLto8=; Expires=Sat, 11 Apr 2020 08:18:45 GMT; Path=/\n",
            "Set-Cookie: AWSALBTGCORS=/gpaMdoM4MgLun0vjgkByvS0ev+tCxgylErI3ESJ/8oqQqmSvEj+zAJ7z0/u6Gsts46ywtjjajatZdRiC1yS1o5sBFao/PYUhdI6xaueun/grMOlkOLkmHDFJovsDzYlIjpvo/yEIzCQAaCj/CL2AXWTVJH1W+m6BwMWWgJB+0YBMApLto8=; Expires=Sat, 11 Apr 2020 08:18:45 GMT; Path=/; SameSite=None; Secure\n",
            "Set-Cookie: AWSALB=EbhVkhNyGlUo5eAiU4p7G3zN0B8dEoUFqXXZAWtUmZ4gGSJ8zxVx6pwbqYclLhGIQ4+W+/Baz35jd8nG7Hz6UDDlmsG1oXiF+ItXJibniXOGlovDj/pzAmIVguIi; Expires=Sat, 11 Apr 2020 08:18:45 GMT; Path=/\n",
            "Set-Cookie: AWSALBCORS=EbhVkhNyGlUo5eAiU4p7G3zN0B8dEoUFqXXZAWtUmZ4gGSJ8zxVx6pwbqYclLhGIQ4+W+/Baz35jd8nG7Hz6UDDlmsG1oXiF+ItXJibniXOGlovDj/pzAmIVguIi; Expires=Sat, 11 Apr 2020 08:18:45 GMT; Path=/; SameSite=None; Secure\n",
            "Upgrade: websocket\n",
            "Sec-WebSocket-Accept: 5Pi/OUq0qgWJz9RoTLsI9jt16go=\n",
            "Sec-WebSocket-Version: 13\n",
            "WebSocket-Server: uWebSockets\n",
            "Strict-Transport-Security: max-age=31536000; includeSubDomains\n",
            "-----------------------\n"
          ],
          "name": "stderr"
        },
        {
          "output_type": "stream",
          "text": [
            "### open ###\n"
          ],
          "name": "stdout"
        },
        {
          "output_type": "stream",
          "text": [
            "send: b'\\x81\\xfe\\x01\\x19\\xa0\\xec\\xf2\\xbf\\xdb\\xce\\x9d\\xcf\\x82\\xd6\\xd2\\x9d\\xd3\\x99\\x90\\xcc\\xc3\\x9e\\x9b\\xdd\\xc5\\xce\\xde\\x9f\\x82\\x8d\\x80\\xd8\\xd3\\xce\\xc8\\x9f\\xfb\\xce\\x86\\xcd\\xc1\\x88\\x97\\xfd\\xc9\\x82\\xc3\\xd2\\x9a\\xb4\\xa0\\xef\\xed\\xde\\xc2\\x9d\\x8c\\xcc\\xd0\\xcb\\xd2\\x8d\\x96\\xda\\xe2\\x85\\x9c\\x8e\\xcd\\xd6\\xb0\\xfc\\xe8\\xa1\\xc0\\x8f\\x82\\xc0\\xd2\\x9d\\xd4\\x9e\\x93\\xdb\\xc5\\xae\\x9b\\xd1\\x91\\x81\\xc8\\xfe\\xe4\\xad\\xbf\\x8d\\x90\\xce\\xde\\x9f\\x82\\x98\\x80\\xde\\xc4\\x89\\xb0\\xd6\\xce\\xdd\\x9f\\x85\\xe5\\xa3\\xa1\\xf2\\x92\\xdc\\xd0\\x93\\x80\\xce\\x86\\xcd\\xc1\\x88\\x97\\xfd\\xc9\\x82\\xc3\\xd2\\x9a\\xb8\\xa0\\xe7\\xed\\xde\\xc2\\x9d\\x8c\\xcc\\xd0\\xcb\\xd2\\x8d\\x96\\xda\\xe2\\x85\\x9c\\x8e\\xcd\\xd6\\xaa\\xed\\xf0\\xb9\\xa1\\xfb\\x82\\xc0\\xd2\\x9d\\xd4\\x9e\\x93\\xdb\\xc5\\xae\\x9b\\xd1\\x91\\x81\\xc8\\xe7\\xe2\\xb8\\xa7\\xec\\xe4\\xce\\xde\\x9f\\x82\\x98\\x80\\xde\\xc4\\x89\\xb0\\xd6\\xce\\xdd\\x9f\\x85\\xf8\\xae\\xa6\\xf2\\x92\\xdc\\xd0\\x93\\x80\\xce\\x86\\xcd\\xc1\\x88\\x97\\xfd\\xc9\\x82\\xc3\\xd2\\x9a\\xb4\\xb0\\xeb\\xf5\\xde\\xc2\\x9d\\x8c\\xcc\\xd0\\xcb\\xd2\\x8d\\x96\\xda\\xe2\\x85\\x9c\\x8e\\xcd\\xd6\\xb7\\xeb\\xe8\\xb9\\xa1\\xfb\\x82\\xc0\\xd2\\x9d\\xd4\\x9e\\x93\\xdb\\xc5\\xae\\x9b\\xd1\\x91\\x81\\xc8\\xfa\\xf4\\xa4\\xbf\\x8d\\x90\\xce\\xde\\x9f\\x82\\x98\\x80\\xde\\xc4\\x89\\xb0\\xd6\\xce\\xdd\\x9f\\x85\\xec\\xb8\\xb1\\xf2\\x92\\xdc\\xd0\\xe2\\xdd'\n"
          ],
          "name": "stderr"
        },
        {
          "output_type": "stream",
          "text": [
            "{\"info\":\"Welcome to the BitMEX Realtime API.\",\"version\":\"2020-03-25T22:49:58.000Z\",\"timestamp\":\"2020-04-04T08:18:45.172Z\",\"docs\":\"https://www.bitmex.com/app/wsAPI\",\"limit\":{\"remaining\":39}}\n",
            "{\"table\":\"tradeBin1m\",\"action\":\"partial\",\"keys\":[],\"types\":{\"timestamp\":\"timestamp\",\"symbol\":\"symbol\",\"open\":\"float\",\"high\":\"float\",\"low\":\"float\",\"close\":\"float\",\"trades\":\"long\",\"volume\":\"long\",\"vwap\":\"float\",\"lastSize\":\"long\",\"turnover\":\"long\",\"homeNotional\":\"float\",\"foreignNotional\":\"float\"},\"foreignKeys\":{\"symbol\":\"instrument\"},\"attributes\":{\"timestamp\":\"sorted\",\"symbol\":\"grouped\"},\"filter\":{\"symbol\":\"XRPM20\"},\"data\":[{\"timestamp\":\"2020-04-04T08:18:00.000Z\",\"symbol\":\"XRPM20\",\"open\":0.00002664,\"high\":0.00002664,\"low\":0.00002664,\"close\":0.00002664,\"trades\":0,\"volume\":0,\"vwap\":null,\"lastSize\":null,\"turnover\":0,\"homeNotional\":0,\"foreignNotional\":0}]}\n",
            "{\"table\":\"tradeBin1m\",\"action\":\"partial\",\"keys\":[],\"types\":{\"timestamp\":\"timestamp\",\"symbol\":\"symbol\",\"open\":\"float\",\"high\":\"float\",\"low\":\"float\",\"close\":\"float\",\"trades\":\"long\",\"volume\":\"long\",\"vwap\":\"float\",\"lastSize\":\"long\",\"turnover\":\"long\",\"homeNotional\":\"float\",\"foreignNotional\":\"float\"},\"foreignKeys\":{\"symbol\":\"instrument\"},\"attributes\":{\"timestamp\":\"sorted\",\"symbol\":\"grouped\"},\"filter\":{\"symbol\":\"BCHM20\"},\"data\":[{\"timestamp\":\"2020-04-04T08:18:00.000Z\",\"symbol\":\"BCHM20\",\"open\":0.03484,\"high\":0.03484,\"low\":0.03484,\"close\":0.03484,\"trades\":0,\"volume\":0,\"vwap\":null,\"lastSize\":null,\"turnover\":0,\"homeNotional\":0,\"foreignNotional\":0}]}\n",
            "{\"table\":\"tradeBin1m\",\"action\":\"partial\",\"keys\":[],\"types\":{\"timestamp\":\"timestamp\",\"symbol\":\"symbol\",\"open\":\"float\",\"high\":\"float\",\"low\":\"float\",\"close\":\"float\",\"trades\":\"long\",\"volume\":\"long\",\"vwap\":\"float\",\"lastSize\":\"long\",\"turnover\":\"long\",\"homeNotional\":\"float\",\"foreignNotional\":\"float\"},\"foreignKeys\":{\"symbol\":\"instrument\"},\"attributes\":{\"timestamp\":\"sorted\",\"symbol\":\"grouped\"},\"filter\":{\"symbol\":\"ADAM20\"},\"data\":[{\"timestamp\":\"2020-04-04T08:18:00.000Z\",\"symbol\":\"ADAM20\",\"open\":0.00000476,\"high\":0.00000476,\"low\":0.00000476,\"close\":0.00000476,\"trades\":0,\"volume\":0,\"vwap\":null,\"lastSize\":null,\"turnover\":0,\"homeNotional\":0,\"foreignNotional\":0}]}\n",
            "{\"table\":\"tradeBin1m\",\"action\":\"partial\",\"keys\":[],\"types\":{\"timestamp\":\"timestamp\",\"symbol\":\"symbol\",\"open\":\"float\",\"high\":\"float\",\"low\":\"float\",\"close\":\"float\",\"trades\":\"long\",\"volume\":\"long\",\"vwap\":\"float\",\"lastSize\":\"long\",\"turnover\":\"long\",\"homeNotional\":\"float\",\"foreignNotional\":\"float\"},\"foreignKeys\":{\"symbol\":\"instrument\"},\"attributes\":{\"timestamp\":\"sorted\",\"symbol\":\"grouped\"},\"filter\":{\"symbol\":\"EOSM20\"},\"data\":[{\"timestamp\":\"2020-04-04T08:18:00.000Z\",\"symbol\":\"EOSM20\",\"open\":0.0003428,\"high\":0.0003428,\"low\":0.0003423,\"close\":0.0003423,\"trades\":4,\"volume\":500,\"vwap\":0.00034257,\"lastSize\":199,\"turnover\":17128050,\"homeNotional\":500,\"foreignNotional\":0.1712805}]}\n",
            "{\"table\":\"tradeBin1m\",\"action\":\"partial\",\"keys\":[],\"types\":{\"timestamp\":\"timestamp\",\"symbol\":\"symbol\",\"open\":\"float\",\"high\":\"float\",\"low\":\"float\",\"close\":\"float\",\"trades\":\"long\",\"volume\":\"long\",\"vwap\":\"float\",\"lastSize\":\"long\",\"turnover\":\"long\",\"homeNotional\":\"float\",\"foreignNotional\":\"float\"},\"foreignKeys\":{\"symbol\":\"instrument\"},\"attributes\":{\"timestamp\":\"sorted\",\"symbol\":\"grouped\"},\"filter\":{\"symbol\":\"TRXM20\"},\"data\":[{\"timestamp\":\"2020-04-04T08:18:00.000Z\",\"symbol\":\"TRXM20\",\"open\":0.00000177,\"high\":0.00000177,\"low\":0.00000177,\"close\":0.00000177,\"trades\":0,\"volume\":0,\"vwap\":null,\"lastSize\":null,\"turnover\":0,\"homeNotional\":0,\"foreignNotional\":0}]}\n",
            "{\"table\":\"tradeBin1m\",\"action\":\"partial\",\"keys\":[],\"types\":{\"timestamp\":\"timestamp\",\"symbol\":\"symbol\",\"open\":\"float\",\"high\":\"float\",\"low\":\"float\",\"close\":\"float\",\"trades\":\"long\",\"volume\":\"long\",\"vwap\":\"float\",\"lastSize\":\"long\",\"turnover\":\"long\",\"homeNotional\":\"float\",\"foreignNotional\":\"float\"},\"foreignKeys\":{\"symbol\":\"instrument\"},\"attributes\":{\"timestamp\":\"sorted\",\"symbol\":\"grouped\"},\"filter\":{\"symbol\":\"XRPUSD\"},\"data\":[{\"timestamp\":\"2020-04-04T08:18:00.000Z\",\"symbol\":\"XRPUSD\",\"open\":0.1799,\"high\":0.1798,\"low\":0.1797,\"close\":0.1797,\"trades\":21,\"volume\":42785,\"vwap\":0.1798,\"lastSize\":100,\"turnover\":153854660,\"homeNotional\":57884.01941312609,\"foreignNotional\":10407.533165086144}]}\n",
            "{\"table\":\"tradeBin1m\",\"action\":\"partial\",\"keys\":[],\"types\":{\"timestamp\":\"timestamp\",\"symbol\":\"symbol\",\"open\":\"float\",\"high\":\"float\",\"low\":\"float\",\"close\":\"float\",\"trades\":\"long\",\"volume\":\"long\",\"vwap\":\"float\",\"lastSize\":\"long\",\"turnover\":\"long\",\"homeNotional\":\"float\",\"foreignNotional\":\"float\"},\"foreignKeys\":{\"symbol\":\"instrument\"},\"attributes\":{\"timestamp\":\"sorted\",\"symbol\":\"grouped\"},\"filter\":{\"symbol\":\"XBTUSD\"},\"data\":[{\"timestamp\":\"2020-04-04T08:18:00.000Z\",\"symbol\":\"XBTUSD\",\"open\":6763.5,\"high\":6763.5,\"low\":6760,\"close\":6760,\"trades\":261,\"volume\":709996,\"vwap\":6761.7824,\"lastSize\":506,\"turnover\":10500716164,\"homeNotional\":105.00716163999999,\"foreignNotional\":709996}]}\n",
            "{\"table\":\"tradeBin1m\",\"action\":\"partial\",\"keys\":[],\"types\":{\"timestamp\":\"timestamp\",\"symbol\":\"symbol\",\"open\":\"float\",\"high\":\"float\",\"low\":\"float\",\"close\":\"float\",\"trades\":\"long\",\"volume\":\"long\",\"vwap\":\"float\",\"lastSize\":\"long\",\"turnover\":\"long\",\"homeNotional\":\"float\",\"foreignNotional\":\"float\"},\"foreignKeys\":{\"symbol\":\"instrument\"},\"attributes\":{\"timestamp\":\"sorted\",\"symbol\":\"grouped\"},\"filter\":{\"symbol\":\"XBTM20\"},\"data\":[{\"timestamp\":\"2020-04-04T08:18:00.000Z\",\"symbol\":\"XBTM20\",\"open\":6740.5,\"high\":6740.5,\"low\":6740,\"close\":6740,\"trades\":9,\"volume\":11451,\"vwap\":6740.3613,\"lastSize\":2000,\"turnover\":169898486,\"homeNotional\":1.69898486,\"foreignNotional\":11451}]}\n",
            "{\"table\":\"tradeBin1m\",\"action\":\"partial\",\"keys\":[],\"types\":{\"timestamp\":\"timestamp\",\"symbol\":\"symbol\",\"open\":\"float\",\"high\":\"float\",\"low\":\"float\",\"close\":\"float\",\"trades\":\"long\",\"volume\":\"long\",\"vwap\":\"float\",\"lastSize\":\"long\",\"turnover\":\"long\",\"homeNotional\":\"float\",\"foreignNotional\":\"float\"},\"foreignKeys\":{\"symbol\":\"instrument\"},\"attributes\":{\"timestamp\":\"sorted\",\"symbol\":\"grouped\"},\"filter\":{\"symbol\":\"XBTU20\"},\"data\":[{\"timestamp\":\"2020-04-04T08:18:00.000Z\",\"symbol\":\"XBTU20\",\"open\":6729,\"high\":6728.5,\"low\":6728.5,\"close\":6728.5,\"trades\":9,\"volume\":648,\"vwap\":6728.5,\"lastSize\":500,\"turnover\":9630576,\"homeNotional\":0.09630576,\"foreignNotional\":648}]}\n",
            "{\"table\":\"tradeBin1m\",\"action\":\"partial\",\"keys\":[],\"types\":{\"timestamp\":\"timestamp\",\"symbol\":\"symbol\",\"open\":\"float\",\"high\":\"float\",\"low\":\"float\",\"close\":\"float\",\"trades\":\"long\",\"volume\":\"long\",\"vwap\":\"float\",\"lastSize\":\"long\",\"turnover\":\"long\",\"homeNotional\":\"float\",\"foreignNotional\":\"float\"},\"foreignKeys\":{\"symbol\":\"instrument\"},\"attributes\":{\"timestamp\":\"sorted\",\"symbol\":\"grouped\"},\"filter\":{\"symbol\":\"ETHUSD\"},\"data\":[{\"timestamp\":\"2020-04-04T08:18:00.000Z\",\"symbol\":\"ETHUSD\",\"open\":142.05,\"high\":142.05,\"low\":141.9,\"close\":141.9,\"trades\":64,\"volume\":131926,\"vwap\":142,\"lastSize\":3835,\"turnover\":1873264515,\"homeNotional\":892.2382505413943,\"foreignNotional\":126692.10572146626}]}\n",
            "{\"table\":\"tradeBin1m\",\"action\":\"partial\",\"keys\":[],\"types\":{\"timestamp\":\"timestamp\",\"symbol\":\"symbol\",\"open\":\"float\",\"high\":\"float\",\"low\":\"float\",\"close\":\"float\",\"trades\":\"long\",\"volume\":\"long\",\"vwap\":\"float\",\"lastSize\":\"long\",\"turnover\":\"long\",\"homeNotional\":\"float\",\"foreignNotional\":\"float\"},\"foreignKeys\":{\"symbol\":\"instrument\"},\"attributes\":{\"timestamp\":\"sorted\",\"symbol\":\"grouped\"},\"filter\":{\"symbol\":\"ETHM20\"},\"data\":[{\"timestamp\":\"2020-04-04T08:18:00.000Z\",\"symbol\":\"ETHM20\",\"open\":0.02098,\"high\":0.02098,\"low\":0.02098,\"close\":0.02098,\"trades\":0,\"volume\":0,\"vwap\":null,\"lastSize\":null,\"turnover\":0,\"homeNotional\":0,\"foreignNotional\":0}]}\n",
            "{\"success\":true,\"subscribe\":\"tradeBin1m:XRPM20\",\"request\":{\"op\":\"subscribe\",\"args\":[\"tradeBin1m:XRPM20\",\"tradeBin1m:BCHM20\",\"tradeBin1m:ADAM20\",\"tradeBin1m:EOSM20\",\"tradeBin1m:TRXM20\",\"tradeBin1m:XRPUSD\",\"tradeBin1m:XBTUSD\",\"tradeBin1m:XBTM20\",\"tradeBin1m:XBTU20\",\"tradeBin1m:ETHUSD\",\"tradeBin1m:ETHM20\",\"tradeBin1m:LTCM20\"]}}\n",
            "{\"success\":true,\"subscribe\":\"tradeBin1m:BCHM20\",\"request\":{\"op\":\"subscribe\",\"args\":[\"tradeBin1m:XRPM20\",\"tradeBin1m:BCHM20\",\"tradeBin1m:ADAM20\",\"tradeBin1m:EOSM20\",\"tradeBin1m:TRXM20\",\"tradeBin1m:XRPUSD\",\"tradeBin1m:XBTUSD\",\"tradeBin1m:XBTM20\",\"tradeBin1m:XBTU20\",\"tradeBin1m:ETHUSD\",\"tradeBin1m:ETHM20\",\"tradeBin1m:LTCM20\"]}}\n",
            "{\"success\":true,\"subscribe\":\"tradeBin1m:ADAM20\",\"request\":{\"op\":\"subscribe\",\"args\":[\"tradeBin1m:XRPM20\",\"tradeBin1m:BCHM20\",\"tradeBin1m:ADAM20\",\"tradeBin1m:EOSM20\",\"tradeBin1m:TRXM20\",\"tradeBin1m:XRPUSD\",\"tradeBin1m:XBTUSD\",\"tradeBin1m:XBTM20\",\"tradeBin1m:XBTU20\",\"tradeBin1m:ETHUSD\",\"tradeBin1m:ETHM20\",\"tradeBin1m:LTCM20\"]}}\n",
            "{\"success\":true,\"subscribe\":\"tradeBin1m:EOSM20\",\"request\":{\"op\":\"subscribe\",\"args\":[\"tradeBin1m:XRPM20\",\"tradeBin1m:BCHM20\",\"tradeBin1m:ADAM20\",\"tradeBin1m:EOSM20\",\"tradeBin1m:TRXM20\",\"tradeBin1m:XRPUSD\",\"tradeBin1m:XBTUSD\",\"tradeBin1m:XBTM20\",\"tradeBin1m:XBTU20\",\"tradeBin1m:ETHUSD\",\"tradeBin1m:ETHM20\",\"tradeBin1m:LTCM20\"]}}\n",
            "{\"success\":true,\"subscribe\":\"tradeBin1m:TRXM20\",\"request\":{\"op\":\"subscribe\",\"args\":[\"tradeBin1m:XRPM20\",\"tradeBin1m:BCHM20\",\"tradeBin1m:ADAM20\",\"tradeBin1m:EOSM20\",\"tradeBin1m:TRXM20\",\"tradeBin1m:XRPUSD\",\"tradeBin1m:XBTUSD\",\"tradeBin1m:XBTM20\",\"tradeBin1m:XBTU20\",\"tradeBin1m:ETHUSD\",\"tradeBin1m:ETHM20\",\"tradeBin1m:LTCM20\"]}}\n",
            "{\"success\":true,\"subscribe\":\"tradeBin1m:XRPUSD\",\"request\":{\"op\":\"subscribe\",\"args\":[\"tradeBin1m:XRPM20\",\"tradeBin1m:BCHM20\",\"tradeBin1m:ADAM20\",\"tradeBin1m:EOSM20\",\"tradeBin1m:TRXM20\",\"tradeBin1m:XRPUSD\",\"tradeBin1m:XBTUSD\",\"tradeBin1m:XBTM20\",\"tradeBin1m:XBTU20\",\"tradeBin1m:ETHUSD\",\"tradeBin1m:ETHM20\",\"tradeBin1m:LTCM20\"]}}\n",
            "{\"success\":true,\"subscribe\":\"tradeBin1m:XBTUSD\",\"request\":{\"op\":\"subscribe\",\"args\":[\"tradeBin1m:XRPM20\",\"tradeBin1m:BCHM20\",\"tradeBin1m:ADAM20\",\"tradeBin1m:EOSM20\",\"tradeBin1m:TRXM20\",\"tradeBin1m:XRPUSD\",\"tradeBin1m:XBTUSD\",\"tradeBin1m:XBTM20\",\"tradeBin1m:XBTU20\",\"tradeBin1m:ETHUSD\",\"tradeBin1m:ETHM20\",\"tradeBin1m:LTCM20\"]}}\n",
            "{\"success\":true,\"subscribe\":\"tradeBin1m:XBTM20\",\"request\":{\"op\":\"subscribe\",\"args\":[\"tradeBin1m:XRPM20\",\"tradeBin1m:BCHM20\",\"tradeBin1m:ADAM20\",\"tradeBin1m:EOSM20\",\"tradeBin1m:TRXM20\",\"tradeBin1m:XRPUSD\",\"tradeBin1m:XBTUSD\",\"tradeBin1m:XBTM20\",\"tradeBin1m:XBTU20\",\"tradeBin1m:ETHUSD\",\"tradeBin1m:ETHM20\",\"tradeBin1m:LTCM20\"]}}\n",
            "{\"success\":true,\"subscribe\":\"tradeBin1m:XBTU20\",\"request\":{\"op\":\"subscribe\",\"args\":[\"tradeBin1m:XRPM20\",\"tradeBin1m:BCHM20\",\"tradeBin1m:ADAM20\",\"tradeBin1m:EOSM20\",\"tradeBin1m:TRXM20\",\"tradeBin1m:XRPUSD\",\"tradeBin1m:XBTUSD\",\"tradeBin1m:XBTM20\",\"tradeBin1m:XBTU20\",\"tradeBin1m:ETHUSD\",\"tradeBin1m:ETHM20\",\"tradeBin1m:LTCM20\"]}}\n",
            "{\"success\":true,\"subscribe\":\"tradeBin1m:ETHUSD\",\"request\":{\"op\":\"subscribe\",\"args\":[\"tradeBin1m:XRPM20\",\"tradeBin1m:BCHM20\",\"tradeBin1m:ADAM20\",\"tradeBin1m:EOSM20\",\"tradeBin1m:TRXM20\",\"tradeBin1m:XRPUSD\",\"tradeBin1m:XBTUSD\",\"tradeBin1m:XBTM20\",\"tradeBin1m:XBTU20\",\"tradeBin1m:ETHUSD\",\"tradeBin1m:ETHM20\",\"tradeBin1m:LTCM20\"]}}\n",
            "{\"success\":true,\"subscribe\":\"tradeBin1m:ETHM20\",\"request\":{\"op\":\"subscribe\",\"args\":[\"tradeBin1m:XRPM20\",\"tradeBin1m:BCHM20\",\"tradeBin1m:ADAM20\",\"tradeBin1m:EOSM20\",\"tradeBin1m:TRXM20\",\"tradeBin1m:XRPUSD\",\"tradeBin1m:XBTUSD\",\"tradeBin1m:XBTM20\",\"tradeBin1m:XBTU20\",\"tradeBin1m:ETHUSD\",\"tradeBin1m:ETHM20\",\"tradeBin1m:LTCM20\"]}}\n",
            "{\"success\":true,\"subscribe\":\"tradeBin1m:LTCM20\",\"request\":{\"op\":\"subscribe\",\"args\":[\"tradeBin1m:XRPM20\",\"tradeBin1m:BCHM20\",\"tradeBin1m:ADAM20\",\"tradeBin1m:EOSM20\",\"tradeBin1m:TRXM20\",\"tradeBin1m:XRPUSD\",\"tradeBin1m:XBTUSD\",\"tradeBin1m:XBTM20\",\"tradeBin1m:XBTU20\",\"tradeBin1m:ETHUSD\",\"tradeBin1m:ETHM20\",\"tradeBin1m:LTCM20\"]}}\n",
            "{\"table\":\"tradeBin1m\",\"action\":\"partial\",\"keys\":[],\"types\":{\"timestamp\":\"timestamp\",\"symbol\":\"symbol\",\"open\":\"float\",\"high\":\"float\",\"low\":\"float\",\"close\":\"float\",\"trades\":\"long\",\"volume\":\"long\",\"vwap\":\"float\",\"lastSize\":\"long\",\"turnover\":\"long\",\"homeNotional\":\"float\",\"foreignNotional\":\"float\"},\"foreignKeys\":{\"symbol\":\"instrument\"},\"attributes\":{\"timestamp\":\"sorted\",\"symbol\":\"grouped\"},\"filter\":{\"symbol\":\"LTCM20\"},\"data\":[{\"timestamp\":\"2020-04-04T08:18:00.000Z\",\"symbol\":\"LTCM20\",\"open\":0.005935,\"high\":0.005935,\"low\":0.005935,\"close\":0.005935,\"trades\":0,\"volume\":0,\"vwap\":null,\"lastSize\":null,\"turnover\":0,\"homeNotional\":0,\"foreignNotional\":0}]}\n"
          ],
          "name": "stdout"
        },
        {
          "output_type": "stream",
          "text": [
            "send: b'\\x88\\x82\\xf6\\xe4\\xa4\\x89\\xf5\\x0c'\n"
          ],
          "name": "stderr"
        },
        {
          "output_type": "stream",
          "text": [
            "\n",
            "### closed ###\n",
            "### closed ###\n"
          ],
          "name": "stdout"
        }
      ]
    },
    {
      "cell_type": "code",
      "metadata": {
        "id": "tLX2vUQ3NUuL",
        "colab_type": "code",
        "colab": {}
      },
      "source": [
        ""
      ],
      "execution_count": 0,
      "outputs": []
    }
  ]
}
