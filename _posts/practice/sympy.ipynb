{
  "nbformat": 4,
  "nbformat_minor": 0,
  "metadata": {
    "colab": {
      "name": "sympy.ipynb",
      "provenance": [],
      "collapsed_sections": [],
      "authorship_tag": "ABX9TyNbA/lphBUhz1aZ8ZP6WvTf",
      "include_colab_link": true
    },
    "kernelspec": {
      "name": "python3",
      "display_name": "Python 3"
    }
  },
  "cells": [
    {
      "cell_type": "markdown",
      "metadata": {
        "id": "view-in-github",
        "colab_type": "text"
      },
      "source": [
        "<a href=\"https://colab.research.google.com/github/silverstar0727/study-/blob/master/_posts/practice/sympy.ipynb\" target=\"_parent\"><img src=\"https://colab.research.google.com/assets/colab-badge.svg\" alt=\"Open In Colab\"/></a>"
      ]
    },
    {
      "cell_type": "code",
      "metadata": {
        "id": "jf5-6D6-LVWK",
        "colab_type": "code",
        "outputId": "b1b2e970-8144-4ae9-e20f-d14920d46ee8",
        "colab": {
          "base_uri": "https://localhost:8080/",
          "height": 53
        }
      },
      "source": [
        "!pip install sympy"
      ],
      "execution_count": 0,
      "outputs": [
        {
          "output_type": "stream",
          "text": [
            "Requirement already satisfied: sympy in /usr/local/lib/python3.6/dist-packages (1.1.1)\n",
            "Requirement already satisfied: mpmath>=0.19 in /usr/local/lib/python3.6/dist-packages (from sympy) (1.1.0)\n"
          ],
          "name": "stdout"
        }
      ]
    },
    {
      "cell_type": "code",
      "metadata": {
        "id": "6HK0Wh31LanE",
        "colab_type": "code",
        "outputId": "e3c555fc-9909-47e3-b6a6-2ec95651dff9",
        "colab": {
          "base_uri": "https://localhost:8080/",
          "height": 35
        }
      },
      "source": [
        "from sympy import *\n",
        "\n",
        "x,y = symbols('x y')\n",
        "expr = x + 2 * y\n",
        "expr"
      ],
      "execution_count": 0,
      "outputs": [
        {
          "output_type": "execute_result",
          "data": {
            "text/plain": [
              "x + 2*y"
            ]
          },
          "metadata": {
            "tags": []
          },
          "execution_count": 3
        }
      ]
    },
    {
      "cell_type": "code",
      "metadata": {
        "id": "0zVwxn50LnGF",
        "colab_type": "code",
        "outputId": "76fcf08a-7e27-47a1-dab0-4807adb11a84",
        "colab": {
          "base_uri": "https://localhost:8080/",
          "height": 35
        }
      },
      "source": [
        "expanded_expr = expand(x * expr)\n",
        "expanded_expr"
      ],
      "execution_count": 0,
      "outputs": [
        {
          "output_type": "execute_result",
          "data": {
            "text/plain": [
              "x**2 + 2*x*y"
            ]
          },
          "metadata": {
            "tags": []
          },
          "execution_count": 5
        }
      ]
    },
    {
      "cell_type": "code",
      "metadata": {
        "id": "vrk-UxrpLvN4",
        "colab_type": "code",
        "outputId": "7427fe6b-d132-41b5-b2d0-a1a1abebbcce",
        "colab": {
          "base_uri": "https://localhost:8080/",
          "height": 35
        }
      },
      "source": [
        "factor(expanded_expr)"
      ],
      "execution_count": 0,
      "outputs": [
        {
          "output_type": "execute_result",
          "data": {
            "text/plain": [
              "x*(x + 2*y)"
            ]
          },
          "metadata": {
            "tags": []
          },
          "execution_count": 6
        }
      ]
    },
    {
      "cell_type": "code",
      "metadata": {
        "id": "PrRshOAHL0eC",
        "colab_type": "code",
        "colab": {}
      },
      "source": [
        "x, t, z, nu = symbols('x t z nu')"
      ],
      "execution_count": 0,
      "outputs": []
    },
    {
      "cell_type": "code",
      "metadata": {
        "id": "2qEe38uJL988",
        "colab_type": "code",
        "colab": {}
      },
      "source": [
        "init_printing(use_unicode = True)"
      ],
      "execution_count": 0,
      "outputs": []
    },
    {
      "cell_type": "code",
      "metadata": {
        "id": "KKkDyIlGMCr_",
        "colab_type": "code",
        "outputId": "5acd2de1-a6a5-4212-9997-b0893f474296",
        "colab": {
          "base_uri": "https://localhost:8080/",
          "height": 53
        }
      },
      "source": [
        "pprint(diff(sin(x) * exp(x), x))"
      ],
      "execution_count": 0,
      "outputs": [
        {
          "output_type": "stream",
          "text": [
            " x           x       \n",
            "ℯ ⋅sin(x) + ℯ ⋅cos(x)\n"
          ],
          "name": "stdout"
        }
      ]
    },
    {
      "cell_type": "code",
      "metadata": {
        "id": "XO70yLPOMHXP",
        "colab_type": "code",
        "outputId": "d09afe96-3f3b-42b0-c28d-89d05eee832a",
        "colab": {
          "base_uri": "https://localhost:8080/",
          "height": 53
        }
      },
      "source": [
        "pprint(integrate(exp(x)*sin(x) + exp(x)*cos(x), x))"
      ],
      "execution_count": 0,
      "outputs": [
        {
          "output_type": "stream",
          "text": [
            " x       \n",
            "ℯ ⋅sin(x)\n"
          ],
          "name": "stdout"
        }
      ]
    },
    {
      "cell_type": "code",
      "metadata": {
        "id": "RSIWGYmnSZoQ",
        "colab_type": "code",
        "outputId": "3ec41e54-3c91-4d71-e6fc-57f7e6d3e2d3",
        "colab": {
          "base_uri": "https://localhost:8080/",
          "height": 71
        }
      },
      "source": [
        "pprint(integrate(sin(x**2), (x, -oo, oo)))"
      ],
      "execution_count": 0,
      "outputs": [
        {
          "output_type": "stream",
          "text": [
            "√2⋅√π\n",
            "─────\n",
            "  2  \n"
          ],
          "name": "stdout"
        }
      ]
    },
    {
      "cell_type": "code",
      "metadata": {
        "id": "KzqDLGNZSmkJ",
        "colab_type": "code",
        "outputId": "2b222275-efc3-4293-c786-8e1a5e86b127",
        "colab": {
          "base_uri": "https://localhost:8080/",
          "height": 71
        }
      },
      "source": [
        "pprint(dsolve (Eq (y (t) .diff (t, t)-y (t), exp (t)), y (t)))"
      ],
      "execution_count": 0,
      "outputs": [
        {
          "output_type": "stream",
          "text": [
            "           -t   ⎛     t⎞  t\n",
            "y(t) = C₂⋅ℯ   + ⎜C₁ + ─⎟⋅ℯ \n",
            "                ⎝     2⎠   \n"
          ],
          "name": "stdout"
        }
      ]
    },
    {
      "cell_type": "code",
      "metadata": {
        "id": "oD1jFhd-S3qS",
        "colab_type": "code",
        "colab": {}
      },
      "source": [
        ""
      ],
      "execution_count": 0,
      "outputs": []
    }
  ]
}