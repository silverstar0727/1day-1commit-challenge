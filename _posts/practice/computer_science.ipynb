{
  "nbformat": 4,
  "nbformat_minor": 0,
  "metadata": {
    "colab": {
      "name": "computer_science.ipynb",
      "provenance": [],
      "collapsed_sections": [],
      "authorship_tag": "ABX9TyPC/wnJJocUnaGd6lNkpfr3",
      "include_colab_link": true
    },
    "kernelspec": {
      "name": "python3",
      "display_name": "Python 3"
    }
  },
  "cells": [
    {
      "cell_type": "markdown",
      "metadata": {
        "id": "view-in-github",
        "colab_type": "text"
      },
      "source": [
        "<a href=\"https://colab.research.google.com/github/silverstar0727/study-/blob/master/_posts/practice/computer_science.ipynb\" target=\"_parent\"><img src=\"https://colab.research.google.com/assets/colab-badge.svg\" alt=\"Open In Colab\"/></a>"
      ]
    },
    {
      "cell_type": "code",
      "metadata": {
        "id": "o0Lm292EO1Pd",
        "colab_type": "code",
        "outputId": "9db23537-1da1-4e0a-bc4f-08f775abcc18",
        "colab": {
          "base_uri": "https://localhost:8080/",
          "height": 107
        }
      },
      "source": [
        "price = int(input('물건 값을 입력하시오: '))\n",
        "pay_1000 = int(input('천원 지폐개수: ')) * 1000\n",
        "pay_500 = int(input('500원 동전 개수: ')) * 500\n",
        "pay_100 = int(input('100원 동전 개수: ')) * 100\n",
        "\n",
        "pay = pay_1000 + pay_500 + pay_100\n",
        "\n",
        "changes = pay - price\n",
        "\n",
        "if changes > 0:\n",
        "  a = int(changes / 500)\n",
        "  b = int((changes - (500 * a)) / 100)\n",
        "  c = int((changes - (500 * a) - (100 * b)) / 10)\n",
        "  d = int((changes - (500 * a) - (100 * b) - (10 * c)))\n",
        "\n",
        "  print('거스름돈: 500원 = %d 100원 = %d 10원 = %d, 1원 = %d' %(a,b,c,d))  \n",
        "\n",
        "else:\n",
        "  print('넣은금액이 적음')"
      ],
      "execution_count": 0,
      "outputs": [
        {
          "output_type": "stream",
          "text": [
            "물건 값을 입력하시오: 750\n",
            "천원 지폐개수: 1\n",
            "500원 동전 개수: 0\n",
            "100원 동전 개수: 0\n",
            "거스름돈: 500원 = 0 100원 = 2 10원 = 5, 1원 = 0\n"
          ],
          "name": "stdout"
        }
      ]
    },
    {
      "cell_type": "code",
      "metadata": {
        "id": "pKd2HtTsZJT0",
        "colab_type": "code",
        "colab": {}
      },
      "source": [
        ""
      ],
      "execution_count": 0,
      "outputs": []
    }
  ]
}