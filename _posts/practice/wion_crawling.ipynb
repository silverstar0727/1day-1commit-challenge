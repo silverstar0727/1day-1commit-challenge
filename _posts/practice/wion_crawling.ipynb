{
  "nbformat": 4,
  "nbformat_minor": 0,
  "metadata": {
    "colab": {
      "name": "wion crawling.ipynb",
      "provenance": [],
      "collapsed_sections": [],
      "mount_file_id": "1noXsF9TgFP2rO45rckAFErIrcikz66Iw",
      "authorship_tag": "ABX9TyOtR8UKs7cveVvXD8Ccwq5d",
      "include_colab_link": true
    },
    "kernelspec": {
      "name": "python3",
      "display_name": "Python 3"
    }
  },
  "cells": [
    {
      "cell_type": "markdown",
      "metadata": {
        "id": "view-in-github",
        "colab_type": "text"
      },
      "source": [
        "<a href=\"https://colab.research.google.com/github/silverstar0727/study-/blob/master/wion_crawling.ipynb\" target=\"_parent\"><img src=\"https://colab.research.google.com/assets/colab-badge.svg\" alt=\"Open In Colab\"/></a>"
      ]
    },
    {
      "cell_type": "markdown",
      "metadata": {
        "id": "0xcVlRPkzIb9",
        "colab_type": "text"
      },
      "source": [
        "## 요청과 응답\n",
        "####요청\n",
        "url = 'http://companyinfo.stock.naver.com/v1/company/cF3002.aspx?cmp_cd=005930&frq=0&rpt=0&finGubun=MAIN&frqTyp=0&cn=&encparam=SjBwNnVnakw3a1lmZ1BUVFdKcFdPUT09'\n",
        "* cmp_cd (종목코드): '005930'=삼성전자\n",
        "* frq (기간): '0'=연간, '1'=분기\n",
        "* rpt (종류): '0'=손익계산서, '1'=재무상태표, '2'=현금흐름표\n",
        "* finGubun (구분): 'MAIN'=주재무제표, 'IFRSS'=IFRS분리, 'IFRSL'=IFRS연결, 'GAAPS'=GAAP개별, 'GAAPL'=GAAP연결\n",
        "* frqTyp (기간): '0'=연간, '1'=분기 (frq와 동일)\n",
        "* cn (미사용)\n",
        "* encparam: 암호화된 정보 (페이지에 포함)"
      ]
    },
    {
      "cell_type": "code",
      "metadata": {
        "id": "TZP7XBNLzHHX",
        "colab_type": "code",
        "colab": {}
      },
      "source": [
        "# 네이버 파이낸스 제무제표 상세\n",
        "\n",
        "import re\n",
        "import requests\n",
        "import json\n",
        "import pandas as pd\n",
        "from pandas.io.json import json_normalize\n",
        "\n",
        "def naver_finstate_detail(cmp_cd, rpt='0', frq='1', finGubun='IFRS'):\n",
        "    '''\n",
        "    네이버 파이낸스로 부터 상세재무제표를 읽어온다\n",
        "    * cmp_cd:  # 종목코드: '005930'\n",
        "    * rpt='0' # 종류: '0'=손익계산서(기본값), '1'=재무상태표, '2'=현금흐름표\n",
        "    * frq='1' # 기간: '0'=연간, '1'=분기(기본값)\n",
        "    * finGubun='IFRSL' # 구분: 'MAIN'=주재무제표, 'IFRSS'=KIFRS별도, 'IFRSL'=IFRS연결(기본값), 'GAAPS'=GAAP개별, 'GAAPL'=GAAP연결\n",
        "    '''\n",
        "\n",
        "    # encparam 가져오기\n",
        "    url = 'http://companyinfo.stock.naver.com/v1/company/c1030001.aspx?cmp_cd=005930'\n",
        "    html_text = requests.get(url).text\n",
        "    encparam = re.findall (\"encparam: '(.*?)'\", html_text)[0]\n",
        "\n",
        "    url_tmpl = 'http://companyinfo.stock.naver.com/v1/company/cF3002.aspx?' \\\n",
        "                    'cmp_cd={cmp_cd}&frq={frq}&rpt={rpt}&finGubun={finGubun}&frqTyp={frq}&cn=&encparam={encparam}'  \n",
        "\n",
        "    url = url_tmpl.format(cmp_cd=cmp_cd, frq=frq, rpt=rpt, finGubun=finGubun, frqTyp=frq, encparam=encparam)\n",
        "\n",
        "    # 페이지 가져오기\n",
        "    headers={'Referer': url}\n",
        "    jo = json.loads(requests.get(url, headers=headers).text)\n",
        "    \n",
        "    # DataFrame 생성\n",
        "    df = json_normalize(jo, 'DATA')\n",
        "\n",
        "    # DATA1~DATA6 컬럼 이름 바꾸기 \n",
        "    jo_yymm = jo['YYMM'][:6]\n",
        "    date_str_list = []\n",
        "    for yymm in jo_yymm:\n",
        "        m = re.search('(\\d{4}/\\d{0,2}).*', yymm)\n",
        "        date_str_list.append(m.group(1) if m else '') \n",
        "    data_n_list = ['DATA' + str(i) for i in range(1,7)]\n",
        "    yymm_cols = zip(data_n_list, date_str_list)\n",
        "    cols_map = dict(yymm_cols)\n",
        "    df.rename(columns=cols_map, inplace=True)\n",
        "    df['ACC_NM'] = df['ACC_NM'].str.strip().replace('[\\.*\\[\\]]', '', regex=True)\n",
        "    df.set_index(['ACCODE', 'ACC_NM'], inplace=True)\n",
        "    df = df.iloc[:, 5:10] # 날짜 컬럼만 추출\n",
        "    df = df.T # Transpose (컬럼, 인덱스 바꾸기)\n",
        "    df.index = pd.to_datetime(df.index)\n",
        "    df.index.name = '날짜'\n",
        "    return df"
      ],
      "execution_count": null,
      "outputs": []
    },
    {
      "cell_type": "code",
      "metadata": {
        "id": "6XZtN1DmzG0g",
        "colab_type": "code",
        "colab": {
          "base_uri": "https://localhost:8080/",
          "height": 54
        },
        "outputId": "b2ba3dee-87b6-4148-ba20-5ac6cacd6b4b"
      },
      "source": [
        "IS = naver_finstate_detail('005930', rpt='0', frq='0')"
      ],
      "execution_count": null,
      "outputs": [
        {
          "output_type": "stream",
          "text": [
            "/usr/local/lib/python3.6/dist-packages/ipykernel_launcher.py:32: FutureWarning: pandas.io.json.json_normalize is deprecated, use pandas.json_normalize instead\n"
          ],
          "name": "stderr"
        }
      ]
    },
    {
      "cell_type": "code",
      "metadata": {
        "id": "UUmc5A7bzGyX",
        "colab_type": "code",
        "colab": {
          "base_uri": "https://localhost:8080/",
          "height": 54
        },
        "outputId": "e046fc2c-730d-4da4-9c3a-82ed613091d9"
      },
      "source": [
        "BS = naver_finstate_detail('005930', rpt='1', frq='0')"
      ],
      "execution_count": null,
      "outputs": [
        {
          "output_type": "stream",
          "text": [
            "/usr/local/lib/python3.6/dist-packages/ipykernel_launcher.py:32: FutureWarning: pandas.io.json.json_normalize is deprecated, use pandas.json_normalize instead\n"
          ],
          "name": "stderr"
        }
      ]
    },
    {
      "cell_type": "code",
      "metadata": {
        "id": "r1yCeuz5zGwC",
        "colab_type": "code",
        "colab": {
          "base_uri": "https://localhost:8080/",
          "height": 54
        },
        "outputId": "97521a8e-0a10-46a5-f583-65b65705e3e3"
      },
      "source": [
        "CF = naver_finstate_detail('005930', rpt='2', frq='0')"
      ],
      "execution_count": null,
      "outputs": [
        {
          "output_type": "stream",
          "text": [
            "/usr/local/lib/python3.6/dist-packages/ipykernel_launcher.py:32: FutureWarning: pandas.io.json.json_normalize is deprecated, use pandas.json_normalize instead\n"
          ],
          "name": "stderr"
        }
      ]
    },
    {
      "cell_type": "code",
      "metadata": {
        "id": "G6TS-OGx_s4V",
        "colab_type": "code",
        "colab": {
          "base_uri": "https://localhost:8080/",
          "height": 34
        },
        "outputId": "a0e5b3ef-ece4-40a6-8876-2ea629ffb06c"
      },
      "source": [
        "cd /content/drive/My Drive/wion_crawling"
      ],
      "execution_count": null,
      "outputs": [
        {
          "output_type": "stream",
          "text": [
            "/content/drive/My Drive/wion_crawling\n"
          ],
          "name": "stdout"
        }
      ]
    },
    {
      "cell_type": "code",
      "metadata": {
        "id": "XYNPp5WS_Y6T",
        "colab_type": "code",
        "colab": {}
      },
      "source": [
        "IS.to_csv('IS.csv', sep = ',', na_rep = 'NaN')"
      ],
      "execution_count": null,
      "outputs": []
    },
    {
      "cell_type": "code",
      "metadata": {
        "id": "nLPeV3Rr_-s5",
        "colab_type": "code",
        "colab": {}
      },
      "source": [
        "BS.to_csv('BS.csv', sep = ',', na_rep = 'NaN')"
      ],
      "execution_count": null,
      "outputs": []
    },
    {
      "cell_type": "code",
      "metadata": {
        "id": "YSoXlNrlAeT7",
        "colab_type": "code",
        "colab": {}
      },
      "source": [
        "CF.to_csv('CF.csv', sep = ',', na_rep = 'NaN')"
      ],
      "execution_count": null,
      "outputs": []
    },
    {
      "cell_type": "code",
      "metadata": {
        "id": "copxpbQLAiqc",
        "colab_type": "code",
        "colab": {}
      },
      "source": [
        ""
      ],
      "execution_count": null,
      "outputs": []
    }
  ]
}
