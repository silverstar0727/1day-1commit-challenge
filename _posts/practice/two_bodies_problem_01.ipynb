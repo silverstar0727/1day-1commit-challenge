{
  "nbformat": 4,
  "nbformat_minor": 0,
  "metadata": {
    "colab": {
      "name": "two bodies problem.ipynb",
      "provenance": [],
      "collapsed_sections": [],
      "authorship_tag": "ABX9TyPVX7oZ27NCs34w9KHeM8BY",
      "include_colab_link": true
    },
    "kernelspec": {
      "name": "python3",
      "display_name": "Python 3"
    }
  },
  "cells": [
    {
      "cell_type": "markdown",
      "metadata": {
        "id": "view-in-github",
        "colab_type": "text"
      },
      "source": [
        "<a href=\"https://colab.research.google.com/github/silverstar0727/study-/blob/master/_posts/practice/two_bodies_problem_01.ipynb\" target=\"_parent\"><img src=\"https://colab.research.google.com/assets/colab-badge.svg\" alt=\"Open In Colab\"/></a>"
      ]
    },
    {
      "cell_type": "markdown",
      "metadata": {
        "id": "danIQ3lgHxDC",
        "colab_type": "text"
      },
      "source": [
        "# Two bodies problem(2D)"
      ]
    },
    {
      "cell_type": "code",
      "metadata": {
        "id": "br4xphJ5zu3U",
        "colab_type": "code",
        "colab": {}
      },
      "source": [
        "import numpy as np\n",
        "import matplotlib.pyplot as plt\n",
        "from sympy import *"
      ],
      "execution_count": 0,
      "outputs": []
    },
    {
      "cell_type": "code",
      "metadata": {
        "id": "BeV4rgLuz14P",
        "colab_type": "code",
        "colab": {}
      },
      "source": [
        "# 물체 클래스\n",
        "class body():\n",
        "  # 물체가 갖는 변수는 위치와 질량과 알짜힘\n",
        "  def __init__(self, position = [0,0,0], mass = 0, force = [0,0,0]): # position, force는 계속 변하는 변수\n",
        "    self.position = position\n",
        "    self.mass = mass\n",
        "    self.force = force\n",
        "    self.tra = [] # 자취 저장\n",
        "    self.tra.append(self.position[0]) # 초기위치 저장\n",
        "    self.tra.append(self.position[1])\n",
        "\n",
        "  def gravity(self, r_vec, another_body_mass): # r_vec은 3차원 벡터 (list)\n",
        "    G = 6.673 * (10**(-11)) # G는 중력상수\n",
        "\n",
        "    # 거리구하기\n",
        "    dis = 0 # 거리 = dis\n",
        "    for i in r_vec:\n",
        "      dis += i ** 2\n",
        "    dis ** (1/2)\n",
        "    # force_는 self.force의 크기\n",
        "    force_ = (self.mass * another_body_mass * G) / (dis ** 2)\n",
        "\n",
        "    r_vec_ = map(lambda x: x / dis, r_vec)\n",
        "    self.force = map(lambda x: x * force_, r_vec_)\n",
        "\n",
        "    return self.force\n",
        "\n",
        "  def bodyPOS(self): # 위치 반환\n",
        "    return self.position\n",
        "\n",
        "  def bodyMASS(self):\n",
        "    return self.mass"
      ],
      "execution_count": 0,
      "outputs": []
    },
    {
      "cell_type": "code",
      "metadata": {
        "id": "mcqfTnb7HYgX",
        "colab_type": "code",
        "colab": {}
      },
      "source": [
        "# 시행 클래스\n",
        "class Act():\n",
        "  def __init__(self):\n",
        "    self.bodies = []\n",
        "    self.accelerate_list = []\n",
        "\n",
        "  def append(self, obj): # 물체 추가\n",
        "    self.bodies.append(obj)\n",
        "\n",
        "  def run(self): # 시행\n",
        "\n",
        "    # 역방향은 역벡터 적용(힘은 벡터량이니까)\n",
        "    for i in range(len(self.bodies)):\n",
        "      r_x = self.bodies[i].bodyPOS()[0] - self.bodies[i - 1].bodyPOS()[0] # 방향벡터 구하기\n",
        "      r_y = self.bodies[i].bodyPOS()[1] - self.bodies[i - 1].bodyPOS()[1] \n",
        "      r_z = self.bodies[i].bodyPOS()[2] - self.bodies[i - 1].bodyPOS()[2]\n",
        "\n",
        "      r_vec = [r_x, r_y, r_z] # 벡터 list로\n",
        "\n",
        "      # gravity method활용 param으로 r_vec, mass를 대입\n",
        "      gra = self.bodies[i].gravity(r_vec = r_vec, another_body_mass = self.bodies[i - 1].bodyMASS())\n",
        "      accelerate = list(map(lambda x: x / self.bodies[i].bodyMASS(), gra))\n",
        "\n",
        "      self.accelerate_list.append(accelerate)\n",
        "\n",
        "    return self.accelerate_list"
      ],
      "execution_count": 0,
      "outputs": []
    },
    {
      "cell_type": "code",
      "metadata": {
        "id": "ERs1_vWX4GUA",
        "colab_type": "code",
        "outputId": "45fe6cb0-e3c1-47ae-b284-61b01966d625",
        "colab": {
          "base_uri": "https://localhost:8080/",
          "height": 35
        }
      },
      "source": [
        "earth = body(position = [15 * (10 ** 10),0,0], mass = 5.972 * (10**24))\n",
        "sun = body(position = [0,0,0], mass = 1.989 * (10 ** 30))\n",
        "A = Act()\n",
        "A.append(sun)\n",
        "A.append(earth)\n",
        "A.run()"
      ],
      "execution_count": 36,
      "outputs": [
        {
          "output_type": "execute_result",
          "data": {
            "text/plain": [
              "[[-5.2478888559670773e-42, 0.0, 0.0], [1.7478317037037035e-36, 0.0, 0.0]]"
            ]
          },
          "metadata": {
            "tags": []
          },
          "execution_count": 36
        }
      ]
    },
    {
      "cell_type": "code",
      "metadata": {
        "id": "ECxG5f89VtJi",
        "colab_type": "code",
        "colab": {}
      },
      "source": [
        ""
      ],
      "execution_count": 0,
      "outputs": []
    }
  ]
}