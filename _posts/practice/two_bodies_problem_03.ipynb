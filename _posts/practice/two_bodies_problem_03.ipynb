{
  "nbformat": 4,
  "nbformat_minor": 0,
  "metadata": {
    "colab": {
      "name": "two bodies problem.ipynb",
      "provenance": [],
      "collapsed_sections": [],
      "authorship_tag": "ABX9TyNjAfZ56mSif5igGofKzN+b",
      "include_colab_link": true
    },
    "kernelspec": {
      "name": "python3",
      "display_name": "Python 3"
    }
  },
  "cells": [
    {
      "cell_type": "markdown",
      "metadata": {
        "id": "view-in-github",
        "colab_type": "text"
      },
      "source": [
        "<a href=\"https://colab.research.google.com/github/silverstar0727/study-/blob/master/_posts/parctice/two_bodies_problem_03.ipynb\" target=\"_parent\"><img src=\"https://colab.research.google.com/assets/colab-badge.svg\" alt=\"Open In Colab\"/></a>"
      ]
    },
    {
      "cell_type": "markdown",
      "metadata": {
        "id": "danIQ3lgHxDC",
        "colab_type": "text"
      },
      "source": [
        "# Two bodies problem"
      ]
    },
    {
      "cell_type": "code",
      "metadata": {
        "id": "OblA7hefehEg",
        "colab_type": "code",
        "outputId": "382862ac-b442-46e6-a79d-d0ad52e6f2c8",
        "colab": {
          "base_uri": "https://localhost:8080/",
          "height": 145
        }
      },
      "source": [
        "!pip install simpy\n",
        "!pip install sympy"
      ],
      "execution_count": 0,
      "outputs": [
        {
          "output_type": "stream",
          "text": [
            "Collecting simpy\n",
            "  Downloading https://files.pythonhosted.org/packages/20/f9/874b0bab83406827db93292a5bbe5acb5c18e3cea665b2f6e053292cb687/simpy-4.0.1-py2.py3-none-any.whl\n",
            "Installing collected packages: simpy\n",
            "Successfully installed simpy-4.0.1\n",
            "Requirement already satisfied: sympy in /usr/local/lib/python3.6/dist-packages (1.1.1)\n",
            "Requirement already satisfied: mpmath>=0.19 in /usr/local/lib/python3.6/dist-packages (from sympy) (1.1.0)\n"
          ],
          "name": "stdout"
        }
      ]
    },
    {
      "cell_type": "code",
      "metadata": {
        "id": "br4xphJ5zu3U",
        "colab_type": "code",
        "colab": {}
      },
      "source": [
        "import numpy as np\n",
        "import matplotlib.pyplot as plt\n",
        "from sympy import *\n",
        "import simpy"
      ],
      "execution_count": 0,
      "outputs": []
    },
    {
      "cell_type": "code",
      "metadata": {
        "id": "BeV4rgLuz14P",
        "colab_type": "code",
        "colab": {}
      },
      "source": [
        "# 물체 클래스\n",
        "class body():\n",
        "  # 물체가 갖는 변수는 위치와 질량과 알짜힘\n",
        "  def __init__(self, position = [0,0,0], mass = 0, \n",
        "               force = [0,0,0], velocity = [0,0,0]): # position, force는 계속 변하는 변수\n",
        "    self.position = position\n",
        "    self.mass = mass\n",
        "    self.force = force\n",
        "    self.tra = [] # 자취 저장\n",
        "    self.tra.append(self.position[0]) # 초기위치 저장\n",
        "    self.tra.append(self.position[1])\n",
        "    self.velocity = velocity\n",
        "\n",
        "  def gravity(self, r_vec, another_body_mass): # r_vec은 3차원 벡터 (list)\n",
        "    G = 6.6726 * (10**(-11)) # G는 중력상수 Nm^2 /kg^2 단위\n",
        "\n",
        "    # 거리구하기\n",
        "    dis = 0 # 거리 = dis\n",
        "    for i in r_vec:\n",
        "      dis += i ** 2\n",
        "    dis ** (1/2)\n",
        "    # force_는 self.force의 크기\n",
        "    force_ = (self.mass * another_body_mass * G) / (dis ** 2) # 단위는 N\n",
        "\n",
        "    r_vec_ = map(lambda x: x / dis, r_vec)\n",
        "    self.force = map(lambda x: x * force_, r_vec_)\n",
        "\n",
        "    return self.force\n",
        "\n",
        "  def gravit(self, )\n",
        "\n",
        "  def pos_change(self, gravity):\n",
        "    pass ##################\n",
        "\n",
        "\n",
        "  def bodyPOS(self): # 위치 반환\n",
        "    return self.position\n",
        "\n",
        "  def bodyMASS(self):\n",
        "    return self.mass"
      ],
      "execution_count": 0,
      "outputs": []
    },
    {
      "cell_type": "code",
      "metadata": {
        "id": "mcqfTnb7HYgX",
        "colab_type": "code",
        "colab": {}
      },
      "source": [
        "# 시행 클래스\n",
        "class Act():\n",
        "  def __init__(self):\n",
        "    self.bodies = []\n",
        "    self.accelerate_list = []\n",
        "\n",
        "  def append(self, obj): # 물체 추가\n",
        "    self.bodies.append(obj)\n",
        "\n",
        "  def run(self, tick): # 시행################\n",
        "    while True:\n",
        "\n",
        "      # 역방향은 역벡터 적용(힘은 벡터량이니까)\n",
        "      for i in range(len(self.bodies)):\n",
        "        r_x = self.bodies[i].bodyPOS()[0] - self.bodies[i - 1].bodyPOS()[0] # 방향벡터 구하기\n",
        "        r_y = self.bodies[i].bodyPOS()[1] - self.bodies[i - 1].bodyPOS()[1] \n",
        "        r_z = self.bodies[i].bodyPOS()[2] - self.bodies[i - 1].bodyPOS()[2]\n",
        "\n",
        "        r_vec = [r_x, r_y, r_z] # 벡터 list로\n",
        "\n",
        "        # gravity method활용 param으로 r_vec, mass를 대입\n",
        "        gra = self.bodies[i].gravity(r_vec = r_vec, another_body_mass = self.bodies[i - 1].bodyMASS()) # 단위는 N\n",
        "        accelerate = list(map(lambda x: x / self.bodies[i].bodyMASS(), gra)) # 단위는 m/s^2\n",
        "\n",
        "        self.accelerate_list.append(accelerate)\n",
        "\n",
        "      print(env.now)\n",
        "      return self.accelerate_list\n",
        "\n",
        "      yield env.timeout(tick)"
      ],
      "execution_count": 0,
      "outputs": []
    },
    {
      "cell_type": "code",
      "metadata": {
        "id": "ERs1_vWX4GUA",
        "colab_type": "code",
        "outputId": "3cafe3eb-ff5f-4fd2-c40e-e79c51ff87f9",
        "colab": {
          "base_uri": "https://localhost:8080/",
          "height": 35
        }
      },
      "source": [
        "earth = body(position = [15 * (10 ** 10),0,0], mass = 5.972 * (10**24), velocity = [0,0,0])\n",
        "sun = body(position = [0,0,0], mass = 1.989 * (10 ** 30), velocity = [0,0,0])\n",
        "\n",
        "sim = Act()\n",
        "sim.append(sun)\n",
        "sim.append(earth)\n",
        "\n",
        "env = simpy.Environment()\n",
        "env.process(sim.run(tick = 0.0001))\n",
        "env.run(10)"
      ],
      "execution_count": 0,
      "outputs": [
        {
          "output_type": "stream",
          "text": [
            "0\n"
          ],
          "name": "stdout"
        }
      ]
    },
    {
      "cell_type": "code",
      "metadata": {
        "id": "vQNTCRRRwY-7",
        "colab_type": "code",
        "colab": {}
      },
      "source": [
        "import simpy\n",
        "\n",
        "env = simpy.Environment()\n",
        "env.process()"
      ],
      "execution_count": 0,
      "outputs": []
    },
    {
      "cell_type": "code",
      "metadata": {
        "id": "tx6UPdlCwY7o",
        "colab_type": "code",
        "colab": {}
      },
      "source": [
        "class particle:\n",
        "  def __init__(self, mass = 0, position = [0,0], velocity = [0, 0], name = 'name'):\n",
        "    self.mass = mass # 질량\n",
        "    self.position = position # 현재위치\n",
        "    self.velocity = velocity # 속도\n",
        "    self.name = name # 이름\n",
        "    \n",
        "    self.tra = [] # 자취\n",
        "    self.tra.append(self.position[0]) # 초기위치 저장\n",
        "    self.tra.append(self.position[1])\n",
        "\n",
        "  def run(self, particles):\n",
        "    t = 0.0001 # 시간 간격\n",
        "    force = []\n",
        "    G = 6.6726 * (10**(-11)) # G는 중력상수 Nm^2 /kg^2 단위\n",
        "    for particle_ in particles:\n",
        "      r_x = self.position[0] - particle_.pos()[0]\n",
        "      r_y = self.position[1] - particle_.pos()[1]\n",
        "      #r_z = self.position[2] - particle_.pos[2]\n",
        "      r = [r_x, r_y]\n",
        "\n",
        "      # 거리 dis\n",
        "      dis = (r[0]**2 + r[1]**2) ** (1/2)\n",
        "\n",
        "      #힘의크기 force_\n",
        "      print(particle_.mass())\n",
        "      force_ = (self.mass * particle_.mass() * G) / (dis ** 2)\n",
        "\n",
        "      # 단위 벡터 r_\n",
        "      r_ = list(map(lambda x: x/dis, r_vec))\n",
        "\n",
        "      # 물체하나가 작용하는 힘 force\n",
        "      force.append(list(map(lambda x: x * force, r_)))\n",
        "    \n",
        "    #알짜힘 net_force\n",
        "    net_force = sum(force)\n",
        "\n",
        "    # 가속도 acc_\n",
        "    acc_ = list(map(lambda x: x / self.mass, net_force))\n",
        "\n",
        "\n",
        "    for i in range(len(acc_)):\n",
        "      self.velocity[i] = acc_[i] * t + self.velocity[i] # 속도 변환\n",
        "      self.position[i] = self.velocity[i] * t + self.position[i] # 위치 변환\n",
        "\n",
        "      self.tra.append(self.position[i]) # 자취저장\n",
        "\n",
        "    print(self.tra)\n",
        "\n",
        "  def mass(self): # 질량 반환\n",
        "    return self.mass\n",
        "\n",
        "  def pos(self): # 위치 반환\n",
        "    return self.position\n",
        "\n",
        "  def vel(self): # 속도 반환\n",
        "    return self.velocity\n",
        "\n",
        "  def name(self): # 이름 반환\n",
        "    return self.name"
      ],
      "execution_count": 0,
      "outputs": []
    },
    {
      "cell_type": "code",
      "metadata": {
        "id": "d6gB_WucwY4V",
        "colab_type": "code",
        "colab": {}
      },
      "source": [
        ""
      ],
      "execution_count": 0,
      "outputs": []
    },
    {
      "cell_type": "code",
      "metadata": {
        "id": "yp9126GEwY1L",
        "colab_type": "code",
        "colab": {}
      },
      "source": [
        ""
      ],
      "execution_count": 0,
      "outputs": []
    },
    {
      "cell_type": "code",
      "metadata": {
        "id": "tKZm85HNxIJh",
        "colab_type": "code",
        "colab": {}
      },
      "source": [
        ""
      ],
      "execution_count": 0,
      "outputs": []
    },
    {
      "cell_type": "code",
      "metadata": {
        "id": "gOElDbu3qG2i",
        "colab_type": "code",
        "outputId": "a5c6a88e-afdd-4a5a-fcb5-9c1f8c206e7a",
        "colab": {
          "base_uri": "https://localhost:8080/",
          "height": 89
        }
      },
      "source": [
        "!pip install simpy"
      ],
      "execution_count": 1,
      "outputs": [
        {
          "output_type": "stream",
          "text": [
            "Collecting simpy\n",
            "  Downloading https://files.pythonhosted.org/packages/20/f9/874b0bab83406827db93292a5bbe5acb5c18e3cea665b2f6e053292cb687/simpy-4.0.1-py2.py3-none-any.whl\n",
            "Installing collected packages: simpy\n",
            "Successfully installed simpy-4.0.1\n"
          ],
          "name": "stdout"
        }
      ]
    },
    {
      "cell_type": "code",
      "metadata": {
        "id": "lAtA1rn4qBfn",
        "colab_type": "code",
        "colab": {}
      },
      "source": [
        "import simpy"
      ],
      "execution_count": 0,
      "outputs": []
    },
    {
      "cell_type": "code",
      "metadata": {
        "id": "9WMZPF0IdJnJ",
        "colab_type": "code",
        "colab": {}
      },
      "source": [
        "class particle:\n",
        "  def __init__(self, mass = 1, position = [0,0], velocity = [0, 0], name = 'name'):\n",
        "    self.mass = mass # 질량\n",
        "    self.position = position # 현재위치\n",
        "    self.velocity = velocity # 속도\n",
        "    self.name = name # 이름\n",
        "    \n",
        "    self.tra = [] # 자취\n",
        "    self.tra.append(self.position[0]) # 초기위치 저장\n",
        "    self.tra.append(self.position[1])\n",
        "\n",
        "  def run(self, particles):\n",
        "    t = 0.0001 # 시간 간격\n",
        "    force = []\n",
        "    particle_ = particles\n",
        "    G = 6.6726 * (10**(-11)) # G는 중력상수 Nm^2 /kg^2 단위\n",
        "\n",
        "    r_x = self.position[0] - particle_.pos()[0]\n",
        "    r_y = self.position[1] - particle_.pos()[1]\n",
        "    #r_z = self.position[2] - particle_.pos[2]\n",
        "    r = [r_x, r_y]\n",
        "\n",
        "    # 거리 dis\n",
        "    dis = (r[0]**2 + r[1]**2) ** (1/2)\n",
        "\n",
        "    #힘의크기 force_\n",
        "    print(particle_.name())\n",
        "    force_ = (self.mass * particle_.mass() * G) / (dis ** 2)\n",
        "\n",
        "    # 단위 벡터 r_\n",
        "    r_ = list(map(lambda x: x/dis, r_vec))\n",
        "\n",
        "    # 물체하나가 작용하는 힘 force\n",
        "    force.append(list(map(lambda x: x * force, r_)))\n",
        "    \n",
        "    #알짜힘 net_force\n",
        "    net_force = sum(force)\n",
        "\n",
        "    # 가속도 acc_\n",
        "    acc_ = list(map(lambda x: x / self.mass, net_force))\n",
        "\n",
        "\n",
        "    for i in range(len(acc_)):\n",
        "      self.velocity[i] = acc_[i] * t + self.velocity[i] # 속도 변환\n",
        "      self.position[i] = self.velocity[i] * t + self.position[i] # 위치 변환\n",
        "\n",
        "      self.tra.append(self.position[i]) # 자취저장\n",
        "\n",
        "    print(self.tra)\n",
        "\n",
        "  def mass(self): # 질량 반환\n",
        "    return self.mass\n",
        "\n",
        "  def pos(self): # 위치 반환\n",
        "    return self.position\n",
        "\n",
        "  def vel(self): # 속도 반환\n",
        "    return self.velocity\n",
        "\n",
        "  def name(self): # 이름 반환\n",
        "    return self.name"
      ],
      "execution_count": 0,
      "outputs": []
    },
    {
      "cell_type": "code",
      "metadata": {
        "id": "6fZOkk36aOxB",
        "colab_type": "code",
        "outputId": "f9ac4393-458e-45e0-9f2e-ec930aa9ba53",
        "colab": {
          "base_uri": "https://localhost:8080/",
          "height": 358
        }
      },
      "source": [
        "class simulation():\n",
        "  def __init__(self):\n",
        "    self.particles = []\n",
        "  \n",
        "  def append(self, obj):\n",
        "    self.particles.append(obj)\n",
        "\n",
        "  def run(self):\n",
        "    for i in range(len(self.particles)):\n",
        "      self.particles[i].run(self.particles[i-1])\n",
        "\n",
        "Earth = particle(mass = 1, position = [1, 1], velocity = [0, 0], name = 'Earth') # 객체 생성 3체\n",
        "Sun = particle(mass = 10, position = [0, 0], velocity = [0, 0], name = 'Sun') \n",
        "#Moon = particle(mass = 0.1, position = [0.9, 0.9], velocity = [0, 0], name = 'Moon')\n",
        "\n",
        "Sim = simulation() # 인스턴스\n",
        "Sim.append(Earth)\n",
        "Sim.append(Sun)\n",
        "\n",
        "for i in range(30):\n",
        "  Sim.run()"
      ],
      "execution_count": 30,
      "outputs": [
        {
          "output_type": "error",
          "ename": "TypeError",
          "evalue": "ignored",
          "traceback": [
            "\u001b[0;31m---------------------------------------------------------------------------\u001b[0m",
            "\u001b[0;31mTypeError\u001b[0m                                 Traceback (most recent call last)",
            "\u001b[0;32m<ipython-input-30-2f00ff8e3367>\u001b[0m in \u001b[0;36m<module>\u001b[0;34m()\u001b[0m\n\u001b[1;32m     19\u001b[0m \u001b[0;34m\u001b[0m\u001b[0m\n\u001b[1;32m     20\u001b[0m \u001b[0;32mfor\u001b[0m \u001b[0mi\u001b[0m \u001b[0;32min\u001b[0m \u001b[0mrange\u001b[0m\u001b[0;34m(\u001b[0m\u001b[0;36m30\u001b[0m\u001b[0;34m)\u001b[0m\u001b[0;34m:\u001b[0m\u001b[0;34m\u001b[0m\u001b[0;34m\u001b[0m\u001b[0m\n\u001b[0;32m---> 21\u001b[0;31m   \u001b[0mSim\u001b[0m\u001b[0;34m.\u001b[0m\u001b[0mrun\u001b[0m\u001b[0;34m(\u001b[0m\u001b[0;34m)\u001b[0m\u001b[0;34m\u001b[0m\u001b[0;34m\u001b[0m\u001b[0m\n\u001b[0m",
            "\u001b[0;32m<ipython-input-30-2f00ff8e3367>\u001b[0m in \u001b[0;36mrun\u001b[0;34m(self)\u001b[0m\n\u001b[1;32m      8\u001b[0m   \u001b[0;32mdef\u001b[0m \u001b[0mrun\u001b[0m\u001b[0;34m(\u001b[0m\u001b[0mself\u001b[0m\u001b[0;34m)\u001b[0m\u001b[0;34m:\u001b[0m\u001b[0;34m\u001b[0m\u001b[0;34m\u001b[0m\u001b[0m\n\u001b[1;32m      9\u001b[0m     \u001b[0;32mfor\u001b[0m \u001b[0mi\u001b[0m \u001b[0;32min\u001b[0m \u001b[0mrange\u001b[0m\u001b[0;34m(\u001b[0m\u001b[0mlen\u001b[0m\u001b[0;34m(\u001b[0m\u001b[0mself\u001b[0m\u001b[0;34m.\u001b[0m\u001b[0mparticles\u001b[0m\u001b[0;34m)\u001b[0m\u001b[0;34m)\u001b[0m\u001b[0;34m:\u001b[0m\u001b[0;34m\u001b[0m\u001b[0;34m\u001b[0m\u001b[0m\n\u001b[0;32m---> 10\u001b[0;31m       \u001b[0mself\u001b[0m\u001b[0;34m.\u001b[0m\u001b[0mparticles\u001b[0m\u001b[0;34m[\u001b[0m\u001b[0mi\u001b[0m\u001b[0;34m]\u001b[0m\u001b[0;34m.\u001b[0m\u001b[0mrun\u001b[0m\u001b[0;34m(\u001b[0m\u001b[0mself\u001b[0m\u001b[0;34m.\u001b[0m\u001b[0mparticles\u001b[0m\u001b[0;34m[\u001b[0m\u001b[0mi\u001b[0m\u001b[0;34m-\u001b[0m\u001b[0;36m1\u001b[0m\u001b[0;34m]\u001b[0m\u001b[0;34m)\u001b[0m\u001b[0;34m\u001b[0m\u001b[0;34m\u001b[0m\u001b[0m\n\u001b[0m\u001b[1;32m     11\u001b[0m \u001b[0;34m\u001b[0m\u001b[0m\n\u001b[1;32m     12\u001b[0m \u001b[0mEarth\u001b[0m \u001b[0;34m=\u001b[0m \u001b[0mparticle\u001b[0m\u001b[0;34m(\u001b[0m\u001b[0mmass\u001b[0m \u001b[0;34m=\u001b[0m \u001b[0;36m1\u001b[0m\u001b[0;34m,\u001b[0m \u001b[0mposition\u001b[0m \u001b[0;34m=\u001b[0m \u001b[0;34m[\u001b[0m\u001b[0;36m1\u001b[0m\u001b[0;34m,\u001b[0m \u001b[0;36m1\u001b[0m\u001b[0;34m]\u001b[0m\u001b[0;34m,\u001b[0m \u001b[0mvelocity\u001b[0m \u001b[0;34m=\u001b[0m \u001b[0;34m[\u001b[0m\u001b[0;36m0\u001b[0m\u001b[0;34m,\u001b[0m \u001b[0;36m0\u001b[0m\u001b[0;34m]\u001b[0m\u001b[0;34m,\u001b[0m \u001b[0mname\u001b[0m \u001b[0;34m=\u001b[0m \u001b[0;34m'Earth'\u001b[0m\u001b[0;34m)\u001b[0m \u001b[0;31m# 객체 생성 3체\u001b[0m\u001b[0;34m\u001b[0m\u001b[0;34m\u001b[0m\u001b[0m\n",
            "\u001b[0;32m<ipython-input-29-0892aadda389>\u001b[0m in \u001b[0;36mrun\u001b[0;34m(self, particles)\u001b[0m\n\u001b[1;32m     25\u001b[0m \u001b[0;34m\u001b[0m\u001b[0m\n\u001b[1;32m     26\u001b[0m     \u001b[0;31m#힘의크기 force_\u001b[0m\u001b[0;34m\u001b[0m\u001b[0;34m\u001b[0m\u001b[0;34m\u001b[0m\u001b[0m\n\u001b[0;32m---> 27\u001b[0;31m     \u001b[0mprint\u001b[0m\u001b[0;34m(\u001b[0m\u001b[0mparticle_\u001b[0m\u001b[0;34m.\u001b[0m\u001b[0mname\u001b[0m\u001b[0;34m(\u001b[0m\u001b[0;34m)\u001b[0m\u001b[0;34m)\u001b[0m\u001b[0;34m\u001b[0m\u001b[0;34m\u001b[0m\u001b[0m\n\u001b[0m\u001b[1;32m     28\u001b[0m     \u001b[0mforce_\u001b[0m \u001b[0;34m=\u001b[0m \u001b[0;34m(\u001b[0m\u001b[0mself\u001b[0m\u001b[0;34m.\u001b[0m\u001b[0mmass\u001b[0m \u001b[0;34m*\u001b[0m \u001b[0mparticle_\u001b[0m\u001b[0;34m.\u001b[0m\u001b[0mmass\u001b[0m\u001b[0;34m(\u001b[0m\u001b[0;34m)\u001b[0m \u001b[0;34m*\u001b[0m \u001b[0mG\u001b[0m\u001b[0;34m)\u001b[0m \u001b[0;34m/\u001b[0m \u001b[0;34m(\u001b[0m\u001b[0mdis\u001b[0m \u001b[0;34m**\u001b[0m \u001b[0;36m2\u001b[0m\u001b[0;34m)\u001b[0m\u001b[0;34m\u001b[0m\u001b[0;34m\u001b[0m\u001b[0m\n\u001b[1;32m     29\u001b[0m \u001b[0;34m\u001b[0m\u001b[0m\n",
            "\u001b[0;31mTypeError\u001b[0m: 'str' object is not callable"
          ]
        }
      ]
    },
    {
      "cell_type": "code",
      "metadata": {
        "id": "gfAa-FZQaQpm",
        "colab_type": "code",
        "colab": {}
      },
      "source": [
        ""
      ],
      "execution_count": 0,
      "outputs": []
    },
    {
      "cell_type": "code",
      "metadata": {
        "id": "4N5OEZbDaQnb",
        "colab_type": "code",
        "colab": {}
      },
      "source": [
        ""
      ],
      "execution_count": 0,
      "outputs": []
    },
    {
      "cell_type": "code",
      "metadata": {
        "id": "RNPUYTAoaQkn",
        "colab_type": "code",
        "colab": {}
      },
      "source": [
        ""
      ],
      "execution_count": 0,
      "outputs": []
    },
    {
      "cell_type": "code",
      "metadata": {
        "id": "Ec9fEbpBhEoO",
        "colab_type": "code",
        "colab": {}
      },
      "source": [
        "class simulation():\n",
        "  def __init__(self):\n",
        "    self.particles = []\n",
        "  \n",
        "  def append(self, obj):\n",
        "    self.particles.append(obj)\n",
        "\n",
        "  def run(self, tick):\n",
        "    while True:\n",
        "      for i in self.particles:\n",
        "        self.particles[i]\n",
        "        self.particles[i].run()\n",
        "\n",
        "      print(env.now)\n",
        "      yield env.timeout(tick)"
      ],
      "execution_count": 0,
      "outputs": []
    },
    {
      "cell_type": "code",
      "metadata": {
        "id": "ovklqMpMiHpU",
        "colab_type": "code",
        "outputId": "2c70634c-b742-4975-be50-5a2099d04d49",
        "colab": {
          "base_uri": "https://localhost:8080/",
          "height": 197
        }
      },
      "source": [
        "Earth = particle(mass = 1, position = [1, 1], velocity = [0, 0], name = 'Earth') # 객체 생성 3체\n",
        "Sun = particle(mass = 10, position = [0, 0], velocity = [0, 0], name = 'Sun') \n",
        "#Moon = particle(mass = 0.1, position = [0.9, 0.9], velocity = [0, 0], name = 'Moon')\n",
        "\n",
        "Sim = simulation() # 인스턴스\n",
        "Sim.append(Earth)\n",
        "Sim.append(Sun)\n",
        "#Sim.append(Moon)\n",
        "\n",
        "N = 10 # 반복 횟수\n",
        "env = simpy.Environment() # simpy로 구현\n",
        "env.process(Sim.run(tick = 1)) # tick = 1\n",
        "env.run(until = N) # N번 반복"
      ],
      "execution_count": 0,
      "outputs": [
        {
          "output_type": "stream",
          "text": [
            "0\n",
            "1\n",
            "2\n",
            "3\n",
            "4\n",
            "5\n",
            "6\n",
            "7\n",
            "8\n",
            "9\n"
          ],
          "name": "stdout"
        }
      ]
    },
    {
      "cell_type": "code",
      "metadata": {
        "id": "vqDScZJdVr3d",
        "colab_type": "code",
        "colab": {}
      },
      "source": [
        ""
      ],
      "execution_count": 0,
      "outputs": []
    },
    {
      "cell_type": "code",
      "metadata": {
        "id": "uocPewbQJc-u",
        "colab_type": "code",
        "colab": {}
      },
      "source": [
        ""
      ],
      "execution_count": 0,
      "outputs": []
    },
    {
      "cell_type": "code",
      "metadata": {
        "id": "Hrv7dTqfJc09",
        "colab_type": "code",
        "colab": {}
      },
      "source": [
        ""
      ],
      "execution_count": 0,
      "outputs": []
    }
  ]
}
