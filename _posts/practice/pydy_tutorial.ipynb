{
  "nbformat": 4,
  "nbformat_minor": 0,
  "metadata": {
    "colab": {
      "name": "pydy_tutorial.ipynb",
      "provenance": [],
      "collapsed_sections": [],
      "authorship_tag": "ABX9TyPs7eIg3u317Pu2QwdoKf5T",
      "include_colab_link": true
    },
    "kernelspec": {
      "name": "python3",
      "display_name": "Python 3"
    }
  },
  "cells": [
    {
      "cell_type": "markdown",
      "metadata": {
        "id": "view-in-github",
        "colab_type": "text"
      },
      "source": [
        "<a href=\"https://colab.research.google.com/github/silverstar0727/study-/blob/master/_posts/practice/pydy_tutorial.ipynb\" target=\"_parent\"><img src=\"https://colab.research.google.com/assets/colab-badge.svg\" alt=\"Open In Colab\"/></a>"
      ]
    },
    {
      "cell_type": "code",
      "metadata": {
        "id": "PiRxgO6jc7YA",
        "colab_type": "code",
        "colab": {}
      },
      "source": [
        "from sympy import *\n",
        "from sympy.physics.mechanics import *"
      ],
      "execution_count": 0,
      "outputs": []
    },
    {
      "cell_type": "code",
      "metadata": {
        "id": "hFeTBE_vdFEn",
        "colab_type": "code",
        "outputId": "d51c16de-c73d-490c-8d94-43ba5b7eff43",
        "colab": {
          "base_uri": "https://localhost:8080/",
          "height": 35
        }
      },
      "source": [
        "N = ReferenceFrame('N')\n",
        "v = 1 * N.x + 2 * N.y \n",
        "v"
      ],
      "execution_count": 22,
      "outputs": [
        {
          "output_type": "execute_result",
          "data": {
            "text/plain": [
              "N.x + 2*N.y"
            ]
          },
          "metadata": {
            "tags": []
          },
          "execution_count": 22
        }
      ]
    },
    {
      "cell_type": "code",
      "metadata": {
        "id": "XBmkl7ZebehO",
        "colab_type": "code",
        "outputId": "00e6411e-c34f-41c7-f825-4167f3686c91",
        "colab": {
          "base_uri": "https://localhost:8080/",
          "height": 35
        }
      },
      "source": [
        "v.magnitude()"
      ],
      "execution_count": 23,
      "outputs": [
        {
          "output_type": "execute_result",
          "data": {
            "text/plain": [
              "sqrt(5)"
            ]
          },
          "metadata": {
            "tags": []
          },
          "execution_count": 23
        }
      ]
    },
    {
      "cell_type": "code",
      "metadata": {
        "id": "ncM0_pojQqw_",
        "colab_type": "code",
        "outputId": "8f79b520-c0b1-4112-83d5-eed8a09e0422",
        "colab": {
          "base_uri": "https://localhost:8080/",
          "height": 35
        }
      },
      "source": [
        "v.normalize()"
      ],
      "execution_count": 24,
      "outputs": [
        {
          "output_type": "execute_result",
          "data": {
            "text/plain": [
              "sqrt(5)/5*N.x + 2*sqrt(5)/5*N.y"
            ]
          },
          "metadata": {
            "tags": []
          },
          "execution_count": 24
        }
      ]
    },
    {
      "cell_type": "code",
      "metadata": {
        "id": "KQUIHHR4Qysa",
        "colab_type": "code",
        "outputId": "0113c97e-a082-418c-9ab8-fea0d0528a12",
        "colab": {
          "base_uri": "https://localhost:8080/",
          "height": 89
        }
      },
      "source": [
        "v.args"
      ],
      "execution_count": 25,
      "outputs": [
        {
          "output_type": "execute_result",
          "data": {
            "text/plain": [
              "[(Matrix([\n",
              "  [1],\n",
              "  [2],\n",
              "  [0]]), N)]"
            ]
          },
          "metadata": {
            "tags": []
          },
          "execution_count": 25
        }
      ]
    },
    {
      "cell_type": "code",
      "metadata": {
        "id": "FTJOUxYtQ3aL",
        "colab_type": "code",
        "colab": {}
      },
      "source": [
        "w = 5 * N.x + 7 * N.y"
      ],
      "execution_count": 0,
      "outputs": []
    },
    {
      "cell_type": "code",
      "metadata": {
        "id": "QtkqQqoqQ6u4",
        "colab_type": "code",
        "outputId": "4511a8ea-7b84-42a4-8de9-5fcf31de6c68",
        "colab": {
          "base_uri": "https://localhost:8080/",
          "height": 35
        }
      },
      "source": [
        "v - w"
      ],
      "execution_count": 27,
      "outputs": [
        {
          "output_type": "execute_result",
          "data": {
            "text/plain": [
              "- 4*N.x - 5*N.y"
            ]
          },
          "metadata": {
            "tags": []
          },
          "execution_count": 27
        }
      ]
    },
    {
      "cell_type": "code",
      "metadata": {
        "id": "-DUdu3OiRAyX",
        "colab_type": "code",
        "outputId": "abffce7d-bb91-48f4-f3f5-394780827f58",
        "colab": {
          "base_uri": "https://localhost:8080/",
          "height": 35
        }
      },
      "source": [
        "dot(v,w)"
      ],
      "execution_count": 28,
      "outputs": [
        {
          "output_type": "execute_result",
          "data": {
            "text/plain": [
              "19"
            ]
          },
          "metadata": {
            "tags": []
          },
          "execution_count": 28
        }
      ]
    },
    {
      "cell_type": "code",
      "metadata": {
        "id": "CPwOYYLCRJP0",
        "colab_type": "code",
        "outputId": "5655486f-d756-43ba-c074-d832a59c6720",
        "colab": {
          "base_uri": "https://localhost:8080/",
          "height": 35
        }
      },
      "source": [
        "cross(v,w)"
      ],
      "execution_count": 29,
      "outputs": [
        {
          "output_type": "execute_result",
          "data": {
            "text/plain": [
              "- 3*N.z"
            ]
          },
          "metadata": {
            "tags": []
          },
          "execution_count": 29
        }
      ]
    },
    {
      "cell_type": "code",
      "metadata": {
        "id": "ajKfOS4aRZle",
        "colab_type": "code",
        "colab": {}
      },
      "source": [
        "a1, a2, a3 = symbols('a1, a2, a3')\n",
        "b1, b3, b3 = symbols('b1, b2, b3')"
      ],
      "execution_count": 0,
      "outputs": []
    },
    {
      "cell_type": "code",
      "metadata": {
        "id": "ef_j9x9KRmrF",
        "colab_type": "code",
        "colab": {}
      },
      "source": [
        "x = a1 * N.x + a2 * N.y + a3 * N.z\n",
        "y = b1 * N.x + a2 * N.y + a3 * N.z"
      ],
      "execution_count": 0,
      "outputs": []
    },
    {
      "cell_type": "code",
      "metadata": {
        "id": "M0b_FJS0RyaP",
        "colab_type": "code",
        "outputId": "538ed422-2ff9-428a-fba2-4bc6459958f6",
        "colab": {
          "base_uri": "https://localhost:8080/",
          "height": 35
        }
      },
      "source": [
        "dot(x, y)"
      ],
      "execution_count": 32,
      "outputs": [
        {
          "output_type": "execute_result",
          "data": {
            "text/plain": [
              "a1*b1 + a2**2 + a3**2"
            ]
          },
          "metadata": {
            "tags": []
          },
          "execution_count": 32
        }
      ]
    },
    {
      "cell_type": "code",
      "metadata": {
        "id": "WxllEsu2R3P8",
        "colab_type": "code",
        "outputId": "9e1be321-d085-4dfd-9f61-f4881c37e8ce",
        "colab": {
          "base_uri": "https://localhost:8080/",
          "height": 35
        }
      },
      "source": [
        "cross(x, y)"
      ],
      "execution_count": 33,
      "outputs": [
        {
          "output_type": "execute_result",
          "data": {
            "text/plain": [
              "(-a1*a3 + a3*b1)*N.y + (a1*a2 - a2*b1)*N.z"
            ]
          },
          "metadata": {
            "tags": []
          },
          "execution_count": 33
        }
      ]
    },
    {
      "cell_type": "code",
      "metadata": {
        "id": "n-zlHsFjR5YC",
        "colab_type": "code",
        "outputId": "0e3d2ec5-3fe8-4f51-c534-7ec61b5c667b",
        "colab": {
          "base_uri": "https://localhost:8080/",
          "height": 719
        }
      },
      "source": [
        "x.diff(a1, N)\n",
        "help(x.diff)"
      ],
      "execution_count": 34,
      "outputs": [
        {
          "output_type": "stream",
          "text": [
            "Help on method diff in module sympy.physics.vector.vector:\n",
            "\n",
            "diff(var, frame, var_in_dcm=True) method of sympy.physics.vector.vector.Vector instance\n",
            "    Returns the partial derivative of the vector with respect to a\n",
            "    variable in the provided reference frame.\n",
            "    \n",
            "    Parameters\n",
            "    ==========\n",
            "    var : Symbol\n",
            "        What the partial derivative is taken with respect to.\n",
            "    frame : ReferenceFrame\n",
            "        The reference frame that the partial derivative is taken in.\n",
            "    var_in_dcm : boolean\n",
            "        If true, the differentiation algorithm assumes that the variable\n",
            "        may be present in any of the direction cosine matrices that relate\n",
            "        the frame to the frames of any component of the vector. But if it\n",
            "        is known that the variable is not present in the direction cosine\n",
            "        matrices, false can be set to skip full reexpression in the desired\n",
            "        frame.\n",
            "    \n",
            "    Examples\n",
            "    ========\n",
            "    \n",
            "    >>> from sympy import Symbol\n",
            "    >>> from sympy.physics.vector import dynamicsymbols, ReferenceFrame\n",
            "    >>> from sympy.physics.vector import Vector\n",
            "    >>> Vector.simp = True\n",
            "    >>> t = Symbol('t')\n",
            "    >>> q1 = dynamicsymbols('q1')\n",
            "    >>> N = ReferenceFrame('N')\n",
            "    >>> A = N.orientnew('A', 'Axis', [q1, N.y])\n",
            "    >>> A.x.diff(t, N)\n",
            "    - q1'*A.z\n",
            "    >>> B = ReferenceFrame('B')\n",
            "    >>> u1, u2 = dynamicsymbols('u1, u2')\n",
            "    >>> v = u1 * A.x + u2 * B.y\n",
            "    >>> v.diff(u2, N, var_in_dcm=False)\n",
            "    B.y\n",
            "\n"
          ],
          "name": "stdout"
        }
      ]
    },
    {
      "cell_type": "code",
      "metadata": {
        "id": "OKudnZERSBbv",
        "colab_type": "code",
        "colab": {}
      },
      "source": [
        "A = ReferenceFrame('A')\n",
        "alpha = symbols('alpha')\n",
        "A.orient(N, 'Axis', [alpha, N.x])"
      ],
      "execution_count": 0,
      "outputs": []
    },
    {
      "cell_type": "code",
      "metadata": {
        "id": "rUlkQKAdSwNe",
        "colab_type": "code",
        "outputId": "1854def7-8bf8-4c63-ff62-f04019670cd1",
        "colab": {
          "base_uri": "https://localhost:8080/",
          "height": 1000
        }
      },
      "source": [
        "help(A.orient)"
      ],
      "execution_count": 36,
      "outputs": [
        {
          "output_type": "stream",
          "text": [
            "Help on method orient in module sympy.physics.vector.frame:\n",
            "\n",
            "orient(parent, rot_type, amounts, rot_order='') method of sympy.physics.vector.frame.ReferenceFrame instance\n",
            "    Defines the orientation of this frame relative to a parent frame.\n",
            "    \n",
            "    Parameters\n",
            "    ==========\n",
            "    \n",
            "    parent : ReferenceFrame\n",
            "        The frame that this ReferenceFrame will have its orientation matrix\n",
            "        defined in relation to.\n",
            "    rot_type : str\n",
            "        The type of orientation matrix that is being created. Supported\n",
            "        types are 'Body', 'Space', 'Quaternion', 'Axis', and 'DCM'.\n",
            "        See examples for correct usage.\n",
            "    amounts : list OR value\n",
            "        The quantities that the orientation matrix will be defined by.\n",
            "        In case of rot_type='DCM', value must be a\n",
            "        sympy.matrices.MatrixBase object (or subclasses of it).\n",
            "    rot_order : str\n",
            "        If applicable, the order of a series of rotations.\n",
            "    \n",
            "    Examples\n",
            "    ========\n",
            "    \n",
            "    >>> from sympy.physics.vector import ReferenceFrame, Vector\n",
            "    >>> from sympy import symbols, eye, ImmutableMatrix\n",
            "    >>> q0, q1, q2, q3 = symbols('q0 q1 q2 q3')\n",
            "    >>> N = ReferenceFrame('N')\n",
            "    >>> B = ReferenceFrame('B')\n",
            "    \n",
            "    Now we have a choice of how to implement the orientation. First is\n",
            "    Body. Body orientation takes this reference frame through three\n",
            "    successive simple rotations. Acceptable rotation orders are of length\n",
            "    3, expressed in XYZ or 123, and cannot have a rotation about about an\n",
            "    axis twice in a row.\n",
            "    \n",
            "    >>> B.orient(N, 'Body', [q1, q2, q3], '123')\n",
            "    >>> B.orient(N, 'Body', [q1, q2, 0], 'ZXZ')\n",
            "    >>> B.orient(N, 'Body', [0, 0, 0], 'XYX')\n",
            "    \n",
            "    Next is Space. Space is like Body, but the rotations are applied in the\n",
            "    opposite order.\n",
            "    \n",
            "    >>> B.orient(N, 'Space', [q1, q2, q3], '312')\n",
            "    \n",
            "    Next is Quaternion. This orients the new ReferenceFrame with\n",
            "    Quaternions, defined as a finite rotation about lambda, a unit vector,\n",
            "    by some amount theta.\n",
            "    This orientation is described by four parameters:\n",
            "    q0 = cos(theta/2)\n",
            "    q1 = lambda_x sin(theta/2)\n",
            "    q2 = lambda_y sin(theta/2)\n",
            "    q3 = lambda_z sin(theta/2)\n",
            "    Quaternion does not take in a rotation order.\n",
            "    \n",
            "    >>> B.orient(N, 'Quaternion', [q0, q1, q2, q3])\n",
            "    \n",
            "    Next is Axis. This is a rotation about an arbitrary, non-time-varying\n",
            "    axis by some angle. The axis is supplied as a Vector. This is how\n",
            "    simple rotations are defined.\n",
            "    \n",
            "    >>> B.orient(N, 'Axis', [q1, N.x + 2 * N.y])\n",
            "    \n",
            "    Last is DCM (Direction Cosine Matrix). This is a rotation matrix\n",
            "    given manually.\n",
            "    \n",
            "    >>> B.orient(N, 'DCM', eye(3))\n",
            "    >>> B.orient(N, 'DCM', ImmutableMatrix([[0, 1, 0], [0, 0, -1], [-1, 0, 0]]))\n",
            "\n"
          ],
          "name": "stdout"
        }
      ]
    },
    {
      "cell_type": "code",
      "metadata": {
        "id": "Ut3EomVUzE8x",
        "colab_type": "code",
        "colab": {
          "base_uri": "https://localhost:8080/",
          "height": 89
        },
        "outputId": "0ccdc2e9-7beb-40d3-e4ae-e36f496633f9"
      },
      "source": [
        "A.dcm(N)"
      ],
      "execution_count": 38,
      "outputs": [
        {
          "output_type": "execute_result",
          "data": {
            "text/plain": [
              "Matrix([\n",
              "[1,           0,          0],\n",
              "[0,  cos(alpha), sin(alpha)],\n",
              "[0, -sin(alpha), cos(alpha)]])"
            ]
          },
          "metadata": {
            "tags": []
          },
          "execution_count": 38
        }
      ]
    },
    {
      "cell_type": "code",
      "metadata": {
        "id": "IoP7pcFy4wGh",
        "colab_type": "code",
        "colab": {
          "base_uri": "https://localhost:8080/",
          "height": 35
        },
        "outputId": "cb284e50-05bd-4005-90dd-cd79d920480a"
      },
      "source": [
        "v.express(A)"
      ],
      "execution_count": 39,
      "outputs": [
        {
          "output_type": "execute_result",
          "data": {
            "text/plain": [
              "A.x + 2*cos(alpha)*A.y - 2*sin(alpha)*A.z"
            ]
          },
          "metadata": {
            "tags": []
          },
          "execution_count": 39
        }
      ]
    },
    {
      "cell_type": "code",
      "metadata": {
        "id": "mmzaGBCq43wb",
        "colab_type": "code",
        "colab": {
          "base_uri": "https://localhost:8080/",
          "height": 485
        },
        "outputId": "33ee5abd-4ec3-486e-a78b-05757e3643f9"
      },
      "source": [
        "help(v.express)"
      ],
      "execution_count": 42,
      "outputs": [
        {
          "output_type": "stream",
          "text": [
            "Help on method express in module sympy.physics.vector.vector:\n",
            "\n",
            "express(otherframe, variables=False) method of sympy.physics.vector.vector.Vector instance\n",
            "    Returns a Vector equivalent to this one, expressed in otherframe.\n",
            "    Uses the global express method.\n",
            "    \n",
            "    Parameters\n",
            "    ==========\n",
            "    \n",
            "    otherframe : ReferenceFrame\n",
            "        The frame for this Vector to be described in\n",
            "    \n",
            "    variables : boolean\n",
            "        If True, the coordinate symbols(if present) in this Vector\n",
            "        are re-expressed in terms otherframe\n",
            "    \n",
            "    Examples\n",
            "    ========\n",
            "    \n",
            "    >>> from sympy.physics.vector import ReferenceFrame, Vector, dynamicsymbols\n",
            "    >>> q1 = dynamicsymbols('q1')\n",
            "    >>> N = ReferenceFrame('N')\n",
            "    >>> A = N.orientnew('A', 'Axis', [q1, N.y])\n",
            "    >>> A.x.express(N)\n",
            "    cos(q1)*N.x - sin(q1)*N.z\n",
            "\n"
          ],
          "name": "stdout"
        }
      ]
    },
    {
      "cell_type": "code",
      "metadata": {
        "id": "DdS-FROK48Oi",
        "colab_type": "code",
        "colab": {
          "base_uri": "https://localhost:8080/",
          "height": 55
        },
        "outputId": "79636a1f-0308-486f-df7d-08602b42fffc"
      },
      "source": [
        "z = cross(x, y)\n",
        "z.express(A)"
      ],
      "execution_count": 43,
      "outputs": [
        {
          "output_type": "execute_result",
          "data": {
            "text/plain": [
              "((a1*a2 - a2*b1)*sin(alpha) + (-a1*a3 + a3*b1)*cos(alpha))*A.y + ((a1*a2 - a2*b1)*cos(alpha) - (-a1*a3 + a3*b1)*sin(alpha))*A.z"
            ]
          },
          "metadata": {
            "tags": []
          },
          "execution_count": 43
        }
      ]
    },
    {
      "cell_type": "code",
      "metadata": {
        "id": "Ie08O3755HCa",
        "colab_type": "code",
        "colab": {}
      },
      "source": [
        "beta, d = dynamicsymbols('beta d')"
      ],
      "execution_count": 0,
      "outputs": []
    },
    {
      "cell_type": "code",
      "metadata": {
        "id": "4gRMneKM5MG2",
        "colab_type": "code",
        "colab": {}
      },
      "source": [
        "B = A.orientnew('B', 'Axis', [beta, A.y])\n",
        "vec = d * B.z"
      ],
      "execution_count": 0,
      "outputs": []
    },
    {
      "cell_type": "code",
      "metadata": {
        "id": "dREkal5g5Uqm",
        "colab_type": "code",
        "colab": {
          "base_uri": "https://localhost:8080/",
          "height": 35
        },
        "outputId": "08c7f4b0-a738-472a-f6ee-4286f2809e1d"
      },
      "source": [
        "B.ang_vel_in(N)"
      ],
      "execution_count": 53,
      "outputs": [
        {
          "output_type": "execute_result",
          "data": {
            "text/plain": [
              "beta'*A.y"
            ]
          },
          "metadata": {
            "tags": []
          },
          "execution_count": 53
        }
      ]
    },
    {
      "cell_type": "code",
      "metadata": {
        "id": "pJ_LeVWg5V6q",
        "colab_type": "code",
        "colab": {}
      },
      "source": [
        "vecdot = vec.dt(N)"
      ],
      "execution_count": 0,
      "outputs": []
    },
    {
      "cell_type": "code",
      "metadata": {
        "id": "JevfNtqP5WuX",
        "colab_type": "code",
        "colab": {
          "base_uri": "https://localhost:8080/",
          "height": 269
        },
        "outputId": "974ab0b1-5135-4362-f7cd-f087b3e343fe"
      },
      "source": [
        "help(vec.dt)"
      ],
      "execution_count": 55,
      "outputs": [
        {
          "output_type": "stream",
          "text": [
            "Help on method dt in module sympy.physics.vector.vector:\n",
            "\n",
            "dt(otherframe) method of sympy.physics.vector.vector.Vector instance\n",
            "    Returns a Vector which is the time derivative of\n",
            "    the self Vector, taken in frame otherframe.\n",
            "    \n",
            "    Calls the global time_derivative method\n",
            "    \n",
            "    Parameters\n",
            "    ==========\n",
            "    \n",
            "    otherframe : ReferenceFrame\n",
            "        The frame to calculate the time derivative in\n",
            "\n"
          ],
          "name": "stdout"
        }
      ]
    },
    {
      "cell_type": "code",
      "metadata": {
        "id": "lAm-gsoZ5lX3",
        "colab_type": "code",
        "colab": {
          "base_uri": "https://localhost:8080/",
          "height": 55
        },
        "outputId": "49e26324-2819-4597-9f0a-8017de0abcd2"
      },
      "source": [
        "vecdot.express(N)"
      ],
      "execution_count": 56,
      "outputs": [
        {
          "output_type": "execute_result",
          "data": {
            "text/plain": [
              "(d*cos(beta)*beta' + sin(beta)*d')*N.x + (d*sin(alpha)*sin(beta)*beta' - sin(alpha)*cos(beta)*d')*N.y + (-d*sin(beta)*cos(alpha)*beta' + cos(alpha)*cos(beta)*d')*N.z"
            ]
          },
          "metadata": {
            "tags": []
          },
          "execution_count": 56
        }
      ]
    },
    {
      "cell_type": "code",
      "metadata": {
        "id": "jY88juKY98hM",
        "colab_type": "code",
        "colab": {
          "base_uri": "https://localhost:8080/",
          "height": 485
        },
        "outputId": "6e2c7c3a-feb4-410b-9b50-7939f5bbe8fb"
      },
      "source": [
        "help(vecdot.express)"
      ],
      "execution_count": 58,
      "outputs": [
        {
          "output_type": "stream",
          "text": [
            "Help on method express in module sympy.physics.vector.vector:\n",
            "\n",
            "express(otherframe, variables=False) method of sympy.physics.vector.vector.Vector instance\n",
            "    Returns a Vector equivalent to this one, expressed in otherframe.\n",
            "    Uses the global express method.\n",
            "    \n",
            "    Parameters\n",
            "    ==========\n",
            "    \n",
            "    otherframe : ReferenceFrame\n",
            "        The frame for this Vector to be described in\n",
            "    \n",
            "    variables : boolean\n",
            "        If True, the coordinate symbols(if present) in this Vector\n",
            "        are re-expressed in terms otherframe\n",
            "    \n",
            "    Examples\n",
            "    ========\n",
            "    \n",
            "    >>> from sympy.physics.vector import ReferenceFrame, Vector, dynamicsymbols\n",
            "    >>> q1 = dynamicsymbols('q1')\n",
            "    >>> N = ReferenceFrame('N')\n",
            "    >>> A = N.orientnew('A', 'Axis', [q1, N.y])\n",
            "    >>> A.x.express(N)\n",
            "    cos(q1)*N.x - sin(q1)*N.z\n",
            "\n"
          ],
          "name": "stdout"
        }
      ]
    },
    {
      "cell_type": "code",
      "metadata": {
        "id": "5GwlkAXG9-IO",
        "colab_type": "code",
        "colab": {}
      },
      "source": [
        "theta = dynamicsymbols('theta')\n",
        "omega = dynamicsymbols('theta', 1) # t에 대해 한번 미분"
      ],
      "execution_count": 0,
      "outputs": []
    },
    {
      "cell_type": "code",
      "metadata": {
        "id": "CO8y2yOy-PpO",
        "colab_type": "code",
        "colab": {
          "base_uri": "https://localhost:8080/",
          "height": 1000
        },
        "outputId": "a02b2d84-ea5b-48cb-fb89-9de11fb2d21f"
      },
      "source": [
        "no = Point('no')\n",
        "help(Point)"
      ],
      "execution_count": 62,
      "outputs": [
        {
          "output_type": "stream",
          "text": [
            "Help on class Point in module sympy.physics.vector.point:\n",
            "\n",
            "class Point(builtins.object)\n",
            " |  This object represents a point in a dynamic system.\n",
            " |  \n",
            " |  It stores the: position, velocity, and acceleration of a point.\n",
            " |  The position is a vector defined as the vector distance from a parent\n",
            " |  point to this point.\n",
            " |  \n",
            " |  Methods defined here:\n",
            " |  \n",
            " |  __init__(self, name)\n",
            " |      Initialization of a Point object.\n",
            " |  \n",
            " |  __repr__ = __str__(self)\n",
            " |  \n",
            " |  __str__(self)\n",
            " |      Return str(self).\n",
            " |  \n",
            " |  a1pt_theory(self, otherpoint, outframe, interframe)\n",
            " |      Sets the acceleration of this point with the 1-point theory.\n",
            " |      \n",
            " |      The 1-point theory for point acceleration looks like this:\n",
            " |      \n",
            " |      ^N a^P = ^B a^P + ^N a^O + ^N alpha^B x r^OP + ^N omega^B x (^N omega^B\n",
            " |      x r^OP) + 2 ^N omega^B x ^B v^P\n",
            " |      \n",
            " |      where O is a point fixed in B, P is a point moving in B, and B is\n",
            " |      rotating in frame N.\n",
            " |      \n",
            " |      Parameters\n",
            " |      ==========\n",
            " |      \n",
            " |      otherpoint : Point\n",
            " |          The first point of the 1-point theory (O)\n",
            " |      outframe : ReferenceFrame\n",
            " |          The frame we want this point's acceleration defined in (N)\n",
            " |      fixedframe : ReferenceFrame\n",
            " |          The intermediate frame in this calculation (B)\n",
            " |      \n",
            " |      Examples\n",
            " |      ========\n",
            " |      \n",
            " |      >>> from sympy.physics.vector import Point, ReferenceFrame\n",
            " |      >>> from sympy.physics.vector import Vector, dynamicsymbols\n",
            " |      >>> q = dynamicsymbols('q')\n",
            " |      >>> q2 = dynamicsymbols('q2')\n",
            " |      >>> qd = dynamicsymbols('q', 1)\n",
            " |      >>> q2d = dynamicsymbols('q2', 1)\n",
            " |      >>> N = ReferenceFrame('N')\n",
            " |      >>> B = ReferenceFrame('B')\n",
            " |      >>> B.set_ang_vel(N, 5 * B.y)\n",
            " |      >>> O = Point('O')\n",
            " |      >>> P = O.locatenew('P', q * B.x)\n",
            " |      >>> P.set_vel(B, qd * B.x + q2d * B.y)\n",
            " |      >>> O.set_vel(N, 0)\n",
            " |      >>> P.a1pt_theory(O, N, B)\n",
            " |      (-25*q + q'')*B.x + q2''*B.y - 10*q'*B.z\n",
            " |  \n",
            " |  a2pt_theory(self, otherpoint, outframe, fixedframe)\n",
            " |      Sets the acceleration of this point with the 2-point theory.\n",
            " |      \n",
            " |      The 2-point theory for point acceleration looks like this:\n",
            " |      \n",
            " |      ^N a^P = ^N a^O + ^N alpha^B x r^OP + ^N omega^B x (^N omega^B x r^OP)\n",
            " |      \n",
            " |      where O and P are both points fixed in frame B, which is rotating in\n",
            " |      frame N.\n",
            " |      \n",
            " |      Parameters\n",
            " |      ==========\n",
            " |      \n",
            " |      otherpoint : Point\n",
            " |          The first point of the 2-point theory (O)\n",
            " |      outframe : ReferenceFrame\n",
            " |          The frame we want this point's acceleration defined in (N)\n",
            " |      fixedframe : ReferenceFrame\n",
            " |          The frame in which both points are fixed (B)\n",
            " |      \n",
            " |      Examples\n",
            " |      ========\n",
            " |      \n",
            " |      >>> from sympy.physics.vector import Point, ReferenceFrame, dynamicsymbols\n",
            " |      >>> q = dynamicsymbols('q')\n",
            " |      >>> qd = dynamicsymbols('q', 1)\n",
            " |      >>> N = ReferenceFrame('N')\n",
            " |      >>> B = N.orientnew('B', 'Axis', [q, N.z])\n",
            " |      >>> O = Point('O')\n",
            " |      >>> P = O.locatenew('P', 10 * B.x)\n",
            " |      >>> O.set_vel(N, 5 * N.x)\n",
            " |      >>> P.a2pt_theory(O, N, B)\n",
            " |      - 10*q'**2*B.x + 10*q''*B.y\n",
            " |  \n",
            " |  acc(self, frame)\n",
            " |      The acceleration Vector of this Point in a ReferenceFrame.\n",
            " |      \n",
            " |      Parameters\n",
            " |      ==========\n",
            " |      \n",
            " |      frame : ReferenceFrame\n",
            " |          The frame in which the returned acceleration vector will be defined in\n",
            " |      \n",
            " |      Examples\n",
            " |      ========\n",
            " |      \n",
            " |      >>> from sympy.physics.vector import Point, ReferenceFrame\n",
            " |      >>> N = ReferenceFrame('N')\n",
            " |      >>> p1 = Point('p1')\n",
            " |      >>> p1.set_acc(N, 10 * N.x)\n",
            " |      >>> p1.acc(N)\n",
            " |      10*N.x\n",
            " |  \n",
            " |  locatenew(self, name, value)\n",
            " |      Creates a new point with a position defined from this point.\n",
            " |      \n",
            " |      Parameters\n",
            " |      ==========\n",
            " |      \n",
            " |      name : str\n",
            " |          The name for the new point\n",
            " |      value : Vector\n",
            " |          The position of the new point relative to this point\n",
            " |      \n",
            " |      Examples\n",
            " |      ========\n",
            " |      \n",
            " |      >>> from sympy.physics.vector import ReferenceFrame, Point\n",
            " |      >>> N = ReferenceFrame('N')\n",
            " |      >>> P1 = Point('P1')\n",
            " |      >>> P2 = P1.locatenew('P2', 10 * N.x)\n",
            " |  \n",
            " |  partial_velocity(self, frame, *gen_speeds)\n",
            " |      Returns the partial velocities of the linear velocity vector of this\n",
            " |      point in the given frame with respect to one or more provided\n",
            " |      generalized speeds.\n",
            " |      \n",
            " |      Parameters\n",
            " |      ==========\n",
            " |      frame : ReferenceFrame\n",
            " |          The frame with which the velocity is defined in.\n",
            " |      gen_speeds : functions of time\n",
            " |          The generalized speeds.\n",
            " |      \n",
            " |      Returns\n",
            " |      =======\n",
            " |      partial_velocities : tuple of Vector\n",
            " |          The partial velocity vectors corresponding to the provided\n",
            " |          generalized speeds.\n",
            " |      \n",
            " |      Examples\n",
            " |      ========\n",
            " |      \n",
            " |      >>> from sympy.physics.vector import ReferenceFrame, Point\n",
            " |      >>> from sympy.physics.vector import dynamicsymbols\n",
            " |      >>> N = ReferenceFrame('N')\n",
            " |      >>> A = ReferenceFrame('A')\n",
            " |      >>> p = Point('p')\n",
            " |      >>> u1, u2 = dynamicsymbols('u1, u2')\n",
            " |      >>> p.set_vel(N, u1 * N.x + u2 * A.y)\n",
            " |      >>> p.partial_velocity(N, u1)\n",
            " |      N.x\n",
            " |      >>> p.partial_velocity(N, u1, u2)\n",
            " |      (N.x, A.y)\n",
            " |  \n",
            " |  pos_from(self, otherpoint)\n",
            " |      Returns a Vector distance between this Point and the other Point.\n",
            " |      \n",
            " |      Parameters\n",
            " |      ==========\n",
            " |      \n",
            " |      otherpoint : Point\n",
            " |          The otherpoint we are locating this one relative to\n",
            " |      \n",
            " |      Examples\n",
            " |      ========\n",
            " |      \n",
            " |      >>> from sympy.physics.vector import Point, ReferenceFrame\n",
            " |      >>> N = ReferenceFrame('N')\n",
            " |      >>> p1 = Point('p1')\n",
            " |      >>> p2 = Point('p2')\n",
            " |      >>> p1.set_pos(p2, 10 * N.x)\n",
            " |      >>> p1.pos_from(p2)\n",
            " |      10*N.x\n",
            " |  \n",
            " |  set_acc(self, frame, value)\n",
            " |      Used to set the acceleration of this Point in a ReferenceFrame.\n",
            " |      \n",
            " |      Parameters\n",
            " |      ==========\n",
            " |      \n",
            " |      frame : ReferenceFrame\n",
            " |          The frame in which this point's acceleration is defined\n",
            " |      value : Vector\n",
            " |          The vector value of this point's acceleration in the frame\n",
            " |      \n",
            " |      Examples\n",
            " |      ========\n",
            " |      \n",
            " |      >>> from sympy.physics.vector import Point, ReferenceFrame\n",
            " |      >>> N = ReferenceFrame('N')\n",
            " |      >>> p1 = Point('p1')\n",
            " |      >>> p1.set_acc(N, 10 * N.x)\n",
            " |      >>> p1.acc(N)\n",
            " |      10*N.x\n",
            " |  \n",
            " |  set_pos(self, otherpoint, value)\n",
            " |      Used to set the position of this point w.r.t. another point.\n",
            " |      \n",
            " |      Parameters\n",
            " |      ==========\n",
            " |      \n",
            " |      otherpoint : Point\n",
            " |          The other point which this point's location is defined relative to\n",
            " |      value : Vector\n",
            " |          The vector which defines the location of this point\n",
            " |      \n",
            " |      Examples\n",
            " |      ========\n",
            " |      \n",
            " |      >>> from sympy.physics.vector import Point, ReferenceFrame\n",
            " |      >>> N = ReferenceFrame('N')\n",
            " |      >>> p1 = Point('p1')\n",
            " |      >>> p2 = Point('p2')\n",
            " |      >>> p1.set_pos(p2, 10 * N.x)\n",
            " |      >>> p1.pos_from(p2)\n",
            " |      10*N.x\n",
            " |  \n",
            " |  set_vel(self, frame, value)\n",
            " |      Sets the velocity Vector of this Point in a ReferenceFrame.\n",
            " |      \n",
            " |      Parameters\n",
            " |      ==========\n",
            " |      \n",
            " |      frame : ReferenceFrame\n",
            " |          The frame in which this point's velocity is defined\n",
            " |      value : Vector\n",
            " |          The vector value of this point's velocity in the frame\n",
            " |      \n",
            " |      Examples\n",
            " |      ========\n",
            " |      \n",
            " |      >>> from sympy.physics.vector import Point, ReferenceFrame\n",
            " |      >>> N = ReferenceFrame('N')\n",
            " |      >>> p1 = Point('p1')\n",
            " |      >>> p1.set_vel(N, 10 * N.x)\n",
            " |      >>> p1.vel(N)\n",
            " |      10*N.x\n",
            " |  \n",
            " |  v1pt_theory(self, otherpoint, outframe, interframe)\n",
            " |      Sets the velocity of this point with the 1-point theory.\n",
            " |      \n",
            " |      The 1-point theory for point velocity looks like this:\n",
            " |      \n",
            " |      ^N v^P = ^B v^P + ^N v^O + ^N omega^B x r^OP\n",
            " |      \n",
            " |      where O is a point fixed in B, P is a point moving in B, and B is\n",
            " |      rotating in frame N.\n",
            " |      \n",
            " |      Parameters\n",
            " |      ==========\n",
            " |      \n",
            " |      otherpoint : Point\n",
            " |          The first point of the 2-point theory (O)\n",
            " |      outframe : ReferenceFrame\n",
            " |          The frame we want this point's velocity defined in (N)\n",
            " |      interframe : ReferenceFrame\n",
            " |          The intermediate frame in this calculation (B)\n",
            " |      \n",
            " |      Examples\n",
            " |      ========\n",
            " |      \n",
            " |      >>> from sympy.physics.vector import Point, ReferenceFrame\n",
            " |      >>> from sympy.physics.vector import Vector, dynamicsymbols\n",
            " |      >>> q = dynamicsymbols('q')\n",
            " |      >>> q2 = dynamicsymbols('q2')\n",
            " |      >>> qd = dynamicsymbols('q', 1)\n",
            " |      >>> q2d = dynamicsymbols('q2', 1)\n",
            " |      >>> N = ReferenceFrame('N')\n",
            " |      >>> B = ReferenceFrame('B')\n",
            " |      >>> B.set_ang_vel(N, 5 * B.y)\n",
            " |      >>> O = Point('O')\n",
            " |      >>> P = O.locatenew('P', q * B.x)\n",
            " |      >>> P.set_vel(B, qd * B.x + q2d * B.y)\n",
            " |      >>> O.set_vel(N, 0)\n",
            " |      >>> P.v1pt_theory(O, N, B)\n",
            " |      q'*B.x + q2'*B.y - 5*q*B.z\n",
            " |  \n",
            " |  v2pt_theory(self, otherpoint, outframe, fixedframe)\n",
            " |      Sets the velocity of this point with the 2-point theory.\n",
            " |      \n",
            " |      The 2-point theory for point velocity looks like this:\n",
            " |      \n",
            " |      ^N v^P = ^N v^O + ^N omega^B x r^OP\n",
            " |      \n",
            " |      where O and P are both points fixed in frame B, which is rotating in\n",
            " |      frame N.\n",
            " |      \n",
            " |      Parameters\n",
            " |      ==========\n",
            " |      \n",
            " |      otherpoint : Point\n",
            " |          The first point of the 2-point theory (O)\n",
            " |      outframe : ReferenceFrame\n",
            " |          The frame we want this point's velocity defined in (N)\n",
            " |      fixedframe : ReferenceFrame\n",
            " |          The frame in which both points are fixed (B)\n",
            " |      \n",
            " |      Examples\n",
            " |      ========\n",
            " |      \n",
            " |      >>> from sympy.physics.vector import Point, ReferenceFrame, dynamicsymbols\n",
            " |      >>> q = dynamicsymbols('q')\n",
            " |      >>> qd = dynamicsymbols('q', 1)\n",
            " |      >>> N = ReferenceFrame('N')\n",
            " |      >>> B = N.orientnew('B', 'Axis', [q, N.z])\n",
            " |      >>> O = Point('O')\n",
            " |      >>> P = O.locatenew('P', 10 * B.x)\n",
            " |      >>> O.set_vel(N, 5 * N.x)\n",
            " |      >>> P.v2pt_theory(O, N, B)\n",
            " |      5*N.x + 10*q'*B.y\n",
            " |  \n",
            " |  vel(self, frame)\n",
            " |      The velocity Vector of this Point in the ReferenceFrame.\n",
            " |      \n",
            " |      Parameters\n",
            " |      ==========\n",
            " |      \n",
            " |      frame : ReferenceFrame\n",
            " |          The frame in which the returned velocity vector will be defined in\n",
            " |      \n",
            " |      Examples\n",
            " |      ========\n",
            " |      \n",
            " |      >>> from sympy.physics.vector import Point, ReferenceFrame\n",
            " |      >>> N = ReferenceFrame('N')\n",
            " |      >>> p1 = Point('p1')\n",
            " |      >>> p1.set_vel(N, 10 * N.x)\n",
            " |      >>> p1.vel(N)\n",
            " |      10*N.x\n",
            " |  \n",
            " |  ----------------------------------------------------------------------\n",
            " |  Data descriptors defined here:\n",
            " |  \n",
            " |  __dict__\n",
            " |      dictionary for instance variables (if defined)\n",
            " |  \n",
            " |  __weakref__\n",
            " |      list of weak references to the object (if defined)\n",
            "\n"
          ],
          "name": "stdout"
        }
      ]
    },
    {
      "cell_type": "code",
      "metadata": {
        "id": "U56RfA3m-jMY",
        "colab_type": "code",
        "colab": {}
      },
      "source": [
        "no.set_vel(N, 0)"
      ],
      "execution_count": 0,
      "outputs": []
    },
    {
      "cell_type": "code",
      "metadata": {
        "id": "pvxZpwLX-pfY",
        "colab_type": "code",
        "colab": {
          "base_uri": "https://localhost:8080/",
          "height": 431
        },
        "outputId": "006f26ad-9b29-4cb5-cf35-a589a4a21e5f"
      },
      "source": [
        "help(no.set_vel)"
      ],
      "execution_count": 64,
      "outputs": [
        {
          "output_type": "stream",
          "text": [
            "Help on method set_vel in module sympy.physics.vector.point:\n",
            "\n",
            "set_vel(frame, value) method of sympy.physics.vector.point.Point instance\n",
            "    Sets the velocity Vector of this Point in a ReferenceFrame.\n",
            "    \n",
            "    Parameters\n",
            "    ==========\n",
            "    \n",
            "    frame : ReferenceFrame\n",
            "        The frame in which this point's velocity is defined\n",
            "    value : Vector\n",
            "        The vector value of this point's velocity in the frame\n",
            "    \n",
            "    Examples\n",
            "    ========\n",
            "    \n",
            "    >>> from sympy.physics.vector import Point, ReferenceFrame\n",
            "    >>> N = ReferenceFrame('N')\n",
            "    >>> p1 = Point('p1')\n",
            "    >>> p1.set_vel(N, 10 * N.x)\n",
            "    >>> p1.vel(N)\n",
            "    10*N.x\n",
            "\n"
          ],
          "name": "stdout"
        }
      ]
    },
    {
      "cell_type": "code",
      "metadata": {
        "id": "4BOXU6lI-8ea",
        "colab_type": "code",
        "colab": {}
      },
      "source": [
        ""
      ],
      "execution_count": 0,
      "outputs": []
    }
  ]
}