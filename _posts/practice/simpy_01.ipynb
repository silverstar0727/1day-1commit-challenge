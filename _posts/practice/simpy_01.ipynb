{
  "nbformat": 4,
  "nbformat_minor": 0,
  "metadata": {
    "colab": {
      "name": "simpy_01.ipynb",
      "provenance": [],
      "collapsed_sections": [],
      "authorship_tag": "ABX9TyPmJ9EKh6BdEBWwRo3bi12a",
      "include_colab_link": true
    },
    "kernelspec": {
      "name": "python3",
      "display_name": "Python 3"
    }
  },
  "cells": [
    {
      "cell_type": "markdown",
      "metadata": {
        "id": "view-in-github",
        "colab_type": "text"
      },
      "source": [
        "<a href=\"https://colab.research.google.com/github/silverstar0727/study-/blob/master/_posts/practice/simpy_01.ipynb\" target=\"_parent\"><img src=\"https://colab.research.google.com/assets/colab-badge.svg\" alt=\"Open In Colab\"/></a>"
      ]
    },
    {
      "cell_type": "markdown",
      "metadata": {
        "id": "NSRI7qD-NiD7",
        "colab_type": "text"
      },
      "source": [
        "# Simpy\n",
        "시뮬레이션을 위한 패키지이다.\n",
        "\n"
      ]
    },
    {
      "cell_type": "code",
      "metadata": {
        "id": "wqKzF6svNett",
        "colab_type": "code",
        "colab": {
          "base_uri": "https://localhost:8080/",
          "height": 109
        },
        "outputId": "e56b5f24-4650-4459-b188-817246ed4289"
      },
      "source": [
        "!pip install simpy"
      ],
      "execution_count": 1,
      "outputs": [
        {
          "output_type": "stream",
          "text": [
            "Collecting simpy\n",
            "  Downloading https://files.pythonhosted.org/packages/20/f9/874b0bab83406827db93292a5bbe5acb5c18e3cea665b2f6e053292cb687/simpy-4.0.1-py2.py3-none-any.whl\n",
            "Installing collected packages: simpy\n",
            "Successfully installed simpy-4.0.1\n"
          ],
          "name": "stdout"
        }
      ]
    },
    {
      "cell_type": "code",
      "metadata": {
        "id": "in-DrabyN9Tc",
        "colab_type": "code",
        "colab": {
          "base_uri": "https://localhost:8080/",
          "height": 125
        },
        "outputId": "ba34fe7f-79ce-49f0-ab88-592bf452e552"
      },
      "source": [
        "# enro\n",
        "import simpy\n",
        "\n",
        "def clock(env, name, tick):\n",
        "  while True:\n",
        "    print(name, env.now)\n",
        "    yield env.timeout(tick)\n",
        "\n",
        "env = simpy.Environment()\n",
        "env.process(clock(env, 'fast', 0.5))\n",
        "env.process(clock(env, 'slow',1))\n",
        "\n",
        "env.run(until = 2)"
      ],
      "execution_count": 2,
      "outputs": [
        {
          "output_type": "stream",
          "text": [
            "fast 0\n",
            "slow 0\n",
            "fast 0.5\n",
            "slow 1\n",
            "fast 1.0\n",
            "fast 1.5\n"
          ],
          "name": "stdout"
        }
      ]
    },
    {
      "cell_type": "code",
      "metadata": {
        "id": "PD8y5iiTONRF",
        "colab_type": "code",
        "colab": {
          "base_uri": "https://localhost:8080/",
          "height": 107
        },
        "outputId": "2ff4931a-af6c-4f2e-dd82-63b3cfb4f165"
      },
      "source": [
        "# process\n",
        "# Event 인스턴스를 yield하는 제너레이터 함수를 만듦\n",
        "# 제너레이터 내부에서 activity가 수행될 때 resource에서 request를 보내서  resource를 일정 시간동안 사용한다\n",
        "# process의 이벤트 시간이 모두 지나면 envent의 value를 받을 수 있다.\n",
        "import simpy\n",
        "\t    \n",
        "def car(env):\n",
        "    \"\"\"\n",
        "    자동차 프로세스\n",
        "    주차하고 여행을 떠남\n",
        "    parking과 driving 상태를 스위칭함\n",
        "    \"\"\"\n",
        "    while True:\n",
        "        print('Start parking at %d' % env.now)\n",
        "        parking_duration = 5\n",
        "                # 환경에서 timeout 이벤트를 발생시킴(parking_duration동안 휴면)\n",
        "        yield env.timeout(parking_duration)\n",
        "\t    \n",
        "        print('Start driving at %d' % env.now)\n",
        "        trip_duration = 2\n",
        "        yield env.timeout(trip_duration)\n",
        "\t    \n",
        "env = simpy.Environment()\n",
        "env.process(car(env))\n",
        "env.run(until=15)"
      ],
      "execution_count": 3,
      "outputs": [
        {
          "output_type": "stream",
          "text": [
            "Start parking at 0\n",
            "Start driving at 5\n",
            "Start parking at 7\n",
            "Start driving at 12\n",
            "Start parking at 14\n"
          ],
          "name": "stdout"
        }
      ]
    },
    {
      "cell_type": "code",
      "metadata": {
        "id": "GiRyMiSTn9AQ",
        "colab_type": "code",
        "colab": {
          "base_uri": "https://localhost:8080/",
          "height": 334
        },
        "outputId": "4bdd210e-82b2-4e50-e8d8-7d54329a9622"
      },
      "source": [
        "# resource\n",
        "import simpy\n",
        "            \n",
        "res = simpy.Resource(env, capacity=1)\n",
        "            \n",
        "def print_stats(res):\n",
        "    print('%d of %d slots are allocated.' % (res.count, res.capacity))\n",
        "    print('  Users:', res.users)\n",
        "    print('  Queued events:', res.queue)\n",
        "            \n",
        "def user(res):\n",
        "    print_stats(res)\n",
        "    with res.request() as req:\n",
        "        yield req\n",
        "        print_stats(res)\n",
        "    print_stats(res)\n",
        "            \n",
        "procs = [env.process(user(res)), env.process(user(res))]\n",
        "env.run(until = 30)"
      ],
      "execution_count": 6,
      "outputs": [
        {
          "output_type": "error",
          "ename": "ValueError",
          "evalue": "ignored",
          "traceback": [
            "\u001b[0;31m---------------------------------------------------------------------------\u001b[0m",
            "\u001b[0;31mValueError\u001b[0m                                Traceback (most recent call last)",
            "\u001b[0;32m<ipython-input-6-6693d4bfb9cf>\u001b[0m in \u001b[0;36m<module>\u001b[0;34m()\u001b[0m\n\u001b[1;32m     17\u001b[0m \u001b[0;34m\u001b[0m\u001b[0m\n\u001b[1;32m     18\u001b[0m \u001b[0mprocs\u001b[0m \u001b[0;34m=\u001b[0m \u001b[0;34m[\u001b[0m\u001b[0menv\u001b[0m\u001b[0;34m.\u001b[0m\u001b[0mprocess\u001b[0m\u001b[0;34m(\u001b[0m\u001b[0muser\u001b[0m\u001b[0;34m(\u001b[0m\u001b[0mres\u001b[0m\u001b[0;34m)\u001b[0m\u001b[0;34m)\u001b[0m\u001b[0;34m,\u001b[0m \u001b[0menv\u001b[0m\u001b[0;34m.\u001b[0m\u001b[0mprocess\u001b[0m\u001b[0;34m(\u001b[0m\u001b[0muser\u001b[0m\u001b[0;34m(\u001b[0m\u001b[0mres\u001b[0m\u001b[0;34m)\u001b[0m\u001b[0;34m)\u001b[0m\u001b[0;34m]\u001b[0m\u001b[0;34m\u001b[0m\u001b[0;34m\u001b[0m\u001b[0m\n\u001b[0;32m---> 19\u001b[0;31m \u001b[0menv\u001b[0m\u001b[0;34m.\u001b[0m\u001b[0mrun\u001b[0m\u001b[0;34m(\u001b[0m\u001b[0muntil\u001b[0m \u001b[0;34m=\u001b[0m \u001b[0;36m30\u001b[0m\u001b[0;34m)\u001b[0m\u001b[0;34m\u001b[0m\u001b[0;34m\u001b[0m\u001b[0m\n\u001b[0m",
            "\u001b[0;32m/usr/local/lib/python3.6/dist-packages/simpy/core.py\u001b[0m in \u001b[0;36mrun\u001b[0;34m(self, until)\u001b[0m\n\u001b[1;32m    235\u001b[0m                 \u001b[0;32mif\u001b[0m \u001b[0mat\u001b[0m \u001b[0;34m<=\u001b[0m \u001b[0mself\u001b[0m\u001b[0;34m.\u001b[0m\u001b[0mnow\u001b[0m\u001b[0;34m:\u001b[0m\u001b[0;34m\u001b[0m\u001b[0;34m\u001b[0m\u001b[0m\n\u001b[1;32m    236\u001b[0m                     raise ValueError(\n\u001b[0;32m--> 237\u001b[0;31m                         \u001b[0;34mf'until(={at}) must be > the current simulation time.'\u001b[0m\u001b[0;34m\u001b[0m\u001b[0;34m\u001b[0m\u001b[0m\n\u001b[0m\u001b[1;32m    238\u001b[0m                     )\n\u001b[1;32m    239\u001b[0m \u001b[0;34m\u001b[0m\u001b[0m\n",
            "\u001b[0;31mValueError\u001b[0m: until(=30) must be > the current simulation time."
          ]
        }
      ]
    },
    {
      "cell_type": "code",
      "metadata": {
        "id": "yvrWFqN1elPm",
        "colab_type": "code",
        "colab": {
          "base_uri": "https://localhost:8080/",
          "height": 665
        },
        "outputId": "f1807688-413c-40b0-8d9c-25dca0183c8d"
      },
      "source": [
        "# resource\n",
        "import simpy\n",
        "\n",
        "res = simpy.Resource(env, capacity = 1)\n",
        "\n",
        "def print_stats(res):\n",
        "  print('%d of %d slots are allocated.' %(res.count, res.capacity))\n",
        "  print('  Users:', res.users)\n",
        "  print('  Queued events', res.queue)\n",
        "\n",
        "def user(res):\n",
        "  print_stats(res)\n",
        "  with res.request() as req:\n",
        "    yield req\n",
        "    print_stats(res)\n",
        "  print_stats(res)\n",
        "\n",
        "procs = [env.process(user(res)), env.process(user(res))]\n",
        "env.run()"
      ],
      "execution_count": 7,
      "outputs": [
        {
          "output_type": "stream",
          "text": [
            "0 of 1 slots are allocated.\n",
            "  Users: []\n",
            "  Queued events []\n",
            "1 of 1 slots are allocated.\n",
            "  Users: [<Request() object at 0x7efe4b6e0ac8>]\n",
            "  Queued events []\n",
            "0 of 1 slots are allocated.\n",
            "  Users: []\n",
            "  Queued events []\n",
            "1 of 1 slots are allocated.\n",
            "  Users: [<Request() object at 0x7efe4b6e0b70>]\n",
            "  Queued events []\n",
            "1 of 1 slots are allocated.\n",
            "  Users: [<Request() object at 0x7efe4b6e0ac8>]\n",
            "  Queued events [<Request() object at 0x7efe4b6e0b00>]\n",
            "0 of 1 slots are allocated.\n",
            "  Users: []\n",
            "  Queued events [<Request() object at 0x7efe4b6e0b00>]\n",
            "1 of 1 slots are allocated.\n",
            "  Users: [<Request() object at 0x7efe4b6e0b70>]\n",
            "  Queued events [<Request() object at 0x7efe4b6e0ba8>]\n",
            "0 of 1 slots are allocated.\n",
            "  Users: []\n",
            "  Queued events [<Request() object at 0x7efe4b6e0ba8>]\n",
            "1 of 1 slots are allocated.\n",
            "  Users: [<Request() object at 0x7efe4b6e0b00>]\n",
            "  Queued events []\n",
            "0 of 1 slots are allocated.\n",
            "  Users: []\n",
            "  Queued events []\n",
            "1 of 1 slots are allocated.\n",
            "  Users: [<Request() object at 0x7efe4b6e0ba8>]\n",
            "  Queued events []\n",
            "0 of 1 slots are allocated.\n",
            "  Users: []\n",
            "  Queued events []\n"
          ],
          "name": "stdout"
        }
      ]
    },
    {
      "cell_type": "code",
      "metadata": {
        "id": "T2fZeD3xiR--",
        "colab_type": "code",
        "colab": {}
      },
      "source": [
        "# 리소스 생성: 용량이 제한된 일종의 컨테이너, 모든 리소스엔 최대용량과 두개의 대기열이 있음(put, get)\n",
        "import numpy as np\n",
        "\n",
        "library = simpy.Resource(env, capacity = 2)\n",
        "\n",
        "def Student(env, id, library, arrive_time):\n",
        "  yield env.timeout(arrive_time) # 도착시간을 랜덤하게 생성\n",
        "  with library.request() as req: # 프로세스에 접근시 with 리소스.request() as req 사용\n",
        "    yield req # resource가 사용 가능할 때까지 기다림\n",
        "    study_time = np.random.uniform(0, 5)\n",
        "\n",
        "    yield env.timeout(study_time) # study하는 동안 resource 점유\n",
        "\n",
        "# 사용시\n",
        "for i in range(0, 5):\n",
        "  arrive_time = np.random.uniform(1, 5) # 5명학생 객체 생성\n",
        "  student = Student(env, i, library, arrive_time) \n",
        "  env.process(student) # process에 객체 넘김\n",
        "\n",
        "env.run() # 30 까지 실행"
      ],
      "execution_count": 0,
      "outputs": []
    },
    {
      "cell_type": "code",
      "metadata": {
        "id": "nnZgAZ54jyzt",
        "colab_type": "code",
        "colab": {
          "base_uri": "https://localhost:8080/",
          "height": 125
        },
        "outputId": "5bcdc5d9-e4c2-4e8a-d456-6a5c0cebc25f"
      },
      "source": [
        "# priority resource: 프로세스가 각 요청에 대해 우선순위 제공 가능\n",
        "import simpy\n",
        "\n",
        "def resource_user(name, env, resource, wait, prio):\n",
        "  yield env.timeout(wait)\n",
        "  with resource.request(priority = prio) as req:\n",
        "    print('%s requesting at %s with priority = %s' %(name, env.now, prio))\n",
        "    yield req\n",
        "    print('%s got resource at %s' %(name, env.now))\n",
        "    yield env.timeout(3)\n",
        "\n",
        "env = simpy.Environment()\n",
        "res = simpy.PriorityResource(env, capacity = 1)\n",
        "p1 = env.process(resource_user(1, env, res, wait = 0, prio = 0))\n",
        "p2 = env.process(resource_user(2, env, res, wait = 1, prio = 0))\n",
        "p3 = env.process(resource_user(3, env, res, wait = 2, prio = -1))\n",
        "env.run()"
      ],
      "execution_count": 9,
      "outputs": [
        {
          "output_type": "stream",
          "text": [
            "1 requesting at 0 with priority = 0\n",
            "1 got resource at 0\n",
            "2 requesting at 1 with priority = 0\n",
            "3 requesting at 2 with priority = -1\n",
            "3 got resource at 3\n",
            "2 got resource at 6\n"
          ],
          "name": "stdout"
        }
      ]
    },
    {
      "cell_type": "code",
      "metadata": {
        "id": "hoCUZks5q7oy",
        "colab_type": "code",
        "colab": {
          "base_uri": "https://localhost:8080/",
          "height": 125
        },
        "outputId": "efcd932a-7b4f-4ac2-bea5-2a845cf7c505"
      },
      "source": [
        "# preemptive Resource: t새로운 요청이 기존 자원을 내쫓고 점유할 수 있음\n",
        "import simpy\n",
        "\n",
        "def resource_user(name, env, resource, wait, prio):\n",
        "  yield env.timeout(wait)\n",
        "  with resource.request(priority = prio) as req:\n",
        "    print('%s requesting at %s with prioity = %s' %(name, env.now, prio))\n",
        "    yield req\n",
        "    print('%s got resource at %s' %(name, env.now))\n",
        "\n",
        "    try:\n",
        "      yield env.timeout(3)\n",
        "\n",
        "    except simpy.Interrupt as interrupt:\n",
        "      by = interrupt.caused.by\n",
        "      usage = env.now - interrupt.cause.usage_since\n",
        "      print('%s got preempted by %s at %s after %s' %(name, by, env.now, usage))\n",
        "\n",
        "env = simpy.Environment()\n",
        "res = simpy.PreemptiveResource(env, capacity = 1)\n",
        "p1 = env.process(resource_user(1, env, res, wait = 0, prio = 0))\n",
        "p2 = env.process(resource_user(2, env, res, wait = 1, prio = 0))\n",
        "p3 = env.process(resource_user(3, env, res, wait = 2, prio = 0))\n",
        "\n",
        "env.run()"
      ],
      "execution_count": 10,
      "outputs": [
        {
          "output_type": "stream",
          "text": [
            "1 requesting at 0 with prioity = 0\n",
            "1 got resource at 0\n",
            "2 requesting at 1 with prioity = 0\n",
            "3 requesting at 2 with prioity = 0\n",
            "2 got resource at 3\n",
            "3 got resource at 6\n"
          ],
          "name": "stdout"
        }
      ]
    },
    {
      "cell_type": "code",
      "metadata": {
        "id": "BS2XlRjisW5G",
        "colab_type": "code",
        "colab": {
          "base_uri": "https://localhost:8080/",
          "height": 269
        },
        "outputId": "f4b23acd-3d9b-4508-b0c7-34ad078b4d3c"
      },
      "source": [
        "# Containers: 미분화된 대량 생산, 소비를 모델링, 연속 불연속적 모두 가능, 현재 레벨 검색가능 monitor_tank\n",
        "import simpy\n",
        "\n",
        "class GasStation: \n",
        "  def __init__(self, env):\n",
        "    self.fuel_dispensers = simpy.Resource(env, capacity = 2)\n",
        "    self.gas_tank = simpy.Container(env, init = 100, capacity = 1000)\n",
        "    self.mon_proc = env.process(self.monitor_tank(env))\n",
        "\n",
        "  def monitor_tank(self, env): \n",
        "    while True:\n",
        "      if self.gas_tank.level < 100:\n",
        "        print('Calling tanker at %s' %env.now)\n",
        "        env.process(tanker(env, self))\n",
        "\n",
        "      yield env.timeout(15)\n",
        "  \n",
        "def tanker(env, gas_station):\n",
        "  yield env.timeout(10) # Need 10 Minutes to arrive\n",
        "  print('Tanker arriving at %s' %env.now)\n",
        "  amout = gas_station.gas_tank.capacity - gas_station.gas_tank.level\n",
        "  yield gas_station.gas_tank.put(amout)\n",
        "\n",
        "def car(name, env, gas_station):\n",
        "  print('Car %s arriving at %s' %(name, env.now))\n",
        "  with gas_station.fuel_dispensers.request() as req:\n",
        "    yield req\n",
        "    print('Car %s starts refueling at %s' %(name, env.now))\n",
        "    yield gas_station.gas_tank.get(40)\n",
        "    yield env.timeout(5)\n",
        "    print('Car %s done refueling at %s' %(name, env.now))\n",
        "\n",
        "def car_generator(env, gas_station):\n",
        "  for i in range(4):\n",
        "    env.process(car(i, env, gas_station))\n",
        "    yield env.timeout(5)\n",
        "\n",
        "env = simpy.Environment()\n",
        "gas_station = GasStation(env)\n",
        "car_gen = env.process(car_generator(env, gas_station))\n",
        "env.run(35)"
      ],
      "execution_count": 13,
      "outputs": [
        {
          "output_type": "stream",
          "text": [
            "Car 0 arriving at 0\n",
            "Car 0 starts refueling at 0\n",
            "Car 1 arriving at 5\n",
            "Car 0 done refueling at 5\n",
            "Car 1 starts refueling at 5\n",
            "Car 2 arriving at 10\n",
            "Car 1 done refueling at 10\n",
            "Car 2 starts refueling at 10\n",
            "Calling tanker at 15\n",
            "Car 3 arriving at 15\n",
            "Car 3 starts refueling at 15\n",
            "Tanker arriving at 25\n",
            "Car 2 done refueling at 30\n",
            "Car 3 done refueling at 30\n"
          ],
          "name": "stdout"
        }
      ]
    },
    {
      "cell_type": "code",
      "metadata": {
        "id": "1L_p3xYwXVj_",
        "colab_type": "code",
        "colab": {
          "base_uri": "https://localhost:8080/",
          "height": 143
        },
        "outputId": "a4ee5d49-17d2-45c9-cff1-1ded735c6b99"
      },
      "source": [
        "#Stores: object의 생산과 소비를 모델링\n",
        "import simpy\n",
        "\n",
        "def producer(env, store):\n",
        "  for i in range(100):\n",
        "    yield env.timeout(2)\n",
        "    yield store.put('spam %s' %i)\n",
        "    print('Produced spam at', env.now)\n",
        "\n",
        "def consumer(name, env, sotre):\n",
        "  while True:\n",
        "    yield env.timeout(1)\n",
        "    print(name, 'requesting spam at', env.now)\n",
        "    item = yield store.get()\n",
        "    print(name, 'got', item, 'at', env.now)\n",
        "\n",
        "env = simpy.Environment()\n",
        "store = simpy.Store(env, capacity = 2)\n",
        "\n",
        "prod = env.process(producer(env, store))\n",
        "consumers = [env.process(consumer(i, env, store)) for i in range(2)]\n",
        "\n",
        "env.run(until = 5)"
      ],
      "execution_count": 16,
      "outputs": [
        {
          "output_type": "stream",
          "text": [
            "0 requesting spam at 1\n",
            "1 requesting spam at 1\n",
            "Produced spam at 2\n",
            "0 got spam 0 at 2\n",
            "0 requesting spam at 3\n",
            "Produced spam at 4\n",
            "1 got spam 1 at 4\n"
          ],
          "name": "stdout"
        }
      ]
    },
    {
      "cell_type": "code",
      "metadata": {
        "id": "UAcq3TV2bLuv",
        "colab_type": "code",
        "colab": {}
      },
      "source": [
        "# filter sotre: 다양한 속성이 있는 기계공장을 모델링\n",
        "import simpy\n",
        "from collections import namedtuple\n",
        "\n",
        "Machine = namedtuple('Machine', 'size, duration')"
      ],
      "execution_count": 0,
      "outputs": []
    }
  ]
}