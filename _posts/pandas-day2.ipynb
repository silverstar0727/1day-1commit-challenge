{
  "nbformat": 4,
  "nbformat_minor": 0,
  "metadata": {
    "colab": {
      "name": "Pandas_Viewing_Data.ipynb",
      "provenance": [],
      "authorship_tag": "ABX9TyP1L/V99W4QUttiptUVyto3",
      "include_colab_link": true
    },
    "kernelspec": {
      "name": "python3",
      "display_name": "Python 3"
    }
  },
  "cells": [
    {
      "cell_type": "markdown",
      "metadata": {
        "id": "view-in-github",
        "colab_type": "text"
      },
      "source": [
        "<a href=\"https://colab.research.google.com/github/silverstar0727/1day-1commit-challenge/blob/master/Pandas_Viewing_Data.ipynb\" target=\"_parent\"><img src=\"https://colab.research.google.com/assets/colab-badge.svg\" alt=\"Open In Colab\"/></a>"
      ]
    },
    {
      "cell_type": "markdown",
      "metadata": {
        "id": "iDDWkeZbd-2G",
        "colab_type": "text"
      },
      "source": [
        "# Viewing Data\n",
        "## pandas day2"
      ]
    },
    {
      "cell_type": "markdown",
      "metadata": {
        "id": "vDdt6MNSeGBJ",
        "colab_type": "text"
      },
      "source": [
        "기존 day1의 data를 불러와, 진행합니다~~!"
      ]
    },
    {
      "cell_type": "code",
      "metadata": {
        "id": "ASvrODa1d73u",
        "colab_type": "code",
        "colab": {}
      },
      "source": [
        "# 기존 데이터 불러오기\n",
        "import pandas as pd\n",
        "import numpy as np\n",
        "import matplotlib.pyplot as plt\n",
        "dates = pd.date_range('20100101', periods = 5)\n",
        "df = pd.DataFrame(np.random.randn(5,4), index = dates, columns = list('ABCD'))"
      ],
      "execution_count": 0,
      "outputs": []
    },
    {
      "cell_type": "code",
      "metadata": {
        "id": "DtXhSqYweXyb",
        "colab_type": "code",
        "colab": {
          "base_uri": "https://localhost:8080/",
          "height": 204
        },
        "outputId": "b3ec3246-9e58-4a1c-9745-be29163f378a"
      },
      "source": [
        "df"
      ],
      "execution_count": 4,
      "outputs": [
        {
          "output_type": "execute_result",
          "data": {
            "text/html": [
              "<div>\n",
              "<style scoped>\n",
              "    .dataframe tbody tr th:only-of-type {\n",
              "        vertical-align: middle;\n",
              "    }\n",
              "\n",
              "    .dataframe tbody tr th {\n",
              "        vertical-align: top;\n",
              "    }\n",
              "\n",
              "    .dataframe thead th {\n",
              "        text-align: right;\n",
              "    }\n",
              "</style>\n",
              "<table border=\"1\" class=\"dataframe\">\n",
              "  <thead>\n",
              "    <tr style=\"text-align: right;\">\n",
              "      <th></th>\n",
              "      <th>A</th>\n",
              "      <th>B</th>\n",
              "      <th>C</th>\n",
              "      <th>D</th>\n",
              "    </tr>\n",
              "  </thead>\n",
              "  <tbody>\n",
              "    <tr>\n",
              "      <th>2010-01-01</th>\n",
              "      <td>1.052560</td>\n",
              "      <td>0.232773</td>\n",
              "      <td>0.137408</td>\n",
              "      <td>1.790075</td>\n",
              "    </tr>\n",
              "    <tr>\n",
              "      <th>2010-01-02</th>\n",
              "      <td>-1.102667</td>\n",
              "      <td>-1.766838</td>\n",
              "      <td>1.627701</td>\n",
              "      <td>1.576945</td>\n",
              "    </tr>\n",
              "    <tr>\n",
              "      <th>2010-01-03</th>\n",
              "      <td>0.410792</td>\n",
              "      <td>-0.118428</td>\n",
              "      <td>0.302044</td>\n",
              "      <td>1.116395</td>\n",
              "    </tr>\n",
              "    <tr>\n",
              "      <th>2010-01-04</th>\n",
              "      <td>-0.783808</td>\n",
              "      <td>0.802451</td>\n",
              "      <td>1.384264</td>\n",
              "      <td>-0.244084</td>\n",
              "    </tr>\n",
              "    <tr>\n",
              "      <th>2010-01-05</th>\n",
              "      <td>0.649921</td>\n",
              "      <td>1.121616</td>\n",
              "      <td>-1.510543</td>\n",
              "      <td>-0.076581</td>\n",
              "    </tr>\n",
              "  </tbody>\n",
              "</table>\n",
              "</div>"
            ],
            "text/plain": [
              "                   A         B         C         D\n",
              "2010-01-01  1.052560  0.232773  0.137408  1.790075\n",
              "2010-01-02 -1.102667 -1.766838  1.627701  1.576945\n",
              "2010-01-03  0.410792 -0.118428  0.302044  1.116395\n",
              "2010-01-04 -0.783808  0.802451  1.384264 -0.244084\n",
              "2010-01-05  0.649921  1.121616 -1.510543 -0.076581"
            ]
          },
          "metadata": {
            "tags": []
          },
          "execution_count": 4
        }
      ]
    },
    {
      "cell_type": "markdown",
      "metadata": {
        "id": "-aCD5L_7elSk",
        "colab_type": "text"
      },
      "source": [
        "## df.tail은 마지막 행에 해당하는 데이터를 불러옵니다"
      ]
    },
    {
      "cell_type": "code",
      "metadata": {
        "id": "uS5m5s3Ceedd",
        "colab_type": "code",
        "colab": {
          "base_uri": "https://localhost:8080/",
          "height": 142
        },
        "outputId": "6eb05b7e-abba-4f0b-a569-481d7057f23d"
      },
      "source": [
        "# 마지막에서 3행 불러오기\n",
        "df.tail(3)"
      ],
      "execution_count": 5,
      "outputs": [
        {
          "output_type": "execute_result",
          "data": {
            "text/html": [
              "<div>\n",
              "<style scoped>\n",
              "    .dataframe tbody tr th:only-of-type {\n",
              "        vertical-align: middle;\n",
              "    }\n",
              "\n",
              "    .dataframe tbody tr th {\n",
              "        vertical-align: top;\n",
              "    }\n",
              "\n",
              "    .dataframe thead th {\n",
              "        text-align: right;\n",
              "    }\n",
              "</style>\n",
              "<table border=\"1\" class=\"dataframe\">\n",
              "  <thead>\n",
              "    <tr style=\"text-align: right;\">\n",
              "      <th></th>\n",
              "      <th>A</th>\n",
              "      <th>B</th>\n",
              "      <th>C</th>\n",
              "      <th>D</th>\n",
              "    </tr>\n",
              "  </thead>\n",
              "  <tbody>\n",
              "    <tr>\n",
              "      <th>2010-01-03</th>\n",
              "      <td>0.410792</td>\n",
              "      <td>-0.118428</td>\n",
              "      <td>0.302044</td>\n",
              "      <td>1.116395</td>\n",
              "    </tr>\n",
              "    <tr>\n",
              "      <th>2010-01-04</th>\n",
              "      <td>-0.783808</td>\n",
              "      <td>0.802451</td>\n",
              "      <td>1.384264</td>\n",
              "      <td>-0.244084</td>\n",
              "    </tr>\n",
              "    <tr>\n",
              "      <th>2010-01-05</th>\n",
              "      <td>0.649921</td>\n",
              "      <td>1.121616</td>\n",
              "      <td>-1.510543</td>\n",
              "      <td>-0.076581</td>\n",
              "    </tr>\n",
              "  </tbody>\n",
              "</table>\n",
              "</div>"
            ],
            "text/plain": [
              "                   A         B         C         D\n",
              "2010-01-03  0.410792 -0.118428  0.302044  1.116395\n",
              "2010-01-04 -0.783808  0.802451  1.384264 -0.244084\n",
              "2010-01-05  0.649921  1.121616 -1.510543 -0.076581"
            ]
          },
          "metadata": {
            "tags": []
          },
          "execution_count": 5
        }
      ]
    },
    {
      "cell_type": "code",
      "metadata": {
        "id": "x-MK3RxOejR3",
        "colab_type": "code",
        "colab": {
          "base_uri": "https://localhost:8080/",
          "height": 204
        },
        "outputId": "52c50bde-51c1-433b-e145-76c4ad0afb69"
      },
      "source": [
        "# 마지막에서 5행불러오기 (디폴트)\n",
        "df.tail()"
      ],
      "execution_count": 6,
      "outputs": [
        {
          "output_type": "execute_result",
          "data": {
            "text/html": [
              "<div>\n",
              "<style scoped>\n",
              "    .dataframe tbody tr th:only-of-type {\n",
              "        vertical-align: middle;\n",
              "    }\n",
              "\n",
              "    .dataframe tbody tr th {\n",
              "        vertical-align: top;\n",
              "    }\n",
              "\n",
              "    .dataframe thead th {\n",
              "        text-align: right;\n",
              "    }\n",
              "</style>\n",
              "<table border=\"1\" class=\"dataframe\">\n",
              "  <thead>\n",
              "    <tr style=\"text-align: right;\">\n",
              "      <th></th>\n",
              "      <th>A</th>\n",
              "      <th>B</th>\n",
              "      <th>C</th>\n",
              "      <th>D</th>\n",
              "    </tr>\n",
              "  </thead>\n",
              "  <tbody>\n",
              "    <tr>\n",
              "      <th>2010-01-01</th>\n",
              "      <td>1.052560</td>\n",
              "      <td>0.232773</td>\n",
              "      <td>0.137408</td>\n",
              "      <td>1.790075</td>\n",
              "    </tr>\n",
              "    <tr>\n",
              "      <th>2010-01-02</th>\n",
              "      <td>-1.102667</td>\n",
              "      <td>-1.766838</td>\n",
              "      <td>1.627701</td>\n",
              "      <td>1.576945</td>\n",
              "    </tr>\n",
              "    <tr>\n",
              "      <th>2010-01-03</th>\n",
              "      <td>0.410792</td>\n",
              "      <td>-0.118428</td>\n",
              "      <td>0.302044</td>\n",
              "      <td>1.116395</td>\n",
              "    </tr>\n",
              "    <tr>\n",
              "      <th>2010-01-04</th>\n",
              "      <td>-0.783808</td>\n",
              "      <td>0.802451</td>\n",
              "      <td>1.384264</td>\n",
              "      <td>-0.244084</td>\n",
              "    </tr>\n",
              "    <tr>\n",
              "      <th>2010-01-05</th>\n",
              "      <td>0.649921</td>\n",
              "      <td>1.121616</td>\n",
              "      <td>-1.510543</td>\n",
              "      <td>-0.076581</td>\n",
              "    </tr>\n",
              "  </tbody>\n",
              "</table>\n",
              "</div>"
            ],
            "text/plain": [
              "                   A         B         C         D\n",
              "2010-01-01  1.052560  0.232773  0.137408  1.790075\n",
              "2010-01-02 -1.102667 -1.766838  1.627701  1.576945\n",
              "2010-01-03  0.410792 -0.118428  0.302044  1.116395\n",
              "2010-01-04 -0.783808  0.802451  1.384264 -0.244084\n",
              "2010-01-05  0.649921  1.121616 -1.510543 -0.076581"
            ]
          },
          "metadata": {
            "tags": []
          },
          "execution_count": 6
        }
      ]
    },
    {
      "cell_type": "markdown",
      "metadata": {
        "id": "HstAFExEe7Gr",
        "colab_type": "text"
      },
      "source": [
        "## index, columns, values 등의 기본정보를 확인합니다\n",
        "\n"
      ]
    },
    {
      "cell_type": "code",
      "metadata": {
        "id": "D2XGmZGLe1ti",
        "colab_type": "code",
        "colab": {
          "base_uri": "https://localhost:8080/",
          "height": 71
        },
        "outputId": "774ff494-306c-4f3c-db08-92e3b9ac9b09"
      },
      "source": [
        "df.index"
      ],
      "execution_count": 7,
      "outputs": [
        {
          "output_type": "execute_result",
          "data": {
            "text/plain": [
              "DatetimeIndex(['2010-01-01', '2010-01-02', '2010-01-03', '2010-01-04',\n",
              "               '2010-01-05'],\n",
              "              dtype='datetime64[ns]', freq='D')"
            ]
          },
          "metadata": {
            "tags": []
          },
          "execution_count": 7
        }
      ]
    },
    {
      "cell_type": "code",
      "metadata": {
        "id": "TIqlEz9ve5L6",
        "colab_type": "code",
        "colab": {
          "base_uri": "https://localhost:8080/",
          "height": 35
        },
        "outputId": "d7e9b254-2c15-469d-b63f-8c3477031212"
      },
      "source": [
        "df.columns"
      ],
      "execution_count": 9,
      "outputs": [
        {
          "output_type": "execute_result",
          "data": {
            "text/plain": [
              "Index(['A', 'B', 'C', 'D'], dtype='object')"
            ]
          },
          "metadata": {
            "tags": []
          },
          "execution_count": 9
        }
      ]
    },
    {
      "cell_type": "code",
      "metadata": {
        "id": "TYTfcswdfeBO",
        "colab_type": "code",
        "colab": {
          "base_uri": "https://localhost:8080/",
          "height": 107
        },
        "outputId": "21326a7d-e783-446e-859b-5d2426feabed"
      },
      "source": [
        "df.values"
      ],
      "execution_count": 10,
      "outputs": [
        {
          "output_type": "execute_result",
          "data": {
            "text/plain": [
              "array([[ 1.05255966,  0.23277307,  0.13740786,  1.79007536],\n",
              "       [-1.10266676, -1.76683827,  1.62770053,  1.57694493],\n",
              "       [ 0.41079152, -0.11842764,  0.30204438,  1.11639482],\n",
              "       [-0.78380761,  0.80245118,  1.38426383, -0.24408428],\n",
              "       [ 0.6499207 ,  1.1216157 , -1.51054344, -0.07658148]])"
            ]
          },
          "metadata": {
            "tags": []
          },
          "execution_count": 10
        }
      ]
    },
    {
      "cell_type": "code",
      "metadata": {
        "id": "V7r55WjjffPa",
        "colab_type": "code",
        "colab": {
          "base_uri": "https://localhost:8080/",
          "height": 297
        },
        "outputId": "c0878fc0-9efb-451d-8fba-986ed49cab8f"
      },
      "source": [
        "# 통계적 수치를 볼 수 있습니다.\n",
        "# percentiles(백분위수)의 디폴트는 quartile(4분위 수)입니당\n",
        "df.describe()"
      ],
      "execution_count": 17,
      "outputs": [
        {
          "output_type": "execute_result",
          "data": {
            "text/html": [
              "<div>\n",
              "<style scoped>\n",
              "    .dataframe tbody tr th:only-of-type {\n",
              "        vertical-align: middle;\n",
              "    }\n",
              "\n",
              "    .dataframe tbody tr th {\n",
              "        vertical-align: top;\n",
              "    }\n",
              "\n",
              "    .dataframe thead th {\n",
              "        text-align: right;\n",
              "    }\n",
              "</style>\n",
              "<table border=\"1\" class=\"dataframe\">\n",
              "  <thead>\n",
              "    <tr style=\"text-align: right;\">\n",
              "      <th></th>\n",
              "      <th>A</th>\n",
              "      <th>B</th>\n",
              "      <th>C</th>\n",
              "      <th>D</th>\n",
              "    </tr>\n",
              "  </thead>\n",
              "  <tbody>\n",
              "    <tr>\n",
              "      <th>count</th>\n",
              "      <td>5.000000</td>\n",
              "      <td>5.000000</td>\n",
              "      <td>5.000000</td>\n",
              "      <td>5.000000</td>\n",
              "    </tr>\n",
              "    <tr>\n",
              "      <th>mean</th>\n",
              "      <td>0.045360</td>\n",
              "      <td>0.054315</td>\n",
              "      <td>0.388175</td>\n",
              "      <td>0.832550</td>\n",
              "    </tr>\n",
              "    <tr>\n",
              "      <th>std</th>\n",
              "      <td>0.937946</td>\n",
              "      <td>1.126624</td>\n",
              "      <td>1.245397</td>\n",
              "      <td>0.940373</td>\n",
              "    </tr>\n",
              "    <tr>\n",
              "      <th>min</th>\n",
              "      <td>-1.102667</td>\n",
              "      <td>-1.766838</td>\n",
              "      <td>-1.510543</td>\n",
              "      <td>-0.244084</td>\n",
              "    </tr>\n",
              "    <tr>\n",
              "      <th>25%</th>\n",
              "      <td>-0.783808</td>\n",
              "      <td>-0.118428</td>\n",
              "      <td>0.137408</td>\n",
              "      <td>-0.076581</td>\n",
              "    </tr>\n",
              "    <tr>\n",
              "      <th>50%</th>\n",
              "      <td>0.410792</td>\n",
              "      <td>0.232773</td>\n",
              "      <td>0.302044</td>\n",
              "      <td>1.116395</td>\n",
              "    </tr>\n",
              "    <tr>\n",
              "      <th>75%</th>\n",
              "      <td>0.649921</td>\n",
              "      <td>0.802451</td>\n",
              "      <td>1.384264</td>\n",
              "      <td>1.576945</td>\n",
              "    </tr>\n",
              "    <tr>\n",
              "      <th>max</th>\n",
              "      <td>1.052560</td>\n",
              "      <td>1.121616</td>\n",
              "      <td>1.627701</td>\n",
              "      <td>1.790075</td>\n",
              "    </tr>\n",
              "  </tbody>\n",
              "</table>\n",
              "</div>"
            ],
            "text/plain": [
              "              A         B         C         D\n",
              "count  5.000000  5.000000  5.000000  5.000000\n",
              "mean   0.045360  0.054315  0.388175  0.832550\n",
              "std    0.937946  1.126624  1.245397  0.940373\n",
              "min   -1.102667 -1.766838 -1.510543 -0.244084\n",
              "25%   -0.783808 -0.118428  0.137408 -0.076581\n",
              "50%    0.410792  0.232773  0.302044  1.116395\n",
              "75%    0.649921  0.802451  1.384264  1.576945\n",
              "max    1.052560  1.121616  1.627701  1.790075"
            ]
          },
          "metadata": {
            "tags": []
          },
          "execution_count": 17
        }
      ]
    },
    {
      "cell_type": "code",
      "metadata": {
        "id": "Z93NQTDAfhNw",
        "colab_type": "code",
        "colab": {
          "base_uri": "https://localhost:8080/",
          "height": 173
        },
        "outputId": "b6f0245f-3abe-4d03-ebf8-62e1b0c20adf"
      },
      "source": [
        "#행렬의 전치행렬을 떠올리면 편합니다\n",
        "df.T"
      ],
      "execution_count": 25,
      "outputs": [
        {
          "output_type": "execute_result",
          "data": {
            "text/html": [
              "<div>\n",
              "<style scoped>\n",
              "    .dataframe tbody tr th:only-of-type {\n",
              "        vertical-align: middle;\n",
              "    }\n",
              "\n",
              "    .dataframe tbody tr th {\n",
              "        vertical-align: top;\n",
              "    }\n",
              "\n",
              "    .dataframe thead th {\n",
              "        text-align: right;\n",
              "    }\n",
              "</style>\n",
              "<table border=\"1\" class=\"dataframe\">\n",
              "  <thead>\n",
              "    <tr style=\"text-align: right;\">\n",
              "      <th></th>\n",
              "      <th>2010-01-01</th>\n",
              "      <th>2010-01-02</th>\n",
              "      <th>2010-01-03</th>\n",
              "      <th>2010-01-04</th>\n",
              "      <th>2010-01-05</th>\n",
              "    </tr>\n",
              "  </thead>\n",
              "  <tbody>\n",
              "    <tr>\n",
              "      <th>A</th>\n",
              "      <td>1.052560</td>\n",
              "      <td>-1.102667</td>\n",
              "      <td>0.410792</td>\n",
              "      <td>-0.783808</td>\n",
              "      <td>0.649921</td>\n",
              "    </tr>\n",
              "    <tr>\n",
              "      <th>B</th>\n",
              "      <td>0.232773</td>\n",
              "      <td>-1.766838</td>\n",
              "      <td>-0.118428</td>\n",
              "      <td>0.802451</td>\n",
              "      <td>1.121616</td>\n",
              "    </tr>\n",
              "    <tr>\n",
              "      <th>C</th>\n",
              "      <td>0.137408</td>\n",
              "      <td>1.627701</td>\n",
              "      <td>0.302044</td>\n",
              "      <td>1.384264</td>\n",
              "      <td>-1.510543</td>\n",
              "    </tr>\n",
              "    <tr>\n",
              "      <th>D</th>\n",
              "      <td>1.790075</td>\n",
              "      <td>1.576945</td>\n",
              "      <td>1.116395</td>\n",
              "      <td>-0.244084</td>\n",
              "      <td>-0.076581</td>\n",
              "    </tr>\n",
              "  </tbody>\n",
              "</table>\n",
              "</div>"
            ],
            "text/plain": [
              "   2010-01-01  2010-01-02  2010-01-03  2010-01-04  2010-01-05\n",
              "A    1.052560   -1.102667    0.410792   -0.783808    0.649921\n",
              "B    0.232773   -1.766838   -0.118428    0.802451    1.121616\n",
              "C    0.137408    1.627701    0.302044    1.384264   -1.510543\n",
              "D    1.790075    1.576945    1.116395   -0.244084   -0.076581"
            ]
          },
          "metadata": {
            "tags": []
          },
          "execution_count": 25
        }
      ]
    },
    {
      "cell_type": "code",
      "metadata": {
        "id": "YRqlasTAgT9y",
        "colab_type": "code",
        "colab": {
          "base_uri": "https://localhost:8080/",
          "height": 233
        },
        "outputId": "2c954b51-c9cb-4001-b3b1-1dcb238ed617"
      },
      "source": [
        "# column 별로 정리합니다.\n",
        "print(df.sort_index(axis = 1, ascending = True))\n",
        "print(df.sort_index(axis = 1, ascending = False))"
      ],
      "execution_count": 26,
      "outputs": [
        {
          "output_type": "stream",
          "text": [
            "                   A         B         C         D\n",
            "2010-01-01  1.052560  0.232773  0.137408  1.790075\n",
            "2010-01-02 -1.102667 -1.766838  1.627701  1.576945\n",
            "2010-01-03  0.410792 -0.118428  0.302044  1.116395\n",
            "2010-01-04 -0.783808  0.802451  1.384264 -0.244084\n",
            "2010-01-05  0.649921  1.121616 -1.510543 -0.076581\n",
            "                   D         C         B         A\n",
            "2010-01-01  1.790075  0.137408  0.232773  1.052560\n",
            "2010-01-02  1.576945  1.627701 -1.766838 -1.102667\n",
            "2010-01-03  1.116395  0.302044 -0.118428  0.410792\n",
            "2010-01-04 -0.244084  1.384264  0.802451 -0.783808\n",
            "2010-01-05 -0.076581 -1.510543  1.121616  0.649921\n"
          ],
          "name": "stdout"
        }
      ]
    },
    {
      "cell_type": "code",
      "metadata": {
        "id": "W2a7bI_lgcEI",
        "colab_type": "code",
        "colab": {
          "base_uri": "https://localhost:8080/",
          "height": 204
        },
        "outputId": "5362a1d5-3859-4b58-a056-efb41a1bd6e6"
      },
      "source": [
        "# row별로 정리합니다.\n",
        "df.sort_values(by = 'B')"
      ],
      "execution_count": 27,
      "outputs": [
        {
          "output_type": "execute_result",
          "data": {
            "text/html": [
              "<div>\n",
              "<style scoped>\n",
              "    .dataframe tbody tr th:only-of-type {\n",
              "        vertical-align: middle;\n",
              "    }\n",
              "\n",
              "    .dataframe tbody tr th {\n",
              "        vertical-align: top;\n",
              "    }\n",
              "\n",
              "    .dataframe thead th {\n",
              "        text-align: right;\n",
              "    }\n",
              "</style>\n",
              "<table border=\"1\" class=\"dataframe\">\n",
              "  <thead>\n",
              "    <tr style=\"text-align: right;\">\n",
              "      <th></th>\n",
              "      <th>A</th>\n",
              "      <th>B</th>\n",
              "      <th>C</th>\n",
              "      <th>D</th>\n",
              "    </tr>\n",
              "  </thead>\n",
              "  <tbody>\n",
              "    <tr>\n",
              "      <th>2010-01-02</th>\n",
              "      <td>-1.102667</td>\n",
              "      <td>-1.766838</td>\n",
              "      <td>1.627701</td>\n",
              "      <td>1.576945</td>\n",
              "    </tr>\n",
              "    <tr>\n",
              "      <th>2010-01-03</th>\n",
              "      <td>0.410792</td>\n",
              "      <td>-0.118428</td>\n",
              "      <td>0.302044</td>\n",
              "      <td>1.116395</td>\n",
              "    </tr>\n",
              "    <tr>\n",
              "      <th>2010-01-01</th>\n",
              "      <td>1.052560</td>\n",
              "      <td>0.232773</td>\n",
              "      <td>0.137408</td>\n",
              "      <td>1.790075</td>\n",
              "    </tr>\n",
              "    <tr>\n",
              "      <th>2010-01-04</th>\n",
              "      <td>-0.783808</td>\n",
              "      <td>0.802451</td>\n",
              "      <td>1.384264</td>\n",
              "      <td>-0.244084</td>\n",
              "    </tr>\n",
              "    <tr>\n",
              "      <th>2010-01-05</th>\n",
              "      <td>0.649921</td>\n",
              "      <td>1.121616</td>\n",
              "      <td>-1.510543</td>\n",
              "      <td>-0.076581</td>\n",
              "    </tr>\n",
              "  </tbody>\n",
              "</table>\n",
              "</div>"
            ],
            "text/plain": [
              "                   A         B         C         D\n",
              "2010-01-02 -1.102667 -1.766838  1.627701  1.576945\n",
              "2010-01-03  0.410792 -0.118428  0.302044  1.116395\n",
              "2010-01-01  1.052560  0.232773  0.137408  1.790075\n",
              "2010-01-04 -0.783808  0.802451  1.384264 -0.244084\n",
              "2010-01-05  0.649921  1.121616 -1.510543 -0.076581"
            ]
          },
          "metadata": {
            "tags": []
          },
          "execution_count": 27
        }
      ]
    },
    {
      "cell_type": "code",
      "metadata": {
        "id": "4ORmuBUAhAu1",
        "colab_type": "code",
        "colab": {}
      },
      "source": [
        ""
      ],
      "execution_count": 0,
      "outputs": []
    }
  ]
}
