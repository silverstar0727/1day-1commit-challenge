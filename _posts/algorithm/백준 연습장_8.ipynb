{
  "nbformat": 4,
  "nbformat_minor": 0,
  "metadata": {
    "colab": {
      "name": "Untitled1.ipynb",
      "provenance": [],
      "authorship_tag": "ABX9TyOSPvpqEoTB49wtSNGdEUWS",
      "include_colab_link": true
    },
    "kernelspec": {
      "name": "python3",
      "display_name": "Python 3"
    }
  },
  "cells": [
    {
      "cell_type": "markdown",
      "metadata": {
        "id": "view-in-github",
        "colab_type": "text"
      },
      "source": [
        "<a href=\"https://colab.research.google.com/github/silverstar0727/1day-1commit-challenge/blob/master/Untitled1.ipynb\" target=\"_parent\"><img src=\"https://colab.research.google.com/assets/colab-badge.svg\" alt=\"Open In Colab\"/></a>"
      ]
    },
    {
      "cell_type": "code",
      "metadata": {
        "id": "3FtErpo0L5Th",
        "colab_type": "code",
        "colab": {}
      },
      "source": [
        ""
      ],
      "execution_count": 0,
      "outputs": []
    },
    {
      "cell_type": "code",
      "metadata": {
        "id": "3Fm_r2lOJY-r",
        "colab_type": "code",
        "outputId": "2e8944f5-1b3d-4ffd-b1f5-389e67898a3a",
        "colab": {
          "base_uri": "https://localhost:8080/",
          "height": 143
        }
      },
      "source": [
        "# 9020\n",
        "# 소수 리스트 만들기\n",
        "prime_list = [0 for i in range(10001)]\n",
        "prime_list[1] = 1\n",
        "\n",
        "for i in range(2, 98):\n",
        "  for j in range(i * 2, 10001, i): # i*2는 바로다음의 배수\n",
        "    prime_list[j] = 1\n",
        "\n",
        "t = int(input())\n",
        "for i in range(t):\n",
        "  a = int(input())\n",
        "  b = a//2\n",
        "\n",
        "  for j in range(b, 1, -1):\n",
        "    if prime_list[a - j] == 0 and prime_list[j] == 0:\n",
        "      print(j, a-j)\n",
        "      break"
      ],
      "execution_count": 0,
      "outputs": [
        {
          "output_type": "stream",
          "text": [
            "3\n",
            "8\n",
            "3 5\n",
            "10\n",
            "5 5\n",
            "16\n",
            "5 11\n"
          ],
          "name": "stdout"
        }
      ]
    },
    {
      "cell_type": "code",
      "metadata": {
        "id": "Btp3pAVtUWWz",
        "colab_type": "code",
        "outputId": "96350927-53b4-446e-e1c0-8555de50f70d",
        "colab": {
          "base_uri": "https://localhost:8080/",
          "height": 53
        }
      },
      "source": [
        "# 5585\n",
        "X = int(input())\n",
        "counts = []\n",
        "for a in range(1):\n",
        "  for b in range(1, 4):\n",
        "    for c in range(1, 8):\n",
        "      for d in range(1, 39):\n",
        "        for e in range(1, 77):\n",
        "          for f in range(1, 381):\n",
        "            if a*500 + b*100 + c*50 + d*10 + e*5 +f == X:\n",
        "              counts.append(a+b+c+d+e+f)\n",
        "              \n",
        "print(min(counts))"
      ],
      "execution_count": 0,
      "outputs": [
        {
          "output_type": "stream",
          "text": [
            "380\n",
            "12\n"
          ],
          "name": "stdout"
        }
      ]
    },
    {
      "cell_type": "code",
      "metadata": {
        "id": "USeSeswVkceR",
        "colab_type": "code",
        "outputId": "7b482360-6e89-4f76-eada-4a5418ea7ff8",
        "colab": {
          "base_uri": "https://localhost:8080/",
          "height": 53
        }
      },
      "source": [
        "# greedy algorithm\n",
        "# 다른 풀이 5585\n",
        "# 시간초과... ㅠ\n",
        "a = int(input())\n",
        "\n",
        "def countcoin(a):\n",
        "  cnt500 = 0\n",
        "  cnt100 = 0\n",
        "  cnt50 = 0\n",
        "  cnt10 = 0\n",
        "  cnt5 = 0\n",
        "  cnt1 = 0\n",
        "\n",
        "  residu = 1000 - a #나머지금액\n",
        "  \n",
        "  cnt500 += int(residu/500)\n",
        "  residu = residu - cnt500 * 500\n",
        "\n",
        "  cnt100 += int(residu/100)\n",
        "  residu = residu - cnt100 * 100\n",
        "\n",
        "  cnt50 += int(residu/50)\n",
        "  residu = residu - cnt50 * 50\n",
        "\n",
        "  cnt10 += int(residu/10)\n",
        "  residu = residu - cnt10 * 10\n",
        "\n",
        "  cnt1 += int(residu/1)\n",
        "  residu = residu - cnt1 * 1\n",
        "\n",
        "  cnt = cnt500 + cnt100 + cnt50 + cnt10 + cnt5 + cnt1\n",
        "\n",
        "  return cnt\n",
        "\n",
        "print(countcoin(a))"
      ],
      "execution_count": 0,
      "outputs": [
        {
          "output_type": "stream",
          "text": [
            "380\n",
            "4\n"
          ],
          "name": "stdout"
        }
      ]
    },
    {
      "cell_type": "code",
      "metadata": {
        "id": "ZgkdOc3gzo1h",
        "colab_type": "code",
        "outputId": "ee20b96e-dfc1-4bb6-83e3-3def475fe367",
        "colab": {
          "base_uri": "https://localhost:8080/",
          "height": 53
        }
      },
      "source": [
        "# 다른풀이\n",
        "# greedy\n",
        "a = int(input())\n",
        "\n",
        "coin_list = [500, 100, 50, 10, 5, 1]\n",
        "\n",
        "def minimum_coin(value, coinlist):\n",
        "  count = 0\n",
        "  \n",
        "  residu = 1000 - value\n",
        "  for i in coinlist:\n",
        "    count += int(residu/i)\n",
        "    residu -= int(residu/i) * i\n",
        "\n",
        "  return count\n",
        "\n",
        "print(minimum_coin(a, coin_list))"
      ],
      "execution_count": 0,
      "outputs": [
        {
          "output_type": "stream",
          "text": [
            "380\n",
            "4\n"
          ],
          "name": "stdout"
        }
      ]
    },
    {
      "cell_type": "code",
      "metadata": {
        "id": "FAgwgH2Q0EG6",
        "colab_type": "code",
        "outputId": "5536bc57-240e-4a97-eb0a-d00c6fd5d046",
        "colab": {
          "base_uri": "https://localhost:8080/",
          "height": 233
        }
      },
      "source": [
        "# 11047\n",
        "N, K = map(int, input().split())\n",
        "\n",
        "lst = []\n",
        "for i in range(N):\n",
        "  a = int(input())\n",
        "  lst.append(a)\n",
        "\n",
        "count = []\n",
        "for i in range(N):\n",
        "  count.append(0)\n",
        "def count_coin(N, K, lst, count):\n",
        "  lst.reverse()\n",
        "  for i in range(N):\n",
        "    count[i] += int(K/lst[i])\n",
        "    K -= count[i] * lst[i]\n",
        "    \n",
        "  return count\n",
        "\n",
        "ans = count_coin(N, K, lst, count)\n",
        "\n",
        "print(sum(ans))"
      ],
      "execution_count": 0,
      "outputs": [
        {
          "output_type": "stream",
          "text": [
            "10 4200\n",
            "1\n",
            "5\n",
            "10\n",
            "50\n",
            "100\n",
            "500\n",
            "1000\n",
            "5000\n",
            "10000\n",
            "50000\n",
            "6\n"
          ],
          "name": "stdout"
        }
      ]
    },
    {
      "cell_type": "code",
      "metadata": {
        "id": "rucqivFT8BoZ",
        "colab_type": "code",
        "outputId": "626fc151-32cc-45ec-ee32-c2b582b9aefe",
        "colab": {
          "base_uri": "https://localhost:8080/",
          "height": 53
        }
      },
      "source": [
        "# 1085\n",
        "x, y, w, h = list(map(int, input().split()))\n",
        "print(min([x, y, w - x, h - y]))"
      ],
      "execution_count": 0,
      "outputs": [
        {
          "output_type": "stream",
          "text": [
            "6 2 10 3\n",
            "1\n"
          ],
          "name": "stdout"
        }
      ]
    }
  ]
}
