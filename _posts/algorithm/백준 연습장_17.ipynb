{
  "nbformat": 4,
  "nbformat_minor": 0,
  "metadata": {
    "colab": {
      "name": "Untitled0.ipynb",
      "provenance": [],
      "authorship_tag": "ABX9TyN7pfhU7bqkGaJjPH4TW78y",
      "include_colab_link": true
    },
    "kernelspec": {
      "name": "python3",
      "display_name": "Python 3"
    }
  },
  "cells": [
    {
      "cell_type": "markdown",
      "metadata": {
        "id": "view-in-github",
        "colab_type": "text"
      },
      "source": [
        "<a href=\"https://colab.research.google.com/github/silverstar0727/1day-1commit-challenge/blob/master/Untitled0.ipynb\" target=\"_parent\"><img src=\"https://colab.research.google.com/assets/colab-badge.svg\" alt=\"Open In Colab\"/></a>"
      ]
    },
    {
      "cell_type": "code",
      "metadata": {
        "id": "a3dj9n7HdocO",
        "colab_type": "code",
        "colab": {}
      },
      "source": [
        ""
      ],
      "execution_count": 0,
      "outputs": []
    },
    {
      "cell_type": "code",
      "metadata": {
        "id": "v1w_xq0658eA",
        "colab_type": "code",
        "colab": {}
      },
      "source": [
        "# 1003\n",
        "C = int(input())\n",
        "zero = [1, 0, 1]\n",
        "one = [0, 1, 1]\n",
        "\n",
        "def one_two_count(n):\n",
        "    init_len = len(zero)\n",
        "    if(init_len <= n):\n",
        "        for i in range(init_len, n + 1):\n",
        "            add_0 = zero[i - 2] + zero[i - 1]\n",
        "            add_1 = one[i - 2] + one[i - 1]\n",
        "            zero.append(add_0);one.append(add_1)\n",
        "    print('{} {}'.format(zero[n], one[n]))\n",
        "    \n",
        "for _ in range(C):\n",
        "    one_two_count(int(input()))"
      ],
      "execution_count": 0,
      "outputs": []
    },
    {
      "cell_type": "code",
      "metadata": {
        "id": "_ZyoTUJf58bY",
        "colab_type": "code",
        "outputId": "f947ae69-f156-435a-bca9-2a0e5e140854",
        "colab": {
          "base_uri": "https://localhost:8080/",
          "height": 53
        }
      },
      "source": [
        "# 1904\n",
        "# 2항씩 변하는 점화식..\n",
        "n = int(input())\n",
        "\n",
        "dp = [0] * 1000001\n",
        "dp[1] = 1\n",
        "dp[2] = 2\n",
        "\n",
        "for i in range(3, n + 1):\n",
        "  # 범위 초과를 방지하기 위해 마지막에도 %15746을 해줌\n",
        "  dp[i] = ((dp[i - 2] % 15746) + (dp[i - 1] % 15746)) % 15746\n",
        "\n",
        "print(dp[n])"
      ],
      "execution_count": 0,
      "outputs": [
        {
          "output_type": "stream",
          "text": [
            "4\n",
            "5\n"
          ],
          "name": "stdout"
        }
      ]
    },
    {
      "cell_type": "code",
      "metadata": {
        "id": "WU85qYwBAyNu",
        "colab_type": "code",
        "outputId": "83ba8d1d-75fb-4c5a-c89d-fc86eb53d804",
        "colab": {
          "base_uri": "https://localhost:8080/",
          "height": 107
        }
      },
      "source": [
        "# 9461\n",
        "# simple cursion시간초과..\n",
        "n = int(input())\n",
        "\n",
        "def P(n):\n",
        "  num_list = [1, 1, 1, 2, 2, 3, 4, 5, 7, 9]\n",
        "  if n <= 10:\n",
        "    return num_list[n - 1]\n",
        "\n",
        "  return P(n - 1) + P(n - 5)\n",
        "\n",
        "  \n",
        "for i in range(n):\n",
        "  k = int(input())\n",
        "  print(P(k))"
      ],
      "execution_count": 0,
      "outputs": [
        {
          "output_type": "stream",
          "text": [
            "2\n",
            "6\n",
            "3\n",
            "12\n",
            "16\n"
          ],
          "name": "stdout"
        }
      ]
    },
    {
      "cell_type": "code",
      "metadata": {
        "id": "YB1zjOAEgkyd",
        "colab_type": "code",
        "colab": {}
      },
      "source": [
        "# 9461\n",
        "# memoization도 시간초과... 하\n",
        "n = int(input())\n",
        "\n",
        "memo = {1:1, 2:1, 3:1, 4:2, 5:2, 6:3, 7:4, 8:5, 9:7, 10:9}\n",
        "def P(n):\n",
        "  if n <= 10:\n",
        "    return memo[n]\n",
        "  else:\n",
        "    memo[n] = P(n - 1) + P(n - 5)\n",
        "  return memo[n]\n",
        "\n",
        "  \n",
        "for i in range(n):\n",
        "  k = int(input())\n",
        "  print(P(k))"
      ],
      "execution_count": 0,
      "outputs": []
    },
    {
      "cell_type": "code",
      "metadata": {
        "id": "tr2Xl2Zse3cg",
        "colab_type": "code",
        "colab": {}
      },
      "source": [
        "# 9461\n",
        "# https://hwiyong.tistory.com/247\n",
        "# 진짜 모르겠음... 퍼옴 ㅠㅠ\n",
        "\n",
        "T = int(input())\n",
        "\n",
        "p_list = [0] * 101\n",
        "p_list[0] = 1; p_list[1] = 1; p_list[2] = 1\n",
        "p_list[3] = 2; p_list[4] = 2\n",
        "\n",
        "for _ in range(T):\n",
        "    N = int(input())\n",
        "\n",
        "    pos = 0\n",
        "    for i in range(5, N):\n",
        "        p_list[i] = p_list[pos] + p_list[i - 1]\n",
        "        pos += 1\n",
        "    print(p_list[N - 1])"
      ],
      "execution_count": 0,
      "outputs": []
    }
  ]
}
