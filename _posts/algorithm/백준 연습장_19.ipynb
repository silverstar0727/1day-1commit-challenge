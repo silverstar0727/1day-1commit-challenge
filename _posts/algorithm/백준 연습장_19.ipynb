{
  "nbformat": 4,
  "nbformat_minor": 0,
  "metadata": {
    "colab": {
      "name": "백준 연습장.ipynb",
      "provenance": [],
      "collapsed_sections": [],
      "authorship_tag": "ABX9TyOJh3n4hOd8uwtiq4SoVsWu",
      "include_colab_link": true
    },
    "kernelspec": {
      "name": "python3",
      "display_name": "Python 3"
    }
  },
  "cells": [
    {
      "cell_type": "markdown",
      "metadata": {
        "id": "view-in-github",
        "colab_type": "text"
      },
      "source": [
        "<a href=\"https://colab.research.google.com/github/silverstar0727/1day-1commit-challenge/blob/master/%EB%B0%B1%EC%A4%80_%EC%97%B0%EC%8A%B5%EC%9E%A5.ipynb\" target=\"_parent\"><img src=\"https://colab.research.google.com/assets/colab-badge.svg\" alt=\"Open In Colab\"/></a>"
      ]
    },
    {
      "cell_type": "code",
      "metadata": {
        "id": "kQtKNKGvHe6b",
        "colab_type": "code",
        "colab": {}
      },
      "source": [
        "# 1931\n",
        "# 회의실 배정 \n",
        "n = int(input())\n",
        "\n",
        "data = []\n",
        "for i in range(n):\n",
        "  data.appned(list(map(int, input().split()))) # 회의 시작과 끝시간 저장\n",
        "\n",
        "times = []\n",
        "for i in range(n):\n",
        "  times.append(data[i][1] - data[i][0]) # 회의시간을 저장\n",
        "\n"
      ],
      "execution_count": 0,
      "outputs": []
    },
    {
      "cell_type": "code",
      "metadata": {
        "id": "upK5D6FDHe36",
        "colab_type": "code",
        "outputId": "6b4f0aa7-df78-4a94-83c3-bed12f4fc627",
        "colab": {
          "base_uri": "https://localhost:8080/",
          "height": 179
        }
      },
      "source": [
        "data = [[1,4],[3,5],[0,6],[5,7],[3,8],[5,9],[6,10],[8,11],[8,12]]\n",
        "\n",
        "for i in range(len(data)):\n",
        "  data[i].append(data[i][1] - data[i][0]) # 회의시간을 저장\n",
        "\n",
        "for i in range(len(data)):\n",
        "  data[i][0], data[i][1], data[i][2] = data[i][2], data[i][0], data[i][1] # 순서바꾸기\n",
        "\n",
        "data.sort()\n",
        "data\n",
        "\n",
        "for i in range(len(data)):\n"
      ],
      "execution_count": 0,
      "outputs": [
        {
          "output_type": "execute_result",
          "data": {
            "text/plain": [
              "[[2, 3, 5],\n",
              " [2, 5, 7],\n",
              " [3, 1, 4],\n",
              " [3, 8, 11],\n",
              " [4, 5, 9],\n",
              " [4, 6, 10],\n",
              " [4, 8, 12],\n",
              " [5, 3, 8],\n",
              " [6, 0, 6]]"
            ]
          },
          "metadata": {
            "tags": []
          },
          "execution_count": 32
        }
      ]
    },
    {
      "cell_type": "code",
      "metadata": {
        "id": "skW7NZD8HexD",
        "colab_type": "code",
        "outputId": "f15fe96e-9184-4a1f-a52f-49a758b8fe6f",
        "colab": {
          "base_uri": "https://localhost:8080/",
          "height": 136
        }
      },
      "source": [
        "data = [[1,4],[3,5],[0,6],[5,7],[3,8],[5,9],[6,10],[8,11],[8,12]]\n",
        "\n",
        "data.sort() # 시작순으로 정렬\n",
        "data\n",
        "\n",
        "for i in range(len(data)): # 첫번째 선택\n",
        "  cnt = 0 # 회의 개수 카운트\n",
        "  for j in range(i+1, len(data)): # 첫번쨰 선택한 것보다 시작시간이 늦은 것 선택\n",
        "    if data[i][1] <= data[j][0]:\n",
        "      cnt += 1\n",
        "      for k in range()"
      ],
      "execution_count": 0,
      "outputs": [
        {
          "output_type": "error",
          "ename": "SyntaxError",
          "evalue": "ignored",
          "traceback": [
            "\u001b[0;36m  File \u001b[0;32m\"<ipython-input-34-3d9c7d729c33>\"\u001b[0;36m, line \u001b[0;32m11\u001b[0m\n\u001b[0;31m    for k in range()\u001b[0m\n\u001b[0m                    ^\u001b[0m\n\u001b[0;31mSyntaxError\u001b[0m\u001b[0;31m:\u001b[0m invalid syntax\n"
          ]
        }
      ]
    },
    {
      "cell_type": "code",
      "metadata": {
        "id": "8Q2BWP-5glgp",
        "colab_type": "code",
        "outputId": "9354844d-47ca-48aa-b3d6-d9609fbab6e6",
        "colab": {
          "base_uri": "https://localhost:8080/",
          "height": 251
        }
      },
      "source": [
        "N = int(input())\n",
        "\n",
        "meeting_list = [list(map(int, input().split())) for _ in range(N)]\n",
        "# 파이썬에서 여러 조건으로 정렬하는 방법, key를 끝나는 순으로 저장\n",
        "meeting_list = sorted(meeting_list, key = lambda x:(x[1], x[0]))\n",
        "\n",
        "max_meeting = 0\n",
        "start = 0\n",
        "\n",
        "for time in meeting_list:\n",
        "  if time[0] >= start: # 시작시간이 start보다 큰경우\n",
        "    start = time[1] # start를 해당 회의가 끝나는 시간으로\n",
        "    max_meeting += 1 # 개수 추가\n",
        "\n",
        "print(max_meeting)"
      ],
      "execution_count": 0,
      "outputs": [
        {
          "output_type": "stream",
          "text": [
            "11\n",
            "1 4\n",
            "3 5\n",
            "0 6\n",
            "5 7 \n",
            "3 8 \n",
            "5 9\n",
            "6 10\n",
            "8 11\n",
            "8 12\n",
            "2 13\n",
            "12 14\n",
            "4\n"
          ],
          "name": "stdout"
        }
      ]
    },
    {
      "cell_type": "code",
      "metadata": {
        "id": "PF58YLGThoVS",
        "colab_type": "code",
        "outputId": "c28b6f41-7c51-4ba9-af47-e44ed6e1bf53",
        "colab": {
          "base_uri": "https://localhost:8080/",
          "height": 71
        }
      },
      "source": [
        "# 11399\n",
        "# 인출 시간 최솟값\n",
        "n = int(input())\n",
        "\n",
        "data = list(map(int, input().split()))\n",
        "\n",
        "data.sort()\n",
        "sums = 0\n",
        "sum_list = []\n",
        "for i in data:\n",
        "  sums += i\n",
        "  sum_list.append(sums)\n",
        "\n",
        "print(sum(sum_list))"
      ],
      "execution_count": 0,
      "outputs": [
        {
          "output_type": "stream",
          "text": [
            "5\n",
            "3 1 4 3 2\n",
            "32\n"
          ],
          "name": "stdout"
        }
      ]
    }
  ]
}
