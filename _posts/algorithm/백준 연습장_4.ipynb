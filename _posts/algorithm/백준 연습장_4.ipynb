{
  "nbformat": 4,
  "nbformat_minor": 0,
  "metadata": {
    "colab": {
      "name": "Untitled2.ipynb",
      "provenance": [],
      "collapsed_sections": [],
      "authorship_tag": "ABX9TyPmBIk82Bk8OuS5aLOwfMKs",
      "include_colab_link": true
    },
    "kernelspec": {
      "name": "python3",
      "display_name": "Python 3"
    }
  },
  "cells": [
    {
      "cell_type": "markdown",
      "metadata": {
        "id": "view-in-github",
        "colab_type": "text"
      },
      "source": [
        "<a href=\"https://colab.research.google.com/github/silverstar0727/1day-1commit-challenge/blob/master/_posts/algorithm/%EB%B0%B1%EC%A4%80%20%EC%97%B0%EC%8A%B5%EC%9E%A5_4.ipynb\" target=\"_parent\"><img src=\"https://colab.research.google.com/assets/colab-badge.svg\" alt=\"Open In Colab\"/></a>"
      ]
    },
    {
      "cell_type": "code",
      "metadata": {
        "id": "wufVmVx1jYsz",
        "colab_type": "code",
        "colab": {}
      },
      "source": [
        ""
      ],
      "execution_count": 0,
      "outputs": []
    },
    {
      "cell_type": "code",
      "metadata": {
        "id": "QwazTsb53elA",
        "colab_type": "code",
        "colab": {}
      },
      "source": [
        "# 1316\n",
        "case_num = int(input())\n",
        "answer = []\n",
        "for i in range(case_num):\n",
        "    word = list(str(input()))\n",
        "    \n",
        "    for k in range(len(word)):\n",
        "        if k != len(word)-1 and word[k] == word[k+1]:\n",
        "            pass\n",
        "        elif word[k+1:].count(word[k]) != 0:\n",
        "            break\n",
        "        elif k == len(word) - 1:\n",
        "            answer.append(i)\n",
        "\n",
        "print(len(answer))"
      ],
      "execution_count": 0,
      "outputs": []
    },
    {
      "cell_type": "code",
      "metadata": {
        "id": "WeQfV9Ib5ROJ",
        "colab_type": "code",
        "colab": {}
      },
      "source": [
        "# 1316 \n",
        "## 다른방법\n",
        "cnt = 0\n",
        "for i in range(int(input())):\n",
        "  word = input()\n",
        "  cnt += word == sorted(word, key = word.find)"
      ],
      "execution_count": 0,
      "outputs": []
    },
    {
      "cell_type": "code",
      "metadata": {
        "id": "v4PByI5Cr4LK",
        "colab_type": "code",
        "outputId": "d31d0ddc-c091-45b8-8c43-46409deb28cd",
        "colab": {
          "base_uri": "https://localhost:8080/",
          "height": 53
        }
      },
      "source": [
        "# 1712\n",
        "A, B, C = list(map(int, input().split()))\n",
        "BREAK_EVEN_POINT = 0\n",
        "\n",
        "if(C <= B):\n",
        "    BREAK_EVEN_POINT = -1\n",
        "else:\n",
        "    BREAK_EVEN_POINT = A // (C - B) + 1 \n",
        "print(BREAK_EVEN_POINT)"
      ],
      "execution_count": 0,
      "outputs": [
        {
          "output_type": "stream",
          "text": [
            "1000 70 170\n",
            "11\n"
          ],
          "name": "stdout"
        }
      ]
    },
    {
      "cell_type": "code",
      "metadata": {
        "id": "HdqcKAnytPPd",
        "colab_type": "code",
        "outputId": "bcb72808-2d9b-45a5-9b97-4161f084add5",
        "colab": {
          "base_uri": "https://localhost:8080/",
          "height": 53
        }
      },
      "source": [
        "# 2839\n",
        "def sugar(N):\n",
        "  for y in range( (N//3) + 1):\n",
        "    for x in range( (N//5) + 1):\n",
        "      if ((5*x + 3* y) == N):\n",
        "        return x + y\n",
        "\n",
        "  return -1 \n",
        "\n",
        "n = int(input())\n",
        "print(sugar(n))"
      ],
      "execution_count": 0,
      "outputs": [
        {
          "output_type": "stream",
          "text": [
            "18\n",
            "4\n"
          ],
          "name": "stdout"
        }
      ]
    },
    {
      "cell_type": "code",
      "metadata": {
        "id": "_kdyfw7J3Dtk",
        "colab_type": "code",
        "outputId": "1a113762-245c-4138-cce4-85a9a28ef316",
        "colab": {
          "base_uri": "https://localhost:8080/",
          "height": 53
        }
      },
      "source": [
        "# 2292\n",
        "N = int(input())\n",
        "\n",
        "first = 1\n",
        "plus = 6\n",
        "room = 1\n",
        "\n",
        "if N == 1:\n",
        "  print(1)\n",
        "else:\n",
        "  while True:\n",
        "    first = first + plus \n",
        "    room +=1\n",
        "    if N <= first:\n",
        "      print(room)\n",
        "      break\n",
        "    plus +=6"
      ],
      "execution_count": 0,
      "outputs": [
        {
          "output_type": "stream",
          "text": [
            "13\n",
            "3\n"
          ],
          "name": "stdout"
        }
      ]
    },
    {
      "cell_type": "code",
      "metadata": {
        "id": "hD0b087ASViQ",
        "colab_type": "code",
        "outputId": "22d59137-39dd-408b-8689-1638de145125",
        "colab": {
          "base_uri": "https://localhost:8080/",
          "height": 53
        }
      },
      "source": [
        "# 1193\n",
        "n = int(input())\n",
        "\n",
        "cnt = 1\n",
        "while n > cnt:\n",
        "  n -= cnt\n",
        "  cnt += 1\n",
        "\n",
        "if cnt % 2 == 0:\n",
        "  a = n\n",
        "  b = cnt - n + 1\n",
        "\n",
        "else:\n",
        "  a = cnt - n + 1\n",
        "  b = n\n",
        "\n",
        "print(a, '/', b, sep = '')"
      ],
      "execution_count": 0,
      "outputs": [
        {
          "output_type": "stream",
          "text": [
            "14\n",
            "2/4\n"
          ],
          "name": "stdout"
        }
      ]
    }
  ]
}