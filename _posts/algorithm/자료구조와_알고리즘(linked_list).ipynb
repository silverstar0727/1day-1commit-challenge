{
  "nbformat": 4,
  "nbformat_minor": 0,
  "metadata": {
    "colab": {
      "name": "자료구조와 알고리즘(linked list).ipynb",
      "provenance": [],
      "collapsed_sections": [],
      "authorship_tag": "ABX9TyPiI2SWRJcR5PWcLL3Z2yKm",
      "include_colab_link": true
    },
    "kernelspec": {
      "name": "python3",
      "display_name": "Python 3"
    }
  },
  "cells": [
    {
      "cell_type": "markdown",
      "metadata": {
        "id": "view-in-github",
        "colab_type": "text"
      },
      "source": [
        "<a href=\"https://colab.research.google.com/github/silverstar0727/study-/blob/master/_posts/algorithm/%EC%9E%90%EB%A3%8C%EA%B5%AC%EC%A1%B0%EC%99%80_%EC%95%8C%EA%B3%A0%EB%A6%AC%EC%A6%98(linked_list).ipynb\" target=\"_parent\"><img src=\"https://colab.research.google.com/assets/colab-badge.svg\" alt=\"Open In Colab\"/></a>"
      ]
    },
    {
      "cell_type": "markdown",
      "metadata": {
        "id": "oM3UjwnbYtux",
        "colab_type": "text"
      },
      "source": [
        "### Linked list\n",
        "떨어진 곳에 존재하는 데이터를 화살표로 연결해서 관리하는 데이터 구조\n",
        "> 파이썬은 리스트타입이 링크드 리스트의 기능을 모두 지원\n",
        "\n",
        "구조\n",
        "* 노드: 데이터 저장단위(데이터값, 포인터)\n",
        "* 포인터: 각 노드 안에서 다음이나 잊언 노드와의 연결 정보를 가지고 있는 공간\n"
      ]
    },
    {
      "cell_type": "markdown",
      "metadata": {
        "id": "JrYoxb2FpJ9Z",
        "colab_type": "text"
      },
      "source": [
        "example\n",
        "> 파이썬에서 링크드리스트 구현시 파이썬 클래스를 활용함"
      ]
    },
    {
      "cell_type": "code",
      "metadata": {
        "id": "ecWeq56YVpOh",
        "colab_type": "code",
        "colab": {}
      },
      "source": [
        "# 클래스 생성\n",
        "class Node:\n",
        "  def __init__(self, data, next = None):\n",
        "    self.data = data\n",
        "    self.next = None"
      ],
      "execution_count": 2,
      "outputs": []
    },
    {
      "cell_type": "markdown",
      "metadata": {
        "id": "KghP1rqzJb_m",
        "colab_type": "text"
      },
      "source": [
        "### 노드끼리 연결하기"
      ]
    },
    {
      "cell_type": "code",
      "metadata": {
        "id": "r9xfzGyeVs_o",
        "colab_type": "code",
        "colab": {}
      },
      "source": [
        "# 노드끼리 연결하기\n",
        "node1 = Node(1) # data 1인 노드 인스턴스 생성\n",
        "node2 = Node(2) # data 2인 노드 인스턴스 생성\n",
        "node1.next = node2 # 1번 노드뒤에 2번 노드를 연결 함\n",
        "head = node1 # 1번 노드를 처음으로 지정"
      ],
      "execution_count": 3,
      "outputs": []
    },
    {
      "cell_type": "markdown",
      "metadata": {
        "id": "3rcCuuBEJYo0",
        "colab_type": "text"
      },
      "source": [
        "### 링크드 리스트로 데이터 추가하기\n",
        "\n"
      ]
    },
    {
      "cell_type": "code",
      "metadata": {
        "id": "dupIAm1sFJ5u",
        "colab_type": "code",
        "colab": {}
      },
      "source": [
        "# 링크드 리스트로 데이터 추가하기\n",
        "def add(data): # 추가 함수 생성\n",
        "  node = head # 처음인 head를 node로 지정\n",
        "  while node.next: # node.next = None으로 시작\n",
        "    node = node.next # node.next를 다음 노드로 지정 (링크로 연결)\n",
        "  \n",
        "  node.next = Node(data) # 함수의 parameter인 data를 node의 parameter로 받는 node.next 인스턴스 생성"
      ],
      "execution_count": 4,
      "outputs": []
    },
    {
      "cell_type": "code",
      "metadata": {
        "id": "vQiAT05EGOsz",
        "colab_type": "code",
        "colab": {}
      },
      "source": [
        "node1 = Node(1) # data가 1인 node1 instance 생성\n",
        "head = node1 # 초기 노드를 node1로 저장\n",
        "\n",
        "for index in range(2, 10): # 2부터 9까지 추가하는 것을 반복\n",
        "  add(index)"
      ],
      "execution_count": 5,
      "outputs": []
    },
    {
      "cell_type": "code",
      "metadata": {
        "id": "qk4dZyxaGcE5",
        "colab_type": "code",
        "colab": {
          "base_uri": "https://localhost:8080/",
          "height": 179
        },
        "outputId": "c147a639-fc2c-4da6-c51b-31f7e3efaaf4"
      },
      "source": [
        "node = head # head로 노드를 지정\n",
        "while node.next: # 마찬가지로 반복\n",
        "  print(node.data)\n",
        "  node = node.next\n",
        "\n",
        "print(node.data) # 마지막 노드의 데이터를 출력"
      ],
      "execution_count": 6,
      "outputs": [
        {
          "output_type": "stream",
          "text": [
            "1\n",
            "2\n",
            "3\n",
            "4\n",
            "5\n",
            "6\n",
            "7\n",
            "8\n",
            "9\n"
          ],
          "name": "stdout"
        }
      ]
    },
    {
      "cell_type": "markdown",
      "metadata": {
        "id": "Qk4OZJEXKpFX",
        "colab_type": "text"
      },
      "source": [
        "### 장단점\n",
        "* 장점\n",
        "> 미리 공간을 할당하지 않아도 됨\n",
        "* 단점\n",
        "> 연결을 위한 별도의 데이터 공간필요(공간 효율성 저하), 중간 데이터 삭제시, 부가적인 작업 필요"
      ]
    },
    {
      "cell_type": "markdown",
      "metadata": {
        "id": "fp4ZQWghLdm7",
        "colab_type": "text"
      },
      "source": [
        "### 링크드 리스트 데이터 사이에 새로운 데이터를 추가"
      ]
    },
    {
      "cell_type": "code",
      "metadata": {
        "id": "Zeht8SH3KncQ",
        "colab_type": "code",
        "colab": {}
      },
      "source": [
        "# 링크드 리스트 데이터 사이에 새로운 데이터를 추가\n",
        "\n",
        "# 새로운 데이터\n",
        "node3 = Node(1.5)"
      ],
      "execution_count": 7,
      "outputs": []
    },
    {
      "cell_type": "code",
      "metadata": {
        "id": "IPThye_1LmkV",
        "colab_type": "code",
        "colab": {}
      },
      "source": [
        "node = head\n",
        "search = True\n",
        "while search: # search == False일 때까지 반복\n",
        "  if node.data == 1: # node의 data값이 1이면\n",
        "    search = False # search == False로 변경 -> 반복 멈춤\n",
        "  else: # 계속 반복\n",
        "    node = node.next # 다음 노드로 전환\n",
        "\n",
        "node_next = node.next # node.nex를 node_next에 저장해둠\n",
        "node.next = node3 # node.next를 node3으로 변경\n",
        "node3.next = node_next # node_3의 다음 노드로 node_next를 연결"
      ],
      "execution_count": 8,
      "outputs": []
    },
    {
      "cell_type": "code",
      "metadata": {
        "id": "EZG8BnYLMgFU",
        "colab_type": "code",
        "colab": {
          "base_uri": "https://localhost:8080/",
          "height": 197
        },
        "outputId": "00245c4f-7b62-4fa9-a146-0020eadcf86b"
      },
      "source": [
        "node = head\n",
        "while node.next: # 위와 마찬가지의 과정\n",
        "  print(node.data)\n",
        "  node = node.next \n",
        "\n",
        "print(node.data) # 마지막 데이터 출력"
      ],
      "execution_count": 9,
      "outputs": [
        {
          "output_type": "stream",
          "text": [
            "1\n",
            "1.5\n",
            "2\n",
            "3\n",
            "4\n",
            "5\n",
            "6\n",
            "7\n",
            "8\n",
            "9\n"
          ],
          "name": "stdout"
        }
      ]
    },
    {
      "cell_type": "markdown",
      "metadata": {
        "id": "lYZNAR4QNW4P",
        "colab_type": "text"
      },
      "source": [
        "### 파이썬 객체지향 프로그래밍으로 링크드 리스트 구현하기"
      ]
    },
    {
      "cell_type": "code",
      "metadata": {
        "id": "CaVm39eYMjWx",
        "colab_type": "code",
        "colab": {}
      },
      "source": [
        "# 파이썬 객체지향 프로그래밍으로 링크드 리스트 구현하기\n",
        "class Node: # 아까랑 동일한 Node클래스 생성\n",
        "  def __init__(self, data, next = None):\n",
        "    self.data = data\n",
        "    self.next = None\n",
        "\n",
        "class NodeMgmt: # NodeMgmt 클래스 생성 (add, desc 메소드 존재)\n",
        "  def __init__(self, data):\n",
        "    self.head = Node(data)\n",
        "\n",
        "  def add(self, data): # 추가 메소드\n",
        "    if self.head == '': # self.head가 아무것도 없는 스트링 타입일 때\n",
        "      self.head = Node(data) # self.head를 add의 변수인 data를 받는 Node 인스턴스로 변환\n",
        "    else:\n",
        "      node = self.head # self head가 그렇지 않을 경우 노드를 self.head와 동일하게 생성\n",
        "      while node.next: # 노드의 다음 연결로\n",
        "        node = node.next\n",
        "      node.next = Node(data)\n",
        "\n",
        "  def desc(self): # 연결 과정 요약 메소드\n",
        "    node = self.head # 노드를 self.head로 반환\n",
        "    while node: # 노드를 모두 반복\n",
        "      print(node.data) # 노드의 데이터를 출력\n",
        "      node = node.next # 다음으로\n"
      ],
      "execution_count": 10,
      "outputs": []
    },
    {
      "cell_type": "code",
      "metadata": {
        "id": "ovY9MxinNcoF",
        "colab_type": "code",
        "colab": {
          "base_uri": "https://localhost:8080/",
          "height": 35
        },
        "outputId": "9c6772ac-ed20-4b9a-d72a-61000c46bc96"
      },
      "source": [
        "linkedlist1 = NodeMgmt(0) # NodeMgmt에 data로 0을 넣는 인스턴스 생성\n",
        "linkedlist1.desc() # listedlist1의 요약"
      ],
      "execution_count": 11,
      "outputs": [
        {
          "output_type": "stream",
          "text": [
            "0\n"
          ],
          "name": "stdout"
        }
      ]
    },
    {
      "cell_type": "code",
      "metadata": {
        "id": "IIzS_37_OD6_",
        "colab_type": "code",
        "colab": {
          "base_uri": "https://localhost:8080/",
          "height": 197
        },
        "outputId": "d64fc30b-5cf2-4833-a6bb-972dd3865433"
      },
      "source": [
        "for data in range(1, 10): # linkedlist에 1부터 9까지 data의 변수를 변화하면서 추가\n",
        "  linkedlist1.add(data)\n",
        "\n",
        "linkedlist1.desc() # 전체 데이터 요약"
      ],
      "execution_count": 12,
      "outputs": [
        {
          "output_type": "stream",
          "text": [
            "0\n",
            "1\n",
            "2\n",
            "3\n",
            "4\n",
            "5\n",
            "6\n",
            "7\n",
            "8\n",
            "9\n"
          ],
          "name": "stdout"
        }
      ]
    },
    {
      "cell_type": "markdown",
      "metadata": {
        "id": "ITd5oqqyEgKh",
        "colab_type": "text"
      },
      "source": [
        "### 특정 노드를 삭제"
      ]
    },
    {
      "cell_type": "code",
      "metadata": {
        "id": "vmEPLmnCOJhc",
        "colab_type": "code",
        "colab": {}
      },
      "source": [
        "# 특정 노드를 삭제\n",
        "class Node:\n",
        "    def __init__(self, data, next=None):\n",
        "        self.data = data\n",
        "        self.next = next\n",
        "    \n",
        "class NodeMgmt:\n",
        "    def __init__(self, data):\n",
        "        self.head = Node(data)\n",
        "        \n",
        "    def add(self, data):\n",
        "        if self.head == '':\n",
        "            self.head = Node(data)\n",
        "        else:\n",
        "            node = self.head\n",
        "            while node.next:\n",
        "                node = node.next\n",
        "            node.next = Node(data)\n",
        "        \n",
        "    def desc(self):\n",
        "        node = self.head\n",
        "        while node:\n",
        "            print(node.data)\n",
        "            node = node.next\n",
        "#----------------------------- 여기까진 위와 동일\n",
        "    def delete(self, data): # 삭제 메소드\n",
        "        if self.head == '': # self.head 가 빈 스트링 이면\n",
        "            print(\"해당 값을 가진 노드가 없습니다.\") # 노드가 없다는 것을 출력\n",
        "            return\n",
        "        \n",
        "        if self.head.data == data: # self.head의 data와 파라미터로 받은 데이터가 같으면\n",
        "            temp = self.head # temp에 self.head의 값을 저장하고\n",
        "            self.head = self.head.next # self.head는 그 다음 연결로 이은 다음\n",
        "            del temp # temp를 삭제함\n",
        "        else: # 다를 경우\n",
        "            node = self.head # node에 self.head를 저장하고\n",
        "            while node.next: # 연결된 노드를 이어가서\n",
        "                if node.next.data == data: # 다음 노드의 data값이 파라미터로 받은 data와 같으면\n",
        "                    temp = node.next # 마찬가지로 temp에 node의 다음값을 저장하고\n",
        "                    node.next = node.next.next # node의 다음값은 node의 다음다음 값으로 저장\n",
        "                    del temp # temp는 삭제\n",
        "                    return\n",
        "                else:\n",
        "                    node = node.next # 다를 경우는 그 다음 노드로 진행"
      ],
      "execution_count": 17,
      "outputs": []
    },
    {
      "cell_type": "code",
      "metadata": {
        "id": "P0qm0s6DBp5c",
        "colab_type": "code",
        "colab": {
          "base_uri": "https://localhost:8080/",
          "height": 35
        },
        "outputId": "70130553-4dca-4d8f-ee70-3386d7c8a7f9"
      },
      "source": [
        "linkedlist1 = NodeMgmt(0) # 0을 데이터로 받은 인스턴스 생성\n",
        "linkedlist1.desc() # 확인"
      ],
      "execution_count": 18,
      "outputs": [
        {
          "output_type": "stream",
          "text": [
            "0\n"
          ],
          "name": "stdout"
        }
      ]
    },
    {
      "cell_type": "code",
      "metadata": {
        "id": "WlhRpf8wByNx",
        "colab_type": "code",
        "colab": {
          "base_uri": "https://localhost:8080/",
          "height": 35
        },
        "outputId": "29b61eb8-2feb-466e-ac54-0f0337bd44af"
      },
      "source": [
        "linkedlist1.head #있는지 확인"
      ],
      "execution_count": 19,
      "outputs": [
        {
          "output_type": "execute_result",
          "data": {
            "text/plain": [
              "<__main__.Node at 0x7f567fcf4a58>"
            ]
          },
          "metadata": {
            "tags": []
          },
          "execution_count": 19
        }
      ]
    },
    {
      "cell_type": "code",
      "metadata": {
        "id": "iNbZRq8yBz3Q",
        "colab_type": "code",
        "colab": {}
      },
      "source": [
        "linkedlist1.delete(0) # 삭제"
      ],
      "execution_count": 20,
      "outputs": []
    },
    {
      "cell_type": "code",
      "metadata": {
        "id": "EY_t7y1mB2hQ",
        "colab_type": "code",
        "colab": {}
      },
      "source": [
        "linkedlist1.head # 아무것도 안나옴 == 정상적으로 삭제됨"
      ],
      "execution_count": 22,
      "outputs": []
    },
    {
      "cell_type": "code",
      "metadata": {
        "id": "hxL-8NBeCIWY",
        "colab_type": "code",
        "colab": {
          "base_uri": "https://localhost:8080/",
          "height": 197
        },
        "outputId": "80ab13f9-216a-420a-b9cc-2bcbbb3a3748"
      },
      "source": [
        "for data in range(1, 10): # 1부터 9까지 추가\n",
        "  linkedlist1.add(data)\n",
        "linkedlist1.desc()"
      ],
      "execution_count": 24,
      "outputs": [
        {
          "output_type": "stream",
          "text": [
            "0\n",
            "1\n",
            "2\n",
            "3\n",
            "4\n",
            "5\n",
            "6\n",
            "7\n",
            "8\n",
            "9\n"
          ],
          "name": "stdout"
        }
      ]
    },
    {
      "cell_type": "code",
      "metadata": {
        "id": "APFWEJ6KCPx0",
        "colab_type": "code",
        "colab": {}
      },
      "source": [
        "linkedlist1.delete(4) # 4를 삭제"
      ],
      "execution_count": 25,
      "outputs": []
    },
    {
      "cell_type": "code",
      "metadata": {
        "id": "L5pT5WdsCTC8",
        "colab_type": "code",
        "colab": {
          "base_uri": "https://localhost:8080/",
          "height": 179
        },
        "outputId": "5ea869ad-b15a-4a12-ef2d-4d663a5f2bc8"
      },
      "source": [
        "linkedlist1.desc() # 확인"
      ],
      "execution_count": 26,
      "outputs": [
        {
          "output_type": "stream",
          "text": [
            "0\n",
            "1\n",
            "2\n",
            "3\n",
            "5\n",
            "6\n",
            "7\n",
            "8\n",
            "9\n"
          ],
          "name": "stdout"
        }
      ]
    },
    {
      "cell_type": "code",
      "metadata": {
        "id": "Gpe1J9rfCUtU",
        "colab_type": "code",
        "colab": {}
      },
      "source": [
        "linkedlist1.delete(9) # 9를 삭제"
      ],
      "execution_count": 27,
      "outputs": []
    },
    {
      "cell_type": "code",
      "metadata": {
        "id": "xFaTiQ-jCXxo",
        "colab_type": "code",
        "colab": {
          "base_uri": "https://localhost:8080/",
          "height": 161
        },
        "outputId": "489460fb-0483-427b-bed8-93775f450330"
      },
      "source": [
        "linkedlist1.desc() # 확인"
      ],
      "execution_count": 28,
      "outputs": [
        {
          "output_type": "stream",
          "text": [
            "0\n",
            "1\n",
            "2\n",
            "3\n",
            "5\n",
            "6\n",
            "7\n",
            "8\n"
          ],
          "name": "stdout"
        }
      ]
    }
  ]
}