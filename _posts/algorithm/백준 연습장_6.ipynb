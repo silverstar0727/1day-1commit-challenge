{
  "nbformat": 4,
  "nbformat_minor": 0,
  "metadata": {
    "colab": {
      "name": "백준 연습장_6.ipynb",
      "provenance": [],
      "authorship_tag": "ABX9TyM/cjin7yrQuTzEA7lsY/b2",
      "include_colab_link": true
    },
    "kernelspec": {
      "name": "python3",
      "display_name": "Python 3"
    }
  },
  "cells": [
    {
      "cell_type": "markdown",
      "metadata": {
        "id": "view-in-github",
        "colab_type": "text"
      },
      "source": [
        "<a href=\"https://colab.research.google.com/github/silverstar0727/1day-1commit-challenge/blob/master/%EB%B0%B1%EC%A4%80_%EC%97%B0%EC%8A%B5%EC%9E%A5_6.ipynb\" target=\"_parent\"><img src=\"https://colab.research.google.com/assets/colab-badge.svg\" alt=\"Open In Colab\"/></a>"
      ]
    },
    {
      "cell_type": "code",
      "metadata": {
        "id": "xttSAZtbp_n9",
        "colab_type": "code",
        "colab": {}
      },
      "source": [
        ""
      ],
      "execution_count": 0,
      "outputs": []
    },
    {
      "cell_type": "code",
      "metadata": {
        "id": "N2LZD20GkO_e",
        "colab_type": "code",
        "colab": {}
      },
      "source": [
        "0: 0 1 2 \n",
        "  0: 0 1 2\n",
        "  1: 1 2 3\n",
        "  2: 2 3 4\n",
        "\n",
        "1: 1 2 3\n",
        "  1: 1 2 3\n",
        "  2: 2 3 4\n",
        "  3: 3 4 5\n",
        "2: 2 3 4\n",
        "\n",
        "1 - 1 = 1\n",
        "2 - 1 - 1 = 2\n",
        "3 - 1 - 1 - 1 = 3\n",
        "4 - 1 - 2 - 1 = 3\n",
        "5 - 1 - 2 - 1 - 1 =4\n",
        "6 - 1 - 2 - 2 - 1 = 4\n",
        "7 - 1 - 2 - 2 - 1 - 1 =5\n",
        "8 - 1 - 2 - 2 - 2 - 1 = 5\n",
        "9 - 1 - 2 - 3 - 2 - 1 = 5\n",
        "10 - 1 - 2 - 3 - 2 - 1 - 1 =6\n",
        "11 - 1 - 2 - 3 - 2 - 2 - 1 =6\n",
        "12 - 1 - 2 - 3 - 3 - 2 - 1 = 6\n",
        "13 - 1 - 2 - 3 - 3 - 2 - 1 - 1 = 7 \n",
        "\n",
        "1 2 33 44 555 666 7777 8888"
      ],
      "execution_count": 0,
      "outputs": []
    },
    {
      "cell_type": "code",
      "metadata": {
        "id": "fohspJ0Q1tPe",
        "colab_type": "code",
        "outputId": "085072f3-c1f9-451e-82d5-ec5e33665df1",
        "colab": {
          "base_uri": "https://localhost:8080/",
          "height": 71
        }
      },
      "source": [
        "# 1978\n",
        "Case = int(input())\n",
        "num_list = list(map(int, input().split(' ')))\n",
        "\n",
        "res_counting = 0\n",
        "\n",
        "for i in num_list:\n",
        "    cnt = 0\n",
        "    for j in range(2, i + 1):\n",
        "        if(i % j == 0):\n",
        "            cnt += 1\n",
        "    if(cnt == 1):\n",
        "        res_counting += 1\n",
        "print(res_counting)"
      ],
      "execution_count": 0,
      "outputs": [
        {
          "output_type": "stream",
          "text": [
            "4\n",
            "1 3 5 7\n",
            "3\n"
          ],
          "name": "stdout"
        }
      ]
    },
    {
      "cell_type": "code",
      "metadata": {
        "id": "RUOtGSXF1s_t",
        "colab_type": "code",
        "outputId": "3dbda625-40c1-4bd2-99c5-4767d32914ec",
        "colab": {
          "base_uri": "https://localhost:8080/",
          "height": 107
        }
      },
      "source": [
        "# 2581\n",
        "M = int(input())\n",
        "N = int(input())\n",
        "nums = []\n",
        "\n",
        "for i in range(M, N + 1):\n",
        "  cnt = 0\n",
        "  for j in range(2, i + 1):\n",
        "    if i % j == 0:\n",
        "      cnt += 1\n",
        "    \n",
        "  if cnt == 1:\n",
        "      nums.append(i)\n",
        "\n",
        "if len(nums) == 0:\n",
        "  print(-1)\n",
        "\n",
        "else:\n",
        "  print(sum(nums))\n",
        "  print(min(nums))"
      ],
      "execution_count": 0,
      "outputs": [
        {
          "output_type": "stream",
          "text": [
            "60\n",
            "100\n",
            "620\n",
            "61\n",
            "[61, 67, 71, 73, 79, 83, 89, 97]\n"
          ],
          "name": "stdout"
        }
      ]
    },
    {
      "cell_type": "code",
      "metadata": {
        "id": "hhr-aUVTUlH8",
        "colab_type": "code",
        "outputId": "a7e84a25-0f6e-4f8a-944e-0af55f2eddf1",
        "colab": {
          "base_uri": "https://localhost:8080/",
          "height": 125
        }
      },
      "source": [
        "# 1929\n",
        "# 시간부족 풀이.. ㅠㅠㅠ\n",
        "M, N = map(int, input().split())\n",
        "nums = []\n",
        "\n",
        "for i in range(M, N + 1):\n",
        "  cnt = 0\n",
        "  for j in range(2, i + 1):\n",
        "    if i % j == 0:\n",
        "      cnt += 1\n",
        "  if cnt == 1:\n",
        "    print(i)"
      ],
      "execution_count": 0,
      "outputs": [
        {
          "output_type": "stream",
          "text": [
            "3 16\n",
            "3\n",
            "5\n",
            "7\n",
            "11\n",
            "13\n"
          ],
          "name": "stdout"
        }
      ]
    },
    {
      "cell_type": "code",
      "metadata": {
        "id": "74t94K74ar33",
        "colab_type": "code",
        "outputId": "fa799f59-5de7-47df-e27e-5dfb9a72e072",
        "colab": {
          "base_uri": "https://localhost:8080/",
          "height": 35
        }
      },
      "source": [
        "# 1929\n",
        "# 함수이용 시간단축\n",
        "# 제곱근 까지만 체크하여 시간단축\n",
        "import math\n",
        "\n",
        "def isPrime(num):\n",
        "  if num == 1:\n",
        "    return False\n",
        "  \n",
        "  n = int(math.sqrt(num))\n",
        "  for k in range(2, n + 1):\n",
        "    if num % k == 0:\n",
        "      return False\n",
        "  return True\n",
        "\n",
        "m, n = map(int, input().split())\n",
        "for k in range(m, n+1):\n",
        "  if isPrime(k):\n",
        "    print(k)"
      ],
      "execution_count": 0,
      "outputs": [
        {
          "output_type": "stream",
          "text": [
            "3 16\n"
          ],
          "name": "stdout"
        }
      ]
    }
  ]
}
