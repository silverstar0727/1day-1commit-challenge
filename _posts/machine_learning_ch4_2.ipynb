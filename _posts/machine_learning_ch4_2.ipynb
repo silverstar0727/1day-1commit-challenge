{
  "nbformat": 4,
  "nbformat_minor": 0,
  "metadata": {
    "colab": {
      "name": "machine_learning_ch4.2.ipynb",
      "provenance": [],
      "collapsed_sections": [],
      "authorship_tag": "ABX9TyMHyXMNHdo98uoxt7+co8Tz",
      "include_colab_link": true
    },
    "kernelspec": {
      "name": "python3",
      "display_name": "Python 3"
    }
  },
  "cells": [
    {
      "cell_type": "markdown",
      "metadata": {
        "id": "view-in-github",
        "colab_type": "text"
      },
      "source": [
        "<a href=\"https://colab.research.google.com/github/silverstar0727/1day-1commit-challenge/blob/master/machine_learning_ch4_2.ipynb\" target=\"_parent\"><img src=\"https://colab.research.google.com/assets/colab-badge.svg\" alt=\"Open In Colab\"/></a>"
      ]
    },
    {
      "cell_type": "markdown",
      "metadata": {
        "id": "-y51-D8GDLmw",
        "colab_type": "text"
      },
      "source": [
        "## Scale 조정"
      ]
    },
    {
      "cell_type": "code",
      "metadata": {
        "id": "3LrkTB7xcFBV",
        "colab_type": "code",
        "outputId": "2b4d4eb4-6f4c-4293-d2a8-4e209f2580f1",
        "colab": {
          "base_uri": "https://localhost:8080/",
          "height": 35
        }
      },
      "source": [
        "# wine dataset 사용, 13개의 특성, 178개의 요소로 구성\n",
        "import pandas as pd\n",
        "import numpy as np\n",
        "df_wine = pd.read_csv('https://archive.ics.uci.edu/''ml/machine-learning-databases/''wine/wine.data', header = None)\n",
        "\n",
        "df_wine.columns = ['Class label', 'Alcohol', 'Malic acid', 'Ash', 'Alcalinity of ash', 'Magnesium', 'Flavonoids',\n",
        "                   'Total phenols', 'Nonflavanoid  phenols', 'Proanthocyanins', 'Color intensity', 'Hue', \n",
        "                   '0D280/OD315 of diluted wines', 'Proline']\n",
        "        \n",
        "print( np.unique(df_wine['Class label']))"
      ],
      "execution_count": 0,
      "outputs": [
        {
          "output_type": "stream",
          "text": [
            "[1 2 3]\n"
          ],
          "name": "stdout"
        }
      ]
    },
    {
      "cell_type": "code",
      "metadata": {
        "id": "ak7-6DZUcRSr",
        "colab_type": "code",
        "colab": {}
      },
      "source": [
        "\n",
        "#사이킷런을 이용한 데이터 분할\n",
        "from sklearn.model_selection import train_test_split\n",
        "\n",
        "X,y = df_wine.iloc[:,1:].values, df_wine.iloc[:,0].values\n",
        "X_train, X_test, y_train, y_test = \\\n",
        "train_test_split(X,y, test_size = 0.3, random_state = 0, stratify = y)"
      ],
      "execution_count": 0,
      "outputs": []
    },
    {
      "cell_type": "code",
      "metadata": {
        "id": "CpM47bud7guE",
        "colab_type": "code",
        "outputId": "8fe9bb93-fd13-4d50-804a-63279605d0e2",
        "colab": {
          "base_uri": "https://localhost:8080/",
          "height": 1000
        }
      },
      "source": [
        "# 정규화 0-1 사이로 조정\n",
        "from sklearn.preprocessing import MinMaxScaler\n",
        "\n",
        "mms = MinMaxScaler()\n",
        "X_train_norm = mms.fit_transform(X_train)\n",
        "X_test_norm = mms.transform(X_test)\n",
        "print(X_train_norm)\n",
        "print(X_test_norm)"
      ],
      "execution_count": 0,
      "outputs": [
        {
          "output_type": "stream",
          "text": [
            "[[0.64619883 0.83201581 0.4248366  ... 0.45744681 0.28571429 0.19400856]\n",
            " [0.6871345  0.15612648 0.65359477 ... 0.81914894 0.63369963 0.68259629]\n",
            " [0.67836257 0.15019763 0.65359477 ... 0.75531915 0.52747253 0.71825963]\n",
            " ...\n",
            " [0.72222222 0.84980237 0.34640523 ... 0.10638298 0.02197802 0.09771755]\n",
            " [0.16081871 0.06916996 0.39215686 ... 0.54255319 0.68131868 0.43366619]\n",
            " [0.37719298 0.61857708 0.45751634 ... 0.75531915 0.68131868 0.13195435]]\n",
            "[[ 0.69005848  0.22924901  0.64052288  0.30645161  0.55555556  0.69655172\n",
            "   0.51687764  0.52        0.39873418  0.40497336  0.69148936  0.60805861\n",
            "   0.78245364]\n",
            " [ 0.22222222  0.14031621  0.54248366  0.40860215  0.41975309  0.3137931\n",
            "   0.29746835  0.64        0.19303797  0.10746004  1.03191489  0.35164835\n",
            "   0.05492154]\n",
            " [ 0.87134503  0.22332016  0.49019608  0.17204301  0.32098765  0.52413793\n",
            "   0.45991561  0.34        0.49367089  0.31172291  0.57446809  0.84615385\n",
            "   0.72182596]\n",
            " [ 0.52339181  0.2055336   0.2875817  -0.01075269  0.37037037  0.57586207\n",
            "   0.51054852  0.26        0.2721519   0.23445826  0.60638298  0.78021978\n",
            "   0.55064194]\n",
            " [ 0.28070175  0.06521739  0.26143791  0.38172043  0.22222222  0.87586207\n",
            "   0.71940928  0.22        0.48417722  0.24511545  0.59574468  0.54945055\n",
            "   0.2724679 ]\n",
            " [ 0.30409357  0.45256917  0.61437908  0.83870968  0.33333333  0.31724138\n",
            "   0.05063291  1.          0.2278481   0.51154529  0.20212766  0.16849817\n",
            "   0.42938659]\n",
            " [ 0.12573099  0.42490119  0.34640523  0.35483871  0.51851852  0.25517241\n",
            "   0.20675105  0.6         0.16772152  0.08081705  0.5106383   0.45787546\n",
            "   0.15834522]\n",
            " [ 0.59649123  0.58498024  0.58823529  0.62365591  0.50617284  0.24827586\n",
            "   0.12236287  0.6         0.32911392  0.79396092  0.39361702  0.10622711\n",
            "   0.29743224]\n",
            " [ 0.68128655  0.18379447  0.35947712  0.2688172   0.59259259  0.55862069\n",
            "   0.54008439  0.16        0.37974684  0.36500888  0.46808511  0.70695971\n",
            "   0.55777461]\n",
            " [ 0.55847953  0.49407115  0.44444444  0.54301075  0.27160494  0.32758621\n",
            "   0.08860759  0.64        0.26265823  0.59325044  0.07446809  0.12820513\n",
            "   0.26533524]\n",
            " [ 0.68421053  0.19565217  0.46405229  0.24731183  0.2345679   0.55862069\n",
            "   0.51054852  0.32        0.43987342  0.34280639  0.71276596  0.5970696\n",
            "   0.74322397]\n",
            " [ 0.25730994  0.13241107  0.18300654  0.24731183  0.18518519  0.54137931\n",
            "   0.4556962   0.32        0.42721519  0.10301954  0.79787234  0.53846154\n",
            "   0.10699001]\n",
            " [ 0.69298246  0.39920949  0.39215686  0.56989247  0.24691358  0.12758621\n",
            "   0.07172996  0.56        0.19303797  0.69626998  0.23404255  0.15018315\n",
            "   0.2403709 ]\n",
            " [ 0.71637427  0.12055336  0.37254902  0.24731183  0.34567901  0.68965517\n",
            "   0.592827    0.18        0.45253165  0.48667851  0.56382979  0.83516484\n",
            "   0.54707561]\n",
            " [ 0.27777778  0.61067194  0.44444444  0.51612903  0.22222222  0.45517241\n",
            "   0.12236287  0.74        0.19620253  0.52486679  0.08510638  0.11355311\n",
            "   0.17261056]\n",
            " [ 0.49707602  0.22924901  0.68627451  0.75806452  0.56790123  0.42068966\n",
            "   0.19831224  0.26        0.36075949  0.47602131  0.13829787  0.02197802\n",
            "   0.10485021]\n",
            " [ 0.61111111  0.21146245  0.59477124  0.46236559  0.32098765  0.53448276\n",
            "   0.47890295  0.3         0.39240506  0.15808171  0.68085106  0.93406593\n",
            "   0.40442225]\n",
            " [ 0.82163743  0.64229249  0.52941176  0.09677419  0.71604938  0.69655172\n",
            "   0.56962025  0.14        0.52531646  0.29840142  0.43617021  0.82783883\n",
            "   0.34379458]\n",
            " [ 0.42690058  0.76482213  0.50980392  0.54301075  0.19753086  0.24827586\n",
            "   0.06540084  0.68        0.13924051  0.52486679  0.06382979  0.21611722\n",
            "   0.24750357]\n",
            " [ 0.30994152  0.1541502   0.32679739  0.40860215  1.13580247  0.52413793\n",
            "   0.407173    0.38        0.90506329  0.07637655  0.72340426  0.4981685\n",
            "   0.4700428 ]\n",
            " [ 0.86549708  0.23913043  0.52287582  0.29032258  0.5308642   0.98965517\n",
            "   0.66455696  0.22        0.55696203  0.53818828  0.40425532  0.7985348\n",
            "   0.85734665]\n",
            " [ 0.67836257  0.71541502  0.36601307  0.59677419  0.22222222  0.10344828\n",
            "   0.02742616  0.78        0.23101266  0.43339254  0.31914894  0.17582418\n",
            "   0.17261056]\n",
            " [ 0.47368421  0.03162055  0.00653595  0.24731183  0.19753086  0.33448276\n",
            "   0.35654008  0.22        0.32911392  0.25399645  0.75531915  0.44322344\n",
            "   0.08131241]\n",
            " [ 0.29532164  0.17193676  0.32026144  0.59677419  0.4691358   0.35172414\n",
            "   0.36919831  0.42        0.37658228  0.02841918  0.61702128  0.61904762\n",
            "   0.04778887]\n",
            " [ 0.10233918  0.38339921  0.79738562  0.46236559  0.40740741  0.26551724\n",
            "   0.35654008  0.94        0.19936709  0.18294849  0.79787234  0.45054945\n",
            "   0.23466476]\n",
            " [ 0.29824561  0.15612648  0.38562092  0.54301075  0.19753086  0.60689655\n",
            "   0.592827    0.52        0.42721519  0.19538188  0.22340426  0.57509158\n",
            "   0.05278174]\n",
            " [ 0.8245614   0.1916996   0.47712418  0.22580645  0.7037037   0.62758621\n",
            "   0.57383966  0.3         0.59177215  0.34635879  0.59574468  0.97069597\n",
            "   0.56134094]\n",
            " [ 0.57017544  0.35968379  0.4248366   0.46236559  0.2345679   0.14482759\n",
            "   0.03375527  0.48        0.06962025  0.34280639  0.23404255  0.43956044\n",
            "   0.35805991]\n",
            " [ 0.61111111  0.47035573  0.60130719  0.67741935  0.65432099  0.14482759\n",
            "   0.25949367  0.18        0.26265823  0.60923623  0.11702128  0.01098901\n",
            "   0.15834522]\n",
            " [ 0.28070175  0.0770751   0.30065359  0.40860215  0.20987654  0.86896552\n",
            "   0.58227848  0.12        0.45886076  0.24067496  0.78723404  0.58608059\n",
            "   0.10128388]\n",
            " [ 0.44444444  0.60474308  0.62091503  0.38709677  0.39506173  0.49310345\n",
            "   0.43670886  0.24        0.49367089  0.24511545  0.58510638  0.82417582\n",
            "   0.35092725]\n",
            " [ 0.51461988  0.36561265  0.4379085   0.46236559  0.61728395  0.23103448\n",
            "   0.07172996  0.8         0.32911392  0.6714032   0.12765957  0.12820513\n",
            "   0.40085592]\n",
            " [ 0.81871345  0.65217391  0.48366013  0.40322581  0.50617284  0.64482759\n",
            "   0.48734177  0.34        0.26265823  0.31083481  0.41489362  0.75457875\n",
            "   0.57203994]\n",
            " [ 0.06140351  0.24703557  0.37908497  0.35483871  0.34567901  0.70344828\n",
            "   0.40506329  0.08        0.2943038   0.13410302  0.72340426  0.61904762\n",
            "   0.04778887]\n",
            " [ 0.19590643  0.21541502  0.40522876  0.38172043  0.13580247  0.2137931\n",
            "   0.24472574  0.78        0.38607595  0.05861456  0.63829787  0.36630037\n",
            "   0.14407989]\n",
            " [ 0.72807018  0.18577075  0.2745098   0.24731183  0.38271605  0.73103448\n",
            "   0.64345992  0.16        0.5443038   0.38721137  0.45744681  0.75457875\n",
            "   0.5042796 ]\n",
            " [ 0.25730994  0.17193676  0.33333333  0.48387097  0.40740741  0.04137931\n",
            "   0.14345992  0.48        0.32911392  0.11634103  0.45319149  0.2014652\n",
            "   0.42225392]\n",
            " [ 0.48538012  0.15019763  0.26143791  0.22043011  0.34567901  0.48965517\n",
            "   0.48523207  0.3         0.30063291  0.1740675   0.74468085  0.52014652\n",
            "   0.52924394]\n",
            " [ 0.47953216  0.20355731  0.26143791  0.30107527  0.45679012  0.69655172\n",
            "   0.56118143  0.3         0.50949367  0.29307282  0.42553191  0.76190476\n",
            "   0.43295292]\n",
            " [ 0.37719298  0.55533597  0.43137255  0.54301075  0.44444444  0.24827586\n",
            "   0.1814346   0.08        0.13291139  0.28952043  0.31914894  0.00732601\n",
            "   0.2296719 ]\n",
            " [ 0.24561404  0.62055336  0.32679739  0.38172043  0.51851852  0.13793103\n",
            "   0.092827    0.32        0.2278481   0.57460036  0.18085106  0.26739927\n",
            "   0.41155492]\n",
            " [ 0.17251462  0.53162055  0.19607843  0.40860215  0.20987654  0.35172414\n",
            "   0.2742616   0.48        0.45886076 -0.04085258  0.4787234   0.65201465\n",
            "   0.20399429]\n",
            " [ 0.34795322  0.11857708  0.13071895  0.38172043  0.22222222  0.16206897\n",
            "   0.21518987  0.32        0.2943038   0.06305506  0.59574468  0.54945055\n",
            "   0.20256776]\n",
            " [ 0.19590643  0.26482213  0.          0.32795699  0.33333333  0.43103448\n",
            "   0.38607595  0.26        0.31012658  0.13854352  0.84042553  0.61904762\n",
            "   0.30813124]\n",
            " [ 0.65204678  0.46640316  0.5620915   0.20430108  0.56790123  0.59310345\n",
            "   0.56751055  0.08        0.39240506  0.29840142  0.5106383   0.76556777\n",
            "   0.40442225]\n",
            " [ 0.29532164  0.35770751  0.37254902  0.56989247  0.24691358  0.24137931\n",
            "   0.3164557   1.06        0.3164557   0.08525755  0.40425532  0.74358974\n",
            "   0.02639087]\n",
            " [-0.11111111  0.15217391  0.32679739  0.54301075  0.18518519  0.51034483\n",
            "   0.38607595  0.78        0.50316456  0.01420959  1.30851064  0.58608059\n",
            "   0.09201141]\n",
            " [ 0.44444444  0.40909091  0.65359477  0.51612903  0.32098765  0.19310345\n",
            "   0.03375527  0.8         0.10443038  0.25399645  0.30851064  0.38095238\n",
            "   0.2296719 ]\n",
            " [ 0.21929825  0.17193676  0.39869281  0.61290323  0.24691358  0.27586207\n",
            "   0.28481013  0.6         0.36075949  0.06305506  0.90425532  0.36263736\n",
            "   0.15477889]\n",
            " [ 0.42982456  0.44466403  0.45751634  0.46236559  0.41975309  0.11034483\n",
            "   0.18565401  0.22        0.12974684  0.3250444   0.27659574  0.05494505\n",
            "   0.17974322]\n",
            " [ 0.26900585  0.07114625  0.37908497  0.24731183  0.38271605  0.36896552\n",
            "   0.15822785  1.         -0.00316456  0.13587922  0.81914894  0.14652015\n",
            "   0.28673324]\n",
            " [ 0.28070175  0.03952569 -0.22222222 -0.04301075  0.22222222  0.34482759\n",
            "   0.04852321  0.3         0.          0.01865009  0.60638298  0.2014652\n",
            "   0.17261056]\n",
            " [ 0.54678363  0.17786561  0.74509804  0.22043011  0.49382716  0.55862069\n",
            "   0.49367089  0.42        0.29746835  0.25399645  0.64893617  0.55311355\n",
            "   0.42938659]\n",
            " [ 0.42105263  0.16996047  0.53594771  0.34408602  0.30864198  0.51724138\n",
            "   0.42827004  0.26        0.32911392  0.19449378  0.64893617  0.86446886\n",
            "   0.5256776 ]]\n"
          ],
          "name": "stdout"
        }
      ]
    },
    {
      "cell_type": "code",
      "metadata": {
        "id": "UlZfairk7grU",
        "colab_type": "code",
        "outputId": "0a9e7035-f589-4648-83ca-0f3f9c542a50",
        "colab": {
          "base_uri": "https://localhost:8080/",
          "height": 35
        }
      },
      "source": [
        "# 표준화\n",
        "ex = np.array([0,1,2,3,4,5])\n",
        "print((ex-ex.mean())/ ex.std())"
      ],
      "execution_count": 0,
      "outputs": [
        {
          "output_type": "stream",
          "text": [
            "[-1.46385011 -0.87831007 -0.29277002  0.29277002  0.87831007  1.46385011]\n"
          ],
          "name": "stdout"
        }
      ]
    },
    {
      "cell_type": "code",
      "metadata": {
        "id": "V-hYax0b7gog",
        "colab_type": "code",
        "colab": {}
      },
      "source": [
        "# 사이킷런을 사용한 표준화\n",
        "from sklearn.preprocessing import StandardScaler\n",
        "\n",
        "stdsc = StandardScaler()\n",
        "X_train_std = stdsc.fit_transform(X_train)\n",
        "X_test_std = stdsc.fit_transform(X_test)\n"
      ],
      "execution_count": 0,
      "outputs": []
    },
    {
      "cell_type": "markdown",
      "metadata": {
        "id": "bsN234_MF4pN",
        "colab_type": "text"
      },
      "source": [
        "# L1 (다이아몬드꼴 규제, 특성선택하기)"
      ]
    },
    {
      "cell_type": "markdown",
      "metadata": {
        "id": "hN1dJZKvGcMP",
        "colab_type": "text"
      },
      "source": [
        "Trevor Hastie, Robert tibshirani, Jerome Friedman (The Elements of Statistical Learning) 참조"
      ]
    },
    {
      "cell_type": "code",
      "metadata": {
        "id": "LDxu9iclExow",
        "colab_type": "code",
        "outputId": "5f144cd2-7f0e-408d-c895-0c434c877af2",
        "colab": {
          "base_uri": "https://localhost:8080/",
          "height": 53
        }
      },
      "source": [
        "from sklearn.linear_model import LogisticRegression\n",
        "\n",
        "lr = LogisticRegression(solver = 'liblinear', multi_class = 'auto', penalty = 'l1', C = 1, random_state = 1)\n",
        "lr.fit(X_train_std, y_train)\n",
        "print(lr.score(X_train_std, y_train))\n",
        "print(lr.score(X_test_std, y_test))"
      ],
      "execution_count": 0,
      "outputs": [
        {
          "output_type": "stream",
          "text": [
            "1.0\n",
            "1.0\n"
          ],
          "name": "stdout"
        }
      ]
    },
    {
      "cell_type": "code",
      "metadata": {
        "id": "7wxC5WlaHalD",
        "colab_type": "code",
        "outputId": "76c78139-e5a9-4986-9eb8-59e77b5a5602",
        "colab": {
          "base_uri": "https://localhost:8080/",
          "height": 35
        }
      },
      "source": [
        "# estimated bias\n",
        "lr.intercept_"
      ],
      "execution_count": 0,
      "outputs": [
        {
          "output_type": "execute_result",
          "data": {
            "text/plain": [
              "array([-1.2639642 , -1.21594235, -2.37050719])"
            ]
          },
          "metadata": {
            "tags": []
          },
          "execution_count": 12
        }
      ]
    },
    {
      "cell_type": "code",
      "metadata": {
        "id": "7Gfkcp0wHjXz",
        "colab_type": "code",
        "outputId": "ddb399a7-90e2-4beb-d8bb-ea8f5fe533f4",
        "colab": {
          "base_uri": "https://localhost:8080/",
          "height": 179
        }
      },
      "source": [
        "# estimated parameter\n",
        "lr.coef_"
      ],
      "execution_count": 0,
      "outputs": [
        {
          "output_type": "execute_result",
          "data": {
            "text/plain": [
              "array([[ 1.24641296,  0.17999168,  0.74629471, -1.1640092 ,  0.        ,\n",
              "         0.        ,  1.15853575,  0.        ,  0.        ,  0.        ,\n",
              "         0.        ,  0.55799892,  2.50839749],\n",
              "       [-1.53717641, -0.38719849, -0.99476611,  0.36466499, -0.05964102,\n",
              "         0.        ,  0.66793791,  0.        ,  0.        , -1.93377181,\n",
              "         1.23398109,  0.        , -2.23227845],\n",
              "       [ 0.13595028,  0.16828119,  0.35723005,  0.        ,  0.        ,\n",
              "         0.        , -2.43810556,  0.        ,  0.        ,  1.56352616,\n",
              "        -0.81893878, -0.49273991,  0.        ]])"
            ]
          },
          "metadata": {
            "tags": []
          },
          "execution_count": 13
        }
      ]
    },
    {
      "cell_type": "code",
      "metadata": {
        "id": "FaZe0PJg2dD8",
        "colab_type": "code",
        "outputId": "2cead8e5-1d11-4795-90e8-e10fa8f0433c",
        "colab": {
          "base_uri": "https://localhost:8080/",
          "height": 271
        }
      },
      "source": [
        "# 규제 강도에 따른 가중치변화 시각화하기\n",
        "import matplotlib.pyplot as plt\n",
        "\n",
        "fig = plt.figure()\n",
        "ax = plt.subplot(111)\n",
        "\n",
        "colors = ['blue', 'green', 'red', 'cyan', 'magenta', 'yellow', 'black', 'pink', 'lightgreen', 'lightblue',\n",
        "          'gray', 'indigo', 'orange']\n",
        "\n",
        "weights, params = [],[]\n",
        "for c in np.arange(-4,6.):\n",
        "  lr = LogisticRegression(solver = 'liblinear', multi_class='auto', penalty = 'l1', C = 10**c, random_state=0)\n",
        "  lr.fit(X_train_std, y_train)\n",
        "  weights.append(lr.coef_[1])\n",
        "  params.append(10**c)\n",
        "\n",
        "weights = np.array(weights)\n",
        "\n",
        "for column, color in zip(range(weights.shape[1]), colors):\n",
        "  plt.plot(params, weights[:, column], label = df_wine.columns[column+1], color = color)\n",
        "\n",
        "plt.axhline(0, color = 'black', linestyle = '--', linewidth = 3)\n",
        "plt.xlim([10**(-5), 10**5])\n",
        "plt.xscale('log')\n",
        "plt.legend(loc = 'upper left')\n",
        "\n",
        "ax.legend(loc = 'upper center', bbox_to_anchor = (1.38, 1.03), ncol = 1, fancybox = True)\n",
        "plt.show()"
      ],
      "execution_count": 0,
      "outputs": [
        {
          "output_type": "display_data",
          "data": {
            "image/png": "[encoded data removed]",
            "text/plain": [
              "<Figure size 432x288 with 1 Axes>"
            ]
          },
          "metadata": {
            "tags": []
          }
        }
      ]
    },
    {
      "cell_type": "markdown",
      "metadata": {
        "id": "6T9PTn_L8WU5",
        "colab_type": "text"
      },
      "source": [
        "# SBS선택 알고리즘 (sequential backward selection)\n",
        "\n",
        "sbs알고리즘은 사이킷런에 존재하지 않으므로 직접구현해야함\n"
      ]
    },
    {
      "cell_type": "code",
      "metadata": {
        "id": "da6ZD8gu7jOr",
        "colab_type": "code",
        "colab": {}
      },
      "source": [
        "from sklearn.base import clone\n",
        "from itertools import combinations\n",
        "import numpy as np\n",
        "from sklearn.metrics import accuracy_score\n",
        "from sklearn.model_selection import train_test_split\n",
        "\n",
        "class SBS():\n",
        "  def __init__(self, estimator, k_features, scoring = accuracy_score, test_size = 0.25, random_state =1):\n",
        "    self.scoring = scoring\n",
        "    self.estimator = estimator\n",
        "    self.k_features = k_features\n",
        "    self.test_size = test_size\n",
        "    self.random_state = random_state\n",
        "  \n",
        "  def fit(self, X, y):\n",
        "    X_train, X_test, y_train, y_test = \\\n",
        "    train_test_split(X, y, test_size = self.test_size, random_state = self.random_state)\n",
        "    \n",
        "    dim = X_train.shape[1] # 13개의 feature\n",
        "    self.indices_ = tuple(range(dim)) # feature를 숫자로 설정하여 나열\n",
        "    self.subsets_ = [self.indices_]\n",
        "    score = self._calc_score(X_train, y_train, X_test, y_test, self.indices_)\n",
        "    self.scores_ = [score]\n",
        "\n",
        "    while dim > self.k_features: # 정해진 k_features까지 dim을 반복\n",
        "      scores =[]\n",
        "      subsets = []\n",
        "\n",
        "      for p in combinations(self.indices_, r = dim - 1): # 가능한 features의 조합을 모두 시도해보고 scoring함\n",
        "        score = self._calc_score(X_train, y_train, X_test, y_test, p)\n",
        "        scores.append(score)\n",
        "        subsets.append(p)\n",
        "\n",
        "      best = np.argmax(scores)\n",
        "      self.indices_ = subsets[best]\n",
        "      self.subsets_.append(self.indices_)\n",
        "      dim -= 1\n",
        "      self.scores_.append(scores[best])\n",
        "\n",
        "    self.k_score_ = self.scores_[-1]\n",
        "\n",
        "    return self\n",
        "\n",
        "  def transform(self, X):\n",
        "    return X[:, self.indices_]\n",
        "\n",
        "  def _calc_score(self, X_train, y_train, X_test, y_test, indices):\n",
        "    self.estimator.fit(X_train[:, indices], y_train)\n",
        "    y_pred = self.estimator.predict(X_test[:, indices])\n",
        "    score = self.scoring(y_test, y_pred)\n",
        "    return score"
      ],
      "execution_count": 0,
      "outputs": []
    },
    {
      "cell_type": "code",
      "metadata": {
        "id": "dSW5IZra_Muj",
        "colab_type": "code",
        "outputId": "ae224f25-4733-41c1-f56b-5678c2a3b6dc",
        "colab": {
          "base_uri": "https://localhost:8080/",
          "height": 297
        }
      },
      "source": [
        "# KNN 분류기를 사용한 SBS동작\n",
        "import matplotlib.pyplot as plt\n",
        "from sklearn.neighbors import KNeighborsClassifier\n",
        "\n",
        "knn = KNeighborsClassifier(n_neighbors = 5)\n",
        "\n",
        "sbs = SBS(knn, k_features = 1)\n",
        "sbs.fit(X_train_std, y_train)\n",
        "\n",
        "k_feat = [len(k) for k in sbs.subsets_]\n",
        "plt.plot(k_feat,sbs.scores_, marker = 'o')\n",
        "plt.ylim([0.7, 1.02])\n",
        "plt.grid()\n",
        "plt.tight_layout()\n",
        "plt.show()"
      ],
      "execution_count": 0,
      "outputs": [
        {
          "output_type": "display_data",
          "data": {
            "image/png": "[encoded data removed]",
            "text/plain": [
              "<Figure size 432x288 with 1 Axes>"
            ]
          },
          "metadata": {
            "tags": []
          }
        }
      ]
    },
    {
      "cell_type": "markdown",
      "metadata": {
        "id": "n6XXCJJJCr1u",
        "colab_type": "text"
      },
      "source": [
        "# RandomForest를 이용한 features selection"
      ]
    },
    {
      "cell_type": "code",
      "metadata": {
        "id": "H2h6kx_a_sHW",
        "colab_type": "code",
        "outputId": "f48f4c8a-ffbe-442a-b5a3-a575bb2dd1e7",
        "colab": {
          "base_uri": "https://localhost:8080/",
          "height": 531
        }
      },
      "source": [
        "from sklearn.ensemble import RandomForestClassifier\n",
        "\n",
        "feat_labels = df_wine.columns[1:]\n",
        "\n",
        "forest = RandomForestClassifier(n_estimators = 500, random_state = 1)\n",
        "forest.fit(X_train, y_train)\n",
        "importances = forest.feature_importances_\n",
        "\n",
        "indices = np.argsort(importances)[::-1]\n",
        "\n",
        "for f in range(X_train.shape[1]):\n",
        "  print('%2d) %-*s %f' %(f + 1, 30, feat_labels[indices[f]], importances[indices[f]]))\n",
        "\n",
        "plt.bar(range(X_train.shape[1]), importances[indices], align = 'center')\n",
        "plt.xticks(range(X_train.shape[1]), feat_labels[indices], rotation = 90)\n",
        "plt.xlim([-1, X_train.shape[1]])\n",
        "plt.tight_layout()\n",
        "plt.show()"
      ],
      "execution_count": 0,
      "outputs": [
        {
          "output_type": "stream",
          "text": [
            " 1) Proline                        0.185453\n",
            " 2) Total phenols                  0.174751\n",
            " 3) Color intensity                0.143920\n",
            " 4) 0D280/OD315 of diluted wines   0.136162\n",
            " 5) Alcohol                        0.118529\n",
            " 6) Hue                            0.058739\n",
            " 7) Flavonoids                     0.050872\n",
            " 8) Magnesium                      0.031357\n",
            " 9) Malic acid                     0.025648\n",
            "10) Proanthocyanins                0.025570\n",
            "11) Alcalinity of ash              0.022366\n",
            "12) Nonflavanoid  phenols          0.013354\n",
            "13) Ash                            0.013279\n"
          ],
          "name": "stdout"
        },
        {
          "output_type": "display_data",
          "data": {
            "image/png": "[encoded data removed]",
            "text/plain": [
              "<Figure size 432x288 with 1 Axes>"
            ]
          },
          "metadata": {
            "tags": []
          }
        }
      ]
    },
    {
      "cell_type": "code",
      "metadata": {
        "id": "oikxxdWgC43t",
        "colab_type": "code",
        "outputId": "2f026a00-e9da-4815-ce6e-a154bdc604fb",
        "colab": {
          "base_uri": "https://localhost:8080/",
          "height": 35
        }
      },
      "source": [
        "from sklearn.feature_selection import SelectFromModel\n",
        "\n",
        "sfm = SelectFromModel(forest, threshold = 0.1, prefit= True)\n",
        "X_selected = sfm.transform(X_train)\n",
        "print('이 임계 조건을 만족하는 샘플의 수:', X_selected.shape[1])"
      ],
      "execution_count": 0,
      "outputs": [
        {
          "output_type": "stream",
          "text": [
            "이 임계 조건을 만족하는 샘플의 수: 5\n"
          ],
          "name": "stdout"
        }
      ]
    },
    {
      "cell_type": "code",
      "metadata": {
        "id": "Q3AG2AomEjvA",
        "colab_type": "code",
        "outputId": "c8646d45-b318-44fb-f5fb-2b16ffdecb2d",
        "colab": {
          "base_uri": "https://localhost:8080/",
          "height": 107
        }
      },
      "source": [
        "for f in range(X_selected.shape[1]):\n",
        "  print('%2d) %-*s %f' %(f+1, 30, feat_labels[indices[f]], importances[indices[f]]))"
      ],
      "execution_count": 0,
      "outputs": [
        {
          "output_type": "stream",
          "text": [
            " 1) Proline                        0.185453\n",
            " 2) Total phenols                  0.174751\n",
            " 3) Color intensity                0.143920\n",
            " 4) 0D280/OD315 of diluted wines   0.136162\n",
            " 5) Alcohol                        0.118529\n"
          ],
          "name": "stdout"
        }
      ]
    }
  ]
}
