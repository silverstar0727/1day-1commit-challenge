{
  "nbformat": 4,
  "nbformat_minor": 0,
  "metadata": {
    "colab": {
      "name": "RNN.ipynb",
      "provenance": [],
      "authorship_tag": "ABX9TyMyI3I8zEWPiJYju3gEdSe0",
      "include_colab_link": true
    },
    "kernelspec": {
      "name": "python3",
      "display_name": "Python 3"
    }
  },
  "cells": [
    {
      "cell_type": "markdown",
      "metadata": {
        "id": "view-in-github",
        "colab_type": "text"
      },
      "source": [
        "<a href=\"https://colab.research.google.com/github/silverstar0727/study-/blob/master/RNN.ipynb\" target=\"_parent\"><img src=\"https://colab.research.google.com/assets/colab-badge.svg\" alt=\"Open In Colab\"/></a>"
      ]
    },
    {
      "cell_type": "code",
      "metadata": {
        "id": "wfjfrmEAj6Z1",
        "colab_type": "code",
        "colab": {}
      },
      "source": [
        "import torch\n",
        "import torch.nn as nn\n",
        "import torch.optim as optim\n",
        "import numpy as np"
      ],
      "execution_count": null,
      "outputs": []
    },
    {
      "cell_type": "code",
      "metadata": {
        "id": "x77Rf7qGmqYf",
        "colab_type": "code",
        "colab": {}
      },
      "source": [
        "n_hidden = 35\n",
        "lr = 0.01\n",
        "epochs = 1000\n",
        "\n",
        "string = 'hello pytorch. how long can a rnn cell remember?'\n",
        "chars = 'abcdefghijklmnopqrstuvwxyz ?!.,:;01'\n",
        "char_list = [i for i in chars] # chars의 값들을 개별로 담음\n",
        "n_letters = len(char_list) # chars의 길이를 담음"
      ],
      "execution_count": null,
      "outputs": []
    },
    {
      "cell_type": "code",
      "metadata": {
        "id": "qgqGYL-Pm_Vn",
        "colab_type": "code",
        "colab": {}
      },
      "source": [
        "# string to onehot\n",
        "def string_to_onehot(string): # string을 받아서 one_hot 처리\n",
        "  start = np.zeros(shape = len(char_list), dtype = int)\n",
        "  end = np.zeros(shape = len(char_list), dtype = int)\n",
        "\n",
        "  start[-2] = 1\n",
        "  end[-1] = 1\n",
        "  for i in string:\n",
        "    idx = char_list.index(i)\n",
        "    zero = np.zeros(shape = n_letters, dtype = int)\n",
        "\n",
        "    zero[idx] = 1\n",
        "    start = np.vstack([start, zero])\n",
        "  output = np.vstack([start, end])\n",
        "  return output"
      ],
      "execution_count": null,
      "outputs": []
    },
    {
      "cell_type": "code",
      "metadata": {
        "id": "TMvgZ1zMo0Zu",
        "colab_type": "code",
        "colab": {}
      },
      "source": [
        "def onehot_to_word(onehot_1): # one_hot처리 된 것을 string으로 반환\n",
        "  onehot = torch.Tensor.numpy(onehot_1)\n",
        "  return char_list[onehot.argmax()]"
      ],
      "execution_count": null,
      "outputs": []
    },
    {
      "cell_type": "code",
      "metadata": {
        "id": "4o-hpTnnq-01",
        "colab_type": "code",
        "colab": {}
      },
      "source": [
        "class RNN(nn.Module): # RNN모델 class 설정\n",
        "  def __init__(self, input_size, hidden_size, output_size): \n",
        "    # input_size: 입력 차원, hidden_size: hidden layer 차원, output_size: output 차원\n",
        "    super(RNN, self).__init__()\n",
        "\n",
        "    self.input_size = input_size\n",
        "    self.hidden_size = hidden_size\n",
        "    self.output_size = output_size\n",
        "\n",
        "    self.i2h = nn.Linear(input_size, hidden_size)\n",
        "    self.h2h = nn.Linear(hidden_size, hidden_size)\n",
        "    self.i2o = nn.Linear(hidden_size, output_size)\n",
        "    self.act_fn = nn.Tanh()\n",
        "\n",
        "  def forward(self, input, hidden):\n",
        "    hidden = self.act_fn(self.i2h(input) + self.h2h(hidden))\n",
        "    output = self.i2o(hidden)\n",
        "    return output, hidden\n",
        "\n",
        "rnn = RNN(n_letters, n_hidden, n_letters)"
      ],
      "execution_count": null,
      "outputs": []
    },
    {
      "cell_type": "code",
      "metadata": {
        "id": "uqNaT3acrG3C",
        "colab_type": "code",
        "colab": {}
      },
      "source": [
        "loss_func = nn.MSELoss() # loss function으로는 MSE function을 사용\n",
        "optimizer = torch.optim.Adam(rnn.parameters(), lr = lr) # optimizer로는 torch.optim"
      ],
      "execution_count": null,
      "outputs": []
    },
    {
      "cell_type": "code",
      "metadata": {
        "id": "YD6gRBzo0f_u",
        "colab_type": "code",
        "colab": {}
      },
      "source": [
        "one_hot = torch.from_numpy(string_to_onehot(string)).type_as(torch.FloatTensor()) # numpy to torch\n",
        "\n",
        "for i in range(epochs):\n",
        "  rnn.zero_grad()\n",
        "  total_loss = 0\n",
        "  hidden = rnn.init_hidden()"
      ],
      "execution_count": null,
      "outputs": []
    }
  ]
}
