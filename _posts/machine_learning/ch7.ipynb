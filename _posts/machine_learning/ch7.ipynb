{
  "nbformat": 4,
  "nbformat_minor": 0,
  "metadata": {
    "colab": {
      "name": "machine_learning_ch7.ipynb",
      "provenance": [],
      "collapsed_sections": [],
      "authorship_tag": "ABX9TyMN/ErQSMz7sacaOW46fVfG",
      "include_colab_link": true
    },
    "kernelspec": {
      "name": "python3",
      "display_name": "Python 3"
    }
  },
  "cells": [
    {
      "cell_type": "markdown",
      "metadata": {
        "id": "view-in-github",
        "colab_type": "text"
      },
      "source": [
        "<a href=\"https://colab.research.google.com/github/silverstar0727/1day-1commit-challenge/blob/master/machine_learning_ch7.ipynb\" target=\"_parent\"><img src=\"https://colab.research.google.com/assets/colab-badge.svg\" alt=\"Open In Colab\"/></a>"
      ]
    },
    {
      "cell_type": "markdown",
      "metadata": {
        "id": "30JzKiqfhSuA",
        "colab_type": "text"
      },
      "source": [
        "# 앙상블 학습(ensemble learning)\n",
        "1. Voting (분류기끼리의 앙상블)\n",
        "2. Bagging (sample끼리의 앙상블 + voting)\n",
        "3. Boosting (weight끼리의 앙상블)\n",
        "4. Stacking (meta model)\n",
        "\n"
      ]
    },
    {
      "cell_type": "code",
      "metadata": {
        "id": "G8ArWZyKuVVn",
        "colab_type": "code",
        "outputId": "f81ac156-d7dd-4637-f8d8-d23a565418c4",
        "colab": {
          "base_uri": "https://localhost:8080/",
          "height": 35
        }
      },
      "source": [
        "# 앙상블과 개별분류기의 에러확인\n",
        "from scipy.special import comb\n",
        "import math\n",
        "\n",
        "def ensemble_error(n_classifier, error):\n",
        "  k_start = int(math.ceil(n_classifier / 2.))\n",
        "  probs = [comb(n_classifier, k) * error**k * (1-error)**(n_classifier - k)\n",
        "  for k in range(k_start, n_classifier + 1)]\n",
        "  \n",
        "  return sum(probs)\n",
        "\n",
        "ensemble_error(n_classifier = 11, error = 0.25)"
      ],
      "execution_count": 24,
      "outputs": [
        {
          "output_type": "execute_result",
          "data": {
            "text/plain": [
              "0.03432750701904297"
            ]
          },
          "metadata": {
            "tags": []
          },
          "execution_count": 24
        }
      ]
    },
    {
      "cell_type": "code",
      "metadata": {
        "id": "0GdjpGEMkmqt",
        "colab_type": "code",
        "outputId": "4ac13416-8d25-409b-c061-2dd3df0c90e5",
        "colab": {
          "base_uri": "https://localhost:8080/",
          "height": 265
        }
      },
      "source": [
        "import numpy as np\n",
        "import matplotlib.pyplot as plt\n",
        "\n",
        "error_range = np.arange(0.0, 1.01, 0.01)\n",
        "ens_errors = [(ensemble_error(n_classifier = 11, error = error)) for error in error_range]\n",
        "\n",
        "plt.plot(error_range, ens_errors, label = 'Ensemble error', linewidth = 2)\n",
        "plt.plot(error_range, error_range, linestyle = '--', linewidth = 2)\n",
        "plt.legend(loc = 'upper left')\n",
        "plt.grid(alpha = 0.5)\n",
        "plt.show()"
      ],
      "execution_count": 25,
      "outputs": [
        {
          "output_type": "display_data",
          "data": {
            "image/png": "[encoded data removed]",
            "text/plain": [
              "<Figure size 432x288 with 1 Axes>"
            ]
          },
          "metadata": {
            "tags": []
          }
        }
      ]
    },
    {
      "cell_type": "markdown",
      "metadata": {
        "id": "Q7PpZMNwlf5i",
        "colab_type": "text"
      },
      "source": [
        "### 다수결 투표를 이용한 분류 앙상블"
      ]
    },
    {
      "cell_type": "markdown",
      "metadata": {
        "id": "LmNEGOZG-FBY",
        "colab_type": "text"
      },
      "source": [
        "numpy의 average와 argmax를 이용한 가중치가 적용된 다수결투표 구현"
      ]
    },
    {
      "cell_type": "code",
      "metadata": {
        "id": "1jrnBU9ildVz",
        "colab_type": "code",
        "outputId": "418a79c1-41a8-4e42-8bdc-5c33c0985243",
        "colab": {
          "base_uri": "https://localhost:8080/",
          "height": 35
        }
      },
      "source": [
        "import numpy as np\n",
        "np.argmax(np.bincount([0,0,1], weights = [0.2, 0.2, 0.6]))"
      ],
      "execution_count": 26,
      "outputs": [
        {
          "output_type": "execute_result",
          "data": {
            "text/plain": [
              "1"
            ]
          },
          "metadata": {
            "tags": []
          },
          "execution_count": 26
        }
      ]
    },
    {
      "cell_type": "code",
      "metadata": {
        "id": "ikLax9Lllrmr",
        "colab_type": "code",
        "outputId": "0a7b4784-4083-4785-8a2a-88a232cc4895",
        "colab": {
          "base_uri": "https://localhost:8080/",
          "height": 35
        }
      },
      "source": [
        "ex = np.array([[0.9, 0.1], [0.8, 0.2], [0.4, 0.6]])\n",
        "p = np.average(ex, axis = 0, weights = [0.2, 0.2, 0.6])\n",
        "p"
      ],
      "execution_count": 27,
      "outputs": [
        {
          "output_type": "execute_result",
          "data": {
            "text/plain": [
              "array([0.58, 0.42])"
            ]
          },
          "metadata": {
            "tags": []
          },
          "execution_count": 27
        }
      ]
    },
    {
      "cell_type": "code",
      "metadata": {
        "id": "lX-6zJ6hl80Y",
        "colab_type": "code",
        "outputId": "fac39894-310a-4545-98be-6d9720bc6e77",
        "colab": {
          "base_uri": "https://localhost:8080/",
          "height": 35
        }
      },
      "source": [
        "np.argmax(p)"
      ],
      "execution_count": 28,
      "outputs": [
        {
          "output_type": "execute_result",
          "data": {
            "text/plain": [
              "0"
            ]
          },
          "metadata": {
            "tags": []
          },
          "execution_count": 28
        }
      ]
    },
    {
      "cell_type": "code",
      "metadata": {
        "id": "tGQqliJbJK4-",
        "colab_type": "code",
        "colab": {}
      },
      "source": [
        "from sklearn.base import BaseEstimator\n",
        "from sklearn.base import ClassifierMixin\n",
        "from sklearn.preprocessing import LabelEncoder\n",
        "from sklearn.externals import six\n",
        "from sklearn.base import clone\n",
        "from sklearn.pipeline import _name_estimators\n",
        "import numpy as np\n",
        "import operator\n",
        "\n",
        "class MajorityVoteClassifier(BaseEstimator, ClassifierMixin):\n",
        "  def __init__(self,classifiers, vote = 'classlabel', weights = None):\n",
        "    self.classifiers = classifiers\n",
        "    self.vote = vote\n",
        "    self.weights = weights\n",
        "    self.named_classifiers = {key: value for key, value in _name_estimators(classifiers)}\n",
        "\n",
        "  def fit(self,X,y):\n",
        "    self.lablenc_ = LabelEncoder()\n",
        "    self.lablenc_.fit(y)\n",
        "    self.classes_ = self.lablenc_.classes_\n",
        "    self.classifiers_ = []\n",
        "    for clf in self.classifiers:\n",
        "      fitted_clf = clone(clf).fit(X, self.lablenc_.transform(y))\n",
        "      self.classifiers_.append(fitted_clf)\n",
        "    return self\n",
        "\n",
        "  def predict(self, X):\n",
        "    if self.vote == 'probability':\n",
        "      maj_vote = np.argmax(self.predict_proba(X), axis = 1)\n",
        "\n",
        "    else:\n",
        "      predictions = np.asarray([clf.predict(X) for clf in self.classifiers_]).T\n",
        "      maj_vote = np.apply_along_axis(lambda x: np.argmax(np.bincount(x, weights = self.weights)),\n",
        "                                     axis = 1, arr = predictions)\n",
        "\n",
        "    maj_vote = self.lablenc_.inverse_transform(maj_vote)\n",
        "    return maj_vote\n",
        "\n",
        "  def predict_proba(self,X):\n",
        "    probas = np.asarray([clf.predict_proba(X) for clf in self.classifiers_])\n",
        "    avg_proba = np.average(probas, axis = 0, weights = self.weights)\n",
        "\n",
        "    return avg_proba\n",
        "\n",
        "  def get_params(self, deep = True):\n",
        "    if not deep: \n",
        "      return super(MajorityVoteClassifier, self).get_params(deep = False)\n",
        "\n",
        "    else:\n",
        "      out = self._name_estimators.copy()\n",
        "      for name, step in six.iteritems(self.named_classifiers_):\n",
        "        for key, value in six.iteritems(step.get_params(deep = True)):\n",
        "          out['%s__%s' & (name, key)] = value\n",
        "\n",
        "    return out"
      ],
      "execution_count": 0,
      "outputs": []
    },
    {
      "cell_type": "code",
      "metadata": {
        "colab_type": "code",
        "id": "3RMGrURVDGFf",
        "colab": {}
      },
      "source": [
        "from sklearn import datasets\n",
        "from sklearn.model_selection import train_test_split\n",
        "from sklearn.preprocessing import StandardScaler\n",
        "from sklearn.preprocessing import LabelEncoder\n",
        "\n",
        "iris = datasets.load_iris()\n",
        "X, y = iris.data[50:, [1,2]], iris.target[50:]\n",
        "le = LabelEncoder()\n",
        "y = le.fit_transform(y)\n"
      ],
      "execution_count": 0,
      "outputs": []
    },
    {
      "cell_type": "code",
      "metadata": {
        "id": "etlOc41ZDUtH",
        "colab_type": "code",
        "colab": {}
      },
      "source": [
        "X_train, X_test, y_train, y_test = train_test_split(X, y, test_size = 0.5, random_state = 1, stratify = y)"
      ],
      "execution_count": 0,
      "outputs": []
    },
    {
      "cell_type": "code",
      "metadata": {
        "id": "m_-ya6weDXf1",
        "colab_type": "code",
        "outputId": "88473c5f-abd6-4eb3-e253-ae44a63487cc",
        "colab": {
          "base_uri": "https://localhost:8080/",
          "height": 71
        }
      },
      "source": [
        "# 10겹 교차검증\n",
        "from sklearn.model_selection import cross_val_score\n",
        "from sklearn.linear_model import LogisticRegression\n",
        "from sklearn.tree import DecisionTreeClassifier\n",
        "from sklearn.neighbors import KNeighborsClassifier\n",
        "from sklearn.pipeline import Pipeline\n",
        "import numpy as np\n",
        "\n",
        "clf1 = LogisticRegression(solver = 'liblinear', penalty = 'l2', C = 0.001, random_state = 1)\n",
        "clf2 = DecisionTreeClassifier(max_depth = 1, criterion = 'entropy', random_state = 0)\n",
        "clf3 = KNeighborsClassifier(n_neighbors = 1, p = 2, metric = 'minkowski')\n",
        "\n",
        "pipe1 = Pipeline([['sc', StandardScaler()], ['clf', clf1]])\n",
        "pipe3 = Pipeline([['sc', StandardScaler()], ['clf', clf3]])\n",
        "\n",
        "clf_labels = ['Logistic Regression', 'Decision tree', 'KNN']\n",
        "for clf, label in zip([pipe1, clf2, pipe3], clf_labels):\n",
        "  scores = cross_val_score(estimator = clf, X = X_train, y = y_train, cv = 10, scoring = 'roc_auc')\n",
        "\n",
        "  print(scores.mean(), scores.std(), label)"
      ],
      "execution_count": 37,
      "outputs": [
        {
          "output_type": "stream",
          "text": [
            "0.9166666666666666 0.1536590742882148 Logistic Regression\n",
            "0.8666666666666668 0.18333333333333332 Decision tree\n",
            "0.85 0.13333333333333333 KNN\n"
          ],
          "name": "stdout"
        }
      ]
    },
    {
      "cell_type": "markdown",
      "metadata": {
        "id": "lM7H2dP4_LKJ",
        "colab_type": "text"
      },
      "source": [
        "#### 다수결을 통한 ensmble\n"
      ]
    },
    {
      "cell_type": "code",
      "metadata": {
        "id": "F_Z_jwrjFhtr",
        "colab_type": "code",
        "outputId": "e400bf90-c0c5-4af3-f254-ac9a49cfccdf",
        "colab": {
          "base_uri": "https://localhost:8080/",
          "height": 89
        }
      },
      "source": [
        "mv_clf = MajorityVoteClassifier(classifiers = [pipe1, clf2, pipe3])\n",
        "clf_labels +=['Majority voting']\n",
        "all_clf = [pipe1, clf2, pipe3, mv_clf]\n",
        "for clf, label in zip(all_clf, clf_labels):\n",
        "  scores = cross_val_score(estimator = clf, X = X_train, y = y_train, cv = 10, scoring = 'roc_auc')\n",
        "  print(scores.mean(), scores.std(), label)"
      ],
      "execution_count": 38,
      "outputs": [
        {
          "output_type": "stream",
          "text": [
            "0.9166666666666666 0.1536590742882148 Logistic Regression\n",
            "0.8666666666666668 0.18333333333333332 Decision tree\n",
            "0.85 0.13333333333333333 KNN\n",
            "0.9833333333333334 0.04999999999999999 Majority voting\n"
          ],
          "name": "stdout"
        }
      ]
    }
  ]
}
