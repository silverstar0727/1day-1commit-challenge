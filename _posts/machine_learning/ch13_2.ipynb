{
  "nbformat": 4,
  "nbformat_minor": 0,
  "metadata": {
    "colab": {
      "name": "machine_learning_ch13.2.ipynb",
      "provenance": [],
      "collapsed_sections": [],
      "authorship_tag": "ABX9TyMgX02oLucocMTmBBK9/WZh",
      "include_colab_link": true
    },
    "kernelspec": {
      "name": "python3",
      "display_name": "Python 3"
    }
  },
  "cells": [
    {
      "cell_type": "markdown",
      "metadata": {
        "id": "view-in-github",
        "colab_type": "text"
      },
      "source": [
        "<a href=\"https://colab.research.google.com/github/silverstar0727/1day-1commit-challenge/blob/master/machine_learning_ch13_2.ipynb\" target=\"_parent\"><img src=\"https://colab.research.google.com/assets/colab-badge.svg\" alt=\"Open In Colab\"/></a>"
      ]
    },
    {
      "cell_type": "markdown",
      "metadata": {
        "id": "NEI1h-B8QPgT",
        "colab_type": "text"
      },
      "source": [
        "# Tensorflow를 활용한 신경망 훈련"
      ]
    },
    {
      "cell_type": "code",
      "metadata": {
        "id": "7vKmpLvGPSxN",
        "colab_type": "code",
        "outputId": "2777d6b5-1961-4000-897b-c3eaa2e1baa5",
        "colab": {
          "base_uri": "https://localhost:8080/",
          "height": 35
        }
      },
      "source": [
        "%tensorflow_version 2.x\n",
        "import tensorflow as tf\n",
        "tf.__version__"
      ],
      "execution_count": 0,
      "outputs": [
        {
          "output_type": "execute_result",
          "data": {
            "text/plain": [
              "'2.1.0'"
            ]
          },
          "metadata": {
            "tags": []
          },
          "execution_count": 94
        }
      ]
    },
    {
      "cell_type": "code",
      "metadata": {
        "id": "r50HByVVRSrL",
        "colab_type": "code",
        "outputId": "17436251-45b5-4b39-aa80-562755f3b73a",
        "colab": {
          "base_uri": "https://localhost:8080/",
          "height": 830
        }
      },
      "source": [
        "!pip install tensorflow-gpu"
      ],
      "execution_count": 0,
      "outputs": [
        {
          "output_type": "stream",
          "text": [
            "Collecting tensorflow-gpu\n",
            "\u001b[?25l  Downloading https://files.pythonhosted.org/packages/0a/93/c7bca39b23aae45cd2e85ad3871c81eccc63b9c5276e926511e2e5b0879d/tensorflow_gpu-2.1.0-cp36-cp36m-manylinux2010_x86_64.whl (421.8MB)\n",
            "\u001b[K     |████████████████████████████████| 421.8MB 37kB/s \n",
            "\u001b[?25hRequirement already satisfied: wheel>=0.26; python_version >= \"3\" in /tensorflow-2.1.0/python3.6 (from tensorflow-gpu) (0.34.2)\n",
            "Requirement already satisfied: gast==0.2.2 in /tensorflow-2.1.0/python3.6 (from tensorflow-gpu) (0.2.2)\n",
            "Requirement already satisfied: google-pasta>=0.1.6 in /tensorflow-2.1.0/python3.6 (from tensorflow-gpu) (0.1.8)\n",
            "Requirement already satisfied: grpcio>=1.8.6 in /tensorflow-2.1.0/python3.6 (from tensorflow-gpu) (1.27.2)\n",
            "Requirement already satisfied: opt-einsum>=2.3.2 in /tensorflow-2.1.0/python3.6 (from tensorflow-gpu) (3.1.0)\n",
            "Requirement already satisfied: tensorboard<2.2.0,>=2.1.0 in /tensorflow-2.1.0/python3.6 (from tensorflow-gpu) (2.1.0)\n",
            "Requirement already satisfied: scipy==1.4.1; python_version >= \"3\" in /tensorflow-2.1.0/python3.6 (from tensorflow-gpu) (1.4.1)\n",
            "Requirement already satisfied: absl-py>=0.7.0 in /tensorflow-2.1.0/python3.6 (from tensorflow-gpu) (0.9.0)\n",
            "Requirement already satisfied: wrapt>=1.11.1 in /tensorflow-2.1.0/python3.6 (from tensorflow-gpu) (1.12.0)\n",
            "Requirement already satisfied: numpy<2.0,>=1.16.0 in /tensorflow-2.1.0/python3.6 (from tensorflow-gpu) (1.18.1)\n",
            "Requirement already satisfied: termcolor>=1.1.0 in /tensorflow-2.1.0/python3.6 (from tensorflow-gpu) (1.1.0)\n",
            "Requirement already satisfied: six>=1.12.0 in /tensorflow-2.1.0/python3.6 (from tensorflow-gpu) (1.14.0)\n",
            "Requirement already satisfied: tensorflow-estimator<2.2.0,>=2.1.0rc0 in /tensorflow-2.1.0/python3.6 (from tensorflow-gpu) (2.1.0)\n",
            "Requirement already satisfied: astor>=0.6.0 in /tensorflow-2.1.0/python3.6 (from tensorflow-gpu) (0.8.1)\n",
            "Requirement already satisfied: keras-preprocessing>=1.1.0 in /tensorflow-2.1.0/python3.6 (from tensorflow-gpu) (1.1.0)\n",
            "Requirement already satisfied: protobuf>=3.8.0 in /tensorflow-2.1.0/python3.6 (from tensorflow-gpu) (3.11.3)\n",
            "Requirement already satisfied: keras-applications>=1.0.8 in /tensorflow-2.1.0/python3.6 (from tensorflow-gpu) (1.0.8)\n",
            "Requirement already satisfied: google-auth<2,>=1.6.3 in /tensorflow-2.1.0/python3.6 (from tensorboard<2.2.0,>=2.1.0->tensorflow-gpu) (1.11.2)\n",
            "Requirement already satisfied: setuptools>=41.0.0 in /tensorflow-2.1.0/python3.6 (from tensorboard<2.2.0,>=2.1.0->tensorflow-gpu) (45.2.0)\n",
            "Requirement already satisfied: werkzeug>=0.11.15 in /tensorflow-2.1.0/python3.6 (from tensorboard<2.2.0,>=2.1.0->tensorflow-gpu) (1.0.0)\n",
            "Requirement already satisfied: requests<3,>=2.21.0 in /tensorflow-2.1.0/python3.6 (from tensorboard<2.2.0,>=2.1.0->tensorflow-gpu) (2.22.0)\n",
            "Requirement already satisfied: markdown>=2.6.8 in /tensorflow-2.1.0/python3.6 (from tensorboard<2.2.0,>=2.1.0->tensorflow-gpu) (3.2.1)\n",
            "Requirement already satisfied: google-auth-oauthlib<0.5,>=0.4.1 in /tensorflow-2.1.0/python3.6 (from tensorboard<2.2.0,>=2.1.0->tensorflow-gpu) (0.4.1)\n",
            "Requirement already satisfied: h5py in /tensorflow-2.1.0/python3.6 (from keras-applications>=1.0.8->tensorflow-gpu) (2.10.0)\n",
            "Requirement already satisfied: pyasn1-modules>=0.2.1 in /tensorflow-2.1.0/python3.6 (from google-auth<2,>=1.6.3->tensorboard<2.2.0,>=2.1.0->tensorflow-gpu) (0.2.8)\n",
            "Requirement already satisfied: cachetools<5.0,>=2.0.0 in /tensorflow-2.1.0/python3.6 (from google-auth<2,>=1.6.3->tensorboard<2.2.0,>=2.1.0->tensorflow-gpu) (4.0.0)\n",
            "Requirement already satisfied: rsa<4.1,>=3.1.4 in /tensorflow-2.1.0/python3.6 (from google-auth<2,>=1.6.3->tensorboard<2.2.0,>=2.1.0->tensorflow-gpu) (4.0)\n",
            "Requirement already satisfied: idna<2.9,>=2.5 in /tensorflow-2.1.0/python3.6 (from requests<3,>=2.21.0->tensorboard<2.2.0,>=2.1.0->tensorflow-gpu) (2.8)\n",
            "Requirement already satisfied: certifi>=2017.4.17 in /tensorflow-2.1.0/python3.6 (from requests<3,>=2.21.0->tensorboard<2.2.0,>=2.1.0->tensorflow-gpu) (2019.11.28)\n",
            "Requirement already satisfied: urllib3!=1.25.0,!=1.25.1,<1.26,>=1.21.1 in /tensorflow-2.1.0/python3.6 (from requests<3,>=2.21.0->tensorboard<2.2.0,>=2.1.0->tensorflow-gpu) (1.25.8)\n",
            "Requirement already satisfied: chardet<3.1.0,>=3.0.2 in /tensorflow-2.1.0/python3.6 (from requests<3,>=2.21.0->tensorboard<2.2.0,>=2.1.0->tensorflow-gpu) (3.0.4)\n",
            "Requirement already satisfied: requests-oauthlib>=0.7.0 in /tensorflow-2.1.0/python3.6 (from google-auth-oauthlib<0.5,>=0.4.1->tensorboard<2.2.0,>=2.1.0->tensorflow-gpu) (1.3.0)\n",
            "Requirement already satisfied: pyasn1<0.5.0,>=0.4.6 in /tensorflow-2.1.0/python3.6 (from pyasn1-modules>=0.2.1->google-auth<2,>=1.6.3->tensorboard<2.2.0,>=2.1.0->tensorflow-gpu) (0.4.8)\n",
            "Requirement already satisfied: oauthlib>=3.0.0 in /tensorflow-2.1.0/python3.6 (from requests-oauthlib>=0.7.0->google-auth-oauthlib<0.5,>=0.4.1->tensorboard<2.2.0,>=2.1.0->tensorflow-gpu) (3.1.0)\n",
            "Installing collected packages: tensorflow-gpu\n",
            "Successfully installed tensorflow-gpu-2.1.0\n"
          ],
          "name": "stdout"
        },
        {
          "output_type": "display_data",
          "data": {
            "application/vnd.colab-display-data+json": {
              "pip_warning": {
                "packages": [
                  "tensorflow",
                  "tensorflow_core"
                ]
              }
            }
          },
          "metadata": {
            "tags": []
          }
        }
      ]
    },
    {
      "cell_type": "markdown",
      "metadata": {
        "id": "krP6THkgd9x4",
        "colab_type": "text"
      },
      "source": [
        "### tensorflow version 1.x"
      ]
    },
    {
      "cell_type": "code",
      "metadata": {
        "id": "UiCUiTKARcfT",
        "colab_type": "code",
        "outputId": "91d36e8d-c994-45b4-d17d-380da6594957",
        "colab": {
          "base_uri": "https://localhost:8080/",
          "height": 71
        }
      },
      "source": [
        "# 그래프 생성\n",
        "g = tf.Graph()\n",
        "with g.as_default():\n",
        "  x = tf.compat.v1.placeholder(dtype = tf.float32, shape = (None), name = 'x')\n",
        "  w = tf.Variable(2.0, name = 'weight')\n",
        "  b = tf.Variable(0.7, name = 'bias')\n",
        "\n",
        "  z = w * x + b\n",
        "  init = tf.compat.v1.global_variables_initializer()\n",
        "\n",
        "#세션 생성, g전달\n",
        "with tf.compat.v1.Session(graph = g) as sess:\n",
        "  # w와 b를 초기화\n",
        "  sess.run(init)\n",
        "  # z를 평가\n",
        "  for t in [1.0, 0.6,-1.8]:\n",
        "    print('x = %4.1f --> z = %4.1f' % (t, sess.run(z, feed_dict = {x:t})))\n"
      ],
      "execution_count": 0,
      "outputs": [
        {
          "output_type": "stream",
          "text": [
            "x =  1.0 --> z =  2.7\n",
            "x =  0.6 --> z =  1.9\n",
            "x = -1.8 --> z = -2.9\n"
          ],
          "name": "stdout"
        }
      ]
    },
    {
      "cell_type": "code",
      "metadata": {
        "id": "9Fg8V1jrbXFB",
        "colab_type": "code",
        "outputId": "2c59b915-732f-471d-b8dc-9d57a563c007",
        "colab": {
          "base_uri": "https://localhost:8080/",
          "height": 35
        }
      },
      "source": [
        "with tf.compat.v1.Session(graph = g) as sess:\n",
        "  sess.run(init)\n",
        "  print(sess.run(z, feed_dict = {x:[1.,2.,3.]}))\n"
      ],
      "execution_count": 0,
      "outputs": [
        {
          "output_type": "stream",
          "text": [
            "[2.7 4.7 6.7]\n"
          ],
          "name": "stdout"
        }
      ]
    },
    {
      "cell_type": "code",
      "metadata": {
        "id": "HTyXq1Sld3-e",
        "colab_type": "code",
        "outputId": "6a8aa8d2-acb8-4e5a-fb4c-8725c03d7afc",
        "colab": {
          "base_uri": "https://localhost:8080/",
          "height": 35
        }
      },
      "source": [
        "print(z)"
      ],
      "execution_count": 0,
      "outputs": [
        {
          "output_type": "stream",
          "text": [
            "Tensor(\"add:0\", dtype=float32)\n"
          ],
          "name": "stdout"
        }
      ]
    },
    {
      "cell_type": "markdown",
      "metadata": {
        "id": "rh4yO1-1eA2L",
        "colab_type": "text"
      },
      "source": [
        "### tensorflow vesion 2.x\n",
        "\n",
        "변수초기화나 Session등이 불필요함"
      ]
    },
    {
      "cell_type": "code",
      "metadata": {
        "id": "IST7xrf_d4hY",
        "colab_type": "code",
        "outputId": "a7cf59cc-3707-4634-ce7c-ac74f7452023",
        "colab": {
          "base_uri": "https://localhost:8080/",
          "height": 71
        }
      },
      "source": [
        "w = tf.Variable(2.0, name = 'weight')\n",
        "b = tf.Variable(0.7, name = 'bias')\n",
        "\n",
        "# z를 평가\n",
        "for x in [1.0, 0.6, -1.8]:\n",
        "  z = w * x + b\n",
        "  print('x = %4.1f --> z = %4.1f' % (x, z))"
      ],
      "execution_count": 0,
      "outputs": [
        {
          "output_type": "stream",
          "text": [
            "x =  1.0 --> z =  2.7\n",
            "x =  0.6 --> z =  1.9\n",
            "x = -1.8 --> z = -2.9\n"
          ],
          "name": "stdout"
        }
      ]
    },
    {
      "cell_type": "code",
      "metadata": {
        "id": "YPu22yzaeSFA",
        "colab_type": "code",
        "outputId": "73c3e584-d326-4478-9252-17863ca7347d",
        "colab": {
          "base_uri": "https://localhost:8080/",
          "height": 35
        }
      },
      "source": [
        "print(z)"
      ],
      "execution_count": 0,
      "outputs": [
        {
          "output_type": "stream",
          "text": [
            "tf.Tensor(-2.8999999, shape=(), dtype=float32)\n"
          ],
          "name": "stdout"
        }
      ]
    },
    {
      "cell_type": "code",
      "metadata": {
        "id": "GMb0aJNYerJf",
        "colab_type": "code",
        "outputId": "2f5563c6-4479-4903-c885-757c1d34452b",
        "colab": {
          "base_uri": "https://localhost:8080/",
          "height": 35
        }
      },
      "source": [
        "z = w *[1., 2., 3.] + b\n",
        "print(z.numpy())"
      ],
      "execution_count": 0,
      "outputs": [
        {
          "output_type": "stream",
          "text": [
            "[2.7 4.7 6.7]\n"
          ],
          "name": "stdout"
        }
      ]
    },
    {
      "cell_type": "markdown",
      "metadata": {
        "id": "6gmbfBy0ipkD",
        "colab_type": "text"
      },
      "source": [
        "## tensorflow로 배열다루기"
      ]
    },
    {
      "cell_type": "code",
      "metadata": {
        "id": "woXtLHWDe-Aq",
        "colab_type": "code",
        "outputId": "104d5210-5352-482a-9dc1-4701ca4745e5",
        "colab": {
          "base_uri": "https://localhost:8080/",
          "height": 179
        }
      },
      "source": [
        "import tensorflow as tf\n",
        "import numpy as np\n",
        "\n",
        "# 3*2*3 배열 생성\n",
        "x_array = np.arange(18).reshape(3,2,3)\n",
        "# 텐서를 일렬로 펼침\n",
        "x2 = tf.reshape(x_array, shape = (-1, 6))\n",
        "\n",
        "xsum = tf.reduce_sum(x2, axis = 0)\n",
        "xmean = tf.reduce_mean(x2, axis = 0)\n",
        "\n",
        "print('입력 크기:', x_array.shape)\n",
        "print('크기가 변경된 입력: \\n', x2.numpy())\n",
        "print('열의 합:\\n', xsum.numpy())\n",
        "print('열의 평균:\\n', xmean.numpy())"
      ],
      "execution_count": 0,
      "outputs": [
        {
          "output_type": "stream",
          "text": [
            "입력 크기: (3, 2, 3)\n",
            "크기가 변경된 입력: \n",
            " [[ 0  1  2  3  4  5]\n",
            " [ 6  7  8  9 10 11]\n",
            " [12 13 14 15 16 17]]\n",
            "열의 합:\n",
            " [18 21 24 27 30 33]\n",
            "열의 평균:\n",
            " [ 6  7  8  9 10 11]\n"
          ],
          "name": "stdout"
        }
      ]
    },
    {
      "cell_type": "markdown",
      "metadata": {
        "id": "Fgqaon9Skdox",
        "colab_type": "text"
      },
      "source": [
        "## tensorflow로 저수준 API모델 개발"
      ]
    },
    {
      "cell_type": "code",
      "metadata": {
        "id": "HerKTuZvhlA-",
        "colab_type": "code",
        "colab": {}
      },
      "source": [
        "# dataset 생성\n",
        "import tensorflow as tf\n",
        "import numpy as np\n",
        "\n",
        "X_train = np.arange(10).reshape((10, 1))\n",
        "y_train = np.array([1.0, 1.3, 3.1, 2.0, 5.0, 6.3, 6.6, 7.4, 8.0, 9.0])"
      ],
      "execution_count": 0,
      "outputs": []
    },
    {
      "cell_type": "code",
      "metadata": {
        "id": "T4K5BmFSk336",
        "colab_type": "code",
        "colab": {}
      },
      "source": [
        "# 선형회귀 클래스 생성(경사하강법)\n",
        "class TfLinreg(object):\n",
        "  def __init__(self, learning_rate = 0.01):\n",
        "    self.w = tf.Variable(tf.zeros(shape = (1)))\n",
        "    self.b = tf.Variable(tf.zeros(shape = (1)))\n",
        "    #경사하강법 옵티마이저 설정\n",
        "    self.optimizer = tf.keras.optimizers.SGD(lr = learning_rate)\n",
        "\n",
        "  def fit(self, X, y, num_epochs = 10):\n",
        "    training_costs = []\n",
        "    for step in range(num_epochs):\n",
        "      #자동 미분을 위해 연산과정 기록\n",
        "      with tf.GradientTape() as tape:\n",
        "        z_net = self.w * X + self.b\n",
        "        z_net = tf.reshape(z_net, [-1])\n",
        "        sqr_errors = tf.square(z_net - y)\n",
        "        mean_cost = tf.reduce_mean(sqr_errors)\n",
        "\n",
        "      # 비용함수에 대한 가중치 그래디언트 계산\n",
        "      grads = tape.gradient(mean_cost, [self.w, self.b])\n",
        "      # 옵티마이저에 그래디언트 반영\n",
        "      self.optimizer.apply_gradients(zip(grads, [self.w, self.b]))\n",
        "      # 비용함수의 값을 저장\n",
        "      training_costs.append(mean_cost.numpy())\n",
        "\n",
        "    return training_costs\n",
        "    \n",
        "  def predict(self, X):\n",
        "    return self.w * X + self.b"
      ],
      "execution_count": 0,
      "outputs": []
    },
    {
      "cell_type": "code",
      "metadata": {
        "id": "DRNctXhJm1a9",
        "colab_type": "code",
        "colab": {}
      },
      "source": [
        "lrmodel = TfLinreg()\n",
        "training_costs = lrmodel.fit(X_train, y_train)"
      ],
      "execution_count": 0,
      "outputs": []
    },
    {
      "cell_type": "code",
      "metadata": {
        "id": "tqA1Alw_qLza",
        "colab_type": "code",
        "outputId": "eea84962-528c-4fb5-d1ae-cb7fdee06291",
        "colab": {
          "base_uri": "https://localhost:8080/",
          "height": 311
        }
      },
      "source": [
        "import matplotlib.pyplot as plt\n",
        "plt.plot(range(1,len(training_costs) + 1), training_costs)\n",
        "plt.tight_layout()\n",
        "plt.xlabel('epochs')\n",
        "plt.ylabel('training cost')\n",
        "plt.show()"
      ],
      "execution_count": 0,
      "outputs": [
        {
          "output_type": "display_data",
          "data": {
            "image/png": "[encoded data removed]",
            "text/plain": [
              "<Figure size 432x288 with 1 Axes>"
            ]
          },
          "metadata": {
            "tags": []
          }
        }
      ]
    },
    {
      "cell_type": "code",
      "metadata": {
        "id": "n4C50KjDrFZv",
        "colab_type": "code",
        "outputId": "dca9805e-874a-48dd-e69a-021b9f643bec",
        "colab": {
          "base_uri": "https://localhost:8080/",
          "height": 297
        }
      },
      "source": [
        "plt.scatter(X_train, y_train, marker = 's',  s = 50, label = 'training data')\n",
        "plt.plot(range(X_train.shape[0]), lrmodel.predict(X_train), color = 'gray', marker = 'o', markersize = 6, linewidth = 3, label = 'LinReg Model')\n",
        "plt.xlabel('x')\n",
        "plt.ylabel('y')\n",
        "plt.tight_layout()\n",
        "plt.legend()\n",
        "plt.show()"
      ],
      "execution_count": 0,
      "outputs": [
        {
          "output_type": "display_data",
          "data": {
            "image/png": "[encoded data removed]",
            "text/plain": [
              "<Figure size 432x288 with 1 Axes>"
            ]
          },
          "metadata": {
            "tags": []
          }
        }
      ]
    },
    {
      "cell_type": "code",
      "metadata": {
        "id": "eOgT_bXezDpY",
        "colab_type": "code",
        "outputId": "04547da1-53d7-4303-835e-ff9eb0653679",
        "colab": {
          "base_uri": "https://localhost:8080/",
          "height": 55
        }
      },
      "source": [
        "# google drive와 연동\n",
        "from google.colab import drive\n",
        "\n",
        "drive.mount('/content/gdrive')"
      ],
      "execution_count": 0,
      "outputs": [
        {
          "output_type": "stream",
          "text": [
            "Drive already mounted at /content/gdrive; to attempt to forcibly remount, call drive.mount(\"/content/gdrive\", force_remount=True).\n"
          ],
          "name": "stdout"
        }
      ]
    },
    {
      "cell_type": "code",
      "metadata": {
        "id": "sFReFn4BzQk0",
        "colab_type": "code",
        "outputId": "e29f2d11-014a-451e-fde6-6eae70f6d93c",
        "colab": {
          "base_uri": "https://localhost:8080/",
          "height": 35
        }
      },
      "source": [
        "# 연동 테스트 코드\n",
        "with open('/content/gdrive/My Drive/foo.txt', 'w') as f:\n",
        "  f.write('Hello Google Drive!')\n",
        "\n",
        "!cat /content/gdrive/My\\ Drive/foo.txt"
      ],
      "execution_count": 0,
      "outputs": [
        {
          "output_type": "stream",
          "text": [
            "Hello Google Drive!"
          ],
          "name": "stdout"
        }
      ]
    },
    {
      "cell_type": "code",
      "metadata": {
        "id": "VjxnlcwJzXKj",
        "colab_type": "code",
        "colab": {}
      },
      "source": [
        "# MNIST dataset을 불러오는 함수 생성\n",
        "import struct\n",
        "import numpy as np\n",
        "\n",
        "def load_mnist(path, kind = 'train'):\n",
        "  labels_path = path + '/%s-labels.idx1-ubyte' % kind\n",
        "  images_path = path + '/%s-images.idx3-ubyte' % kind\n",
        "  print(labels_path, images_path)\n",
        "\n",
        "  with open(labels_path, 'rb') as lbpath:\n",
        "    magic, n = struct.unpack('>II', lbpath.read(8))\n",
        "    labels = np.fromfile(lbpath, dtype = np.uint8)\n",
        "        \n",
        "  with open(images_path, 'rb') as imgpath:\n",
        "    magic, num, rows, cols = struct.unpack('>IIII', imgpath.read(16))\n",
        "    images = np.fromfile(imgpath,\n",
        "                             dtype = np.uint8).reshape(len(labels), 784)\n",
        "    # 정규화\n",
        "    images = ((images / 255.) - .5) * 2\n",
        "        \n",
        "  return images, labels"
      ],
      "execution_count": 0,
      "outputs": []
    },
    {
      "cell_type": "code",
      "metadata": {
        "id": "ggq6jMLJzZXR",
        "colab_type": "code",
        "outputId": "a6e7cbf0-4660-4505-ae69-e338ad74327d",
        "colab": {
          "base_uri": "https://localhost:8080/",
          "height": 109
        }
      },
      "source": [
        "X_train, y_train = load_mnist('/content/gdrive/My Drive/machine_learning/ch12', kind = 'train')\n",
        "print('행: %d, 열: %d' % (X_train.shape[0], X_train.shape[1]))\n",
        "X_test, y_test = load_mnist('/content/gdrive/My Drive/machine_learning/ch12', kind = 't10k')\n",
        "print('행: %d, 열: %d' % (X_test.shape[0], X_test.shape[1]))"
      ],
      "execution_count": 0,
      "outputs": [
        {
          "output_type": "stream",
          "text": [
            "/content/gdrive/My Drive/machine_learning/ch12/train-labels.idx1-ubyte /content/gdrive/My Drive/machine_learning/ch12/train-images.idx3-ubyte\n",
            "행: 60000, 열: 784\n",
            "/content/gdrive/My Drive/machine_learning/ch12/t10k-labels.idx1-ubyte /content/gdrive/My Drive/machine_learning/ch12/t10k-images.idx3-ubyte\n",
            "행: 10000, 열: 784\n"
          ],
          "name": "stdout"
        }
      ]
    },
    {
      "cell_type": "code",
      "metadata": {
        "id": "6GBOH-1k0Fjn",
        "colab_type": "code",
        "outputId": "e19887e3-9c4b-4b55-d549-16cecc0a17fb",
        "colab": {
          "base_uri": "https://localhost:8080/",
          "height": 53
        }
      },
      "source": [
        "# 정규화\n",
        "mean_vals = np.mean(X_train, axis = 0)\n",
        "std_val = np.std(X_train)\n",
        "\n",
        "X_train_centered = (X_train - mean_vals) / std_val\n",
        "X_test_centered = (X_test - mean_vals) / std_val\n",
        "\n",
        "print(X_train_centered.shape, y_train.shape)\n",
        "print(X_test_centered.shape, y_test.shape)"
      ],
      "execution_count": 0,
      "outputs": [
        {
          "output_type": "stream",
          "text": [
            "(60000, 784) (60000,)\n",
            "(10000, 784) (10000,)\n"
          ],
          "name": "stdout"
        }
      ]
    },
    {
      "cell_type": "code",
      "metadata": {
        "id": "FEjYTx6S5P_m",
        "colab_type": "code",
        "outputId": "79012859-64cf-4081-bae8-c16eec67eb11",
        "colab": {
          "base_uri": "https://localhost:8080/",
          "height": 125
        }
      },
      "source": [
        "# 난수 초기값 설정\n",
        "np.random.seed(123)\n",
        "\n",
        "# 원핫인코딩\n",
        "# to_categorical은 입력된 텐서에서 가장큰 정수를 찾아 원-핫 인코딩 크기를 결정함\n",
        "y_train_onehot = tf.keras.utils.to_categorical(y_train)\n",
        "\n",
        "print('처음 3개의 레이블: ', y_train[:3])\n",
        "print('\\n처음 3개 레이블 (원-핫): \\n', y_train_onehot[:3])"
      ],
      "execution_count": 0,
      "outputs": [
        {
          "output_type": "stream",
          "text": [
            "처음 3개의 레이블:  [5 0 4]\n",
            "\n",
            "처음 3개 레이블 (원-핫): \n",
            " [[0. 0. 0. 0. 0. 1. 0. 0. 0. 0.]\n",
            " [1. 0. 0. 0. 0. 0. 0. 0. 0. 0.]\n",
            " [0. 0. 0. 0. 1. 0. 0. 0. 0. 0.]]\n"
          ],
          "name": "stdout"
        }
      ]
    },
    {
      "cell_type": "code",
      "metadata": {
        "id": "WuKjqPwK7Or5",
        "colab_type": "code",
        "outputId": "15f977d9-f425-4877-9ed9-743711af274e",
        "colab": {
          "base_uri": "https://localhost:8080/",
          "height": 35
        }
      },
      "source": [
        "X_train_centered.shape[1]"
      ],
      "execution_count": 0,
      "outputs": [
        {
          "output_type": "execute_result",
          "data": {
            "text/plain": [
              "784"
            ]
          },
          "metadata": {
            "tags": []
          },
          "execution_count": 113
        }
      ]
    },
    {
      "cell_type": "code",
      "metadata": {
        "id": "nfLMIIIm7Xnc",
        "colab_type": "code",
        "outputId": "9b90e231-2867-4fa5-9fd8-20dda09d8d82",
        "colab": {
          "base_uri": "https://localhost:8080/",
          "height": 35
        }
      },
      "source": [
        "y_train_onehot.shape[1]"
      ],
      "execution_count": 0,
      "outputs": [
        {
          "output_type": "execute_result",
          "data": {
            "text/plain": [
              "10"
            ]
          },
          "metadata": {
            "tags": []
          },
          "execution_count": 114
        }
      ]
    },
    {
      "cell_type": "markdown",
      "metadata": {
        "id": "CyVClyK35yne",
        "colab_type": "text"
      },
      "source": [
        "## 피드포워드 신경망 구성\n",
        "처음 두 층은 tanh를 활성화 함수로하는 50개의 은닉유닛\n",
        "\n",
        "마지막 층은 소프트맥스 함수를 사용"
      ]
    },
    {
      "cell_type": "code",
      "metadata": {
        "id": "Z8vG7bq95Riw",
        "colab_type": "code",
        "colab": {}
      },
      "source": [
        "model = tf.keras.models.Sequential()\n",
        "\n",
        "# 활성화 함수는 tanh, input_dim은 784\n",
        "model.add(tf.keras.layers.Dense(units = 50,\n",
        "                                input_dim = X_train_centered.shape[1],\n",
        "                                kernel_initializer = 'glorot_uniform', \n",
        "                                bias_initializer = 'zeros', \n",
        "                                activation = 'tanh'))\n",
        "\n",
        "# 활성화 함수는 tanh, imput_dim은 50\n",
        "model.add(tf.keras.layers.Dense(units = 50,\n",
        "                                input_dim = 50,\n",
        "                                kernel_initializer = 'glorot_uniform',\n",
        "                                bias_initializer = 'zeros',\n",
        "                                activation = 'tanh'))\n",
        "\n",
        "#활성화 함수는 softmax, unit은 10, input_dim은 50\n",
        "model.add(tf.keras.layers.Dense(units = y_train_onehot.shape[1],\n",
        "                                input_dim = 50,\n",
        "                                kernel_initializer = 'glorot_uniform',\n",
        "                                bias_initializer = 'zeros',\n",
        "                                activation = 'softmax'))"
      ],
      "execution_count": 0,
      "outputs": []
    },
    {
      "cell_type": "code",
      "metadata": {
        "id": "njXFSO4R7CCB",
        "colab_type": "code",
        "outputId": "e4a5c6c2-7e6b-4767-e76c-27d17b5be401",
        "colab": {
          "base_uri": "https://localhost:8080/",
          "height": 269
        }
      },
      "source": [
        "# 요약\n",
        "model.summary()"
      ],
      "execution_count": 0,
      "outputs": [
        {
          "output_type": "stream",
          "text": [
            "Model: \"sequential_5\"\n",
            "_________________________________________________________________\n",
            "Layer (type)                 Output Shape              Param #   \n",
            "=================================================================\n",
            "dense_3 (Dense)              (None, 50)                39250     \n",
            "_________________________________________________________________\n",
            "dense_4 (Dense)              (None, 50)                2550      \n",
            "_________________________________________________________________\n",
            "dense_5 (Dense)              (None, 10)                510       \n",
            "=================================================================\n",
            "Total params: 42,310\n",
            "Trainable params: 42,310\n",
            "Non-trainable params: 0\n",
            "_________________________________________________________________\n"
          ],
          "name": "stdout"
        }
      ]
    },
    {
      "cell_type": "markdown",
      "metadata": {
        "id": "kq1r3RYsBTCR",
        "colab_type": "text"
      },
      "source": [
        "## 피드포워드 신경망 훈련"
      ]
    },
    {
      "cell_type": "code",
      "metadata": {
        "id": "r_EkWETi7B5z",
        "colab_type": "code",
        "colab": {}
      },
      "source": [
        "# 모델컴파일(손실함수 결정 & 옵티마이저 결정))\n",
        "sgd_optimizer = tf.keras.optimizers.SGD(lr = 0.001, decay = 1e-7, momentum = .9)\n",
        "\n",
        "model.compile(optimizer = sgd_optimizer, loss = 'categorical_crossentropy')"
      ],
      "execution_count": 0,
      "outputs": []
    },
    {
      "cell_type": "code",
      "metadata": {
        "id": "fWIQrt1E7B4Y",
        "colab_type": "code",
        "outputId": "fb7bc6b9-36fa-4f8d-df45-08f5e42ff53b",
        "colab": {
          "base_uri": "https://localhost:8080/",
          "height": 1000
        }
      },
      "source": [
        "# 미니배치 경사하강법\n",
        "## validation_split은 데이터를 떼어내서 검증데이터로 사용\n",
        "## 비용함수를 출력, 관찰하여 하이퍼파라미터를 튜닝해야함\n",
        "history = model.fit(X_train_centered, y_train_onehot,\n",
        "                    batch_size = 64, epochs = 50, verbose = 1, validation_split = 0.1)"
      ],
      "execution_count": 0,
      "outputs": [
        {
          "output_type": "stream",
          "text": [
            "Train on 54000 samples, validate on 6000 samples\n",
            "Epoch 1/50\n",
            "54000/54000 [==============================] - 3s 47us/sample - loss: 0.7429 - val_loss: 0.3663\n",
            "Epoch 2/50\n",
            "54000/54000 [==============================] - 2s 40us/sample - loss: 0.3729 - val_loss: 0.2777\n",
            "Epoch 3/50\n",
            "54000/54000 [==============================] - 2s 40us/sample - loss: 0.3075 - val_loss: 0.2413\n",
            "Epoch 4/50\n",
            "54000/54000 [==============================] - 2s 40us/sample - loss: 0.2721 - val_loss: 0.2180\n",
            "Epoch 5/50\n",
            "54000/54000 [==============================] - 2s 40us/sample - loss: 0.2474 - val_loss: 0.2021\n",
            "Epoch 6/50\n",
            "54000/54000 [==============================] - 2s 39us/sample - loss: 0.2283 - val_loss: 0.1893\n",
            "Epoch 7/50\n",
            "54000/54000 [==============================] - 2s 38us/sample - loss: 0.2125 - val_loss: 0.1796\n",
            "Epoch 8/50\n",
            "54000/54000 [==============================] - 2s 39us/sample - loss: 0.1992 - val_loss: 0.1719\n",
            "Epoch 9/50\n",
            "54000/54000 [==============================] - 2s 39us/sample - loss: 0.1880 - val_loss: 0.1644\n",
            "Epoch 10/50\n",
            "54000/54000 [==============================] - 2s 40us/sample - loss: 0.1778 - val_loss: 0.1590\n",
            "Epoch 11/50\n",
            "54000/54000 [==============================] - 2s 40us/sample - loss: 0.1689 - val_loss: 0.1536\n",
            "Epoch 12/50\n",
            "54000/54000 [==============================] - 2s 39us/sample - loss: 0.1609 - val_loss: 0.1490\n",
            "Epoch 13/50\n",
            "54000/54000 [==============================] - 2s 39us/sample - loss: 0.1537 - val_loss: 0.1455\n",
            "Epoch 14/50\n",
            "54000/54000 [==============================] - 2s 40us/sample - loss: 0.1472 - val_loss: 0.1419\n",
            "Epoch 15/50\n",
            "54000/54000 [==============================] - 2s 41us/sample - loss: 0.1411 - val_loss: 0.1379\n",
            "Epoch 16/50\n",
            "54000/54000 [==============================] - 2s 40us/sample - loss: 0.1355 - val_loss: 0.1350\n",
            "Epoch 17/50\n",
            "54000/54000 [==============================] - 2s 39us/sample - loss: 0.1301 - val_loss: 0.1330\n",
            "Epoch 18/50\n",
            "54000/54000 [==============================] - 2s 38us/sample - loss: 0.1251 - val_loss: 0.1298\n",
            "Epoch 19/50\n",
            "54000/54000 [==============================] - 2s 40us/sample - loss: 0.1207 - val_loss: 0.1284\n",
            "Epoch 20/50\n",
            "54000/54000 [==============================] - 2s 40us/sample - loss: 0.1162 - val_loss: 0.1271\n",
            "Epoch 21/50\n",
            "54000/54000 [==============================] - 2s 39us/sample - loss: 0.1123 - val_loss: 0.1256\n",
            "Epoch 22/50\n",
            "54000/54000 [==============================] - 2s 42us/sample - loss: 0.1084 - val_loss: 0.1240\n",
            "Epoch 23/50\n",
            "54000/54000 [==============================] - 2s 40us/sample - loss: 0.1047 - val_loss: 0.1219\n",
            "Epoch 24/50\n",
            "54000/54000 [==============================] - 2s 40us/sample - loss: 0.1013 - val_loss: 0.1204\n",
            "Epoch 25/50\n",
            "54000/54000 [==============================] - 2s 38us/sample - loss: 0.0979 - val_loss: 0.1202\n",
            "Epoch 26/50\n",
            "54000/54000 [==============================] - 2s 40us/sample - loss: 0.0948 - val_loss: 0.1191\n",
            "Epoch 27/50\n",
            "54000/54000 [==============================] - 2s 41us/sample - loss: 0.0917 - val_loss: 0.1172\n",
            "Epoch 28/50\n",
            "54000/54000 [==============================] - 2s 40us/sample - loss: 0.0889 - val_loss: 0.1168\n",
            "Epoch 29/50\n",
            "54000/54000 [==============================] - 2s 39us/sample - loss: 0.0861 - val_loss: 0.1152\n",
            "Epoch 30/50\n",
            "54000/54000 [==============================] - 2s 40us/sample - loss: 0.0837 - val_loss: 0.1150\n",
            "Epoch 31/50\n",
            "54000/54000 [==============================] - 2s 40us/sample - loss: 0.0810 - val_loss: 0.1150\n",
            "Epoch 32/50\n",
            "54000/54000 [==============================] - 2s 40us/sample - loss: 0.0787 - val_loss: 0.1129\n",
            "Epoch 33/50\n",
            "54000/54000 [==============================] - 2s 40us/sample - loss: 0.0763 - val_loss: 0.1124\n",
            "Epoch 34/50\n",
            "54000/54000 [==============================] - 2s 40us/sample - loss: 0.0741 - val_loss: 0.1128\n",
            "Epoch 35/50\n",
            "54000/54000 [==============================] - 2s 38us/sample - loss: 0.0719 - val_loss: 0.1114\n",
            "Epoch 36/50\n",
            "54000/54000 [==============================] - 2s 38us/sample - loss: 0.0699 - val_loss: 0.1108\n",
            "Epoch 37/50\n",
            "54000/54000 [==============================] - 2s 38us/sample - loss: 0.0678 - val_loss: 0.1106\n",
            "Epoch 38/50\n",
            "54000/54000 [==============================] - 2s 39us/sample - loss: 0.0659 - val_loss: 0.1107\n",
            "Epoch 39/50\n",
            "54000/54000 [==============================] - 2s 39us/sample - loss: 0.0640 - val_loss: 0.1101\n",
            "Epoch 40/50\n",
            "54000/54000 [==============================] - 2s 39us/sample - loss: 0.0623 - val_loss: 0.1100\n",
            "Epoch 41/50\n",
            "54000/54000 [==============================] - 2s 39us/sample - loss: 0.0605 - val_loss: 0.1098\n",
            "Epoch 42/50\n",
            "54000/54000 [==============================] - 2s 40us/sample - loss: 0.0589 - val_loss: 0.1096\n",
            "Epoch 43/50\n",
            "54000/54000 [==============================] - 2s 41us/sample - loss: 0.0573 - val_loss: 0.1091\n",
            "Epoch 44/50\n",
            "54000/54000 [==============================] - 2s 40us/sample - loss: 0.0556 - val_loss: 0.1089\n",
            "Epoch 45/50\n",
            "54000/54000 [==============================] - 2s 38us/sample - loss: 0.0542 - val_loss: 0.1088\n",
            "Epoch 46/50\n",
            "54000/54000 [==============================] - 2s 38us/sample - loss: 0.0527 - val_loss: 0.1081\n",
            "Epoch 47/50\n",
            "54000/54000 [==============================] - 2s 40us/sample - loss: 0.0513 - val_loss: 0.1096\n",
            "Epoch 48/50\n",
            "54000/54000 [==============================] - 2s 40us/sample - loss: 0.0500 - val_loss: 0.1088\n",
            "Epoch 49/50\n",
            "54000/54000 [==============================] - 2s 39us/sample - loss: 0.0487 - val_loss: 0.1085\n",
            "Epoch 50/50\n",
            "54000/54000 [==============================] - 2s 40us/sample - loss: 0.0475 - val_loss: 0.1089\n"
          ],
          "name": "stdout"
        }
      ]
    },
    {
      "cell_type": "code",
      "metadata": {
        "id": "LHt11HgD7B1j",
        "colab_type": "code",
        "outputId": "26d9367a-dba7-431d-ec38-d70618e7426f",
        "colab": {
          "base_uri": "https://localhost:8080/",
          "height": 35
        }
      },
      "source": [
        "y_train_pred = model.predict_classes(X_train_centered, verbose = 0)\n",
        "print(y_train_pred[:5])"
      ],
      "execution_count": 0,
      "outputs": [
        {
          "output_type": "stream",
          "text": [
            "[6 9 0 8 0]\n"
          ],
          "name": "stdout"
        }
      ]
    },
    {
      "cell_type": "code",
      "metadata": {
        "id": "kpsYunY87B0H",
        "colab_type": "code",
        "outputId": "48a80103-e3c3-4e5e-b63a-6680b1d8119b",
        "colab": {
          "base_uri": "https://localhost:8080/",
          "height": 35
        }
      },
      "source": [
        "# 훈련세트와 테스트세트에서 모델 정확도 확인\n",
        "correct_preds = np.sum(y_train == y_train_pred, axis = 0)\n",
        "train_acc = correct_preds / y_train.shape[0]\n",
        "\n",
        "print(train_acc * 100)"
      ],
      "execution_count": 0,
      "outputs": [
        {
          "output_type": "stream",
          "text": [
            "9.056666666666667\n"
          ],
          "name": "stdout"
        }
      ]
    },
    {
      "cell_type": "code",
      "metadata": {
        "id": "Owr-d6H37ByQ",
        "colab_type": "code",
        "outputId": "609a65a9-9644-497a-e2fe-3229b10885f5",
        "colab": {
          "base_uri": "https://localhost:8080/",
          "height": 35
        }
      },
      "source": [
        "y_test_pred = model.predict_classes(X_test_centered, verbose = 0)\n",
        "correct_preds = np.sum(y_test == y_test_pred, axis = 0)\n",
        "test_acc = correct_preds / y_test.shape[0]\n",
        "\n",
        "print(test_acc * 100)"
      ],
      "execution_count": 0,
      "outputs": [
        {
          "output_type": "stream",
          "text": [
            "8.3\n"
          ],
          "name": "stdout"
        }
      ]
    },
    {
      "cell_type": "markdown",
      "metadata": {
        "id": "u8pWGj58EeG1",
        "colab_type": "text"
      },
      "source": [
        "## 다층신경망의 활성화 함수 선택\n",
        "일반적으로 미분이 가능하다면 모든 함수 다층 신경망의 활성화 함수로 사용할 수 있다. 그러나 선형의 경우 그리 유용하지가 않다.\n",
        "\n",
        "따라서 비선형함수를 사용해야하고, 로지스틱함수는 큰 음수의 값이 입력될 경우 문제가 된다. 따라서 은닉층에서 하이퍼볼릭 탄젠트함수를 주로사용한다."
      ]
    },
    {
      "cell_type": "code",
      "metadata": {
        "id": "To0k2oKy7BvP",
        "colab_type": "code",
        "outputId": "449c0ec6-c4d0-4699-923d-52bd37457acf",
        "colab": {
          "base_uri": "https://localhost:8080/",
          "height": 53
        }
      },
      "source": [
        "# 로지스틱함수 요약\n",
        "import numpy as np\n",
        "\n",
        "X = np.array([1, 1.4, 2.5]) # 첫번째 원소는 1이어야함\n",
        "w = np.array([0.4, 0.3, 0.5])\n",
        "\n",
        "def net_input(X, w):\n",
        "  return np.dot(X, w)\n",
        "\n",
        "def logistic(z):\n",
        "  return 1. / (1. + np.exp(-z))\n",
        "\n",
        "def logistic_activation(X, w):\n",
        "  z = net_input(X, w)\n",
        "  return logistic(z)\n",
        "\n",
        "print('샘플 x가 양성클래스에 속할확률')\n",
        "print('P(y1|x) = %.3f' % logistic_activation(X, w))"
      ],
      "execution_count": 0,
      "outputs": [
        {
          "output_type": "stream",
          "text": [
            "샘플 x가 양성클래스에 속할확률\n",
            "P(y1|x) = 0.888\n"
          ],
          "name": "stdout"
        }
      ]
    },
    {
      "cell_type": "code",
      "metadata": {
        "id": "SXca-UAUMWoJ",
        "colab_type": "code",
        "outputId": "192742c6-6874-4318-83d3-f724e265baa2",
        "colab": {
          "base_uri": "https://localhost:8080/",
          "height": 89
        }
      },
      "source": [
        "# W: (n_hidden_units, n_hidden_units + 1) 그기의 배열\n",
        "# 첫번째 열은 절편유닛입니다\n",
        "W = np.array([[1.1, 1.2, 0.8, 0.4],\n",
        "              [0.2, 0.4, 1.0, 0.2],\n",
        "              [0.6, 1.5, 1.2, 0.7]])\n",
        "\n",
        "# A: (n_hidden_units + 1, n_samples) 크기의 배열\n",
        "# 배열의 첫번째 열은 1 입니다\n",
        "A = np.array([[1, 0.1, 0.4, 0.6]])\n",
        "\n",
        "Z = np.dot(W, A[0])\n",
        "y_probas = logistic(Z)\n",
        "\n",
        "print('최종 입력: \\n', z)\n",
        "print('출력 유닛: \\n', y_probas)\n",
        "\n",
        "#무엇인가 문제가 된다고 한다. 그렇기에 존재하는 코드라고 한다.\n",
        "#그러나 나는 무엇이 문제인지 잘 모르겠다... ㅠㅠㅠ 다음에 와서 다시 확인할 것. 그렇게 중요해보이진 않으니.."
      ],
      "execution_count": 0,
      "outputs": [
        {
          "output_type": "stream",
          "text": [
            "최종 입력: \n",
            " tf.Tensor([2.7 4.7 6.7], shape=(3,), dtype=float32)\n",
            "출력 유닛: \n",
            " [0.85569687 0.68135373 0.83889105]\n"
          ],
          "name": "stdout"
        }
      ]
    },
    {
      "cell_type": "code",
      "metadata": {
        "id": "vnlT1nD2PbM1",
        "colab_type": "code",
        "outputId": "afb0c0e2-43f9-4a29-cd24-02b3e3a94fa7",
        "colab": {
          "base_uri": "https://localhost:8080/",
          "height": 35
        }
      },
      "source": [
        "y_class = np.argmax(Z, axis = 0)\n",
        "print('예측 클래스 레이블: %d' % (y_class))"
      ],
      "execution_count": 0,
      "outputs": [
        {
          "output_type": "stream",
          "text": [
            "예측 클래스 레이블: 0\n"
          ],
          "name": "stdout"
        }
      ]
    },
    {
      "cell_type": "markdown",
      "metadata": {
        "id": "n4lVmb33P5Cj",
        "colab_type": "text"
      },
      "source": [
        "## 소프트맥스 함수를 사용한 다중클래스 확률 예측\n",
        "소프트맥스 함수는 로지스틱함수를 일반화한 함수이다."
      ]
    },
    {
      "cell_type": "code",
      "metadata": {
        "id": "d1AcjvNzPrv9",
        "colab_type": "code",
        "outputId": "f666595e-eea7-47f3-be5f-38ad62f4ebfe",
        "colab": {
          "base_uri": "https://localhost:8080/",
          "height": 35
        }
      },
      "source": [
        "# 직접 구현\n",
        "def softmax(z):\n",
        "  return np.exp(z) / np.sum(np.exp(z))\n",
        "\n",
        "y_probas = softmax(Z)\n",
        "print(y_probas)"
      ],
      "execution_count": 0,
      "outputs": [
        {
          "output_type": "stream",
          "text": [
            "[0.44668973 0.16107406 0.39223621]\n"
          ],
          "name": "stdout"
        }
      ]
    },
    {
      "cell_type": "code",
      "metadata": {
        "id": "-NBAPtKYVCHl",
        "colab_type": "code",
        "outputId": "cb13e08c-2a91-474c-82a2-f6ab3cf5c62c",
        "colab": {
          "base_uri": "https://localhost:8080/",
          "height": 35
        }
      },
      "source": [
        "np.sum(y_probas)\n",
        "# 함수가 출력을 정규화했다는 것을 확인"
      ],
      "execution_count": 0,
      "outputs": [
        {
          "output_type": "execute_result",
          "data": {
            "text/plain": [
              "1.0"
            ]
          },
          "metadata": {
            "tags": []
          },
          "execution_count": 126
        }
      ]
    },
    {
      "cell_type": "markdown",
      "metadata": {
        "id": "vUg-g9RTVVv-",
        "colab_type": "text"
      },
      "source": [
        "## 하이퍼볼릭 탄젠트로 출력 범위 넓히기\n",
        "로지스틱함수의 출력범위는 0~1\n",
        "\n",
        "하이퍼볼릭 함수의 출력범위는 -1~1\n",
        "\n",
        "따라서 역전파 알고리즘의 수렴을 향상시킬 수 있음"
      ]
    },
    {
      "cell_type": "code",
      "metadata": {
        "id": "u6WiS1AGVEM3",
        "colab_type": "code",
        "colab": {}
      },
      "source": [
        "# 시각화\n",
        "import matplotlib.pyplot as plt\n",
        "\n",
        "def tanh(z):\n",
        "  e_p = np.exp(z)\n",
        "  e_m = np.exp(-z)\n",
        "\n",
        "  return (e_p - e_m) / (e_p + e_m)"
      ],
      "execution_count": 0,
      "outputs": []
    },
    {
      "cell_type": "code",
      "metadata": {
        "id": "bmy7ESOXVwJ-",
        "colab_type": "code",
        "outputId": "d500473b-0337-4479-bdd4-7c938fad5e14",
        "colab": {
          "base_uri": "https://localhost:8080/",
          "height": 297
        }
      },
      "source": [
        "z = np.arange(-5, 5, 0.005)\n",
        "\n",
        "log_act = logistic(z)\n",
        "tanh_act = tanh(z)\n",
        "\n",
        "plt.ylim([-1.5, 1.5])\n",
        "plt.xlabel('net input')\n",
        "plt.ylabel('activation')\n",
        "\n",
        "\n",
        "plt.axhline(-1.5, color = 'black', linestyle = ':')\n",
        "plt.axhline(-1.0, color = 'black', linestyle = ':')\n",
        "plt.axhline(-0.5, color = 'black', linestyle = ':')\n",
        "plt.axhline(0, color = 'black', linestyle = ':')\n",
        "plt.axhline(0.5, color = 'black', linestyle = ':')\n",
        "plt.axhline(1.0, color = 'black', linestyle = ':')\n",
        "plt.axhline(1.5, color = 'black', linestyle = ':')\n",
        "\n",
        "plt.plot(z, tanh_act, linewidth = 3, linestyle = '--', label = 'tanh')\n",
        "plt.plot(z, log_act, linewidth = 3, label = 'logistic')\n",
        "plt.legend(loc = 'lower right')\n",
        "plt.tight_layout()\n",
        "plt.show()"
      ],
      "execution_count": 0,
      "outputs": [
        {
          "output_type": "display_data",
          "data": {
            "image/png": "[encoded data removed]",
            "text/plain": [
              "<Figure size 432x288 with 1 Axes>"
            ]
          },
          "metadata": {
            "tags": []
          }
        }
      ]
    },
    {
      "cell_type": "code",
      "metadata": {
        "id": "GdMW436mWrCd",
        "colab_type": "code",
        "colab": {}
      },
      "source": [
        "## 넘파이와 사이파이에 구현되어있음\n",
        "tanh_act = np.tanh(z)\n",
        "\n",
        "from scipy.special import expit\n",
        "log_act = expit(z)"
      ],
      "execution_count": 0,
      "outputs": []
    },
    {
      "cell_type": "code",
      "metadata": {
        "id": "MaEQZHQrXfvf",
        "colab_type": "code",
        "colab": {}
      },
      "source": [
        ""
      ],
      "execution_count": 0,
      "outputs": []
    }
  ]
}
