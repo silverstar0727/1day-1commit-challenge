{
  "nbformat": 4,
  "nbformat_minor": 0,
  "metadata": {
    "colab": {
      "name": "machine_learning_ch10.2.ipynb",
      "provenance": [],
      "collapsed_sections": [],
      "authorship_tag": "ABX9TyOmw/Dy98Cno88vW/mzYf4v",
      "include_colab_link": true
    },
    "kernelspec": {
      "name": "python3",
      "display_name": "Python 3"
    }
  },
  "cells": [
    {
      "cell_type": "markdown",
      "metadata": {
        "id": "view-in-github",
        "colab_type": "text"
      },
      "source": [
        "<a href=\"https://colab.research.google.com/github/silverstar0727/1day-1commit-challenge/blob/master/machine_learning_ch10_2.ipynb\" target=\"_parent\"><img src=\"https://colab.research.google.com/assets/colab-badge.svg\" alt=\"Open In Colab\"/></a>"
      ]
    },
    {
      "cell_type": "code",
      "metadata": {
        "id": "4_LSzkmOAB4j",
        "colab_type": "code",
        "outputId": "5e27efb0-dc3b-421d-8b6b-452aa60f896e",
        "colab": {
          "base_uri": "https://localhost:8080/",
          "height": 204
        }
      },
      "source": [
        "# 주택가격 데이터 불러오기\n",
        "import pandas as pd\n",
        "\n",
        "df = pd.read_csv('https://raw.githubusercontent.com/rasbt/'\n",
        "'python-machine-learning-book-2nd-edition'\n",
        "'/master/code/ch10/housing.data.txt', header = None, sep = '\\s+')\n",
        "\n",
        "df.columns = ['CRIM','ZN', 'INDUS', 'CHAS', 'NOX', 'RM', 'AGE', 'DIS', 'RAD', 'TAX',\n",
        "            'PRTATIO', 'B', 'LSTAT', 'MEDV']\n",
        "df.head()"
      ],
      "execution_count": 0,
      "outputs": [
        {
          "output_type": "execute_result",
          "data": {
            "text/html": [
              "<div>\n",
              "<style scoped>\n",
              "    .dataframe tbody tr th:only-of-type {\n",
              "        vertical-align: middle;\n",
              "    }\n",
              "\n",
              "    .dataframe tbody tr th {\n",
              "        vertical-align: top;\n",
              "    }\n",
              "\n",
              "    .dataframe thead th {\n",
              "        text-align: right;\n",
              "    }\n",
              "</style>\n",
              "<table border=\"1\" class=\"dataframe\">\n",
              "  <thead>\n",
              "    <tr style=\"text-align: right;\">\n",
              "      <th></th>\n",
              "      <th>CRIM</th>\n",
              "      <th>ZN</th>\n",
              "      <th>INDUS</th>\n",
              "      <th>CHAS</th>\n",
              "      <th>NOX</th>\n",
              "      <th>RM</th>\n",
              "      <th>AGE</th>\n",
              "      <th>DIS</th>\n",
              "      <th>RAD</th>\n",
              "      <th>TAX</th>\n",
              "      <th>PRTATIO</th>\n",
              "      <th>B</th>\n",
              "      <th>LSTAT</th>\n",
              "      <th>MEDV</th>\n",
              "    </tr>\n",
              "  </thead>\n",
              "  <tbody>\n",
              "    <tr>\n",
              "      <th>0</th>\n",
              "      <td>0.00632</td>\n",
              "      <td>18.0</td>\n",
              "      <td>2.31</td>\n",
              "      <td>0</td>\n",
              "      <td>0.538</td>\n",
              "      <td>6.575</td>\n",
              "      <td>65.2</td>\n",
              "      <td>4.0900</td>\n",
              "      <td>1</td>\n",
              "      <td>296.0</td>\n",
              "      <td>15.3</td>\n",
              "      <td>396.90</td>\n",
              "      <td>4.98</td>\n",
              "      <td>24.0</td>\n",
              "    </tr>\n",
              "    <tr>\n",
              "      <th>1</th>\n",
              "      <td>0.02731</td>\n",
              "      <td>0.0</td>\n",
              "      <td>7.07</td>\n",
              "      <td>0</td>\n",
              "      <td>0.469</td>\n",
              "      <td>6.421</td>\n",
              "      <td>78.9</td>\n",
              "      <td>4.9671</td>\n",
              "      <td>2</td>\n",
              "      <td>242.0</td>\n",
              "      <td>17.8</td>\n",
              "      <td>396.90</td>\n",
              "      <td>9.14</td>\n",
              "      <td>21.6</td>\n",
              "    </tr>\n",
              "    <tr>\n",
              "      <th>2</th>\n",
              "      <td>0.02729</td>\n",
              "      <td>0.0</td>\n",
              "      <td>7.07</td>\n",
              "      <td>0</td>\n",
              "      <td>0.469</td>\n",
              "      <td>7.185</td>\n",
              "      <td>61.1</td>\n",
              "      <td>4.9671</td>\n",
              "      <td>2</td>\n",
              "      <td>242.0</td>\n",
              "      <td>17.8</td>\n",
              "      <td>392.83</td>\n",
              "      <td>4.03</td>\n",
              "      <td>34.7</td>\n",
              "    </tr>\n",
              "    <tr>\n",
              "      <th>3</th>\n",
              "      <td>0.03237</td>\n",
              "      <td>0.0</td>\n",
              "      <td>2.18</td>\n",
              "      <td>0</td>\n",
              "      <td>0.458</td>\n",
              "      <td>6.998</td>\n",
              "      <td>45.8</td>\n",
              "      <td>6.0622</td>\n",
              "      <td>3</td>\n",
              "      <td>222.0</td>\n",
              "      <td>18.7</td>\n",
              "      <td>394.63</td>\n",
              "      <td>2.94</td>\n",
              "      <td>33.4</td>\n",
              "    </tr>\n",
              "    <tr>\n",
              "      <th>4</th>\n",
              "      <td>0.06905</td>\n",
              "      <td>0.0</td>\n",
              "      <td>2.18</td>\n",
              "      <td>0</td>\n",
              "      <td>0.458</td>\n",
              "      <td>7.147</td>\n",
              "      <td>54.2</td>\n",
              "      <td>6.0622</td>\n",
              "      <td>3</td>\n",
              "      <td>222.0</td>\n",
              "      <td>18.7</td>\n",
              "      <td>396.90</td>\n",
              "      <td>5.33</td>\n",
              "      <td>36.2</td>\n",
              "    </tr>\n",
              "  </tbody>\n",
              "</table>\n",
              "</div>"
            ],
            "text/plain": [
              "      CRIM    ZN  INDUS  CHAS    NOX  ...    TAX  PRTATIO       B  LSTAT  MEDV\n",
              "0  0.00632  18.0   2.31     0  0.538  ...  296.0     15.3  396.90   4.98  24.0\n",
              "1  0.02731   0.0   7.07     0  0.469  ...  242.0     17.8  396.90   9.14  21.6\n",
              "2  0.02729   0.0   7.07     0  0.469  ...  242.0     17.8  392.83   4.03  34.7\n",
              "3  0.03237   0.0   2.18     0  0.458  ...  222.0     18.7  394.63   2.94  33.4\n",
              "4  0.06905   0.0   2.18     0  0.458  ...  222.0     18.7  396.90   5.33  36.2\n",
              "\n",
              "[5 rows x 14 columns]"
            ]
          },
          "metadata": {
            "tags": []
          },
          "execution_count": 2
        }
      ]
    },
    {
      "cell_type": "markdown",
      "metadata": {
        "id": "3WnSVKt3AhU3",
        "colab_type": "text"
      },
      "source": [
        "# 회귀에 규제적용\n",
        "ridge & lasso"
      ]
    },
    {
      "cell_type": "code",
      "metadata": {
        "id": "tJ7wgT8dAgqj",
        "colab_type": "code",
        "colab": {}
      },
      "source": [
        "from sklearn.linear_model import Ridge\n",
        "\n",
        "ridge = Ridge(alpha = 1.0) # alpha = lmabda(규제강도)"
      ],
      "execution_count": 0,
      "outputs": []
    },
    {
      "cell_type": "code",
      "metadata": {
        "id": "aQGTC75Lf825",
        "colab_type": "code",
        "colab": {}
      },
      "source": [
        "from sklearn.linear_model import Lasso\n",
        "\n",
        "lasso = Lasso(alpha = 1.0)"
      ],
      "execution_count": 0,
      "outputs": []
    },
    {
      "cell_type": "code",
      "metadata": {
        "id": "HKATY_NGgNsY",
        "colab_type": "code",
        "colab": {}
      },
      "source": [
        "# L1과 L2의 비율조절\n",
        "from sklearn.linear_model import ElasticNet\n",
        "\n",
        "elanet = ElasticNet(alpha = 1.0, l1_ratio = 0.5)\n",
        "# l1_ratio = 0.5는 lasso회귀와 동일"
      ],
      "execution_count": 0,
      "outputs": []
    },
    {
      "cell_type": "markdown",
      "metadata": {
        "id": "fIkeB2eEgi9U",
        "colab_type": "text"
      },
      "source": [
        "# 선형회귀를 다항회귀로 전환"
      ]
    },
    {
      "cell_type": "code",
      "metadata": {
        "id": "bu1ZLnx-gluE",
        "colab_type": "code",
        "colab": {}
      },
      "source": [
        "# 2차 다항식 추가\n",
        "import numpy as np\n",
        "from sklearn.linear_model import LinearRegression\n",
        "from sklearn.preprocessing import PolynomialFeatures\n",
        "\n",
        "X = np.array([ 258.0, 270.0, 294.0, 320.0, 342.0, 368.0, 369.0, 446.0, 480.0, 586.0])[:, np.newaxis]\n",
        "y = np.array([236.4, 234.4, 252.8, 298.6, 314.2, 342.2, 360.8, 368.0, 391.2, 390.8])\n",
        "lr = LinearRegression()\n",
        "pr = LinearRegression()\n",
        "\n",
        "quadratic = PolynomialFeatures(degree = 2) #2차식\n",
        "X_quad = quadratic.fit_transform(X)\n",
        "\n",
        "lr.fit(X, y)\n",
        "X_fit = np.arange(250, 600, 10)[:, np.newaxis]\n",
        "y_lin_fit = lr.predict(X_fit)"
      ],
      "execution_count": 0,
      "outputs": []
    },
    {
      "cell_type": "code",
      "metadata": {
        "id": "c4GixWimhuov",
        "colab_type": "code",
        "colab": {}
      },
      "source": [
        "# 훈련\n",
        "pr.fit(X_quad, y)\n",
        "y_quad_fit = pr.predict(quadratic.fit_transform(X_fit))"
      ],
      "execution_count": 0,
      "outputs": []
    },
    {
      "cell_type": "code",
      "metadata": {
        "id": "v7t5b8vuhvD1",
        "colab_type": "code",
        "outputId": "e7559ed2-cf63-47c5-8e73-ea4f37c250ca",
        "colab": {
          "base_uri": "https://localhost:8080/",
          "height": 283
        }
      },
      "source": [
        "# 결과 그래프\n",
        "import matplotlib.pyplot as plt\n",
        "\n",
        "plt.scatter(X, y)\n",
        "plt.plot(X_fit, y_lin_fit, linestyle = '--')\n",
        "plt.plot(X_fit, y_quad_fit)\n",
        "plt.legend(loc = 'upper left')\n",
        "plt.show()"
      ],
      "execution_count": 0,
      "outputs": [
        {
          "output_type": "stream",
          "text": [
            "No handles with labels found to put in legend.\n"
          ],
          "name": "stderr"
        },
        {
          "output_type": "display_data",
          "data": {
            "image/png": "[encoded data removed]",
            "text/plain": [
              "<Figure size 432x288 with 1 Axes>"
            ]
          },
          "metadata": {
            "tags": []
          }
        }
      ]
    },
    {
      "cell_type": "code",
      "metadata": {
        "id": "La9SOPS5iyTX",
        "colab_type": "code",
        "colab": {}
      },
      "source": [
        "# 주택 데이터셋을 이용\n",
        "from sklearn.metrics import r2_score\n",
        "X = df[['LSTAT']].values\n",
        "y = df['MEDV'].values\n",
        "\n",
        "regr = LinearRegression()\n",
        "\n",
        "quadratic = PolynomialFeatures(degree = 2)\n",
        "cubic = PolynomialFeatures(degree = 3)\n",
        "\n",
        "X_quad = quadratic.fit_transform(X)\n",
        "X_cubic = cubic.fit_transform(X)\n",
        "\n",
        "X_fit = np.arange(X.min(), X.max(), 1)[:, np.newaxis]\n",
        "regr = regr.fit(X, y)\n",
        "y_lin_fit = regr.predict(X_fit)\n",
        "linear_r2 = r2_score(y, regr.predict(X))\n",
        "\n",
        "regr = regr.fit(X_quad, y)\n",
        "y_quad_fit = regr.predict(quadratic.fit_transform(X_fit))\n",
        "quadratic_r2 = r2_score(y, regr.predict(X_quad))\n",
        "\n",
        "regr = regr.fit(X_cubic, y)\n",
        "y_cubic_fit = regr.predict(cubic.fit_transform(X_fit))\n",
        "cubic_r2 = r2_score(y, regr.predict(X_cubic))"
      ],
      "execution_count": 0,
      "outputs": []
    },
    {
      "cell_type": "code",
      "metadata": {
        "id": "TCRKeYFUj4nw",
        "colab_type": "code",
        "outputId": "d9ed63a5-43ff-409b-e009-e1b74f3041ea",
        "colab": {
          "base_uri": "https://localhost:8080/",
          "height": 283
        }
      },
      "source": [
        "#graph\n",
        "plt.scatter(X, y, color = 'lightgray')\n",
        "plt.plot(X_fit, y_lin_fit, color = 'blue', lw = 2, linestyle = ':')\n",
        "plt.plot(X_fit, y_quad_fit, color = 'red', lw = 2, linestyle = '-')\n",
        "plt.plot(X_fit, y_cubic_fit, color = 'green', lw = 2, linestyle = '--')\n",
        "plt.legend(loc = 'upper left')\n",
        "plt.show()"
      ],
      "execution_count": 0,
      "outputs": [
        {
          "output_type": "stream",
          "text": [
            "No handles with labels found to put in legend.\n"
          ],
          "name": "stderr"
        },
        {
          "output_type": "display_data",
          "data": {
            "image/png": "[encoded data removed]",
            "text/plain": [
              "<Figure size 432x288 with 1 Axes>"
            ]
          },
          "metadata": {
            "tags": []
          }
        }
      ]
    },
    {
      "cell_type": "code",
      "metadata": {
        "id": "YbtB2NDskjv6",
        "colab_type": "code",
        "outputId": "f2cc2e9c-4b62-49fa-8c64-ff76ab2f6107",
        "colab": {
          "base_uri": "https://localhost:8080/",
          "height": 35
        }
      },
      "source": [
        "print(linear_r2, quadratic_r2, cubic_r2)"
      ],
      "execution_count": 0,
      "outputs": [
        {
          "output_type": "stream",
          "text": [
            "0.5441462975864797 0.6407168971636612 0.6578476405895719\n"
          ],
          "name": "stdout"
        }
      ]
    },
    {
      "cell_type": "markdown",
      "metadata": {
        "id": "9lsvbQ4nk4i8",
        "colab_type": "text"
      },
      "source": [
        "# random forest를 이용한 비선형다루기\n"
      ]
    },
    {
      "cell_type": "code",
      "metadata": {
        "id": "cEjk-BuRmJK1",
        "colab_type": "code",
        "colab": {}
      },
      "source": [
        "# 산점도와 회귀직선을 그려줌\n",
        "\n",
        "def lin_regplot(X, y, model):\n",
        "  plt.scatter(X, y, c = 'steelblue', edgecolor = 'white', s = 70)\n",
        "  plt.plot(X, model.predict(X), color = 'black', lw = 2)\n",
        "  return None"
      ],
      "execution_count": 0,
      "outputs": []
    },
    {
      "cell_type": "code",
      "metadata": {
        "id": "Sq2KIMUckz6g",
        "colab_type": "code",
        "outputId": "c71f5bdb-ac5c-4d38-9efb-f280aedc83ac",
        "colab": {
          "base_uri": "https://localhost:8080/",
          "height": 265
        }
      },
      "source": [
        "from sklearn.tree import DecisionTreeRegressor\n",
        "\n",
        "X = df[['LSTAT']].values\n",
        "y = df['MEDV'].values\n",
        "\n",
        "tree = DecisionTreeRegressor(max_depth = 3) # 깊이가 깊을수록 과대적합상승\n",
        "tree.fit(X, y)\n",
        "sort_idx = X.flatten().argsort()\n",
        "\n",
        "lin_regplot(X[sort_idx], y[sort_idx], tree)\n",
        "plt.show()"
      ],
      "execution_count": 0,
      "outputs": [
        {
          "output_type": "display_data",
          "data": {
            "image/png": "[encoded data removed]",
            "text/plain": [
              "<Figure size 432x288 with 1 Axes>"
            ]
          },
          "metadata": {
            "tags": []
          }
        }
      ]
    },
    {
      "cell_type": "code",
      "metadata": {
        "id": "qj5f87E0lvJj",
        "colab_type": "code",
        "colab": {}
      },
      "source": [
        "from sklearn.model_selection import train_test_split\n",
        "\n",
        "X = df.iloc[:, :-1].values\n",
        "y = df['MEDV'].values\n",
        "X_train, X_test, y_train, y_test = train_test_split(X, y, test_size = 0.4, random_state = 1)\n"
      ],
      "execution_count": 0,
      "outputs": []
    },
    {
      "cell_type": "code",
      "metadata": {
        "id": "_2DUNDpdmlUi",
        "colab_type": "code",
        "outputId": "b3dd49c4-31f5-4b59-b602-68ae02507c97",
        "colab": {
          "base_uri": "https://localhost:8080/",
          "height": 53
        }
      },
      "source": [
        "from sklearn.ensemble import RandomForestRegressor\n",
        "from sklearn.metrics import mean_squared_error\n",
        "\n",
        "forest = RandomForestRegressor(n_estimators = 1000, criterion = 'mse', random_state = 1, n_jobs = -1)\n",
        "forest.fit(X_train, y_train)\n",
        "\n",
        "y_train_pred = forest.predict(X_train)\n",
        "y_test_pred = forest.predict(X_test)\n",
        "\n",
        "print(mean_squared_error(y_train, y_train_pred), mean_squared_error(y_test, y_test_pred))\n",
        "print(r2_score(y_train, y_train_pred), r2_score(y_test, y_test_pred))"
      ],
      "execution_count": 0,
      "outputs": [
        {
          "output_type": "stream",
          "text": [
            "1.6414409895378974 11.055753098768493\n",
            "0.9794899516412922 0.8775836858654068\n"
          ],
          "name": "stdout"
        }
      ]
    },
    {
      "cell_type": "code",
      "metadata": {
        "id": "czeaDPQanExH",
        "colab_type": "code",
        "outputId": "182379d9-fb95-40fb-83ab-e9432027bbca",
        "colab": {
          "base_uri": "https://localhost:8080/",
          "height": 315
        }
      },
      "source": [
        "# 잔차 그림\n",
        "plt.scatter(y_train_pred, y_train_pred - y_train, c = 'steelblue', edgecolor = 'white', marker = 'o',\n",
        "            s = 35, alpha = 0.9)\n",
        "plt.scatter(y_test_pred, y_test_pred - y_test, c = 'limegreen', edgecolor = 'white', marker = 's', s =35,\n",
        "            alpha = 0.9)\n",
        "plt.legend(loc = 'upper left')\n",
        "plt.hlines(y = 0, xmin = -10, xmax = 50, lw = 2, color ='black')\n",
        "plt.xlim([-10, 50])\n",
        "plt.tight_layout()\n",
        "plt.show()"
      ],
      "execution_count": 0,
      "outputs": [
        {
          "output_type": "stream",
          "text": [
            "No handles with labels found to put in legend.\n"
          ],
          "name": "stderr"
        },
        {
          "output_type": "display_data",
          "data": {
            "image/png": "[encoded data removed]",
            "text/plain": [
              "<Figure size 432x288 with 1 Axes>"
            ]
          },
          "metadata": {
            "tags": []
          }
        }
      ]
    },
    {
      "cell_type": "code",
      "metadata": {
        "id": "m1Op1WS5oIa9",
        "colab_type": "code",
        "colab": {}
      },
      "source": [
        ""
      ],
      "execution_count": 0,
      "outputs": []
    }
  ]
}
