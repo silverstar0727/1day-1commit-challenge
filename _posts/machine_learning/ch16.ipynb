{
  "nbformat": 4,
  "nbformat_minor": 0,
  "metadata": {
    "colab": {
      "name": "machine_learning_ch16.ipynb",
      "provenance": [],
      "collapsed_sections": [],
      "authorship_tag": "ABX9TyNjppGqCciYGmO+qCl+LkXO",
      "include_colab_link": true
    },
    "kernelspec": {
      "name": "python3",
      "display_name": "Python 3"
    }
  },
  "cells": [
    {
      "cell_type": "markdown",
      "metadata": {
        "id": "view-in-github",
        "colab_type": "text"
      },
      "source": [
        "<a href=\"https://colab.research.google.com/github/silverstar0727/1day-1commit-challenge/blob/master/machine_learning_ch16.ipynb\" target=\"_parent\"><img src=\"https://colab.research.google.com/assets/colab-badge.svg\" alt=\"Open In Colab\"/></a>"
      ]
    },
    {
      "cell_type": "code",
      "metadata": {
        "id": "TTD33iUZh4Wb",
        "colab_type": "code",
        "outputId": "355efb84-2ad2-4e01-9cd9-f6cd26cdeb1e",
        "colab": {
          "base_uri": "https://localhost:8080/",
          "height": 127
        }
      },
      "source": [
        "# google drive와 연동\n",
        "from google.colab import drive\n",
        "\n",
        "drive.mount('/content/gdrive')"
      ],
      "execution_count": 0,
      "outputs": [
        {
          "output_type": "stream",
          "text": [
            "Go to this URL in a browser: https://accounts.google.com/o/oauth2/auth?client_id=947318989803-6bn6qk8qdgf4n4g3pfee6491hc0brc4i.apps.googleusercontent.com&redirect_uri=urn%3aietf%3awg%3aoauth%3a2.0%3aoob&response_type=code&scope=email%20https%3a%2f%2fwww.googleapis.com%2fauth%2fdocs.test%20https%3a%2f%2fwww.googleapis.com%2fauth%2fdrive%20https%3a%2f%2fwww.googleapis.com%2fauth%2fdrive.photos.readonly%20https%3a%2f%2fwww.googleapis.com%2fauth%2fpeopleapi.readonly\n",
            "\n",
            "Enter your authorization code:\n",
            "··········\n",
            "Mounted at /content/gdrive\n"
          ],
          "name": "stdout"
        }
      ]
    },
    {
      "cell_type": "code",
      "metadata": {
        "id": "zinudyQViO7u",
        "colab_type": "code",
        "outputId": "460c40e6-f85d-4e24-db86-313c2d996d89",
        "colab": {
          "base_uri": "https://localhost:8080/",
          "height": 35
        }
      },
      "source": [
        "# 연동 테스트 코드\n",
        "with open('/content/gdrive/My Drive/foo.txt', 'w') as f:\n",
        "  f.write('Hello Google Drive!')\n",
        "\n",
        "!cat /content/gdrive/My\\ Drive/foo.txt"
      ],
      "execution_count": 0,
      "outputs": [
        {
          "output_type": "stream",
          "text": [
            "Hello Google Drive!"
          ],
          "name": "stdout"
        }
      ]
    },
    {
      "cell_type": "code",
      "metadata": {
        "id": "oPL2r59QintY",
        "colab_type": "code",
        "outputId": "a33a158f-0599-4d24-e5cc-be1c209d19fb",
        "colab": {
          "base_uri": "https://localhost:8080/",
          "height": 89
        }
      },
      "source": [
        "!pip install pyprind"
      ],
      "execution_count": 0,
      "outputs": [
        {
          "output_type": "stream",
          "text": [
            "Collecting pyprind\n",
            "  Downloading https://files.pythonhosted.org/packages/1e/30/e76fb0c45da8aef49ea8d2a90d4e7a6877b45894c25f12fb961f009a891e/PyPrind-2.11.2-py3-none-any.whl\n",
            "Installing collected packages: pyprind\n",
            "Successfully installed pyprind-2.11.2\n"
          ],
          "name": "stdout"
        }
      ]
    },
    {
      "cell_type": "code",
      "metadata": {
        "id": "ggbKSRXSiQEA",
        "colab_type": "code",
        "colab": {}
      },
      "source": [
        "import pyprind\n",
        "import pandas as pd\n",
        "from string import punctuation\n",
        "import re\n",
        "import numpy as np\n",
        "\n",
        "df = pd.read_csv('/content/gdrive/My Drive/machine_learning/ch16/movie_data.csv', encoding = 'utf-8')"
      ],
      "execution_count": 0,
      "outputs": []
    },
    {
      "cell_type": "code",
      "metadata": {
        "id": "A21l0qJIil9p",
        "colab_type": "code",
        "outputId": "a9445abc-3e46-4fa6-b462-956d1893f237",
        "colab": {
          "base_uri": "https://localhost:8080/",
          "height": 204
        }
      },
      "source": [
        "df.head()\n",
        "# df에는 review와 sentiment의 두개의 칼럼이 존재한다"
      ],
      "execution_count": 0,
      "outputs": [
        {
          "output_type": "execute_result",
          "data": {
            "text/html": [
              "<div>\n",
              "<style scoped>\n",
              "    .dataframe tbody tr th:only-of-type {\n",
              "        vertical-align: middle;\n",
              "    }\n",
              "\n",
              "    .dataframe tbody tr th {\n",
              "        vertical-align: top;\n",
              "    }\n",
              "\n",
              "    .dataframe thead th {\n",
              "        text-align: right;\n",
              "    }\n",
              "</style>\n",
              "<table border=\"1\" class=\"dataframe\">\n",
              "  <thead>\n",
              "    <tr style=\"text-align: right;\">\n",
              "      <th></th>\n",
              "      <th>review</th>\n",
              "      <th>sentiment</th>\n",
              "    </tr>\n",
              "  </thead>\n",
              "  <tbody>\n",
              "    <tr>\n",
              "      <th>0</th>\n",
              "      <td>In 1974, the teenager Martha Moxley (Maggie Gr...</td>\n",
              "      <td>1</td>\n",
              "    </tr>\n",
              "    <tr>\n",
              "      <th>1</th>\n",
              "      <td>OK... so... I really like Kris Kristofferson a...</td>\n",
              "      <td>0</td>\n",
              "    </tr>\n",
              "    <tr>\n",
              "      <th>2</th>\n",
              "      <td>***SPOILER*** Do not read this, if you think a...</td>\n",
              "      <td>0</td>\n",
              "    </tr>\n",
              "    <tr>\n",
              "      <th>3</th>\n",
              "      <td>hi for all the people who have seen this wonde...</td>\n",
              "      <td>1</td>\n",
              "    </tr>\n",
              "    <tr>\n",
              "      <th>4</th>\n",
              "      <td>I recently bought the DVD, forgetting just how...</td>\n",
              "      <td>0</td>\n",
              "    </tr>\n",
              "  </tbody>\n",
              "</table>\n",
              "</div>"
            ],
            "text/plain": [
              "                                              review  sentiment\n",
              "0  In 1974, the teenager Martha Moxley (Maggie Gr...          1\n",
              "1  OK... so... I really like Kris Kristofferson a...          0\n",
              "2  ***SPOILER*** Do not read this, if you think a...          0\n",
              "3  hi for all the people who have seen this wonde...          1\n",
              "4  I recently bought the DVD, forgetting just how...          0"
            ]
          },
          "metadata": {
            "tags": []
          },
          "execution_count": 6
        }
      ]
    },
    {
      "cell_type": "code",
      "metadata": {
        "id": "CbltqFI8ivJ4",
        "colab_type": "code",
        "outputId": "3d50c33d-e5a2-4b43-fc1f-8cd9f276b92d",
        "colab": {
          "base_uri": "https://localhost:8080/",
          "height": 125
        }
      },
      "source": [
        "# 텍스트를 정수로 인코딩해야함\n",
        "# collection 패키지의 Counter를 사용\n",
        "from collections import Counter\n",
        "\n",
        "counts = Counter()\n",
        "pbar = pyprind.ProgBar(len(df['review']), title = '단어의 등장 횟수를 카운트 함')\n",
        "\n",
        "for i, review in enumerate(df['review']):\n",
        "  text = ''.join([c if c not in punctuation else ' '+c+' ' for c in review]).lower()\n",
        "  df.loc[i, 'review'] = text\n",
        "  \n",
        "  pbar.update()\n",
        "  counts.update(text.split())\n",
        "\n",
        "# 단어를 정수로 매핑하는 딕셔너리 생성\n",
        "word_counts = sorted(counts, key = counts.get, reverse = True)\n",
        "word_to_int = {word: ii for ii, word in enumerate(word_counts, 1)}\n",
        "\n",
        "mapped_reviews = []\n",
        "pbar = pyprind.ProgBar(len(df['review']), title = '리뷰를 정수로 매핑함')\n",
        "\n",
        "for review in df['review']:\n",
        "  mapped_reviews.append([word_to_int[word] for word in review.split()])\n",
        "  pbar.update()"
      ],
      "execution_count": 0,
      "outputs": [
        {
          "output_type": "stream",
          "text": [
            "단어의 등장 횟수를 카운트 함\n",
            "0% [##############################] 100% | ETA: 00:00:00\n",
            "Total time elapsed: 00:03:35\n",
            "리뷰를 정수로 매핑함\n",
            "0% [##############################] 100% | ETA: 00:00:00\n",
            "Total time elapsed: 00:00:03\n"
          ],
          "name": "stderr"
        }
      ]
    },
    {
      "cell_type": "code",
      "metadata": {
        "id": "xPlJiXFT11Pz",
        "colab_type": "code",
        "colab": {}
      },
      "source": [
        "# sequence 크기를 지정\n",
        "## 동일 시퀀스를 만듦\n",
        "## 시퀀스 길이가 200보다 작으면 왼쪽에 0을패딩\n",
        "## 시퀀스 길이가 200보다 크면 마지막 200개만 사용\n",
        "\n",
        "# sequence length는 hyperparameter로 나중에 조정을 할 필요가 있음\n",
        "sequence_length = 200\n",
        "sequences = np.zeros((len(mapped_reviews), sequence_length), dtype = int)\n",
        "\n",
        "for i, row in enumerate(mapped_reviews):\n",
        "  review_arr = np.array(row)\n",
        "  sequences[i, -len(row):] = review_arr[-sequence_length:]"
      ],
      "execution_count": 0,
      "outputs": []
    },
    {
      "cell_type": "code",
      "metadata": {
        "id": "CDG7GOk562pl",
        "colab_type": "code",
        "colab": {}
      },
      "source": [
        "# data split\n",
        "X_train = sequences[:37500, :]\n",
        "y_train = df.loc[:37499, 'sentiment'].values\n",
        "X_test = sequences[37500:, :]\n",
        "y_test = df.loc[37500:, 'sentiment'].values"
      ],
      "execution_count": 0,
      "outputs": []
    },
    {
      "cell_type": "code",
      "metadata": {
        "id": "fvtwcsCz7apD",
        "colab_type": "code",
        "outputId": "afdda322-f173-4bdb-ee95-a428eeca6c7c",
        "colab": {
          "base_uri": "https://localhost:8080/",
          "height": 35
        }
      },
      "source": [
        "print(X_train.shape, y_train.shape, X_test.shape, y_test.shape)"
      ],
      "execution_count": 0,
      "outputs": [
        {
          "output_type": "stream",
          "text": [
            "(37500, 200) (37500,) (12500, 200) (12500,)\n"
          ],
          "name": "stdout"
        }
      ]
    },
    {
      "cell_type": "code",
      "metadata": {
        "id": "sFb1wgdZ7jOd",
        "colab_type": "code",
        "outputId": "ed5ef12c-aeb3-48e1-fb72-8a27d31abbcc",
        "colab": {
          "base_uri": "https://localhost:8080/",
          "height": 35
        }
      },
      "source": [
        "n_words = len(word_to_int) + 1\n",
        "print(n_words)"
      ],
      "execution_count": 0,
      "outputs": [
        {
          "output_type": "stream",
          "text": [
            "102967\n"
          ],
          "name": "stdout"
        }
      ]
    },
    {
      "cell_type": "markdown",
      "metadata": {
        "id": "f1Qzff9o-ioM",
        "colab_type": "text"
      },
      "source": [
        "## embedding\n",
        "실수값을 가진 고정된 벡터로 표현...\n",
        "이론적으로 -1과 1사이의 무한한 실수를 이용한다"
      ]
    },
    {
      "cell_type": "code",
      "metadata": {
        "id": "RYHzPaN9IOM2",
        "colab_type": "code",
        "outputId": "38528362-6a1a-41b2-eb24-17a8de9f3879",
        "colab": {
          "base_uri": "https://localhost:8080/",
          "height": 35
        }
      },
      "source": [
        "%tensorflow_version 2.x\n",
        "import tensorflow as tf\n",
        "\n",
        "tf.__version__"
      ],
      "execution_count": 0,
      "outputs": [
        {
          "output_type": "execute_result",
          "data": {
            "text/plain": [
              "'2.1.0'"
            ]
          },
          "metadata": {
            "tags": []
          },
          "execution_count": 31
        }
      ]
    },
    {
      "cell_type": "code",
      "metadata": {
        "id": "8dLJiXjX7nO1",
        "colab_type": "code",
        "colab": {}
      },
      "source": [
        "from tensorflow.keras import models, layers\n",
        "\n",
        "model = models.Sequential()\n",
        "model.add(layers.Embedding(n_words, 200, embeddings_regularizer = 'l2'))"
      ],
      "execution_count": 0,
      "outputs": []
    },
    {
      "cell_type": "code",
      "metadata": {
        "id": "DO7vvVVcIB_6",
        "colab_type": "code",
        "outputId": "b525878e-3c18-44a4-974e-3ec126ee07e2",
        "colab": {
          "base_uri": "https://localhost:8080/",
          "height": 197
        }
      },
      "source": [
        "model.summary()"
      ],
      "execution_count": 0,
      "outputs": [
        {
          "output_type": "stream",
          "text": [
            "Model: \"sequential_2\"\n",
            "_________________________________________________________________\n",
            "Layer (type)                 Output Shape              Param #   \n",
            "=================================================================\n",
            "embedding_2 (Embedding)      (None, None, 200)         20593400  \n",
            "=================================================================\n",
            "Total params: 20,593,400\n",
            "Trainable params: 20,593,400\n",
            "Non-trainable params: 0\n",
            "_________________________________________________________________\n"
          ],
          "name": "stdout"
        }
      ]
    },
    {
      "cell_type": "markdown",
      "metadata": {
        "id": "y0w3-6qiI5ls",
        "colab_type": "text"
      },
      "source": [
        "## RNN 모델 만들기"
      ]
    },
    {
      "cell_type": "code",
      "metadata": {
        "id": "vga9MgelI2_B",
        "colab_type": "code",
        "colab": {}
      },
      "source": [
        "# LSTM층 사용 \n",
        "# 16개의 순환유닛을 사용\n",
        "model.add(layers.LSTM(16))"
      ],
      "execution_count": 0,
      "outputs": []
    },
    {
      "cell_type": "code",
      "metadata": {
        "id": "wnwJd1-tJDFm",
        "colab_type": "code",
        "colab": {}
      },
      "source": [
        "model.add(layers.Flatten())\n",
        "model.add(layers.Dense(1, activation = 'sigmoid'))"
      ],
      "execution_count": 0,
      "outputs": []
    },
    {
      "cell_type": "code",
      "metadata": {
        "id": "3uIJEe8CLKbU",
        "colab_type": "code",
        "outputId": "bf03c3f6-fa33-4aed-dbd7-1ef9b1f22210",
        "colab": {
          "base_uri": "https://localhost:8080/",
          "height": 305
        }
      },
      "source": [
        "model.summary()"
      ],
      "execution_count": 0,
      "outputs": [
        {
          "output_type": "stream",
          "text": [
            "Model: \"sequential_2\"\n",
            "_________________________________________________________________\n",
            "Layer (type)                 Output Shape              Param #   \n",
            "=================================================================\n",
            "embedding_2 (Embedding)      (None, None, 200)         20593400  \n",
            "_________________________________________________________________\n",
            "lstm_2 (LSTM)                (None, 16)                13888     \n",
            "_________________________________________________________________\n",
            "flatten_2 (Flatten)          (None, 16)                0         \n",
            "_________________________________________________________________\n",
            "dense_2 (Dense)              (None, 1)                 17        \n",
            "=================================================================\n",
            "Total params: 20,607,305\n",
            "Trainable params: 20,607,305\n",
            "Non-trainable params: 0\n",
            "_________________________________________________________________\n"
          ],
          "name": "stdout"
        }
      ]
    },
    {
      "cell_type": "code",
      "metadata": {
        "id": "Y3Km4l2_LMpA",
        "colab_type": "code",
        "colab": {}
      },
      "source": [
        "# training\n",
        "model.compile(loss = 'binary_crossentropy', optimizer = 'adam', metrics = ['acc'])"
      ],
      "execution_count": 0,
      "outputs": []
    },
    {
      "cell_type": "code",
      "metadata": {
        "id": "lbsyBpsxTq2H",
        "colab_type": "code",
        "colab": {}
      },
      "source": [
        "# 모델 저장\n",
        "import time\n",
        "from tensorflow.keras.callbacks import ModelCheckpoint, TensorBoard\n",
        "\n",
        "callback_list = [ModelCheckpoint(filepath = 'sentiment_rnn_checkpoint.h5', monitor = 'val_loss', \n",
        "                                 save_best_only = True),\n",
        "                 TensorBoard(log_dir = 'sentiment_rnn_logs/{}'.format(time.asctime()))]"
      ],
      "execution_count": 0,
      "outputs": []
    },
    {
      "cell_type": "code",
      "metadata": {
        "id": "5H2SIxNPUSlB",
        "colab_type": "code",
        "outputId": "31d6b3bc-04f0-45dc-aae7-4b7e0f3b3f9f",
        "colab": {
          "base_uri": "https://localhost:8080/",
          "height": 467
        }
      },
      "source": [
        "history = model.fit(X_train, y_train, batch_size = 64, epochs = 10, validation_split = 0.3, \n",
        "                    callbacks = callback_list)"
      ],
      "execution_count": 0,
      "outputs": [
        {
          "output_type": "stream",
          "text": [
            "Train on 26250 samples, validate on 11250 samples\n",
            "Epoch 1/10\n"
          ],
          "name": "stdout"
        },
        {
          "output_type": "stream",
          "text": [
            "/tensorflow-2.1.0/python3.6/tensorflow_core/python/framework/indexed_slices.py:433: UserWarning: Converting sparse IndexedSlices to a dense Tensor of unknown shape. This may consume a large amount of memory.\n",
            "  \"Converting sparse IndexedSlices to a dense Tensor of unknown shape. \"\n",
            "/tensorflow-2.1.0/python3.6/tensorflow_core/python/framework/indexed_slices.py:433: UserWarning: Converting sparse IndexedSlices to a dense Tensor of unknown shape. This may consume a large amount of memory.\n",
            "  \"Converting sparse IndexedSlices to a dense Tensor of unknown shape. \"\n"
          ],
          "name": "stderr"
        },
        {
          "output_type": "stream",
          "text": [
            "26250/26250 [==============================] - 148s 6ms/sample - loss: 6.5649 - acc: 0.6684 - val_loss: 0.7360 - val_acc: 0.7825\n",
            "Epoch 2/10\n",
            "26250/26250 [==============================] - 136s 5ms/sample - loss: 0.6629 - acc: 0.8126 - val_loss: 0.6868 - val_acc: 0.8024\n",
            "Epoch 3/10\n",
            "26250/26250 [==============================] - 134s 5ms/sample - loss: 0.5888 - acc: 0.8381 - val_loss: 0.5509 - val_acc: 0.8564\n",
            "Epoch 4/10\n",
            "26250/26250 [==============================] - 129s 5ms/sample - loss: 0.5377 - acc: 0.8569 - val_loss: 0.5175 - val_acc: 0.8535\n",
            "Epoch 5/10\n",
            "26250/26250 [==============================] - 128s 5ms/sample - loss: 0.5053 - acc: 0.8649 - val_loss: 0.4970 - val_acc: 0.8654\n",
            "Epoch 6/10\n",
            "26250/26250 [==============================] - 127s 5ms/sample - loss: 0.4782 - acc: 0.8716 - val_loss: 0.5043 - val_acc: 0.8568\n",
            "Epoch 7/10\n",
            "26250/26250 [==============================] - 127s 5ms/sample - loss: 0.4567 - acc: 0.8829 - val_loss: 0.4637 - val_acc: 0.8768\n",
            "Epoch 8/10\n",
            "26250/26250 [==============================] - 125s 5ms/sample - loss: 0.4472 - acc: 0.8882 - val_loss: 0.4559 - val_acc: 0.8749\n",
            "Epoch 9/10\n",
            "26250/26250 [==============================] - 125s 5ms/sample - loss: 0.4425 - acc: 0.8909 - val_loss: 0.4602 - val_acc: 0.8754\n",
            "Epoch 10/10\n",
            "26250/26250 [==============================] - 123s 5ms/sample - loss: 0.4326 - acc: 0.8949 - val_loss: 0.4813 - val_acc: 0.8719\n"
          ],
          "name": "stdout"
        }
      ]
    },
    {
      "cell_type": "code",
      "metadata": {
        "id": "MIES_jP3Uc2N",
        "colab_type": "code",
        "outputId": "acc958fd-7284-4a10-d0db-82e5ae179424",
        "colab": {
          "base_uri": "https://localhost:8080/",
          "height": 265
        }
      },
      "source": [
        "# 시각화\n",
        "import matplotlib.pyplot as plt\n",
        "\n",
        "epochs = np.arange(1, 11)\n",
        "plt.plot(epochs, history.history['loss'])\n",
        "plt.plot(epochs, history.history['val_loss'])\n",
        "plt.show()"
      ],
      "execution_count": 0,
      "outputs": [
        {
          "output_type": "display_data",
          "data": {
            "image/png": "[encoded data removed]",
            "text/plain": [
              "<Figure size 432x288 with 1 Axes>"
            ]
          },
          "metadata": {
            "tags": []
          }
        }
      ]
    },
    {
      "cell_type": "code",
      "metadata": {
        "id": "vTuC60VXhyCL",
        "colab_type": "code",
        "outputId": "5d1d74dd-5e3f-4083-d0c1-13a52f2fcdb7",
        "colab": {
          "base_uri": "https://localhost:8080/",
          "height": 265
        }
      },
      "source": [
        "# 정확도\n",
        "epochs = np.arange(1, 11)\n",
        "\n",
        "plt.plot(epochs, history.history['acc'])\n",
        "plt.plot(epochs, history.history['val_acc'])\n",
        "plt.show()"
      ],
      "execution_count": 0,
      "outputs": [
        {
          "output_type": "display_data",
          "data": {
            "image/png": "[encoded data removed]",
            "text/plain": [
              "<Figure size 432x288 with 1 Axes>"
            ]
          },
          "metadata": {
            "tags": []
          }
        }
      ]
    },
    {
      "cell_type": "code",
      "metadata": {
        "id": "CVDFUyqOiFS-",
        "colab_type": "code",
        "outputId": "54a45570-68fe-4b5b-d68c-747d798ef38e",
        "colab": {
          "base_uri": "https://localhost:8080/",
          "height": 53
        }
      },
      "source": [
        "# 평가\n",
        "model.load_weights('sentiment_rnn_checkpoint.h5')\n",
        "model.evaluate(X_test, y_test)"
      ],
      "execution_count": 0,
      "outputs": [
        {
          "output_type": "stream",
          "text": [
            "12500/12500 [==============================] - 19s 2ms/sample - loss: 0.4619 - acc: 0.8737\n"
          ],
          "name": "stdout"
        },
        {
          "output_type": "execute_result",
          "data": {
            "text/plain": [
              "[0.4619261918544769, 0.87368]"
            ]
          },
          "metadata": {
            "tags": []
          },
          "execution_count": 42
        }
      ]
    },
    {
      "cell_type": "code",
      "metadata": {
        "id": "UwW1mpoBig0F",
        "colab_type": "code",
        "outputId": "0b43e1fa-a23f-442b-b9df-5c0a9d7ea592",
        "colab": {
          "base_uri": "https://localhost:8080/",
          "height": 197
        }
      },
      "source": [
        "model.predict_proba(X_test[:10])"
      ],
      "execution_count": 0,
      "outputs": [
        {
          "output_type": "execute_result",
          "data": {
            "text/plain": [
              "array([[0.01035459],\n",
              "       [0.01080024],\n",
              "       [0.00227229],\n",
              "       [0.96289384],\n",
              "       [0.9482234 ],\n",
              "       [0.98677444],\n",
              "       [0.01697485],\n",
              "       [0.95750934],\n",
              "       [0.00433393],\n",
              "       [0.85623246]], dtype=float32)"
            ]
          },
          "metadata": {
            "tags": []
          },
          "execution_count": 43
        }
      ]
    },
    {
      "cell_type": "code",
      "metadata": {
        "id": "5WVdoqJFikPy",
        "colab_type": "code",
        "outputId": "3c6bdc5e-96d8-4383-dcde-812aa1fcdd5a",
        "colab": {
          "base_uri": "https://localhost:8080/",
          "height": 197
        }
      },
      "source": [
        "model.predict_classes(X_test[:10])"
      ],
      "execution_count": 0,
      "outputs": [
        {
          "output_type": "execute_result",
          "data": {
            "text/plain": [
              "array([[0],\n",
              "       [0],\n",
              "       [0],\n",
              "       [1],\n",
              "       [1],\n",
              "       [1],\n",
              "       [0],\n",
              "       [1],\n",
              "       [0],\n",
              "       [1]], dtype=int32)"
            ]
          },
          "metadata": {
            "tags": []
          },
          "execution_count": 44
        }
      ]
    },
    {
      "cell_type": "code",
      "metadata": {
        "id": "7B1qWIE4iniD",
        "colab_type": "code",
        "colab": {}
      },
      "source": [
        ""
      ],
      "execution_count": 0,
      "outputs": []
    }
  ]
}
