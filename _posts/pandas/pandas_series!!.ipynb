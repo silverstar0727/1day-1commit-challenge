{
  "nbformat": 4,
  "nbformat_minor": 0,
  "metadata": {
    "colab": {
      "name": "pandas_series!!.ipynb",
      "provenance": [],
      "collapsed_sections": [],
      "authorship_tag": "ABX9TyOLzTC/BcnUwLZqAFtXeZoA",
      "include_colab_link": true
    },
    "kernelspec": {
      "name": "python3",
      "display_name": "Python 3"
    }
  },
  "cells": [
    {
      "cell_type": "markdown",
      "metadata": {
        "id": "view-in-github",
        "colab_type": "text"
      },
      "source": [
        "<a href=\"https://colab.research.google.com/github/silverstar0727/1day-1commit-challenge/blob/master/pandas_series!!.ipynb\" target=\"_parent\"><img src=\"https://colab.research.google.com/assets/colab-badge.svg\" alt=\"Open In Colab\"/></a>"
      ]
    },
    {
      "cell_type": "markdown",
      "metadata": {
        "id": "cipHLl9Muu0S",
        "colab_type": "text"
      },
      "source": [
        "https://datascienceschool.net/view-notebook/ee0a5679dd574b94b55193690992f850/\n",
        "를 보고 공부한 내용"
      ]
    },
    {
      "cell_type": "code",
      "metadata": {
        "id": "kvUpOM3mtBtg",
        "colab_type": "code",
        "outputId": "78cc2e48-9aa2-4929-8789-7015f6426c81",
        "colab": {
          "base_uri": "https://localhost:8080/",
          "height": 107
        }
      },
      "source": [
        "# Pandas는 크게 Series와 DataFrame클래스를 제공한다.\n",
        "## series = value + index\n",
        "## series의 생성\n",
        "import pandas as pd\n",
        "s = pd.Series([1, 2, 3, 4], index = ['서울', '부산', '인천', '대구'])\n",
        "s"
      ],
      "execution_count": 0,
      "outputs": [
        {
          "output_type": "execute_result",
          "data": {
            "text/plain": [
              "서울    1\n",
              "부산    2\n",
              "인천    3\n",
              "대구    4\n",
              "dtype: int64"
            ]
          },
          "metadata": {
            "tags": []
          },
          "execution_count": 16
        }
      ]
    },
    {
      "cell_type": "code",
      "metadata": {
        "id": "iFqokMgHtuF6",
        "colab_type": "code",
        "outputId": "a844a913-6001-46a7-d410-e164f71493d5",
        "colab": {
          "base_uri": "https://localhost:8080/",
          "height": 107
        }
      },
      "source": [
        "# 인덱스를 지정하지 않을 경우에는 0부터 순서대로 매겨진다.\n",
        "pd.Series(range(10, 14))"
      ],
      "execution_count": 0,
      "outputs": [
        {
          "output_type": "execute_result",
          "data": {
            "text/plain": [
              "0    10\n",
              "1    11\n",
              "2    12\n",
              "3    13\n",
              "dtype: int64"
            ]
          },
          "metadata": {
            "tags": []
          },
          "execution_count": 17
        }
      ]
    },
    {
      "cell_type": "code",
      "metadata": {
        "id": "NrBf-q4kuH7K",
        "colab_type": "code",
        "outputId": "794517f5-d89c-40d8-ede3-c161951f3f68",
        "colab": {
          "base_uri": "https://localhost:8080/",
          "height": 35
        }
      },
      "source": [
        "# 접근할 때에는 index를 기준으로 접근\n",
        "## series값은 1차원배열\n",
        "\n",
        "# 변수를 통해 값(value)를 호출\n",
        "s.values"
      ],
      "execution_count": 0,
      "outputs": [
        {
          "output_type": "execute_result",
          "data": {
            "text/plain": [
              "array([1, 2, 3, 4])"
            ]
          },
          "metadata": {
            "tags": []
          },
          "execution_count": 18
        }
      ]
    },
    {
      "cell_type": "code",
      "metadata": {
        "id": "sLLsE7uPuc5e",
        "colab_type": "code",
        "outputId": "d47a7c9d-b015-4862-c2b8-6e729421308b",
        "colab": {
          "base_uri": "https://localhost:8080/",
          "height": 125
        }
      },
      "source": [
        "# name속성을 이용하여 시리즈 데이터에 이름을 붙일 수 있음\n",
        "s.name = '인구'\n",
        "s.index.name = '도시'\n",
        "s"
      ],
      "execution_count": 0,
      "outputs": [
        {
          "output_type": "execute_result",
          "data": {
            "text/plain": [
              "도시\n",
              "서울    1\n",
              "부산    2\n",
              "인천    3\n",
              "대구    4\n",
              "Name: 인구, dtype: int64"
            ]
          },
          "metadata": {
            "tags": []
          },
          "execution_count": 19
        }
      ]
    },
    {
      "cell_type": "code",
      "metadata": {
        "id": "lgZXpx_Tu3Es",
        "colab_type": "code",
        "outputId": "e7c23895-0cbe-4eb4-c74e-1c711337585d",
        "colab": {
          "base_uri": "https://localhost:8080/",
          "height": 125
        }
      },
      "source": [
        "# 시리즈의 연산...\n",
        "# numpy의 배열처럼 시리즈도 벡터화 연산을 할 수 있음.(인덱스 값은 변화x)\n",
        "s = s * 10\n",
        "s"
      ],
      "execution_count": 0,
      "outputs": [
        {
          "output_type": "execute_result",
          "data": {
            "text/plain": [
              "도시\n",
              "서울    10\n",
              "부산    20\n",
              "인천    30\n",
              "대구    40\n",
              "Name: 인구, dtype: int64"
            ]
          },
          "metadata": {
            "tags": []
          },
          "execution_count": 20
        }
      ]
    },
    {
      "cell_type": "code",
      "metadata": {
        "id": "rLY8qL2SvMwy",
        "colab_type": "code",
        "outputId": "27a60507-28db-40a1-f4da-50ab2002ac31",
        "colab": {
          "base_uri": "https://localhost:8080/",
          "height": 35
        }
      },
      "source": [
        "# 시리즈 인덱싱(indexing), 슬라이싱(slicing)\n",
        "s[1], s['부산']"
      ],
      "execution_count": 0,
      "outputs": [
        {
          "output_type": "execute_result",
          "data": {
            "text/plain": [
              "(20, 20)"
            ]
          },
          "metadata": {
            "tags": []
          },
          "execution_count": 23
        }
      ]
    },
    {
      "cell_type": "code",
      "metadata": {
        "id": "4auk4k4jvW4O",
        "colab_type": "code",
        "outputId": "4dec21e9-0f85-44fd-8db0-ac62c916a58c",
        "colab": {
          "base_uri": "https://localhost:8080/",
          "height": 89
        }
      },
      "source": [
        "# 조건부로 호출가능\n",
        "s[(40 > s) & (10 < s)]"
      ],
      "execution_count": 0,
      "outputs": [
        {
          "output_type": "execute_result",
          "data": {
            "text/plain": [
              "도시\n",
              "부산    20\n",
              "인천    30\n",
              "Name: 인구, dtype: int64"
            ]
          },
          "metadata": {
            "tags": []
          },
          "execution_count": 25
        }
      ]
    },
    {
      "cell_type": "code",
      "metadata": {
        "id": "-AnXv3_Gvvh5",
        "colab_type": "code",
        "outputId": "f0c6b892-e351-4ad7-99b0-0816c3ceb381",
        "colab": {
          "base_uri": "https://localhost:8080/",
          "height": 107
        }
      },
      "source": [
        "# index로 연속 호출 가능\n",
        "s['부산':'대구']"
      ],
      "execution_count": 0,
      "outputs": [
        {
          "output_type": "execute_result",
          "data": {
            "text/plain": [
              "도시\n",
              "부산    20\n",
              "인천    30\n",
              "대구    40\n",
              "Name: 인구, dtype: int64"
            ]
          },
          "metadata": {
            "tags": []
          },
          "execution_count": 27
        }
      ]
    },
    {
      "cell_type": "code",
      "metadata": {
        "id": "DWbkkWYbv8SW",
        "colab_type": "code",
        "outputId": "ce9a39ab-711e-47ed-d545-b067d5ab000b",
        "colab": {
          "base_uri": "https://localhost:8080/",
          "height": 89
        }
      },
      "source": [
        "# index가 영어라면 이름자체로 호출 가능\n",
        "s0 = pd.Series([1,2,3], index = ['a', 'b', 'c'])\n",
        "s0"
      ],
      "execution_count": 0,
      "outputs": [
        {
          "output_type": "execute_result",
          "data": {
            "text/plain": [
              "a    1\n",
              "b    2\n",
              "c    3\n",
              "dtype: int64"
            ]
          },
          "metadata": {
            "tags": []
          },
          "execution_count": 28
        }
      ]
    },
    {
      "cell_type": "code",
      "metadata": {
        "id": "NONCKdQPwNlw",
        "colab_type": "code",
        "outputId": "0af7240b-0ba5-45b8-9cda-571830550550",
        "colab": {
          "base_uri": "https://localhost:8080/",
          "height": 35
        }
      },
      "source": [
        "s0.a"
      ],
      "execution_count": 0,
      "outputs": [
        {
          "output_type": "execute_result",
          "data": {
            "text/plain": [
              "1"
            ]
          },
          "metadata": {
            "tags": []
          },
          "execution_count": 29
        }
      ]
    },
    {
      "cell_type": "code",
      "metadata": {
        "id": "lha3RRsMwOTL",
        "colab_type": "code",
        "outputId": "63bda0f6-c09b-4edb-c016-2ceb38aa634e",
        "colab": {
          "base_uri": "https://localhost:8080/",
          "height": 35
        }
      },
      "source": [
        "# series는 dictionary자료형과 유사함\n",
        "## in의 지원\n",
        "'서울' in s"
      ],
      "execution_count": 0,
      "outputs": [
        {
          "output_type": "execute_result",
          "data": {
            "text/plain": [
              "True"
            ]
          },
          "metadata": {
            "tags": []
          },
          "execution_count": 30
        }
      ]
    },
    {
      "cell_type": "code",
      "metadata": {
        "id": "2-zw1SUWyU8R",
        "colab_type": "code",
        "outputId": "5caaf184-be4b-4c67-e3be-6c6efa510354",
        "colab": {
          "base_uri": "https://localhost:8080/",
          "height": 89
        }
      },
      "source": [
        "## for문을 통한 items 메소드 활용\n",
        "for i, j in s.items():\n",
        "  print('%s = %d' %(i, j))"
      ],
      "execution_count": 0,
      "outputs": [
        {
          "output_type": "stream",
          "text": [
            "서울 = 10\n",
            "부산 = 20\n",
            "인천 = 30\n",
            "대구 = 40\n"
          ],
          "name": "stdout"
        }
      ]
    },
    {
      "cell_type": "code",
      "metadata": {
        "id": "x-rypyDvymEJ",
        "colab_type": "code",
        "outputId": "b95ff1ff-229c-4163-9943-674ecace4aff",
        "colab": {
          "base_uri": "https://localhost:8080/",
          "height": 107
        }
      },
      "source": [
        "# dictionary to series\n",
        "## index는 순서의 정렬\n",
        "s2 = pd.Series({\"서울\": 5, \"부산\": 6, \"인천\": 7, \"대전\": 9},\n",
        "                index = ['부산', '서울', '인천', '대전'])\n",
        "s2"
      ],
      "execution_count": 0,
      "outputs": [
        {
          "output_type": "execute_result",
          "data": {
            "text/plain": [
              "부산    6\n",
              "서울    5\n",
              "인천    7\n",
              "대전    9\n",
              "dtype: int64"
            ]
          },
          "metadata": {
            "tags": []
          },
          "execution_count": 36
        }
      ]
    },
    {
      "cell_type": "code",
      "metadata": {
        "id": "2-EP5hmRzBve",
        "colab_type": "code",
        "outputId": "d7ac79d7-0733-43c3-ed4e-2256c99241b1",
        "colab": {
          "base_uri": "https://localhost:8080/",
          "height": 125
        }
      },
      "source": [
        "# 차이의 계산\n",
        "## 같은 인덱스에 대해서만 지원\n",
        "ds = s - s2\n",
        "ds"
      ],
      "execution_count": 0,
      "outputs": [
        {
          "output_type": "execute_result",
          "data": {
            "text/plain": [
              "대구     NaN\n",
              "대전     NaN\n",
              "부산    14.0\n",
              "서울     5.0\n",
              "인천    23.0\n",
              "dtype: float64"
            ]
          },
          "metadata": {
            "tags": []
          },
          "execution_count": 38
        }
      ]
    },
    {
      "cell_type": "code",
      "metadata": {
        "id": "5B0oSB6uz646",
        "colab_type": "code",
        "outputId": "937b49d3-f9a9-435d-efea-72847639fb7d",
        "colab": {
          "base_uri": "https://localhost:8080/",
          "height": 35
        }
      },
      "source": [
        "s.values - s2.values"
      ],
      "execution_count": 0,
      "outputs": [
        {
          "output_type": "execute_result",
          "data": {
            "text/plain": [
              "array([ 4, 15, 23, 31])"
            ]
          },
          "metadata": {
            "tags": []
          },
          "execution_count": 39
        }
      ]
    },
    {
      "cell_type": "code",
      "metadata": {
        "id": "VQdEqzTyz_k9",
        "colab_type": "code",
        "outputId": "30b5d1c4-6c09-42b0-f2b0-abc6746c775a",
        "colab": {
          "base_uri": "https://localhost:8080/",
          "height": 125
        }
      },
      "source": [
        "# null값 없애기\n",
        "ds.notnull()"
      ],
      "execution_count": 0,
      "outputs": [
        {
          "output_type": "execute_result",
          "data": {
            "text/plain": [
              "대구    False\n",
              "대전    False\n",
              "부산     True\n",
              "서울     True\n",
              "인천     True\n",
              "dtype: bool"
            ]
          },
          "metadata": {
            "tags": []
          },
          "execution_count": 40
        }
      ]
    },
    {
      "cell_type": "code",
      "metadata": {
        "id": "Hizdxa9I0GYy",
        "colab_type": "code",
        "outputId": "1658850b-330a-4723-f474-16fa08c8f89f",
        "colab": {
          "base_uri": "https://localhost:8080/",
          "height": 89
        }
      },
      "source": [
        "# True값에대해서만 출력\n",
        "ds[ds.notnull()]"
      ],
      "execution_count": 0,
      "outputs": [
        {
          "output_type": "execute_result",
          "data": {
            "text/plain": [
              "부산    14.0\n",
              "서울     5.0\n",
              "인천    23.0\n",
              "dtype: float64"
            ]
          },
          "metadata": {
            "tags": []
          },
          "execution_count": 42
        }
      ]
    },
    {
      "cell_type": "code",
      "metadata": {
        "id": "nf06xPxZ0nv9",
        "colab_type": "code",
        "outputId": "3782ee02-8095-4d9b-ed2e-8adf907075c1",
        "colab": {
          "base_uri": "https://localhost:8080/",
          "height": 125
        }
      },
      "source": [
        "#데이터의 갱신(추가, 삭제)\n",
        "## 변경\n",
        "s['부산'] = 2\n",
        "s"
      ],
      "execution_count": 0,
      "outputs": [
        {
          "output_type": "execute_result",
          "data": {
            "text/plain": [
              "도시\n",
              "서울    10\n",
              "부산     2\n",
              "인천    30\n",
              "대구    40\n",
              "Name: 인구, dtype: int64"
            ]
          },
          "metadata": {
            "tags": []
          },
          "execution_count": 45
        }
      ]
    },
    {
      "cell_type": "code",
      "metadata": {
        "id": "yjMQfYxC0v_J",
        "colab_type": "code",
        "outputId": "4571996e-07c1-476a-ab2e-d3b2ac585b69",
        "colab": {
          "base_uri": "https://localhost:8080/",
          "height": 107
        }
      },
      "source": [
        "## 삭제\n",
        "del s['부산']\n",
        "s"
      ],
      "execution_count": 0,
      "outputs": [
        {
          "output_type": "execute_result",
          "data": {
            "text/plain": [
              "도시\n",
              "서울    10\n",
              "인천    30\n",
              "대구    40\n",
              "Name: 인구, dtype: int64"
            ]
          },
          "metadata": {
            "tags": []
          },
          "execution_count": 47
        }
      ]
    },
    {
      "cell_type": "code",
      "metadata": {
        "id": "5PtrVERu00m6",
        "colab_type": "code",
        "colab": {}
      },
      "source": [
        ""
      ],
      "execution_count": 0,
      "outputs": []
    }
  ]
}
