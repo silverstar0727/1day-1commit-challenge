{
  "nbformat": 4,
  "nbformat_minor": 0,
  "metadata": {
    "colab": {
      "name": "machine_learning_ch7.2.ipynb",
      "provenance": [],
      "collapsed_sections": [],
      "authorship_tag": "ABX9TyP18/hSOHEe1+nnIkPAU1RN",
      "include_colab_link": true
    },
    "kernelspec": {
      "name": "python3",
      "display_name": "Python 3"
    }
  },
  "cells": [
    {
      "cell_type": "markdown",
      "metadata": {
        "id": "view-in-github",
        "colab_type": "text"
      },
      "source": [
        "<a href=\"https://colab.research.google.com/github/silverstar0727/1day-1commit-challenge/blob/master/machine_learning_ch7_2.ipynb\" target=\"_parent\"><img src=\"https://colab.research.google.com/assets/colab-badge.svg\" alt=\"Open In Colab\"/></a>"
      ]
    },
    {
      "cell_type": "markdown",
      "metadata": {
        "id": "Ue0Hag__AqNQ",
        "colab_type": "text"
      },
      "source": [
        "## 앙상블 분류기의 평가와 튜닝"
      ]
    },
    {
      "cell_type": "code",
      "metadata": {
        "id": "ZoYhGXdc_yu4",
        "colab_type": "code",
        "outputId": "25c28d5d-8718-4877-afd6-bf8761a91a89",
        "colab": {
          "base_uri": "https://localhost:8080/",
          "height": 265
        }
      },
      "source": [
        "# ROC곡선 그리기\n",
        "from sklearn.metrics import roc_curve\n",
        "from sklearn.metrics import auc\n",
        "\n",
        "colors = ['black', 'orange', 'blue', 'green']\n",
        "linestyles = [':', '--', '-', '-']\n",
        "\n",
        "for clf, label, clr, ls in zip(all_clf, clf_labels, colors, linestyles):\n",
        "  y_pred = clf.fit(X_train, y_train).predict_proba(X_test)[:,1]\n",
        "  fpr, tpr, thresholds = roc_curve(y_true = y_test, y_score = y_pred)\n",
        "\n",
        "  roc_auc = auc(x=fpr, y=tpr)\n",
        "  plt.plot(fpr, tpr, color = clr, linestyle = ls, label = '%s (auc = %0.2f)' % (label, roc_auc))\n",
        "\n",
        "plt.legend(loc = 'lower left')\n",
        "plt.plot([0,1],[0,1], linestyle = '--', color = 'gray', linewidth = 2)\n",
        "plt.xlim([-0.1,1.1])\n",
        "plt.ylim([-0.1,1.1])\n",
        "plt.grid(alpha = 0.5)\n",
        "plt.show()"
      ],
      "execution_count": 0,
      "outputs": [
        {
          "output_type": "display_data",
          "data": {
            "image/png": "[encoded data removed]",
            "text/plain": [
              "<Figure size 432x288 with 1 Axes>"
            ]
          },
          "metadata": {
            "tags": []
          }
        }
      ]
    },
    {
      "cell_type": "code",
      "metadata": {
        "id": "-Ld5dRaJMUH8",
        "colab_type": "code",
        "outputId": "9c907f60-5389-457e-8395-57ecfba2be01",
        "colab": {
          "base_uri": "https://localhost:8080/",
          "height": 281
        }
      },
      "source": [
        "sc = StandardScaler()\n",
        "X_train_std = sc.fit_transform(X_train)\n",
        "\n",
        "from itertools import product\n",
        "\n",
        "x_min = X_train_std[:,0].min() - 1\n",
        "x_max = X_train_std[:,0].max() + 1\n",
        "y_min = X_train_std[:,1].min() - 1\n",
        "y_max = X_train_std[:,1].max() + 1\n",
        "\n",
        "xx, yy = np.meshgrid(np.arange(x_min, x_max, 0.1),\n",
        "                     np.arange(y_min, y_max, 0.1))\n",
        "f, axarr = plt.subplots(nrows = 2, ncols = 2, sharex = 'col', sharey = 'row')\n",
        "\n",
        "for idx, clf, tt in zip(product([0,1], [0,1]), all_clf, clf_labels):\n",
        "  clf.fit(X_train_std, y_train)\n",
        "\n",
        "  Z = clf.predict(np.c_[xx.ravel(), yy.ravel()])\n",
        "  Z = Z.reshape(xx.shape)\n",
        "  axarr[idx[0], idx[1]].contourf(xx, yy, Z, alpha = 0.3)\n",
        "  axarr[idx[0], idx[1]].scatter(X_train_std[y_train == 0, 0],\n",
        "                                X_train_std[y_train == 0, 1], c = 'blue', marker = '^', s =50)\n",
        "  axarr[idx[0], idx[1]].scatter(X_train_std[y_train == 1, 0],\n",
        "                                X_train_std[y_train == 1, 1], c = 'green', marker = 'o', s =50)\n",
        "  axarr[idx[0], idx[1]].set_title(tt)\n",
        "\n",
        "plt.show()"
      ],
      "execution_count": 0,
      "outputs": [
        {
          "output_type": "display_data",
          "data": {
            "image/png": "[encoded data removed]",
            "text/plain": [
              "<Figure size 432x288 with 4 Axes>"
            ]
          },
          "metadata": {
            "tags": []
          }
        }
      ]
    },
    {
      "cell_type": "markdown",
      "metadata": {
        "id": "dBYjOD9VUrVx",
        "colab_type": "text"
      },
      "source": [
        "# 배깅"
      ]
    },
    {
      "cell_type": "code",
      "metadata": {
        "id": "w-0L1P8sW0NK",
        "colab_type": "code",
        "colab": {}
      },
      "source": [
        "import pandas as pd\n",
        "\n",
        "df_wine = pd.read_csv('https://archive.ics.uci.edu/ml/'\n",
        "'machine-learning-databases/wine/wine.data', header = None)\n",
        "\n",
        "df_wine.columns = ['Class label', 'Alcohol', 'Malic Acid', 'Ash', 'Alcalinity of ash', 'Magnesium', 'Total Phenols',\n",
        "                   'Flavanoids', 'Nonflavanoid Phenols', 'Proanthocyanins', 'Color intensity', 'Hue', \n",
        "                   'OD280/OD315 of diluted wines', 'Proline']\n",
        "\n",
        "df_wine = df_wine[df_wine['Class label'] != 1]\n",
        "y = df_wine['Class label'].values\n",
        "X = df_wine[['Alcohol', 'OD280/OD315 of diluted wines']].values"
      ],
      "execution_count": 0,
      "outputs": []
    },
    {
      "cell_type": "code",
      "metadata": {
        "id": "6GRMgNplYAwo",
        "colab_type": "code",
        "colab": {}
      },
      "source": [
        "from sklearn.preprocessing import LabelEncoder\n",
        "from sklearn.model_selection import train_test_split\n",
        "\n",
        "le = LabelEncoder()\n",
        "y = le.fit_transform(y)\n",
        "X_train, X_test, y_train, y_test = train_test_split(X, y, test_size = 0.2, random_state = 1, stratify = y)"
      ],
      "execution_count": 0,
      "outputs": []
    },
    {
      "cell_type": "code",
      "metadata": {
        "id": "-VBE0VvbYaI8",
        "colab_type": "code",
        "colab": {}
      },
      "source": [
        "from sklearn.ensemble import BaggingClassifier\n",
        "\n",
        "tree = DecisionTreeClassifier(criterion = 'entropy', random_state = 1, max_depth = None)\n",
        "bag = BaggingClassifier(base_estimator = tree, n_estimators = 500, max_samples = 1.0, max_features = 1.0,\n",
        "                        bootstrap = True, bootstrap_features = False, n_jobs = 1, random_state = 1)\n"
      ],
      "execution_count": 0,
      "outputs": []
    },
    {
      "cell_type": "code",
      "metadata": {
        "id": "RxBAZ5JjeC2q",
        "colab_type": "code",
        "outputId": "c3d62eb9-e1cf-4b85-cb94-3b6d5b6e31d8",
        "colab": {
          "base_uri": "https://localhost:8080/",
          "height": 35
        }
      },
      "source": [
        "# 결정트리\n",
        "from sklearn.metrics import accuracy_score\n",
        "\n",
        "tree = tree.fit(X_train, y_train)\n",
        "y_train_pred = tree.predict(X_train)\n",
        "y_test_pred = tree.predict(X_test)\n",
        "\n",
        "tree_train = accuracy_score(y_train, y_train_pred)\n",
        "tree_test = accuracy_score(y_test, y_test_pred)\n",
        "\n",
        "print(tree_train, tree_test)"
      ],
      "execution_count": 0,
      "outputs": [
        {
          "output_type": "stream",
          "text": [
            "1.0 0.8333333333333334\n"
          ],
          "name": "stdout"
        }
      ]
    },
    {
      "cell_type": "code",
      "metadata": {
        "id": "c_h522h8ecB1",
        "colab_type": "code",
        "outputId": "9f3e1860-456e-4836-9757-98fe01b511e9",
        "colab": {
          "base_uri": "https://localhost:8080/",
          "height": 35
        }
      },
      "source": [
        "# 배깅분류기\n",
        "bag = bag.fit(X_train, y_train)\n",
        "y_train_pred = bag.predict(X_train)\n",
        "y_test_pred = bag.predict(X_test)\n",
        "\n",
        "bag_train = accuracy_score(y_train, y_train_pred)\n",
        "bag_test = accuracy_score(y_test, y_test_pred)\n",
        "print(bag_train, bag_test)\n"
      ],
      "execution_count": 0,
      "outputs": [
        {
          "output_type": "stream",
          "text": [
            "1.0 0.9166666666666666\n"
          ],
          "name": "stdout"
        }
      ]
    },
    {
      "cell_type": "code",
      "metadata": {
        "id": "tFXSz47Ie6EX",
        "colab_type": "code",
        "outputId": "00e0ee68-74af-4255-d24d-3f52a1073037",
        "colab": {
          "base_uri": "https://localhost:8080/",
          "height": 225
        }
      },
      "source": [
        "# 결정트리와 배깅분류기의 결정경계 비교\n",
        "\n",
        "x_min = X_train[:,0].min() - 1\n",
        "x_max = X_train[:,0].max() + 1\n",
        "y_min = X_train[:,1].min() - 1\n",
        "y_max = X_train[:,1].max() + 1\n",
        "\n",
        "xx, yy = np.meshgrid(np.arange(x_min, x_max, 0.1),\n",
        "                     np.arange(y_min, y_max, 0.1))\n",
        "\n",
        "f,axarr = plt.subplots(nrows = 1, ncols = 2, sharex = 'col', sharey = 'row', figsize = (8,3))\n",
        "for idx, clf, tt in zip([0,1], [tree, bag], ['Decision tree', 'Bagging']):\n",
        "  clf. fit(X_train, y_train)\n",
        "\n",
        "  Z = clf.predict(np.c_[xx.ravel(), yy.ravel()])\n",
        "  Z = Z.reshape(xx.shape)\n",
        "\n",
        "  axarr[idx].contourf(xx, yy, Z, alpha = 0.3)\n",
        "  axarr[idx].scatter(X_train[y_train == 0, 0],\n",
        "                     X_train[y_train == 0, 1], c = 'blue', marker = '^')\n",
        "  axarr[idx].scatter(X_train[y_train == 1, 0],\n",
        "                     X_train[y_train == 1, 1], c = 'green', marker = 'o')\n",
        "\n",
        "plt.tight_layout()\n",
        "plt.show()"
      ],
      "execution_count": 0,
      "outputs": [
        {
          "output_type": "display_data",
          "data": {
            "image/png": "[encoded data removed]",
            "text/plain": [
              "<Figure size 576x216 with 2 Axes>"
            ]
          },
          "metadata": {
            "tags": []
          }
        }
      ]
    },
    {
      "cell_type": "markdown",
      "metadata": {
        "id": "NjPd7406gOxa",
        "colab_type": "text"
      },
      "source": [
        "# 에이다부스트"
      ]
    },
    {
      "cell_type": "markdown",
      "metadata": {
        "id": "lTTrNt0Sbcb0",
        "colab_type": "text"
      },
      "source": [
        "부스팅 알고리즘\n",
        "1. 중복을 허용하지 않고 추출 후 분류기를 통한 학습\n",
        "2. 중복을 허용하지 않고 추출 후 1에서 잘못된 분류의 50%를 더한후 다른 분류기를 통한 학습\n",
        "3. 다수결\n",
        "\n",
        "과대적합이 높다는 것이 단점."
      ]
    },
    {
      "cell_type": "code",
      "metadata": {
        "id": "und36ZeYKbzY",
        "colab_type": "code",
        "outputId": "38372a10-bdcc-4f9c-90da-9f7781428a9c",
        "colab": {
          "base_uri": "https://localhost:8080/",
          "height": 35
        }
      },
      "source": [
        "# 사이킷런으로 에이다부스트 구현\n",
        "from sklearn.ensemble import AdaBoostClassifier\n",
        "\n",
        "tree = DecisionTreeClassifier(criterion = 'entropy', random_state = 1, max_depth = 1)\n",
        "ada = AdaBoostClassifier(base_estimator = tree, n_estimators = 500, learning_rate = 0.1, random_state = 1)\n",
        "\n",
        "tree = tree.fit(X_train, y_train)\n",
        "y_train_pred = tree.predict(X_train)\n",
        "y_test_pred = tree.predict(X_test)\n",
        "\n",
        "tree_train = accuracy_score(y_train, y_train_pred)\n",
        "tree_test = accuracy_score(y_test, y_test_pred)\n",
        "print(tree_train, tree_test)\n"
      ],
      "execution_count": 0,
      "outputs": [
        {
          "output_type": "stream",
          "text": [
            "0.9157894736842105 0.875\n"
          ],
          "name": "stdout"
        }
      ]
    },
    {
      "cell_type": "code",
      "metadata": {
        "id": "MAl3VDbUcp84",
        "colab_type": "code",
        "outputId": "e6b88bb6-7767-4da2-966d-bbfe2aac1475",
        "colab": {
          "base_uri": "https://localhost:8080/",
          "height": 35
        }
      },
      "source": [
        "ada = ada.fit(X_train, y_train)\n",
        "y_train_pred = ada.predict(X_train)\n",
        "y_test_pred = ada.predict(X_test)\n",
        "ada_train = accuracy_score(y_train, y_train_pred)\n",
        "ada_test = accuracy_score(y_test, y_test_pred)\n",
        "\n",
        "print(ada_train, ada_test)"
      ],
      "execution_count": 0,
      "outputs": [
        {
          "output_type": "stream",
          "text": [
            "1.0 0.9166666666666666\n"
          ],
          "name": "stdout"
        }
      ]
    },
    {
      "cell_type": "code",
      "metadata": {
        "id": "Cyg3EF7gdFCv",
        "colab_type": "code",
        "outputId": "50e19ed3-961b-4f1c-f1a6-546fa51fcd62",
        "colab": {
          "base_uri": "https://localhost:8080/",
          "height": 225
        }
      },
      "source": [
        "#결정영역\n",
        "x_min = X_train[:,0].min() - 1\n",
        "x_max = X_train[:,0].max() + 1\n",
        "y_min = X_train[:,1].min() - 1\n",
        "y_max = X_train[:,1].max() + 1\n",
        "\n",
        "xx, yy = np.meshgrid(np.arange(x_min, x_max, 0.1),\n",
        "                     np.arange(y_min, y_max, 0.1))\n",
        "\n",
        "f,axarr = plt.subplots(nrows = 1, ncols = 2, sharex = 'col', sharey = 'row', figsize = (8,3))\n",
        "for idx, clf, tt in zip([0,1], [tree, ada], ['Decision tree', 'AdaBoost']):\n",
        "  clf. fit(X_train, y_train)\n",
        "\n",
        "  Z = clf.predict(np.c_[xx.ravel(), yy.ravel()])\n",
        "  Z = Z.reshape(xx.shape)\n",
        "\n",
        "  axarr[idx].contourf(xx, yy, Z, alpha = 0.3)\n",
        "  axarr[idx].scatter(X_train[y_train == 0, 0],\n",
        "                     X_train[y_train == 0, 1], c = 'blue', marker = '^')\n",
        "  axarr[idx].scatter(X_train[y_train == 1, 0],\n",
        "                     X_train[y_train == 1, 1], c = 'green', marker = 'o')\n",
        "\n",
        "plt.tight_layout()\n",
        "plt.show()"
      ],
      "execution_count": 0,
      "outputs": [
        {
          "output_type": "display_data",
          "data": {
            "image/png": "[encoded data removed]",
            "text/plain": [
              "<Figure size 576x216 with 2 Axes>"
            ]
          },
          "metadata": {
            "tags": []
          }
        }
      ]
    },
    {
      "cell_type": "markdown",
      "metadata": {
        "id": "tlO4s6nUeDtq",
        "colab_type": "text"
      },
      "source": [
        "# Gradient Boosting"
      ]
    },
    {
      "cell_type": "code",
      "metadata": {
        "id": "JwD-X82EdxdQ",
        "colab_type": "code",
        "outputId": "ec5bc35b-4183-417f-d0f1-4bb2a26e053d",
        "colab": {
          "base_uri": "https://localhost:8080/",
          "height": 53
        }
      },
      "source": [
        "#적합도는 adaboost와 비슷\n",
        "\n",
        "from sklearn.ensemble import GradientBoostingClassifier\n",
        "\n",
        "gbrt = GradientBoostingClassifier(n_estimators = 20, random_state = 42)\n",
        "gbrt.fit(X_train, y_train)\n",
        "\n",
        "gbrt_train_score = gbrt.score(X_train, y_train)\n",
        "gbrt_test_score = gbrt.score(X_test, y_test)\n",
        "\n",
        "print(gbrt.n_estimators_)\n",
        "print(gbrt_train_score, gbrt_test_score)"
      ],
      "execution_count": 0,
      "outputs": [
        {
          "output_type": "stream",
          "text": [
            "20\n",
            "1.0 0.9166666666666666\n"
          ],
          "name": "stdout"
        }
      ]
    },
    {
      "cell_type": "code",
      "metadata": {
        "id": "4ZK8fwpYev20",
        "colab_type": "code",
        "colab": {}
      },
      "source": [
        ""
      ],
      "execution_count": 0,
      "outputs": []
    }
  ]
}
