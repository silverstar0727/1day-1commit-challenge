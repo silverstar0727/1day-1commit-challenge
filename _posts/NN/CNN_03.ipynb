{
  "nbformat": 4,
  "nbformat_minor": 0,
  "metadata": {
    "colab": {
      "name": "CNN_01.ipynb",
      "provenance": [],
      "collapsed_sections": [],
      "authorship_tag": "ABX9TyPS7qRNQC9o3w0jJrteC5up",
      "include_colab_link": true
    },
    "kernelspec": {
      "name": "python3",
      "display_name": "Python 3"
    }
  },
  "cells": [
    {
      "cell_type": "markdown",
      "metadata": {
        "id": "view-in-github",
        "colab_type": "text"
      },
      "source": [
        "<a href=\"https://colab.research.google.com/github/silverstar0727/study-/blob/master/_posts/NN/CNN_03.ipynb\" target=\"_parent\"><img src=\"https://colab.research.google.com/assets/colab-badge.svg\" alt=\"Open In Colab\"/></a>"
      ]
    },
    {
      "cell_type": "markdown",
      "metadata": {
        "id": "4UFd2EhxsyiS",
        "colab_type": "text"
      },
      "source": [
        "#CNN\n",
        "\n",
        "Convolutional Neural Network 원리 및 구현\n",
        "\n",
        "우선적으로 합성곱 신경망에 대해서.. - 합성곱 신경망은 이미지 분류 작업에서 탁월한 성능을 보인다!!\n",
        "\n",
        "신경망 = 유용한 데이터 특성을 자동적으로 학습하는 기능을 가지고 있음!! 따라서 특성을 추출할때 용이한데, 다층(심층 합성곱) 신경망은 저수준 특성들을 연결하여 고수준 특성을 만드는 역할을 수행함 \n",
        "ex) 동그라미 -> 강아지\n",
        "\n",
        "cnn은 두 가지의 중요한 특성으로 인한 이미지 분류가 뛰어나다\n",
        "> 1. 희소연결: 특성맵(feature map)에 있는 하나의 원소는 하나의 픽셀 패치(patch)에만 연결된다.\n",
        "2. 파라미터 공유: 동일한 가중치가 입력 이미지의 모든 패치에 사용된다.\n",
        "\n"
      ]
    },
    {
      "cell_type": "markdown",
      "metadata": {
        "id": "6H7OlwogWlUu",
        "colab_type": "text"
      },
      "source": [
        "## CNN의 구성\n",
        "여러개의 합성곱(Conv)층 + 풀링(Pooling)(subsampling)층 + 완전 연결(FC)층으로 구성 되어 있다.\n",
        "\n",
        "완전 연결층은 다층 퍼셉트론으로 구성되어 있다."
      ]
    },
    {
      "cell_type": "markdown",
      "metadata": {
        "id": "QzJZ9Q3JXJZZ",
        "colab_type": "text"
      },
      "source": [
        "### 이산 합성곱(discrete convolution)\n",
        "#### 1차원 합성곱\n"
      ]
    },
    {
      "cell_type": "markdown",
      "metadata": {
        "id": "q96kV7MlYYvP",
        "colab_type": "text"
      },
      "source": [
        "합성공의 수학적 식에서 특이할 점은 두 가지가 존재한다.\n",
        "* 인덱싱의 범위가 -무한대 ~ +무한대\n",
        "* x의 음수 인덱싱\n",
        "\n",
        "따라서, 인덱싱의 범위를 유한한 개수로 패딩(padding)을 해야한다. 패딩의 종류는 \n",
        "\n",
        "1. 풀(full) 패딩 (p = m - 1)\n",
        "2. 세임(same) 패딩 (동일하게 케바케)\n",
        "3. 밸리드(valid) 패딩 (p = 0)\n",
        "\n",
        "존재하고, 세임 패딩은 데이터의 크기가 변하지 않아서 가장 많이 사용된다. 방식은 테두리에 0을 집어넣는 방식으로 패딩한다.\n",
        "\n"
      ]
    },
    {
      "cell_type": "code",
      "metadata": {
        "id": "dzSGsgVmsv-3",
        "colab_type": "code",
        "colab": {}
      },
      "source": [
        "# 1차원 합성곱 단순 구현\n",
        "import numpy as np\n",
        "\n",
        "def conv1(x, w, p = 0, s = 1): # x = 입력 데이터, w = 필터 or 커널, p = 패딩크기, s = 필터의 이동간격\n",
        "  # 패딩이 존재하지 않을 때\n",
        "  w_rot = np.array(w[::-1]) # 필터를 역순으로\n",
        "  x_padded = np.array(x) # 입력 데이터\n",
        "\n",
        "  if p > 0: # 패딩이 존재할 때\n",
        "    zero_pad = np.zeros(shape = p) # [0, 0, 0, .. p개]\n",
        "    x_padded = np.concatenate([zero_pad, x_padded, zero_pad]) # 제로 패딩\n",
        "\n",
        "  res = [] # 합성곱의 결과 값\n",
        "  for i in range(0, int(len(x)/s), s): # 필터 이동...\n",
        "    res.append(np.sum(x_padded[i : i + w_rot.shape[0]] * w_rot)) # 결과를 새 행렬에 하나씩 추가함\n",
        "  \n",
        "  return np.array(res)"
      ],
      "execution_count": 0,
      "outputs": []
    },
    {
      "cell_type": "code",
      "metadata": {
        "id": "rp0DSxp0bDcr",
        "colab_type": "code",
        "outputId": "21712736-bdf7-4317-cea7-2ebfd0c1b19e",
        "colab": {
          "base_uri": "https://localhost:8080/",
          "height": 35
        }
      },
      "source": [
        "## test\n",
        "x = [1,3,2,4,5,6,1,3]\n",
        "w = [1,0,3,1,2]\n",
        "\n",
        "print('Conv1 구현:', conv1(x, w, p = 2, s = 1))"
      ],
      "execution_count": 2,
      "outputs": [
        {
          "output_type": "stream",
          "text": [
            "Conv1 구현: [ 5. 14. 16. 26. 24. 34. 19. 22.]\n"
          ],
          "name": "stdout"
        }
      ]
    },
    {
      "cell_type": "code",
      "metadata": {
        "id": "dwz18v30bbgK",
        "colab_type": "code",
        "outputId": "e2e5b3f6-d671-4533-c67a-86327c4cf8a3",
        "colab": {
          "base_uri": "https://localhost:8080/",
          "height": 35
        }
      },
      "source": [
        "# numpy로 합성곱 수행\n",
        "print('넘파이 결과', np.convolve(x, w, mode = 'same'))"
      ],
      "execution_count": 3,
      "outputs": [
        {
          "output_type": "stream",
          "text": [
            "넘파이 결과 [ 5 14 16 26 24 34 19 22]\n"
          ],
          "name": "stdout"
        }
      ]
    },
    {
      "cell_type": "markdown",
      "metadata": {
        "id": "4fAeBVPIjKEo",
        "colab_type": "text"
      },
      "source": [
        "#### 2차원 합성곱\n",
        "2차원도 1차원과 동일하게 수행한다.\n",
        "\n",
        "(필터를 역전시키기 위해서는 w_rot = w[::-1, ::-1]과 같이 사용한다.)"
      ]
    },
    {
      "cell_type": "code",
      "metadata": {
        "id": "lmnN2aIOdojn",
        "colab_type": "code",
        "colab": {}
      },
      "source": [
        "# 2차원 합성곱 단순 구현\n",
        "import numpy as np\n",
        "import scipy.signal\n",
        "\n",
        "def conv2d(X, W, p = (0,0), s = (1,1)): # p = (0,0)\n",
        "  W_rot = np.array(W)[::-1, ::-1] # W역순으로 만들기\n",
        "  X_orig = np.array(X) # X 입력 데이터\n",
        "  n1 = X_orig.shape[0] + 2*p[0] # 패딩하는 1차원 크기\n",
        "  n2 = X_orig.shape[1] + 2*p[1] # 패딩하는 2차원 크기\n",
        "  X_padded = np.zeros(shape = (n1, n2)) # 제로 행렬 만들기\n",
        "  X_padded[p[0] : p[0] +X_orig.shape[0], p[1]: p[1] + X_orig.shape[1]] = X_orig # 제로 행렬 안에 X 데이터 넣기\n",
        "\n",
        "  res = [] # 결과 행렬\n",
        "  for i in range(0, int((X_padded.shape[0] - W_rot.shape[0]) / s[0]) + 1, s[0]): # 1차원 방향으로 움직이기\n",
        "    res.append([]) # 1차원 뱡향 반복시마다 차원확장\n",
        "    for j in range(0, int((X_padded.shape[1] - W_rot.shape[1]) / s[1]) + 1, s[1]): # 2차원 방향으로 움직이기\n",
        "      X_sub = X_padded[i : i + W_rot.shape[0], j : j + W_rot.shape[1]] # 계산하기\n",
        "\n",
        "      res[-1].append(np.sum(X_sub * W_rot)) # 마지막에 계산값 추가\n",
        "\n",
        "  return (np.array(res))"
      ],
      "execution_count": 0,
      "outputs": []
    },
    {
      "cell_type": "code",
      "metadata": {
        "id": "B_zDx_gNk_Ca",
        "colab_type": "code",
        "outputId": "1b79ac1e-b085-4f63-cd2e-b9a4964ca5b0",
        "colab": {
          "base_uri": "https://localhost:8080/",
          "height": 89
        }
      },
      "source": [
        "## test\n",
        "\n",
        "X = [[1,3,2,4], [5,6,1,3], [1,2,0,2], [3,4,3,2]]\n",
        "W = [[1,0,3], [1,2,1], [0,1,1]]\n",
        "\n",
        "print('Conv2d 구현:', conv2d(X, W, p = (1,1), s = (1,1)))"
      ],
      "execution_count": 5,
      "outputs": [
        {
          "output_type": "stream",
          "text": [
            "Conv2d 구현: [[11. 25. 32. 13.]\n",
            " [19. 25. 24. 13.]\n",
            " [13. 28. 25. 17.]\n",
            " [11. 17. 14.  9.]]\n"
          ],
          "name": "stdout"
        }
      ]
    },
    {
      "cell_type": "code",
      "metadata": {
        "id": "kv5zVCZ_lZEe",
        "colab_type": "code",
        "outputId": "c7d788a3-5128-4b8c-d0a9-5d89a4d3162f",
        "colab": {
          "base_uri": "https://localhost:8080/",
          "height": 89
        }
      },
      "source": [
        "# scipy로 구현\n",
        "scipy.signal.convolve2d(X, W, mode = 'same')"
      ],
      "execution_count": 6,
      "outputs": [
        {
          "output_type": "execute_result",
          "data": {
            "text/plain": [
              "array([[11, 25, 32, 13],\n",
              "       [19, 25, 24, 13],\n",
              "       [13, 28, 25, 17],\n",
              "       [11, 17, 14,  9]])"
            ]
          },
          "metadata": {
            "tags": []
          },
          "execution_count": 6
        }
      ]
    },
    {
      "cell_type": "markdown",
      "metadata": {
        "id": "zqbipfysopEm",
        "colab_type": "text"
      },
      "source": [
        "### subsampling\n",
        "* 최대 풀링(max pooling)\n",
        "* 평균 풀링(mean pooling, average pooling)\n",
        "\n",
        "#### 풀링의 장점\n",
        "1. 국부적인 작은 변화는 최대 풀링에 영향을 못 미침\n",
        "2. 특성크기의 감소로 계산의 효율성 향상, 과대 적합을 피할 수 있음\n"
      ]
    },
    {
      "cell_type": "markdown",
      "metadata": {
        "id": "xJeoUuJOr5e6",
        "colab_type": "text"
      },
      "source": [
        "### Drop out을 이용한 신경망 규제\n",
        "\n",
        "drop out: 앙상블 모델의 (평균적)조합으로 보면 편리하다.\n",
        "\n",
        "그러나 평균을 내는 것은 많은 비용을 요구하므로 확률적으로 은닉 유닛 일부가 랜덤하게 제거되며, 예측할 때는 모든 뉴련이 함께 참여한다.\n",
        "\n",
        "평균적으로 p = 0.5(절반의 확률)을 사용한다.\n",
        "\n"
      ]
    },
    {
      "cell_type": "markdown",
      "metadata": {
        "id": "BKc50vcqalXV",
        "colab_type": "text"
      },
      "source": [
        "### 다층 CNN 구조(및 구현)\n",
        "\n",
        "* 입력(batchsize x 28 x 28 x 1(grayscale)) \n",
        "* 합성곱_1(batchsize x 24 x 24 x 32(feature map)) - 5 x 5 커널사용\n",
        "* 풀링_1(batchsize x 12 x 12 x 32) - 2 x 2 풀링 (s = 2?)\n",
        "* 합성곱_2(batchsize x 8 x 8 x 64) - 5 x 5 커널사용\n",
        "* 풀링_2(batchsize x 4 x 4 x 64) - 2 x 2 풀링 \n",
        "* 완전 연결(batchsize x 1024) - flattened\n",
        "* 완전 연결과 소프트맥스 층(batchsize x 10) - softmax"
      ]
    },
    {
      "cell_type": "code",
      "metadata": {
        "id": "C9c7eYj-l-He",
        "colab_type": "code",
        "outputId": "4eb368b7-f4de-42a1-f20c-4ae6d9d16e3f",
        "colab": {
          "base_uri": "https://localhost:8080/",
          "height": 127
        }
      },
      "source": [
        "\n",
        "# google drive와 연동\n",
        "from google.colab import drive\n",
        "\n",
        "drive.mount('/content/gdrive')"
      ],
      "execution_count": 7,
      "outputs": [
        {
          "output_type": "stream",
          "text": [
            "Go to this URL in a browser: https://accounts.google.com/o/oauth2/auth?client_id=947318989803-6bn6qk8qdgf4n4g3pfee6491hc0brc4i.apps.googleusercontent.com&redirect_uri=urn%3aietf%3awg%3aoauth%3a2.0%3aoob&response_type=code&scope=email%20https%3a%2f%2fwww.googleapis.com%2fauth%2fdocs.test%20https%3a%2f%2fwww.googleapis.com%2fauth%2fdrive%20https%3a%2f%2fwww.googleapis.com%2fauth%2fdrive.photos.readonly%20https%3a%2f%2fwww.googleapis.com%2fauth%2fpeopleapi.readonly\n",
            "\n",
            "Enter your authorization code:\n",
            "··········\n",
            "Mounted at /content/gdrive\n"
          ],
          "name": "stdout"
        }
      ]
    },
    {
      "cell_type": "code",
      "metadata": {
        "id": "jt2ZV4jnl-5h",
        "colab_type": "code",
        "outputId": "7018ca17-134b-46e9-98dc-2092ce775265",
        "colab": {
          "base_uri": "https://localhost:8080/",
          "height": 35
        }
      },
      "source": [
        "# 연동 테스트 코드\n",
        "with open('/content/gdrive/My Drive/foo.txt', 'w') as f:\n",
        "  f.write('Hello Google Drive!')\n",
        "\n",
        "!cat /content/gdrive/My\\ Drive/foo.txt"
      ],
      "execution_count": 8,
      "outputs": [
        {
          "output_type": "stream",
          "text": [
            "Hello Google Drive!"
          ],
          "name": "stdout"
        }
      ]
    },
    {
      "cell_type": "code",
      "metadata": {
        "id": "Sa6CewLgl-2i",
        "colab_type": "code",
        "colab": {}
      },
      "source": [
        "# MNIST dataset을 불러오는 함수 생성\n",
        "import struct\n",
        "import numpy as np\n",
        "\n",
        "def load_mnist(path, kind = 'train'):\n",
        "  labels_path = path + '/%s-labels.idx1-ubyte' % kind\n",
        "  images_path = path + '/%s-images.idx3-ubyte' % kind\n",
        "  print(labels_path, images_path)\n",
        "\n",
        "  with open(labels_path, 'rb') as lbpath:\n",
        "    magic, n = struct.unpack('>II', lbpath.read(8))\n",
        "    labels = np.fromfile(lbpath, dtype = np.uint8)\n",
        "        \n",
        "  with open(images_path, 'rb') as imgpath:\n",
        "    magic, num, rows, cols = struct.unpack('>IIII', imgpath.read(16))\n",
        "    images = np.fromfile(imgpath,\n",
        "                             dtype = np.uint8).reshape(len(labels), 784)\n",
        "\n",
        "    images = ((images / 255.) - .5) * 2\n",
        "        \n",
        "  return images, labels"
      ],
      "execution_count": 0,
      "outputs": []
    },
    {
      "cell_type": "code",
      "metadata": {
        "id": "X4ojxNe-l-0U",
        "colab_type": "code",
        "outputId": "de37ef95-a720-4e4d-8a9a-dac9a5745f76",
        "colab": {
          "base_uri": "https://localhost:8080/",
          "height": 89
        }
      },
      "source": [
        "X_data, y_data = load_mnist('/content/gdrive/My Drive/machine_learning/ch12', kind = 'train')\n",
        "print('행: %d, 열: %d' % (X_data.shape[0], X_data.shape[1]))\n",
        "X_test, y_test = load_mnist('/content/gdrive/My Drive/machine_learning/ch12', kind = 't10k')\n",
        "print('행: %d, 열: %d' % (X_test.shape[0], X_test.shape[1]))"
      ],
      "execution_count": 10,
      "outputs": [
        {
          "output_type": "stream",
          "text": [
            "/content/gdrive/My Drive/machine_learning/ch12/train-labels.idx1-ubyte /content/gdrive/My Drive/machine_learning/ch12/train-images.idx3-ubyte\n",
            "행: 60000, 열: 784\n",
            "/content/gdrive/My Drive/machine_learning/ch12/t10k-labels.idx1-ubyte /content/gdrive/My Drive/machine_learning/ch12/t10k-images.idx3-ubyte\n",
            "행: 10000, 열: 784\n"
          ],
          "name": "stdout"
        }
      ]
    },
    {
      "cell_type": "code",
      "metadata": {
        "id": "24nPu50RmS58",
        "colab_type": "code",
        "colab": {}
      },
      "source": [
        "# 훈련 데이터 & 검증 데이터 분할\n",
        "X_valid, y_valid = X_data[50000:, :], y_data[50000:]\n",
        "X_train, y_train = X_data[:50000, :], y_data[:50000]"
      ],
      "execution_count": 0,
      "outputs": []
    },
    {
      "cell_type": "code",
      "metadata": {
        "id": "IKcAWFRhmnnz",
        "colab_type": "code",
        "colab": {}
      },
      "source": [
        "# 정규화\n",
        "mean_vals = np.mean(X_train, axis = 0)\n",
        "std_val = np.std(X_train)\n",
        "\n",
        "X_train_centered = (X_train - mean_vals) / std_val\n",
        "X_valid_centered = (X_valid - mean_vals) / std_val\n",
        "X_test_centered = (X_test - mean_vals) / std_val"
      ],
      "execution_count": 0,
      "outputs": []
    },
    {
      "cell_type": "code",
      "metadata": {
        "id": "2cVWO-DznCQD",
        "colab_type": "code",
        "colab": {}
      },
      "source": [
        "# 텐서 조정 (-1, 28, 28, 1)\n",
        "X_train_centered = X_train_centered.reshape((-1, 28, 28, 1))\n",
        "X_valid_centered = X_valid_centered.reshape((-1, 28, 28, 1))\n",
        "X_test_centered = X_test_centered.reshape((-1, 28, 28, 1))"
      ],
      "execution_count": 0,
      "outputs": []
    },
    {
      "cell_type": "code",
      "metadata": {
        "id": "m4WjPFXinVot",
        "colab_type": "code",
        "colab": {}
      },
      "source": [
        "# 원 핫 인코딩\n",
        "from tensorflow.keras.utils import to_categorical\n",
        "\n",
        "y_train_onehot = to_categorical(y_train)\n",
        "y_valid_onehot = to_categorical(y_valid)\n",
        "y_test_onehot = to_categorical(y_test)"
      ],
      "execution_count": 0,
      "outputs": []
    },
    {
      "cell_type": "code",
      "metadata": {
        "id": "cVHvhf0Hn-Dp",
        "colab_type": "code",
        "outputId": "97fefc44-af57-4801-f249-adf7581725d9",
        "colab": {
          "base_uri": "https://localhost:8080/",
          "height": 449
        }
      },
      "source": [
        "# keras로 CNN 구현\n",
        "from tensorflow.keras import layers, models\n",
        "\n",
        "model = models.Sequential()\n",
        "\n",
        "# 32개의 5x5필터, strides는 정수 2개의 튜플(높이와 넓이 따로 지정가능)(기본값 = 1)\n",
        "# kernel_initializer = glorot_uniform(기본값), bias_initializer = zeros(기본값)\n",
        "model.add(layers.Conv2D(32, (5,5), padding = 'valid', activation = 'relu', input_shape = (28, 28, 1)))\n",
        "model.add(layers.MaxPool2D((2,2), strides = None)) # strides = None(기본값)\n",
        "model.add(layers.Conv2D(64, (5,5), padding = 'valid', activation = 'relu'))\n",
        "model.add(layers.MaxPool2D((2,2), strides = None))\n",
        "model.add(layers.Flatten())\n",
        "model.add(layers.Dense(1024, activation = 'relu'))\n",
        "model.add(layers.Dropout(0.5))\n",
        "model.add(layers.Dense(10, activation = 'softmax'))\n",
        "\n",
        "model.summary()\n",
        "# Param은 가중치...(parameters)"
      ],
      "execution_count": 15,
      "outputs": [
        {
          "output_type": "stream",
          "text": [
            "Model: \"sequential\"\n",
            "_________________________________________________________________\n",
            "Layer (type)                 Output Shape              Param #   \n",
            "=================================================================\n",
            "conv2d (Conv2D)              (None, 24, 24, 32)        832       \n",
            "_________________________________________________________________\n",
            "max_pooling2d (MaxPooling2D) (None, 12, 12, 32)        0         \n",
            "_________________________________________________________________\n",
            "conv2d_1 (Conv2D)            (None, 8, 8, 64)          51264     \n",
            "_________________________________________________________________\n",
            "max_pooling2d_1 (MaxPooling2 (None, 4, 4, 64)          0         \n",
            "_________________________________________________________________\n",
            "flatten (Flatten)            (None, 1024)              0         \n",
            "_________________________________________________________________\n",
            "dense (Dense)                (None, 1024)              1049600   \n",
            "_________________________________________________________________\n",
            "dropout (Dropout)            (None, 1024)              0         \n",
            "_________________________________________________________________\n",
            "dense_1 (Dense)              (None, 10)                10250     \n",
            "=================================================================\n",
            "Total params: 1,111,946\n",
            "Trainable params: 1,111,946\n",
            "Non-trainable params: 0\n",
            "_________________________________________________________________\n"
          ],
          "name": "stdout"
        }
      ]
    },
    {
      "cell_type": "code",
      "metadata": {
        "id": "whoFxe9dwWY9",
        "colab_type": "code",
        "outputId": "5ecbcd85-714a-44de-a9b9-01833ea1f131",
        "colab": {
          "base_uri": "https://localhost:8080/",
          "height": 737
        }
      },
      "source": [
        "# 합성곱 신경망 모델 훈련\n",
        "\n",
        "# 손실함수 = corss entropy, optimizer = adam(볼록하지 않은함수의 최적화), metrics = ['acc'](정확도)\n",
        "model.compile(loss = 'categorical_crossentropy', optimizer = 'adam', metrics = ['acc'])\n",
        "\n",
        "import time\n",
        "from tensorflow.keras.callbacks import ModelCheckpoint, TensorBoard\n",
        "\n",
        "callback_list = [ModelCheckpoint(filepath = '/content/gdrive/My Drive/Colab Notebooks/cnn_checkpoint.h5', monitor = 'val_loss', save_best_only = True), \n",
        "                 TensorBoard(log_dir = 'logs/{}'.format(time.asctime()))]\n",
        "\n",
        "history = model.fit(X_train_centered, y_train_onehot, batch_size = 64, epochs = 20, \n",
        "                    validation_data = (X_valid_centered, y_valid_onehot), callbacks = callback_list)"
      ],
      "execution_count": 16,
      "outputs": [
        {
          "output_type": "stream",
          "text": [
            "Epoch 1/20\n",
            "782/782 [==============================] - 63s 80ms/step - loss: 0.1399 - acc: 0.9555 - val_loss: 0.0429 - val_acc: 0.9881\n",
            "Epoch 2/20\n",
            "782/782 [==============================] - 62s 79ms/step - loss: 0.0501 - acc: 0.9840 - val_loss: 0.0414 - val_acc: 0.9880\n",
            "Epoch 3/20\n",
            "782/782 [==============================] - 62s 79ms/step - loss: 0.0353 - acc: 0.9885 - val_loss: 0.0371 - val_acc: 0.9899\n",
            "Epoch 4/20\n",
            "782/782 [==============================] - 62s 80ms/step - loss: 0.0273 - acc: 0.9917 - val_loss: 0.0349 - val_acc: 0.9914\n",
            "Epoch 5/20\n",
            "782/782 [==============================] - 61s 78ms/step - loss: 0.0226 - acc: 0.9933 - val_loss: 0.0504 - val_acc: 0.9878\n",
            "Epoch 6/20\n",
            "782/782 [==============================] - 61s 78ms/step - loss: 0.0200 - acc: 0.9935 - val_loss: 0.0535 - val_acc: 0.9893\n",
            "Epoch 7/20\n",
            "782/782 [==============================] - 60s 77ms/step - loss: 0.0185 - acc: 0.9942 - val_loss: 0.0390 - val_acc: 0.9901\n",
            "Epoch 8/20\n",
            "782/782 [==============================] - 61s 78ms/step - loss: 0.0149 - acc: 0.9955 - val_loss: 0.0509 - val_acc: 0.9899\n",
            "Epoch 9/20\n",
            "782/782 [==============================] - 61s 78ms/step - loss: 0.0169 - acc: 0.9948 - val_loss: 0.0402 - val_acc: 0.9918\n",
            "Epoch 10/20\n",
            "782/782 [==============================] - 62s 79ms/step - loss: 0.0131 - acc: 0.9961 - val_loss: 0.0443 - val_acc: 0.9898\n",
            "Epoch 11/20\n",
            "782/782 [==============================] - 62s 79ms/step - loss: 0.0113 - acc: 0.9966 - val_loss: 0.0474 - val_acc: 0.9900\n",
            "Epoch 12/20\n",
            "782/782 [==============================] - 62s 79ms/step - loss: 0.0136 - acc: 0.9957 - val_loss: 0.0437 - val_acc: 0.9902\n",
            "Epoch 13/20\n",
            "782/782 [==============================] - 61s 79ms/step - loss: 0.0145 - acc: 0.9958 - val_loss: 0.0492 - val_acc: 0.9920\n",
            "Epoch 14/20\n",
            "782/782 [==============================] - 62s 79ms/step - loss: 0.0102 - acc: 0.9969 - val_loss: 0.0572 - val_acc: 0.9909\n",
            "Epoch 15/20\n",
            "782/782 [==============================] - 61s 78ms/step - loss: 0.0120 - acc: 0.9967 - val_loss: 0.0502 - val_acc: 0.9914\n",
            "Epoch 16/20\n",
            "782/782 [==============================] - 62s 79ms/step - loss: 0.0099 - acc: 0.9973 - val_loss: 0.0510 - val_acc: 0.9914\n",
            "Epoch 17/20\n",
            "782/782 [==============================] - 62s 79ms/step - loss: 0.0124 - acc: 0.9965 - val_loss: 0.0520 - val_acc: 0.9923\n",
            "Epoch 18/20\n",
            "782/782 [==============================] - 62s 79ms/step - loss: 0.0085 - acc: 0.9979 - val_loss: 0.0678 - val_acc: 0.9905\n",
            "Epoch 19/20\n",
            "782/782 [==============================] - 61s 78ms/step - loss: 0.0087 - acc: 0.9979 - val_loss: 0.0650 - val_acc: 0.9898\n",
            "Epoch 20/20\n",
            "782/782 [==============================] - 61s 77ms/step - loss: 0.0098 - acc: 0.9973 - val_loss: 0.0565 - val_acc: 0.9888\n"
          ],
          "name": "stdout"
        }
      ]
    },
    {
      "cell_type": "code",
      "metadata": {
        "id": "W7SbaYXdzTu2",
        "colab_type": "code",
        "colab": {
          "base_uri": "https://localhost:8080/",
          "height": 279
        },
        "outputId": "54bc3e80-bf27-46c2-813e-5a3cad73e2bb"
      },
      "source": [
        "# 손실과 정확도 시각화\n",
        "import matplotlib.pyplot as plt\n",
        "\n",
        "epochs = np.arange(1, 21)\n",
        "plt.plot(epochs, history.history['loss'])\n",
        "plt.plot(epochs, history.history['val_loss'])\n",
        "plt.xlabel('epochs')\n",
        "plt.ylabel('loss')\n",
        "plt.show()"
      ],
      "execution_count": 17,
      "outputs": [
        {
          "output_type": "display_data",
          "data": {
            "image/png": "[encoded data removed]",
            "text/plain": [
              "<Figure size 432x288 with 1 Axes>"
            ]
          },
          "metadata": {
            "tags": [],
            "needs_background": "light"
          }
        }
      ]
    },
    {
      "cell_type": "code",
      "metadata": {
        "id": "1Z9rlkFK6DMy",
        "colab_type": "code",
        "colab": {
          "base_uri": "https://localhost:8080/",
          "height": 283
        },
        "outputId": "a63db090-179e-4cf5-b0d3-73f906bbecc0"
      },
      "source": [
        "# acc와 val_acc epochs별 시각화\n",
        "plt.plot(epochs, history.history['acc'])\n",
        "plt.plot(epochs, history.history['val_acc'])\n",
        "plt.xlabel('epochs')\n",
        "plt.ylabel('accuracy')\n",
        "plt.show()"
      ],
      "execution_count": 19,
      "outputs": [
        {
          "output_type": "display_data",
          "data": {
            "image/png": "[encoded data removed]",
            "text/plain": [
              "<Figure size 432x288 with 1 Axes>"
            ]
          },
          "metadata": {
            "tags": [],
            "needs_background": "light"
          }
        }
      ]
    },
    {
      "cell_type": "code",
      "metadata": {
        "id": "YkYE9ksgt138",
        "colab_type": "code",
        "colab": {}
      },
      "source": [
        "model.save('/content/gdrive/My Drive/Colab Notebooks/cnn_model.h5')"
      ],
      "execution_count": 0,
      "outputs": []
    },
    {
      "cell_type": "code",
      "metadata": {
        "id": "t9crPYwt3zsX",
        "colab_type": "code",
        "colab": {}
      },
      "source": [
        "# 모델 불러오기\n",
        "from tensorflow.keras.models import load_model\n",
        "\n",
        "restored_model = load_model('/content/gdrive/My Drive/Colab Notebooks/cnn_model.h5') # load_model 사용\n",
        "restored_model.load_weights('/content/gdrive/My Drive/Colab Notebooks/cnn_checkpoint.h5')"
      ],
      "execution_count": 0,
      "outputs": []
    },
    {
      "cell_type": "code",
      "metadata": {
        "id": "FOAF3vdt4Q6o",
        "colab_type": "code",
        "colab": {
          "base_uri": "https://localhost:8080/",
          "height": 53
        },
        "outputId": "d1a32fc1-5ae4-4628-cb68-228f0497ad9c"
      },
      "source": [
        "# 모델 성능 확인\n",
        "restored_model.evaluate(X_test_centered, y_test_onehot)"
      ],
      "execution_count": 24,
      "outputs": [
        {
          "output_type": "stream",
          "text": [
            "313/313 [==============================] - 3s 11ms/step - loss: 0.0251 - acc: 0.9913\n"
          ],
          "name": "stdout"
        },
        {
          "output_type": "execute_result",
          "data": {
            "text/plain": [
              "[0.025135623291134834, 0.9912999868392944]"
            ]
          },
          "metadata": {
            "tags": []
          },
          "execution_count": 24
        }
      ]
    },
    {
      "cell_type": "code",
      "metadata": {
        "id": "9gipn8nL4fst",
        "colab_type": "code",
        "colab": {}
      },
      "source": [
        ""
      ],
      "execution_count": 0,
      "outputs": []
    }
  ]
}