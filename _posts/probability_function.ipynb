{
  "nbformat": 4,
  "nbformat_minor": 0,
  "metadata": {
    "colab": {
      "name": "probability_function.ipynb",
      "provenance": [],
      "authorship_tag": "ABX9TyN0IqHXz9UrUzPB30yXit8X",
      "include_colab_link": true
    },
    "kernelspec": {
      "name": "python3",
      "display_name": "Python 3"
    }
  },
  "cells": [
    {
      "cell_type": "markdown",
      "metadata": {
        "id": "view-in-github",
        "colab_type": "text"
      },
      "source": [
        "<a href=\"https://colab.research.google.com/github/silverstar0727/1day-1commit-challenge/blob/master/probability_function.ipynb\" target=\"_parent\"><img src=\"https://colab.research.google.com/assets/colab-badge.svg\" alt=\"Open In Colab\"/></a>"
      ]
    },
    {
      "cell_type": "code",
      "metadata": {
        "id": "GDOX68blaW84",
        "colab_type": "code",
        "colab": {}
      },
      "source": [
        "import numpy as np\n",
        "from scipy import stats\n",
        "import matplotlib.pyplot as plt\n",
        "%matplotlib inline"
      ],
      "execution_count": 0,
      "outputs": []
    },
    {
      "cell_type": "markdown",
      "metadata": {
        "id": "8eVSLzO3cDse",
        "colab_type": "text"
      },
      "source": [
        "## 누적밀도함수"
      ]
    },
    {
      "cell_type": "code",
      "metadata": {
        "id": "IkUBLiulagZh",
        "colab_type": "code",
        "colab": {
          "base_uri": "https://localhost:8080/",
          "height": 413
        },
        "outputId": "4965a89e-d3e3-4ed1-83f9-5862d196511e"
      },
      "source": [
        "x = np.linspace(-4,4)\n",
        "y = sp.stats.norm.cdf(x) # 표준정규분포의 누적확률\n",
        "print(x)\n",
        "print(y)"
      ],
      "execution_count": 14,
      "outputs": [
        {
          "output_type": "stream",
          "text": [
            "[-4.         -3.83673469 -3.67346939 -3.51020408 -3.34693878 -3.18367347\n",
            " -3.02040816 -2.85714286 -2.69387755 -2.53061224 -2.36734694 -2.20408163\n",
            " -2.04081633 -1.87755102 -1.71428571 -1.55102041 -1.3877551  -1.2244898\n",
            " -1.06122449 -0.89795918 -0.73469388 -0.57142857 -0.40816327 -0.24489796\n",
            " -0.08163265  0.08163265  0.24489796  0.40816327  0.57142857  0.73469388\n",
            "  0.89795918  1.06122449  1.2244898   1.3877551   1.55102041  1.71428571\n",
            "  1.87755102  2.04081633  2.20408163  2.36734694  2.53061224  2.69387755\n",
            "  2.85714286  3.02040816  3.18367347  3.34693878  3.51020408  3.67346939\n",
            "  3.83673469  4.        ]\n",
            "[3.16712418e-05 6.23405203e-05 1.19639677e-04 2.23881444e-04\n",
            " 4.08546273e-04 7.27094757e-04 1.26217124e-03 2.13736698e-03\n",
            " 3.53130530e-03 5.69318233e-03 8.95806453e-03 1.37593018e-02\n",
            " 2.06345436e-02 3.02213058e-02 4.32381327e-02 6.04483967e-02\n",
            " 8.26058154e-02 1.10383757e-01 1.44293946e-01 1.84603655e-01\n",
            " 2.31262975e-01 2.83854583e-01 3.41576908e-01 4.03267721e-01\n",
            " 4.67469417e-01 5.32530583e-01 5.96732279e-01 6.58423092e-01\n",
            " 7.16145417e-01 7.68737025e-01 8.15396345e-01 8.55706054e-01\n",
            " 8.89616243e-01 9.17394185e-01 9.39551603e-01 9.56761867e-01\n",
            " 9.69778694e-01 9.79365456e-01 9.86240698e-01 9.91041935e-01\n",
            " 9.94306818e-01 9.96468695e-01 9.97862633e-01 9.98737829e-01\n",
            " 9.99272905e-01 9.99591454e-01 9.99776119e-01 9.99880360e-01\n",
            " 9.99937659e-01 9.99968329e-01]\n"
          ],
          "name": "stdout"
        }
      ]
    },
    {
      "cell_type": "code",
      "metadata": {
        "id": "Zn1ntT4iag2V",
        "colab_type": "code",
        "colab": {
          "base_uri": "https://localhost:8080/",
          "height": 283
        },
        "outputId": "1c3c8cae-a250-4837-e61c-742d9d2a814a"
      },
      "source": [
        "plt.plot(x,y)"
      ],
      "execution_count": 15,
      "outputs": [
        {
          "output_type": "execute_result",
          "data": {
            "text/plain": [
              "[<matplotlib.lines.Line2D at 0x7fe4d0e67d68>]"
            ]
          },
          "metadata": {
            "tags": []
          },
          "execution_count": 15
        },
        {
          "output_type": "display_data",
          "data": {
            "image/png": "[encoded data removed]",
            "text/plain": [
              "<Figure size 432x288 with 1 Axes>"
            ]
          },
          "metadata": {
            "tags": []
          }
        }
      ]
    },
    {
      "cell_type": "markdown",
      "metadata": {
        "id": "v_-UsGn3cHVS",
        "colab_type": "text"
      },
      "source": [
        "## 확률밀도함수"
      ]
    },
    {
      "cell_type": "code",
      "metadata": {
        "id": "6I9nQnTCcBiD",
        "colab_type": "code",
        "colab": {
          "base_uri": "https://localhost:8080/",
          "height": 269
        },
        "outputId": "eb1ad3fa-3434-4754-e077-910e94bd2a0b"
      },
      "source": [
        "x = np.linspace(-4,4,20)\n",
        "y = sp.stats.norm.cdf(x)\n",
        "z = np.insert(np.diff(y),0,None) # 누적확률함수를 미분하면 확률밀도함수이다.\n",
        "\n",
        "print(x)\n",
        "print(y)\n",
        "print(z)"
      ],
      "execution_count": 19,
      "outputs": [
        {
          "output_type": "stream",
          "text": [
            "[-4.         -3.57894737 -3.15789474 -2.73684211 -2.31578947 -1.89473684\n",
            " -1.47368421 -1.05263158 -0.63157895 -0.21052632  0.21052632  0.63157895\n",
            "  1.05263158  1.47368421  1.89473684  2.31578947  2.73684211  3.15789474\n",
            "  3.57894737  4.        ]\n",
            "[3.16712418e-05 1.72490464e-04 7.94564641e-04 3.10160293e-03\n",
            " 1.02848831e-02 2.90636371e-02 7.02833180e-02 1.46254939e-01\n",
            " 2.63831023e-01 4.16628457e-01 5.83371543e-01 7.36168977e-01\n",
            " 8.53745061e-01 9.29716682e-01 9.70936363e-01 9.89715117e-01\n",
            " 9.96898397e-01 9.99205435e-01 9.99827510e-01 9.99968329e-01]\n",
            "[           nan 1.40819222e-04 6.22074177e-04 2.30703829e-03\n",
            " 7.18328019e-03 1.87787540e-02 4.12196809e-02 7.59716211e-02\n",
            " 1.17576084e-01 1.52797434e-01 1.66743085e-01 1.52797434e-01\n",
            " 1.17576084e-01 7.59716211e-02 4.12196809e-02 1.87787540e-02\n",
            " 7.18328019e-03 2.30703829e-03 6.22074177e-04 1.40819222e-04]\n"
          ],
          "name": "stdout"
        }
      ]
    },
    {
      "cell_type": "code",
      "metadata": {
        "id": "OM3HQy-xcXN-",
        "colab_type": "code",
        "colab": {
          "base_uri": "https://localhost:8080/",
          "height": 283
        },
        "outputId": "5746fbe4-41fa-4882-e287-99448c570d9a"
      },
      "source": [
        "w = (4-(-4))/20\n",
        "plt.bar(x-w,z/w,width = w)"
      ],
      "execution_count": 20,
      "outputs": [
        {
          "output_type": "execute_result",
          "data": {
            "text/plain": [
              "<BarContainer object of 20 artists>"
            ]
          },
          "metadata": {
            "tags": []
          },
          "execution_count": 20
        },
        {
          "output_type": "display_data",
          "data": {
            "image/png": "[encoded data removed]",
            "text/plain": [
              "<Figure size 432x288 with 1 Axes>"
            ]
          },
          "metadata": {
            "tags": []
          }
        }
      ]
    },
    {
      "cell_type": "markdown",
      "metadata": {
        "id": "bmuGEqQQc21e",
        "colab_type": "text"
      },
      "source": [
        "## 이산확률분포"
      ]
    },
    {
      "cell_type": "code",
      "metadata": {
        "id": "WuuBZ9JScyY1",
        "colab_type": "code",
        "colab": {}
      },
      "source": [
        "x = np.arange(1,7)\n",
        "y = np.array([0, 0.1, 0.1, 0.2, 0.2, 0.4])"
      ],
      "execution_count": 0,
      "outputs": []
    },
    {
      "cell_type": "code",
      "metadata": {
        "id": "q96QaI-VdICN",
        "colab_type": "code",
        "colab": {
          "base_uri": "https://localhost:8080/",
          "height": 53
        },
        "outputId": "a7b80dfc-91dc-4cf0-8fa5-9606c643289b"
      },
      "source": [
        "print(x)\n",
        "print(y)"
      ],
      "execution_count": 22,
      "outputs": [
        {
          "output_type": "stream",
          "text": [
            "[1 2 3 4 5 6]\n",
            "[0.  0.1 0.1 0.2 0.2 0.4]\n"
          ],
          "name": "stdout"
        }
      ]
    },
    {
      "cell_type": "code",
      "metadata": {
        "id": "ftWUvYjfdJ0R",
        "colab_type": "code",
        "colab": {
          "base_uri": "https://localhost:8080/",
          "height": 343
        },
        "outputId": "67c71dd3-c3a9-4364-c95e-f28128fcda68"
      },
      "source": [
        "plt.stem(x,y)\n",
        "plt.xlim(0,7)\n",
        "plt.ylim(-0.01,0.5)"
      ],
      "execution_count": 23,
      "outputs": [
        {
          "output_type": "stream",
          "text": [
            "/usr/local/lib/python3.6/dist-packages/ipykernel_launcher.py:1: UserWarning: In Matplotlib 3.3 individual lines on a stem plot will be added as a LineCollection instead of individual lines. This significantly improves the performance of a stem plot. To remove this warning and switch to the new behaviour, set the \"use_line_collection\" keyword argument to True.\n",
            "  \"\"\"Entry point for launching an IPython kernel.\n"
          ],
          "name": "stderr"
        },
        {
          "output_type": "execute_result",
          "data": {
            "text/plain": [
              "(-0.01, 0.5)"
            ]
          },
          "metadata": {
            "tags": []
          },
          "execution_count": 23
        },
        {
          "output_type": "display_data",
          "data": {
            "image/png": "[encoded data removed]",
            "text/plain": [
              "<Figure size 432x288 with 1 Axes>"
            ]
          },
          "metadata": {
            "tags": []
          }
        }
      ]
    },
    {
      "cell_type": "code",
      "metadata": {
        "id": "hUYysqpbdPaL",
        "colab_type": "code",
        "colab": {}
      },
      "source": [
        ""
      ],
      "execution_count": 0,
      "outputs": []
    }
  ]
}
