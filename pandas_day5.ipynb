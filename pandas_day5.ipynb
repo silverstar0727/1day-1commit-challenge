{
  "nbformat": 4,
  "nbformat_minor": 0,
  "metadata": {
    "colab": {
      "name": "pandas-day5.ipynb",
      "provenance": [],
      "authorship_tag": "ABX9TyNi/SOXViGDoS3lifPYtnPZ",
      "include_colab_link": true
    },
    "kernelspec": {
      "name": "python3",
      "display_name": "Python 3"
    }
  },
  "cells": [
    {
      "cell_type": "markdown",
      "metadata": {
        "id": "view-in-github",
        "colab_type": "text"
      },
      "source": [
        "<a href=\"https://colab.research.google.com/github/silverstar0727/1day-1commit-challenge/blob/master/pandas_day5.ipynb\" target=\"_parent\"><img src=\"https://colab.research.google.com/assets/colab-badge.svg\" alt=\"Open In Colab\"/></a>"
      ]
    },
    {
      "cell_type": "markdown",
      "metadata": {
        "id": "QYWDxoCBSRXp",
        "colab_type": "text"
      },
      "source": [
        "# 연산!!\n",
        "\n",
        "### stats...\n",
        "기술통계를 수행하고\n",
        "데이터는 day1의 df를 활용한다"
      ]
    },
    {
      "cell_type": "code",
      "metadata": {
        "id": "389nPA-6SKaG",
        "colab_type": "code",
        "colab": {}
      },
      "source": [
        "# day1의 데이터를 불러오기\n",
        "import pandas as pd\n",
        "import numpy as np\n",
        "import matplotlib.pyplot as plt\n",
        "\n",
        "dates = pd.date_range('20100101', periods = 5)\n",
        "df = pd.DataFrame(np.random.randn(5,4), index = dates, columns = list('ABCD'))"
      ],
      "execution_count": 0,
      "outputs": []
    },
    {
      "cell_type": "code",
      "metadata": {
        "id": "Q2RzwHw5SXDH",
        "colab_type": "code",
        "colab": {
          "base_uri": "https://localhost:8080/",
          "height": 107
        },
        "outputId": "68001653-5b38-4ca0-928f-f7aeb3cbc27f"
      },
      "source": [
        "df.mean()"
      ],
      "execution_count": 3,
      "outputs": [
        {
          "output_type": "execute_result",
          "data": {
            "text/plain": [
              "A    0.382255\n",
              "B    0.330573\n",
              "C    0.429710\n",
              "D    0.337213\n",
              "dtype: float64"
            ]
          },
          "metadata": {
            "tags": []
          },
          "execution_count": 3
        }
      ]
    },
    {
      "cell_type": "code",
      "metadata": {
        "id": "dZcvQC0VSX7A",
        "colab_type": "code",
        "colab": {
          "base_uri": "https://localhost:8080/",
          "height": 125
        },
        "outputId": "8dc74295-4498-4d84-8f45-903df6801a21"
      },
      "source": [
        "# 다른축에서의 동일한 연산\n",
        "df.mean(1)"
      ],
      "execution_count": 4,
      "outputs": [
        {
          "output_type": "execute_result",
          "data": {
            "text/plain": [
              "2010-01-01    0.163410\n",
              "2010-01-02    0.377889\n",
              "2010-01-03    0.731776\n",
              "2010-01-04    0.261236\n",
              "2010-01-05    0.315377\n",
              "Freq: D, dtype: float64"
            ]
          },
          "metadata": {
            "tags": []
          },
          "execution_count": 4
        }
      ]
    },
    {
      "cell_type": "code",
      "metadata": {
        "id": "u5GiWf3fSY-Y",
        "colab_type": "code",
        "colab": {}
      },
      "source": [
        "# 차원이 다른객체로의 연산(pandas는 지정된 차원을 따라 자동으로 브로드 캐스팅 됩니다.)\n",
        "s = pd.Series([1,3,5,np.nan,8], index = dates.shift(2))"
      ],
      "execution_count": 0,
      "outputs": []
    },
    {
      "cell_type": "code",
      "metadata": {
        "id": "-ufpVlPESlUC",
        "colab_type": "code",
        "colab": {
          "base_uri": "https://localhost:8080/",
          "height": 125
        },
        "outputId": "28890eae-6d82-4f4d-e9fe-cc390ed8d949"
      },
      "source": [
        "s"
      ],
      "execution_count": 17,
      "outputs": [
        {
          "output_type": "execute_result",
          "data": {
            "text/plain": [
              "2010-01-03    1.0\n",
              "2010-01-04    3.0\n",
              "2010-01-05    5.0\n",
              "2010-01-06    NaN\n",
              "2010-01-07    8.0\n",
              "Freq: D, dtype: float64"
            ]
          },
          "metadata": {
            "tags": []
          },
          "execution_count": 17
        }
      ]
    },
    {
      "cell_type": "code",
      "metadata": {
        "id": "a5X2qhubSlmP",
        "colab_type": "code",
        "colab": {
          "base_uri": "https://localhost:8080/",
          "height": 266
        },
        "outputId": "21e5cfaa-8203-4f5c-b203-3d53b4feab9b"
      },
      "source": [
        "df.sub(s, axis = 'index')"
      ],
      "execution_count": 18,
      "outputs": [
        {
          "output_type": "execute_result",
          "data": {
            "text/html": [
              "<div>\n",
              "<style scoped>\n",
              "    .dataframe tbody tr th:only-of-type {\n",
              "        vertical-align: middle;\n",
              "    }\n",
              "\n",
              "    .dataframe tbody tr th {\n",
              "        vertical-align: top;\n",
              "    }\n",
              "\n",
              "    .dataframe thead th {\n",
              "        text-align: right;\n",
              "    }\n",
              "</style>\n",
              "<table border=\"1\" class=\"dataframe\">\n",
              "  <thead>\n",
              "    <tr style=\"text-align: right;\">\n",
              "      <th></th>\n",
              "      <th>A</th>\n",
              "      <th>B</th>\n",
              "      <th>C</th>\n",
              "      <th>D</th>\n",
              "    </tr>\n",
              "  </thead>\n",
              "  <tbody>\n",
              "    <tr>\n",
              "      <th>2010-01-01</th>\n",
              "      <td>NaN</td>\n",
              "      <td>NaN</td>\n",
              "      <td>NaN</td>\n",
              "      <td>NaN</td>\n",
              "    </tr>\n",
              "    <tr>\n",
              "      <th>2010-01-02</th>\n",
              "      <td>NaN</td>\n",
              "      <td>NaN</td>\n",
              "      <td>NaN</td>\n",
              "      <td>NaN</td>\n",
              "    </tr>\n",
              "    <tr>\n",
              "      <th>2010-01-03</th>\n",
              "      <td>-0.497511</td>\n",
              "      <td>-0.943915</td>\n",
              "      <td>0.060910</td>\n",
              "      <td>0.307622</td>\n",
              "    </tr>\n",
              "    <tr>\n",
              "      <th>2010-01-04</th>\n",
              "      <td>-1.067369</td>\n",
              "      <td>-3.905979</td>\n",
              "      <td>-2.281230</td>\n",
              "      <td>-3.700476</td>\n",
              "    </tr>\n",
              "    <tr>\n",
              "      <th>2010-01-05</th>\n",
              "      <td>-5.246831</td>\n",
              "      <td>-3.786289</td>\n",
              "      <td>-3.790063</td>\n",
              "      <td>-5.915311</td>\n",
              "    </tr>\n",
              "    <tr>\n",
              "      <th>2010-01-06</th>\n",
              "      <td>NaN</td>\n",
              "      <td>NaN</td>\n",
              "      <td>NaN</td>\n",
              "      <td>NaN</td>\n",
              "    </tr>\n",
              "    <tr>\n",
              "      <th>2010-01-07</th>\n",
              "      <td>NaN</td>\n",
              "      <td>NaN</td>\n",
              "      <td>NaN</td>\n",
              "      <td>NaN</td>\n",
              "    </tr>\n",
              "  </tbody>\n",
              "</table>\n",
              "</div>"
            ],
            "text/plain": [
              "                   A         B         C         D\n",
              "2010-01-01       NaN       NaN       NaN       NaN\n",
              "2010-01-02       NaN       NaN       NaN       NaN\n",
              "2010-01-03 -0.497511 -0.943915  0.060910  0.307622\n",
              "2010-01-04 -1.067369 -3.905979 -2.281230 -3.700476\n",
              "2010-01-05 -5.246831 -3.786289 -3.790063 -5.915311\n",
              "2010-01-06       NaN       NaN       NaN       NaN\n",
              "2010-01-07       NaN       NaN       NaN       NaN"
            ]
          },
          "metadata": {
            "tags": []
          },
          "execution_count": 18
        }
      ]
    },
    {
      "cell_type": "markdown",
      "metadata": {
        "id": "CrQKRPpkXkTM",
        "colab_type": "text"
      },
      "source": [
        "## apply를 사용하여 데이터를 함수에 적용함\n"
      ]
    },
    {
      "cell_type": "code",
      "metadata": {
        "id": "nEKVidaBSoNh",
        "colab_type": "code",
        "colab": {
          "base_uri": "https://localhost:8080/",
          "height": 204
        },
        "outputId": "5e86c2c5-5a10-40ef-c567-d1cba2a37bfa"
      },
      "source": [
        "df.apply(np.cumsum)"
      ],
      "execution_count": 19,
      "outputs": [
        {
          "output_type": "execute_result",
          "data": {
            "text/html": [
              "<div>\n",
              "<style scoped>\n",
              "    .dataframe tbody tr th:only-of-type {\n",
              "        vertical-align: middle;\n",
              "    }\n",
              "\n",
              "    .dataframe tbody tr th {\n",
              "        vertical-align: top;\n",
              "    }\n",
              "\n",
              "    .dataframe thead th {\n",
              "        text-align: right;\n",
              "    }\n",
              "</style>\n",
              "<table border=\"1\" class=\"dataframe\">\n",
              "  <thead>\n",
              "    <tr style=\"text-align: right;\">\n",
              "      <th></th>\n",
              "      <th>A</th>\n",
              "      <th>B</th>\n",
              "      <th>C</th>\n",
              "      <th>D</th>\n",
              "    </tr>\n",
              "  </thead>\n",
              "  <tbody>\n",
              "    <tr>\n",
              "      <th>2010-01-01</th>\n",
              "      <td>-0.846545</td>\n",
              "      <td>0.360442</td>\n",
              "      <td>-0.918578</td>\n",
              "      <td>2.058322</td>\n",
              "    </tr>\n",
              "    <tr>\n",
              "      <th>2010-01-02</th>\n",
              "      <td>-0.277014</td>\n",
              "      <td>1.289050</td>\n",
              "      <td>-0.841068</td>\n",
              "      <td>1.994230</td>\n",
              "    </tr>\n",
              "    <tr>\n",
              "      <th>2010-01-03</th>\n",
              "      <td>0.225475</td>\n",
              "      <td>1.345135</td>\n",
              "      <td>0.219841</td>\n",
              "      <td>3.301852</td>\n",
              "    </tr>\n",
              "    <tr>\n",
              "      <th>2010-01-04</th>\n",
              "      <td>2.158105</td>\n",
              "      <td>0.439156</td>\n",
              "      <td>0.938611</td>\n",
              "      <td>2.601376</td>\n",
              "    </tr>\n",
              "    <tr>\n",
              "      <th>2010-01-05</th>\n",
              "      <td>1.911275</td>\n",
              "      <td>1.652867</td>\n",
              "      <td>2.148549</td>\n",
              "      <td>1.686065</td>\n",
              "    </tr>\n",
              "  </tbody>\n",
              "</table>\n",
              "</div>"
            ],
            "text/plain": [
              "                   A         B         C         D\n",
              "2010-01-01 -0.846545  0.360442 -0.918578  2.058322\n",
              "2010-01-02 -0.277014  1.289050 -0.841068  1.994230\n",
              "2010-01-03  0.225475  1.345135  0.219841  3.301852\n",
              "2010-01-04  2.158105  0.439156  0.938611  2.601376\n",
              "2010-01-05  1.911275  1.652867  2.148549  1.686065"
            ]
          },
          "metadata": {
            "tags": []
          },
          "execution_count": 19
        }
      ]
    },
    {
      "cell_type": "markdown",
      "metadata": {
        "id": "R1eYB0hLXPEo",
        "colab_type": "text"
      },
      "source": [
        "\n",
        "이 과정에서 lambda를 사용하였는데,\n",
        "후에 lambda의 용도에 대해 자세히 알아봐야 겠다!"
      ]
    },
    {
      "cell_type": "code",
      "metadata": {
        "id": "2aQb2SsbStRK",
        "colab_type": "code",
        "colab": {
          "base_uri": "https://localhost:8080/",
          "height": 107
        },
        "outputId": "bde6a061-7b47-4cea-f0e9-c607a20faf7a"
      },
      "source": [
        "df.apply(lambda x : x.max() - x.min())"
      ],
      "execution_count": 20,
      "outputs": [
        {
          "output_type": "execute_result",
          "data": {
            "text/plain": [
              "A    2.779175\n",
              "B    2.119690\n",
              "C    2.128516\n",
              "D    2.973633\n",
              "dtype: float64"
            ]
          },
          "metadata": {
            "tags": []
          },
          "execution_count": 20
        }
      ]
    }
  ]
}