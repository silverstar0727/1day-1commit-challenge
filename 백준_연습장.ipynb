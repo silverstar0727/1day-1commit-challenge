{
  "nbformat": 4,
  "nbformat_minor": 0,
  "metadata": {
    "colab": {
      "name": "백준 연습장.ipynb",
      "provenance": [],
      "collapsed_sections": [],
      "authorship_tag": "ABX9TyMXDbOCS7jDe9w1IqC7BDvE",
      "include_colab_link": true
    },
    "kernelspec": {
      "name": "python3",
      "display_name": "Python 3"
    }
  },
  "cells": [
    {
      "cell_type": "markdown",
      "metadata": {
        "id": "view-in-github",
        "colab_type": "text"
      },
      "source": [
        "<a href=\"https://colab.research.google.com/github/silverstar0727/1day-1commit-challenge/blob/master/%EB%B0%B1%EC%A4%80_%EC%97%B0%EC%8A%B5%EC%9E%A5.ipynb\" target=\"_parent\"><img src=\"https://colab.research.google.com/assets/colab-badge.svg\" alt=\"Open In Colab\"/></a>"
      ]
    },
    {
      "cell_type": "code",
      "metadata": {
        "id": "pqlsHc-IFqM1",
        "colab_type": "code",
        "outputId": "7c52b360-2e70-44d1-d07e-83056e6e9f03",
        "colab": {
          "base_uri": "https://localhost:8080/",
          "height": 251
        }
      },
      "source": [
        "# 15649\n",
        "N, M = map(int, input().split())\n",
        "\n",
        "num_list = [i + 1 for i in range(N)]\n",
        "check_list = [False] * N\n",
        "\n",
        "arr = []\n",
        "\n",
        "def dfs(cnt):\n",
        "    # 주어진 개수만큼 채워지면 출력한다\n",
        "    if(cnt == M):\n",
        "        print(*arr)\n",
        "        return\n",
        "    \n",
        "    for i in range(0, N):\n",
        "        if(check_list[i]):\n",
        "            continue\n",
        "        \n",
        "        # i번째는 거쳐갈거라서 True로 바꾼다.\n",
        "        check_list[i] = True\n",
        "        arr.append(num_list[i])\n",
        "        # 현재의 i를 기준으로 가지치기 시작\n",
        "        dfs(cnt + 1)\n",
        "        # 이 부분은\n",
        "        arr.pop()\n",
        "        # 여기서 print(arr)을 해보면 작동원리를 알 수 있다.\n",
        "#        print(arr)\n",
        "#        print(check_list)\n",
        "        check_list[i] = False\n",
        "        \n",
        "dfs(0)"
      ],
      "execution_count": 0,
      "outputs": [
        {
          "output_type": "stream",
          "text": [
            "4 2\n",
            "1 2\n",
            "1 3\n",
            "1 4\n",
            "2 1\n",
            "2 3\n",
            "2 4\n",
            "3 1\n",
            "3 2\n",
            "3 4\n",
            "4 1\n",
            "4 2\n",
            "4 3\n"
          ],
          "name": "stdout"
        }
      ]
    },
    {
      "cell_type": "code",
      "metadata": {
        "id": "ExTG6gNWBPAL",
        "colab_type": "code",
        "outputId": "de517f8f-5c98-4f6b-ba77-d766f7597bf8",
        "colab": {
          "base_uri": "https://localhost:8080/",
          "height": 467
        }
      },
      "source": [
        "# 15650\n",
        "n, m = map(int, input().split())\n",
        "num_list = list(range(1, n + 1))\n",
        "check_list = [False] * n\n",
        "\n",
        "arr = []\n",
        "def F(cnt):\n",
        "  # cnt가 m이랑 같아질 때 까지\n",
        "  if cnt == m:\n",
        "    for i in arr:\n",
        "      print(i, end = ' ')\n",
        "    print()\n",
        "\n",
        "  for i in range(0, n):\n",
        "    if check_list[i]:\n",
        "      continue\n",
        "\n",
        "    check_list[i] = True\n",
        "    # 뽑는 요소 추가\n",
        "    arr.append(num_list[i])\n",
        "    F(cnt + 1)\n",
        "    # 중복을 피하기 위해 제거\n",
        "    arr.pop()\n",
        "    check_list[i] = False\n",
        "  \n",
        "F(0)"
      ],
      "execution_count": 0,
      "outputs": [
        {
          "output_type": "stream",
          "text": [
            "4 4\n",
            "1 2 3 4 \n",
            "1 2 4 3 \n",
            "1 3 2 4 \n",
            "1 3 4 2 \n",
            "1 4 2 3 \n",
            "1 4 3 2 \n",
            "2 1 3 4 \n",
            "2 1 4 3 \n",
            "2 3 1 4 \n",
            "2 3 4 1 \n",
            "2 4 1 3 \n",
            "2 4 3 1 \n",
            "3 1 2 4 \n",
            "3 1 4 2 \n",
            "3 2 1 4 \n",
            "3 2 4 1 \n",
            "3 4 1 2 \n",
            "3 4 2 1 \n",
            "4 1 2 3 \n",
            "4 1 3 2 \n",
            "4 2 1 3 \n",
            "4 2 3 1 \n",
            "4 3 1 2 \n",
            "4 3 2 1 \n"
          ],
          "name": "stdout"
        }
      ]
    },
    {
      "cell_type": "code",
      "metadata": {
        "id": "a2aOPjeSo9Zg",
        "colab_type": "code",
        "outputId": "e03b1ceb-f02b-4dde-ffaa-ac152401d536",
        "colab": {
          "base_uri": "https://localhost:8080/",
          "height": 35
        }
      },
      "source": [
        "# 2748\n",
        "n = int(input())\n",
        "\n",
        "def fibo(k):"
      ],
      "execution_count": 0,
      "outputs": [
        {
          "output_type": "stream",
          "text": [
            "1 2 3\n"
          ],
          "name": "stdout"
        }
      ]
    },
    {
      "cell_type": "code",
      "metadata": {
        "id": "PcsPpARSGIej",
        "colab_type": "code",
        "colab": {}
      },
      "source": [
        ""
      ],
      "execution_count": 0,
      "outputs": []
    }
  ]
}