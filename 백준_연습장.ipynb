{
  "nbformat": 4,
  "nbformat_minor": 0,
  "metadata": {
    "colab": {
      "name": "백준 연습장.ipynb",
      "provenance": [],
      "authorship_tag": "ABX9TyNFmu99bQOXt8mx8gAs0oZ9",
      "include_colab_link": true
    },
    "kernelspec": {
      "name": "python3",
      "display_name": "Python 3"
    }
  },
  "cells": [
    {
      "cell_type": "markdown",
      "metadata": {
        "id": "view-in-github",
        "colab_type": "text"
      },
      "source": [
        "<a href=\"https://colab.research.google.com/github/silverstar0727/1day-1commit-challenge/blob/master/%EB%B0%B1%EC%A4%80_%EC%97%B0%EC%8A%B5%EC%9E%A5.ipynb\" target=\"_parent\"><img src=\"https://colab.research.google.com/assets/colab-badge.svg\" alt=\"Open In Colab\"/></a>"
      ]
    },
    {
      "cell_type": "code",
      "metadata": {
        "colab_type": "code",
        "outputId": "8128677c-5a54-49ab-a368-3b88b90f6ea7",
        "id": "Sf6JTuYDyv6b",
        "colab": {
          "base_uri": "https://localhost:8080/",
          "height": 251
        }
      },
      "source": [
        "# 2577\n",
        "a = int(input())\n",
        "b = int(input())\n",
        "c = int(input())\n",
        "\n",
        "data = list(str(a* b * c))\n",
        "\n",
        "for i in range(10):\n",
        "  count = data.count(str(i))\n",
        "  print(count)"
      ],
      "execution_count": 0,
      "outputs": [
        {
          "output_type": "stream",
          "text": [
            "150\n",
            "266\n",
            "427\n",
            "3\n",
            "1\n",
            "0\n",
            "2\n",
            "0\n",
            "0\n",
            "0\n",
            "2\n",
            "0\n",
            "0\n"
          ],
          "name": "stdout"
        }
      ]
    },
    {
      "cell_type": "code",
      "metadata": {
        "colab_type": "code",
        "id": "xzUrd_pIyveg",
        "outputId": "2050c220-88e8-4c83-d837-a9e82a1bd53a",
        "colab": {
          "base_uri": "https://localhost:8080/",
          "height": 215
        }
      },
      "source": [
        "# 3052\n",
        "import numpy as np\n",
        "rest = []\n",
        "\n",
        "for i in range(10):\n",
        "  a = int(input())\n",
        "  rest.append(a % 42)\n",
        "\n",
        "rest = np.array(rest)\n",
        "rest = np.unique(rest)\n",
        "print(str(list(rest.shape)[0]))\n"
      ],
      "execution_count": 0,
      "outputs": [
        {
          "output_type": "stream",
          "text": [
            "39\n",
            "40\n",
            "41\n",
            "42\n",
            "43\n",
            "44\n",
            "82\n",
            "83\n",
            "84\n",
            "85\n",
            "6\n"
          ],
          "name": "stdout"
        }
      ]
    },
    {
      "cell_type": "code",
      "metadata": {
        "id": "346p7umN4w_Y",
        "colab_type": "code",
        "colab": {}
      },
      "source": [
        "# 3052\n",
        "# another solution\n",
        "num_list = []\n",
        "for _ in range(10):\n",
        "    num = int(input())\n",
        "    num_list.append(num % 42)\n",
        "num_list = set(num_list)\n",
        "print(len(num_list))"
      ],
      "execution_count": 0,
      "outputs": []
    },
    {
      "cell_type": "code",
      "metadata": {
        "id": "c02nEZH723z0",
        "colab_type": "code",
        "outputId": "a8792914-5118-4656-d9b9-94789dfc3771",
        "colab": {
          "base_uri": "https://localhost:8080/",
          "height": 71
        }
      },
      "source": [
        "# 1546\n",
        "n = int(input())\n",
        "score = list(map(int, input().split()))\n",
        "\n",
        "m = max(score)\n",
        "for i in range(n):\n",
        "  score[i] = score[i] / m * 100\n",
        "\n",
        "print(sum(score)/n)\n"
      ],
      "execution_count": 0,
      "outputs": [
        {
          "output_type": "stream",
          "text": [
            "3\n",
            "40 80 60\n"
          ],
          "name": "stdout"
        },
        {
          "output_type": "execute_result",
          "data": {
            "text/plain": [
              "[50.0, 100.0, 75.0]"
            ]
          },
          "metadata": {
            "tags": []
          },
          "execution_count": 3
        }
      ]
    },
    {
      "cell_type": "code",
      "metadata": {
        "id": "Veyww5iq4ELw",
        "colab_type": "code",
        "outputId": "72d24e15-3649-4e67-eaf5-37c57d3c9a23",
        "colab": {
          "base_uri": "https://localhost:8080/",
          "height": 215
        }
      },
      "source": [
        "# 8958\n",
        "n = int(input())\n",
        "\n",
        "for i in range(n):\n",
        "  data = input()\n",
        "  score = 0\n",
        "  count = 0\n",
        "  for j in range(len(data)):\n",
        "\n",
        "    if data[j] == 'O':\n",
        "      count += 1\n",
        "      score += count\n",
        "    else:\n",
        "      count = 0\n",
        "\n",
        "  print(score)"
      ],
      "execution_count": 0,
      "outputs": [
        {
          "output_type": "stream",
          "text": [
            "5\n",
            "OOXXOXXOOO\n",
            "10\n",
            "OOXXOOXXOO\n",
            "9\n",
            "OXOXOXOXOXOXOX\n",
            "7\n",
            "OOOOOOOOOO\n",
            "55\n",
            "OOOOXOOOOXOOOOX\n",
            "30\n"
          ],
          "name": "stdout"
        }
      ]
    }
  ]
}