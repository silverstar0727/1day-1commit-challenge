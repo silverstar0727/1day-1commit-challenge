{
  "nbformat": 4,
  "nbformat_minor": 0,
  "metadata": {
    "colab": {
      "name": "Untitled2.ipynb",
      "provenance": [],
      "authorship_tag": "ABX9TyPf1gFdzyGagnWIb7ebw212",
      "include_colab_link": true
    },
    "kernelspec": {
      "name": "python3",
      "display_name": "Python 3"
    }
  },
  "cells": [
    {
      "cell_type": "markdown",
      "metadata": {
        "id": "view-in-github",
        "colab_type": "text"
      },
      "source": [
        "<a href=\"https://colab.research.google.com/github/silverstar0727/1day-1commit-challenge/blob/master/Untitled2.ipynb\" target=\"_parent\"><img src=\"https://colab.research.google.com/assets/colab-badge.svg\" alt=\"Open In Colab\"/></a>"
      ]
    },
    {
      "cell_type": "code",
      "metadata": {
        "id": "vtC6MX18Ce_x",
        "colab_type": "code",
        "colab": {}
      },
      "source": [
        ""
      ],
      "execution_count": 0,
      "outputs": []
    },
    {
      "cell_type": "code",
      "metadata": {
        "id": "_umAHPgymN5Q",
        "colab_type": "code",
        "colab": {}
      },
      "source": [
        "# 10989\n",
        "# 아니 왜 성공한사람꺼 코드 갖고왓는데 안되지?\n",
        "# 왜? 왜? 왜일머ㅏㅣㅓㅏㅣ;ㅁㅇ라ㅣ;ㅓㅁㄴ아ㅣ난ㄹㅇ 모르겠다.... 일단 킵... 못푼 첫문제 ㅠㅠ\n",
        "import sys\n",
        "N = int(input())\n",
        "cnt_list = [0] * 10001\n",
        "\n",
        "for i in range(N):\n",
        "    cnt_list[int(input())] += 1\n",
        "\n",
        "for i in range(10001):\n",
        "    sys.stdout.write('%s\\n' % i * cnt_list[i])"
      ],
      "execution_count": 0,
      "outputs": []
    },
    {
      "cell_type": "code",
      "metadata": {
        "id": "a83zJVKtqGoM",
        "colab_type": "code",
        "outputId": "9afab0f9-c49e-4a97-e829-22aa070949ca",
        "colab": {
          "base_uri": "https://localhost:8080/",
          "height": 53
        }
      },
      "source": [
        "# 2884\n",
        "hour,minute = map(int, input().split())\n",
        "\n",
        "if minute > 44:\n",
        "    print(hour, minute-45)\n",
        "elif minute <= 44 and hour >= 1:\n",
        "    print(hour-1, minute+15)\n",
        "else:\n",
        "    print(23, minute+15)"
      ],
      "execution_count": 0,
      "outputs": [
        {
          "output_type": "stream",
          "text": [
            "23 40\n",
            "22 55\n"
          ],
          "name": "stdout"
        }
      ]
    },
    {
      "cell_type": "code",
      "metadata": {
        "id": "lJXzQtoJuZyn",
        "colab_type": "code",
        "colab": {}
      },
      "source": [
        "# 2108\n",
        "import sys\n",
        "from collections import Counter\n",
        "  \n",
        "t = int(sys.stdin.readline())\n",
        "num_list = []\n",
        "for _ in range(t):\n",
        "    num_list.append(int(sys.stdin.readline())) \n",
        "\n",
        "def mode(x):\n",
        "    mode_dict = Counter(x)\n",
        "    modes = mode_dict.most_common()\n",
        "    if len(x) > 1 : \n",
        "        if modes[0][1] == modes[1][1]:\n",
        "            mod = modes[1][0]\n",
        "        else : \n",
        "            mod = modes[0][0]\n",
        "    else : \n",
        "        mod = modes[0][0]\n",
        "    \n",
        "    return mod\n",
        "\n",
        "print(round(sum(num_list) / len(num_list)))\n",
        "num_list.sort()\n",
        "print(num_list[len(num_list) // 2])\n",
        "print(mode(num_list))\n",
        "print(num_list[-1] - num_list[0])"
      ],
      "execution_count": 0,
      "outputs": []
    },
    {
      "cell_type": "code",
      "metadata": {
        "id": "89-j6IheToct",
        "colab_type": "code",
        "colab": {}
      },
      "source": [
        "# 14681\n",
        "x = int(input())\n",
        "y = int(input())\n",
        "\n",
        "if (x > 0) & (y > 0):\n",
        "  print(1)\n",
        "elif (x < 0) & (y > 0):\n",
        "  print(2)\n",
        "elif (x < 0) & (y > 0):\n",
        "  print(3)\n",
        "else:\n",
        "  print(4)"
      ],
      "execution_count": 0,
      "outputs": []
    },
    {
      "cell_type": "code",
      "metadata": {
        "id": "RDq9uK8MToay",
        "colab_type": "code",
        "outputId": "b4837e3d-f50e-4de0-bc87-5df1f73a29c0",
        "colab": {
          "base_uri": "https://localhost:8080/",
          "height": 53
        }
      },
      "source": [
        "# 1427\n",
        "data = list(input())\n",
        "data = list(map(int, data))\n",
        "\n",
        "data.sort(reverse = True)\n",
        "for i in data:\n",
        "  print(i, end = '')"
      ],
      "execution_count": 0,
      "outputs": [
        {
          "output_type": "stream",
          "text": [
            "213\n",
            "321"
          ],
          "name": "stdout"
        }
      ]
    }
  ]
}