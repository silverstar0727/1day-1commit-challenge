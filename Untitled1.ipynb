{
  "nbformat": 4,
  "nbformat_minor": 0,
  "metadata": {
    "colab": {
      "name": "Untitled1.ipynb",
      "provenance": [],
      "authorship_tag": "ABX9TyMWFsv7i7GC2kQu6S91Z/pJ",
      "include_colab_link": true
    },
    "kernelspec": {
      "name": "python3",
      "display_name": "Python 3"
    }
  },
  "cells": [
    {
      "cell_type": "markdown",
      "metadata": {
        "id": "view-in-github",
        "colab_type": "text"
      },
      "source": [
        "<a href=\"https://colab.research.google.com/github/silverstar0727/1day-1commit-challenge/blob/master/Untitled1.ipynb\" target=\"_parent\"><img src=\"https://colab.research.google.com/assets/colab-badge.svg\" alt=\"Open In Colab\"/></a>"
      ]
    },
    {
      "cell_type": "code",
      "metadata": {
        "id": "BYjNCTYRmiiQ",
        "colab_type": "code",
        "colab": {}
      },
      "source": [
        ""
      ],
      "execution_count": 0,
      "outputs": []
    },
    {
      "cell_type": "code",
      "metadata": {
        "id": "Xek-jvpNc9Ba",
        "colab_type": "code",
        "outputId": "b4d5594e-70b9-45a8-ad9c-5d9a014b46cf",
        "colab": {
          "base_uri": "https://localhost:8080/",
          "height": 53
        }
      },
      "source": [
        "n = int(input())\n",
        "s = [0, 1]\n",
        "\n",
        "for i in range(n):\n",
        "  s.append(s[-1] + s[-2])\n",
        "\n",
        "print(s[n])"
      ],
      "execution_count": 0,
      "outputs": [
        {
          "output_type": "stream",
          "text": [
            "10\n",
            "55\n"
          ],
          "name": "stdout"
        }
      ]
    },
    {
      "cell_type": "code",
      "metadata": {
        "id": "1gAPh1Wrc899",
        "colab_type": "code",
        "outputId": "adb4fd23-7a37-4b1a-e009-36f6f22dad46",
        "colab": {
          "base_uri": "https://localhost:8080/",
          "height": 521
        }
      },
      "source": [
        "# 2447\n",
        "# 프랙탈 도형의 알고리즘은 divide conquer algorithm을 이용하여 해결한다.\n",
        "def stars(n):\n",
        "  matrix = []\n",
        "  for i in range(3 * len(n)):\n",
        "    if i // len(n) == 1:\n",
        "      matrix.append(n[i % len(n)] + ' ' * len(n) + n[i % len(n)])\n",
        "    else:\n",
        "      matrix.append(n[i % len(n)] * 3)\n",
        "    \n",
        "  return (list(matrix))\n",
        "\n",
        "\n",
        "n = int(input())\n",
        "k = 0\n",
        "while n != 3:\n",
        "  n = int(n / 3)\n",
        "  k += 1\n",
        "\n",
        "\n",
        "star = ['***', '* *', '***']\n",
        "for i in range(k):\n",
        "  star = stars(star)\n",
        "for i in star:\n",
        "  print(i)"
      ],
      "execution_count": 0,
      "outputs": [
        {
          "output_type": "stream",
          "text": [
            "27\n",
            "***************************\n",
            "* ** ** ** ** ** ** ** ** *\n",
            "***************************\n",
            "***   ******   ******   ***\n",
            "* *   * ** *   * ** *   * *\n",
            "***   ******   ******   ***\n",
            "***************************\n",
            "* ** ** ** ** ** ** ** ** *\n",
            "***************************\n",
            "*********         *********\n",
            "* ** ** *         * ** ** *\n",
            "*********         *********\n",
            "***   ***         ***   ***\n",
            "* *   * *         * *   * *\n",
            "***   ***         ***   ***\n",
            "*********         *********\n",
            "* ** ** *         * ** ** *\n",
            "*********         *********\n",
            "***************************\n",
            "* ** ** ** ** ** ** ** ** *\n",
            "***************************\n",
            "***   ******   ******   ***\n",
            "* *   * ** *   * ** *   * *\n",
            "***   ******   ******   ***\n",
            "***************************\n",
            "* ** ** ** ** ** ** ** ** *\n",
            "***************************\n"
          ],
          "name": "stdout"
        }
      ]
    },
    {
      "cell_type": "code",
      "metadata": {
        "id": "26hdVmfTsobQ",
        "colab_type": "code",
        "outputId": "d072d9d0-7597-41ec-904e-e1c7ec6f4bae",
        "colab": {
          "base_uri": "https://localhost:8080/",
          "height": 179
        }
      },
      "source": [
        "# 11729\n",
        "# 재귀를 사용하는 색다른 예제\n",
        "n = int(input())\n",
        "def hanoi(n, a, b, c):\n",
        "    if n == 1:\n",
        "        print(a, c)\n",
        "    else:\n",
        "        hanoi(n - 1, a, c, b)\n",
        "        print(a, c)\n",
        "        hanoi(n - 1, b, a, c)\n",
        "sum = 1\n",
        "for i in range(n - 1):\n",
        "    sum = sum * 2 + 1\n",
        "print(sum)\n",
        "hanoi(n, 1, 2, 3)"
      ],
      "execution_count": 0,
      "outputs": [
        {
          "output_type": "stream",
          "text": [
            "3\n",
            "7\n",
            "1 3\n",
            "1 2\n",
            "3 2\n",
            "1 3\n",
            "2 1\n",
            "2 3\n",
            "1 3\n"
          ],
          "name": "stdout"
        }
      ]
    },
    {
      "cell_type": "code",
      "metadata": {
        "id": "vFTOdw-mG5Cr",
        "colab_type": "code",
        "outputId": "97c3ccc2-e649-4e55-b535-bfe96b13c152",
        "colab": {
          "base_uri": "https://localhost:8080/",
          "height": 71
        }
      },
      "source": [
        "# 2798\n",
        "n, m = map(int, input().split())\n",
        "card_list = list(map(int, input().split()))\n",
        "sums = []\n",
        "\n",
        "def jack(n, m):\n",
        "  for i in range(0, n):\n",
        "    a = card_list[i]\n",
        "    for j in range(i + 1, n):\n",
        "      b = card_list[j]\n",
        "      for k in range(j + 1, n):\n",
        "        c = card_list[k]\n",
        "        if a+b+c <= m:\n",
        "          sums.append(a+b+c)\n",
        "  print(max(sums))\n",
        "\n",
        "jack(n, m)"
      ],
      "execution_count": 0,
      "outputs": [
        {
          "output_type": "stream",
          "text": [
            "5 21\n",
            "5 6 7 8 9\n",
            "21\n"
          ],
          "name": "stdout"
        }
      ]
    },
    {
      "cell_type": "code",
      "metadata": {
        "id": "fRmMCOKLJFC8",
        "colab_type": "code",
        "outputId": "5f59eaa1-e558-4fe1-cc42-5396c6cca57b",
        "colab": {
          "base_uri": "https://localhost:8080/",
          "height": 53
        }
      },
      "source": [
        "# 2231\n",
        "n = int(input())\n",
        "generaters = []\n",
        "\n",
        "def generater(n):\n",
        "  str_n = list(str(n))\n",
        "  for i in range(n - len(str_n)*9, n):\n",
        "\n",
        "    s = 0\n",
        "    for j in list(str(i)):\n",
        "      s += int(j)\n",
        "\n",
        "    if s + i == n:\n",
        "      generaters.append(i)\n",
        "\n",
        "generater(n)\n",
        "print(min(generaters))"
      ],
      "execution_count": 0,
      "outputs": [
        {
          "output_type": "stream",
          "text": [
            "216\n",
            "198\n"
          ],
          "name": "stdout"
        }
      ]
    }
  ]
}