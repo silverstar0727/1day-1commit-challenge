{
  "nbformat": 4,
  "nbformat_minor": 0,
  "metadata": {
    "colab": {
      "name": "Untitled1.ipynb",
      "provenance": [],
      "authorship_tag": "ABX9TyNUgvh1xDNWK3PSHFvofeJ7",
      "include_colab_link": true
    },
    "kernelspec": {
      "name": "python3",
      "display_name": "Python 3"
    }
  },
  "cells": [
    {
      "cell_type": "markdown",
      "metadata": {
        "id": "view-in-github",
        "colab_type": "text"
      },
      "source": [
        "<a href=\"https://colab.research.google.com/github/silverstar0727/1day-1commit-challenge/blob/master/Untitled1.ipynb\" target=\"_parent\"><img src=\"https://colab.research.google.com/assets/colab-badge.svg\" alt=\"Open In Colab\"/></a>"
      ]
    },
    {
      "cell_type": "code",
      "metadata": {
        "id": "9QjEWa7xgPxK",
        "colab_type": "code",
        "colab": {}
      },
      "source": [
        ""
      ],
      "execution_count": 0,
      "outputs": []
    },
    {
      "cell_type": "code",
      "metadata": {
        "id": "c41X9olIbq1q",
        "colab_type": "code",
        "outputId": "fcc6d5bf-14e4-4f50-91e7-a1b84c2b755e",
        "colab": {
          "base_uri": "https://localhost:8080/",
          "height": 53
        }
      },
      "source": [
        "# 2869\n",
        "\n",
        "data = list(map(int, input().split()))\n",
        "A = data[0]\n",
        "B = data[1]\n",
        "V = data[2]\n",
        "height = 0\n",
        "days = 0\n",
        "\n",
        "while height == V:\n",
        "  days += 1\n",
        "  height += A\n",
        "  if height == V:\n",
        "    break\n",
        "  else:\n",
        "    height -= B\n",
        "\n",
        "print(days)"
      ],
      "execution_count": 0,
      "outputs": [
        {
          "output_type": "stream",
          "text": [
            "2 1 5\n",
            "0\n"
          ],
          "name": "stdout"
        }
      ]
    },
    {
      "cell_type": "code",
      "metadata": {
        "id": "pJP2SG2xeKQj",
        "colab_type": "code",
        "outputId": "b27e0f1f-30fc-4a87-e9a9-1784c55ff9e2",
        "colab": {
          "base_uri": "https://localhost:8080/",
          "height": 53
        }
      },
      "source": [
        "# 2869 \n",
        "# 다른풀이\n",
        "A, B, V = list(map(int, input().split()))\n",
        "print((V - B - 1) // (A - B) + 1)"
      ],
      "execution_count": 0,
      "outputs": [
        {
          "output_type": "stream",
          "text": [
            "2 1 5\n",
            "4\n"
          ],
          "name": "stdout"
        }
      ]
    },
    {
      "cell_type": "code",
      "metadata": {
        "id": "oWgInjf6fLAR",
        "colab_type": "code",
        "outputId": "9cd4d0b0-3ebc-4e36-e35a-d2555c3c3e06",
        "colab": {
          "base_uri": "https://localhost:8080/",
          "height": 226
        }
      },
      "source": [
        "# 2869\n",
        "# 다른풀이\n",
        "import sys \n",
        "def solution(morning, night, tree): \n",
        "  if morning >= tree: \n",
        "    return 1 \n",
        "    delta = (morning - night) \n",
        "    day = (tree - morning) // delta \n",
        "\n",
        "  if (tree - morning) % delta == 0: \n",
        "    return day + 1 \n",
        "  else: \n",
        "    return day + 2 \n",
        "        \n",
        "\n",
        "if __name__ == \"__main__\": \n",
        "  a, b, v = map(int, sys.stdin.readline().split()) \n",
        "  print(solution(a, b, v))"
      ],
      "execution_count": 0,
      "outputs": [
        {
          "output_type": "error",
          "ename": "ValueError",
          "evalue": "ignored",
          "traceback": [
            "\u001b[0;31m---------------------------------------------------------------------------\u001b[0m",
            "\u001b[0;31mValueError\u001b[0m                                Traceback (most recent call last)",
            "\u001b[0;32m<ipython-input-15-e367b85d8c63>\u001b[0m in \u001b[0;36m<module>\u001b[0;34m()\u001b[0m\n\u001b[1;32m     13\u001b[0m \u001b[0;34m\u001b[0m\u001b[0m\n\u001b[1;32m     14\u001b[0m \u001b[0;32mif\u001b[0m \u001b[0m__name__\u001b[0m \u001b[0;34m==\u001b[0m \u001b[0;34m\"__main__\"\u001b[0m\u001b[0;34m:\u001b[0m\u001b[0;34m\u001b[0m\u001b[0;34m\u001b[0m\u001b[0m\n\u001b[0;32m---> 15\u001b[0;31m   \u001b[0ma\u001b[0m\u001b[0;34m,\u001b[0m \u001b[0mb\u001b[0m\u001b[0;34m,\u001b[0m \u001b[0mv\u001b[0m \u001b[0;34m=\u001b[0m \u001b[0mmap\u001b[0m\u001b[0;34m(\u001b[0m\u001b[0mint\u001b[0m\u001b[0;34m,\u001b[0m \u001b[0msys\u001b[0m\u001b[0;34m.\u001b[0m\u001b[0mstdin\u001b[0m\u001b[0;34m.\u001b[0m\u001b[0mreadline\u001b[0m\u001b[0;34m(\u001b[0m\u001b[0;34m)\u001b[0m\u001b[0;34m.\u001b[0m\u001b[0msplit\u001b[0m\u001b[0;34m(\u001b[0m\u001b[0;34m)\u001b[0m\u001b[0;34m)\u001b[0m\u001b[0;34m\u001b[0m\u001b[0;34m\u001b[0m\u001b[0m\n\u001b[0m\u001b[1;32m     16\u001b[0m   \u001b[0mprint\u001b[0m\u001b[0;34m(\u001b[0m\u001b[0msolution\u001b[0m\u001b[0;34m(\u001b[0m\u001b[0ma\u001b[0m\u001b[0;34m,\u001b[0m \u001b[0mb\u001b[0m\u001b[0;34m,\u001b[0m \u001b[0mv\u001b[0m\u001b[0;34m)\u001b[0m\u001b[0;34m)\u001b[0m\u001b[0;34m\u001b[0m\u001b[0;34m\u001b[0m\u001b[0m\n",
            "\u001b[0;31mValueError\u001b[0m: not enough values to unpack (expected 3, got 0)"
          ]
        }
      ]
    },
    {
      "cell_type": "code",
      "metadata": {
        "id": "SYULv_zefmaG",
        "colab_type": "code",
        "colab": {}
      },
      "source": [
        "# 10250\n",
        "t = int(input())\n",
        "for i in range(t):\n",
        "    h, w, n = map(int, input().split())\n",
        "    f = 0\n",
        "    ho = 0\n",
        "    if n % h == 0:\n",
        "        f = h * 100\n",
        "        ho = n // h\n",
        "    else:\n",
        "        f = (n % h) * 100\n",
        "        ho = 1 + n // h\n",
        "    print(f + ho)"
      ],
      "execution_count": 0,
      "outputs": []
    },
    {
      "cell_type": "code",
      "metadata": {
        "id": "bKlmDcOighuq",
        "colab_type": "code",
        "outputId": "a76a5a4f-a12e-49f3-ca48-f8dd35afb420",
        "colab": {
          "base_uri": "https://localhost:8080/",
          "height": 143
        }
      },
      "source": [
        "# 2775\n",
        "T = int(input())\n",
        "for _ in range(T):\n",
        "  k = int(input())\n",
        "  n = int(input())\n",
        "  people = [i for i in range(1, n+1)]\n",
        "  for __ in range(k):\n",
        "    for j in range(1, n):\n",
        "      people[j] += people[j - 1]\n",
        "\n",
        "  print(people[-1])"
      ],
      "execution_count": 0,
      "outputs": [
        {
          "output_type": "stream",
          "text": [
            "2\n",
            "1\n",
            "3\n",
            "6\n",
            "2\n",
            "3\n",
            "10\n"
          ],
          "name": "stdout"
        }
      ]
    },
    {
      "cell_type": "code",
      "metadata": {
        "id": "g1mQsJKWnV3X",
        "colab_type": "code",
        "colab": {}
      },
      "source": [
        "# 1011\n",
        "n = int(input())\n",
        "\n",
        "for i in range(n):\n",
        "  x, y = map(int, input().split())\n",
        "  z = y - b\n",
        "  num = 1\n",
        "  while True:\n",
        "    if num ** 2 <= z < (num + 1) ** 2:\n",
        "      break\n",
        "    num += 1\n",
        "  if num ** 2 == c:\n",
        "    print((num * 2) + 1)\n",
        "  elif num ** 2 < c <= num ** 2 + num:\n",
        "    print(num * 2)\n",
        "  else:\n",
        "     print((num * 2) + 1)"
      ],
      "execution_count": 0,
      "outputs": []
    }
  ]
}