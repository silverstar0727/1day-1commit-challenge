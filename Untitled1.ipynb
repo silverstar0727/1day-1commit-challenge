{
  "nbformat": 4,
  "nbformat_minor": 0,
  "metadata": {
    "colab": {
      "name": "Untitled1.ipynb",
      "provenance": [],
      "collapsed_sections": [],
      "authorship_tag": "ABX9TyO3F4jT+mJ1UYEyOwCS6Hey",
      "include_colab_link": true
    },
    "kernelspec": {
      "name": "python3",
      "display_name": "Python 3"
    }
  },
  "cells": [
    {
      "cell_type": "markdown",
      "metadata": {
        "id": "view-in-github",
        "colab_type": "text"
      },
      "source": [
        "<a href=\"https://colab.research.google.com/github/silverstar0727/1day-1commit-challenge/blob/master/Untitled1.ipynb\" target=\"_parent\"><img src=\"https://colab.research.google.com/assets/colab-badge.svg\" alt=\"Open In Colab\"/></a>"
      ]
    },
    {
      "cell_type": "code",
      "metadata": {
        "id": "ueKa3EnTjCnn",
        "colab_type": "code",
        "colab": {}
      },
      "source": [
        ""
      ],
      "execution_count": 0,
      "outputs": []
    },
    {
      "cell_type": "code",
      "metadata": {
        "id": "_WAAHsnPzouY",
        "colab_type": "code",
        "outputId": "a0f4a61a-b564-44e3-a9b2-c747414d722b",
        "colab": {
          "base_uri": "https://localhost:8080/",
          "height": 53
        }
      },
      "source": [
        "# 1157\n",
        "# np.unique보다는 set을 사용해보자\n",
        "# count를 사용하여 효과적으로 개수를 세보자\n",
        "words = input().lower()\n",
        "words_list = list(set(words))\n",
        "word_count = list()\n",
        "\n",
        "for i in words_list:\n",
        "    count = words.count(i)\n",
        "    word_count.append(count)\n",
        "\n",
        "if(word_count.count(max(word_count)) >= 2):\n",
        "    print('?')\n",
        "else:\n",
        "    print(words_list[(word_count.index(max(word_count)))].upper())\n"
      ],
      "execution_count": 0,
      "outputs": [
        {
          "output_type": "stream",
          "text": [
            "Mississipi\n",
            "?\n"
          ],
          "name": "stdout"
        }
      ]
    },
    {
      "cell_type": "code",
      "metadata": {
        "id": "-iACk9vr0kdh",
        "colab_type": "code",
        "outputId": "b1c98900-0394-48df-b47b-280b55f834d7",
        "colab": {
          "base_uri": "https://localhost:8080/",
          "height": 53
        }
      },
      "source": [
        "# 1152\n",
        "data = input().split()\n",
        "print(len(data))"
      ],
      "execution_count": 0,
      "outputs": [
        {
          "output_type": "stream",
          "text": [
            "The Curious Case of Benjamin Button\n"
          ],
          "name": "stdout"
        },
        {
          "output_type": "execute_result",
          "data": {
            "text/plain": [
              "6"
            ]
          },
          "metadata": {
            "tags": []
          },
          "execution_count": 2
        }
      ]
    },
    {
      "cell_type": "code",
      "metadata": {
        "id": "Xfv-qYyJpCB9",
        "colab_type": "code",
        "outputId": "bd450788-9f1a-47cc-ff23-06703ca4db08",
        "colab": {
          "base_uri": "https://localhost:8080/",
          "height": 53
        }
      },
      "source": [
        "# 2908\n",
        "data = input().split()\n",
        "num_1 = list(str(data[0]))\n",
        "num_2 = list(str(data[1]))\n",
        "\n",
        "num1 = []\n",
        "num2 = []\n",
        "for i in range(2, -1, -1):\n",
        "  num1.append(num_1[i])\n",
        "\n",
        "for j in range(2, -1, -1):\n",
        "  num2.append(num_2[j])\n",
        "\n",
        "num1 = list(map(int, num1))\n",
        "num2 = list(map(int, num2))\n",
        "\n",
        "a = num1[0] * 100 + num1[1] * 10 + num1[2]\n",
        "b = num2[0] * 100 + num2[1] * 10 + num2[2]\n",
        "\n",
        "numbers = [a, b]\n",
        "print(max(numbers))"
      ],
      "execution_count": 0,
      "outputs": [
        {
          "output_type": "stream",
          "text": [
            "734 893\n",
            "437\n"
          ],
          "name": "stdout"
        }
      ]
    },
    {
      "cell_type": "code",
      "metadata": {
        "id": "_34VVV5pxw58",
        "colab_type": "code",
        "colab": {}
      },
      "source": [
        "# 5622\n",
        "words = input().lower()\n",
        "s = ['abc','def','ghi','jkl','mno','pqrs','tuv','wxyz']\n",
        "\n",
        "time = 0\n",
        "for i in range(len(words)):\n",
        "    for j in s:\n",
        "        if(words[i] in j):\n",
        "            time += s.index(j) + 3\n",
        "print(time)"
      ],
      "execution_count": 0,
      "outputs": []
    },
    {
      "cell_type": "code",
      "metadata": {
        "id": "AoADayr01AnX",
        "colab_type": "code",
        "outputId": "21ffcd2a-05d2-4a95-ecfc-b23d18401025",
        "colab": {
          "base_uri": "https://localhost:8080/",
          "height": 53
        }
      },
      "source": [
        "# 2941\n",
        "# replace를 사용하자\n",
        "a = ['c=', 'c-', 'dz=', 'd-', 'lj', 'nj', 's=', 'z='] \n",
        "alpha = input() \n",
        "\n",
        "for t in a: alpha = alpha.replace(t, '*') \n",
        "print(len(alpha))"
      ],
      "execution_count": 0,
      "outputs": [
        {
          "output_type": "stream",
          "text": [
            "ljes=njak\n",
            "6\n"
          ],
          "name": "stdout"
        }
      ]
    }
  ]
}