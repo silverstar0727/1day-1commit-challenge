{
  "nbformat": 4,
  "nbformat_minor": 0,
  "metadata": {
    "colab": {
      "name": "Untitled1.ipynb",
      "provenance": [],
      "authorship_tag": "ABX9TyOqNjSo6AGim56ZWJhsJHdj",
      "include_colab_link": true
    },
    "kernelspec": {
      "name": "python3",
      "display_name": "Python 3"
    }
  },
  "cells": [
    {
      "cell_type": "markdown",
      "metadata": {
        "id": "view-in-github",
        "colab_type": "text"
      },
      "source": [
        "<a href=\"https://colab.research.google.com/github/silverstar0727/1day-1commit-challenge/blob/master/Untitled1.ipynb\" target=\"_parent\"><img src=\"https://colab.research.google.com/assets/colab-badge.svg\" alt=\"Open In Colab\"/></a>"
      ]
    },
    {
      "cell_type": "code",
      "metadata": {
        "id": "FzdCyjYsfU5h",
        "colab_type": "code",
        "colab": {}
      },
      "source": [
        ""
      ],
      "execution_count": 0,
      "outputs": []
    },
    {
      "cell_type": "code",
      "metadata": {
        "id": "X5O4-_QLBoZw",
        "colab_type": "code",
        "outputId": "002b8327-ebae-4f94-aaf8-51118370d1ed",
        "colab": {
          "base_uri": "https://localhost:8080/",
          "height": 215
        }
      },
      "source": [
        "# 2750\n",
        "data = []\n",
        "n = int(input())\n",
        "for i in range(n):\n",
        "  k = int(input())\n",
        "  data.append(k)\n",
        "\n",
        "data.sort()\n",
        "for i in data:\n",
        "  print(i)"
      ],
      "execution_count": 0,
      "outputs": [
        {
          "output_type": "stream",
          "text": [
            "5\n",
            "5\n",
            "2\n",
            "3\n",
            "4\n",
            "1\n",
            "1\n",
            "2\n",
            "3\n",
            "4\n",
            "5\n"
          ],
          "name": "stdout"
        }
      ]
    },
    {
      "cell_type": "code",
      "metadata": {
        "id": "2Gw0AJ1SjFVl",
        "colab_type": "code",
        "colab": {}
      },
      "source": [
        "# 10989\n",
        "# 메모리초과 실패\n",
        "n = int(input())\n",
        "series = [input() for n in range(n)]\n",
        "\n",
        "sorted_series = sorted(series)\n",
        "\n",
        "for i in sorted_series:\n",
        "  print(i)"
      ],
      "execution_count": 0,
      "outputs": []
    },
    {
      "cell_type": "code",
      "metadata": {
        "id": "vNkR0GQKjHeO",
        "colab_type": "code",
        "colab": {}
      },
      "source": [
        "# 10989\n",
        "# 다시 초과...\n",
        "n = int(input())\n",
        "\n",
        "if n <= 10000000:\n",
        "  \n",
        "  series = []\n",
        "  while len(series) != n:\n",
        "    a = int(input())\n",
        "    if a<= 10000:\n",
        "      series.append(a)\n",
        "\n",
        "  sorted_series = sorted(series)\n",
        "  for i in sorted_series:\n",
        "    print(i)"
      ],
      "execution_count": 0,
      "outputs": []
    },
    {
      "cell_type": "code",
      "metadata": {
        "id": "IWaA_qFEjHY4",
        "colab_type": "code",
        "colab": {}
      },
      "source": [
        "# 10989\n",
        "# 또,,, 또 초과\n",
        "n = int(input())\n",
        "series = [None] * 10000000\n",
        "\n",
        "for i in range(n):\n",
        "  a = int(input())\n",
        "  series[a] = a\n",
        "\n",
        "abc = [b for b in series if b != None]\n",
        "\n",
        "for i in abc:\n",
        "  print(i)"
      ],
      "execution_count": 0,
      "outputs": []
    },
    {
      "cell_type": "code",
      "metadata": {
        "id": "YRSFbvc7lugz",
        "colab_type": "code",
        "colab": {}
      },
      "source": [
        "# 10989\n",
        "# 4번째 도전.. 그리고 메모리초과 그리고 실패..\n",
        "n = int(input())\n",
        "series = [None] * n\n",
        "\n",
        "for i in range(n):\n",
        "  series[i] = input()\n",
        "\n",
        "for j in range(2, n):\n",
        "  key = series[j]\n",
        "  i = j -1\n",
        "  while i > 0 and series[i]>key:\n",
        "    series[i + 1] = series[i]\n",
        "    i -= 1\n",
        "  series[i + 1] = key\n",
        "\n",
        "for num in series:\n",
        "  print(num)"
      ],
      "execution_count": 0,
      "outputs": []
    }
  ]
}